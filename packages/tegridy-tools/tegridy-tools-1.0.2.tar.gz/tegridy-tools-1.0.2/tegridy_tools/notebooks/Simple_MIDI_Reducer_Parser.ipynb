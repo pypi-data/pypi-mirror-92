{
  "nbformat": 4,
  "nbformat_minor": 0,
  "metadata": {
    "kernelspec": {
      "display_name": "Python 3",
      "language": "python",
      "name": "python3"
    },
    "language_info": {
      "codemirror_mode": {
        "name": "ipython",
        "version": 3
      },
      "file_extension": ".py",
      "mimetype": "text/x-python",
      "name": "python",
      "nbconvert_exporter": "python",
      "pygments_lexer": "ipython3",
      "version": "3.7.3"
    },
    "colab": {
      "name": "[Second Copy] Simple MIDI Reducer Parser.ipynb",
      "provenance": [],
      "private_outputs": true,
      "collapsed_sections": [],
      "toc_visible": true,
      "include_colab_link": true
    }
  },
  "cells": [
    {
      "cell_type": "markdown",
      "metadata": {
        "id": "view-in-github",
        "colab_type": "text"
      },
      "source": [
        "<a href=\"https://colab.research.google.com/github/asigalov61/Tegridy-MIDI-Dataset/blob/master/Simple_MIDI_Reducer_Parser.ipynb\" target=\"_parent\"><img src=\"https://colab.research.google.com/assets/colab-badge.svg\" alt=\"Open In Colab\"/></a>"
      ]
    },
    {
      "cell_type": "markdown",
      "metadata": {
        "id": "JNaXIu9FShxk"
      },
      "source": [
        "# Simple MIDI Reducer/Parser (Ver. 2.0)\n",
        "\n",
        "***\n",
        "\n",
        "### Created by Ravi A. and all credit goes out to him for his amazing and simple reducer code :)\n",
        "\n",
        "***"
      ]
    },
    {
      "cell_type": "markdown",
      "metadata": {
        "id": "pk4xFiYrS-6T"
      },
      "source": [
        "## Setup Environment and Dependencies"
      ]
    },
    {
      "cell_type": "code",
      "metadata": {
        "id": "BpF4_pVTRP7G",
        "cellView": "form"
      },
      "source": [
        "#@title Install Pretty MIDI\n",
        "!pip install pretty_midi"
      ],
      "execution_count": null,
      "outputs": []
    },
    {
      "cell_type": "code",
      "metadata": {
        "id": "NhLXIQ8UyPTd",
        "cellView": "form"
      },
      "source": [
        "#@title Import Modules and Create IO dirs\n",
        "\n",
        "import pretty_midi\n",
        "import glob\n",
        "import os\n",
        "import random\n",
        "import tqdm.auto\n",
        "import IPython.display as ipd\n",
        "from google.colab import drive\n",
        "\n",
        "#@title Choose names for Source and Destination folders for conversion\n",
        "source_dir = \"/content/S\" #@param {type:\"string\"}\n",
        "dest_dir = \"/content/D\" #@param {type:\"string\"}\n",
        "source_path = source_dir\n",
        "dest_path = dest_dir\n",
        "if not os.path.exists(source_path):\n",
        "    os.makedirs(source_path)\n",
        "if not os.path.exists(dest_path):\n",
        "    os.makedirs(dest_path)"
      ],
      "execution_count": null,
      "outputs": []
    },
    {
      "cell_type": "code",
      "metadata": {
        "id": "rQuH1i7EUHwx",
        "cellView": "form"
      },
      "source": [
        "#@title (Optional) Download and Unzip Alex MIDI Dataset (~400 MIDIs)\n",
        "%cd /content/S\n",
        "!wget 'https://github.com/asigalov61/AlexMIDIDataSet/raw/master/AlexMIDIDataSet-CC-BY-NC-SA.zip'\n",
        "!unzip -j 'AlexMIDIDataSet-CC-BY-NC-SA.zip'\n",
        "!rm 'AlexMIDIDataSet-CC-BY-NC-SA.zip'\n",
        "%cd /content/"
      ],
      "execution_count": null,
      "outputs": []
    },
    {
      "cell_type": "code",
      "metadata": {
        "id": "TQap-0eiuu7x",
        "cellView": "form"
      },
      "source": [
        "#@title (Optional) Download and Unzip Tegridy Special MIDI Dataset (Piano/Violin only)\n",
        "%cd /content/S\n",
        "!wget 'https://github.com/asigalov61/Tegridy-MIDI-Dataset/raw/master/Tegridy-MIDI-Dataset-CC-BY-NC-SA.zip'\n",
        "!unzip -j 'Tegridy-MIDI-Dataset-CC-BY-NC-SA.zip'\n",
        "!rm 'Tegridy-MIDI-Dataset-CC-BY-NC-SA.zip'\n",
        "%cd /content/"
      ],
      "execution_count": null,
      "outputs": []
    },
    {
      "cell_type": "markdown",
      "metadata": {
        "id": "xUJjW9q7Zo1t"
      },
      "source": [
        "### Reducer-Parser-Filter Loop/Main Function"
      ]
    },
    {
      "cell_type": "code",
      "metadata": {
        "id": "rdToB-pcyPT7",
        "cellView": "form"
      },
      "source": [
        "#@title Run this to reduce/filter all files. Choose Extensions, Name Tag, MIDI Patch Instrument Name (refer to the list at the end of the colab), and drums/debug options.\n",
        "input_files_extension = \"*.mid\" #@param [\"*.mid\", \"*.midi\", \"*.kar\", \"*.*\"]\n",
        "output_extension = \".mid\" #@param {type:\"string\"}\n",
        "output_files_names_tag = \"_piano_only.mid\" #@param {type:\"string\"}\n",
        "desired_instrument_to_reduce_to = \"Acoustic Grand Piano\" #@param {type:\"string\"}\n",
        "is_it_drums = False #@param {type:\"boolean\"}\n",
        "debug = False #@param {type:\"boolean\"}\n",
        "\n",
        "if not os.path.exists(dest_path):\n",
        "    os.makedirs(dest_path)\n",
        "\n",
        "# Create a list of paths and files. Select desired MIDI extension\n",
        "source_files = glob.glob(os.path.join(source_path, input_files_extension))\n",
        "if debug: print(source_files)\n",
        "\n",
        "# Define reducer/parser function and input desired instrument to reduce to { run: \"auto\", display-mode: \"form\" }\n",
        "\n",
        "def filter_instrument(fname):\n",
        "    pm = pretty_midi.PrettyMIDI(fname)\n",
        "    outmid = pretty_midi.PrettyMIDI()\n",
        "    inst = pretty_midi.Instrument(program=pretty_midi.instrument_name_to_program(desired_instrument_to_reduce_to), is_drum=is_it_drums, name=desired_instrument_to_reduce_to)\n",
        "    outmid.instruments.append(inst)\n",
        "    added=0\n",
        "    if debug: print('Reducing to program number:', pretty_midi.instrument_name_to_program(desired_instrument_to_reduce_to))\n",
        "    for instrument in pm.instruments:\n",
        "        if instrument.program == pretty_midi.instrument_name_to_program(desired_instrument_to_reduce_to) and not instrument.is_drum:\n",
        "            if debug: print('Adding', instrument)\n",
        "            added+=1\n",
        "            for note in instrument.notes:\n",
        "                inst.notes.append(note)\n",
        "        else:\n",
        "            if debug: print('Skipping', instrument)\n",
        "    \n",
        "            return pm, outmid, added\n",
        "\n",
        "print('Starting up...')\n",
        "print('Reducing to', desired_instrument_to_reduce_to)\n",
        "for fname in tqdm.auto.tqdm(source_files):\n",
        "       if debug: print(\"Reading:\", fname)\n",
        "       try:\n",
        "          pm, outmid, added = filter_instrument(fname)\n",
        "          if added>0:\n",
        "            outname = fname.replace(output_extension, output_files_names_tag).replace(source_path, dest_path)\n",
        "            outmid.write(outname)\n",
        "       except KeyboardInterrupt:\n",
        "           break\n",
        "       except:\n",
        "         continue\n"
      ],
      "execution_count": null,
      "outputs": []
    },
    {
      "cell_type": "markdown",
      "metadata": {
        "id": "Rru4HaPF76m9"
      },
      "source": [
        "### Zip everything (root/content directory) for download :)"
      ]
    },
    {
      "cell_type": "code",
      "metadata": {
        "id": "vc6O8jTU8BHd",
        "cellView": "form"
      },
      "source": [
        "#@title Zip Root\n",
        "%cd /content/\n",
        "!zip -r /content/Simple-MIDI-Reducer-Parser-Output.zip /content/D/"
      ],
      "execution_count": null,
      "outputs": []
    },
    {
      "cell_type": "code",
      "metadata": {
        "id": "KT5YIZDus7jt",
        "cellView": "form"
      },
      "source": [
        "#@title Mount Google Drive (Standard GD Connect Code)\n",
        "drive.mount('/content/drive')"
      ],
      "execution_count": null,
      "outputs": []
    },
    {
      "cell_type": "code",
      "metadata": {
        "id": "O-kgQTwi96W_",
        "cellView": "form"
      },
      "source": [
        "#@title Dismount Google Drive if you need to zip the root\n",
        "from google.colab import drive\n",
        "drive.flush_and_unmount()"
      ],
      "execution_count": null,
      "outputs": []
    },
    {
      "cell_type": "markdown",
      "metadata": {
        "id": "UdxFsZDVhD_2"
      },
      "source": [
        "***\n",
        "# General MIDI patch numbers\n",
        "\n",
        "https://www.midi.org/specifications-old/item/gm-level-1-sound-set\n",
        "\n",
        "***\n",
        "\n",
        "## General MIDI Level 1 Instrument Families\n",
        "\n",
        "### The General MIDI Level 1 instrument sounds are grouped by families. In each family are 8 specific instruments.\n",
        "\n",
        "***\n",
        "\n",
        "## PC #\tFamily Name\n",
        "\n",
        "1-8\tPiano\n",
        "\n",
        "9-16\tChromatic Percussion\n",
        "\n",
        "17-24\tOrgan\n",
        "\n",
        "25-32\tGuitar\n",
        "\n",
        "33-40\tBass\n",
        "\n",
        "41-48\tStrings\n",
        "\n",
        "49-56\tEnsemble\n",
        "\n",
        "57-64\tBrass\n",
        "\n",
        "65-72\tReed\n",
        "\n",
        "73-80\tPipe\n",
        "\n",
        "81-88\tSynth Lead\n",
        "\n",
        "89-96\tSynth Pad\n",
        "\n",
        "97-104\tSynth Effects\n",
        "\n",
        "105-112\tEthnic\n",
        "\n",
        "113-120\tPercussive\n",
        "\n",
        "121-128\tSound Effects\n",
        "\n",
        "***\n",
        "\n",
        "Note: While GM1 does not define the actual characteristics of any sounds, the names in parentheses after each of the synth leads, pads, and sound effects are, in particular, intended only as guides).\n",
        "\n",
        "***\n",
        "\n",
        "### PC #\tInstrument Name\n",
        "#### Subtract 1 from the instrument index number below to get the MIDI patch number\n",
        "1.\tAcoustic Grand Piano\n",
        "2.\tBright Acoustic Piano\n",
        "3.\tElectric Grand Piano\n",
        "4.\tHonky-tonk Piano\n",
        "5.\tElectric Piano 1\n",
        "6.\tElectric Piano 2\n",
        "7.\tHarpsichord\n",
        "8.\tClavi\n",
        "9.\tCelesta\n",
        "10.\tGlockenspiel\n",
        "11.\tMusic Box\n",
        "12.\tVibraphone\n",
        "13.\tMarimba\n",
        "14.\tXylophone\n",
        "15.\tTubular Bells\n",
        "16.\tDulcimer\n",
        "17.\tDrawbar Organ\n",
        "18.\tPercussive Organ\n",
        "19.\tRock Organ\n",
        "20.\tChurch Organ\n",
        "21.\tReed Organ\n",
        "22.\tAccordion\n",
        "23.\tHarmonica\n",
        "24.\tTango Accordion\n",
        "25.\tAcoustic Guitar (nylon)\n",
        "26.\tAcoustic Guitar (steel)\n",
        "27.\tElectric Guitar (jazz)\n",
        "28.\tElectric Guitar (clean)\n",
        "29.\tElectric Guitar (muted)\n",
        "30.\tOverdriven Guitar\n",
        "31.\tDistortion Guitar\n",
        "32.\tGuitar harmonics\n",
        "33.\tAcoustic Bass\n",
        "34.\tElectric Bass (finger)\n",
        "35.\tElectric Bass (pick)\n",
        "36.\tFretless Bass\n",
        "37.\tSlap Bass 1\n",
        "38.\tSlap Bass 2\n",
        "39.\tSynth Bass 1\n",
        "40.\tSynth Bass 2\n",
        "41.\tViolin\n",
        "42.\tViola\n",
        "43.\tCello\n",
        "44.\tContrabass\n",
        "45.\tTremolo Strings\n",
        "46.\tPizzicato Strings\n",
        "47.\tOrchestral Harp\n",
        "48.\tTimpani\n",
        "49.\tString Ensemble 1\n",
        "50.\tString Ensemble 2\n",
        "51.\tSynthStrings 1\n",
        "52.\tSynthStrings 2\n",
        "53.\tChoir Aahs\n",
        "54.\tVoice Oohs\n",
        "55.\tSynth Voice\n",
        "56.\tOrchestra Hit\n",
        "57.\tTrumpet\n",
        "58.\tTrombone\n",
        "59.\tTuba\n",
        "60.\tMuted Trumpet\n",
        "61.\tFrench Horn\n",
        "62.\tBrass Section\n",
        "63.\tSynthBrass 1\n",
        "64.\tSynthBrass 2\n",
        "65.\tSoprano Sax\n",
        "66.\tAlto Sax\n",
        "67.\tTenor Sax\n",
        "68.\tBaritone Sax\n",
        "69.\tOboe\n",
        "70.\tEnglish Horn\n",
        "71.\tBassoon\n",
        "72.\tClarinet\n",
        "73.\tPiccolo\n",
        "74.\tFlute\n",
        "75.\tRecorder\n",
        "76.\tPan Flute\n",
        "77.\tBlown Bottle\n",
        "78.\tShakuhachi\n",
        "79.\tWhistle\n",
        "80.\tOcarina\n",
        "81.\tLead 1 (square)\n",
        "82.\tLead 2 (sawtooth)\n",
        "83.\tLead 3 (calliope)\n",
        "84.\tLead 4 (chiff)\n",
        "85.\tLead 5 (charang)\n",
        "86.\tLead 6 (voice)\n",
        "87.\tLead 7 (fifths)\n",
        "88.\tLead 8 (bass + lead)\n",
        "89.\tPad 1 (new age)\n",
        "90.\tPad 2 (warm)\n",
        "91.\tPad 3 (polysynth)\n",
        "92.\tPad 4 (choir)\n",
        "93.\tPad 5 (bowed)\n",
        "94.\tPad 6 (metallic)\n",
        "95.\tPad 7 (halo)\n",
        "96.\tPad 8 (sweep)\n",
        "97.\tFX 1 (rain)\n",
        "98.\tFX 2 (soundtrack)\n",
        "99.\tFX 3 (crystal)\n",
        "100.\tFX 4 (atmosphere)\n",
        "101.\tFX 5 (brightness)\n",
        "102.\tFX 6 (goblins)\n",
        "103.\tFX 7 (echoes)\n",
        "104.\tFX 8 (sci-fi)\n",
        "105.\tSitar\n",
        "106.\tBanjo\n",
        "107.\tShamisen\n",
        "108.\tKoto\n",
        "109.\tKalimba\n",
        "110.\tBag pipe\n",
        "111.\tFiddle\n",
        "112.\tShanai\n",
        "113.\tTinkle Bell\n",
        "114.\tAgogo\n",
        "115.\tSteel Drums\n",
        "116.\tWoodblock\n",
        "117.\tTaiko Drum\n",
        "118.\tMelodic Tom\n",
        "119.\tSynth Drum\n",
        "120.\tReverse Cymbal\n",
        "121.\tGuitar Fret Noise\n",
        "122.\tBreath Noise\n",
        "123.\tSeashore\n",
        "124.\tBird Tweet\n",
        "125.\tTelephone Ring\n",
        "126.\tHelicopter\n",
        "127.\tApplause\n",
        "128.\tGunshot\n",
        "\n",
        "\n"
      ]
    }
  ]
}