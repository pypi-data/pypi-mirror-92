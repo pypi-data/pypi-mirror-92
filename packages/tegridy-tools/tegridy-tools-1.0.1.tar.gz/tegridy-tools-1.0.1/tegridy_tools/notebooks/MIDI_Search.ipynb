{
  "nbformat": 4,
  "nbformat_minor": 0,
  "metadata": {
    "kernelspec": {
      "display_name": "Python 3",
      "language": "python",
      "name": "python3"
    },
    "language_info": {
      "codemirror_mode": {
        "name": "ipython",
        "version": 3
      },
      "file_extension": ".py",
      "mimetype": "text/x-python",
      "name": "python",
      "nbconvert_exporter": "python",
      "pygments_lexer": "ipython3",
      "version": "3.8.5"
    },
    "colab": {
      "name": "MIDI_Search.ipynb",
      "private_outputs": true,
      "provenance": [],
      "collapsed_sections": [],
      "machine_shape": "hm"
    }
  },
  "cells": [
    {
      "cell_type": "markdown",
      "metadata": {
        "id": "QA0W-VK1JVQl"
      },
      "source": [
        "# MIDI Search (Ver 1.3)\n",
        "\n",
        "***\n",
        "\n",
        "## MIDI Search/Plagiarizm checker\n",
        "\n",
        "***\n",
        "\n",
        "#### Project Los Angeles\n",
        "\n",
        "#### Tegridy Code 2021\n",
        "\n",
        "***"
      ]
    },
    {
      "cell_type": "markdown",
      "metadata": {
        "id": "eftzIVKrqR5S"
      },
      "source": [
        "# Setup Environment, clone needed repos, and install all required dependencies"
      ]
    },
    {
      "cell_type": "code",
      "metadata": {
        "id": "HsUtsJGNz6f2",
        "cellView": "form"
      },
      "source": [
        "#@title Install all dependencies (run only once per session)\n",
        "!git clone https://github.com/asigalov61/tegridy-tools\n",
        "!apt install fluidsynth #Pip does not work for some reason. Only apt works\n",
        "!pip install midi2audio\n",
        "\n",
        "if not os.path.exists('/content/Dataset'):\n",
        "    os.makedirs('/content/Dataset')\n",
        "os.chdir('/content/')"
      ],
      "execution_count": null,
      "outputs": []
    },
    {
      "cell_type": "code",
      "metadata": {
        "id": "pf8B3p6QySmE",
        "cellView": "form"
      },
      "source": [
        "#@title Import all needed modules\n",
        "\n",
        "print('Loading needed modules. Please wait...')\n",
        "import os\n",
        "import copy\n",
        "import pickle\n",
        "\n",
        "os.chdir('/content/tegridy-tools/tegridy-tools')\n",
        "import TMIDI\n",
        "import MIDI\n",
        "\n",
        "import tqdm.auto\n",
        "\n",
        "from midi2audio import FluidSynth\n",
        "from IPython.display import display, Javascript, HTML, Audio\n",
        "\n",
        "from google.colab import output, drive\n",
        "\n",
        "chords_list_f = []\n",
        "melody_list_f = []\n",
        "\n",
        "os.chdir('/content/')\n",
        "print('Loading complete. Enjoy! :)')"
      ],
      "execution_count": null,
      "outputs": []
    },
    {
      "cell_type": "markdown",
      "metadata": {
        "id": "N2Pv5eNRqiyr"
      },
      "source": [
        "# Download and process desired MIDI datasets\r\n",
        "\r\n",
        "## PLEASE NOTE: You need to have at least 16GB free RAM to load large datasets"
      ]
    },
    {
      "cell_type": "code",
      "metadata": {
        "id": "lUiE4NDt0qIh",
        "cellView": "form"
      },
      "source": [
        "#@title Download complete (large) pre-processed MIDI datasets\r\n",
        "%cd /content/\r\n",
        "\r\n",
        "# POP909 dataset (Complete)\r\n",
        "# https://github.com/music-x-lab/POP909-Dataset\r\n",
        "!wget --no-check-certificate -O POP.zip \"https://onedrive.live.com/download?cid=8A0D502FC99C608F&resid=8A0D502FC99C608F%2118362&authkey=AD3_7eDWpgUhcaw\"\r\n",
        "!unzip POP.zip\r\n",
        "\r\n",
        "# Clean MIDI subset (Complete)\r\n",
        "# https://colinraffel.com/projects/lmd/\r\n",
        "# https://github.com/craffel/midi-dataset\r\n",
        "!wget --no-check-certificate -O clean_midi.zip \"https://onedrive.live.com/download?cid=8A0D502FC99C608F&resid=8A0D502FC99C608F%2118368&authkey=AAFEzC5YBABk7rA\"\r\n",
        "!unzip clean_midi.zip\r\n",
        "\r\n",
        "# Google MAESTRO Piano dataset (Complete)\r\n",
        "# https://magenta.tensorflow.org/datasets/maestro\r\n",
        "!wget --no-check-certificate -O MAESTRO.zip \"https://onedrive.live.com/download?cid=8A0D502FC99C608F&resid=8A0D502FC99C608F%2118370&authkey=ABxzaWHKIeN1e3A\"\r\n",
        "!unzip MAESTRO.zip\r\n",
        "\r\n",
        "# Reddit 30000 MIDIs subset (aka Melody Kit 1.0 by Melody Man)\r\n",
        "# All channels except the drums\r\n",
        "!wget --no-check-certificate -O 30000.zip \"https://onedrive.live.com/download?cid=8A0D502FC99C608F&resid=8A0D502FC99C608F%2118372&authkey=AFwTJaVZyiVuetY\"\r\n",
        "!unzip 30000.zip\r\n",
        "\r\n",
        "%cd /content/"
      ],
      "execution_count": null,
      "outputs": []
    },
    {
      "cell_type": "code",
      "metadata": {
        "id": "xxa-UIeRZrfR",
        "cellView": "form"
      },
      "source": [
        "#@title Load/Merge and parse the dataset\n",
        "\n",
        "full_path_to_the_dataset = \"/content/30000.pkl\" #@param {type:\"string\"}\n",
        "merge_several_datasets = False #@param {type:\"boolean\"}\n",
        "\n",
        "print('Loading the dataset...Please wait...')\n",
        "with open(full_path_to_the_dataset, 'rb') as filehandle:\n",
        "  MusicDataset = pickle.load(filehandle)\n",
        "\n",
        "if merge_several_datasets:\n",
        "  print('Merging datasets...Please wait...')\n",
        "  chords_list_f.extend(MusicDataset[0])\n",
        "  melody_list_f.extend(MusicDataset[1])\n",
        "\n",
        "else:\n",
        "  chords_list = MusicDataset[0]\n",
        "  melody_list_f = MusicDataset[1]\n",
        "\n",
        "chords_list_f = [ele for inner_list in chords_list for ele in inner_list]\n",
        "\n",
        "print('Parsing the dataset...Please wait...')\n",
        "chords_notes_list = []\n",
        "melody_notes_list = []\n",
        "\n",
        "for chord in chords_list_f:\n",
        "  chords_notes_list.append(chord[4])\n",
        "\n",
        "for note in melody_list_f:\n",
        "  melody_notes_list.append(note[4])\n",
        "\n",
        "print('Done!')\n",
        "\n",
        "print('Number of chords recorded:', len(MusicDataset[0]))\n",
        "print('The longest chord:', len(max(MusicDataset[0], key=len)), 'notes') \n",
        "print(max(MusicDataset[0], key=len))\n",
        "print('Number of recorded melody events:', len(melody_list_f))\n",
        "print('First melody event:', melody_list_f[0], 'Last Melody event:', melody_list_f[-1])\n",
        "print('Total number of MIDI events recorded:', len(MusicDataset[0])+len(melody_list_f))\n",
        "print('Dataset is loaded! Enjoy :)')"
      ],
      "execution_count": null,
      "outputs": []
    },
    {
      "cell_type": "markdown",
      "metadata": {
        "id": "-1ypXZoySkHJ"
      },
      "source": [
        "# If you are not sure where to start or what settings to select, please use original defaults"
      ]
    },
    {
      "cell_type": "code",
      "metadata": {
        "id": "bjGwbo9vkMg_",
        "cellView": "form"
      },
      "source": [
        "#@title Specify input MIDI file to search for\n",
        "full_path_to_input_MIDI_file = \"/content/tegridy-tools/tegridy-tools/seed.mid\" #@param {type:\"string\"}\n",
        "print('Loading the MIDI file...')\n",
        "c_l, m_l = TMIDI.Tegridy_MIDI_Processor(full_path_to_input_MIDI_file, \n",
        "                                              -1, \n",
        "                                              1,\n",
        "                                              )\n",
        "\n",
        "chordz = []\n",
        "melody = []\n",
        "\n",
        "for notez in m_l:\n",
        "  chordz.append([notez])\n",
        "  melody.append(notez)\n",
        "  for chord in c_l:\n",
        "    if notez[1] == chord[0][1]:\n",
        "      chordz.append(chord[1:])\n",
        "\n",
        "chords = [ele for inner_list in chordz for ele in inner_list]      \n",
        "      \n",
        "print('MIDI file loaded.')\n",
        "print('Total of', len(chords), 'notes.') \n",
        "print('Enjoy :)')"
      ],
      "execution_count": null,
      "outputs": []
    },
    {
      "cell_type": "code",
      "metadata": {
        "id": "20Nq-1fiXy4Q",
        "cellView": "form"
      },
      "source": [
        "#@title Initial Search\n",
        "number_of_notes_to_match = 5 #@param {type:\"slider\", min:2, max:10, step:1}\n",
        "\n",
        "output_song = []\n",
        "pattern = []\n",
        "\n",
        "print('Initial pattern search...')\n",
        "print('Loading input notes...')\n",
        "\n",
        "print('Input number of notes is', len(chords))\n",
        "output_song.extend(chords)\n",
        "\n",
        "for note in output_song[len(output_song)-number_of_notes_to_match:]:\n",
        "  pattern.append(note[4])\n",
        "\n",
        "#pattern = [69, 65, 66, 62, 63]\n",
        "\n",
        "print('Starting search...')\n",
        "print('Looking for pitches pattern', pattern)\n",
        "pattern_start_index = [i for i in range(0,len(chords_notes_list)) if list(chords_notes_list[i:i+len(pattern)])==pattern]\n",
        "\n",
        "if pattern_start_index == []:\n",
        "  print('Nothing found')\n",
        "else:\n",
        "  print('Found matching notes at index', pattern_start_index[0])"
      ],
      "execution_count": null,
      "outputs": []
    },
    {
      "cell_type": "code",
      "metadata": {
        "id": "GoNt_y4uqZuG",
        "cellView": "form"
      },
      "source": [
        "#@title Re-Search\r\n",
        "\r\n",
        "output_song = []\r\n",
        "pattern = []\r\n",
        "\r\n",
        "print('Pattern re-search...')\r\n",
        "\r\n",
        "try:\r\n",
        "  pidx = pattern_start_index[0]+number_of_notes_to_match\r\n",
        "except:\r\n",
        "  pass\r\n",
        "\r\n",
        "\r\n",
        "print('Loading input notes...')\r\n",
        "\r\n",
        "print('Input number of notes is', len(chords))\r\n",
        "output_song.extend(chords)\r\n",
        "\r\n",
        "for note in output_song[len(output_song)-number_of_notes_to_match:]:\r\n",
        "  pattern.append(note[4])\r\n",
        "\r\n",
        "#pattern = [69, 65, 66, 62, 63]\r\n",
        "\r\n",
        "print('Starting re-search...')\r\n",
        "print('Looking for pitches pattern', pattern)\r\n",
        "pattern_start_index = [i for i in range(pidx,len(chords_notes_list)) if list(chords_notes_list[i:i+len(pattern)])==pattern]\r\n",
        "\r\n",
        "if pattern_start_index == []:\r\n",
        "  print('Nothing found')\r\n",
        "else:\r\n",
        "  print('Found matching notes at index', pattern_start_index[0])"
      ],
      "execution_count": null,
      "outputs": []
    },
    {
      "cell_type": "markdown",
      "metadata": {
        "id": "FfgeQl8_rEox"
      },
      "source": [
        "# Generate, download, and listen to the output"
      ]
    },
    {
      "cell_type": "code",
      "metadata": {
        "id": "22qDcd4NO2bs",
        "cellView": "form"
      },
      "source": [
        "#@title Convert to MIDI\n",
        "#@markdown Standard MIDI timings are 400/120(80)\n",
        "\n",
        "number_of_ticks_per_quarter = 424 #@param {type:\"slider\", min:8, max:1000, step:8}\n",
        "number_of_notes_to_play = 300 #@param {type:\"slider\", min:10, max:500, step:10}\n",
        "simulate_velocity = True #@param {type:\"boolean\"}\n",
        "\n",
        "output_song = []\n",
        "\n",
        "for n in chords:\n",
        "  if simulate_velocity:\n",
        "    n[5] = n[4]\n",
        "  output_song.append(n)\n",
        "\n",
        "output_s = chords_list_f[pattern_start_index[0]+number_of_notes_to_match:pattern_start_index[0]+number_of_notes_to_play]\n",
        "delta = output_song[-1][1]\n",
        "out = copy.deepcopy(output_s)\n",
        "\n",
        "ptime = 0\n",
        "time = 0\n",
        "\n",
        "for n in range(len(out)-1):\n",
        "  no = copy.deepcopy(out[n])\n",
        "  no[1] = delta\n",
        "  if simulate_velocity:\n",
        "    no[5] = no[4]\n",
        "\n",
        "  output_song.append(no)\n",
        "  ptime = out[n][1]\n",
        "  time = out[n+1][1]\n",
        "  delta += time - ptime\n",
        "\n",
        "output_signature = 'MIDI Search'\n",
        "\n",
        "output_header = [number_of_ticks_per_quarter, [['track_name', 0, bytes(output_signature, 'utf-8')]]] \n",
        "\n",
        "list_of_MIDI_patches = [0, 24, 32, 40, 42, 46, 56, 71, 73, 0, 0, 0, 0, 0, 0, 0]                                                  \n",
        "\n",
        "patch_list = [['patch_change', 0, 0, list_of_MIDI_patches[0]], \n",
        "                ['patch_change', 0, 1, list_of_MIDI_patches[1]],\n",
        "                ['patch_change', 0, 2, list_of_MIDI_patches[2]],\n",
        "                ['patch_change', 0, 3, list_of_MIDI_patches[3]],\n",
        "                ['patch_change', 0, 4, list_of_MIDI_patches[4]],\n",
        "                ['patch_change', 0, 5, list_of_MIDI_patches[5]],\n",
        "                ['patch_change', 0, 6, list_of_MIDI_patches[6]],\n",
        "                ['patch_change', 0, 7, list_of_MIDI_patches[7]],\n",
        "                ['patch_change', 0, 8, list_of_MIDI_patches[8]],\n",
        "                ['patch_change', 0, 9, list_of_MIDI_patches[9]],\n",
        "                ['patch_change', 0, 10, list_of_MIDI_patches[10]],\n",
        "                ['patch_change', 0, 11, list_of_MIDI_patches[11]],\n",
        "                ['patch_change', 0, 12, list_of_MIDI_patches[12]],\n",
        "                ['patch_change', 0, 13, list_of_MIDI_patches[13]],\n",
        "                ['patch_change', 0, 14, list_of_MIDI_patches[14]],\n",
        "                ['patch_change', 0, 15, list_of_MIDI_patches[15]],\n",
        "                ['track_name', 0, bytes('Composition Track', 'utf-8')]]\n",
        "\n",
        "\n",
        "output = output_header + [patch_list + output_song]\n",
        "\n",
        "midi_data = MIDI.score2midi(output)\n",
        "detailed_MIDI_stats = MIDI.score2stats(output)\n",
        "\n",
        "with open('MIDI_Search' + '.mid', 'wb') as midi_file:\n",
        "    midi_file.write(midi_data)\n",
        "    midi_file.close()\n",
        "print('Done!')\n",
        "\n",
        "from google.colab import files\n",
        "files.download('MIDI_Search' + '.mid')\n",
        "print('Detailed MIDI stats:')\n",
        "detailed_MIDI_stats"
      ],
      "execution_count": null,
      "outputs": []
    },
    {
      "cell_type": "code",
      "metadata": {
        "id": "kILhoHR7JmmS",
        "cellView": "form"
      },
      "source": [
        "#@title Listen to the last generated composition\n",
        "#@markdown NOTE: May be very slow with the long compositions\n",
        "print('Synthesizing the last output MIDI. Please stand-by... ')\n",
        "FluidSynth(\"/usr/share/sounds/sf2/FluidR3_GM.sf2\", 16000).midi_to_audio(str('MIDI_Search' + '.mid'), str('MIDI_Search' + '.wav'))\n",
        "Audio(str('MIDI_Search' + '.wav'), rate=16000)"
      ],
      "execution_count": null,
      "outputs": []
    },
    {
      "cell_type": "markdown",
      "metadata": {
        "id": "2Snu3fb4N-Nd"
      },
      "source": [
        "# Congrats! :) You did it :)"
      ]
    },
    {
      "cell_type": "markdown",
      "metadata": {
        "id": "uGRj6gSw9iW_"
      },
      "source": [
        "## If you like you can create your own dataset here"
      ]
    },
    {
      "cell_type": "code",
      "metadata": {
        "cellView": "form",
        "id": "R9pN8M8U9hlk"
      },
      "source": [
        "#@title Process MIDIs to special MIDI dataset with Tegridy MIDI Processor\r\n",
        "#@markdown NOTES:\r\n",
        "\r\n",
        "#@markdown 3) MIDI Channel = -1 means all MIDI channels except the drums (Channel 9) will be processed. MIDI Channel = 16 means all channels will be processed. Otherwise, only one channel will be processed.\r\n",
        "\r\n",
        "full_path_to_output_dataset_to = \"/content/MIDI_Search_Dataset.pkl\" #@param {type:\"string\"}\r\n",
        "desired_MIDI_channel_to_process = -1 #@param {type:\"slider\", min:-1, max:15, step:1}\r\n",
        "\r\n",
        "melody_notes_in_chords = True\r\n",
        "debug = False \r\n",
        "\r\n",
        "print('TMIDI Processor')\r\n",
        "print('Starting up...')\r\n",
        "\r\n",
        "chords_list = []\r\n",
        "\r\n",
        "###########\r\n",
        "\r\n",
        "average_note_pitch = 0\r\n",
        "min_note = 127\r\n",
        "max_note = 0\r\n",
        "\r\n",
        "files_count = 0\r\n",
        "\r\n",
        "ev = 0\r\n",
        "\r\n",
        "chords_list_f = []\r\n",
        "melody_list_f = []\r\n",
        "\r\n",
        "chords_list = []\r\n",
        "chords_count = 0\r\n",
        "\r\n",
        "melody_chords = []\r\n",
        "melody_count = 0\r\n",
        "\r\n",
        "song_names = []\r\n",
        "\r\n",
        "###########\r\n",
        "\r\n",
        "def list_average(num):\r\n",
        "  sum_num = 0\r\n",
        "  for t in num:\r\n",
        "      sum_num = sum_num + t           \r\n",
        "\r\n",
        "  avg = sum_num / len(num)\r\n",
        "  return avg\r\n",
        "\r\n",
        "###########\r\n",
        "\r\n",
        "print('Loading MIDI files...')\r\n",
        "print('This may take a while on a large dataset in particular.')\r\n",
        "\r\n",
        "%cd /content/\r\n",
        "dataset_addr = \"/content/Dataset/\"\r\n",
        "os.chdir(dataset_addr)\r\n",
        "filez = os.listdir(dataset_addr)\r\n",
        "\r\n",
        "print('Processing MIDI files. Please wait...')\r\n",
        "for f in tqdm.auto.tqdm(filez):\r\n",
        "  files_count += 1\r\n",
        "  chords_list, melody_list = TMIDI.Tegridy_MIDI_Processor(f, \r\n",
        "                                                     desired_MIDI_channel_to_process, \r\n",
        "                                                     1,\r\n",
        "                                                     )\r\n",
        "  temp_chords_list = []\r\n",
        "  melody_list_final = []\r\n",
        "\r\n",
        "  for notez in melody_list:\r\n",
        "    if melody_notes_in_chords:\r\n",
        "      temp_chords_list.append([notez])\r\n",
        "    melody_list_final.append(notez)\r\n",
        "    for chord in chords_list:\r\n",
        "      if notez[1] == chord[0][1]:\r\n",
        "        temp_chords_list.append(chord[1:])\r\n",
        "\r\n",
        "  chords_list_f.extend(temp_chords_list)\r\n",
        "  melody_list_f.extend(melody_list_final)\r\n",
        "  chords_count += len(chords_list)\r\n",
        "  melody_count += len(melody_list)\r\n",
        "\r\n",
        "average_note_pitch = int((min_note + max_note) / 2)\r\n",
        "\r\n",
        "print('Task complete :)')\r\n",
        "print('==================================================')\r\n",
        "print('Number of processed dataset MIDI files:', files_count)\r\n",
        "print('Average note pitch =', average_note_pitch)\r\n",
        "print('Number of MIDI chords recorded:', chords_count)\r\n",
        "print('The longest chord:', len(max(chords_list_f, key=len)), 'notes') \r\n",
        "print(max(chords_list_f, key=len))\r\n",
        "print('Number of recorded melody events:', len(melody_list_f))\r\n",
        "print('First melody event:', melody_list_f[0], 'Last Melody event:', melody_list_f[-1])\r\n",
        "print('Total number of MIDI events recorded:', len(chords_list_f))\r\n",
        "\r\n",
        "MusicDataset = [chords_list_f, melody_list_f]\r\n",
        "\r\n",
        "with open(full_path_to_output_dataset_to, 'wb') as filehandle:\r\n",
        "    # store the data as binary data stream\r\n",
        "    pickle.dump(MusicDataset, filehandle)\r\n",
        "\r\n",
        "print('Dataset was saved at:', full_path_to_output_dataset_to)\r\n",
        "print('Task complete. Enjoy! :)')\r\n"
      ],
      "execution_count": null,
      "outputs": []
    }
  ]
}