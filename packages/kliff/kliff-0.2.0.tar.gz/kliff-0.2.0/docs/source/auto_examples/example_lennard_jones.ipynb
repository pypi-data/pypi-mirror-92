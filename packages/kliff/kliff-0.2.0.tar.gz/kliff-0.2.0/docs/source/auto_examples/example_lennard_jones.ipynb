{
  "cells": [
    {
      "cell_type": "code",
      "execution_count": null,
      "metadata": {
        "collapsed": false
      },
      "outputs": [],
      "source": [
        "%matplotlib inline"
      ]
    },
    {
      "cell_type": "markdown",
      "metadata": {},
      "source": [
        "\n\n# Train a Lennard-Jones potential\n\nIn this tutorial, we train a Lennard-Jones potential that is build in KLIFF (i.e. not\nmodels archived on OpenKIM_). From a user's perspective, a KLIFF built-in model is not\ndifferent from a KIM model.\n\nCompare this with `tut_kim_sw`.\n\n"
      ]
    },
    {
      "cell_type": "code",
      "execution_count": null,
      "metadata": {
        "collapsed": false
      },
      "outputs": [],
      "source": [
        "from kliff.calculators import Calculator\nfrom kliff.dataset import Dataset\nfrom kliff.loss import Loss\nfrom kliff.models import LennardJones\nfrom kliff.utils import download_dataset\n\n# training set\ndataset_path = download_dataset(dataset_name=\"Si_training_set_4_configs\")\ntset = Dataset(dataset_path)\nconfigs = tset.get_configs()\n\n# calculator\nmodel = LennardJones()\nmodel.echo_model_params()\n\n# fitting parameters\nmodel.set_opt_params(sigma=[[\"default\"]], epsilon=[[\"default\"]])\nmodel.echo_opt_params()\n\ncalc = Calculator(model)\ncalc.create(configs)\n\n# loss\nloss = Loss(calc, nprocs=1)\nresult = loss.minimize(method=\"L-BFGS-B\", options={\"disp\": True, \"maxiter\": 10})\n\n\n# print optimized parameters\nmodel.echo_opt_params()\nmodel.save(\"kliff_model.yaml\")"
      ]
    }
  ],
  "metadata": {
    "kernelspec": {
      "display_name": "Python 3",
      "language": "python",
      "name": "python3"
    },
    "language_info": {
      "codemirror_mode": {
        "name": "ipython",
        "version": 3
      },
      "file_extension": ".py",
      "mimetype": "text/x-python",
      "name": "python",
      "nbconvert_exporter": "python",
      "pygments_lexer": "ipython3",
      "version": "3.7.9"
    }
  },
  "nbformat": 4,
  "nbformat_minor": 0
}