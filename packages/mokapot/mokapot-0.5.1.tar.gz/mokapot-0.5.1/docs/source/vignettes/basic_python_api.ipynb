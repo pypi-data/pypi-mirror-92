{
 "cells": [
  {
   "cell_type": "markdown",
   "metadata": {},
   "source": [
    "# First steps using mokapot in Python\n",
    "\n",
    "In this vignette, we'll look at the basics of how to use mokapot as a Python package. We've performed these analyses within a [Jupyter notebook](https://jupyter.org/), which is available using the link at the top of the page.\n",
    "\n",
    "## Following along locally\n",
    "\n",
    "To run this notebook, you'll need to have [mokapot](https://mokapot.readthedocs.io/en/latest/#installation) installed. Additionally, you'll need to have a file in the [Percolator tab-delimited format](https://github.com/percolator/percolator/wiki/Interface#tab-delimited-file-format) on hand. The example we'll be using comes from running [tide-search](http://crux.ms/tide-search) on a single phosphoproteomics experiment from: \n",
    "\n",
    "> Hogrebe, Alexander et al. “Benchmarking common quantification strategies for large-scale phosphoproteomics.” Nature communications vol. 9,1 1045. 13 Mar. 2018, doi:10.1038/s41467-018-03309-6\n",
    "\n",
    "If you need it, you can download it from the mokapot repository here ([phospho_rep1.pin](https://raw.githubusercontent.com/wfondrie/mokapot/master/data/phospho_rep1.pin)) and set the path to your input file:"
   ]
  },
  {
   "cell_type": "code",
   "execution_count": 1,
   "metadata": {},
   "outputs": [],
   "source": [
    "pin_file = \"../../../data/phospho_rep1.pin\""
   ]
  },
  {
   "cell_type": "markdown",
   "metadata": {},
   "source": [
    "Additionally, we'll need the FASTA file used for the database search to perform protein-level confidence estimates. Critically, this file must include both target and decoy protein sequences. The correct FASTA file for the above example can also be downloaded from the mokapot repository ([human_sp_td.fasta](https://raw.githubusercontent.com/wfondrie/mokapot/master/data/human_sp_td.fasta)). Once downloaded, you can define the path to your FASTA file to follow along:"
   ]
  },
  {
   "cell_type": "code",
   "execution_count": 2,
   "metadata": {},
   "outputs": [],
   "source": [
    "fasta_file = \"../../../data/human_sp_td.fasta\""
   ]
  },
  {
   "cell_type": "markdown",
   "metadata": {},
   "source": [
    "## Step 1: Setup our Python environment\n",
    "\n",
    "Before we can perform an anlyses we need to import the Python packages that we'll be using. Additionally, it's a good idea to set the random seed for reproducibility."
   ]
  },
  {
   "cell_type": "code",
   "execution_count": 3,
   "metadata": {},
   "outputs": [],
   "source": [
    "import os\n",
    "import mokapot\n",
    "import numpy as np\n",
    "import pandas as pd\n",
    "import matplotlib.pyplot as plt\n",
    "\n",
    "# Set the random seed:\n",
    "np.random.seed(42)\n",
    "\n",
    "# Create an output directory\n",
    "out_dir = \"basic_python_api_output\"\n",
    "os.makedirs(out_dir, exist_ok=True)"
   ]
  },
  {
   "cell_type": "markdown",
   "metadata": {},
   "source": [
    "If we want messages about the mokapot's progress throughout the analysis, then we need to enable it using the `logging` module: "
   ]
  },
  {
   "cell_type": "code",
   "execution_count": 4,
   "metadata": {},
   "outputs": [],
   "source": [
    "import logging\n",
    "\n",
    "# Change to True enable messages and nicely format them:\n",
    "log = False\n",
    "if log:\n",
    "    logging.basicConfig(format=(\"[{levelname}] {message}\"), \n",
    "                        style=\"{\", level=logging.INFO)"
   ]
  },
  {
   "cell_type": "markdown",
   "metadata": {},
   "source": [
    "## Step 2: Read the PSMs\n",
    "\n",
    "We'll now use mokapot to read the PSMs from the provided input file. The [read_pin()](https://mokapot.readthedocs.io/en/latest/api/functions.html#mokapot.read_pin) function returns [LinearPsmDataset](https://mokapot.readthedocs.io/en/latest/api/dataset.html#mokapot.dataset.LinearPsmDataset) object, which stores the PSMs and their associated features for analysis."
   ]
  },
  {
   "cell_type": "code",
   "execution_count": 5,
   "metadata": {},
   "outputs": [],
   "source": [
    "psms = mokapot.read_pin(pin_file)"
   ]
  },
  {
   "cell_type": "markdown",
   "metadata": {},
   "source": [
    "### Optional: Add proteins\n",
    "mokapot uses the [picked-protein approach](https://www.mcponline.org/content/14/9/2394.long) to assign accurate protein-level confidence estimates. To do this, you'll need to provide the FASTA file used for your database search (including decoy sequences) and supply the parameters that match the digestion conditions you searched."
   ]
  },
  {
   "cell_type": "code",
   "execution_count": 6,
   "metadata": {},
   "outputs": [],
   "source": [
    "psms.add_proteins(fasta_file)"
   ]
  },
  {
   "cell_type": "markdown",
   "metadata": {},
   "source": [
    "## Step 3: Analyze the PSMs\n",
    "\n",
    "After that the PSMs have been loaded, we can use the [brew()](https://mokapot.readthedocs.io/en/latest/api/functions.html#mokapot.brew) function to run the analysis and re-score the PSMs. This returns a [LinearConfidence](https://mokapot.readthedocs.io/en/latest/api/confidence.html#mokapot.confidence.LinearConfidence) object, which calculates confidences estimates and stores them."
   ]
  },
  {
   "cell_type": "code",
   "execution_count": 7,
   "metadata": {},
   "outputs": [
    {
     "data": {
      "text/html": [
       "<div>\n",
       "<style scoped>\n",
       "    .dataframe tbody tr th:only-of-type {\n",
       "        vertical-align: middle;\n",
       "    }\n",
       "\n",
       "    .dataframe tbody tr th {\n",
       "        vertical-align: top;\n",
       "    }\n",
       "\n",
       "    .dataframe thead th {\n",
       "        text-align: right;\n",
       "    }\n",
       "</style>\n",
       "<table border=\"1\" class=\"dataframe\">\n",
       "  <thead>\n",
       "    <tr style=\"text-align: right;\">\n",
       "      <th></th>\n",
       "      <th>SpecId</th>\n",
       "      <th>Label</th>\n",
       "      <th>ScanNr</th>\n",
       "      <th>ExpMass</th>\n",
       "      <th>CalcMass</th>\n",
       "      <th>Peptide</th>\n",
       "      <th>Proteins</th>\n",
       "      <th>mokapot score</th>\n",
       "      <th>mokapot q-value</th>\n",
       "      <th>mokapot PEP</th>\n",
       "    </tr>\n",
       "  </thead>\n",
       "  <tbody>\n",
       "    <tr>\n",
       "      <th>0</th>\n",
       "      <td>target_0_48845_5_-1</td>\n",
       "      <td>True</td>\n",
       "      <td>48845</td>\n",
       "      <td>5269.5756</td>\n",
       "      <td>5269.5728</td>\n",
       "      <td>R.RGNVAGDSKNDPPMEAAGFTAQVIILNHPGQISAGYAPVLDCHT...</td>\n",
       "      <td>sp|P68104|EF1A1_HUMAN</td>\n",
       "      <td>11.215498</td>\n",
       "      <td>0.000053</td>\n",
       "      <td>6.305117e-16</td>\n",
       "    </tr>\n",
       "    <tr>\n",
       "      <th>1</th>\n",
       "      <td>target_0_45243_4_-1</td>\n",
       "      <td>True</td>\n",
       "      <td>45243</td>\n",
       "      <td>3945.8759</td>\n",
       "      <td>3945.8706</td>\n",
       "      <td>R.CSDAAGYPHATHDLEGPPLDAYSIQGQHTISPLDLAK.L</td>\n",
       "      <td>sp|Q15365|PCBP1_HUMAN</td>\n",
       "      <td>10.601063</td>\n",
       "      <td>0.000053</td>\n",
       "      <td>6.305117e-16</td>\n",
       "    </tr>\n",
       "    <tr>\n",
       "      <th>2</th>\n",
       "      <td>target_0_51371_4_-1</td>\n",
       "      <td>True</td>\n",
       "      <td>51371</td>\n",
       "      <td>4051.1223</td>\n",
       "      <td>4051.1086</td>\n",
       "      <td>K.KLHEEEIQELQAQIQEQHVQIDVDVSKPDLTAALR.D</td>\n",
       "      <td>sp|P08670|VIME_HUMAN</td>\n",
       "      <td>10.550855</td>\n",
       "      <td>0.000053</td>\n",
       "      <td>6.305117e-16</td>\n",
       "    </tr>\n",
       "    <tr>\n",
       "      <th>3</th>\n",
       "      <td>target_0_41715_3_-1</td>\n",
       "      <td>True</td>\n",
       "      <td>41715</td>\n",
       "      <td>4473.8359</td>\n",
       "      <td>4473.8286</td>\n",
       "      <td>K.ALGKYGPADVEDTTGSGATDSKDDDDIDLFGS[79.97]DDEEE...</td>\n",
       "      <td>sp|P24534|EF1B_HUMAN</td>\n",
       "      <td>9.964699</td>\n",
       "      <td>0.000053</td>\n",
       "      <td>6.305117e-16</td>\n",
       "    </tr>\n",
       "    <tr>\n",
       "      <th>4</th>\n",
       "      <td>target_0_48913_5_-1</td>\n",
       "      <td>True</td>\n",
       "      <td>48913</td>\n",
       "      <td>5269.5737</td>\n",
       "      <td>5269.5728</td>\n",
       "      <td>R.RGNVAGDSKNDPPMEAAGFTAQVIILNHPGQISAGYAPVLDCHT...</td>\n",
       "      <td>sp|P68104|EF1A1_HUMAN</td>\n",
       "      <td>9.874374</td>\n",
       "      <td>0.000053</td>\n",
       "      <td>6.305117e-16</td>\n",
       "    </tr>\n",
       "  </tbody>\n",
       "</table>\n",
       "</div>"
      ],
      "text/plain": [
       "                SpecId  Label  ScanNr    ExpMass   CalcMass  \\\n",
       "0  target_0_48845_5_-1   True   48845  5269.5756  5269.5728   \n",
       "1  target_0_45243_4_-1   True   45243  3945.8759  3945.8706   \n",
       "2  target_0_51371_4_-1   True   51371  4051.1223  4051.1086   \n",
       "3  target_0_41715_3_-1   True   41715  4473.8359  4473.8286   \n",
       "4  target_0_48913_5_-1   True   48913  5269.5737  5269.5728   \n",
       "\n",
       "                                             Peptide               Proteins  \\\n",
       "0  R.RGNVAGDSKNDPPMEAAGFTAQVIILNHPGQISAGYAPVLDCHT...  sp|P68104|EF1A1_HUMAN   \n",
       "1          R.CSDAAGYPHATHDLEGPPLDAYSIQGQHTISPLDLAK.L  sp|Q15365|PCBP1_HUMAN   \n",
       "2            K.KLHEEEIQELQAQIQEQHVQIDVDVSKPDLTAALR.D   sp|P08670|VIME_HUMAN   \n",
       "3  K.ALGKYGPADVEDTTGSGATDSKDDDDIDLFGS[79.97]DDEEE...   sp|P24534|EF1B_HUMAN   \n",
       "4  R.RGNVAGDSKNDPPMEAAGFTAQVIILNHPGQISAGYAPVLDCHT...  sp|P68104|EF1A1_HUMAN   \n",
       "\n",
       "   mokapot score  mokapot q-value   mokapot PEP  \n",
       "0      11.215498         0.000053  6.305117e-16  \n",
       "1      10.601063         0.000053  6.305117e-16  \n",
       "2      10.550855         0.000053  6.305117e-16  \n",
       "3       9.964699         0.000053  6.305117e-16  \n",
       "4       9.874374         0.000053  6.305117e-16  "
      ]
     },
     "execution_count": 7,
     "metadata": {},
     "output_type": "execute_result"
    }
   ],
   "source": [
    "moka_conf, models = mokapot.brew(psms)\n",
    "moka_conf.psms.head()"
   ]
  },
  {
   "cell_type": "code",
   "execution_count": 8,
   "metadata": {},
   "outputs": [
    {
     "data": {
      "text/html": [
       "<div>\n",
       "<style scoped>\n",
       "    .dataframe tbody tr th:only-of-type {\n",
       "        vertical-align: middle;\n",
       "    }\n",
       "\n",
       "    .dataframe tbody tr th {\n",
       "        vertical-align: top;\n",
       "    }\n",
       "\n",
       "    .dataframe thead th {\n",
       "        text-align: right;\n",
       "    }\n",
       "</style>\n",
       "<table border=\"1\" class=\"dataframe\">\n",
       "  <thead>\n",
       "    <tr style=\"text-align: right;\">\n",
       "      <th></th>\n",
       "      <th>SpecId</th>\n",
       "      <th>Label</th>\n",
       "      <th>ScanNr</th>\n",
       "      <th>ExpMass</th>\n",
       "      <th>CalcMass</th>\n",
       "      <th>Peptide</th>\n",
       "      <th>Proteins</th>\n",
       "      <th>mokapot score</th>\n",
       "      <th>mokapot q-value</th>\n",
       "      <th>mokapot PEP</th>\n",
       "    </tr>\n",
       "  </thead>\n",
       "  <tbody>\n",
       "    <tr>\n",
       "      <th>0</th>\n",
       "      <td>target_0_48845_5_-1</td>\n",
       "      <td>True</td>\n",
       "      <td>48845</td>\n",
       "      <td>5269.5756</td>\n",
       "      <td>5269.5728</td>\n",
       "      <td>R.RGNVAGDSKNDPPMEAAGFTAQVIILNHPGQISAGYAPVLDCHT...</td>\n",
       "      <td>sp|P68104|EF1A1_HUMAN</td>\n",
       "      <td>11.215498</td>\n",
       "      <td>0.000073</td>\n",
       "      <td>6.305117e-16</td>\n",
       "    </tr>\n",
       "    <tr>\n",
       "      <th>1</th>\n",
       "      <td>target_0_45243_4_-1</td>\n",
       "      <td>True</td>\n",
       "      <td>45243</td>\n",
       "      <td>3945.8759</td>\n",
       "      <td>3945.8706</td>\n",
       "      <td>R.CSDAAGYPHATHDLEGPPLDAYSIQGQHTISPLDLAK.L</td>\n",
       "      <td>sp|Q15365|PCBP1_HUMAN</td>\n",
       "      <td>10.601063</td>\n",
       "      <td>0.000073</td>\n",
       "      <td>6.305117e-16</td>\n",
       "    </tr>\n",
       "    <tr>\n",
       "      <th>2</th>\n",
       "      <td>target_0_51371_4_-1</td>\n",
       "      <td>True</td>\n",
       "      <td>51371</td>\n",
       "      <td>4051.1223</td>\n",
       "      <td>4051.1086</td>\n",
       "      <td>K.KLHEEEIQELQAQIQEQHVQIDVDVSKPDLTAALR.D</td>\n",
       "      <td>sp|P08670|VIME_HUMAN</td>\n",
       "      <td>10.550855</td>\n",
       "      <td>0.000073</td>\n",
       "      <td>6.305117e-16</td>\n",
       "    </tr>\n",
       "    <tr>\n",
       "      <th>3</th>\n",
       "      <td>target_0_41715_3_-1</td>\n",
       "      <td>True</td>\n",
       "      <td>41715</td>\n",
       "      <td>4473.8359</td>\n",
       "      <td>4473.8286</td>\n",
       "      <td>K.ALGKYGPADVEDTTGSGATDSKDDDDIDLFGS[79.97]DDEEE...</td>\n",
       "      <td>sp|P24534|EF1B_HUMAN</td>\n",
       "      <td>9.964699</td>\n",
       "      <td>0.000073</td>\n",
       "      <td>6.305117e-16</td>\n",
       "    </tr>\n",
       "    <tr>\n",
       "      <th>4</th>\n",
       "      <td>target_0_31886_3_-1</td>\n",
       "      <td>True</td>\n",
       "      <td>31886</td>\n",
       "      <td>3450.7612</td>\n",
       "      <td>3450.7544</td>\n",
       "      <td>R.AAAAVAAAASSCRPLGSGAGPGPTGAAPVSAPAPGPGPAGK.G</td>\n",
       "      <td>sp|Q9NRL3|STRN4_HUMAN</td>\n",
       "      <td>9.778672</td>\n",
       "      <td>0.000073</td>\n",
       "      <td>6.305117e-16</td>\n",
       "    </tr>\n",
       "  </tbody>\n",
       "</table>\n",
       "</div>"
      ],
      "text/plain": [
       "                SpecId  Label  ScanNr    ExpMass   CalcMass  \\\n",
       "0  target_0_48845_5_-1   True   48845  5269.5756  5269.5728   \n",
       "1  target_0_45243_4_-1   True   45243  3945.8759  3945.8706   \n",
       "2  target_0_51371_4_-1   True   51371  4051.1223  4051.1086   \n",
       "3  target_0_41715_3_-1   True   41715  4473.8359  4473.8286   \n",
       "4  target_0_31886_3_-1   True   31886  3450.7612  3450.7544   \n",
       "\n",
       "                                             Peptide               Proteins  \\\n",
       "0  R.RGNVAGDSKNDPPMEAAGFTAQVIILNHPGQISAGYAPVLDCHT...  sp|P68104|EF1A1_HUMAN   \n",
       "1          R.CSDAAGYPHATHDLEGPPLDAYSIQGQHTISPLDLAK.L  sp|Q15365|PCBP1_HUMAN   \n",
       "2            K.KLHEEEIQELQAQIQEQHVQIDVDVSKPDLTAALR.D   sp|P08670|VIME_HUMAN   \n",
       "3  K.ALGKYGPADVEDTTGSGATDSKDDDDIDLFGS[79.97]DDEEE...   sp|P24534|EF1B_HUMAN   \n",
       "4      R.AAAAVAAAASSCRPLGSGAGPGPTGAAPVSAPAPGPGPAGK.G  sp|Q9NRL3|STRN4_HUMAN   \n",
       "\n",
       "   mokapot score  mokapot q-value   mokapot PEP  \n",
       "0      11.215498         0.000073  6.305117e-16  \n",
       "1      10.601063         0.000073  6.305117e-16  \n",
       "2      10.550855         0.000073  6.305117e-16  \n",
       "3       9.964699         0.000073  6.305117e-16  \n",
       "4       9.778672         0.000073  6.305117e-16  "
      ]
     },
     "execution_count": 8,
     "metadata": {},
     "output_type": "execute_result"
    }
   ],
   "source": [
    "moka_conf.peptides.head()"
   ]
  },
  {
   "cell_type": "code",
   "execution_count": 9,
   "metadata": {},
   "outputs": [
    {
     "data": {
      "text/html": [
       "<div>\n",
       "<style scoped>\n",
       "    .dataframe tbody tr th:only-of-type {\n",
       "        vertical-align: middle;\n",
       "    }\n",
       "\n",
       "    .dataframe tbody tr th {\n",
       "        vertical-align: top;\n",
       "    }\n",
       "\n",
       "    .dataframe thead th {\n",
       "        text-align: right;\n",
       "    }\n",
       "</style>\n",
       "<table border=\"1\" class=\"dataframe\">\n",
       "  <thead>\n",
       "    <tr style=\"text-align: right;\">\n",
       "      <th></th>\n",
       "      <th>mokapot protein group</th>\n",
       "      <th>best peptide</th>\n",
       "      <th>stripped sequence</th>\n",
       "      <th>mokapot score</th>\n",
       "      <th>mokapot q-value</th>\n",
       "      <th>mokapot PEP</th>\n",
       "    </tr>\n",
       "  </thead>\n",
       "  <tbody>\n",
       "    <tr>\n",
       "      <th>0</th>\n",
       "      <td>sp|P68104|EF1A1_HUMAN</td>\n",
       "      <td>R.RGNVAGDSKNDPPMEAAGFTAQVIILNHPGQISAGYAPVLDCHT...</td>\n",
       "      <td>RGNVAGDSKNDPPMEAAGFTAQVIILNHPGQISAGYAPVLDCHTAH...</td>\n",
       "      <td>11.215498</td>\n",
       "      <td>0.000292</td>\n",
       "      <td>6.305117e-16</td>\n",
       "    </tr>\n",
       "    <tr>\n",
       "      <th>1</th>\n",
       "      <td>sp|Q15365|PCBP1_HUMAN</td>\n",
       "      <td>R.CSDAAGYPHATHDLEGPPLDAYSIQGQHTISPLDLAK.L</td>\n",
       "      <td>CSDAAGYPHATHDLEGPPLDAYSIQGQHTISPLDLAK</td>\n",
       "      <td>10.601063</td>\n",
       "      <td>0.000292</td>\n",
       "      <td>6.305117e-16</td>\n",
       "    </tr>\n",
       "    <tr>\n",
       "      <th>2</th>\n",
       "      <td>sp|P08670|VIME_HUMAN</td>\n",
       "      <td>K.KLHEEEIQELQAQIQEQHVQIDVDVSKPDLTAALR.D</td>\n",
       "      <td>KLHEEEIQELQAQIQEQHVQIDVDVSKPDLTAALR</td>\n",
       "      <td>10.550855</td>\n",
       "      <td>0.000292</td>\n",
       "      <td>6.305117e-16</td>\n",
       "    </tr>\n",
       "    <tr>\n",
       "      <th>3</th>\n",
       "      <td>sp|P24534|EF1B_HUMAN</td>\n",
       "      <td>K.ALGKYGPADVEDTTGSGATDSKDDDDIDLFGS[79.97]DDEEE...</td>\n",
       "      <td>ALGKYGPADVEDTTGSGATDSKDDDDIDLFGSDDEEESEEAK</td>\n",
       "      <td>9.964699</td>\n",
       "      <td>0.000292</td>\n",
       "      <td>6.305117e-16</td>\n",
       "    </tr>\n",
       "    <tr>\n",
       "      <th>4</th>\n",
       "      <td>sp|Q9NRL3|STRN4_HUMAN</td>\n",
       "      <td>R.AAAAVAAAASSCRPLGSGAGPGPTGAAPVSAPAPGPGPAGK.G</td>\n",
       "      <td>AAAAVAAAASSCRPLGSGAGPGPTGAAPVSAPAPGPGPAGK</td>\n",
       "      <td>9.778672</td>\n",
       "      <td>0.000292</td>\n",
       "      <td>6.305117e-16</td>\n",
       "    </tr>\n",
       "  </tbody>\n",
       "</table>\n",
       "</div>"
      ],
      "text/plain": [
       "   mokapot protein group                                       best peptide  \\\n",
       "0  sp|P68104|EF1A1_HUMAN  R.RGNVAGDSKNDPPMEAAGFTAQVIILNHPGQISAGYAPVLDCHT...   \n",
       "1  sp|Q15365|PCBP1_HUMAN          R.CSDAAGYPHATHDLEGPPLDAYSIQGQHTISPLDLAK.L   \n",
       "2   sp|P08670|VIME_HUMAN            K.KLHEEEIQELQAQIQEQHVQIDVDVSKPDLTAALR.D   \n",
       "3   sp|P24534|EF1B_HUMAN  K.ALGKYGPADVEDTTGSGATDSKDDDDIDLFGS[79.97]DDEEE...   \n",
       "4  sp|Q9NRL3|STRN4_HUMAN      R.AAAAVAAAASSCRPLGSGAGPGPTGAAPVSAPAPGPGPAGK.G   \n",
       "\n",
       "                                   stripped sequence  mokapot score  \\\n",
       "0  RGNVAGDSKNDPPMEAAGFTAQVIILNHPGQISAGYAPVLDCHTAH...      11.215498   \n",
       "1              CSDAAGYPHATHDLEGPPLDAYSIQGQHTISPLDLAK      10.601063   \n",
       "2                KLHEEEIQELQAQIQEQHVQIDVDVSKPDLTAALR      10.550855   \n",
       "3         ALGKYGPADVEDTTGSGATDSKDDDDIDLFGSDDEEESEEAK       9.964699   \n",
       "4          AAAAVAAAASSCRPLGSGAGPGPTGAAPVSAPAPGPGPAGK       9.778672   \n",
       "\n",
       "   mokapot q-value   mokapot PEP  \n",
       "0         0.000292  6.305117e-16  \n",
       "1         0.000292  6.305117e-16  \n",
       "2         0.000292  6.305117e-16  \n",
       "3         0.000292  6.305117e-16  \n",
       "4         0.000292  6.305117e-16  "
      ]
     },
     "execution_count": 9,
     "metadata": {},
     "output_type": "execute_result"
    }
   ],
   "source": [
    "moka_conf.proteins.head()"
   ]
  },
  {
   "cell_type": "markdown",
   "metadata": {},
   "source": [
    "We can also use mokapot assign confidence estimates based on the best original feature---the Tide combined p-value in this case---instead of using the learned scores:"
   ]
  },
  {
   "cell_type": "code",
   "execution_count": 10,
   "metadata": {},
   "outputs": [],
   "source": [
    "tide_conf = psms.assign_confidence()"
   ]
  },
  {
   "cell_type": "markdown",
   "metadata": {},
   "source": [
    "## Step 4: Plot and save the results\n",
    "\n",
    "We've included some simple plotting utilities to help assess mokapot's perfomance. Let's see if the mokapot model improves upon the best feature, which is Tide's combined p-value: "
   ]
  },
  {
   "cell_type": "code",
   "execution_count": 11,
   "metadata": {},
   "outputs": [
    {
     "data": {
      "image/png": "[encoded data removed]",
      "text/plain": [
       "<Figure size 864x288 with 3 Axes>"
      ]
     },
     "metadata": {
      "needs_background": "light"
     },
     "output_type": "display_data"
    }
   ],
   "source": [
    "fig, axs = plt.subplots(1, 3, figsize=(12, 4))\n",
    "colors = (\"#343131\", \"#24B8A0\")\n",
    "\n",
    "# Plot the performance:\n",
    "for ax, level in zip(axs, tide_conf.levels):\n",
    "    tide_conf.plot_qvalues(level=level, c=colors[0], ax=ax,\n",
    "                           label=\"Tide combined p-value\")\n",
    "    moka_conf.plot_qvalues(level=level, c=colors[1], ax=ax,\n",
    "                           label=\"mokapot\")\n",
    "    ax.legend(frameon=False)\n",
    "\n",
    "plt.tight_layout()\n",
    "plt.show()"
   ]
  },
  {
   "cell_type": "markdown",
   "metadata": {},
   "source": [
    "Excellent. It looks like mokapot increased our power to detect a few hundred more PSMs and peptides at 1% FDR. We figure out the exact improvement by looking at the data:"
   ]
  },
  {
   "cell_type": "code",
   "execution_count": 12,
   "metadata": {},
   "outputs": [
    {
     "name": "stdout",
     "output_type": "stream",
     "text": [
      "PSMs gained by mokapot: 1149\n",
      "Peptides gained by mokapot: 872\n",
      "Proteins gained by mokapot: 89\n"
     ]
    }
   ],
   "source": [
    "# PSMs\n",
    "moka_psms = (moka_conf.psms[\"mokapot q-value\"] <= 0.01).sum()\n",
    "tide_psms = (tide_conf.psms[\"mokapot q-value\"] <= 0.01).sum()\n",
    "print(f\"PSMs gained by mokapot: {moka_psms - tide_psms}\")\n",
    "\n",
    "# Peptides\n",
    "moka_peps = (moka_conf.peptides[\"mokapot q-value\"] <= 0.01).sum()\n",
    "tide_peps = (tide_conf.peptides[\"mokapot q-value\"] <= 0.01).sum()\n",
    "print(f\"Peptides gained by mokapot: {moka_peps - tide_peps}\")\n",
    "\n",
    "# Proteins\n",
    "moka_prots = (moka_conf.proteins[\"mokapot q-value\"] <= 0.01).sum()\n",
    "tide_prots = (tide_conf.proteins[\"mokapot q-value\"] <= 0.01).sum()\n",
    "print(f\"Proteins gained by mokapot: {moka_prots - tide_prots}\")"
   ]
  },
  {
   "cell_type": "markdown",
   "metadata": {},
   "source": [
    "Finally, we will save the results as tab-delimited text files:"
   ]
  },
  {
   "cell_type": "code",
   "execution_count": 13,
   "metadata": {},
   "outputs": [
    {
     "data": {
      "text/plain": [
       "['basic_python_api_output/mokapot.psms.txt',\n",
       " 'basic_python_api_output/mokapot.peptides.txt',\n",
       " 'basic_python_api_output/mokapot.proteins.txt']"
      ]
     },
     "execution_count": 13,
     "metadata": {},
     "output_type": "execute_result"
    }
   ],
   "source": [
    "result_files = moka_conf.to_txt(dest_dir=out_dir)\n",
    "result_files"
   ]
  },
  {
   "cell_type": "markdown",
   "metadata": {},
   "source": [
    "## Wrapping up\n",
    "\n",
    "This vignette demonstrated the basic usage of mokapot's Python API. For more detail about any of the mokapot functions and classes that we used, see the [mokapot Python API documentation](https://mokapot.readthedocs.io/en/latest/api/index.html). Finally, check out the other vignettes for examples of advanced usage of mokapot's Python API."
   ]
  }
 ],
 "metadata": {
  "kernelspec": {
   "display_name": "Python 3",
   "language": "python",
   "name": "python3"
  },
  "language_info": {
   "codemirror_mode": {
    "name": "ipython",
    "version": 3
   },
   "file_extension": ".py",
   "mimetype": "text/x-python",
   "name": "python",
   "nbconvert_exporter": "python",
   "pygments_lexer": "ipython3",
   "version": "3.8.5"
  }
 },
 "nbformat": 4,
 "nbformat_minor": 4
}
