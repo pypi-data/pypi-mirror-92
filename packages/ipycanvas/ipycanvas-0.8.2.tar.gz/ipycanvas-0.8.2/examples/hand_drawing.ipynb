{
 "cells": [
  {
   "cell_type": "code",
   "execution_count": null,
   "metadata": {},
   "outputs": [],
   "source": [
    "from ipywidgets import Image\n",
    "\n",
    "from ipywidgets import ColorPicker, IntSlider, link, AppLayout, HBox\n",
    "\n",
    "from ipycanvas import MultiCanvas, hold_canvas"
   ]
  },
  {
   "cell_type": "code",
   "execution_count": null,
   "metadata": {},
   "outputs": [],
   "source": [
    "width = 500\n",
    "height = 500"
   ]
  },
  {
   "cell_type": "code",
   "execution_count": null,
   "metadata": {},
   "outputs": [],
   "source": [
    "canvas = MultiCanvas(3, width=width, height=height)\n",
    "\n",
    "image = Image.from_file('sprites/logo.png')\n",
    "\n",
    "background_layer = canvas[0]\n",
    "drawing_layer = canvas[1]\n",
    "interaction_layer = canvas[2]\n",
    "\n",
    "drawing = False\n",
    "start = None\n",
    "\n",
    "def on_mouse_down(x, y):\n",
    "    global drawing\n",
    "    global start\n",
    "\n",
    "    if not drawing:\n",
    "        start = (x, y)\n",
    "    else:\n",
    "        with hold_canvas(canvas):\n",
    "            drawing_layer.stroke_line(start[0], start[1], x, y)\n",
    "\n",
    "            interaction_layer.clear()\n",
    "\n",
    "        start = None\n",
    "    \n",
    "    drawing = not drawing\n",
    "\n",
    "def on_mouse_move(x, y):\n",
    "    if not drawing:\n",
    "        return\n",
    "\n",
    "    with hold_canvas(canvas):\n",
    "        interaction_layer.clear()\n",
    "\n",
    "        interaction_layer.stroke_line(start[0], start[1], x, y)\n",
    "\n",
    "interaction_layer.on_mouse_down(on_mouse_down)\n",
    "interaction_layer.on_mouse_move(on_mouse_move)\n",
    "\n",
    "background_layer.draw_image(image, 0, 0, width, height)\n",
    "\n",
    "drawing_layer.stroke_style = '#749cb8'\n",
    "drawing_layer.line_width = 3\n",
    "interaction_layer.stroke_style = '#749cb8'\n",
    "interaction_layer.line_width = 3\n",
    "\n",
    "picker = ColorPicker(description='Color:', value='#749cb8')\n",
    "slider = IntSlider(description='Line width:', value=3, min=1, max=20)\n",
    "\n",
    "link((picker, 'value'), (drawing_layer, 'stroke_style'))\n",
    "link((picker, 'value'), (interaction_layer, 'stroke_style'))\n",
    "link((slider, 'value'), (drawing_layer, 'line_width'))\n",
    "link((slider, 'value'), (interaction_layer, 'line_width'))\n",
    "\n",
    "AppLayout(center=canvas, footer=HBox((picker, slider)))"
   ]
  },
  {
   "cell_type": "code",
   "execution_count": null,
   "metadata": {},
   "outputs": [],
   "source": []
  }
 ],
 "metadata": {
  "kernelspec": {
   "display_name": "Python 3",
   "language": "python",
   "name": "python3"
  },
  "language_info": {
   "codemirror_mode": {
    "name": "ipython",
    "version": 3
   },
   "file_extension": ".py",
   "mimetype": "text/x-python",
   "name": "python",
   "nbconvert_exporter": "python",
   "pygments_lexer": "ipython3",
   "version": "3.9.0"
  }
 },
 "nbformat": 4,
 "nbformat_minor": 4
}
