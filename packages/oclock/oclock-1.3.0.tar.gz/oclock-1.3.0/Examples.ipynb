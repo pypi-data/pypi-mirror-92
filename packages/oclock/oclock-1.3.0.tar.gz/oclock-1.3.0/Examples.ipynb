{
 "metadata": {
  "language_info": {
   "codemirror_mode": {
    "name": "ipython",
    "version": 3
   },
   "file_extension": ".py",
   "mimetype": "text/x-python",
   "name": "python",
   "nbconvert_exporter": "python",
   "pygments_lexer": "ipython3",
   "version": "3.8.5-final"
  },
  "orig_nbformat": 2,
  "kernelspec": {
   "name": "python3",
   "display_name": "Python 3",
   "language": "python"
  }
 },
 "nbformat": 4,
 "nbformat_minor": 2,
 "cells": [
  {
   "cell_type": "code",
   "execution_count": 1,
   "metadata": {},
   "outputs": [],
   "source": [
    "from oclock import Timer, loop, interactiveloop\n",
    "import time, random, threading"
   ]
  },
  {
   "source": [
    "# Constant-duration loops"
   ],
   "cell_type": "markdown",
   "metadata": {}
  },
  {
   "source": [
    "## Using the `Timer.checkpt()` method"
   ],
   "cell_type": "markdown",
   "metadata": {}
  },
  {
   "source": [
    "The following code executes a print statement every 2 seconds and stops when the elapsed time of the loop exceeds 10 seconds."
   ],
   "cell_type": "markdown",
   "metadata": {}
  },
  {
   "cell_type": "code",
   "execution_count": 2,
   "metadata": {
    "tags": []
   },
   "outputs": [
    {
     "output_type": "stream",
     "name": "stdout",
     "text": [
      "Elapsed time: 0.000\n",
      "Elapsed time: 2.000\n",
      "Elapsed time: 4.000\n",
      "Elapsed time: 6.001\n",
      "Elapsed time: 8.002\n",
      "Elapsed time: 10.002\n"
     ]
    }
   ],
   "source": [
    "timer = Timer(interval=2)\n",
    "while timer.elapsed_time < 11:\n",
    "    print(\"Elapsed time: {:.3f}\".format(timer.elapsed_time))\n",
    "    timer.checkpt()"
   ]
  },
  {
   "source": [
    "## Using the `@loop` decorator"
   ],
   "cell_type": "markdown",
   "metadata": {}
  },
  {
   "source": [
    "The following code does the same thing as the code above. In this simple situation, using the decorator is slightly more verbose."
   ],
   "cell_type": "markdown",
   "metadata": {}
  },
  {
   "cell_type": "code",
   "execution_count": 3,
   "metadata": {},
   "outputs": [
    {
     "output_type": "stream",
     "name": "stdout",
     "text": [
      "Elapsed time: 2.000\n",
      "Elapsed time: 4.001\n",
      "Elapsed time: 6.001\n",
      "Elapsed time: 8.001\n",
      "Elapsed time: 10.002\n"
     ]
    }
   ],
   "source": [
    "timer = Timer(interval=2)\n",
    "@loop(timer)\n",
    "def my_function():\n",
    "    \"\"\"Example function to be repeated periodically\"\"\"\n",
    "    print(\"Elapsed time: {:.3f}\".format(timer.elapsed_time))\n",
    "    if timer.elapsed_time > 10:\n",
    "        timer.stop()\n",
    "my_function()"
   ]
  },
  {
   "source": [
    "# Interactive, cancellable loops"
   ],
   "cell_type": "markdown",
   "metadata": {}
  },
  {
   "source": [
    "## Using the `@interactiveloop` decorator"
   ],
   "cell_type": "markdown",
   "metadata": {}
  },
  {
   "source": [
    "In this case the timer is internal to the loop and cannot be accessed programatically, but a command line interface allows the user to interact dynamically with the Timer (e.g. change time interval, pause, reset etc.)"
   ],
   "cell_type": "markdown",
   "metadata": {}
  },
  {
   "cell_type": "code",
   "execution_count": 4,
   "metadata": {},
   "outputs": [
    {
     "output_type": "stream",
     "name": "stdout",
     "text": [
      "-----------------------------------------------------------------\n",
      "Timer Command-Line-Interface. Possible inputs:\n",
      "- any number (int/float): change timer interval to that new value\n",
      "- 'p' or 'pause': pause timer\n",
      "- 'r' or 'resume': resume timer\n",
      "- 'R' or 'reset': reset timer\n",
      "- 't' or 'time': print timing (interval, elapsed time, etc.) info\n",
      "- 'q', 'Q', 'quit' or 'stop': stop timer and exit\n",
      "-----------------------------------------------------------------\n",
      "This is a random number: 0.598\n",
      "\n",
      "This is a random number: 0.457\n",
      "This is a random number: 0.549\n",
      "This is a random number: 0.655\n",
      "--- Timer Paused\n",
      "This is a random number: 0.596\n",
      "--- Timer Resumed\n",
      "This is a random number: 0.737\n",
      "This is a random number: 0.868\n",
      "This is a random number: 0.116\n",
      "--- Timer Stopped\n",
      "--- Loop Exited\n"
     ]
    }
   ],
   "source": [
    "@interactiveloop(interval=2)\n",
    "def interactive_function():\n",
    "    \"\"\"Example function to be repeated periodically\"\"\"\n",
    "    print(\"This is a random number: {:.3f}\".format(random.random()))\n",
    "interactive_function()"
   ]
  },
  {
   "source": [
    "## Using `Timer` methods and threading"
   ],
   "cell_type": "markdown",
   "metadata": {}
  },
  {
   "source": [
    "To give an idea how to implement an interactive timer similar to the `@interactiveloop` decorator, here is a minimal example:"
   ],
   "cell_type": "markdown",
   "metadata": {}
  },
  {
   "source": [
    "- Define the command line interface (CLI) to interact with the timer:"
   ],
   "cell_type": "markdown",
   "metadata": {}
  },
  {
   "cell_type": "code",
   "execution_count": 5,
   "metadata": {},
   "outputs": [],
   "source": [
    "def user_input(timer):\n",
    "    \"\"\"Command line input to interact with a timer object.\"\"\"\n",
    "    print('Input command or press enter to exit\\n')\n",
    "    while not timer.is_stopped:\n",
    "        a = input()\n",
    "        try:\n",
    "            dt = float(a)\n",
    "        except ValueError:\n",
    "            if a == 'pause':\n",
    "                timer.pause()\n",
    "            elif a == 'resume':\n",
    "                timer.resume()\n",
    "            elif a == 'reset':\n",
    "                timer.reset()\n",
    "            else:\n",
    "                timer.stop()\n",
    "        else:\n",
    "            timer.interval = dt\n"
   ]
  },
  {
   "source": [
    "- Run the CLI and the timer concurrently using a thread:"
   ],
   "cell_type": "markdown",
   "metadata": {}
  },
  {
   "cell_type": "code",
   "execution_count": 6,
   "metadata": {},
   "outputs": [
    {
     "output_type": "stream",
     "name": "stdout",
     "text": [
      "Input command or press enter to exit\n",
      "This is a random number: 0.119\n",
      "\n",
      "This is a random number: 0.862\n",
      "This is a random number: 0.545\n",
      "This is a random number: 0.995\n",
      "This is a random number: 0.517\n",
      "This is a random number: 0.055\n"
     ]
    }
   ],
   "source": [
    "timer = Timer()\n",
    "threading.Thread(target=user_input, args=(timer,)).start()\n",
    "while not timer.is_stopped:\n",
    "    print(\"This is a random number: {:.3f}\".format(random.random()))\n",
    "    timer.checkpt()"
   ]
  },
  {
   "cell_type": "code",
   "execution_count": null,
   "metadata": {},
   "outputs": [],
   "source": []
  }
 ]
}