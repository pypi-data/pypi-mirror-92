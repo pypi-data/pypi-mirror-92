{
 "cells": [
  {
   "cell_type": "markdown",
   "metadata": {},
   "source": [
    "## Setup"
   ]
  },
  {
   "cell_type": "code",
   "execution_count": 1,
   "metadata": {},
   "outputs": [
    {
     "data": {
      "text/plain": [
       "'0.4.2.dev15+dirty'"
      ]
     },
     "execution_count": 1,
     "metadata": {},
     "output_type": "execute_result"
    }
   ],
   "source": [
    "import numpy as np\n",
    "import numcodecs\n",
    "numcodecs.__version__"
   ]
  },
  {
   "cell_type": "markdown",
   "metadata": {},
   "source": [
    "## Unicode string benchmarks"
   ]
  },
  {
   "cell_type": "code",
   "execution_count": 2,
   "metadata": {},
   "outputs": [],
   "source": [
    "import fastparquet\n",
    "\n",
    "\n",
    "class FastParquetCodec(numcodecs.abc.Codec):\n",
    "    \"\"\"Hacked codec using fastparquet utf8 encoding, for benchmarking purposes only.\"\"\"\n",
    "    \n",
    "    codec_id = 'xxx-fastparquet'\n",
    "    \n",
    "    def encode(self, buf):\n",
    "        buf = np.asanyarray(buf)\n",
    "        n = buf.size\n",
    "        ba = fastparquet.speedups.array_encode_utf8(buf)\n",
    "        enc = fastparquet.speedups.pack_byte_array(ba.tolist())\n",
    "        return n, enc  # hack for now, return n\n",
    "    \n",
    "    def decode(self, data, out=None):\n",
    "        n, enc = data\n",
    "        ba = fastparquet.speedups.unpack_byte_array(enc, n)\n",
    "        dec = fastparquet.speedups.array_decode_utf8(np.array(ba, dtype=object))\n",
    "        if out is not None:\n",
    "            out[:] = dec\n",
    "            return out\n",
    "        return dec"
   ]
  },
  {
   "cell_type": "code",
   "execution_count": 3,
   "metadata": {},
   "outputs": [],
   "source": [
    "zstd1 = numcodecs.Zstd(1)\n",
    "zstd5 = numcodecs.Zstd(5)\n",
    "zstd9 = numcodecs.Zstd(9)\n",
    "\n",
    "\n",
    "def benchmark_codec(codec, a):\n",
    "    print(codec)\n",
    "    print('encode')\n",
    "    %timeit codec.encode(a)\n",
    "    enc = codec.encode(a)\n",
    "    print('decode')\n",
    "    %timeit codec.decode(enc)\n",
    "    if isinstance(codec, FastParquetCodec):\n",
    "        enc = enc[1]  # hack\n",
    "    print('size         : {:,}'.format(len(enc)))\n",
    "    print('size (zstd 1): {:,}'.format(len(zstd1.encode(enc))))\n",
    "    print('size (zstd 5): {:,}'.format(len(zstd5.encode(enc))))\n",
    "    print('size (zstd 9): {:,}'.format(len(zstd9.encode(enc))))\n"
   ]
  },
  {
   "cell_type": "code",
   "execution_count": 4,
   "metadata": {},
   "outputs": [],
   "source": [
    "from numcodecs.tests.common import greetings\n",
    "msgpack_codec = numcodecs.MsgPack()\n",
    "json_codec = numcodecs.JSON()\n",
    "pickle_codec = numcodecs.Pickle()\n",
    "cat_codec = numcodecs.Categorize(greetings, dtype=object, astype='u1')\n",
    "vlen_codec = numcodecs.VLenUTF8()\n",
    "fp_codec = FastParquetCodec()"
   ]
  },
  {
   "cell_type": "markdown",
   "metadata": {},
   "source": [
    "### Greetings benchmark"
   ]
  },
  {
   "cell_type": "code",
   "execution_count": 5,
   "metadata": {},
   "outputs": [
    {
     "data": {
      "text/plain": [
       "array(['Γεια σου κόσμε!', 'Hei maailma!', 'Zdravo svete!', ...,\n",
       "       'Servus Woid!', 'เฮลโลเวิลด์', 'Zdravo svete!'], dtype=object)"
      ]
     },
     "execution_count": 5,
     "metadata": {},
     "output_type": "execute_result"
    }
   ],
   "source": [
    "np.random.seed(42)\n",
    "data = np.random.choice(greetings, size=1000000).astype(object)\n",
    "data"
   ]
  },
  {
   "cell_type": "code",
   "execution_count": 7,
   "metadata": {},
   "outputs": [
    {
     "name": "stdout",
     "output_type": "stream",
     "text": [
      "CPU times: user 84 ms, sys: 20 ms, total: 104 ms\n",
      "Wall time: 105 ms\n"
     ]
    }
   ],
   "source": [
    "%time enc = vlen_codec.encode(data)"
   ]
  },
  {
   "cell_type": "code",
   "execution_count": 9,
   "metadata": {},
   "outputs": [
    {
     "name": "stdout",
     "output_type": "stream",
     "text": [
      "CPU times: user 160 ms, sys: 24 ms, total: 184 ms\n",
      "Wall time: 185 ms\n"
     ]
    }
   ],
   "source": [
    "%time dec = vlen_codec.decode(enc)"
   ]
  },
  {
   "cell_type": "code",
   "execution_count": 8,
   "metadata": {},
   "outputs": [
    {
     "name": "stdout",
     "output_type": "stream",
     "text": [
      "MsgPack(encoding='utf-8')\n",
      "encode\n",
      "128 ms ± 1.96 ms per loop (mean ± std. dev. of 7 runs, 10 loops each)\n",
      "decode\n",
      "232 ms ± 6.94 ms per loop (mean ± std. dev. of 7 runs, 1 loop each)\n",
      "size         : 18,996,503\n",
      "size (zstd 1): 1,576,435\n",
      "size (zstd 5): 1,409,320\n",
      "size (zstd 9): 1,310,380\n"
     ]
    }
   ],
   "source": [
    "benchmark_codec(msgpack_codec, data)"
   ]
  },
  {
   "cell_type": "code",
   "execution_count": 7,
   "metadata": {},
   "outputs": [
    {
     "name": "stdout",
     "output_type": "stream",
     "text": [
      "JSON(encoding='utf-8', allow_nan=True, check_circular=True, ensure_ascii=True,\n",
      "     indent=None, separators=(',', ':'), skipkeys=False, sort_keys=True,\n",
      "     strict=True)\n",
      "encode\n",
      "178 ms ± 4.09 ms per loop (mean ± std. dev. of 7 runs, 10 loops each)\n",
      "decode\n",
      "422 ms ± 4.02 ms per loop (mean ± std. dev. of 7 runs, 1 loop each)\n",
      "size         : 33,322,595\n",
      "size (zstd 1): 1,840,414\n",
      "size (zstd 5): 1,675,163\n",
      "size (zstd 9): 1,522,853\n"
     ]
    }
   ],
   "source": [
    "benchmark_codec(json_codec, data)"
   ]
  },
  {
   "cell_type": "code",
   "execution_count": 8,
   "metadata": {},
   "outputs": [
    {
     "name": "stdout",
     "output_type": "stream",
     "text": [
      "Pickle(protocol=4)\n",
      "encode\n",
      "238 ms ± 25.2 ms per loop (mean ± std. dev. of 7 runs, 1 loop each)\n",
      "decode\n",
      "212 ms ± 3.05 ms per loop (mean ± std. dev. of 7 runs, 1 loop each)\n",
      "size         : 20,835,275\n",
      "size (zstd 1): 1,608,227\n",
      "size (zstd 5): 1,436,093\n",
      "size (zstd 9): 1,333,676\n"
     ]
    }
   ],
   "source": [
    "benchmark_codec(pickle_codec, data)"
   ]
  },
  {
   "cell_type": "code",
   "execution_count": 9,
   "metadata": {},
   "outputs": [
    {
     "name": "stdout",
     "output_type": "stream",
     "text": [
      "Categorize(dtype='|O', astype='|u1', labels=['¡Hola mundo!', 'Hej Världen!', 'Servus Woid!', ...])\n",
      "encode\n",
      "221 ms ± 10.3 ms per loop (mean ± std. dev. of 7 runs, 1 loop each)\n",
      "decode\n",
      "34.8 ms ± 11 ms per loop (mean ± std. dev. of 7 runs, 10 loops each)\n",
      "size         : 1,000,000\n",
      "size (zstd 1): 458,191\n",
      "size (zstd 5): 493,638\n",
      "size (zstd 9): 490,483\n"
     ]
    }
   ],
   "source": [
    "benchmark_codec(cat_codec, data)"
   ]
  },
  {
   "cell_type": "code",
   "execution_count": 10,
   "metadata": {},
   "outputs": [
    {
     "name": "stdout",
     "output_type": "stream",
     "text": [
      "VLenUTF8()\n",
      "encode\n",
      "72.4 ms ± 811 µs per loop (mean ± std. dev. of 7 runs, 10 loops each)\n",
      "decode\n",
      "166 ms ± 202 µs per loop (mean ± std. dev. of 7 runs, 10 loops each)\n",
      "size         : 21,830,275\n",
      "size (zstd 1): 1,762,784\n",
      "size (zstd 5): 1,546,616\n",
      "size (zstd 9): 1,358,840\n"
     ]
    }
   ],
   "source": [
    "benchmark_codec(vlen_codec, data)"
   ]
  },
  {
   "cell_type": "code",
   "execution_count": 11,
   "metadata": {},
   "outputs": [
    {
     "name": "stdout",
     "output_type": "stream",
     "text": [
      "FastParquetCodec()\n",
      "encode\n",
      "107 ms ± 497 µs per loop (mean ± std. dev. of 7 runs, 10 loops each)\n",
      "decode\n",
      "223 ms ± 4.44 ms per loop (mean ± std. dev. of 7 runs, 1 loop each)\n",
      "size         : 21,830,271\n",
      "size (zstd 1): 1,762,809\n",
      "size (zstd 5): 1,546,612\n",
      "size (zstd 9): 1,358,813\n"
     ]
    }
   ],
   "source": [
    "benchmark_codec(fp_codec, data)"
   ]
  },
  {
   "cell_type": "markdown",
   "metadata": {},
   "source": [
    "### Lorem benchmark"
   ]
  },
  {
   "cell_type": "code",
   "execution_count": 11,
   "metadata": {},
   "outputs": [],
   "source": [
    "from faker import Faker\n",
    "fake = Faker()"
   ]
  },
  {
   "cell_type": "code",
   "execution_count": 12,
   "metadata": {},
   "outputs": [
    {
     "data": {
      "text/plain": [
       "(1101346, array(['Aspernatur', 'ratione', 'ea', 'eius', 'unde', 'sed', 'id',\n",
       "        'provident.', 'Harum', 'expedita'], dtype=object))"
      ]
     },
     "execution_count": 12,
     "metadata": {},
     "output_type": "execute_result"
    }
   ],
   "source": [
    "data2 = np.array(' '.join(fake.sentences(nb=200000)).split(), dtype=object)\n",
    "len(data2), data2[:10]"
   ]
  },
  {
   "cell_type": "code",
   "execution_count": 14,
   "metadata": {},
   "outputs": [
    {
     "name": "stdout",
     "output_type": "stream",
     "text": [
      "MsgPack(encoding='utf-8')\n",
      "encode\n",
      "99.4 ms ± 7.05 ms per loop (mean ± std. dev. of 7 runs, 1 loop each)\n",
      "decode\n",
      "141 ms ± 334 µs per loop (mean ± std. dev. of 7 runs, 10 loops each)\n",
      "size         : 8,372,944\n",
      "size (zstd 1): 2,627,063\n",
      "size (zstd 5): 2,354,835\n",
      "size (zstd 9): 2,262,203\n"
     ]
    }
   ],
   "source": [
    "benchmark_codec(msgpack_codec, data2)"
   ]
  },
  {
   "cell_type": "code",
   "execution_count": 15,
   "metadata": {},
   "outputs": [
    {
     "name": "stdout",
     "output_type": "stream",
     "text": [
      "JSON(encoding='utf-8', allow_nan=True, check_circular=True, ensure_ascii=True,\n",
      "     indent=None, separators=(',', ':'), skipkeys=False, sort_keys=True,\n",
      "     strict=True)\n",
      "encode\n",
      "120 ms ± 1.31 ms per loop (mean ± std. dev. of 7 runs, 10 loops each)\n",
      "decode\n",
      "144 ms ± 12.9 ms per loop (mean ± std. dev. of 7 runs, 10 loops each)\n",
      "size         : 10,574,596\n",
      "size (zstd 1): 2,544,155\n",
      "size (zstd 5): 2,435,165\n",
      "size (zstd 9): 2,310,001\n"
     ]
    }
   ],
   "source": [
    "benchmark_codec(json_codec, data2)"
   ]
  },
  {
   "cell_type": "code",
   "execution_count": 16,
   "metadata": {},
   "outputs": [
    {
     "name": "stdout",
     "output_type": "stream",
     "text": [
      "Pickle(protocol=4)\n",
      "encode\n",
      "235 ms ± 7.98 ms per loop (mean ± std. dev. of 7 runs, 1 loop each)\n",
      "decode\n",
      "133 ms ± 577 µs per loop (mean ± std. dev. of 7 runs, 10 loops each)\n",
      "size         : 10,571,711\n",
      "size (zstd 1): 2,581,019\n",
      "size (zstd 5): 2,454,825\n",
      "size (zstd 9): 2,452,222\n"
     ]
    }
   ],
   "source": [
    "benchmark_codec(pickle_codec, data2)"
   ]
  },
  {
   "cell_type": "code",
   "execution_count": 13,
   "metadata": {},
   "outputs": [
    {
     "name": "stdout",
     "output_type": "stream",
     "text": [
      "VLenUTF8()\n",
      "encode\n",
      "50.5 ms ± 614 µs per loop (mean ± std. dev. of 7 runs, 10 loops each)\n",
      "decode\n",
      "93.2 ms ± 641 µs per loop (mean ± std. dev. of 7 runs, 10 loops each)\n",
      "size         : 11,683,595\n",
      "size (zstd 1): 2,957,265\n",
      "size (zstd 5): 2,859,653\n",
      "size (zstd 9): 2,557,328\n"
     ]
    }
   ],
   "source": [
    "benchmark_codec(vlen_codec, data2)"
   ]
  },
  {
   "cell_type": "code",
   "execution_count": 15,
   "metadata": {},
   "outputs": [
    {
     "name": "stdout",
     "output_type": "stream",
     "text": [
      "FastParquetCodec()\n",
      "encode\n",
      "80.4 ms ± 841 µs per loop (mean ± std. dev. of 7 runs, 10 loops each)\n",
      "decode\n",
      "148 ms ± 1.08 ms per loop (mean ± std. dev. of 7 runs, 10 loops each)\n",
      "size         : 11,680,588\n",
      "size (zstd 1): 2,956,144\n",
      "size (zstd 5): 2,859,941\n",
      "size (zstd 9): 2,555,154\n"
     ]
    }
   ],
   "source": [
    "benchmark_codec(fp_codec, data2)"
   ]
  },
  {
   "cell_type": "markdown",
   "metadata": {},
   "source": [
    "## Byte strings benchmark"
   ]
  },
  {
   "cell_type": "code",
   "execution_count": 14,
   "metadata": {},
   "outputs": [],
   "source": [
    "vlen_bytes_codec = numcodecs.VLenBytes()"
   ]
  },
  {
   "cell_type": "code",
   "execution_count": 15,
   "metadata": {},
   "outputs": [
    {
     "data": {
      "text/plain": [
       "array([ b'\\xce\\x93\\xce\\xb5\\xce\\xb9\\xce\\xb1 \\xcf\\x83\\xce\\xbf\\xcf\\x85 \\xce\\xba\\xcf\\x8c\\xcf\\x83\\xce\\xbc\\xce\\xb5!',\n",
       "       b'Hei maailma!', b'Zdravo svete!', ..., b'Servus Woid!',\n",
       "       b'\\xe0\\xb9\\x80\\xe0\\xb8\\xae\\xe0\\xb8\\xa5\\xe0\\xb9\\x82\\xe0\\xb8\\xa5\\xe0\\xb9\\x80\\xe0\\xb8\\xa7\\xe0\\xb8\\xb4\\xe0\\xb8\\xa5\\xe0\\xb8\\x94\\xe0\\xb9\\x8c',\n",
       "       b'Zdravo svete!'], dtype=object)"
      ]
     },
     "execution_count": 15,
     "metadata": {},
     "output_type": "execute_result"
    }
   ],
   "source": [
    "np.random.seed(42)\n",
    "greetings_bytes = [g.encode('utf-8') for g in greetings]\n",
    "data3 = np.random.choice(greetings_bytes, size=1000000).astype(object)\n",
    "data3"
   ]
  },
  {
   "cell_type": "code",
   "execution_count": 16,
   "metadata": {},
   "outputs": [
    {
     "data": {
      "text/plain": [
       "array([ b'\\xce\\x93\\xce\\xb5\\xce\\xb9\\xce\\xb1 \\xcf\\x83\\xce\\xbf\\xcf\\x85 \\xce\\xba\\xcf\\x8c\\xcf\\x83\\xce\\xbc\\xce\\xb5!',\n",
       "       b'Hei maailma!', b'Zdravo svete!', ..., b'Servus Woid!',\n",
       "       b'\\xe0\\xb9\\x80\\xe0\\xb8\\xae\\xe0\\xb8\\xa5\\xe0\\xb9\\x82\\xe0\\xb8\\xa5\\xe0\\xb9\\x80\\xe0\\xb8\\xa7\\xe0\\xb8\\xb4\\xe0\\xb8\\xa5\\xe0\\xb8\\x94\\xe0\\xb9\\x8c',\n",
       "       b'Zdravo svete!'], dtype=object)"
      ]
     },
     "execution_count": 16,
     "metadata": {},
     "output_type": "execute_result"
    }
   ],
   "source": [
    "vlen_bytes_codec.decode(vlen_bytes_codec.encode(data3))"
   ]
  },
  {
   "cell_type": "code",
   "execution_count": 8,
   "metadata": {},
   "outputs": [
    {
     "name": "stdout",
     "output_type": "stream",
     "text": [
      "Pickle(protocol=4)\n",
      "encode\n",
      "217 ms ± 9.6 ms per loop (mean ± std. dev. of 7 runs, 1 loop each)\n",
      "decode\n",
      "90.6 ms ± 2.28 ms per loop (mean ± std. dev. of 7 runs, 10 loops each)\n",
      "size         : 20,835,275\n",
      "size (zstd 1): 1,608,240\n",
      "size (zstd 5): 1,436,091\n",
      "size (zstd 9): 1,333,674\n"
     ]
    }
   ],
   "source": [
    "benchmark_codec(pickle_codec, data3)"
   ]
  },
  {
   "cell_type": "code",
   "execution_count": 17,
   "metadata": {},
   "outputs": [
    {
     "name": "stdout",
     "output_type": "stream",
     "text": [
      "VLenBytes()\n",
      "encode\n",
      "14.2 ms ± 76.6 µs per loop (mean ± std. dev. of 7 runs, 100 loops each)\n",
      "decode\n",
      "45.5 ms ± 2.38 ms per loop (mean ± std. dev. of 7 runs, 10 loops each)\n",
      "size         : 21,830,275\n",
      "size (zstd 1): 1,762,784\n",
      "size (zstd 5): 1,546,616\n",
      "size (zstd 9): 1,358,840\n"
     ]
    }
   ],
   "source": [
    "benchmark_codec(vlen_bytes_codec, data3)"
   ]
  },
  {
   "cell_type": "markdown",
   "metadata": {},
   "source": [
    "## Array benchmarks"
   ]
  },
  {
   "cell_type": "code",
   "execution_count": 30,
   "metadata": {},
   "outputs": [
    {
     "data": {
      "text/plain": [
       "array([array([51, 92, 14, 71, 60, 20], dtype=int32),\n",
       "       array([82, 86, 74, 74, 87, 99], dtype=int32),\n",
       "       array([23,  2, 21, 52,  1, 87, 29], dtype=int32), ...,\n",
       "       array([19, 62, 18], dtype=int32),\n",
       "       array([93, 20,  7, 50], dtype=int32), array([51, 28], dtype=int32)], dtype=object)"
      ]
     },
     "execution_count": 30,
     "metadata": {},
     "output_type": "execute_result"
    }
   ],
   "source": [
    "np.random.seed(42)\n",
    "data4 = np.array([np.random.randint(0, 100, size=np.random.randint(0, 20)).astype('i4')\n",
    "                  for i in range(100000)], dtype=object)\n",
    "data4"
   ]
  },
  {
   "cell_type": "code",
   "execution_count": 28,
   "metadata": {},
   "outputs": [],
   "source": [
    "vlen_arr_codec = numcodecs.VLenArray('<i4')"
   ]
  },
  {
   "cell_type": "code",
   "execution_count": 29,
   "metadata": {},
   "outputs": [
    {
     "data": {
      "text/plain": [
       "array([array([51, 92, 14, 71, 60, 20], dtype=int32),\n",
       "       array([82, 86, 74, 74, 87, 99], dtype=int32),\n",
       "       array([23,  2, 21, 52,  1, 87, 29], dtype=int32), ...,\n",
       "       array([19, 62, 18], dtype=int32),\n",
       "       array([93, 20,  7, 50], dtype=int32), array([51, 28], dtype=int32)], dtype=object)"
      ]
     },
     "execution_count": 29,
     "metadata": {},
     "output_type": "execute_result"
    }
   ],
   "source": [
    "vlen_arr_codec.decode(vlen_arr_codec.encode(data4))"
   ]
  },
  {
   "cell_type": "code",
   "execution_count": 25,
   "metadata": {},
   "outputs": [
    {
     "name": "stdout",
     "output_type": "stream",
     "text": [
      "VLenArray(dtype='<i4')\n",
      "encode\n",
      "152 ms ± 317 µs per loop (mean ± std. dev. of 7 runs, 10 loops each)\n",
      "decode\n",
      "82.3 ms ± 1.08 ms per loop (mean ± std. dev. of 7 runs, 10 loops each)\n",
      "size         : 4,195,540\n",
      "size (zstd 1): 1,316,155\n",
      "size (zstd 5): 1,119,896\n",
      "size (zstd 9): 1,200,561\n"
     ]
    }
   ],
   "source": [
    "benchmark_codec(vlen_arr_codec, data4)"
   ]
  },
  {
   "cell_type": "code",
   "execution_count": 26,
   "metadata": {},
   "outputs": [
    {
     "name": "stdout",
     "output_type": "stream",
     "text": [
      "Pickle(protocol=4)\n",
      "encode\n",
      "311 ms ± 6.38 ms per loop (mean ± std. dev. of 7 runs, 1 loop each)\n",
      "decode\n",
      "126 ms ± 1.36 ms per loop (mean ± std. dev. of 7 runs, 10 loops each)\n",
      "size         : 6,791,830\n",
      "size (zstd 1): 1,716,068\n",
      "size (zstd 5): 1,566,619\n",
      "size (zstd 9): 1,488,721\n"
     ]
    }
   ],
   "source": [
    "benchmark_codec(pickle_codec, data4)"
   ]
  },
  {
   "cell_type": "code",
   "execution_count": null,
   "metadata": {},
   "outputs": [],
   "source": []
  }
 ],
 "metadata": {
  "kernelspec": {
   "display_name": "Python 3",
   "language": "python",
   "name": "python3"
  },
  "language_info": {
   "codemirror_mode": {
    "name": "ipython",
    "version": 3
   },
   "file_extension": ".py",
   "mimetype": "text/x-python",
   "name": "python",
   "nbconvert_exporter": "python",
   "pygments_lexer": "ipython3",
   "version": "3.6.1"
  }
 },
 "nbformat": 4,
 "nbformat_minor": 2
}
