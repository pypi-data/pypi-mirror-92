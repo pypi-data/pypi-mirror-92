{
 "cells": [
  {
   "cell_type": "code",
   "execution_count": 1,
   "metadata": {},
   "outputs": [
    {
     "name": "stdout",
     "output_type": "stream",
     "text": [
      "with params mito_simple_raw_import None False\n"
     ]
    },
    {
     "data": {
      "application/vnd.jupyter.widget-view+json": {
       "model_id": "49907db8c4d64fd0bdbf52a1861b9c37",
       "version_major": 2,
       "version_minor": 0
      },
      "text/plain": [
       "MitoWidget(analysis_name='UUID-95969c7b-c92b-476c-a84c-26019549198d', code_json='{\"imports\": \"from mitosheet i…"
      ]
     },
     "metadata": {},
     "output_type": "display_data"
    }
   ],
   "source": [
    "import mitosheet\n",
    "mitosheet.sheet(saved_analysis_name='mito_simple_raw_import')"
   ]
  },
  {
   "cell_type": "code",
   "execution_count": null,
   "metadata": {},
   "outputs": [],
   "source": [
    "# MITO CODE START (DO NOT EDIT)\n",
    "# SAVED-ANALYSIS-STARTUUID-95969c7b-c92b-476c-a84c-26019549198dSAVED-ANALYSIS-END\n",
    "\n",
    "from mitosheet import *\n",
    "\n",
    "# Step 1\n",
    "\n",
    "import pandas as pd\n",
    "\n",
    "df = pd.DataFrame({'A': [123]})\n",
    "  \n",
    "# MITO CODE END (DO NOT EDIT)"
   ]
  }
 ],
 "metadata": {
  "kernelspec": {
   "display_name": "Python 3",
   "language": "python",
   "name": "python3"
  },
  "language_info": {
   "codemirror_mode": {
    "name": "ipython",
    "version": 3
   },
   "file_extension": ".py",
   "mimetype": "text/x-python",
   "name": "python",
   "nbconvert_exporter": "python",
   "pygments_lexer": "ipython3",
   "version": "3.8.5"
  },
  "widgets": {
   "application/vnd.jupyter.widget-state+json": {
    "state": {
     "0cfdb880ac6f476b96a723aa86a6165f": {
      "model_module": "@jupyter-widgets/base",
      "model_module_version": "1.2.0",
      "model_name": "LayoutModel",
      "state": {}
     },
     "49907db8c4d64fd0bdbf52a1861b9c37": {
      "model_module": "mitosheet",
      "model_module_version": "^0.1.100",
      "model_name": "ExampleModel",
      "state": {
       "_model_module_version": "^0.1.100",
       "_view_module_version": "^0.1.100",
       "analysis_name": "UUID-95969c7b-c92b-476c-a84c-26019549198d",
       "code_json": "{\"imports\": \"from mitosheet import *\", \"code\": [\"# Step 1\", \"import pandas as pd\", \"df = pd.DataFrame({'A': [123]})\"]}",
       "column_filters_json": "[{\"A\": {\"operator\": \"And\", \"filters\": []}}]",
       "column_spreadsheet_code_json": "[{\"A\": \"\"}]",
       "column_type_json": "[{\"A\": \"number\"}]",
       "df_names_json": "{\"df_names\": [\"saved_\"]}",
       "df_shape_json": "[{\"rows\": 1, \"cols\": 1}]",
       "has_rendered": true,
       "is_local_deployment": true,
       "layout": "IPY_MODEL_0cfdb880ac6f476b96a723aa86a6165f",
       "saved_analysis_names_json": "[\"111\", \"1111\", \"28\", \"Testing\", \"_3arkvynuo\", \"_419wxryas\", \"_49hlkjtgp\", \"_88amfqk2f\", \"_8b9x4aa2m\", \"_cb27694sr\", \"_gs9b8mudg\", \"_hexaujrz3\", \"_jtip39qtx\", \"_k4ce9w8om\", \"_ktv9i6xtb\", \"_nauipuq8o\", \"_ojtvedr82\", \"_rqyqe9rfu\", \"_yd64b4y4m\", \"test\", \"to_test\"]",
       "sheet_json": "[{\"columns\": [\"A\"], \"index\": [0], \"data\": [[123]]}]",
       "tutorial_mode": false,
       "user_id": "nate",
       "value": "Hello World"
      }
     }
    },
    "version_major": 2,
    "version_minor": 0
   }
  }
 },
 "nbformat": 4,
 "nbformat_minor": 4
}
