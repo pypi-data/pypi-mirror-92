{
 "cells": [
  {
   "cell_type": "code",
   "execution_count": null,
   "metadata": {
    "collapsed": false,
    "jupyter": {
     "outputs_hidden": false
    },
    "pycharm": {
     "name": "#%%\n"
    }
   },
   "outputs": [],
   "source": [
    "#  Copyright 2017-2021 Reveal Energy Services, Inc\n",
    "#\n",
    "#  Licensed under the Apache License, Version 2.0 (the \"License\");\n",
    "#  you may not use this file except in compliance with the License.\n",
    "#  You may obtain a copy of the License at\n",
    "#\n",
    "#      http://www.apache.org/licenses/LICENSE-2.0\n",
    "#\n",
    "#  Unless required by applicable law or agreed to in writing, software\n",
    "#  distributed under the License is distributed on an \"AS IS\" BASIS,\n",
    "#  WITHOUT WARRANTIES OR CONDITIONS OF ANY KIND, either express or implied.\n",
    "#  See the License for the specific language governing permissions and\n",
    "#  limitations under the License.\n",
    "#\n",
    "# This file is part of Orchid and related technologies.\n",
    "#"
   ]
  },
  {
   "cell_type": "markdown",
   "metadata": {},
   "source": [
    "# Example: Using Pandas to Analyze Completion Parameters"
   ]
  },
  {
   "cell_type": "markdown",
   "metadata": {
    "pycharm": {
     "name": "#%% md\n"
    }
   },
   "source": [
    "This notebook illustrates using the Orchid* Python API and the pandas package to\n",
    "perform completion analysis.\n",
    "\n",
    "(*Orchid is a mark of Reveal Energy Services, Inc)"
   ]
  },
  {
   "cell_type": "markdown",
   "metadata": {
    "pycharm": {
     "name": "#%% md\n"
    }
   },
   "source": [
    "## 0.5 Import packages"
   ]
  },
  {
   "cell_type": "markdown",
   "metadata": {
    "pycharm": {
     "name": "#%% md\n"
    }
   },
   "source": [
    "The only import needed for the Python API is `orchid` itself."
   ]
  },
  {
   "cell_type": "code",
   "execution_count": null,
   "metadata": {
    "collapsed": false,
    "jupyter": {
     "outputs_hidden": false
    },
    "pycharm": {
     "name": "#%%\n"
    }
   },
   "outputs": [],
   "source": [
    "import orchid"
   ]
  },
  {
   "cell_type": "markdown",
   "metadata": {
    "pycharm": {
     "name": "#%% md\n"
    }
   },
   "source": [
    "The remaining imports are standard python packages to support the analysis."
   ]
  },
  {
   "cell_type": "code",
   "execution_count": null,
   "metadata": {
    "collapsed": false,
    "jupyter": {
     "outputs_hidden": false
    },
    "pycharm": {
     "name": "#%%\n"
    }
   },
   "outputs": [],
   "source": [
    "import numpy as np\n",
    "import pandas as pd\n",
    "import matplotlib.pyplot as plt\n",
    "# The following import is included for its \"side-effects\" of an improved color schemes and\n",
    "# plot styles. (See the \"Tip\" in section 9.2 of \"Python for Data Analysis\" for details.)\n",
    "import seaborn as sns\n",
    "from scipy import integrate"
   ]
  },
  {
   "cell_type": "markdown",
   "metadata": {
    "jupyter": {
     "outputs_hidden": false
    },
    "pycharm": {
     "name": "#%% md\n"
    }
   },
   "source": [
    "## 1.0 Load the .ifrac project"
   ]
  },
  {
   "cell_type": "markdown",
   "metadata": {},
   "source": [
    "The following code simply captures the configured location of the Orchid training data. It is not needed to\n",
    "use the Orchid Python API itself, but it is used in this example to load well-known data."
   ]
  },
  {
   "cell_type": "code",
   "execution_count": null,
   "metadata": {
    "collapsed": false,
    "jupyter": {
     "outputs_hidden": false
    },
    "pycharm": {
     "name": "#%%\n"
    }
   },
   "outputs": [],
   "source": [
    "orchid_training_data_path = orchid.training_data_path()"
   ]
  },
  {
   "cell_type": "code",
   "execution_count": null,
   "metadata": {
    "collapsed": false,
    "jupyter": {
     "outputs_hidden": false
    },
    "pycharm": {
     "name": "#%%\n"
    }
   },
   "outputs": [],
   "source": [
    "bakken_project = orchid.load_project(str(orchid_training_data_path.joinpath(\n",
    "    'frankNstein_Bakken_UTM13_FEET.ifrac')))"
   ]
  },
  {
   "cell_type": "markdown",
   "metadata": {
    "pycharm": {
     "name": "#%% md\n"
    }
   },
   "source": [
    "## 2.0 Define a function to compute the stage treatment data"
   ]
  },
  {
   "cell_type": "code",
   "execution_count": null,
   "metadata": {
    "collapsed": false,
    "jupyter": {
     "outputs_hidden": false
    },
    "pycharm": {
     "name": "#%%\n"
    }
   },
   "outputs": [],
   "source": [
    "def compute_stage_treatment_aggregates(treatment_stage):\n",
    "    # These calculations IGNORE all calculation warnings.\n",
    "    pumped_fluid_volume = orchid.pumped_fluid_volume(treatment_stage,\n",
    "                                                     treatment_stage.start_time,\n",
    "                                                     treatment_stage.stop_time)[0].magnitude\n",
    "    total_proppant_mass = orchid.total_proppant_mass(treatment_stage,\n",
    "                                                     treatment_stage.start_time,\n",
    "                                                     treatment_stage.stop_time)[0].magnitude\n",
    "    median_treating_pressure = orchid.median_treating_pressure(treatment_stage,\n",
    "                                                               treatment_stage.start_time,\n",
    "                                                               treatment_stage.stop_time)[0].magnitude\n",
    "    return pumped_fluid_volume, total_proppant_mass, median_treating_pressure"
   ]
  },
  {
   "cell_type": "markdown",
   "metadata": {
    "pycharm": {
     "name": "#%% md\n"
    }
   },
   "source": [
    "## 3.0 Build a pandas data frame"
   ]
  },
  {
   "cell_type": "code",
   "execution_count": null,
   "metadata": {
    "collapsed": false,
    "jupyter": {
     "outputs_hidden": false
    },
    "pycharm": {
     "name": "#%%\n"
    }
   },
   "outputs": [],
   "source": [
    "bakken_units = bakken_project.project_units"
   ]
  },
  {
   "cell_type": "code",
   "execution_count": null,
   "metadata": {
    "collapsed": false,
    "jupyter": {
     "outputs_hidden": false
    },
    "pycharm": {
     "name": "#%%\n"
    }
   },
   "outputs": [],
   "source": [
    "# Calculate the stage results\n",
    "stage_results = []\n",
    "for well in bakken_project.wells:\n",
    "    stages = list(well.stages)\n",
    "\n",
    "    for stage in stages:\n",
    "        \n",
    "        treatment_aggregates = compute_stage_treatment_aggregates(stage)\n",
    "        # Skip stages with no aggregates. These stages most likely are from \n",
    "        # an untreated monitor well.\n",
    "        if not treatment_aggregates:\n",
    "            continue\n",
    "            \n",
    "        stage_fluid, stage_proppant, median_stage_pressure = treatment_aggregates\n",
    "        stage_results.append((bakken_project.name, well.name, stage.display_stage_number,\n",
    "                              stage.md_top(bakken_units.LENGTH).magnitude,\n",
    "                              stage.md_bottom(bakken_units.LENGTH).magnitude,\n",
    "                              stage_fluid, stage_proppant, median_stage_pressure))"
   ]
  },
  {
   "cell_type": "code",
   "execution_count": null,
   "metadata": {
    "collapsed": false,
    "jupyter": {
     "outputs_hidden": false
    },
    "pycharm": {
     "name": "#%%\n"
    }
   },
   "outputs": [],
   "source": [
    "# Provide a way to manage DataFrame column names (which include units) using simpler,\n",
    "# semantic identifiers. Creating the column names helps me avoid \"typos\" involved in\n",
    "# getting the (project-specific) units correct, but is not necessary in a typical\n",
    "# interactive session.\n",
    "\n",
    "bakken_columns = {'project': 'Project',\n",
    "                  'well': 'Well',\n",
    "                  'stage': 'Stage',\n",
    "                  'md_top': f'MD Top ({orchid.abbreviation(bakken_units.LENGTH)})',\n",
    "                  'md_bottom': f'MD Bottom ({orchid.abbreviation(bakken_units.LENGTH)})',\n",
    "                  'total_fluid':\n",
    "                      f'Total Fluid ({orchid.abbreviation(bakken_project.slurry_rate_volume_unit())})',\n",
    "                  'total_proppant':\n",
    "                      f'Total Proppant ({orchid.abbreviation(bakken_project.proppant_concentration_mass_unit())})',\n",
    "                  'median_treating':\n",
    "                      f'Median Treating Pressure ({orchid.abbreviation(bakken_units.PRESSURE)})'}"
   ]
  },
  {
   "cell_type": "code",
   "execution_count": null,
   "metadata": {
    "collapsed": false,
    "jupyter": {
     "outputs_hidden": false
    },
    "pycharm": {
     "name": "#%%\n"
    }
   },
   "outputs": [],
   "source": [
    "# Create the data frame\n",
    "bakken_summaries = pd.DataFrame(data=stage_results,\n",
    "                                columns=bakken_columns.values())\n",
    "bakken_summaries.head()"
   ]
  },
  {
   "cell_type": "markdown",
   "metadata": {
    "pycharm": {
     "name": "#%% md\n"
    }
   },
   "source": [
    "### 3.1 Compute the stage length directly from the data frame"
   ]
  },
  {
   "cell_type": "code",
   "execution_count": null,
   "metadata": {
    "collapsed": false,
    "jupyter": {
     "outputs_hidden": false
    },
    "pycharm": {
     "name": "#%%"
    }
   },
   "outputs": [],
   "source": [
    "bakken_summaries[f'Stage Length ({orchid.abbreviation(bakken_units.LENGTH)})'] = \\\n",
    "    bakken_summaries.apply(lambda s: s[bakken_columns['md_bottom']] - s[bakken_columns['md_top']], axis=1)\n",
    "bakken_columns['stage_length'] = bakken_summaries.columns[-1]\n",
    "bakken_summaries.head()"
   ]
  },
  {
   "cell_type": "markdown",
   "metadata": {
    "pycharm": {
     "name": "#%% md\n"
    }
   },
   "source": [
    "### 3.2 Now compute the proppant loading for each stage"
   ]
  },
  {
   "cell_type": "code",
   "execution_count": null,
   "metadata": {
    "collapsed": false,
    "jupyter": {
     "outputs_hidden": false
    },
    "pycharm": {
     "name": "#%%\n"
    }
   },
   "outputs": [],
   "source": [
    "bakken_summaries[f'Proppant loading' \\\n",
    "                 f' ({orchid.abbreviation(bakken_project.proppant_concentration_mass_unit())}' \\\n",
    "                 f'/{orchid.abbreviation(bakken_units.LENGTH)})'] = \\\n",
    "    bakken_summaries.apply(lambda s: s[bakken_columns['total_proppant']] / s[bakken_columns['stage_length']],\n",
    "                           axis=1)\n",
    "bakken_columns['proppant_loading'] = bakken_summaries.columns[-1]\n",
    "bakken_summaries.head()"
   ]
  },
  {
   "cell_type": "markdown",
   "metadata": {
    "pycharm": {
     "name": "#%% md\n"
    }
   },
   "source": [
    "## 4.0 Completion questions"
   ]
  },
  {
   "cell_type": "markdown",
   "metadata": {
    "pycharm": {
     "name": "#%% md\n"
    }
   },
   "source": [
    "### 4.1 What is the median proppant intensity per well?"
   ]
  },
  {
   "cell_type": "code",
   "execution_count": null,
   "metadata": {
    "collapsed": false,
    "jupyter": {
     "outputs_hidden": false
    },
    "pycharm": {
     "name": "#%%\n"
    }
   },
   "outputs": [],
   "source": [
    "bakken_summaries[[bakken_columns['well'],\n",
    "                  bakken_columns['proppant_loading']]]. \\\n",
    "    groupby(bakken_columns['well']).median()"
   ]
  },
  {
   "cell_type": "code",
   "execution_count": null,
   "metadata": {},
   "outputs": [],
   "source": [
    "groups = bakken_summaries.groupby(bakken_columns['well'])\n",
    "\n",
    "fig, ax = plt.subplots()\n",
    "ax.margins(0.05) # Optional, just adds 5% padding to the autoscaling\n",
    "for name, group in groups:\n",
    "    ax.plot(group[bakken_columns['stage']],\n",
    "            group[bakken_columns['proppant_loading']],\n",
    "            marker='o', linestyle='', ms=6, label=name)\n",
    "ax.legend()\n",
    "plt.rcParams['figure.dpi'] = 150\n",
    "plt.show()"
   ]
  },
  {
   "cell_type": "markdown",
   "metadata": {
    "pycharm": {
     "name": "#%% md\n"
    }
   },
   "source": [
    "That's a little hard to interpret with the outliers"
   ]
  },
  {
   "cell_type": "code",
   "execution_count": null,
   "metadata": {
    "collapsed": false,
    "jupyter": {
     "outputs_hidden": false
    },
    "pycharm": {
     "name": "#%%\n"
    }
   },
   "outputs": [],
   "source": [
    "# Plot\n",
    "groups = bakken_summaries[bakken_summaries[bakken_columns['stage']] > 5]. \\\n",
    "    groupby(bakken_columns['well'])\n",
    "\n",
    "fig, ax = plt.subplots()\n",
    "ax.margins(0.05) # Optional, just adds 5% padding to the autoscaling\n",
    "for name, group in groups:\n",
    "    ax.plot(group[bakken_columns['stage']],\n",
    "            group[bakken_columns['proppant_loading']],\n",
    "            marker='o', linestyle='', ms=6, label=name)\n",
    "ax.legend()\n",
    "ax.set_title(f'Proppant Loading by Stage')\n",
    "ax.set_xlabel('Stage Number')\n",
    "ax.set_ylabel(bakken_columns['proppant_loading'])\n",
    "plt.rcParams['figure.dpi'] = 150\n",
    "plt.show()"
   ]
  },
  {
   "cell_type": "markdown",
   "metadata": {
    "pycharm": {
     "name": "#%% md\n"
    }
   },
   "source": [
    "That's a little busy. Let's clean it up."
   ]
  },
  {
   "cell_type": "code",
   "execution_count": null,
   "metadata": {
    "collapsed": false,
    "jupyter": {
     "outputs_hidden": false
    },
    "pycharm": {
     "name": "#%%\n"
    }
   },
   "outputs": [],
   "source": [
    "def build_proppant_loading_plot(data_frame):\n",
    "    groups = data_frame.groupby(bakken_columns['well'])\n",
    "\n",
    "    fig, ax = plt.subplots(len(groups), sharex=True, sharey=True)\n",
    "    fig.suptitle(f'{bakken_columns[\"proppant_loading\"]} by Stage')\n",
    "    i=0\n",
    "    colors=['tab:blue', 'tab:orange', 'tab:green', 'tab:red', 'tab:purple',\n",
    "            'tab:brown', 'tab:pink', 'tab:gray', 'tab:olive', 'tab:cyan']\n",
    "    for name, group in groups:\n",
    "        ax[i].margins(0.05)\n",
    "        ax[i].plot(group[bakken_columns['stage']],\n",
    "                   group[bakken_columns['proppant_loading']],\n",
    "                   marker='o', linestyle='', ms=6, label=name)\n",
    "        ax[i].legend()\n",
    "        ax[i].set_xlabel('Stage Number')\n",
    "        i = i+1\n",
    "        # Hide x labels and tick labels for all but bottom plot.\n",
    "    for a in ax:\n",
    "        a.label_outer()\n",
    "    plt.rcParams['figure.dpi'] = 150\n",
    "    plt.show()\n",
    "\n",
    "build_proppant_loading_plot(bakken_summaries[bakken_summaries[bakken_columns['stage']]>5])"
   ]
  },
  {
   "cell_type": "markdown",
   "metadata": {
    "pycharm": {
     "name": "#%% md\n"
    }
   },
   "source": [
    "### 4.2 What is the median treating pressure per well?"
   ]
  },
  {
   "cell_type": "code",
   "execution_count": null,
   "metadata": {
    "collapsed": false,
    "jupyter": {
     "outputs_hidden": false
    },
    "pycharm": {
     "name": "#%%\n"
    }
   },
   "outputs": [],
   "source": [
    "bakken_summaries[[bakken_columns['well'],\n",
    "                  bakken_columns['median_treating']]]. \\\n",
    "    groupby(bakken_columns['well']).median()"
   ]
  },
  {
   "cell_type": "code",
   "execution_count": null,
   "metadata": {
    "collapsed": false,
    "jupyter": {
     "outputs_hidden": false
    },
    "pycharm": {
     "name": "#%%\n"
    }
   },
   "outputs": [],
   "source": [
    "groups = bakken_summaries.groupby(bakken_columns['well'])\n",
    "\n",
    "fig, ax = plt.subplots(3, sharex=True, sharey=True)\n",
    "fig.suptitle(f'{bakken_columns[\"median_treating\"]} by Stage')\n",
    "i=0\n",
    "colors=['tab:blue', 'tab:orange', 'tab:green',\n",
    "        'tab:purple', 'tab:yellow', 'tab:red', 'tab:black']\n",
    "for name, group in groups:\n",
    "    ax[i].margins(0.05)\n",
    "    ax[i].plot(group[bakken_columns['stage']],\n",
    "               group[bakken_columns['median_treating']],\n",
    "               colors[i], marker='o', linestyle='', ms=6, label=name)\n",
    "    ax[i].legend()\n",
    "    ax[i].set_xlabel('Stage Number')\n",
    "    i = i+1\n",
    "\n",
    "    # Hide x labels and tick labels for all but bottom plot.\n",
    "for a in ax:\n",
    "    a.label_outer()\n",
    "plt.show()"
   ]
  },
  {
   "cell_type": "markdown",
   "metadata": {
    "pycharm": {
     "name": "#%% md\n"
    }
   },
   "source": [
    "## 5.0 Add another .ifrac project"
   ]
  },
  {
   "cell_type": "code",
   "execution_count": null,
   "metadata": {
    "collapsed": false,
    "jupyter": {
     "outputs_hidden": false
    },
    "pycharm": {
     "name": "#%%\n"
    }
   },
   "outputs": [],
   "source": [
    "montney_project = orchid.load_project(str(orchid_training_data_path.joinpath(\n",
    "    'Project-frankNstein_Montney_UTM13_METERS.ifrac')))"
   ]
  },
  {
   "cell_type": "code",
   "execution_count": null,
   "metadata": {
    "collapsed": false,
    "jupyter": {
     "outputs_hidden": false
    },
    "pycharm": {
     "name": "#%%\n"
    }
   },
   "outputs": [],
   "source": [
    "montney_units = montney_project.project_units"
   ]
  },
  {
   "cell_type": "code",
   "execution_count": null,
   "metadata": {
    "collapsed": false,
    "jupyter": {
     "outputs_hidden": false
    },
    "pycharm": {
     "name": "#%%\n"
    }
   },
   "outputs": [],
   "source": [
    "# Calculate the stage results for the Montney project\n",
    "stage_results = []\n",
    "for well in montney_project.wells:\n",
    "    stages = list(well.stages)\n",
    "\n",
    "    for stage in stages:\n",
    "\n",
    "        treatment_aggregates = compute_stage_treatment_aggregates(stage)\n",
    "        # Skip stages with no aggregates. These stages most likely are from\n",
    "        # an untreated monitor well.\n",
    "        if not treatment_aggregates:\n",
    "            continue\n",
    "\n",
    "        stage_fluid, stage_proppant, median_stage_pressure = treatment_aggregates\n",
    "        stage_results.append((montney_project.name, well.name, stage.display_stage_number,\n",
    "                              stage.md_top(montney_units.LENGTH).magnitude,\n",
    "                              stage.md_bottom(montney_units.LENGTH).magnitude,\n",
    "                              stage_fluid, stage_proppant, median_stage_pressure))"
   ]
  },
  {
   "cell_type": "code",
   "execution_count": null,
   "metadata": {
    "collapsed": false,
    "jupyter": {
     "outputs_hidden": false
    },
    "pycharm": {
     "name": "#%%\n"
    }
   },
   "outputs": [],
   "source": [
    "# Provide a way to manage DataFrame column names (which include units) using simpler,\n",
    "# semantic identifiers.\n",
    "\n",
    "montney_columns = {'project': 'Project',\n",
    "                  'well': 'Well',\n",
    "                  'stage': 'Stage',\n",
    "                  'md_top': f'MD Top ({orchid.abbreviation(montney_units.LENGTH)})',\n",
    "                  'md_bottom': f'MD Bottom ({orchid.abbreviation(montney_units.LENGTH)})',\n",
    "                  'total_fluid':\n",
    "                       f'Total Fluid ({orchid.abbreviation(montney_project.slurry_rate_volume_unit())})',\n",
    "                  'total_proppant':\n",
    "                       f'Total Proppant ({orchid.abbreviation(montney_project.proppant_concentration_mass_unit())})',\n",
    "                  'median_treating':\n",
    "                       f'Median Treating Pressure ({orchid.abbreviation(montney_units.PRESSURE)})'}"
   ]
  },
  {
   "cell_type": "code",
   "execution_count": null,
   "metadata": {
    "collapsed": false,
    "jupyter": {
     "outputs_hidden": false
    },
    "pycharm": {
     "name": "#%%\n"
    }
   },
   "outputs": [],
   "source": [
    "# Create the Montney data frame\n",
    "montney_summaries = pd.DataFrame(data=stage_results,\n",
    "                                columns=montney_columns.values())\n",
    "\n",
    "montney_summaries[f'Stage Length ({orchid.abbreviation(montney_units.LENGTH)})'] = \\\n",
    "    montney_summaries.apply(\n",
    "        lambda s: s[montney_columns['md_bottom']] -\n",
    "                  s[montney_columns['md_top']], axis=1)\n",
    "montney_columns['stage_length'] = montney_summaries.columns[-1]\n",
    "\n",
    "montney_summaries[f'Proppant loading' \\\n",
    "                  f' ({orchid.abbreviation(montney_project.proppant_concentration_mass_unit())}/'\n",
    "                  f'{orchid.abbreviation(montney_units.LENGTH)})'] = \\\n",
    "    montney_summaries.apply(lambda s: s[montney_columns['total_proppant']] / s[montney_columns['stage_length']],\n",
    "                            axis=1)\n",
    "montney_columns['proppant_loading'] = montney_summaries.columns[-1]\n",
    "\n",
    "montney_summaries.head()"
   ]
  },
  {
   "cell_type": "markdown",
   "metadata": {
    "pycharm": {
     "name": "#%% md\n"
    }
   },
   "source": [
    "### 5.1 Combine the data for the two projects."
   ]
  },
  {
   "cell_type": "markdown",
   "metadata": {
    "pycharm": {
     "name": "#%% md\n"
    }
   },
   "source": [
    "Because the frankNstein_Bakken_UTM13_FEET project is in US Oilfield units, and the\n",
    "Project-frankNstein_Montney_UTM13_METERS project is in metric units, I'll need to\n",
    "convert one to the other."
   ]
  },
  {
   "cell_type": "code",
   "execution_count": null,
   "metadata": {
    "collapsed": false,
    "jupyter": {
     "outputs_hidden": false
    },
    "pycharm": {
     "name": "#%%\n"
    }
   },
   "outputs": [],
   "source": [
    "# Calculate the stage results in US oilfield units for the Montney project\n",
    "stage_results = []\n",
    "for well in montney_project.wells:\n",
    "    stages = list(well.stages)\n",
    "\n",
    "    for stage in stages:\n",
    "\n",
    "        treatment_aggregates = compute_stage_treatment_aggregates(stage)\n",
    "        if not treatment_aggregates:\n",
    "            continue\n",
    "\n",
    "        # Convert stage aggregates to US oilfield units\n",
    "        stage_fluid = orchid.to_unit(\n",
    "            bakken_project.slurry_rate_volume_unit(),\n",
    "            orchid.Measurement(treatment_aggregates[0],\n",
    "                               montney_project.slurry_rate_volume_unit())).magnitude\n",
    "        stage_proppant = orchid.to_unit(\n",
    "            bakken_project.proppant_concentration_mass_unit(),\n",
    "            orchid.Measurement(treatment_aggregates[1],\n",
    "                               montney_project.proppant_concentration_mass_unit())).magnitude\n",
    "        median_stage_pressure = orchid.to_unit(\n",
    "            bakken_units.PRESSURE,\n",
    "            orchid.Measurement(treatment_aggregates[2], montney_units.PRESSURE)).magnitude\n",
    "\n",
    "        stage_results.append((montney_project.name, well.name,\n",
    "                              stage.display_stage_number,\n",
    "                              stage.md_top(bakken_units.LENGTH).magnitude,\n",
    "                              stage.md_bottom(bakken_units.LENGTH).magnitude,\n",
    "                              stage_fluid, stage_proppant, median_stage_pressure))"
   ]
  },
  {
   "cell_type": "code",
   "execution_count": null,
   "metadata": {
    "collapsed": false,
    "jupyter": {
     "outputs_hidden": false
    },
    "pycharm": {
     "name": "#%%\n"
    }
   },
   "outputs": [],
   "source": [
    "# Create the converted Montney data frame\n",
    "montney_us_summaries = pd.DataFrame(data=stage_results,\n",
    "                                    columns=list(bakken_columns.values())[:-2])\n",
    "\n",
    "montney_us_summaries[f'Stage Length ({orchid.abbreviation(bakken_units.LENGTH)})'] = \\\n",
    "    montney_us_summaries.apply(\n",
    "        lambda s: s[bakken_columns['md_bottom']] - s[bakken_columns['md_top']], axis=1)\n",
    "\n",
    "montney_us_summaries[f'Proppant loading' \\\n",
    "                     f' ({orchid.abbreviation(bakken_project.proppant_concentration_mass_unit())}/'\n",
    "                     f'{orchid.abbreviation(bakken_units.LENGTH)})'] = \\\n",
    "    montney_us_summaries.apply(lambda s: s[bakken_columns['total_proppant']] / s[bakken_columns['stage_length']],\n",
    "                               axis=1)\n",
    "\n",
    "montney_us_summaries.head()"
   ]
  },
  {
   "cell_type": "code",
   "execution_count": null,
   "metadata": {
    "collapsed": false,
    "jupyter": {
     "outputs_hidden": false
    },
    "pycharm": {
     "name": "#%%\n"
    }
   },
   "outputs": [],
   "source": [
    "combined = bakken_summaries[bakken_summaries[bakken_columns['stage']] > 5]\\\n",
    "    .append(montney_us_summaries)\n",
    "combined.head()"
   ]
  },
  {
   "cell_type": "code",
   "execution_count": null,
   "metadata": {
    "collapsed": false,
    "jupyter": {
     "outputs_hidden": false
    },
    "pycharm": {
     "name": "#%%\n"
    }
   },
   "outputs": [],
   "source": [
    "combined[[bakken_columns['well'], bakken_columns['proppant_loading']]]\\\n",
    "    .groupby(bakken_columns['well'])\\\n",
    "    .median()"
   ]
  },
  {
   "cell_type": "code",
   "execution_count": null,
   "metadata": {
    "collapsed": false,
    "jupyter": {
     "outputs_hidden": false
    },
    "pycharm": {
     "name": "#%%\n"
    }
   },
   "outputs": [],
   "source": [
    "combined[[bakken_columns['well'], bakken_columns['proppant_loading']]]\\\n",
    "    .groupby(bakken_columns['well'])\\\n",
    "    .agg({bakken_columns['proppant_loading']:['median', 'std']})"
   ]
  },
  {
   "cell_type": "code",
   "execution_count": null,
   "metadata": {
    "collapsed": false,
    "jupyter": {
     "outputs_hidden": false
    },
    "pycharm": {
     "name": "#%%\n"
    }
   },
   "outputs": [],
   "source": [
    "build_proppant_loading_plot(combined)"
   ]
  }
 ],
 "metadata": {
  "kernelspec": {
   "display_name": "Python 3",
   "language": "python",
   "name": "python3"
  },
  "language_info": {
   "codemirror_mode": {
    "name": "ipython",
    "version": 3
   },
   "file_extension": ".py",
   "mimetype": "text/x-python",
   "name": "python",
   "nbconvert_exporter": "python",
   "pygments_lexer": "ipython3",
   "version": "3.8.7"
  }
 },
 "nbformat": 4,
 "nbformat_minor": 4
}
