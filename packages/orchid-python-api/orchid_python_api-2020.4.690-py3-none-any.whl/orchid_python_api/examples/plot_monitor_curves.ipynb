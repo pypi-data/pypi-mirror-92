{
 "cells": [
  {
   "cell_type": "code",
   "execution_count": null,
   "metadata": {
    "collapsed": false,
    "jupyter": {
     "outputs_hidden": false
    },
    "pycharm": {
     "name": "#%%\n"
    }
   },
   "outputs": [],
   "source": [
    "#  Copyright 2017-2021 Reveal Energy Services, Inc\n",
    "#\n",
    "#  Licensed under the Apache License, Version 2.0 (the \"License\");\n",
    "#  you may not use this file except in compliance with the License.\n",
    "#  You may obtain a copy of the License at\n",
    "#\n",
    "#      http://www.apache.org/licenses/LICENSE-2.0\n",
    "#\n",
    "#  Unless required by applicable law or agreed to in writing, software\n",
    "#  distributed under the License is distributed on an \"AS IS\" BASIS,\n",
    "#  WITHOUT WARRANTIES OR CONDITIONS OF ANY KIND, either express or implied.\n",
    "#  See the License for the specific language governing permissions and\n",
    "#  limitations under the License.\n",
    "#\n",
    "# This file is part of Orchid and related technologies.\n",
    "#"
   ]
  },
  {
   "cell_type": "markdown",
   "metadata": {},
   "source": [
    "# Example: Plotting well monitor curves"
   ]
  },
  {
   "cell_type": "markdown",
   "metadata": {},
   "source": [
    "This notebook illustrates using the Orchid* Python API and the pandas package to\n",
    "plot well monitor curves (time series).\n",
    "\n",
    "(*Orchid is a mark of Reveal Energy Services, Inc)"
   ]
  },
  {
   "cell_type": "markdown",
   "metadata": {},
   "source": [
    "## 0.5 Import packages"
   ]
  },
  {
   "cell_type": "markdown",
   "metadata": {},
   "source": [
    "The only import needed for the Python API is `orchid` itself."
   ]
  },
  {
   "cell_type": "code",
   "execution_count": null,
   "metadata": {
    "collapsed": false,
    "jupyter": {
     "outputs_hidden": false
    },
    "pycharm": {
     "name": "#%%\n"
    }
   },
   "outputs": [],
   "source": [
    "import orchid"
   ]
  },
  {
   "cell_type": "markdown",
   "metadata": {},
   "source": [
    "The remaining imports are standard python packages to support the analysis."
   ]
  },
  {
   "cell_type": "code",
   "execution_count": null,
   "metadata": {
    "collapsed": false,
    "jupyter": {
     "outputs_hidden": false
    },
    "pycharm": {
     "name": "#%%\n"
    }
   },
   "outputs": [],
   "source": [
    "import numpy as np\n",
    "import matplotlib.pyplot as plt\n",
    "# The following import is included for its \"side-effects\" of an improved color schemes and\n",
    "# plot styles. (See the \"Tip\" in section 9.2 of \"Python for Data Analysis\" for details.)\n",
    "import seaborn as sns"
   ]
  },
  {
   "cell_type": "markdown",
   "metadata": {},
   "source": [
    "## 1.0 Load the .ifrac project"
   ]
  },
  {
   "cell_type": "markdown",
   "metadata": {},
   "source": [
    "The following code simply captures the configured location of the Orchid training data. It is not needed to\n",
    "use the Orchid Python API itself, but it is used in this example to load well-known data."
   ]
  },
  {
   "cell_type": "code",
   "execution_count": null,
   "metadata": {
    "collapsed": false,
    "jupyter": {
     "outputs_hidden": false
    },
    "pycharm": {
     "name": "#%%\n"
    }
   },
   "outputs": [],
   "source": [
    "orchid_training_data_path = orchid.training_data_path()"
   ]
  },
  {
   "cell_type": "code",
   "execution_count": null,
   "metadata": {
    "collapsed": false,
    "jupyter": {
     "outputs_hidden": false
    },
    "pycharm": {
     "name": "#%%\n"
    }
   },
   "outputs": [],
   "source": [
    "project = orchid.load_project(str(orchid_training_data_path.joinpath(\n",
    "    'Project_frankNstein_Permian_UTM13_FEET.ifrac')))"
   ]
  },
  {
   "cell_type": "code",
   "execution_count": null,
   "metadata": {
    "pycharm": {
     "name": "#%% md.a.A\n"
    }
   },
   "outputs": [],
   "source": [
    "### 1.1 Get the monitor curves (be patient)"
   ]
  },
  {
   "cell_type": "code",
   "execution_count": null,
   "metadata": {
    "collapsed": false,
    "jupyter": {
     "outputs_hidden": false
    },
    "pycharm": {
     "name": "#%%\n"
    }
   },
   "outputs": [],
   "source": [
    "monitor_curves = [curve for curve in project.monitor_curves()]\n",
    "monitor_curve_names = [curve.display_name for curve in monitor_curves]\n",
    "time_series = [curve.time_series() for curve in monitor_curves]"
   ]
  },
  {
   "cell_type": "markdown",
   "metadata": {},
   "source": [
    "### 1.2 Plot the curves in a 4x4 array"
   ]
  },
  {
   "cell_type": "markdown",
   "metadata": {
    "pycharm": {
     "name": "#%% md\n"
    }
   },
   "source": [
    "Define helper functions\n",
    "\n",
    "- Calculate the curve physical quantity\n",
    "- Plot a single series"
   ]
  },
  {
   "cell_type": "code",
   "execution_count": null,
   "metadata": {
    "collapsed": false,
    "jupyter": {
     "outputs_hidden": false
    },
    "pycharm": {
     "name": "#%%\n"
    }
   },
   "outputs": [],
   "source": [
    "def plot_monitor_curve(using_series, on_axes, using_color, physical_quantity,\n",
    "                       unit_abbreviation, name):\n",
    "    \"\"\"\n",
    "    Plot the specified time series using the supplied details\n",
    "\n",
    "    Args:\n",
    "        using_series: The series to plot.\n",
    "        on_axes: The axes on which to plot the series.\n",
    "        using_color: The color for the plot.\n",
    "        physical_quantity: The physical quantity of the series.\n",
    "        unit_abbreviation: The abbreviation of the unit_abbreviation of the plotted samples.\n",
    "        name: The name of the curve.\n",
    "    \"\"\"\n",
    "    using_series.plot(ax=on_axes, color=using_color)\n",
    "    on_axes.set_ylabel(f'{str(physical_quantity).title()} ({unit_abbreviation})')\n",
    "    on_axes.title.set_text(name)\n",
    "    x_tick_labels = on_axes.get_xticklabels()\n",
    "    plt.setp(x_tick_labels, rotation=30)"
   ]
  },
  {
   "cell_type": "code",
   "execution_count": null,
   "metadata": {
    "collapsed": false,
    "jupyter": {
     "outputs_hidden": false
    },
    "pycharm": {
     "name": "#%%\n"
    }
   },
   "outputs": [],
   "source": [
    "default_well_colors = ['#%02x%02x%02x' % tuple(map(lambda c: int(255 * c), (r, g, b)))\n",
    "                       for (r, g, b) in project.default_well_colors()]\n",
    "curves_shape = (2, 2)\n",
    "max_curve_count = curves_shape[0] * curves_shape[1]\n",
    "figure, axes = plt.subplots(*curves_shape, figsize=(10, 14), dpi=200)\n",
    "curves = np.reshape(monitor_curves[:max_curve_count], curves_shape)\n",
    "series_to_plot = np.reshape(time_series[:max_curve_count], curves_shape)\n",
    "names_to_display = np.reshape(monitor_curve_names[:max_curve_count], curves_shape)\n",
    "colors_to_use = np.reshape(default_well_colors[:max_curve_count], curves_shape)\n",
    "for i in range(len(axes)):\n",
    "    for j in range(len(axes[0])):\n",
    "        curve = curves[i, j]\n",
    "        series = series_to_plot[i, j]\n",
    "        ax = axes[i, j]\n",
    "        color = colors_to_use[i, j]\n",
    "        quantity_name = curve.sampled_quantity_name\n",
    "        abbreviation = orchid.abbreviation(curve.sampled_quantity_unit())\n",
    "        series_name = names_to_display[i, j]\n",
    "        plot_monitor_curve(series, ax, color, quantity_name, abbreviation, series_name)\n",
    "\n",
    "plt.show()"
   ]
  },
  {
   "cell_type": "code",
   "execution_count": null,
   "metadata": {
    "collapsed": false,
    "jupyter": {
     "outputs_hidden": false
    },
    "pycharm": {
     "name": "#%%\n"
    }
   },
   "outputs": [],
   "source": []
  }
 ],
 "metadata": {
  "kernelspec": {
   "display_name": "Python 3",
   "language": "python",
   "name": "python3"
  },
  "language_info": {
   "codemirror_mode": {
    "name": "ipython",
    "version": 3
   },
   "file_extension": ".py",
   "mimetype": "text/x-python",
   "name": "python",
   "nbconvert_exporter": "python",
   "pygments_lexer": "ipython3",
   "version": "3.8.7"
  }
 },
 "nbformat": 4,
 "nbformat_minor": 4
}
