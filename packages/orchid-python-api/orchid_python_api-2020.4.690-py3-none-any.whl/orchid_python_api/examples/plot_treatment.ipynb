{
 "cells": [
  {
   "cell_type": "code",
   "execution_count": null,
   "metadata": {
    "collapsed": false,
    "jupyter": {
     "outputs_hidden": false
    },
    "pycharm": {
     "name": "#%%\n"
    }
   },
   "outputs": [],
   "source": [
    "#  Copyright 2017-2021 Reveal Energy Services, Inc\n",
    "#\n",
    "#  Licensed under the Apache License, Version 2.0 (the \"License\");\n",
    "#  you may not use this file except in compliance with the License.\n",
    "#  You may obtain a copy of the License at\n",
    "#\n",
    "#      http://www.apache.org/licenses/LICENSE-2.0\n",
    "#\n",
    "#  Unless required by applicable law or agreed to in writing, software\n",
    "#  distributed under the License is distributed on an \"AS IS\" BASIS,\n",
    "#  WITHOUT WARRANTIES OR CONDITIONS OF ANY KIND, either express or implied.\n",
    "#  See the License for the specific language governing permissions and\n",
    "#  limitations under the License.\n",
    "#\n",
    "# This file is part of Orchid and related technologies.\n",
    "#"
   ]
  },
  {
   "cell_type": "markdown",
   "metadata": {},
   "source": [
    "# Example: Plotting treatment curves for a stage"
   ]
  },
  {
   "cell_type": "markdown",
   "metadata": {},
   "source": [
    "This notebook illustrates using the Orchid* Python API and the pandas package to\n",
    "plot the treatment curves (treating pressure, slurry rate and proppant concentration)\n",
    "for a single stage.\n",
    "\n",
    "(*Orchid is a mark of Reveal Energy Services, Inc)"
   ]
  },
  {
   "cell_type": "markdown",
   "metadata": {},
   "source": [
    "## 0.5 Import packages"
   ]
  },
  {
   "cell_type": "markdown",
   "metadata": {},
   "source": [
    "The only import needed for the Python API is `orchid` itself."
   ]
  },
  {
   "cell_type": "code",
   "execution_count": null,
   "metadata": {
    "collapsed": false,
    "jupyter": {
     "outputs_hidden": false
    },
    "pycharm": {
     "name": "#%%\n"
    }
   },
   "outputs": [],
   "source": [
    "import orchid"
   ]
  },
  {
   "cell_type": "markdown",
   "metadata": {},
   "source": [
    "The remaining imports are standard python packages to support the analysis."
   ]
  },
  {
   "cell_type": "code",
   "execution_count": null,
   "metadata": {
    "collapsed": false,
    "jupyter": {
     "outputs_hidden": false
    },
    "pycharm": {
     "name": "#%%\n"
    }
   },
   "outputs": [],
   "source": [
    "import pandas as pd\n",
    "import matplotlib.pyplot as plt\n",
    "# The following import is included for its \"side-effects\" of an improved color schemes and \n",
    "# plot styles. (See the \"Tip\" in section 9.2 of \"Python for Data Analysis\" for details.)\n",
    "import seaborn as sns"
   ]
  },
  {
   "cell_type": "markdown",
   "metadata": {},
   "source": [
    "## 1.0 Load the .ifrac project"
   ]
  },
  {
   "cell_type": "markdown",
   "metadata": {},
   "source": [
    "The following code simply captures the configured location of the Orchid training data. It is not needed to\n",
    "use the Orchid Python API itself, but it is used in this example to load well-known data."
   ]
  },
  {
   "cell_type": "code",
   "execution_count": null,
   "metadata": {
    "pycharm": {
     "name": "#%%\n"
    }
   },
   "outputs": [],
   "source": [
    "orchid_training_data_path = orchid.training_data_path()"
   ]
  },
  {
   "cell_type": "code",
   "execution_count": null,
   "metadata": {
    "collapsed": false,
    "jupyter": {
     "outputs_hidden": false
    },
    "pycharm": {
     "is_executing": true,
     "name": "#%%\n"
    }
   },
   "outputs": [],
   "source": [
    "project = orchid.load_project(str(orchid_training_data_path.joinpath(\n",
    "    'frankNstein_Bakken_UTM13_FEET.ifrac')))"
   ]
  },
  {
   "cell_type": "markdown",
   "metadata": {},
   "source": [
    "### 1.1 Get the treatment curves for the stage of interest"
   ]
  },
  {
   "cell_type": "code",
   "execution_count": null,
   "metadata": {
    "collapsed": false,
    "jupyter": {
     "outputs_hidden": false
    },
    "pycharm": {
     "is_executing": true,
     "name": "#%%\n"
    }
   },
   "outputs": [],
   "source": [
    "wells = dict([(w.name, w) for w in project.wells])\n",
    "stages_for_wells = {wn: w.stages for (wn, w) in wells.items()}\n",
    "\n",
    "well_name = 'Demo_2H'\n",
    "stage_no = 39\n",
    "stages_for_well = list(stages_for_wells[well_name])\n",
    "# Assume I find exactly one.\n",
    "stage = [s for s in stages_for_well if s.display_stage_number == stage_no][0]\n",
    "curves = stage.treatment_curves()\n",
    "\n",
    "curve_names = [orchid.TreatmentCurveTypes.TREATING_PRESSURE,\n",
    "               orchid.TreatmentCurveTypes.SLURRY_RATE,\n",
    "               orchid.TreatmentCurveTypes.SURFACE_PROPPANT_CONCENTRATION]\n",
    "treatment_series = [curves[n].time_series() for n in curve_names]\n",
    "treatment_curves = pd.concat(treatment_series, axis=1)\n",
    "treatment_curves.columns = [\n",
    "    f'{orchid.TreatmentCurveTypes.TREATING_PRESSURE.value} ({orchid.abbreviation(project.project_units.PRESSURE)})',\n",
    "    f'{orchid.TreatmentCurveTypes.SLURRY_RATE.value} ({orchid.abbreviation(project.project_units.SLURRY_RATE)})',\n",
    "    f'{orchid.TreatmentCurveTypes.SURFACE_PROPPANT_CONCENTRATION.value}'\n",
    "    f' ({orchid.abbreviation(project.project_units.PROPPANT_CONCENTRATION)})'\n",
    "]\n",
    "treatment_curves"
   ]
  },
  {
   "cell_type": "markdown",
   "metadata": {
    "pycharm": {
     "name": "#%% md\n"
    }
   },
   "source": [
    "### 1.2 Plot the three treatment curves"
   ]
  },
  {
   "cell_type": "code",
   "execution_count": null,
   "metadata": {
    "collapsed": false,
    "jupyter": {
     "outputs_hidden": false
    },
    "pycharm": {
     "is_executing": true,
     "name": "#%%\n"
    }
   },
   "outputs": [],
   "source": [
    "axes = treatment_curves.plot(subplots=True,\n",
    "                             title=f'Treatment Curves: Stage {stage_no} of Well {well_name}')\n",
    "\n",
    "axes[0].set_ylabel(f'{orchid.abbreviation(project.project_units.PRESSURE)}')\n",
    "axes[1].set_ylabel(f'{orchid.abbreviation(project.project_units.SLURRY_RATE)}')\n",
    "axes[2].set_ylabel(f'{orchid.abbreviation(project.project_units.PROPPANT_CONCENTRATION)}')\n",
    "\n",
    "plt.rcParams['figure.dpi'] = 150\n",
    "plt.show()"
   ]
  },
  {
   "cell_type": "code",
   "execution_count": null,
   "metadata": {
    "pycharm": {
     "is_executing": true
    }
   },
   "outputs": [],
   "source": []
  }
 ],
 "metadata": {
  "celltoolbar": "Raw Cell Format",
  "kernelspec": {
   "display_name": "Python 3",
   "language": "python",
   "name": "python3"
  },
  "language_info": {
   "codemirror_mode": {
    "name": "ipython",
    "version": 3
   },
   "file_extension": ".py",
   "mimetype": "text/x-python",
   "name": "python",
   "nbconvert_exporter": "python",
   "pygments_lexer": "ipython3",
   "version": "3.8.7"
  }
 },
 "nbformat": 4,
 "nbformat_minor": 4
}
