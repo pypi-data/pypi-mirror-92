{
 "cells": [
  {
   "cell_type": "markdown",
   "metadata": {
    "pycharm": {
     "name": "#%% md\n"
    }
   },
   "source": [
    "# Modifying lattices\n",
    "\n",
    "We can modify single lattice elements or the lattice itself. In the previous section there was already a hint about how\n",
    "to replace specific lattice elements. This can be done via `lattice[identifier] = ...` where `identifier` must unambiguously\n",
    "identify a lattice element. That is `lattice[identifier]` (not setting, but getting the element) should return a single\n",
    "element, not a list of elements. Note that `identifer` can be a tuple as well, in order to narrow down the selection.\n",
    "For example, let's offset the `Quadrupole` with label `\"gte1qd11\"` and tilt the second `Kicker`:"
   ]
  },
  {
   "cell_type": "code",
   "execution_count": 1,
   "metadata": {
    "pycharm": {
     "name": "#%%\n"
    }
   },
   "outputs": [
    {
     "name": "stdout",
     "output_type": "stream",
     "text": [
      "Quadrupole(l=tensor(0.6660), k1=Parameter containing: tensor(0.5668, requires_grad=True), dk1=tensor(0.), label='gte1qd11')\n",
      "Offset(dx=tensor(0.2500), dy=tensor(0.5000),\n",
      "       target=Quadrupole(l=tensor(0.6660), k1=Parameter containing: tensor(0.5668, requires_grad=True), dk1=tensor(0.), label='gte1qd11'))\n",
      "\n",
      "HKicker(l=tensor(0.), hkick=tensor(0.), vkick=tensor(0.), kick=tensor(0.), label='gth1kx1')\n",
      "Tilt(psi=tensor(1.),\n",
      "     target=HKicker(l=tensor(0.), hkick=tensor(0.), vkick=tensor(0.), kick=tensor(0.), label='gth1kx1'))\n"
     ]
    }
   ],
   "source": [
    "from importlib import resources\n",
    "import warnings\n",
    "from dipas.build import from_file\n",
    "from dipas.elements import HKicker, Offset, Tilt\n",
    "import dipas.test.sequences\n",
    "\n",
    "warnings.simplefilter('ignore')\n",
    "\n",
    "with resources.path(dipas.test.sequences, 'hades.seq') as path:\n",
    "    lattice = from_file(path)  # Load a fresh lattice.\n",
    "\n",
    "print(lattice['gte1qd11'])  # Returns a single element, good.\n",
    "lattice['gte1qd11'] = Offset(lattice['gte1qd11'], dx=0.25, dy=0.50)\n",
    "print(lattice['gte1qd11'], end='\\n\\n')\n",
    "\n",
    "print(lattice[HKicker, 1])  # Returns a single element, good.\n",
    "lattice[HKicker, 1] = Tilt(lattice[HKicker, 1], psi=1.0)\n",
    "print(lattice[HKicker, 1])"
   ]
  },
  {
   "cell_type": "markdown",
   "metadata": {
    "pycharm": {
     "name": "#%% md\n"
    }
   },
   "source": [
    "We can of course also modify attributes of single elements. For example let's introduce some random errors to the quadrupole\n",
    "gradient strengths:"
   ]
  },
  {
   "cell_type": "code",
   "execution_count": 2,
   "metadata": {
    "pycharm": {
     "name": "#%%\n"
    }
   },
   "outputs": [],
   "source": [
    "import numpy as np\n",
    "from dipas.elements import Quadrupole\n",
    "\n",
    "for quad in lattice[Quadrupole]:\n",
    "    quad.element.k1.data += np.random.normal(scale=0.1)"
   ]
  },
  {
   "cell_type": "markdown",
   "metadata": {
    "pycharm": {
     "name": "#%% md\n"
    }
   },
   "source": [
    "Two things are worth noting here:\n",
    "\n",
    "1. We used `quad.element.k1` instead of just `quad.k1`. This is because `lattice[Quadrupole]` returns a list of\n",
    "   all `Quadrupole` elements, potentially wrapped by alignment error classes. Because we applied an offset to the first\n",
    "   quadrupole beforehand, the first `quad` is actually an `Offset` object. By using `quad.element` we ensure that\n",
    "   we always get the underlying `Quadrupole` object. Using `element` on a `Quadrupole` itself will just return the same\n",
    "   object.\n",
    "2. We used `k1.data` instead of just `k1`. This is because the MADX sequence file that we used to parse the lattice from\n",
    "   actually contained optimization parameter definition (see the next section for more details) and so we need to use\n",
    "   `.data` to modify the actual number of the tensor."
   ]
  }
 ],
 "metadata": {
  "kernelspec": {
   "display_name": "Python 3",
   "language": "python",
   "name": "python3"
  },
  "language_info": {
   "codemirror_mode": {
    "name": "ipython",
    "version": 3
   },
   "file_extension": ".py",
   "mimetype": "text/x-python",
   "name": "python",
   "nbconvert_exporter": "python",
   "pygments_lexer": "ipython3",
   "version": "3.7.4"
  },
  "pycharm": {
   "stem_cell": {
    "cell_type": "raw",
    "metadata": {
     "collapsed": false
    },
    "source": []
   }
  }
 },
 "nbformat": 4,
 "nbformat_minor": 2
}
