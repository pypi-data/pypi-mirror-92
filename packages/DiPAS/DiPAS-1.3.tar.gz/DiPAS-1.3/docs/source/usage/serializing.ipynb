{
 "cells": [
  {
   "cell_type": "markdown",
   "metadata": {
    "pycharm": {
     "name": "#%% md\n"
    }
   },
   "source": [
    "# Serializing lattices\n",
    "\n",
    "We can serialize lattices into MADX scripts using the following functions from the `build` module:\n",
    "\n",
    "* `create_script` - Creates a full MADX script including beam command and optionally error definitions as well as particle tracking.\n",
    "* `sequence_script` - Serializes a lattice into a corresponding `SEQUENCE; ENDSEQUENCE;` block.\n",
    "* `track_script` - Serializes particle coordinates, plus some additional configuration, into a corrsponding `TRACK; ENDTRACK;` block.\n",
    "* `error_script` - Parses error definitions from a given lattice and serializes them into a list of `SELECT` and `EALIGN` statements.\n",
    "\n",
    "For example:"
   ]
  },
  {
   "cell_type": "code",
   "execution_count": 1,
   "metadata": {
    "pycharm": {
     "name": "#%%\n"
    }
   },
   "outputs": [
    {
     "name": "stdout",
     "output_type": "stream",
     "text": [
      "seq: sequence, l = 14.0, refer = entry;\n",
      "    qf: quadrupole, k1 = 0.125, l = 1.0, at = 0.0;\n",
      "    s1: sbend, angle = 0.05, e1 = 0.0, e2 = 0.0, fint = 0.0, fintx = 0.0, h1 = 0.0, h2 = 0.0, hgap = 0.0, l = 6.0, at = 1.0;\n",
      "    qd: quadrupole, k1 = -0.125, l = 1.0, at = 7.0;\n",
      "    s2: sbend, angle = 0.05, e1 = 0.0, e2 = 0.0, fint = 0.0, fintx = 0.0, h1 = 0.0, h2 = 0.0, hgap = 0.0, l = 6.0, at = 8.0;\n",
      "endsequence;\n"
     ]
    }
   ],
   "source": [
    "from dipas.build import Lattice, create_script, sequence_script, track_script, error_script\n",
    "from dipas.elements import Segment\n",
    "\n",
    "with Lattice(dict(particle='proton', gamma=1.25)) as lattice:\n",
    "    lattice.Quadrupole(k1=0.125, l=1, label='qf')\n",
    "    lattice.SBend(angle=0.05, l=6, label='s1')\n",
    "    lattice.Quadrupole(k1=-0.125, l=1, label='qd')\n",
    "    lattice.SBend(angle=0.05, l=6, label='s2')\n",
    "\n",
    "lattice = Segment(lattice)\n",
    "print(sequence_script(lattice))"
   ]
  },
  {
   "cell_type": "markdown",
   "metadata": {
    "pycharm": {
     "name": "#%% md\n"
    }
   },
   "source": [
    "Now let's create the `TRACK` block:"
   ]
  },
  {
   "cell_type": "code",
   "execution_count": 2,
   "metadata": {
    "pycharm": {
     "name": "#%%\n"
    }
   },
   "outputs": [
    {
     "name": "stdout",
     "output_type": "stream",
     "text": [
      "track, aperture = true, recloss = true, onepass = true, dump = true, onetable = true;\n",
      "    start, x = 0.2014635703501506, px = 0.2662095882206157, y = 0.8166112346953612, py = 0.23180824594831628, t = 0.39202893025542407, pt = 0.5399201490740829;\n",
      "    start, x = 0.14669278350197978, px = 0.24835279589455972, y = 0.27761962358694936, py = 0.8467406897590475, t = 0.9640333584721231, pt = 0.2787731815670358;\n",
      "    start, x = 0.40343846523065574, px = 0.8326952974366683, y = 0.30562559574588954, py = 0.6813336597554878, t = 0.03341727991931742, pt = 0.830850622929301;\n",
      "    start, x = 0.5470678008425934, px = 0.7779247137419353, y = 0.9958333764630148, py = 0.29537177766723244, t = 0.11764775607056943, pt = 0.3208520680352198;\n",
      "    start, x = 0.1049864797528981, px = 0.3752285141312387, y = 0.7203908988777403, py = 0.63130467146256, t = 0.9473415670404751, pt = 0.10299125216411009;\n",
      "    start, x = 0.39960444505659465, px = 0.3735462666225813, y = 0.7160529579941585, py = 0.1100296996131459, t = 0.6683040540297257, pt = 0.5498750540523619;\n",
      "    start, x = 0.0228851551084277, px = 0.876894016227671, y = 0.9587570774187312, py = 0.6097960547963239, t = 0.833647004978768, pt = 0.6247855455798537;\n",
      "    start, x = 0.9209046996988439, px = 0.11623483047061944, y = 0.8216139551556022, py = 0.6395245166612197, t = 0.15343851365337768, pt = 0.9395649827597847;\n",
      "    start, x = 0.20836412057646447, px = 0.32546809192785775, y = 0.7780847178261877, py = 0.9400753865683356, t = 0.35463141128309483, pt = 0.10358923206153958;\n",
      "    start, x = 0.4458752860950078, px = 0.19209207672465944, y = 0.43257782895074914, py = 0.027717813984675876, t = 0.5167697678230143, pt = 0.4922091373466405;\n",
      "\n",
      "    observe, place = qf;\n",
      "    observe, place = qd;\n",
      "\n",
      "    run, turns = 1, maxaper = {1, 1, 1, 1, 1, 1};\n",
      "\n",
      "    write, table = trackloss, file;\n",
      "endtrack;\n"
     ]
    }
   ],
   "source": [
    "import torch\n",
    "\n",
    "particles = torch.rand(6, 10)\n",
    "print(track_script(particles, observe=['qf', 'qd'], aperture=True, recloss=True, turns=1, maxaper=[1]*6))"
   ]
  },
  {
   "cell_type": "markdown",
   "metadata": {
    "pycharm": {
     "name": "#%% md\n"
    }
   },
   "source": [
    "Let's introduce some alignment errors to the defocusing quadrupole:"
   ]
  },
  {
   "cell_type": "code",
   "execution_count": 3,
   "metadata": {
    "pycharm": {
     "name": "#%%\n"
    }
   },
   "outputs": [
    {
     "name": "stdout",
     "output_type": "stream",
     "text": [
      "seq: sequence, l = 14.0, refer = entry;\n",
      "    qf: quadrupole, k1 = 0.125, l = 1.0, at = 0.0;\n",
      "    s1: sbend, angle = 0.05, e1 = 0.0, e2 = 0.0, fint = 0.0, fintx = 0.0, h1 = 0.0, h2 = 0.0, hgap = 0.0, l = 6.0, at = 1.0;\n",
      "    qd: quadrupole, k1 = -0.125, l = 1.0, tilt = 0.78, at = 7.0;\n",
      "    s2: sbend, angle = 0.05, e1 = 0.0, e2 = 0.0, fint = 0.0, fintx = 0.0, h1 = 0.0, h2 = 0.0, hgap = 0.0, l = 6.0, at = 8.0;\n",
      "endsequence;\n"
     ]
    }
   ],
   "source": [
    "from dipas.elements import LongitudinalRoll, Offset, Tilt\n",
    "\n",
    "lattice['qd'] = Tilt(lattice['qd'], psi=0.78)  # Technically this is not an alignment error, but it does modify the element.\n",
    "lattice['qd'] = LongitudinalRoll(lattice['qd'], psi=0.35)\n",
    "lattice['qd'] = Offset(lattice['qd'], dx=0.01, dy=0.02)\n",
    "\n",
    "print(sequence_script(lattice))"
   ]
  },
  {
   "cell_type": "markdown",
   "metadata": {
    "pycharm": {
     "name": "#%% md\n"
    }
   },
   "source": [
    "Here we can see that the output from `sequence_script` now contains the `tilt` for the `\"qd\"` quadrupole and the\n",
    "alignment errors are summarized and assigned in the part coming from `error_script`.\n",
    "\n",
    "Now let's build the complete MADX script:"
   ]
  },
  {
   "cell_type": "code",
   "execution_count": 4,
   "metadata": {
    "pycharm": {
     "name": "#%%\n"
    }
   },
   "outputs": [
    {
     "name": "stdout",
     "output_type": "stream",
     "text": [
      "beam, particle = proton, gamma = 1.25;\n",
      "\n",
      "seq: sequence, l = 14.0, refer = entry;\n",
      "    qf: quadrupole, k1 = 0.125, l = 1.0, at = 0.0;\n",
      "    s1: sbend, angle = 0.05, e1 = 0.0, e2 = 0.0, fint = 0.0, fintx = 0.0, h1 = 0.0, h2 = 0.0, hgap = 0.0, l = 6.0, at = 1.0;\n",
      "    qd: quadrupole, k1 = -0.125, l = 1.0, tilt = 0.78, at = 7.0;\n",
      "    s2: sbend, angle = 0.05, e1 = 0.0, e2 = 0.0, fint = 0.0, fintx = 0.0, h1 = 0.0, h2 = 0.0, hgap = 0.0, l = 6.0, at = 8.0;\n",
      "endsequence;\n",
      "\n",
      "use, sequence = seq;\n",
      "\n",
      "eoption, add = true;\n",
      "select, flag = error, clear = true;\n",
      "select, flag = error, range = \"qd\";\n",
      "ealign, dx = 0.01, dy = 0.02;\n",
      "ealign, dpsi = 0.35;\n",
      "\n",
      "track, aperture = true, recloss = true, onepass = true, dump = true, onetable = true;\n",
      "    start, x = 0.2014635703501506, px = 0.2662095882206157, y = 0.8166112346953612, py = 0.23180824594831628, t = 0.39202893025542407, pt = 0.5399201490740829;\n",
      "    start, x = 0.14669278350197978, px = 0.24835279589455972, y = 0.27761962358694936, py = 0.8467406897590475, t = 0.9640333584721231, pt = 0.2787731815670358;\n",
      "    start, x = 0.40343846523065574, px = 0.8326952974366683, y = 0.30562559574588954, py = 0.6813336597554878, t = 0.03341727991931742, pt = 0.830850622929301;\n",
      "    start, x = 0.5470678008425934, px = 0.7779247137419353, y = 0.9958333764630148, py = 0.29537177766723244, t = 0.11764775607056943, pt = 0.3208520680352198;\n",
      "    start, x = 0.1049864797528981, px = 0.3752285141312387, y = 0.7203908988777403, py = 0.63130467146256, t = 0.9473415670404751, pt = 0.10299125216411009;\n",
      "    start, x = 0.39960444505659465, px = 0.3735462666225813, y = 0.7160529579941585, py = 0.1100296996131459, t = 0.6683040540297257, pt = 0.5498750540523619;\n",
      "    start, x = 0.0228851551084277, px = 0.876894016227671, y = 0.9587570774187312, py = 0.6097960547963239, t = 0.833647004978768, pt = 0.6247855455798537;\n",
      "    start, x = 0.9209046996988439, px = 0.11623483047061944, y = 0.8216139551556022, py = 0.6395245166612197, t = 0.15343851365337768, pt = 0.9395649827597847;\n",
      "    start, x = 0.20836412057646447, px = 0.32546809192785775, y = 0.7780847178261877, py = 0.9400753865683356, t = 0.35463141128309483, pt = 0.10358923206153958;\n",
      "    start, x = 0.4458752860950078, px = 0.19209207672465944, y = 0.43257782895074914, py = 0.027717813984675876, t = 0.5167697678230143, pt = 0.4922091373466405;\n",
      "\n",
      "    observe, place = qf;\n",
      "    observe, place = qd;\n",
      "\n",
      "    run, turns = 1, maxaper = {0.1, 0.01, 0.1, 0.01, 1.0, 0.1};\n",
      "\n",
      "    write, table = trackloss, file;\n",
      "endtrack;\n"
     ]
    }
   ],
   "source": [
    "print(create_script(\n",
    "    dict(particle='proton', gamma=1.25),\n",
    "    sequence=lattice,\n",
    "    errors=True,  # Extracts the errors from the provided `sequence`.\n",
    "    track=track_script(particles, ['qf', 'qd'])\n",
    "))"
   ]
  },
  {
   "cell_type": "markdown",
   "metadata": {
    "pycharm": {
     "name": "#%% md\n"
    }
   },
   "source": [
    "In case we wanted to add optics calculations via `TWISS` we can just append the relevant command manually:"
   ]
  },
  {
   "cell_type": "code",
   "execution_count": 5,
   "metadata": {
    "pycharm": {
     "name": "#%%\n"
    }
   },
   "outputs": [
    {
     "name": "stdout",
     "output_type": "stream",
     "text": [
      "beam, particle = proton, gamma = 1.25;\n",
      "\n",
      "seq: sequence, l = 14.0, refer = entry;\n",
      "    qf: quadrupole, k1 = 0.125, l = 1.0, at = 0.0;\n",
      "    s1: sbend, angle = 0.05, e1 = 0.0, e2 = 0.0, fint = 0.0, fintx = 0.0, h1 = 0.0, h2 = 0.0, hgap = 0.0, l = 6.0, at = 1.0;\n",
      "    qd: quadrupole, k1 = -0.125, l = 1.0, tilt = 0.78, at = 7.0;\n",
      "    s2: sbend, angle = 0.05, e1 = 0.0, e2 = 0.0, fint = 0.0, fintx = 0.0, h1 = 0.0, h2 = 0.0, hgap = 0.0, l = 6.0, at = 8.0;\n",
      "endsequence;\n",
      "\n",
      "use, sequence = seq;\n",
      "select, flag = twiss, full;\n",
      "twiss, save, file = \"twiss\";\n"
     ]
    }
   ],
   "source": [
    "script = create_script(dict(particle='proton', gamma=1.25), sequence=sequence_script(lattice))\n",
    "script += '\\nselect, flag = twiss, full;\\ntwiss, save, file = \"twiss\";'\n",
    "print(script)"
   ]
  }
 ],
 "metadata": {
  "kernelspec": {
   "display_name": "Python 3",
   "language": "python",
   "name": "python3"
  },
  "language_info": {
   "codemirror_mode": {
    "name": "ipython",
    "version": 3
   },
   "file_extension": ".py",
   "mimetype": "text/x-python",
   "name": "python",
   "nbconvert_exporter": "python",
   "pygments_lexer": "ipython3",
   "version": "3.7.4"
  },
  "pycharm": {
   "stem_cell": {
    "cell_type": "raw",
    "metadata": {
     "collapsed": false
    },
    "source": []
   }
  }
 },
 "nbformat": 4,
 "nbformat_minor": 2
}
