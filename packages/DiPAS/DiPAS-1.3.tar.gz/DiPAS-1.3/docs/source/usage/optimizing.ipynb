{
 "cells": [
  {
   "cell_type": "markdown",
   "metadata": {
    "pycharm": {
     "name": "#%% md\n"
    }
   },
   "source": [
    "# Specifying optimization parameters\n",
    "\n",
    "Optimization parameters can be specified either directly in the MADX files that are parsed or they can set on the\n",
    "lattice elements after parsing (or building in general), similar to modifying lattice elements as seen in the previous\n",
    "section.\n",
    "\n",
    "## Inside MADX scripts\n",
    "\n",
    "*For details please consider the documentation part about \"Compatibility with MADX\".*\n",
    "\n",
    "Optimization parameters (\"flow variables\") can be indicates by placing dedicated comments in MADX scripts.\n",
    "There comments should be of the form `// <some optional text> [flow] variable` and should either precede or conclude\n",
    "the line of a variable definition or attribute assignment. Let's peek into one of the example scripts:"
   ]
  },
  {
   "cell_type": "code",
   "execution_count": 1,
   "metadata": {
    "pycharm": {
     "name": "#%%\n"
    }
   },
   "outputs": [
    {
     "name": "stdout",
     "output_type": "stream",
     "text": [
      "['beam, particle=ion, charge=6, energy=28.5779291448, mass=11.1779291448;',\n",
      " '',\n",
      " 'k1l_GTE1QD11 := 0.3774561583995819;       // [flow] variable',\n",
      " 'k1l_GTE1QD12 := -0.35923901200294495;     // [flow] variable']\n"
     ]
    }
   ],
   "source": [
    "from importlib import resources\n",
    "from pprint import pprint\n",
    "import dipas.test.sequences\n",
    "\n",
    "script = resources.read_text(dipas.test.sequences, 'hades.seq')\n",
    "script = script.splitlines()\n",
    "pprint(script[:4])"
   ]
  },
  {
   "cell_type": "markdown",
   "metadata": {
    "pycharm": {
     "name": "#%% md\n"
    }
   },
   "source": [
    "Here we can see that the two variables `k1l_GTE1QD11` and `k1l_GTE1QD12` have been declared as optimization parameters.\n",
    "Now let's check the lattice element after parsing the script:"
   ]
  },
  {
   "cell_type": "code",
   "execution_count": 2,
   "metadata": {
    "pycharm": {
     "name": "#%%\n"
    }
   },
   "outputs": [
    {
     "name": "stdout",
     "output_type": "stream",
     "text": [
      "Quadrupole(l=tensor(0.6660), k1=Parameter containing: tensor(0.5668, requires_grad=True), dk1=tensor(0.), label='gte1qd11')\n",
      "Quadrupole(l=tensor(0.6660), k1=Parameter containing: tensor(-0.5394, requires_grad=True), dk1=tensor(0.), label='gte1qd12')\n",
      "<class 'torch.nn.parameter.Parameter'>\n"
     ]
    }
   ],
   "source": [
    "import warnings\n",
    "from dipas.build import from_script\n",
    "\n",
    "warnings.simplefilter('ignore')\n",
    "\n",
    "lattice = from_script('\\n'.join(script))\n",
    "print(lattice['gte1qd11'])\n",
    "print(lattice['gte1qd12'])\n",
    "print(type(lattice['gte1qd11'].k1))"
   ]
  },
  {
   "cell_type": "markdown",
   "metadata": {
    "pycharm": {
     "name": "#%% md\n"
    }
   },
   "source": [
    "Here we can see that the `k1` parameters are indicates as `Parameter` which can be optimized for using PyTorch's\n",
    "optimization machinery."
   ]
  },
  {
   "cell_type": "markdown",
   "metadata": {
    "pycharm": {
     "name": "#%% md\n"
    }
   },
   "source": [
    "## Using the API\n",
    "\n",
    "Now let's modify the script so that the first quadrupole's `k1` attribute won't be parsed to a parameter:"
   ]
  },
  {
   "cell_type": "code",
   "execution_count": 3,
   "metadata": {
    "pycharm": {
     "name": "#%%\n"
    }
   },
   "outputs": [
    {
     "name": "stdout",
     "output_type": "stream",
     "text": [
      "['beam, particle=ion, charge=6, energy=28.5779291448, mass=11.1779291448;',\n",
      " '',\n",
      " 'k1l_GTE1QD11 := 0.3774561583995819;',\n",
      " 'k1l_GTE1QD12 := -0.35923901200294495;     // [flow] variable']\n",
      "Quadrupole(l=tensor(0.6660), k1=tensor(0.5668), dk1=tensor(0.), label='gte1qd11')\n",
      "Quadrupole(l=tensor(0.6660), k1=Parameter containing: tensor(-0.5394, requires_grad=True), dk1=tensor(0.), label='gte1qd12')\n"
     ]
    }
   ],
   "source": [
    "script[2] = script[2].split(';')[0] + ';'\n",
    "pprint(script[:4])\n",
    "lattice = from_script('\\n'.join(script))\n",
    "print(lattice['gte1qd11'])\n",
    "print(lattice['gte1qd12'])"
   ]
  },
  {
   "cell_type": "markdown",
   "metadata": {
    "pycharm": {
     "name": "#%% md\n"
    }
   },
   "source": [
    "Now the `lattice['gte1qd11'].k1` attribute is set as a tensor. If we want to optimize for that value nevertheless we\n",
    "can simply convert it to a parameter manually:"
   ]
  },
  {
   "cell_type": "code",
   "execution_count": 4,
   "metadata": {
    "pycharm": {
     "name": "#%%\n"
    }
   },
   "outputs": [
    {
     "name": "stdout",
     "output_type": "stream",
     "text": [
      "Quadrupole(l=tensor(0.6660), k1=Parameter containing: tensor(0.5668, requires_grad=True), dk1=tensor(0.), label='gte1qd11')\n"
     ]
    }
   ],
   "source": [
    "import torch\n",
    "\n",
    "lattice['gte1qd11'].k1 = torch.nn.Parameter(lattice['gte1qd11'].k1)\n",
    "print(lattice['gte1qd11'])"
   ]
  },
  {
   "cell_type": "markdown",
   "metadata": {
    "pycharm": {
     "name": "#%% md\n"
    }
   },
   "source": [
    "Similarly we could convert the k1-values of all quadrupoles to parameters:"
   ]
  },
  {
   "cell_type": "code",
   "execution_count": 5,
   "metadata": {
    "pycharm": {
     "name": "#%%\n"
    }
   },
   "outputs": [],
   "source": [
    "from dipas.elements import Quadrupole\n",
    "\n",
    "for q in lattice[Quadrupole]:\n",
    "    q.k1 = torch.nn.Parameter(q.k1)"
   ]
  },
  {
   "cell_type": "markdown",
   "metadata": {
    "pycharm": {
     "name": "#%% md\n"
    }
   },
   "source": [
    "For the example lattice however the k1-values are already parameters."
   ]
  }
 ],
 "metadata": {
  "kernelspec": {
   "display_name": "Python 3",
   "language": "python",
   "name": "python3"
  },
  "language_info": {
   "codemirror_mode": {
    "name": "ipython",
    "version": 3
   },
   "file_extension": ".py",
   "mimetype": "text/x-python",
   "name": "python",
   "nbconvert_exporter": "python",
   "pygments_lexer": "ipython3",
   "version": "3.7.4"
  },
  "pycharm": {
   "stem_cell": {
    "cell_type": "raw",
    "metadata": {
     "collapsed": false
    },
    "source": []
   }
  }
 },
 "nbformat": 4,
 "nbformat_minor": 2
}
