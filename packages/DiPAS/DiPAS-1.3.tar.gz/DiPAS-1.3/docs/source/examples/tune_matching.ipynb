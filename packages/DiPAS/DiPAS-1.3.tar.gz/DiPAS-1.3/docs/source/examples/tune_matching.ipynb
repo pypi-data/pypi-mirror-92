{
 "cells": [
  {
   "cell_type": "markdown",
   "metadata": {},
   "source": [
    "# Tune Matching\n",
    "\n",
    "In the following example some gradient errors will be introduced to quadrupoles and then the tunes will be rematched to their original values by varying the strength of horizontally focusing quadrupoles. To begin with we load the example MADX script:"
   ]
  },
  {
   "cell_type": "code",
   "execution_count": null,
   "metadata": {},
   "outputs": [],
   "source": [
    "with open('example.madx') as fh:\n",
    "    script = fh.read()"
   ]
  },
  {
   "cell_type": "markdown",
   "metadata": {},
   "source": [
    "As mentioned already, the script assigns gradient errors to all 18 quadrupoles and then varies the strength of the 12 horizontal quadrupoles in order to rematch the tune. Let's inspect the results by running the script via `dipas.madx.run_script`:"
   ]
  },
  {
   "cell_type": "code",
   "execution_count": 2,
   "metadata": {},
   "outputs": [
    {
     "name": "stderr",
     "output_type": "stream",
     "text": [
      "/home/dominik/Projects/DiPAS/dipas/madx/utils.py:247: UserWarning: MADX issued the following warnings: ['MTSIMP More variables than constraints seen. SIMPLEX may not converge to optimal solution.']\n",
      "  warnings.warn(f'MADX issued the following warnings: {warnings_list}')\n"
     ]
    }
   ],
   "source": [
    "import os\n",
    "from dipas.madx import run_script\n",
    "\n",
    "result = run_script(\n",
    "    script,\n",
    "    {'twiss': True, 'twiss_error': True, 'twiss_matched': True, 'errors': False},\n",
    "    madx=os.path.expanduser('~/bin/madx')\n",
    ")\n",
    "twiss = result['twiss']\n",
    "twiss_error = result['twiss_error']\n",
    "twiss_matched = result['twiss_matched']\n",
    "errors = result['errors']"
   ]
  },
  {
   "cell_type": "markdown",
   "metadata": {},
   "source": [
    "Here we specified `True` for the twiss files since we want to retrieve the \"@\"-prefixed meta data besides the actual data frame (since the meta data contains the tune values). For the errors file we're not interested in meta data and so `False` will result in just the corresponding data frame. Let's inspect the tune values:"
   ]
  },
  {
   "cell_type": "code",
   "execution_count": 3,
   "metadata": {},
   "outputs": [
    {
     "name": "stdout",
     "output_type": "stream",
     "text": [
      "Tune values:\n",
      " - original: 2.420, 2.420\n",
      " - shifted : 2.362, 2.459\n",
      " - matched : 2.420, 2.420\n"
     ]
    }
   ],
   "source": [
    "print('Tune values:')\n",
    "print(f' - original: {        twiss[1][\"Q1\"]:.3f}, {        twiss[1][\"Q2\"]:.3f}')\n",
    "print(f' - shifted : {  twiss_error[1][\"Q1\"]:.3f}, {  twiss_error[1][\"Q2\"]:.3f}')\n",
    "print(f' - matched : {twiss_matched[1][\"Q1\"]:.3f}, {twiss_matched[1][\"Q2\"]:.3f}')"
   ]
  },
  {
   "cell_type": "markdown",
   "metadata": {},
   "source": [
    "Now let's do the same thing with gradient-based optimization via DiPAS. First we load the script via `dipas.build.from_script` and assign the errors via the `errors` data frame:"
   ]
  },
  {
   "cell_type": "code",
   "execution_count": 4,
   "metadata": {},
   "outputs": [],
   "source": [
    "from dipas.build import from_script\n",
    "\n",
    "lattice = from_script(script, errors=errors)"
   ]
  },
  {
   "cell_type": "markdown",
   "metadata": {},
   "source": [
    "We select the quadrupoles by checking for `k1 != 0` since the script defines drift spaces as `k1 == 0` quadrupoles:"
   ]
  },
  {
   "cell_type": "code",
   "execution_count": 5,
   "metadata": {},
   "outputs": [
    {
     "name": "stdout",
     "output_type": "stream",
     "text": [
      "yr02qs1, k1 =  1.760051, dk1 = -0.013478\n",
      "yr02qs2, k1 = -2.252993, dk1 =  0.012333\n",
      "yr02qs3, k1 =  1.760051, dk1 = -0.077924\n",
      "yr04qs1, k1 =  1.760051, dk1 = -0.003707\n",
      "yr04qs2, k1 = -2.252993, dk1 =  0.047466\n",
      "yr04qs3, k1 =  1.760051, dk1 =  0.035394\n",
      "yr06qs1, k1 =  1.760051, dk1 = -0.144814\n",
      "yr06qs2, k1 = -2.252993, dk1 = -0.069407\n",
      "yr06qs3, k1 =  1.760051, dk1 = -0.069233\n",
      "yr08qs1, k1 =  1.760051, dk1 =  0.055320\n",
      "yr08qs2, k1 = -2.252993, dk1 = -0.008849\n",
      "yr08qs3, k1 =  1.760051, dk1 =  0.001484\n",
      "yr10qs1, k1 =  1.760051, dk1 = -0.086816\n",
      "yr10qs2, k1 = -2.252993, dk1 = -0.001718\n",
      "yr10qs3, k1 =  1.760051, dk1 = -0.015357\n",
      "yr12qs1, k1 =  1.760051, dk1 = -0.096350\n",
      "yr12qs2, k1 = -2.252993, dk1 = -0.068815\n",
      "yr12qs3, k1 =  1.760051, dk1 =  0.135457\n"
     ]
    }
   ],
   "source": [
    "from dipas.elements import Quadrupole, Parameter\n",
    "\n",
    "quadrupoles = [q for q in lattice[Quadrupole] if q.k1 != 0]\n",
    "for q in quadrupoles:\n",
    "    print(f'{q.label}, k1 = {q.k1: .6f}, dk1 = {q.dk1: .6f}')"
   ]
  },
  {
   "cell_type": "markdown",
   "metadata": {},
   "source": [
    "For the matching we will use the horizontally focusing quadrupoles and so we'll select these and turn their `k1` attributes into parameters (being varied during the optimization). We have to call `update_transfer_map` as well in order for the change to `k1` to become effective. In general, after altering any (to-be-)parametrized attribute of a lattice element (also its value), we need to call the `update_transfer_map` method for bringing the change into effect."
   ]
  },
  {
   "cell_type": "code",
   "execution_count": 6,
   "metadata": {},
   "outputs": [
    {
     "name": "stdout",
     "output_type": "stream",
     "text": [
      "# Parameters: 12\n"
     ]
    }
   ],
   "source": [
    "h_quadrupoles = [q for q in quadrupoles if q.k1 > 0]\n",
    "for q in h_quadrupoles:\n",
    "    q.k1 = Parameter(q.k1)\n",
    "    q.update_transfer_map()\n",
    "print(f'# Parameters: {len(list(lattice.parameters()))}')"
   ]
  },
  {
   "cell_type": "markdown",
   "metadata": {},
   "source": [
    "Next we'll prepare the optimization by creating an optimizer and defining a cost (loss) function. The cost function indicates the distance to the optimization target(s). Before we can use the lattice's transfer maps we need to convert `Kicker` elements to thin counterparts since the transfer map for a thick kicker doesn't exist. We specify two slices placed at the edges of the original elements (this is the configuration used by MADX during TWISS computation).\n",
    "\n",
    "We use the `dipas.compute.twiss` function for computing the tune values (alongside other lattice functions). When computing the gradients via `cost.backward` we specify `retain_graph=True` since at every iteration we're optimizing against the same data and so retaining the graph is required (e.g. the transfer map tensors of lattice elements will be reused at every iteration so their memory buffers need to be retained). At the end of each iteration, after the optimizer has updated the `k1` values, we need to call `update_transfer_map` again in order to activate the updates."
   ]
  },
  {
   "cell_type": "code",
   "execution_count": 7,
   "metadata": {},
   "outputs": [
    {
     "name": "stdout",
     "output_type": "stream",
     "text": [
      "# Parameters: 12\n",
      "Step 000: Q1 = 2.362, Q2 = 2.459, cost = 4.88e-03\n",
      "Step 000: Q1 = 2.362, Q2 = 2.459, cost = 4.88e-03\n",
      "Step 001: Q1 = 2.386, Q2 = 2.446, cost = 1.87e-03\n",
      "Step 001: Q1 = 2.386, Q2 = 2.446, cost = 1.87e-03\n",
      "Step 002: Q1 = 2.408, Q2 = 2.435, cost = 3.69e-04\n",
      "Step 002: Q1 = 2.408, Q2 = 2.435, cost = 3.69e-04\n",
      "Step 003: Q1 = 2.418, Q2 = 2.430, cost = 1.10e-04\n",
      "Step 003: Q1 = 2.418, Q2 = 2.430, cost = 1.10e-04\n",
      "Step 004: Q1 = 2.422, Q2 = 2.428, cost = 7.26e-05\n",
      "Step 004: Q1 = 2.422, Q2 = 2.428, cost = 7.26e-05\n",
      "Step 005: Q1 = 2.423, Q2 = 2.428, cost = 6.80e-05\n",
      "Step 005: Q1 = 2.423, Q2 = 2.428, cost = 6.80e-05\n",
      "Step 006: Q1 = 2.424, Q2 = 2.427, cost = 6.25e-05\n",
      "Step 006: Q1 = 2.424, Q2 = 2.427, cost = 6.25e-05\n",
      "Step 007: Q1 = 2.425, Q2 = 2.425, cost = 5.13e-05\n",
      "Step 007: Q1 = 2.425, Q2 = 2.425, cost = 5.13e-05\n",
      "Step 008: Q1 = 2.425, Q2 = 2.423, cost = 3.71e-05\n",
      "Step 008: Q1 = 2.425, Q2 = 2.423, cost = 3.71e-05\n",
      "Step 009: Q1 = 2.424, Q2 = 2.422, cost = 1.66e-05\n",
      "Step 009: Q1 = 2.424, Q2 = 2.422, cost = 1.66e-05\n",
      "Step 010: Q1 = 2.420, Q2 = 2.420, cost = 3.00e-07\n"
     ]
    }
   ],
   "source": [
    "import itertools as it\n",
    "import dipas.compute as compute\n",
    "from dipas.elements import Kicker\n",
    "import torch\n",
    "\n",
    "lattice = lattice.makethin({Kicker: 2}, style={Kicker: 'edge'})\n",
    "print(f'# Parameters: {len(list(lattice.parameters()))}')\n",
    "\n",
    "targets = {'Q1': torch.tensor(twiss[1]['Q1']), 'Q2': torch.tensor(twiss[1]['Q2'])}\n",
    "optimizer = torch.optim.LBFGS(lattice.parameters())\n",
    "cost_fn = torch.nn.MSELoss()\n",
    "\n",
    "for step in it.count():\n",
    "    def closure():\n",
    "        optimizer.zero_grad()\n",
    "        data = compute.twiss(lattice)\n",
    "        Q1, Q2 = data['Q1'], data['Q2']\n",
    "        cost = cost_fn(Q1, targets['Q1']) + cost_fn(Q2, targets['Q2'])\n",
    "        print(f'Step {step:03d}: Q1 = {Q1:.3f}, Q2 = {Q2:.3f}, cost = {cost:.2e}')\n",
    "        if cost < 1e-6:\n",
    "            raise RuntimeError\n",
    "        cost.backward(retain_graph=True)\n",
    "        return cost\n",
    "    \n",
    "    try:\n",
    "        optimizer.step(closure)\n",
    "    except RuntimeError:\n",
    "        break\n",
    "        \n",
    "    for q in h_quadrupoles:\n",
    "        q.update_transfer_map()"
   ]
  },
  {
   "cell_type": "markdown",
   "metadata": {},
   "source": [
    "Now let's crosscheck the solution by running it through MADX. We can use `dipas.build.create_script` in order to convert the `lattice` object to a corresponding MADX script."
   ]
  },
  {
   "cell_type": "code",
   "execution_count": 8,
   "metadata": {},
   "outputs": [
    {
     "name": "stdout",
     "output_type": "stream",
     "text": [
      "Tune values: 2.420, 2.420\n"
     ]
    }
   ],
   "source": [
    "from dipas.build import create_script\n",
    "\n",
    "twiss_check = run_script(\n",
    "    create_script(sequence=lattice, errors=True, beam={'particle': 'proton', 'energy': 1}),\n",
    "    twiss=True,\n",
    "    madx=os.path.expanduser('~/bin/madx')\n",
    ")['twiss']\n",
    "print(f'Tune values: {twiss_check[1][\"Q1\"]:.3f}, {twiss_check[1][\"Q2\"]:.3f}')"
   ]
  },
  {
   "cell_type": "markdown",
   "metadata": {},
   "source": [
    "Finally let's compare the results to the solution which MADX originally computed:"
   ]
  },
  {
   "cell_type": "code",
   "execution_count": 9,
   "metadata": {},
   "outputs": [
    {
     "name": "stdout",
     "output_type": "stream",
     "text": [
      "         K1L_MADX    K1L_PF\n",
      "NAME                       \n",
      "YR02QS1  0.521336  0.517564\n",
      "YR02QS3  0.513679  0.509166\n",
      "YR04QS1  0.538908  0.530332\n",
      "YR04QS3  0.517392  0.527857\n",
      "YR06QS1  0.514691  0.513474\n",
      "YR06QS3  0.513379  0.513102\n",
      "YR08QS1  0.552487  0.526501\n",
      "YR08QS3  0.533606  0.526681\n",
      "YR10QS1  0.506585  0.515837\n",
      "YR10QS3  0.507948  0.518586\n",
      "YR12QS1  0.500134  0.513845\n",
      "YR12QS3  0.500342  0.506482\n"
     ]
    }
   ],
   "source": [
    "import pandas as pd\n",
    "\n",
    "q_names = [q.label.upper() for q in h_quadrupoles]\n",
    "results = twiss_matched[0].set_index('NAME').loc[q_names, ['K1L']]\n",
    "results = results.assign(DP=pd.Series([q.k1.item()*q.l.item() for q in h_quadrupoles], index=q_names))\n",
    "results.columns = ['K1L_MADX', 'K1L_PF']\n",
    "print(results)"
   ]
  },
  {
   "cell_type": "code",
   "execution_count": 10,
   "metadata": {},
   "outputs": [
    {
     "data": {
      "text/plain": [
       "<matplotlib.legend.Legend at 0x7f6063591910>"
      ]
     },
     "execution_count": 10,
     "metadata": {},
     "output_type": "execute_result"
    },
    {
     "data": {
      "image/png": "[encoded data removed]",
      "text/plain": [
       "<Figure size 648x288 with 1 Axes>"
      ]
     },
     "metadata": {
      "needs_background": "light"
     },
     "output_type": "display_data"
    }
   ],
   "source": [
    "%matplotlib inline\n",
    "\n",
    "ax = results.plot(kind='bar', figsize=(9, 4))\n",
    "ax.set_ylabel('K1L [1/m]')\n",
    "ax.plot([0, len(results)], [0.5086546699]*2, '--', color='red', label='initial')\n",
    "ax.legend()"
   ]
  },
  {
   "cell_type": "code",
   "execution_count": null,
   "metadata": {},
   "outputs": [],
   "source": []
  }
 ],
 "metadata": {
  "kernelspec": {
   "display_name": "Python 3",
   "language": "python",
   "name": "python3"
  },
  "language_info": {
   "codemirror_mode": {
    "name": "ipython",
    "version": 3
   },
   "file_extension": ".py",
   "mimetype": "text/x-python",
   "name": "python",
   "nbconvert_exporter": "python",
   "pygments_lexer": "ipython3",
   "version": "3.7.4"
  }
 },
 "nbformat": 4,
 "nbformat_minor": 2
}
