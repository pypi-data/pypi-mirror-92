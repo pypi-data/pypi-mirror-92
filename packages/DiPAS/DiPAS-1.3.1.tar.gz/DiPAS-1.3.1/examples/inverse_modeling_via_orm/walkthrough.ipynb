{
 "cells": [
  {
   "cell_type": "markdown",
   "metadata": {},
   "source": [
    "# Inverse Modeling of Quadrupole Gradient Errors by Matching the Orbit Response Matrix\n",
    "\n",
    "This example introduces errors to quadrupole gradient strengths and the goal of the differentiable simulation is to infer these errors by matching the Orbit Response Matrix (ORM) was well as the tunes of the resulting lattice. MADX simulations are used to provide the reference data corresponding to the lattice with errors."
   ]
  },
  {
   "cell_type": "markdown",
   "metadata": {},
   "source": [
    "Running the example script will perform the following steps:\n",
    "\n",
    "1. Define the lattice\n",
    "2. Assign a random field error to the third quadrupole of each triplet: `file = \"errors\"`\n",
    "3. Compute Twiss of the sequence with errors: `file = \"twiss\"`\n",
    "\n",
    "Here we only assign one error per triplet since the magnets that form a triplet are located very close together. For that reason the compensation of neighboring field errors is quite effective which considerably slows down the convergence of the optimization process. Assigning one error per triplet is equivalent to having only one free variable per triplet (e.g. if all magnets shared the same power supply)."
   ]
  },
  {
   "cell_type": "code",
   "execution_count": 1,
   "metadata": {},
   "outputs": [],
   "source": [
    "import os.path\n",
    "from dipas.madx import run_file\n",
    "\n",
    "result = run_file('example.madx', results=['twiss+meta', 'errors'],\n",
    "                  madx=os.path.expanduser('~/bin/madx'))\n",
    "\n",
    "twiss_ref = result['twiss']\n",
    "errors = result['errors']\n",
    "\n",
    "twiss_ref[0].set_index('NAME', inplace=True)  # [0] is the twiss data, [1] is the meta data (\"@\"-prefixed in the TFS file)\n",
    "errors.set_index('NAME', inplace=True)"
   ]
  },
  {
   "cell_type": "markdown",
   "metadata": {},
   "source": [
    "Let's check the K1L values and associated errors for all magnets. As mentioned above, only the third magnet in each triplet (`*QS3`) has been assigned an error:"
   ]
  },
  {
   "cell_type": "code",
   "execution_count": 2,
   "metadata": {},
   "outputs": [
    {
     "name": "stdout",
     "output_type": "stream",
     "text": [
      "              K1L    Errors\n",
      "NAME                       \n",
      "YR02QS1  0.508655  0.000000\n",
      "YR02QS2 -0.651115  0.000000\n",
      "YR02QS3  0.508655  0.011836\n",
      "YR04QS1  0.508655  0.000000\n",
      "YR04QS2 -0.651115  0.000000\n",
      "YR04QS3  0.508655  0.011628\n",
      "YR06QS1  0.508655  0.000000\n",
      "YR06QS2 -0.651115  0.000000\n",
      "YR06QS3  0.508655 -0.008112\n",
      "YR08QS1  0.508655  0.000000\n",
      "YR08QS2 -0.651115  0.000000\n",
      "YR08QS3  0.508655 -0.003652\n",
      "YR10QS1  0.508655  0.000000\n",
      "YR10QS2 -0.651115  0.000000\n",
      "YR10QS3  0.508655  0.011761\n",
      "YR12QS1  0.508655  0.000000\n",
      "YR12QS2 -0.651115  0.000000\n",
      "YR12QS3  0.508655  0.006400\n"
     ]
    }
   ],
   "source": [
    "import pandas as pd\n",
    "\n",
    "k1_values = pd.DataFrame({\n",
    "    'K1L':  twiss_ref[0]['K1L'].loc[errors.index],\n",
    "    'Errors': errors['K1L'],\n",
    "})\n",
    "print(k1_values)"
   ]
  },
  {
   "cell_type": "markdown",
   "metadata": {},
   "source": [
    "Now we load the lattice from the MADX file and declare the relevant quadrupole's k1-errors as optimization parameters in order to infer the actual values:"
   ]
  },
  {
   "cell_type": "code",
   "execution_count": 3,
   "metadata": {},
   "outputs": [
    {
     "name": "stdout",
     "output_type": "stream",
     "text": [
      "# parameters:  6\n"
     ]
    }
   ],
   "source": [
    "from dipas.build import from_file\n",
    "from dipas.elements import Quadrupole\n",
    "import torch\n",
    "\n",
    "lattice = from_file('example.madx', errors=False)  # use `errors=False` to load the nominal optics\n",
    "for quad in lattice['yr*qs3']:\n",
    "    quad.dk1 = torch.nn.Parameter(quad.dk1)\n",
    "    quad.update_transfer_map()  # make changes to `dk1` effective\n",
    "print('# parameters: ', len(list(lattice.parameters())))"
   ]
  },
  {
   "cell_type": "markdown",
   "metadata": {},
   "source": [
    "With the utility function `dipas.madx.run_orm` we can have MADX compute the Orbit Response Matrix for the given script file. Here we only consider the vertical component of the ORM. This will serve as the reference data against which the model will be matched."
   ]
  },
  {
   "cell_type": "code",
   "execution_count": 4,
   "metadata": {},
   "outputs": [
    {
     "name": "stdout",
     "output_type": "stream",
     "text": [
      "         yr02dx2   yr03dx2   yr03dx3   yr06dx2   yr07dx2   yr08dx2   yr10dx2  \\\n",
      "yr02kv  1.115240  1.983728  1.972641 -2.891744  1.823880  3.705735 -3.214685   \n",
      "yr04kv  0.809330  1.921067  1.954103  1.436141 -2.135845 -2.999211  3.510664   \n",
      "yr07kv -0.233959 -1.277466 -1.348631  2.203000  1.410669  2.204617 -2.361074   \n",
      "yr08kv  3.705474  0.733856  0.197256  1.247780  1.900128  1.201006  1.044550   \n",
      "yr10kv -3.056570  0.464584  0.998505 -3.012275 -0.807507  1.309568  1.132972   \n",
      "yr12kv  1.180532 -1.503768 -1.822981  3.617948 -0.628670 -3.078852  1.449289   \n",
      "\n",
      "         yr11dx2   yr12dx2  \n",
      "yr02kv -0.971380  1.443970  \n",
      "yr04kv -0.022372 -2.643008  \n",
      "yr07kv -0.178819  1.586732  \n",
      "yr08kv -2.170915 -2.916487  \n",
      "yr10kv  2.065269  1.186817  \n",
      "yr12kv  1.893791  1.050390  \n"
     ]
    }
   ],
   "source": [
    "from dipas.elements import VKicker, VMonitor\n",
    "from dipas.madx import run_orm\n",
    "\n",
    "kicker_labels = [x.label for x in lattice[VKicker]]\n",
    "monitor_labels = [x.label for x in lattice[VMonitor]]\n",
    "\n",
    "orm_ref = run_orm('example.madx',\n",
    "                  kickers=kicker_labels,\n",
    "                  monitors=monitor_labels,\n",
    "                  madx=os.path.expanduser('~/bin/madx'))\n",
    "\n",
    "orm_ref = orm_ref.loc[:, 'Y']  # only consider the vertical component\n",
    "print(orm_ref)  # rows are kickers, columns are monitors"
   ]
  },
  {
   "cell_type": "markdown",
   "metadata": {},
   "source": [
    "Using `dipas.compute.orm` we can compute the ORM for the given lattice, in dependency on the quadrupole gradient errors which we have previously declared as parameters:"
   ]
  },
  {
   "cell_type": "code",
   "execution_count": 5,
   "metadata": {},
   "outputs": [
    {
     "name": "stdout",
     "output_type": "stream",
     "text": [
      "         yr02dx2   yr03dx2   yr03dx3   yr06dx2   yr07dx2   yr08dx2   yr10dx2  \\\n",
      "yr02kv  1.051808  1.992815  1.989703 -2.950579  1.775919  3.689564 -3.108786   \n",
      "yr04kv  0.859713  1.864128  1.881479  1.546831 -2.106485 -3.043805  3.452004   \n",
      "yr07kv -0.295694 -1.264483 -1.323158  2.149441  1.414799  2.254200 -2.355583   \n",
      "yr08kv  3.689564  0.712763  0.171017  1.415990  1.853362  1.051808  1.156167   \n",
      "yr10kv -2.950579  0.484488  1.006893 -3.108786 -0.747051  1.415990  1.051808   \n",
      "yr12kv  1.156167 -1.508437 -1.824636  3.689564 -0.626480 -3.108786  1.415990   \n",
      "\n",
      "         yr11dx2   yr12dx2  \n",
      "yr02kv -0.946485  1.415990  \n",
      "yr04kv -0.022300 -2.625416  \n",
      "yr07kv -0.165343  1.614370  \n",
      "yr08kv -2.118423 -2.950579  \n",
      "yr10kv  1.986812  1.156167  \n",
      "yr12kv  1.886741  1.051808  \n"
     ]
    }
   ],
   "source": [
    "import dipas.compute as compute\n",
    "\n",
    "orm_x, orm_y = compute.orm(lattice, kickers=VKicker, monitors=VMonitor)\n",
    "orm_y = pd.DataFrame(data=orm_y.detach().numpy(), index=orm_ref.index, columns=orm_ref.columns)\n",
    "print(orm_y)"
   ]
  },
  {
   "cell_type": "markdown",
   "metadata": {},
   "source": [
    "Since the above `lattice` has no gradient errors so far, the result is quite different. The goal is to align the two ORMs so that their values match.\n",
    "\n",
    "Similarly we can compute the tunes via `dipas.compute.twiss`:"
   ]
  },
  {
   "cell_type": "code",
   "execution_count": 6,
   "metadata": {},
   "outputs": [
    {
     "name": "stdout",
     "output_type": "stream",
     "text": [
      "Tunes:     Q1 = 2.420, Q2 = 2.420\n",
      "Reference: Q1 = 2.439, Q2 = 2.411\n"
     ]
    }
   ],
   "source": [
    "from dipas.elements import Kicker\n",
    "\n",
    "twiss = compute.twiss(lattice.makethin({Kicker: 2}, style={Kicker: 'edge'}))  # MADX uses 'edge' style\n",
    "\n",
    "print(f'Tunes:     Q1 = {twiss[\"Q1\"]:.3f}, Q2 = {twiss[\"Q2\"]:.3f}')\n",
    "print(f'Reference: Q1 = {twiss_ref[1][\"Q1\"]:.3f}, Q2 = {twiss_ref[1][\"Q2\"]:.3f}')"
   ]
  },
  {
   "cell_type": "markdown",
   "metadata": {},
   "source": [
    "In the following we setup and run the optimization process. For that purpose we need to define an `optimizer` as well as compute the necessary quantities during each step of the optimization."
   ]
  },
  {
   "cell_type": "code",
   "execution_count": 7,
   "metadata": {},
   "outputs": [
    {
     "name": "stdout",
     "output_type": "stream",
     "text": [
      "[Step 001] cost = 4.005e-03\n",
      "[Step 002] cost = 3.628e-03\n",
      "[Step 003] cost = 3.276e-03\n",
      "[Step 004] cost = 2.946e-03\n",
      "[Step 005] cost = 2.636e-03\n",
      "[Step 006] cost = 2.348e-03\n",
      "[Step 007] cost = 2.082e-03\n",
      "[Step 008] cost = 1.841e-03\n",
      "[Step 009] cost = 1.622e-03\n",
      "[Step 010] cost = 1.425e-03\n",
      "[Step 011] cost = 1.247e-03\n",
      "[Step 012] cost = 1.087e-03\n",
      "[Step 013] cost = 9.440e-04\n",
      "[Step 014] cost = 8.166e-04\n",
      "[Step 015] cost = 7.039e-04\n",
      "[Step 016] cost = 6.046e-04\n",
      "[Step 017] cost = 5.174e-04\n",
      "[Step 018] cost = 4.410e-04\n",
      "[Step 019] cost = 3.746e-04\n",
      "[Step 020] cost = 3.170e-04\n",
      "[Step 021] cost = 2.674e-04\n",
      "[Step 022] cost = 2.248e-04\n",
      "[Step 023] cost = 1.883e-04\n",
      "[Step 024] cost = 1.573e-04\n",
      "[Step 025] cost = 1.309e-04\n",
      "[Step 026] cost = 1.087e-04\n",
      "[Step 027] cost = 8.997e-05\n",
      "[Step 028] cost = 7.428e-05\n",
      "[Step 029] cost = 6.117e-05\n",
      "[Step 030] cost = 5.025e-05\n",
      "[Step 031] cost = 4.118e-05\n",
      "[Step 032] cost = 3.367e-05\n",
      "[Step 033] cost = 2.748e-05\n",
      "[Step 034] cost = 2.238e-05\n",
      "[Step 035] cost = 1.819e-05\n",
      "[Step 036] cost = 1.476e-05\n",
      "[Step 037] cost = 1.196e-05\n",
      "[Step 038] cost = 9.677e-06\n",
      "[Step 039] cost = 7.823e-06\n",
      "[Step 040] cost = 6.321e-06\n",
      "[Step 041] cost = 5.106e-06\n",
      "[Step 042] cost = 4.126e-06\n",
      "[Step 043] cost = 3.337e-06\n",
      "[Step 044] cost = 2.703e-06\n",
      "[Step 045] cost = 2.194e-06\n",
      "[Step 046] cost = 1.786e-06\n",
      "[Step 047] cost = 1.460e-06\n",
      "[Step 048] cost = 1.198e-06\n",
      "[Step 049] cost = 9.873e-07\n",
      "[Step 050] cost = 8.180e-07\n",
      "[Step 051] cost = 6.812e-07\n",
      "[Step 052] cost = 5.702e-07\n",
      "[Step 053] cost = 4.796e-07\n",
      "[Step 054] cost = 4.051e-07\n",
      "[Step 055] cost = 3.434e-07\n",
      "[Step 056] cost = 2.920e-07\n",
      "[Step 057] cost = 2.488e-07\n",
      "[Step 058] cost = 2.123e-07\n",
      "[Step 059] cost = 1.812e-07\n",
      "[Step 060] cost = 1.546e-07\n",
      "[Step 061] cost = 1.318e-07\n",
      "[Step 062] cost = 1.122e-07\n",
      "[Step 063] cost = 9.528e-08\n",
      "[Step 064] cost = 8.069e-08\n",
      "[Step 065] cost = 6.812e-08\n",
      "[Step 066] cost = 5.730e-08\n",
      "[Step 067] cost = 4.802e-08\n",
      "[Step 068] cost = 4.007e-08\n",
      "[Step 069] cost = 3.329e-08\n",
      "[Step 070] cost = 2.753e-08\n",
      "[Step 071] cost = 2.266e-08\n",
      "[Step 072] cost = 1.856e-08\n",
      "[Step 073] cost = 1.512e-08\n",
      "[Step 074] cost = 1.225e-08\n",
      "[Step 075] cost = 9.872e-09\n",
      "[Step 076] cost = 7.912e-09\n",
      "[Step 077] cost = 6.304e-09\n",
      "[Step 078] cost = 5.060e-09\n",
      "[Step 079] cost = 4.489e-09\n",
      "[Step 080] cost = 8.936e-09\n",
      "[Step 081] cost = 6.293e-08\n",
      "[Step 082] cost = 6.134e-07\n",
      "[Step 083] cost = 2.974e-06\n",
      "[Step 084] cost = 2.264e-06\n",
      "[Step 085] cost = 1.503e-07\n",
      "[Step 086] cost = 3.758e-07\n",
      "[Step 087] cost = 2.939e-07\n",
      "[Step 088] cost = 2.981e-09\n",
      "[Step 089] cost = 7.049e-08\n",
      "[Step 090] cost = 4.033e-08\n",
      "[Step 091] cost = 1.068e-09\n",
      "[Step 092] cost = 8.643e-09\n",
      "[Step 093] cost = 7.415e-09\n",
      "[Step 094] cost = 1.177e-09\n",
      "[Step 095] cost = 2.822e-10\n",
      "[Step 096] cost = 1.052e-09\n",
      "[Step 097] cost = 6.550e-10\n",
      "[Step 098] cost = 1.699e-10\n",
      "[Step 099] cost = 1.043e-11\n",
      "[Step 100] cost = 3.517e-11\n",
      "[Step 101] cost = 5.414e-11\n",
      "[Step 102] cost = 4.936e-11\n",
      "[Step 103] cost = 3.667e-11\n",
      "[Step 104] cost = 2.693e-11\n",
      "[Step 105] cost = 2.308e-11\n",
      "[Step 106] cost = 2.406e-11\n",
      "[Step 107] cost = 3.191e-11\n",
      "[Step 108] cost = 5.131e-11\n",
      "[Step 109] cost = 9.806e-11\n",
      "[Step 110] cost = 2.158e-10\n",
      "[Step 111] cost = 5.392e-10\n",
      "[Step 112] cost = 1.510e-09\n",
      "[Step 113] cost = 4.704e-09\n",
      "[Step 114] cost = 1.616e-08\n",
      "[Step 115] cost = 6.056e-08\n",
      "[Step 116] cost = 2.408e-07\n",
      "[Step 117] cost = 9.216e-07\n",
      "[Step 118] cost = 2.480e-06\n",
      "[Step 119] cost = 2.598e-06\n",
      "[Step 120] cost = 5.232e-07\n",
      "[Step 121] cost = 5.917e-08\n",
      "[Step 122] cost = 3.298e-07\n",
      "[Step 123] cost = 1.261e-07\n",
      "[Step 124] cost = 1.599e-10\n",
      "[Step 125] cost = 3.134e-08\n",
      "[Step 126] cost = 2.999e-08\n",
      "[Step 127] cost = 6.587e-09\n",
      "[Step 128] cost = 2.992e-11\n",
      "[Step 129] cost = 2.273e-09\n",
      "[Step 130] cost = 2.766e-09\n",
      "[Step 131] cost = 1.515e-09\n",
      "[Step 132] cost = 4.848e-10\n",
      "[Step 133] cost = 7.920e-11\n",
      "[Step 134] cost = 8.701e-13\n"
     ]
    }
   ],
   "source": [
    "import itertools as it\n",
    "from dipas.elements import tensor\n",
    "\n",
    "optimizer = torch.optim.Adam(lattice.parameters(), lr=1.8e-3, betas=(0.51, 0.96))\n",
    "\n",
    "quadrupoles = lattice['yr*qs3']\n",
    "\n",
    "Q1 = twiss_ref[1][\"Q1\"]\n",
    "Q2 = twiss_ref[1][\"Q2\"]\n",
    "orm_ref_y = torch.from_numpy(orm_ref.to_numpy())\n",
    "\n",
    "cost_history = []\n",
    "dk1_history = []\n",
    "\n",
    "for step in it.count(1):\n",
    "    optimizer.zero_grad()\n",
    "        \n",
    "    orm_y = compute.orm(lattice, kickers=VKicker, monitors=VMonitor)[1]\n",
    "    cost1 = torch.nn.functional.mse_loss(orm_y, orm_ref_y)\n",
    "\n",
    "    try:\n",
    "        twiss = compute.twiss(lattice.makethin({Kicker: 2}, style={Kicker: 'edge'}))\n",
    "    except compute.UnstableLatticeError:\n",
    "        cost2 = tensor(0.)\n",
    "    else:\n",
    "        cost2 = (twiss['Q1'] - Q1)**2 + (twiss['Q2'] - Q2)**2\n",
    "\n",
    "    cost = cost1 + cost2\n",
    "    cost.backward(retain_graph=True)\n",
    "        \n",
    "    cost_history.append(cost.item())\n",
    "    dk1_history.append([quad.dk1.item() for quad in quadrupoles])\n",
    "    print(f'[Step {step:03d}] cost = {cost_history[-1]:.3e}')\n",
    "    \n",
    "    optimizer.step()\n",
    "    \n",
    "    if cost_history[-1] < 1e-12:  # if converged\n",
    "        break\n",
    "        \n",
    "    for quad in quadrupoles:\n",
    "        quad.update_transfer_map()  # make changes from `optimizer.step()` effective"
   ]
  },
  {
   "cell_type": "markdown",
   "metadata": {},
   "source": [
    "We can check the k1-error values during the optimization in order to assess the convergence:"
   ]
  },
  {
   "cell_type": "code",
   "execution_count": 8,
   "metadata": {},
   "outputs": [
    {
     "data": {
      "text/plain": [
       "<matplotlib.legend.Legend at 0x7f84cd51f110>"
      ]
     },
     "execution_count": 8,
     "metadata": {},
     "output_type": "execute_result"
    },
    {
     "data": {
      "image/png": "[encoded data removed]",
      "text/plain": [
       "<Figure size 691.2x518.4 with 1 Axes>"
      ]
     },
     "metadata": {
      "needs_background": "light"
     },
     "output_type": "display_data"
    }
   ],
   "source": [
    "%matplotlib inline\n",
    "\n",
    "import matplotlib.pyplot as plt\n",
    "import numpy as np\n",
    "\n",
    "dk1_history = np.array(dk1_history)\n",
    "\n",
    "fig, ax = plt.subplots(figsize=(9.6, 7.2))\n",
    "ax.set(xlabel='Iteration', ylabel='K1L error [1/m]')\n",
    "for i, quad in enumerate(quadrupoles):\n",
    "    ax.plot(dk1_history[:, i]*quad.l.item(), label=quad.label)\n",
    "    ax.axhline(errors.loc[quad.label.upper(), 'K1L'], lw=0.5, ls='--', color='black', zorder=-100)\n",
    "ax.legend()"
   ]
  },
  {
   "cell_type": "markdown",
   "metadata": {},
   "source": [
    "The small wiggles towards the end of the `yr06qs3` and `yr08qs3` lines come from the particular structure of the parameter space close to the target values. The considered quadrupoles in the lattice have a certain capability to compensate each other's over- or underestimation of the true parameter values. This creates a region of strong compensation were the considered cost function (ORM + tunes) barely changes, resulting in a very slow, asymptotic convergence, as can be seen for iteration 40 or later. Perpendicular to that region however the cost increases very rapidly, so small misalignments of the optimizer momentum with respect to that region can lead to a digression from the \"optimal\" route, causing transverse oscillations in parameter space which are eventually damped away. Being mostly perpendicular to the direction towards the target this ususally doesn't hinder convergence. Nevertheless the convergence properties largely depend on the used optimizer and its settings, so a systematic screening of the available options is recommended."
   ]
  },
  {
   "cell_type": "markdown",
   "metadata": {},
   "source": [
    "We can also check the cost function during the optimization which reflects the above observed wiggles as well. Nevertheless, imagining a continuation of the cost trend line beyond iteration 75 arrives at approximately the same number of iterations needed to reach $10^{-12}$ MSE level (i.e. the wiggles don't hinder the convergence process)."
   ]
  },
  {
   "cell_type": "code",
   "execution_count": 9,
   "metadata": {},
   "outputs": [
    {
     "data": {
      "text/plain": [
       "<matplotlib.lines.Line2D at 0x7f84c63a3c10>"
      ]
     },
     "execution_count": 9,
     "metadata": {},
     "output_type": "execute_result"
    },
    {
     "data": {
      "image/png": "[encoded data removed]",
      "text/plain": [
       "<Figure size 576x432 with 1 Axes>"
      ]
     },
     "metadata": {
      "needs_background": "light"
     },
     "output_type": "display_data"
    }
   ],
   "source": [
    "fig, ax = plt.subplots(figsize=(8, 6))\n",
    "ax.set(xlabel='Iteration', ylabel='Cost (MSE)')\n",
    "ax.set_yscale('log')\n",
    "ax.plot(cost_history)\n",
    "ax.axhline(1e-12, lw=0.5, ls='--', color='black', zorder=-100)"
   ]
  },
  {
   "cell_type": "markdown",
   "metadata": {},
   "source": [
    "Finally we run a crosscheck with MADX, using the derived k1-error values, in order to confirm that the computed ORM does indeed match our computation:"
   ]
  },
  {
   "cell_type": "code",
   "execution_count": 10,
   "metadata": {},
   "outputs": [
    {
     "name": "stdout",
     "output_type": "stream",
     "text": [
      "Deviation between computed and crosscheck ORM:\n",
      "\n",
      "             yr02dx2       yr03dx2       yr03dx3       yr06dx2       yr07dx2  \\\n",
      "yr02kv -6.660000e-06 -2.938000e-06 -2.112000e-06  6.800000e-07 -1.357000e-06   \n",
      "yr04kv  4.068900e-06  1.354000e-06  8.110000e-07 -4.800000e-08  1.835000e-06   \n",
      "yr07kv -1.316000e-06  3.540000e-07  5.970000e-07 -1.382000e-06 -2.987000e-06   \n",
      "yr08kv -9.660000e-07  7.280000e-07  9.459000e-07 -1.028000e-06 -3.304000e-06   \n",
      "yr10kv -4.969000e-06 -3.296800e-06 -2.774300e-06  1.558000e-06  1.244100e-06   \n",
      "yr12kv  7.332000e-06  3.797000e-06  2.936000e-06 -1.186000e-06  1.344000e-07   \n",
      "\n",
      "             yr08dx2       yr10dx2       yr11dx2       yr12dx2  \n",
      "yr02kv -9.540000e-07 -4.630000e-06  3.543900e-06  7.109000e-06  \n",
      "yr04kv  1.531000e-06  1.902000e-06 -2.322250e-06 -3.865000e-06  \n",
      "yr07kv -2.521000e-06  9.580000e-07  9.788000e-07  3.590000e-07  \n",
      "yr08kv -3.103000e-06  1.396000e-06  7.440000e-07 -3.190000e-07  \n",
      "yr10kv  1.284000e-06 -5.831000e-06  2.325000e-06  6.553000e-06  \n",
      "yr12kv -2.680000e-07  6.340000e-06 -3.647000e-06 -8.422000e-06  \n"
     ]
    }
   ],
   "source": [
    "from dipas.build import create_script\n",
    "\n",
    "script = create_script(\n",
    "    beam=dict(particle='proton', energy=1),\n",
    "    sequence=lattice,\n",
    "    errors=True)\n",
    "\n",
    "with open('crosscheck_orm.madx', 'w') as fh:\n",
    "    fh.write(script)\n",
    "\n",
    "orm_cc = run_orm('crosscheck_orm.madx',\n",
    "                 kickers=kicker_labels,\n",
    "                 monitors=monitor_labels,\n",
    "                 madx=os.path.expanduser('~/bin/madx'))\n",
    "orm_cc = orm_cc.loc[:, 'Y']\n",
    "\n",
    "print('Deviation between computed and crosscheck ORM:', end='\\n\\n')\n",
    "print(orm_cc - orm_ref)"
   ]
  }
 ],
 "metadata": {
  "kernelspec": {
   "display_name": "Python 3",
   "language": "python",
   "name": "python3"
  },
  "language_info": {
   "codemirror_mode": {
    "name": "ipython",
    "version": 3
   },
   "file_extension": ".py",
   "mimetype": "text/x-python",
   "name": "python",
   "nbconvert_exporter": "python",
   "pygments_lexer": "ipython3",
   "version": "3.7.6"
  }
 },
 "nbformat": 4,
 "nbformat_minor": 2
}
