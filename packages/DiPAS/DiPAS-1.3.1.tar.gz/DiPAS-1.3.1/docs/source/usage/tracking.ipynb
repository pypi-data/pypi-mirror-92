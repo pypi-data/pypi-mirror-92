{
 "cells": [
  {
   "cell_type": "markdown",
   "metadata": {
    "pycharm": {
     "name": "#%% md\n"
    }
   },
   "source": [
    "# Particle tracking\n",
    "\n",
    "Particle tracking can be performed by referring to the various methods of the lattice elements or similarly the lattice\n",
    "itself. For example linear optics tracking can be done via the `linear` instance method:"
   ]
  },
  {
   "cell_type": "code",
   "execution_count": 1,
   "metadata": {
    "pycharm": {
     "name": "#%%\n"
    }
   },
   "outputs": [
    {
     "name": "stdout",
     "output_type": "stream",
     "text": [
      "tensor([0.0010, 0.0010])\n",
      "tensor([0.0083, 0.0014])\n"
     ]
    }
   ],
   "source": [
    "from importlib import resources\n",
    "from dipas.build import from_file\n",
    "from dipas.elements import Kicker\n",
    "import dipas.test.sequences\n",
    "import torch\n",
    "torch.manual_seed(1)\n",
    "\n",
    "with resources.path(dipas.test.sequences, 'cryring.seq') as path:\n",
    "    lattice = from_file(path)\n",
    "\n",
    "lattice = lattice.makethin({Kicker: 3})  # Need to make thin for tracking.\n",
    "\n",
    "particles = 0.001 * torch.randn(6, 1000)  # 1000 particles\n",
    "print(particles[[0, 2], :].std(dim=1))\n",
    "\n",
    "tracked = lattice.linear(particles)\n",
    "print(tracked[[0, 2], :].std(dim=1))"
   ]
  },
  {
   "cell_type": "markdown",
   "metadata": {
    "pycharm": {
     "name": "#%% md\n"
    }
   },
   "source": [
    "This tracks one turn through the lattice. By default no aperture checks are performed. We can enable aperture checks by\n",
    "setting the parameter `aperture=True`:"
   ]
  },
  {
   "cell_type": "code",
   "execution_count": 2,
   "metadata": {
    "pycharm": {
     "name": "#%%\n"
    }
   },
   "outputs": [
    {
     "name": "stdout",
     "output_type": "stream",
     "text": [
      "torch.Size([6, 43])\n"
     ]
    }
   ],
   "source": [
    "particles = 0.01 * torch.randn(6, 1000)\n",
    "tracked = lattice.linear(particles, aperture=True)\n",
    "print(tracked.shape)"
   ]
  },
  {
   "cell_type": "markdown",
   "metadata": {
    "pycharm": {
     "name": "#%% md\n"
    }
   },
   "source": [
    "So we lost most of the particles in this case. To get an idea of where they were lost, we can instruct the tracking method\n",
    "to record the loss:"
   ]
  },
  {
   "cell_type": "code",
   "execution_count": 3,
   "metadata": {
    "pycharm": {
     "name": "#%%\n"
    }
   },
   "outputs": [
    {
     "name": "stdout",
     "output_type": "stream",
     "text": [
      "torch.Size([6, 43])\n"
     ]
    }
   ],
   "source": [
    "tracked, loss = lattice.linear(particles, aperture=True, recloss=True)\n",
    "print(tracked.shape)"
   ]
  },
  {
   "cell_type": "markdown",
   "metadata": {
    "pycharm": {
     "name": "#%% md\n"
    }
   },
   "source": [
    "Setting `recloss=True` records the loss values at each element and adds them as a separate return value in form of a dict,\n",
    "mapping element labels to loss values. The loss values themselves are determined by the particular aperture type\n",
    "(see `elements.aperture_types`). The loss value is computed for each particle arriving at the entrance of an element.\n",
    "If the loss value is greater than zero the particle lost, otherwise it is tracked further. Let's see the loss values\n",
    "for the first ten elements:"
   ]
  },
  {
   "cell_type": "code",
   "execution_count": 4,
   "metadata": {
    "pycharm": {
     "name": "#%%\n"
    }
   },
   "outputs": [
    {
     "name": "stdout",
     "output_type": "stream",
     "text": [
      "p_0: 1000\n",
      "drift_0: 1000\n",
      "p_lp2end: 998\n",
      "drift_1: 998\n",
      "yr01lb3: 998\n",
      "drift_2: 998\n",
      "yr01lb4: 997\n",
      "drift_3: 994\n",
      "yr01df3: 989\n",
      "drift_4: 989\n"
     ]
    }
   ],
   "source": [
    "for label, loss_val in list(loss.items())[:10]:\n",
    "    print(f'{label}: {len(loss_val)}')"
   ]
  },
  {
   "cell_type": "markdown",
   "metadata": {
    "pycharm": {
     "name": "#%% md\n"
    }
   },
   "source": [
    "That means all 1,000 particles arrived at the entrance of element `p_0` (which is a marker) and thus also arrives at element\n",
    "`drift_0`. Note that even though `drift_0` is a `k1 = 0` quadrupole, serving as an aperture-checked drift in MADX,\n",
    "the tracking here performs aperture checks also for `Drift` spaces. Since at the next marker only 998 particles arrive,\n",
    "this means we lost two particles at the previous element. We can confirm that by checking the loss values greater than zero:"
   ]
  },
  {
   "cell_type": "code",
   "execution_count": 5,
   "metadata": {
    "pycharm": {
     "name": "#%%\n"
    }
   },
   "outputs": [
    {
     "name": "stdout",
     "output_type": "stream",
     "text": [
      "tensor([0.0012, 0.0029])\n"
     ]
    }
   ],
   "source": [
    "l_drift_0 = loss['drift_0']\n",
    "print(l_drift_0[l_drift_0 > 0])"
   ]
  },
  {
   "cell_type": "markdown",
   "metadata": {
    "pycharm": {
     "name": "#%% md\n"
    }
   },
   "source": [
    "Instead of returning a loss history we can also ask for an accumulated version of the loss value. This will sum the loss\n",
    "values which are greater than zero at every element:"
   ]
  },
  {
   "cell_type": "code",
   "execution_count": 6,
   "metadata": {
    "pycharm": {
     "name": "#%%\n"
    }
   },
   "outputs": [
    {
     "name": "stdout",
     "output_type": "stream",
     "text": [
      "torch.Size([6, 43])\n",
      "tensor(151.6977)\n"
     ]
    }
   ],
   "source": [
    "tracked, loss = lattice.linear(particles, aperture=True, recloss='sum')\n",
    "print(tracked.shape)\n",
    "print(loss)"
   ]
  },
  {
   "cell_type": "markdown",
   "metadata": {},
   "source": [
    "This is helpful for particle loss optimization because if our lattice contained optimization parameters, we could inject\n",
    "the corresponding gradients via `loss.backward()`.\n",
    "\n",
    "We can also use more fine-grained control over the loss history by specifying one or more multi-element selectors\n",
    "that will be matched against elements (these multi-element selectors are `str`, `re.Pattern` or lattice element types)."
   ]
  },
  {
   "cell_type": "code",
   "execution_count": 7,
   "metadata": {
    "pycharm": {
     "name": "#%%\n"
    }
   },
   "outputs": [
    {
     "name": "stdout",
     "output_type": "stream",
     "text": [
      "yr01mh 961\n",
      "yr02mh 351\n",
      "yr03mh 107\n",
      "yr04mh 91\n",
      "yr05mh 89\n",
      "yr06mh 86\n",
      "yr07mh 69\n",
      "yr08mh 66\n",
      "yr09mh 63\n",
      "yr10mh 60\n",
      "yr11mh 60\n",
      "yr12mh 60\n"
     ]
    }
   ],
   "source": [
    "from dipas.elements import SBend\n",
    "\n",
    "tracked, loss = lattice.linear(particles, aperture=True, recloss=SBend)\n",
    "for k, v in loss.items():\n",
    "    print(k, len(v))"
   ]
  },
  {
   "cell_type": "markdown",
   "metadata": {},
   "source": [
    "Again the lengths of the loss values indicate how many particles arrived at a particular element. Using a wildcard expression\n",
    "we can record the loss at all the quadrupoles for example:"
   ]
  },
  {
   "cell_type": "code",
   "execution_count": 8,
   "metadata": {
    "pycharm": {
     "name": "#%%\n"
    }
   },
   "outputs": [
    {
     "name": "stdout",
     "output_type": "stream",
     "text": [
      "18\n",
      "{<class 'dipas.elements.Quadrupole'>}\n"
     ]
    }
   ],
   "source": [
    "tracked, loss = lattice.linear(particles, aperture=True, recloss='yr*qs*')\n",
    "print(len(loss))\n",
    "print(set(type(lattice[label]) for label in loss))"
   ]
  },
  {
   "cell_type": "markdown",
   "metadata": {},
   "source": [
    "The same options are available for observing particle coordinates at specific elements. For that purpose we can use the\n",
    "`observe` parameter. We can provide similar values as for `recloss` (except for `\"sum\"` which doesn't make sense here):"
   ]
  },
  {
   "cell_type": "code",
   "execution_count": 9,
   "metadata": {
    "pycharm": {
     "name": "#%%\n"
    }
   },
   "outputs": [
    {
     "name": "stdout",
     "output_type": "stream",
     "text": [
      "18\n",
      "{<class 'dipas.elements.Quadrupole'>}\n"
     ]
    }
   ],
   "source": [
    "tracked, locations = lattice.linear(particles, aperture=True, observe='yr*qs*')\n",
    "print(len(locations))\n",
    "print(set(type(lattice[label]) for label in locations))"
   ]
  },
  {
   "cell_type": "markdown",
   "metadata": {},
   "source": [
    "By inspecting the shape of the corresponding position we can see how many particles were successfully tracked through\n",
    "an element, i.e. made it to the element's exit. This number is the number of particles that arrived at an element\n",
    "(the `len(loss_value)`) minus the number of particles that were lost at the element (`len(loss_value[loss_value > 0])`).\n",
    "The loss is computed at the entrance of an element and the coordinates are recorded at the exit of elements:"
   ]
  },
  {
   "cell_type": "code",
   "execution_count": 10,
   "metadata": {
    "pycharm": {
     "name": "#%%\n"
    }
   },
   "outputs": [
    {
     "name": "stdout",
     "output_type": "stream",
     "text": [
      "724\n",
      "81\n",
      "643\n",
      "True\n"
     ]
    }
   ],
   "source": [
    "tracked, locations, loss = lattice.linear(particles, aperture=True, observe='yr*qs*', recloss='yr*qs*')\n",
    "print(loss['yr02qs1'].shape[-1])\n",
    "print(len(loss['yr02qs1'][loss['yr02qs1'] > 0]))\n",
    "print(locations['yr02qs1'].shape[-1])\n",
    "print(loss['yr02qs1'].shape[-1] - len(loss['yr02qs1'][loss['yr02qs1'] > 0]) == locations['yr02qs1'].shape[-1])"
   ]
  },
  {
   "cell_type": "markdown",
   "metadata": {},
   "source": [
    "Irrespective of the tracking method used (e.g. `linear` in the above examples), drift spaces will always be tracked through\n",
    "by using the exact solutions to the equations of motion (referred to by the `exact` tracking method). If this behavior is\n",
    "undesired and drift spaces should use the specified tracking method instead of `exact` this can be done by\n",
    "specifying the parameter `exact_drift=False`."
   ]
  },
  {
   "cell_type": "code",
   "execution_count": 11,
   "metadata": {
    "pycharm": {
     "name": "#%%\n"
    }
   },
   "outputs": [
    {
     "name": "stdout",
     "output_type": "stream",
     "text": [
      "tensor([0.0863, 0.0151, 0.0141, 0.0089, 3.2844, 0.0103])\n",
      "tensor([0.0861, 0.0151, 0.0141, 0.0089, 3.2826, 0.0103])\n"
     ]
    }
   ],
   "source": [
    "print(lattice.linear(particles, exact_drift=False).std(dim=1))\n",
    "print(lattice.linear(particles, exact_drift=True).std(dim=1))"
   ]
  }
 ],
 "metadata": {
  "kernelspec": {
   "display_name": "Python 3",
   "language": "python",
   "name": "python3"
  },
  "language_info": {
   "codemirror_mode": {
    "name": "ipython",
    "version": 3
   },
   "file_extension": ".py",
   "mimetype": "text/x-python",
   "name": "python",
   "nbconvert_exporter": "python",
   "pygments_lexer": "ipython3",
   "version": "3.7.4"
  },
  "pycharm": {
   "stem_cell": {
    "cell_type": "raw",
    "metadata": {
     "collapsed": false
    },
    "source": []
   }
  }
 },
 "nbformat": 4,
 "nbformat_minor": 2
}
