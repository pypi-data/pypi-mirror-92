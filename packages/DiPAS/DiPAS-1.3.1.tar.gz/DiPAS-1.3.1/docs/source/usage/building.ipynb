{
 "cells": [
  {
   "cell_type": "markdown",
   "metadata": {},
   "source": [
    "# Building lattices\n",
    "\n",
    "Lattices can be built by parsing MADX scripts or programmatically using the API of the package.\n",
    "\n",
    "\n",
    "## Parsing MADX scripts\n",
    "\n",
    "The main functions for parsing MADX scripts to lattices are `build.from_file` and `build.from_script`.\n",
    "The only difference is that the former expects the file name to the script, and the latter the raw script as a string:\n",
    "\n",
    "    from dipas.build import from_file, from_script\n",
    "\n",
    "    lattice = from_file('example.madx')\n",
    "\n",
    "    with open('example.madx') as fh:  # alternatively build from script string\n",
    "        lattice = from_script(fh.read())\n",
    "\n",
    "The documentation of the `dipas.madx.parser` module contains detailed information on how to customize the parsing behavior.\n",
    "\n",
    "In case the MADX script contains an unknown element, a warning will be issued, and the element is skipped.\n",
    "The supported elements can be found by inspecting the `elements.elements` dict; keys are MADX command names and values are the corresponding PyTorch backend modules."
   ]
  },
  {
   "cell_type": "code",
   "execution_count": 1,
   "metadata": {},
   "outputs": [
    {
     "name": "stdout",
     "output_type": "stream",
     "text": [
      "{'dipedge': <class 'dipas.elements.Dipedge'>,\n",
      " 'drift': <class 'dipas.elements.Drift'>,\n",
      " 'hkicker': <class 'dipas.elements.HKicker'>,\n",
      " 'hmonitor': <class 'dipas.elements.HMonitor'>,\n",
      " 'instrument': <class 'dipas.elements.Instrument'>,\n",
      " 'kicker': <class 'dipas.elements.Kicker'>,\n",
      " 'marker': <class 'dipas.elements.Marker'>,\n",
      " 'monitor': <class 'dipas.elements.Monitor'>,\n",
      " 'placeholder': <class 'dipas.elements.Placeholder'>,\n",
      " 'quadrupole': <class 'dipas.elements.Quadrupole'>,\n",
      " 'rbend': <class 'dipas.elements.RBend'>,\n",
      " 'sbend': <class 'dipas.elements.SBend'>,\n",
      " 'sbendbody': <class 'dipas.elements.SBendBody'>,\n",
      " 'sextupole': <class 'dipas.elements.Sextupole'>,\n",
      " 'tkicker': <class 'dipas.elements.TKicker'>,\n",
      " 'vkicker': <class 'dipas.elements.VKicker'>,\n",
      " 'vmonitor': <class 'dipas.elements.VMonitor'>}\n"
     ]
    }
   ],
   "source": [
    "from pprint import pprint\n",
    "from dipas.elements import elements\n",
    "\n",
    "pprint(elements)"
   ]
  },
  {
   "cell_type": "markdown",
   "metadata": {},
   "source": [
    "Similarly, we can check the supported alignment errors and aperture types:"
   ]
  },
  {
   "cell_type": "code",
   "execution_count": 2,
   "metadata": {},
   "outputs": [
    {
     "name": "stdout",
     "output_type": "stream",
     "text": [
      "{'dpsi': <class 'dipas.elements.LongitudinalRoll'>,\n",
      " 'dx': <class 'dipas.elements.Offset'>,\n",
      " 'dy': <class 'dipas.elements.Offset'>,\n",
      " 'mrex': <class 'dipas.elements.BPMError'>,\n",
      " 'mrey': <class 'dipas.elements.BPMError'>,\n",
      " 'mscalx': <class 'dipas.elements.BPMError'>,\n",
      " 'mscaly': <class 'dipas.elements.BPMError'>,\n",
      " 'tilt': <class 'dipas.elements.Tilt'>}\n",
      "{'circle': <class 'dipas.elements.ApertureCircle'>,\n",
      " 'ellipse': <class 'dipas.elements.ApertureEllipse'>,\n",
      " 'rectangle': <class 'dipas.elements.ApertureRectangle'>,\n",
      " 'rectellipse': <class 'dipas.elements.ApertureRectEllipse'>}\n"
     ]
    }
   ],
   "source": [
    "from dipas.elements import alignment_errors, aperture_types\n",
    "\n",
    "pprint(alignment_errors)\n",
    "pprint(aperture_types)"
   ]
  },
  {
   "cell_type": "markdown",
   "metadata": {},
   "source": [
    "As can be seen from the above element dictionary, a general `MULTIPOLE` is not yet supported and so attempting to load a script with such a definition will raise a warning:"
   ]
  },
  {
   "cell_type": "code",
   "execution_count": 3,
   "metadata": {},
   "outputs": [
    {
     "name": "stderr",
     "output_type": "stream",
     "text": [
      "/home/dominik/Projects/DiPAS/dipas/build.py:560: UserWarning: Skipping element (no equivalent implementation found): Command(keyword='multipole', local_attributes={'knl': array([0.]), 'at': 8.6437999}, label='gts1mu1', base=None)\n",
      "  warnings.warn(f'Skipping element (no equivalent implementation found): {command}')\n",
      "/home/dominik/Projects/DiPAS/dipas/build.py:560: UserWarning: Skipping element (no equivalent implementation found): Command(keyword='multipole', local_attributes={'knl': array([0.]), 'at': 28.6437973}, label='gte3mu1', base=None)\n",
      "  warnings.warn(f'Skipping element (no equivalent implementation found): {command}')\n",
      "/home/dominik/Projects/DiPAS/dipas/build.py:560: UserWarning: Skipping element (no equivalent implementation found): Command(keyword='multipole', local_attributes={'knl': array([0.]), 'at': 52.4014301}, label='ghhtmu1', base=None)\n",
      "  warnings.warn(f'Skipping element (no equivalent implementation found): {command}')\n",
      "/home/dominik/Projects/DiPAS/dipas/build.py:560: UserWarning: Skipping element (no equivalent implementation found): Command(keyword='multipole', local_attributes={'knl': array([0.]), 'at': 100.2795473}, label='gth3mu1', base=None)\n",
      "  warnings.warn(f'Skipping element (no equivalent implementation found): {command}')\n",
      "/home/dominik/Projects/DiPAS/dipas/build.py:560: UserWarning: Skipping element (no equivalent implementation found): Command(keyword='multipole', local_attributes={'knl': array([0.]), 'at': 125.7672306}, label='gtp1mu1', base=None)\n",
      "  warnings.warn(f'Skipping element (no equivalent implementation found): {command}')\n"
     ]
    }
   ],
   "source": [
    "from importlib import resources\n",
    "from dipas.build import from_file\n",
    "import dipas.test.sequences\n",
    "\n",
    "with resources.path(dipas.test.sequences, 'hades.seq') as path:\n",
    "    lattice = from_file(path)"
   ]
  },
  {
   "cell_type": "markdown",
   "metadata": {},
   "source": [
    "This issues a few warnings of the following form:\n",
    "\n",
    "    .../dipas/build.py:174: UserWarning: Skipping element (no equivalent implementation found): Command(keyword='multipole', local_attributes={'knl': array([0.]), 'at': 8.6437999}, label='gts1mu1', base=None)\n",
    "\n",
    "In order to not accidentally miss any such non-supported elements one can configure Python to raise an error whenever a warning is encountered (see [the docs](https://docs.python.org/3/library/warnings.html) for more details):\n",
    "\n",
    "    import warnings\n",
    "\n",
    "    warnings.simplefilter('error')\n",
    "    \n",
    "    with resources.path(dipas.test.sequences, 'hades.seq') as path:\n",
    "        lattice = from_file(path)\n",
    "        \n",
    "This will convert the previous warning into an error."
   ]
  },
  {
   "cell_type": "markdown",
   "metadata": {},
   "source": [
    "## Using the build API\n",
    "\n",
    "We can also build a lattice using the `build.Lattice` class:"
   ]
  },
  {
   "cell_type": "code",
   "execution_count": 4,
   "metadata": {},
   "outputs": [],
   "source": [
    "from dipas.build import Lattice\n",
    "\n",
    "with Lattice(beam=dict(particle='proton', beta=0.6)) as lattice:\n",
    "    lattice.Drift(l=2)\n",
    "    lattice.Quadrupole(k1=0.25, l=1, label='q1')\n",
    "    lattice.Drift(l=3)\n",
    "    lattice.HKicker(kick=0.1, label='hk1')"
   ]
  },
  {
   "cell_type": "markdown",
   "metadata": {},
   "source": [
    "When used as a context manager (i.e. inside `with`) we just need to invoke the various element functions in order to append them to the lattice.\n",
    "\n",
    "We can get an overview of the lattice by printing it:"
   ]
  },
  {
   "cell_type": "code",
   "execution_count": 5,
   "metadata": {},
   "outputs": [
    {
     "name": "stdout",
     "output_type": "stream",
     "text": [
      "[    0.000000]  Drift(l=tensor(2.), label=None)\n",
      "[    2.000000]  Quadrupole(l=tensor(1.), k1=tensor(0.2500), dk1=tensor(0.), label='q1')\n",
      "[    3.000000]  Drift(l=tensor(3.), label=None)\n",
      "[    6.000000]  HKicker(l=tensor(0.), hkick=tensor(0.1000), vkick=tensor(0.), kick=tensor(0.1000), label='hk1')\n"
     ]
    }
   ],
   "source": [
    "print(lattice)"
   ]
  },
  {
   "cell_type": "markdown",
   "metadata": {},
   "source": [
    "The number in brackets `[...]` indicates the position along the lattice in meters, followed by a description of the element\n",
    "\n",
    "Besides usage as a context manager other ways of adding elements exist:"
   ]
  },
  {
   "cell_type": "code",
   "execution_count": 6,
   "metadata": {},
   "outputs": [],
   "source": [
    "lattice = Lattice({'particle': 'proton', 'beta': 0.6})\n",
    "lattice += lattice.Drift(l=2)\n",
    "lattice.append(lattice.Quadrupole(k1=0.25, l=1, label='q1'))\n",
    "lattice += [lattice.Drift(l=3), lattice.HKicker(kick=0.1, label='hk1')]"
   ]
  },
  {
   "cell_type": "markdown",
   "metadata": {},
   "source": [
    "This creates the same lattice as before. Note that because `lattice` is not used as a context manager, invoking the element functions, such as `lattice.Quadrupole`, will not automatically add the element to the lattice; we can do so via `lattice += ...`, `lattice.append` or `lattice.extend`.\n",
    "\n",
    "We can also specify positions along the lattice directly, which will also take care of inserting implicit drift spaces:"
   ]
  },
  {
   "cell_type": "code",
   "execution_count": 7,
   "metadata": {},
   "outputs": [],
   "source": [
    "lattice = Lattice({'particle': 'proton', 'beta': 0.6})\n",
    "lattice[2.0] = lattice.Quadrupole(k1=0.25, l=1, label='q1')\n",
    "lattice['q1', 3.0] = lattice.HKicker(kick=0.1, label='hk1')"
   ]
  },
  {
   "cell_type": "markdown",
   "metadata": {},
   "source": [
    "This again creates the same lattice as before. We can specify an absolute position along the lattice by just using a float or we can specify a position relative to another element by using a tuple and referring to the other element via its label.\n",
    "\n",
    "> **Note:** When using a relative position via tuple, the position is taken relative to the *exit* of the referred element.\n",
    "\n",
    "After building the lattice in such a way there's one step left to obtain the same result as via `build.from_file` or `build.from_script`.\n",
    "These methods return a `elements.Segment` instance which provides further functionality for tracking and conversion to thin elements for example. We can simply convert our lattice to a Segment as follows:"
   ]
  },
  {
   "cell_type": "code",
   "execution_count": 8,
   "metadata": {},
   "outputs": [],
   "source": [
    "from dipas.elements import Segment\n",
    "\n",
    "lattice = Segment(lattice)  # 'lattice' from before"
   ]
  },
  {
   "cell_type": "markdown",
   "metadata": {},
   "source": [
    "## Using the element types directly\n",
    "\n",
    "Another option for building a lattice is to access the element classes directly. This can be done via `elements.<cls_name>` or by using the `elements.elements` dict which maps MADX command names to corresponding backend classes:"
   ]
  },
  {
   "cell_type": "code",
   "execution_count": 9,
   "metadata": {},
   "outputs": [],
   "source": [
    "from dipas.build import Beam\n",
    "import dipas.elements as elements\n",
    "\n",
    "beam = Beam(particle='proton', beta=0.6).to_dict()\n",
    "sequence = [\n",
    "    elements.Drift(l=2, beam=beam),\n",
    "    elements.Quadrupole(k1=0.25, l=1, beam=beam, label='q1'),\n",
    "    elements.elements['drift'](l=3, beam=beam),\n",
    "    elements.elements['hkicker'](kick=0.1, label='hk1')\n",
    "]\n",
    "lattice = elements.Segment(sequence)"
   ]
  },
  {
   "cell_type": "markdown",
   "metadata": {},
   "source": [
    "This creates the same lattice as in the previous section. Note that we had to use `Beam(...).to_dict()` and pass the result to the element classes. This is because the elements expect both `beta` and `gamma` in the `beam` dict and won't compute it themselves. `build.Beam` however does the job for us:"
   ]
  },
  {
   "cell_type": "code",
   "execution_count": 10,
   "metadata": {},
   "outputs": [
    {
     "name": "stdout",
     "output_type": "stream",
     "text": [
      "{'beta': 0.6,\n",
      " 'brho': 2.34730408386391,\n",
      " 'charge': 1,\n",
      " 'energy': 1.1728401016249999,\n",
      " 'gamma': 1.25,\n",
      " 'mass': 0.9382720813,\n",
      " 'particle': 'proton',\n",
      " 'pc': 0.7037040609749998}\n"
     ]
    }
   ],
   "source": [
    "from pprint import pprint\n",
    "\n",
    "pprint(beam)"
   ]
  },
  {
   "cell_type": "markdown",
   "metadata": {},
   "source": [
    "Taking care of the beam definition was done automatically by using the `build.Lattice` class as in the previous section."
   ]
  }
 ],
 "metadata": {
  "kernelspec": {
   "display_name": "Python 3",
   "language": "python",
   "name": "python3"
  },
  "language_info": {
   "codemirror_mode": {
    "name": "ipython",
    "version": 3
   },
   "file_extension": ".py",
   "mimetype": "text/x-python",
   "name": "python",
   "nbconvert_exporter": "python",
   "pygments_lexer": "ipython3",
   "version": "3.7.4"
  }
 },
 "nbformat": 4,
 "nbformat_minor": 2
}