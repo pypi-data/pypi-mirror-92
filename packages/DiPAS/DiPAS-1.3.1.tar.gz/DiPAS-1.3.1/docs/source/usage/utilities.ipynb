{
 "cells": [
  {
   "cell_type": "markdown",
   "metadata": {
    "pycharm": {
     "name": "#%% md\n"
    }
   },
   "source": [
    "# MADX utilities\n",
    "\n",
    "Several utilities for interfacing with the MADX program exist in the module `madx.utils`. The following functions can\n",
    "be used to run MADX scripts:\n",
    "\n",
    "* `run_file` - Runs a bunch of dependent MADX script files together with possibilities for further configuration (see the API docs for more details).\n",
    "* `run_script` - Runs a single script with the possibility for further configuration (see the API docs for more details).\n",
    "* `run_orm` - Compute the orbit response matrix for a given MADX sequence definition.\n",
    "\n",
    "The resulting files are returned as pandas data frames by default but the functions can be configured to return the raw file contents\n",
    "instead. The stdout and stderr is returned as well.\n",
    "\n",
    "These functions can also be imported from the `dipas.madx` subpackage directly.\n",
    "\n",
    "## Running MADX scripts\n",
    "\n",
    "For example we can run `TWISS` computations on one of the example scripts:"
   ]
  },
  {
   "cell_type": "code",
   "execution_count": 1,
   "metadata": {
    "pycharm": {
     "name": "#%%\n"
    }
   },
   "outputs": [
    {
     "name": "stdout",
     "output_type": "stream",
     "text": [
      "['stdout', 'stderr']\n",
      "\n"
     ]
    }
   ],
   "source": [
    "from importlib import resources\n",
    "import os.path\n",
    "from dipas.madx import run_file, run_script, run_orm\n",
    "import dipas.test.sequences\n",
    "\n",
    "with resources.path(dipas.test.sequences, 'cryring.seq') as path:\n",
    "    result = run_file(path, madx=os.path.expanduser('~/bin/madx'))\n",
    "\n",
    "print(list(result))\n",
    "print(result['stderr'])"
   ]
  },
  {
   "cell_type": "markdown",
   "metadata": {},
   "source": [
    "`result['stdout']` contains the whole echo from the script, which is pretty long, so we won't print it here.\n",
    "The empty list which was passed to `run_file` is a list of resulting files that should be retrieved, but since that example\n",
    "script just contained the sequence definition, no files were created anyway. Let's change that and also remove the echo:"
   ]
  },
  {
   "cell_type": "code",
   "execution_count": 2,
   "metadata": {
    "pycharm": {
     "name": "#%%\n"
    }
   },
   "outputs": [],
   "source": [
    "script = resources.read_text(dipas.test.sequences, 'cryring.seq')\n",
    "script = 'option, -echo;\\n' + script\n",
    "script += 'twiss, save, file = \"twiss\";'\n",
    "result = run_script(script, ['twiss'], madx=os.path.expanduser('~/bin/madx'))"
   ]
  },
  {
   "cell_type": "markdown",
   "metadata": {},
   "source": [
    "Here we added a `TWISS` command to the script, which generates the file \"twiss\" which we then specified as a result in\n",
    "the call to `run_script`. Let's check the `result` now:"
   ]
  },
  {
   "cell_type": "code",
   "execution_count": 3,
   "metadata": {
    "pycharm": {
     "name": "#%%\n"
    }
   },
   "outputs": [
    {
     "name": "stdout",
     "output_type": "stream",
     "text": [
      "['stdout', 'stderr', 'twiss']\n",
      "<class 'pandas.core.frame.DataFrame'>\n",
      "Index(['NAME', 'KEYWORD', 'S', 'BETX', 'ALFX', 'MUX', 'BETY', 'ALFY', 'MUY',\n",
      "       'X',\n",
      "       ...\n",
      "       'SIG54', 'SIG55', 'SIG56', 'SIG61', 'SIG62', 'SIG63', 'SIG64', 'SIG65',\n",
      "       'SIG66', 'N1'],\n",
      "      dtype='object', length=256)\n"
     ]
    }
   ],
   "source": [
    "print(list(result))\n",
    "print(type(result['twiss']))\n",
    "print(result['twiss'].columns)"
   ]
  },
  {
   "cell_type": "markdown",
   "metadata": {},
   "source": [
    "The `result['twiss']` is a pandas data frame, containing exactly the information from the generates \"twiss\" file.\n",
    "\n",
    "Instead of adding the `twiss` command manually we can also specify the keyword argument `twiss=True` for `run_script` which will take care of the necessary actions (+ add `'twiss'` as a requested result)."
   ]
  },
  {
   "cell_type": "code",
   "execution_count": 4,
   "metadata": {},
   "outputs": [
    {
     "name": "stdout",
     "output_type": "stream",
     "text": [
      "['stdout', 'stderr', 'twiss']\n",
      "<class 'tuple'>\n"
     ]
    }
   ],
   "source": [
    "with resources.path(dipas.test.sequences, 'cryring.seq') as path:\n",
    "    result = run_file(path, twiss=True, madx=os.path.expanduser('~/bin/madx'))\n",
    "\n",
    "print(list(result))\n",
    "print(type(result['twiss']))"
   ]
  },
  {
   "cell_type": "markdown",
   "metadata": {},
   "source": [
    "Alternatively we could also provide a `dict` for the `twiss` keyword argument in order to specify the various arguments for the `twiss` command."
   ]
  },
  {
   "cell_type": "markdown",
   "metadata": {},
   "source": [
    "## Retrieving meta data from output files\n",
    "\n",
    "If we wanted the meta information, at the beginning of the \"twiss\" file and prefixed by \"@\", as well we can specify the\n",
    "resulting files that we want to retrieve as a dict instead: keys are file names and values are bools, indicating whether\n",
    "we want the meta information for that particular file or not:"
   ]
  },
  {
   "cell_type": "code",
   "execution_count": 5,
   "metadata": {
    "pycharm": {
     "name": "#%%\n"
    }
   },
   "outputs": [
    {
     "name": "stdout",
     "output_type": "stream",
     "text": [
      "<class 'tuple'>\n",
      "<class 'pandas.core.frame.DataFrame'>\n",
      "<class 'dict'>\n"
     ]
    }
   ],
   "source": [
    "result = run_script(script, {'twiss': True}, madx=os.path.expanduser('~/bin/madx'))\n",
    "print(type(result['twiss']))\n",
    "print(type(result['twiss'][0]))\n",
    "print(type(result['twiss'][1]))"
   ]
  },
  {
   "cell_type": "markdown",
   "metadata": {},
   "source": [
    "There also exists a shorthand syntax for requesting meta data, namely specifying `'<filename>+meta'` in the results list:"
   ]
  },
  {
   "cell_type": "code",
   "execution_count": 6,
   "metadata": {},
   "outputs": [
    {
     "name": "stdout",
     "output_type": "stream",
     "text": [
      "<class 'tuple'>\n"
     ]
    }
   ],
   "source": [
    "result = run_script(script, ['twiss+meta'], madx=os.path.expanduser('~/bin/madx'))\n",
    "print(type(result['twiss']))"
   ]
  },
  {
   "cell_type": "code",
   "execution_count": 7,
   "metadata": {
    "pycharm": {
     "name": "#%%\n"
    }
   },
   "outputs": [
    {
     "name": "stdout",
     "output_type": "stream",
     "text": [
      "{'ALFA': 0.1884508489,\n",
      " 'BCURRENT': 0.0,\n",
      " 'BETXMAX': 7.14827132,\n",
      " 'BETYMAX': 7.958073519,\n",
      " 'BV_FLAG': 1.0,\n",
      " 'CHARGE': 1.0,\n",
      " 'DATE': '15/04/20',\n",
      " 'DELTAP': 0.0,\n",
      " 'DQ1': -4.394427712,\n",
      " 'DQ2': -10.92147539,\n",
      " 'DXMAX': 5.852905623,\n",
      " 'DXRMS': 4.993097628,\n",
      " 'DYMAX': 0.0,\n",
      " 'DYRMS': 0.0,\n",
      " 'ENERGY': 1.0,\n",
      " 'ET': 0.001,\n",
      " 'EX': 1.0,\n",
      " 'EY': 1.0,\n",
      " 'GAMMA': 1.065788933,\n",
      " 'GAMMATR': 2.303567544,\n",
      " 'KBUNCH': 1.0,\n",
      " 'LENGTH': 54.17782237,\n",
      " 'MASS': 0.9382720813,\n",
      " 'NAME': 'TWISS',\n",
      " 'NPART': 0.0,\n",
      " 'ORBIT5': -0.0,\n",
      " 'ORIGIN': '5.05.02 Linux 64',\n",
      " 'PARTICLE': 'PROTON',\n",
      " 'PC': 0.3458981085,\n",
      " 'Q1': 2.42,\n",
      " 'Q2': 2.419999999,\n",
      " 'SEQUENCE': 'CRYRING',\n",
      " 'SIGE': 0.001,\n",
      " 'SIGT': 1.0,\n",
      " 'SYNCH_1': 0.0,\n",
      " 'SYNCH_2': 0.0,\n",
      " 'SYNCH_3': 0.0,\n",
      " 'SYNCH_4': 0.0,\n",
      " 'SYNCH_5': 0.0,\n",
      " 'TIME': '23.15.29',\n",
      " 'TITLE': 'no-title',\n",
      " 'TYPE': 'TWISS',\n",
      " 'XCOMAX': 0.0,\n",
      " 'XCORMS': 0.0,\n",
      " 'YCOMAX': 0.0,\n",
      " 'YCORMS': 0.0}\n"
     ]
    }
   ],
   "source": [
    "from pprint import pprint\n",
    "\n",
    "pprint(result['twiss'][1])"
   ]
  },
  {
   "cell_type": "markdown",
   "metadata": {},
   "source": [
    "If meta information is requested, the result is a tuple containing the actual file content as a data frame and the meta data as a dict.\n",
    "\n",
    "Requested output files will be converted according to their suffix (if present) or if they have a special file name. File names ending in `\"one\"` are assumed to have emerged from `TRACKONE` and are parsed accordingly. File names ending in `.madx` or `.seq` are assumed to be MADX files and parsed versions are returned (see `madx.parser.parse_file`). Otherwise it is attempted to convert the file from TFS format to a `pandas.DataFrame`. If this fails, then the raw file content is returned as a string. We can also request explicitly that a file should be treated according to a given format via `<filename>;tfs`. Here the file format is specified after a semicolon. The following formats are available:\n",
    "\n",
    "* `madx`: Will be parsed according to `madx.parser.parse_file`.\n",
    "* `raw`: Returns the raw file content as a string.\n",
    "* `tfs`: Converts from TFS format to `pandas.DataFrame`.\n",
    "* `trackone`: Converts from special TRACKONE-TFS format to `pandas.DataFrame`.\n",
    "\n",
    "For more details see `madx.utils.convert`."
   ]
  },
  {
   "cell_type": "code",
   "execution_count": 8,
   "metadata": {},
   "outputs": [
    {
     "name": "stdout",
     "output_type": "stream",
     "text": [
      "<class 'str'>\n",
      "\n",
      "['@ NAME             %05s \"TWISS\"',\n",
      " '@ TYPE             %05s \"TWISS\"',\n",
      " '@ SEQUENCE         %07s \"CRYRING\"',\n",
      " '@ PARTICLE         %06s \"PROTON\"',\n",
      " '@ MASS             %le        0.9382720813']\n"
     ]
    }
   ],
   "source": [
    "result = run_script(script, ['twiss;raw'], madx=os.path.expanduser('~/bin/madx'))\n",
    "print(type(result['twiss']), end='\\n\\n')\n",
    "pprint(result['twiss'].splitlines()[:5])"
   ]
  },
  {
   "cell_type": "markdown",
   "metadata": {},
   "source": [
    "## Configure scripts before running\n",
    "\n",
    "Now let's inspect the resulting data frame, for example the orbit:"
   ]
  },
  {
   "cell_type": "code",
   "execution_count": 9,
   "metadata": {
    "pycharm": {
     "name": "#%%\n"
    }
   },
   "outputs": [
    {
     "name": "stdout",
     "output_type": "stream",
     "text": [
      "           X      Y\n",
      "count  184.0  184.0\n",
      "mean     0.0    0.0\n",
      "std      0.0    0.0\n",
      "min      0.0    0.0\n",
      "25%      0.0    0.0\n",
      "50%      0.0    0.0\n",
      "75%      0.0    0.0\n",
      "max      0.0    0.0\n"
     ]
    }
   ],
   "source": [
    "result = run_script(script, ['twiss'], madx=os.path.expanduser('~/bin/madx'))\n",
    "twiss = result['twiss']\n",
    "print(twiss[['X', 'Y']].describe())"
   ]
  },
  {
   "cell_type": "markdown",
   "metadata": {},
   "source": [
    "Since the lattice does not contain any zeroth order kicks the orbit is just zero. We can change that by modifying\n",
    "(configuring) the script while we run it. For that purpose we can use the `variables` parameter. This parameter\n",
    "allows for replacing in variable definition of the form `name :?= value;` the `value` with a `new_value`."
   ]
  },
  {
   "cell_type": "code",
   "execution_count": 10,
   "metadata": {
    "pycharm": {
     "name": "#%%\n"
    }
   },
   "outputs": [
    {
     "name": "stdout",
     "output_type": "stream",
     "text": [
      "                X      Y\n",
      "count  184.000000  184.0\n",
      "mean     0.002166    0.0\n",
      "std      0.009515    0.0\n",
      "min     -0.016486    0.0\n",
      "25%     -0.008191    0.0\n",
      "50%      0.005374    0.0\n",
      "75%      0.008827    0.0\n",
      "max      0.016840    0.0\n"
     ]
    }
   ],
   "source": [
    "result = run_script(script, ['twiss'], variables={'k02kh': 0.005}, madx=os.path.expanduser('~/bin/madx'))\n",
    "print(result['twiss'][['X', 'Y']].describe())"
   ]
  },
  {
   "cell_type": "markdown",
   "metadata": {},
   "source": [
    "Since we configured one of the horizontal kickers to have a non-zero kick strength the horizontal orbit changed but\n",
    "the vertical orbit remained zero (no coupling in the lattice)."
   ]
  },
  {
   "cell_type": "markdown",
   "metadata": {},
   "source": [
    "## Compute the Orbit Response Matrix\n",
    "\n",
    "Using the `madx.utils.run_orm` function we can compute the orbit response matrix for the given lattice, by specifying\n",
    "a list of kicker and monitor labels. The ORM will be computed using these kickers and measured at these monitors:"
   ]
  },
  {
   "cell_type": "code",
   "execution_count": 11,
   "metadata": {
    "pycharm": {
     "name": "#%%\n"
    }
   },
   "outputs": [
    {
     "name": "stdout",
     "output_type": "stream",
     "text": [
      "               X                           Y                \n",
      "         yr02dx1   yr03dx1   yr03dx4 yr02dx1 yr03dx1 yr03dx4\n",
      "yr04kh  1.092090  1.808234  1.640022     0.0     0.0     0.0\n",
      "yr06kh -2.951312 -1.395442 -0.751784     0.0     0.0     0.0\n",
      "yr08kh  3.234832  0.589074 -0.167347     0.0     0.0     0.0\n",
      "yr10kh -2.705921  0.474549  1.159677     0.0     0.0     0.0\n",
      "\n",
      "         yr02dx1   yr03dx1   yr03dx4\n",
      "yr04kh  1.092090  1.808234  1.640022\n",
      "yr06kh -2.951312 -1.395442 -0.751784\n",
      "yr08kh  3.234832  0.589074 -0.167347\n",
      "yr10kh -2.705921  0.474549  1.159677\n",
      "\n"
     ]
    }
   ],
   "source": [
    "kickers = ['yr04kh', 'yr06kh', 'yr08kh', 'yr10kh']\n",
    "monitors = ['yr02dx1', 'yr03dx1', 'yr03dx4']\n",
    "orm = run_orm(script, kickers=kickers, monitors=monitors, madx=os.path.expanduser('~/bin/madx'))\n",
    "print(orm, end='\\n\\n')\n",
    "print(orm['X'], end='\\n\\n')"
   ]
  },
  {
   "cell_type": "markdown",
   "metadata": {},
   "source": [
    "Since we chose only horizontal kickers, the vertical ORM is zero (no coupling)."
   ]
  }
 ],
 "metadata": {
  "kernelspec": {
   "display_name": "Python 3",
   "language": "python",
   "name": "python3"
  },
  "language_info": {
   "codemirror_mode": {
    "name": "ipython",
    "version": 3
   },
   "file_extension": ".py",
   "mimetype": "text/x-python",
   "name": "python",
   "nbconvert_exporter": "python",
   "pygments_lexer": "ipython3",
   "version": "3.7.4"
  },
  "pycharm": {
   "stem_cell": {
    "cell_type": "raw",
    "metadata": {
     "collapsed": false
    },
    "source": []
   }
  }
 },
 "nbformat": 4,
 "nbformat_minor": 2
}
