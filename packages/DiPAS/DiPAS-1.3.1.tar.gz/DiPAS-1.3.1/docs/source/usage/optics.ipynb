{
 "cells": [
  {
   "cell_type": "markdown",
   "metadata": {
    "pycharm": {
     "name": "#%% md\n"
    }
   },
   "source": [
    "# Optics calculations\n",
    "\n",
    "Optics calculations can be performed via the `compute` module.\n",
    "\n",
    "## Closed orbit search\n",
    "\n",
    "Using `compute.closed_orbit` we can perform closed orbit search for a given lattice:"
   ]
  },
  {
   "cell_type": "code",
   "execution_count": 1,
   "metadata": {
    "pycharm": {
     "name": "#%%\n"
    }
   },
   "outputs": [
    {
     "name": "stdout",
     "output_type": "stream",
     "text": [
      "tensor([[0.],\n",
      "        [0.],\n",
      "        [0.],\n",
      "        [0.],\n",
      "        [0.],\n",
      "        [0.]])\n"
     ]
    }
   ],
   "source": [
    "from importlib import resources\n",
    "from dipas.build import from_file\n",
    "from dipas.compute import closed_orbit, linear_closed_orbit\n",
    "from dipas.elements import Kicker, HKicker, VKicker\n",
    "import dipas.test.sequences\n",
    "\n",
    "with resources.path(dipas.test.sequences, 'cryring.seq') as path:\n",
    "    lattice = from_file(path)\n",
    "\n",
    "thin = lattice.makethin({Kicker: 1})\n",
    "print(closed_orbit(thin))"
   ]
  },
  {
   "cell_type": "markdown",
   "metadata": {
    "pycharm": {
     "name": "#%% md\n"
    }
   },
   "source": [
    "As can be seen from the above example we first need to convert all elements that don't support thick tracking (the kicker\n",
    "magnets) to thin elements because the closed orbit search is performed by tracking the closed orbit through the lattice. Since all kickers\n",
    "are turned off (`kick == 0`) the closed orbit is just zero. Let's add some kicks:"
   ]
  },
  {
   "cell_type": "code",
   "execution_count": 2,
   "metadata": {
    "pycharm": {
     "name": "#%%\n"
    }
   },
   "outputs": [
    {
     "name": "stdout",
     "output_type": "stream",
     "text": [
      "tensor([0.0012, 0.0005, 0.0055, 0.0002, 0.0000, 0.0000])\n",
      "tensor([0.0012, 0.0005, 0.0055, 0.0002, 0.0000, 0.0000])\n"
     ]
    }
   ],
   "source": [
    "import random\n",
    "random.seed(1)\n",
    "\n",
    "for kicker in lattice[HKicker] + lattice[VKicker]:\n",
    "    kicker.kick = random.uniform(-0.001, 0.001)\n",
    "\n",
    "thin_with_kicks = lattice.makethin({Kicker: 1})  # Use 'makethin' again to make the added kicks effective.\n",
    "print(closed_orbit(thin_with_kicks, order=1).flatten())\n",
    "print(linear_closed_orbit(thin_with_kicks).flatten())"
   ]
  },
  {
   "cell_type": "markdown",
   "metadata": {
    "pycharm": {
     "name": "#%% md\n"
    }
   },
   "source": [
    "One important thing to note is that we need to assign the kicks to the original lattice, since the `thin` version doesn't\n",
    "contain the original kickers anymore. Then for the new kicker values we need to `makethin` the `lattice` again before\n",
    "performing the closed orbit search. This seems somewhat repetitive but it is important in order to maintain the relation between\n",
    "thick and thin elements. Especially if optimization parameters are involved, it is important to always `makethin` the original\n",
    "lattice (which stores the optimization parameters) in order to always get the up-to-date values of the optimization parameters.\n",
    "`linear_closed_orbit` computes the closed orbit directly from first order transfer maps (using a slightly different algorithm)."
   ]
  },
  {
   "cell_type": "markdown",
   "metadata": {},
   "source": [
    "## Twiss computation\n",
    "\n",
    "We can use `compute.twiss` in order to compute lattice functions as well as phase advance and tunes:"
   ]
  },
  {
   "cell_type": "code",
   "execution_count": 3,
   "metadata": {},
   "outputs": [
    {
     "name": "stdout",
     "output_type": "stream",
     "text": [
      "['lattice', 'coupling_matrix', 'Q1', 'Q2', 'one_turn_matrix']\n",
      "\n",
      "Q1: tensor(2.4200) , Q2: tensor(2.4200)\n",
      "\n",
      "Coupling Matrix:\n",
      "tensor([[0., 0.],\n",
      "        [0., 0.]])\n",
      "\n",
      "One-Turn Matrix:\n",
      "tensor([[-8.7631e-01,  9.2467e-01,  0.0000e+00,  0.0000e+00,  1.6421e-17,\n",
      "         -8.3255e+00],\n",
      "        [-2.5099e-01, -8.7631e-01,  0.0000e+00,  0.0000e+00, -2.9032e-17,\n",
      "         -1.1137e+00],\n",
      "        [ 0.0000e+00,  0.0000e+00, -8.7631e-01,  1.0994e+00,  0.0000e+00,\n",
      "          0.0000e+00],\n",
      "        [ 0.0000e+00,  0.0000e+00, -2.1111e-01, -8.7631e-01,  0.0000e+00,\n",
      "          0.0000e+00],\n",
      "        [ 1.1137e+00,  8.3255e+00,  0.0000e+00,  0.0000e+00,  1.0000e+00,\n",
      "          3.1825e+02],\n",
      "        [ 5.8220e-18, -1.3981e-17,  0.0000e+00,  0.0000e+00,  7.7534e-35,\n",
      "          1.0000e+00]])\n",
      "\n",
      "Lattice:\n",
      "Index(['x', 'px', 'y', 'py', 'bx', 'ax', 'mx', 'by', 'ay', 'my', 'dx', 'dpx',\n",
      "       'dy', 'dpy'],\n",
      "      dtype='object')\n"
     ]
    }
   ],
   "source": [
    "import dipas.compute as compute\n",
    "\n",
    "twiss = compute.twiss(thin)  # Returns a dict.\n",
    "print(list(twiss), end='\\n\\n')\n",
    "print('Q1:', twiss['Q1'], ', Q2:', twiss['Q2'], end='\\n\\n')\n",
    "print('Coupling Matrix:', twiss['coupling_matrix'], sep='\\n', end='\\n\\n')\n",
    "print('One-Turn Matrix:', twiss['one_turn_matrix'], sep='\\n', end='\\n\\n')\n",
    "print('Lattice:', twiss['lattice'].columns, sep='\\n')"
   ]
  },
  {
   "cell_type": "markdown",
   "metadata": {},
   "source": [
    "Here `twiss['lattice']` is a `pandas.DataFrame` with element labels as index and lattice functions as columns."
   ]
  },
  {
   "cell_type": "markdown",
   "metadata": {
    "pycharm": {
     "name": "#%% md\n"
    }
   },
   "source": [
    "## Transfer maps\n",
    "\n",
    "By using `compute.transfer_maps` we can compute the transfer maps along the lattice. The parameter `method` let's us specify\n",
    "how the transfer maps are computed. The following options are available:\n",
    "\n",
    "* `method='local'`: Compute the local maps of elements, including closed orbit contribution.\n",
    "* `method='accumulate'`: Compute the cumulative transfer maps w.r.t. to the start of the lattice.\n",
    "* `method='reduce'`: Compute the combined transfer map for the whole segment."
   ]
  },
  {
   "cell_type": "code",
   "execution_count": 4,
   "metadata": {
    "pycharm": {
     "name": "#%%\n"
    }
   },
   "outputs": [
    {
     "name": "stdout",
     "output_type": "stream",
     "text": [
      "tensor([[0.],\n",
      "        [0.],\n",
      "        [0.],\n",
      "        [0.],\n",
      "        [0.],\n",
      "        [0.]])\n",
      "tensor([[1.0000, 0.8328, 0.0000, 0.0000, 0.0000, 0.0000],\n",
      "        [0.0000, 1.0000, 0.0000, 0.0000, 0.0000, 0.0000],\n",
      "        [0.0000, 0.0000, 1.0000, 0.8328, 0.0000, 0.0000],\n",
      "        [0.0000, 0.0000, 0.0000, 1.0000, 0.0000, 0.0000],\n",
      "        [0.0000, 0.0000, 0.0000, 0.0000, 1.0000, 6.1278],\n",
      "        [0.0000, 0.0000, 0.0000, 0.0000, 0.0000, 1.0000]])\n",
      "tensor([[[  0.0000,   0.0000,   0.0000,   0.0000,   0.0000,   0.0000],\n",
      "         [  0.0000,   0.0000,   0.0000,   0.0000,   0.0000,  -1.2038],\n",
      "         [  0.0000,   0.0000,   0.0000,   0.0000,   0.0000,   0.0000],\n",
      "         [  0.0000,   0.0000,   0.0000,   0.0000,   0.0000,   0.0000],\n",
      "         [  0.0000,   0.0000,   0.0000,   0.0000,   0.0000,   0.0000],\n",
      "         [  0.0000,  -1.2038,   0.0000,   0.0000,   0.0000,   0.0000]],\n",
      "\n",
      "        [[  0.0000,   0.0000,   0.0000,   0.0000,   0.0000,   0.0000],\n",
      "         [  0.0000,   0.0000,   0.0000,   0.0000,   0.0000,   0.0000],\n",
      "         [  0.0000,   0.0000,   0.0000,   0.0000,   0.0000,   0.0000],\n",
      "         [  0.0000,   0.0000,   0.0000,   0.0000,   0.0000,   0.0000],\n",
      "         [  0.0000,   0.0000,   0.0000,   0.0000,   0.0000,   0.0000],\n",
      "         [  0.0000,   0.0000,   0.0000,   0.0000,   0.0000,   0.0000]],\n",
      "\n",
      "        [[  0.0000,   0.0000,   0.0000,   0.0000,   0.0000,   0.0000],\n",
      "         [  0.0000,   0.0000,   0.0000,   0.0000,   0.0000,   0.0000],\n",
      "         [  0.0000,   0.0000,   0.0000,   0.0000,   0.0000,   0.0000],\n",
      "         [  0.0000,   0.0000,   0.0000,   0.0000,   0.0000,  -1.2038],\n",
      "         [  0.0000,   0.0000,   0.0000,   0.0000,   0.0000,   0.0000],\n",
      "         [  0.0000,   0.0000,   0.0000,  -1.2038,   0.0000,   0.0000]],\n",
      "\n",
      "        [[  0.0000,   0.0000,   0.0000,   0.0000,   0.0000,   0.0000],\n",
      "         [  0.0000,   0.0000,   0.0000,   0.0000,   0.0000,   0.0000],\n",
      "         [  0.0000,   0.0000,   0.0000,   0.0000,   0.0000,   0.0000],\n",
      "         [  0.0000,   0.0000,   0.0000,   0.0000,   0.0000,   0.0000],\n",
      "         [  0.0000,   0.0000,   0.0000,   0.0000,   0.0000,   0.0000],\n",
      "         [  0.0000,   0.0000,   0.0000,   0.0000,   0.0000,   0.0000]],\n",
      "\n",
      "        [[  0.0000,   0.0000,   0.0000,   0.0000,   0.0000,   0.0000],\n",
      "         [  0.0000,  -1.2038,   0.0000,   0.0000,   0.0000,   0.0000],\n",
      "         [  0.0000,   0.0000,   0.0000,   0.0000,   0.0000,   0.0000],\n",
      "         [  0.0000,   0.0000,   0.0000,  -1.2038,   0.0000,   0.0000],\n",
      "         [  0.0000,   0.0000,   0.0000,   0.0000,   0.0000,   0.0000],\n",
      "         [  0.0000,   0.0000,   0.0000,   0.0000,   0.0000, -26.5733]],\n",
      "\n",
      "        [[  0.0000,   0.0000,   0.0000,   0.0000,   0.0000,   0.0000],\n",
      "         [  0.0000,   0.0000,   0.0000,   0.0000,   0.0000,   0.0000],\n",
      "         [  0.0000,   0.0000,   0.0000,   0.0000,   0.0000,   0.0000],\n",
      "         [  0.0000,   0.0000,   0.0000,   0.0000,   0.0000,   0.0000],\n",
      "         [  0.0000,   0.0000,   0.0000,   0.0000,   0.0000,   0.0000],\n",
      "         [  0.0000,   0.0000,   0.0000,   0.0000,   0.0000,   0.0000]]])\n"
     ]
    }
   ],
   "source": [
    "from dipas.compute import transfer_maps\n",
    "\n",
    "maps = dict(transfer_maps(thin, method='accumulate', labels=True))\n",
    "print(*maps[lattice[HKicker, 0].label], sep='\\n')"
   ]
  },
  {
   "cell_type": "markdown",
   "metadata": {
    "pycharm": {
     "name": "#%% md\n"
    }
   },
   "source": [
    "Since the kicker represents the full element as a sequence of drift spaces and thin slices, its first order map (i.e. the transfer matrix) is not the identity matrix.\n",
    "\n",
    "If we want the element local maps instead we can use `method='local'` (here `0.3755` is the length of the kicker):"
   ]
  },
  {
   "cell_type": "code",
   "execution_count": 5,
   "metadata": {
    "pycharm": {
     "name": "#%%\n"
    }
   },
   "outputs": [
    {
     "name": "stdout",
     "output_type": "stream",
     "text": [
      "Length of Kicker: tensor(0.3755)\n",
      "Transfer Map:\n",
      "tensor([[0.],\n",
      "        [0.],\n",
      "        [0.],\n",
      "        [0.],\n",
      "        [0.],\n",
      "        [0.]])\n",
      "tensor([[1.0000, 0.3755, 0.0000, 0.0000, 0.0000, 0.0000],\n",
      "        [0.0000, 1.0000, 0.0000, 0.0000, 0.0000, 0.0000],\n",
      "        [0.0000, 0.0000, 1.0000, 0.3755, 0.0000, 0.0000],\n",
      "        [0.0000, 0.0000, 0.0000, 1.0000, 0.0000, 0.0000],\n",
      "        [0.0000, 0.0000, 0.0000, 0.0000, 1.0000, 2.7629],\n",
      "        [0.0000, 0.0000, 0.0000, 0.0000, 0.0000, 1.0000]])\n",
      "tensor([[[  0.0000,   0.0000,   0.0000,   0.0000,   0.0000,   0.0000],\n",
      "         [  0.0000,   0.0000,   0.0000,   0.0000,   0.0000,  -0.5428],\n",
      "         [  0.0000,   0.0000,   0.0000,   0.0000,   0.0000,   0.0000],\n",
      "         [  0.0000,   0.0000,   0.0000,   0.0000,   0.0000,   0.0000],\n",
      "         [  0.0000,   0.0000,   0.0000,   0.0000,   0.0000,   0.0000],\n",
      "         [  0.0000,  -0.5428,   0.0000,   0.0000,   0.0000,   0.0000]],\n",
      "\n",
      "        [[  0.0000,   0.0000,   0.0000,   0.0000,   0.0000,   0.0000],\n",
      "         [  0.0000,   0.0000,   0.0000,   0.0000,   0.0000,   0.0000],\n",
      "         [  0.0000,   0.0000,   0.0000,   0.0000,   0.0000,   0.0000],\n",
      "         [  0.0000,   0.0000,   0.0000,   0.0000,   0.0000,   0.0000],\n",
      "         [  0.0000,   0.0000,   0.0000,   0.0000,   0.0000,   0.0000],\n",
      "         [  0.0000,   0.0000,   0.0000,   0.0000,   0.0000,   0.0000]],\n",
      "\n",
      "        [[  0.0000,   0.0000,   0.0000,   0.0000,   0.0000,   0.0000],\n",
      "         [  0.0000,   0.0000,   0.0000,   0.0000,   0.0000,   0.0000],\n",
      "         [  0.0000,   0.0000,   0.0000,   0.0000,   0.0000,   0.0000],\n",
      "         [  0.0000,   0.0000,   0.0000,   0.0000,   0.0000,  -0.5428],\n",
      "         [  0.0000,   0.0000,   0.0000,   0.0000,   0.0000,   0.0000],\n",
      "         [  0.0000,   0.0000,   0.0000,  -0.5428,   0.0000,   0.0000]],\n",
      "\n",
      "        [[  0.0000,   0.0000,   0.0000,   0.0000,   0.0000,   0.0000],\n",
      "         [  0.0000,   0.0000,   0.0000,   0.0000,   0.0000,   0.0000],\n",
      "         [  0.0000,   0.0000,   0.0000,   0.0000,   0.0000,   0.0000],\n",
      "         [  0.0000,   0.0000,   0.0000,   0.0000,   0.0000,   0.0000],\n",
      "         [  0.0000,   0.0000,   0.0000,   0.0000,   0.0000,   0.0000],\n",
      "         [  0.0000,   0.0000,   0.0000,   0.0000,   0.0000,   0.0000]],\n",
      "\n",
      "        [[  0.0000,   0.0000,   0.0000,   0.0000,   0.0000,   0.0000],\n",
      "         [  0.0000,  -0.5428,   0.0000,   0.0000,   0.0000,   0.0000],\n",
      "         [  0.0000,   0.0000,   0.0000,   0.0000,   0.0000,   0.0000],\n",
      "         [  0.0000,   0.0000,   0.0000,  -0.5428,   0.0000,   0.0000],\n",
      "         [  0.0000,   0.0000,   0.0000,   0.0000,   0.0000,   0.0000],\n",
      "         [  0.0000,   0.0000,   0.0000,   0.0000,   0.0000, -11.9816]],\n",
      "\n",
      "        [[  0.0000,   0.0000,   0.0000,   0.0000,   0.0000,   0.0000],\n",
      "         [  0.0000,   0.0000,   0.0000,   0.0000,   0.0000,   0.0000],\n",
      "         [  0.0000,   0.0000,   0.0000,   0.0000,   0.0000,   0.0000],\n",
      "         [  0.0000,   0.0000,   0.0000,   0.0000,   0.0000,   0.0000],\n",
      "         [  0.0000,   0.0000,   0.0000,   0.0000,   0.0000,   0.0000],\n",
      "         [  0.0000,   0.0000,   0.0000,   0.0000,   0.0000,   0.0000]]])\n"
     ]
    }
   ],
   "source": [
    "maps = dict(transfer_maps(thin, method='local', labels=True))\n",
    "print('Length of Kicker:', lattice[HKicker, 0].l)\n",
    "print('Transfer Map:', *maps[lattice[HKicker, 0].label], sep='\\n')"
   ]
  },
  {
   "cell_type": "markdown",
   "metadata": {
    "pycharm": {
     "name": "#%% md\n"
    }
   },
   "source": [
    "## Orbit Response Matrix\n",
    "\n",
    "Using `compute.orm` we can compute the orbit response matrix for a given lattice. We need to specify the kickers and\n",
    "monitors to be used, which can be done in a similar way as for selecting lattice elements in general: either we can\n",
    "specify an identifier that selects multiple elements directly, such as a lattice element type or a regex, or we can\n",
    "specify a list of single element identifiers, such as unambiguous labels for example. Let's compute the horizontal\n",
    "ORM for one of the example lattices:"
   ]
  },
  {
   "cell_type": "code",
   "execution_count": 6,
   "metadata": {
    "pycharm": {
     "name": "#%%\n"
    }
   },
   "outputs": [],
   "source": [
    "from importlib import resources\n",
    "from dipas.build import from_file\n",
    "from dipas.compute import orm\n",
    "from dipas.elements import HKicker, HMonitor\n",
    "import dipas.test.sequences\n",
    "\n",
    "with resources.path(dipas.test.sequences, 'cryring.seq') as path:\n",
    "    lattice = from_file(path)\n",
    "\n",
    "orm_x, orm_y = orm(lattice, kickers=HKicker, monitors=HMonitor)"
   ]
  },
  {
   "cell_type": "markdown",
   "metadata": {
    "pycharm": {
     "name": "#%% md\n"
    }
   },
   "source": [
    "Here we don't need to call `makethin` beforehand because this will be done inside the `orm` function. This is necessary\n",
    "because the `orm` function will temporarily vary the kicker strengths and, as explained above, for each change to the\n",
    "original lattice we need to create a new thin version (i.e. changes to the original lattice are *not* automatically\n",
    "mapped to any thin versions that have been created before)."
   ]
  },
  {
   "cell_type": "code",
   "execution_count": 7,
   "metadata": {
    "pycharm": {
     "name": "#%%\n"
    }
   },
   "outputs": [
    {
     "name": "stdout",
     "output_type": "stream",
     "text": [
      "ORM.shape:  torch.Size([12, 9])\n",
      "Number of HKickers and HMonitors:  (12, 9)\n",
      "\n",
      "ORM-X\n",
      "\n",
      " tensor([[ 1.6402,  0.8140,  0.4583, -0.3921,  1.1925,  1.4039, -1.9135, -0.4376,\n",
      "          1.7387],\n",
      "        [ 1.5428,  1.0098,  0.6885, -0.8058,  1.3288,  1.7722, -2.1046, -0.6838,\n",
      "          1.6842],\n",
      "        [ 0.8887,  1.7728,  1.6933, -2.7059,  1.7242,  3.2348, -2.6066, -1.7705,\n",
      "          1.0460],\n",
      "        [ 2.0276,  0.9366,  1.2629, -2.4109,  0.4483,  1.8029, -0.5499, -1.3686,\n",
      "         -0.8998],\n",
      "        [ 1.6111,  1.2233,  0.8969, -0.0308, -1.3899, -1.3615,  2.2668,  0.2506,\n",
      "         -2.3613],\n",
      "        [ 1.0921,  1.8082,  1.6400,  1.2010, -2.0740, -2.7341,  3.2892,  1.0372,\n",
      "         -2.6678],\n",
      "        [-2.9513, -1.3954, -0.7518,  1.1115,  1.5688,  0.9301, -2.6391,  0.2900,\n",
      "          3.4040],\n",
      "        [ 3.2348,  0.5891, -0.1673,  1.0460,  1.4899,  0.8887,  1.2091, -1.1510,\n",
      "         -2.7059],\n",
      "        [-2.7059,  0.4745,  1.1597, -2.6066, -0.4258,  1.0460,  0.8887,  1.8197,\n",
      "          1.2091],\n",
      "        [ 1.2091, -1.3684, -1.7372,  3.2348, -0.7906, -2.6066,  1.0460,  1.8726,\n",
      "          0.8887],\n",
      "        [ 2.1282, -0.1676, -0.6953,  1.6820,  0.5093, -0.4424, -0.9556,  0.7970,\n",
      "          2.0117],\n",
      "        [ 2.0422,  0.0053, -0.4921,  1.3166,  0.6296, -0.1171, -1.1243,  0.5795,\n",
      "          1.9636]])\n",
      "\n",
      "ORM-Y\n",
      "\n",
      " tensor([[0., 0., 0., 0., 0., 0., 0., 0., 0.],\n",
      "        [0., 0., 0., 0., 0., 0., 0., 0., 0.],\n",
      "        [0., 0., 0., 0., 0., 0., 0., 0., 0.],\n",
      "        [0., 0., 0., 0., 0., 0., 0., 0., 0.],\n",
      "        [0., 0., 0., 0., 0., 0., 0., 0., 0.],\n",
      "        [0., 0., 0., 0., 0., 0., 0., 0., 0.],\n",
      "        [0., 0., 0., 0., 0., 0., 0., 0., 0.],\n",
      "        [0., 0., 0., 0., 0., 0., 0., 0., 0.],\n",
      "        [0., 0., 0., 0., 0., 0., 0., 0., 0.],\n",
      "        [0., 0., 0., 0., 0., 0., 0., 0., 0.],\n",
      "        [0., 0., 0., 0., 0., 0., 0., 0., 0.],\n",
      "        [0., 0., 0., 0., 0., 0., 0., 0., 0.]])\n"
     ]
    }
   ],
   "source": [
    "print('ORM.shape: ', orm_x.shape)\n",
    "print('Number of HKickers and HMonitors: ', (len(lattice[HKicker]), len(lattice[HMonitor])), end='\\n\\n')\n",
    "print('ORM-X\\n\\n', orm_x, end='\\n\\n')\n",
    "print('ORM-Y\\n\\n', orm_y)"
   ]
  }
 ],
 "metadata": {
  "kernelspec": {
   "display_name": "Python 3",
   "language": "python",
   "name": "python3"
  },
  "language_info": {
   "codemirror_mode": {
    "name": "ipython",
    "version": 3
   },
   "file_extension": ".py",
   "mimetype": "text/x-python",
   "name": "python",
   "nbconvert_exporter": "python",
   "pygments_lexer": "ipython3",
   "version": "3.7.4"
  },
  "pycharm": {
   "stem_cell": {
    "cell_type": "raw",
    "metadata": {
     "collapsed": false
    },
    "source": []
   }
  }
 },
 "nbformat": 4,
 "nbformat_minor": 2
}
