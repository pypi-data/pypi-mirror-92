{
 "cells": [
  {
   "cell_type": "markdown",
   "metadata": {},
   "source": [
    "# Converting thick to thin elements\n",
    "\n",
    "Not all lattice elements support thick tracking and so converting these elements to thin slices is necessary before doing particle tracking or optics calculations. Elements can be converted to their thin representation using the `makethin` method:"
   ]
  },
  {
   "cell_type": "code",
   "execution_count": 1,
   "metadata": {},
   "outputs": [
    {
     "name": "stdout",
     "output_type": "stream",
     "text": [
      "HKicker(l=tensor(1.), hkick=tensor(0.5000), vkick=tensor(0.), kick=tensor(0.5000), label='hk1')\n",
      "HKicker(l=tensor(1.), hkick=tensor(0.5000), vkick=tensor(0.), kick=tensor(0.5000), label='hk1')\n",
      "    > Drift(l=tensor(0.0833), label='hk1__d0')\n",
      "    > HKicker(l=tensor(0.), hkick=tensor(0.1000), vkick=tensor(0.), kick=tensor(0.1000), label='hk1__0')\n",
      "    > Drift(l=tensor(0.2083), label='hk1__d1')\n",
      "    > HKicker(l=tensor(0.), hkick=tensor(0.1000), vkick=tensor(0.), kick=tensor(0.1000), label='hk1__1')\n",
      "    > Drift(l=tensor(0.2083), label='hk1__d2')\n",
      "    > HKicker(l=tensor(0.), hkick=tensor(0.1000), vkick=tensor(0.), kick=tensor(0.1000), label='hk1__2')\n",
      "    > Drift(l=tensor(0.2083), label='hk1__d3')\n",
      "    > HKicker(l=tensor(0.), hkick=tensor(0.1000), vkick=tensor(0.), kick=tensor(0.1000), label='hk1__3')\n",
      "    > Drift(l=tensor(0.2083), label='hk1__d4')\n",
      "    > HKicker(l=tensor(0.), hkick=tensor(0.1000), vkick=tensor(0.), kick=tensor(0.1000), label='hk1__4')\n",
      "    > Drift(l=tensor(0.0833), label='hk1__d5')\n"
     ]
    }
   ],
   "source": [
    "from dipas.build import Lattice\n",
    "\n",
    "with Lattice({'particle': 'proton', 'beta': 0.6}) as lattice:\n",
    "    lattice.HKicker(kick=0.5, l=1.0, label='hk1')\n",
    "    lattice.Quadrupole(k1=0.625, l=5.0, label='q1')\n",
    "\n",
    "kicker, quad = lattice\n",
    "print(kicker)\n",
    "print(kicker.makethin(5))"
   ]
  },
  {
   "cell_type": "markdown",
   "metadata": {},
   "source": [
    "The `makethin` method returns a `elements.ThinElement` object, a special version of a more general `Segment`. This `ThinElement` contains the thin kicker slices as well as the drift space before, between and after the slices. The distribution of drift space depends on the selected slicing style. By default the `TEAPOT` style is used. Other available slicing styles include `SIMPLE` and `EDGE`. For more details consider the documentation of the `elements.ThinElement.create_thin_sequence` method.\n",
    "\n",
    "Let's compare the `SIMPLE` and `EDGE` style for the quadrupole element:"
   ]
  },
  {
   "cell_type": "code",
   "execution_count": 2,
   "metadata": {},
   "outputs": [
    {
     "name": "stdout",
     "output_type": "stream",
     "text": [
      "EDGE\n",
      "\n",
      "Quadrupole(l=tensor(5.), k1=tensor(0.6250), dk1=tensor(0.), label='q1')\n",
      "    > Drift(l=tensor(0.), label='q1__d0')\n",
      "    > ThinQuadrupole(l=tensor(0.), k1l=tensor(0.6250), dk1l=tensor(0.), label='q1__0')\n",
      "    > Drift(l=tensor(1.2500), label='q1__d1')\n",
      "    > ThinQuadrupole(l=tensor(0.), k1l=tensor(0.6250), dk1l=tensor(0.), label='q1__1')\n",
      "    > Drift(l=tensor(1.2500), label='q1__d2')\n",
      "    > ThinQuadrupole(l=tensor(0.), k1l=tensor(0.6250), dk1l=tensor(0.), label='q1__2')\n",
      "    > Drift(l=tensor(1.2500), label='q1__d3')\n",
      "    > ThinQuadrupole(l=tensor(0.), k1l=tensor(0.6250), dk1l=tensor(0.), label='q1__3')\n",
      "    > Drift(l=tensor(1.2500), label='q1__d4')\n",
      "    > ThinQuadrupole(l=tensor(0.), k1l=tensor(0.6250), dk1l=tensor(0.), label='q1__4')\n",
      "    > Drift(l=tensor(0.), label='q1__d5')\n",
      "\n",
      "SIMPLE\n",
      "\n",
      "Quadrupole(l=tensor(5.), k1=tensor(0.6250), dk1=tensor(0.), label='q1')\n",
      "    > Drift(l=tensor(0.5000), label='q1__d0')\n",
      "    > ThinQuadrupole(l=tensor(0.), k1l=tensor(0.6250), dk1l=tensor(0.), label='q1__0')\n",
      "    > Drift(l=tensor(1.), label='q1__d1')\n",
      "    > ThinQuadrupole(l=tensor(0.), k1l=tensor(0.6250), dk1l=tensor(0.), label='q1__1')\n",
      "    > Drift(l=tensor(1.), label='q1__d2')\n",
      "    > ThinQuadrupole(l=tensor(0.), k1l=tensor(0.6250), dk1l=tensor(0.), label='q1__2')\n",
      "    > Drift(l=tensor(1.), label='q1__d3')\n",
      "    > ThinQuadrupole(l=tensor(0.), k1l=tensor(0.6250), dk1l=tensor(0.), label='q1__3')\n",
      "    > Drift(l=tensor(1.), label='q1__d4')\n",
      "    > ThinQuadrupole(l=tensor(0.), k1l=tensor(0.6250), dk1l=tensor(0.), label='q1__4')\n",
      "    > Drift(l=tensor(0.5000), label='q1__d5')\n",
      "\n"
     ]
    }
   ],
   "source": [
    "print('EDGE', end='\\n\\n')\n",
    "print(quad.makethin(5, style='edge'), end='\\n\\n')\n",
    "print('SIMPLE', end='\\n\\n')\n",
    "print(quad.makethin(5, style='simple'), end='\\n\\n')"
   ]
  },
  {
   "cell_type": "markdown",
   "metadata": {},
   "source": [
    "`EDGE` places the outermost slices directly at the edges of the thick element, while `SIMPLE` adds a margin that is half the in-between distance of slices.\n",
    "\n",
    "We can also convert whole lattices represented by `Segment` objects to thin elements. Here we can choose the number of slices as well as the style via a dict which maps element identifiers to the particular values. The identifiers can be strings for comparing element labels, regex patterns for matching element labels or lattice element types, similar to element selection via `lattice[identifier]` (see [inspecting lattices](./inspecting.html))."
   ]
  },
  {
   "cell_type": "code",
   "execution_count": 3,
   "metadata": {},
   "outputs": [
    {
     "name": "stdout",
     "output_type": "stream",
     "text": [
      "Segment(elements=[HKicker(l=tensor(1.), hkick=tensor(0.5000), vkick=tensor(0.), kick=tensor(0.5000), label='hk1')\n",
      "    > Drift(l=tensor(0.), label='hk1__d0')\n",
      "    > HKicker(l=tensor(0.), hkick=tensor(0.2500), vkick=tensor(0.), kick=tensor(0.2500), label='hk1__0')\n",
      "    > Drift(l=tensor(1.), label='hk1__d1')\n",
      "    > HKicker(l=tensor(0.), hkick=tensor(0.2500), vkick=tensor(0.), kick=tensor(0.2500), label='hk1__1')\n",
      "    > Drift(l=tensor(0.), label='hk1__d2'),\n",
      " Quadrupole(l=tensor(5.), k1=tensor(0.6250), dk1=tensor(0.), label='q1')\n",
      "    > Drift(l=tensor(0.5000), label='q1__d0')\n",
      "    > ThinQuadrupole(l=tensor(0.), k1l=tensor(0.6250), dk1l=tensor(0.), label='q1__0')\n",
      "    > Drift(l=tensor(1.), label='q1__d1')\n",
      "    > ThinQuadrupole(l=tensor(0.), k1l=tensor(0.6250), dk1l=tensor(0.), label='q1__1')\n",
      "    > Drift(l=tensor(1.), label='q1__d2')\n",
      "    > ThinQuadrupole(l=tensor(0.), k1l=tensor(0.6250), dk1l=tensor(0.), label='q1__2')\n",
      "    > Drift(l=tensor(1.), label='q1__d3')\n",
      "    > ThinQuadrupole(l=tensor(0.), k1l=tensor(0.6250), dk1l=tensor(0.), label='q1__3')\n",
      "    > Drift(l=tensor(1.), label='q1__d4')\n",
      "    > ThinQuadrupole(l=tensor(0.), k1l=tensor(0.6250), dk1l=tensor(0.), label='q1__4')\n",
      "    > Drift(l=tensor(0.5000), label='q1__d5')])\n"
     ]
    }
   ],
   "source": [
    "from dipas.elements import HKicker, Quadrupole, Segment\n",
    "\n",
    "lattice = Segment(lattice)\n",
    "thin = lattice.makethin({HKicker: 2, 'q1': 5}, style={'hk1': 'edge', Quadrupole: 'simple'})\n",
    "print(thin)"
   ]
  },
  {
   "cell_type": "markdown",
   "metadata": {},
   "source": [
    "The `ThinElement`s represent their thick counterparts which are still accessible via the `.base` attribute. Also the base label is inherited (element access works as explained in [inspecting lattices](./inspecting.html)):"
   ]
  },
  {
   "cell_type": "code",
   "execution_count": 4,
   "metadata": {},
   "outputs": [
    {
     "name": "stdout",
     "output_type": "stream",
     "text": [
      "q1.base:  Quadrupole(l=tensor(5.), k1=tensor(0.6250), dk1=tensor(0.), label='q1')\n",
      "q1.label:  q1\n",
      "Drift(l=tensor(0.5000), label='q1__d0')\n",
      "Drift(l=tensor(1.), label='q1__d1')\n",
      "Drift(l=tensor(1.), label='q1__d2')\n",
      "Drift(l=tensor(1.), label='q1__d3')\n",
      "Drift(l=tensor(1.), label='q1__d4')\n",
      "Drift(l=tensor(0.5000), label='q1__d5')\n"
     ]
    }
   ],
   "source": [
    "print('q1.base: ', thin['q1'].base)\n",
    "print('q1.label: ', thin[1].label)\n",
    "for drift in thin['q1']['q1__d*']:\n",
    "    print(drift)"
   ]
  },
  {
   "cell_type": "markdown",
   "metadata": {},
   "source": [
    "We can also flatten such a nested `Segment`, containing `ThinElement`s, using the `flat` (or `flatten`) method:"
   ]
  },
  {
   "cell_type": "code",
   "execution_count": 5,
   "metadata": {},
   "outputs": [
    {
     "name": "stdout",
     "output_type": "stream",
     "text": [
      "Segment(elements=[Drift(l=tensor(0.), label='hk1__d0'),\n",
      " HKicker(l=tensor(0.), hkick=tensor(0.2500), vkick=tensor(0.), kick=tensor(0.2500), label='hk1__0'),\n",
      " Drift(l=tensor(1.), label='hk1__d1'),\n",
      " HKicker(l=tensor(0.), hkick=tensor(0.2500), vkick=tensor(0.), kick=tensor(0.2500), label='hk1__1'),\n",
      " Drift(l=tensor(0.), label='hk1__d2'),\n",
      " Drift(l=tensor(0.5000), label='q1__d0'),\n",
      " ThinQuadrupole(l=tensor(0.), k1l=tensor(0.6250), dk1l=tensor(0.), label='q1__0'),\n",
      " Drift(l=tensor(1.), label='q1__d1'),\n",
      " ThinQuadrupole(l=tensor(0.), k1l=tensor(0.6250), dk1l=tensor(0.), label='q1__1'),\n",
      " Drift(l=tensor(1.), label='q1__d2'),\n",
      " ThinQuadrupole(l=tensor(0.), k1l=tensor(0.6250), dk1l=tensor(0.), label='q1__2'),\n",
      " Drift(l=tensor(1.), label='q1__d3'),\n",
      " ThinQuadrupole(l=tensor(0.), k1l=tensor(0.6250), dk1l=tensor(0.), label='q1__3'),\n",
      " Drift(l=tensor(1.), label='q1__d4'),\n",
      " ThinQuadrupole(l=tensor(0.), k1l=tensor(0.6250), dk1l=tensor(0.), label='q1__4'),\n",
      " Drift(l=tensor(0.5000), label='q1__d5')])\n"
     ]
    }
   ],
   "source": [
    "print(thin.flat())"
   ]
  },
  {
   "cell_type": "markdown",
   "metadata": {},
   "source": [
    "`flatten()` returns a generator over all the nested elements."
   ]
  }
 ],
 "metadata": {
  "kernelspec": {
   "display_name": "Python 3",
   "language": "python",
   "name": "python3"
  },
  "language_info": {
   "codemirror_mode": {
    "name": "ipython",
    "version": 3
   },
   "file_extension": ".py",
   "mimetype": "text/x-python",
   "name": "python",
   "nbconvert_exporter": "python",
   "pygments_lexer": "ipython3",
   "version": "3.7.4"
  }
 },
 "nbformat": 4,
 "nbformat_minor": 2
}
