{
 "cells": [
  {
   "cell_type": "markdown",
   "metadata": {},
   "source": [
    "# Beamline Quadrupole Tuning\n",
    "\n",
    "The beamline consists of 21 quadrupoles whose strength will be varied in order to fulfill the following optimization targets:\n",
    "\n",
    "* Beam spot size @ target position: $\\sigma_x \\leq 500\\,\\mu m, \\sigma_y \\leq 500\\,\\mu m$\n",
    "* Beam spot size @ beam dump position: $\\sigma_x \\leq 12\\,mm, \\sigma_y \\leq 12\\,mm$\n",
    "* Fractional beam loss along beamline less than 1%\n",
    "\n",
    "Let's start with importing everything that we are going to need throughout the optimization process:"
   ]
  },
  {
   "cell_type": "code",
   "execution_count": 1,
   "metadata": {},
   "outputs": [],
   "source": [
    "from collections import deque\n",
    "import itertools as it\n",
    "import logging\n",
    "import math\n",
    "import os\n",
    "from pprint import pprint\n",
    "import statistics\n",
    "\n",
    "import numpy as np\n",
    "import pandas as pd\n",
    "import torch\n",
    "\n",
    "from dipas.build import from_file, create_script, track_script\n",
    "from dipas.elements import configure, Quadrupole\n",
    "from dipas.madx import run_script"
   ]
  },
  {
   "cell_type": "markdown",
   "metadata": {},
   "source": [
    "In the following we define the optimization targets as above:"
   ]
  },
  {
   "cell_type": "code",
   "execution_count": 2,
   "metadata": {},
   "outputs": [],
   "source": [
    "optimization_targets = dict(\n",
    "    target_rms_x = 500e-6,  # Beam spot size at target.\n",
    "    target_rms_y = 500e-6,\n",
    "    dump_rms_x = 12e-3,     # Beam spot size at beam dump.\n",
    "    dump_rms_y = 12e-3,\n",
    "    loss = 0.01             # Fractional loss along beamline.\n",
    ")"
   ]
  },
  {
   "cell_type": "markdown",
   "metadata": {},
   "source": [
    "Using the `build.from_file` function we can load the example lattice from a MADX script file:"
   ]
  },
  {
   "cell_type": "code",
   "execution_count": null,
   "metadata": {},
   "outputs": [],
   "source": [
    "configure(transfer_map_order=1)  # Using linear optics to save memory.\n",
    "lattice = from_file('example.seq')"
   ]
  },
  {
   "cell_type": "markdown",
   "metadata": {},
   "source": [
    "We are only interested in the part of the beamline up to the beam dump position, so we select the corresponding segment:"
   ]
  },
  {
   "cell_type": "code",
   "execution_count": 4,
   "metadata": {},
   "outputs": [
    {
     "name": "stdout",
     "output_type": "stream",
     "text": [
      "Last lattice element: Monitor(l=tensor(0.), label='dump')\n"
     ]
    }
   ],
   "source": [
    "lattice = lattice[:'dump']\n",
    "print('Last lattice element:', lattice.elements[-1])"
   ]
  },
  {
   "cell_type": "markdown",
   "metadata": {},
   "source": [
    "In a next step we would declare the parameters of the optimization process, i.e. the quadrupoles' gradient strengths. However this step has been done already in the corresponding MADX script. The MADX parser supports special comments of the form `// [flow] variable` to indicate optimization parameters. These comments work for variable definitions as well as attribute updates (e.g. `some_element->k1 = 0.0;`). Let's view the corresponding section of the MADX script file:"
   ]
  },
  {
   "cell_type": "code",
   "execution_count": 5,
   "metadata": {},
   "outputs": [
    {
     "name": "stdout",
     "output_type": "stream",
     "text": [
      "beam, particle=ion, charge=6, energy=28.5779291448, mass=11.1779291448;\n",
      "\n",
      "k1l_GTE1QD11 =  1e-6;  // [flow] variable\n",
      "k1l_GTE1QD12 = -1e-6;  // [flow] variable\n",
      "\n",
      "k1l_GTE2QT11 =  1e-6;  // [flow] variable\n",
      "k1l_GTE2QT12 = -1e-6;  // [flow] variable\n",
      "k1l_GTE2QT13 =  1e-6;  // [flow] variable\n",
      "\n",
      "k1l_GTH1QD11 =  1e-6;  // [flow] variable\n",
      "k1l_GTH1QD12 = -1e-6;  // [flow] variable\n",
      "\n",
      "k1l_GTH2QD11 =  1e-6;  // [flow] variable\n",
      "k1l_GTH2QD12 = -1e-6;  // [flow] variable\n",
      "k1l_GTH2QD21 = -1e-6;  // [flow] variable\n",
      "k1l_GTH2QD22 =  1e-6;  // [flow] variable\n",
      "\n",
      "k1l_GHADQD11 = -1e-6;  // [flow] variable\n",
      "k1l_GHADQD12 =  1e-6;  // [flow] variable\n",
      "k1l_GHADQD21 = -1e-6;  // [flow] variable\n",
      "k1l_GHADQD22 =  1e-6;  // [flow] variable\n",
      "\n",
      "k1l_GHADQD31 = -1e-6;  // [flow] variable\n",
      "k1l_GHADQD32 =  1e-6;  // [flow] variable\n",
      "k1l_GHADQD41 =  1e-6;  // [flow] variable\n",
      "k1l_GHADQD42 = -1e-6;  // [flow] variable\n",
      "\n",
      "k1l_GHADQT51 =  1e-6;  // [flow] variable\n",
      "k1l_GHADQT52 = -1e-6;  // [flow] variable\n",
      "\n",
      "\n"
     ]
    }
   ],
   "source": [
    "with open('example.seq') as fh:\n",
    "    print(''.join(fh.readlines()[:30]))"
   ]
  },
  {
   "cell_type": "markdown",
   "metadata": {},
   "source": [
    "We can confirm that the parsed lattice contains the corresponding parameters already:"
   ]
  },
  {
   "cell_type": "code",
   "execution_count": 6,
   "metadata": {},
   "outputs": [
    {
     "name": "stdout",
     "output_type": "stream",
     "text": [
      "gte1qd11: Parameter containing:\n",
      "tensor(1.5015e-06, requires_grad=True)\n",
      "gte1qd12: Parameter containing:\n",
      "tensor(-1.5015e-06, requires_grad=True)\n",
      "gte2qt11: Parameter containing:\n",
      "tensor(1.0000e-06, requires_grad=True)\n",
      "gte2qt12: Parameter containing:\n",
      "tensor(-1.0000e-06, requires_grad=True)\n",
      "gte2qt13: Parameter containing:\n",
      "tensor(1.0000e-06, requires_grad=True)\n",
      "gth1qd11: Parameter containing:\n",
      "tensor(1.0000e-06, requires_grad=True)\n",
      "gth1qd12: Parameter containing:\n",
      "tensor(-1.0000e-06, requires_grad=True)\n",
      "gth2qd11: Parameter containing:\n",
      "tensor(1.0000e-06, requires_grad=True)\n",
      "gth2qd12: Parameter containing:\n",
      "tensor(-1.0000e-06, requires_grad=True)\n",
      "gth2qd21: Parameter containing:\n",
      "tensor(-1.0000e-06, requires_grad=True)\n",
      "gth2qd22: Parameter containing:\n",
      "tensor(1.0000e-06, requires_grad=True)\n",
      "ghadqd11: Parameter containing:\n",
      "tensor(-1.0000e-06, requires_grad=True)\n",
      "ghadqd12: Parameter containing:\n",
      "tensor(1.0000e-06, requires_grad=True)\n",
      "ghadqd21: Parameter containing:\n",
      "tensor(-1.0000e-06, requires_grad=True)\n",
      "ghadqd22: Parameter containing:\n",
      "tensor(1.0000e-06, requires_grad=True)\n",
      "ghadqd31: Parameter containing:\n",
      "tensor(-1.6667e-06, requires_grad=True)\n",
      "ghadqd32: Parameter containing:\n",
      "tensor(1.6667e-06, requires_grad=True)\n",
      "ghadqd41: Parameter containing:\n",
      "tensor(1.6667e-06, requires_grad=True)\n",
      "ghadqd42: Parameter containing:\n",
      "tensor(-1.6667e-06, requires_grad=True)\n",
      "ghadqt51: Parameter containing:\n",
      "tensor(1.0000e-06, requires_grad=True)\n",
      "ghadqt52: Parameter containing:\n",
      "tensor(-1.0000e-06, requires_grad=True)\n",
      "Number of parameters: 21\n"
     ]
    }
   ],
   "source": [
    "for quad in lattice[Quadrupole]:\n",
    "    print(f'{quad.label}: {quad.k1!r}')\n",
    "print('Number of parameters:', len(list(lattice.parameters())))"
   ]
  },
  {
   "cell_type": "markdown",
   "metadata": {},
   "source": [
    "If the optimization parameters were not already declared we could also do it manually using the following `for` loop:"
   ]
  },
  {
   "cell_type": "code",
   "execution_count": 7,
   "metadata": {},
   "outputs": [],
   "source": [
    "# for quad in lattice[Quadrupole]:\n",
    "#     quad.k1 = torch.nn.Parameter(quad.k1)\n",
    "#     quad.update_transfer_map()  # Need to call this method in order for the change to become effective."
   ]
  },
  {
   "cell_type": "markdown",
   "metadata": {},
   "source": [
    "In a next step we select the 21 quadrupoles and define some additional properties such as valid boundaries for their k1-values. An important aspect to note here is that k1-values which are marked as optimization parameters must never be zero. This is because internally the polarity of the magnet is derived from the sign of the k1-value (positive sign means horizontally focusing). For that reason we define a small epsilon-boundary instead (any value other than zero would do, no matter how small). Also note that this restriction only applies to k1-values that are `Parameters`. For non-parameters, if the k1-value is zero, the Quadrupole acts as a Drift space."
   ]
  },
  {
   "cell_type": "code",
   "execution_count": 8,
   "metadata": {},
   "outputs": [
    {
     "name": "stdout",
     "output_type": "stream",
     "text": [
      "[Quadrupole(l=tensor(0.6660), k1=Parameter containing: tensor(1.5015e-06, requires_grad=True), aperture=ApertureEllipse(aperture=tensor([0.0600, 0.0600]), offset=tensor([0., 0.]), padding=0.0), label='gte1qd11'),\n",
      " Quadrupole(l=tensor(0.6660), k1=Parameter containing: tensor(-1.5015e-06, requires_grad=True), aperture=ApertureCircle(aperture=0.06, offset=tensor([0., 0.]), padding=0.0), label='gte1qd12'),\n",
      " Quadrupole(l=tensor(1.), k1=Parameter containing: tensor(1.0000e-06, requires_grad=True), aperture=ApertureEllipse(aperture=tensor([0.0600, 0.0600]), offset=tensor([0., 0.]), padding=0.0), label='gte2qt11'),\n",
      " Quadrupole(l=tensor(1.), k1=Parameter containing: tensor(-1.0000e-06, requires_grad=True), aperture=ApertureEllipse(aperture=tensor([0.0600, 0.0600]), offset=tensor([0., 0.]), padding=0.0), label='gte2qt12'),\n",
      " Quadrupole(l=tensor(1.), k1=Parameter containing: tensor(1.0000e-06, requires_grad=True), aperture=ApertureEllipse(aperture=tensor([0.0600, 0.0600]), offset=tensor([0., 0.]), padding=0.0), label='gte2qt13'),\n",
      " Quadrupole(l=tensor(1.), k1=Parameter containing: tensor(1.0000e-06, requires_grad=True), aperture=ApertureEllipse(aperture=tensor([0.0540, 0.0540]), offset=tensor([0., 0.]), padding=0.0), label='gth1qd11'),\n",
      " Quadrupole(l=tensor(1.), k1=Parameter containing: tensor(-1.0000e-06, requires_grad=True), aperture=ApertureEllipse(aperture=tensor([0.0540, 0.0540]), offset=tensor([0., 0.]), padding=0.0), label='gth1qd12'),\n",
      " Quadrupole(l=tensor(1.), k1=Parameter containing: tensor(1.0000e-06, requires_grad=True), aperture=ApertureEllipse(aperture=tensor([0.0540, 0.0540]), offset=tensor([0., 0.]), padding=0.0), label='gth2qd11'),\n",
      " Quadrupole(l=tensor(1.), k1=Parameter containing: tensor(-1.0000e-06, requires_grad=True), aperture=ApertureEllipse(aperture=tensor([0.0540, 0.0540]), offset=tensor([0., 0.]), padding=0.0), label='gth2qd12'),\n",
      " Quadrupole(l=tensor(1.), k1=Parameter containing: tensor(-1.0000e-06, requires_grad=True), aperture=ApertureEllipse(aperture=tensor([0.0540, 0.0540]), offset=tensor([0., 0.]), padding=0.0), label='gth2qd21'),\n",
      " Quadrupole(l=tensor(1.), k1=Parameter containing: tensor(1.0000e-06, requires_grad=True), aperture=ApertureEllipse(aperture=tensor([0.0540, 0.0540]), offset=tensor([0., 0.]), padding=0.0), label='gth2qd22'),\n",
      " Quadrupole(l=tensor(1.), k1=Parameter containing: tensor(-1.0000e-06, requires_grad=True), aperture=ApertureEllipse(aperture=tensor([0.0900, 0.0900]), offset=tensor([0., 0.]), padding=0.0), label='ghadqd11'),\n",
      " Quadrupole(l=tensor(1.), k1=Parameter containing: tensor(1.0000e-06, requires_grad=True), aperture=ApertureEllipse(aperture=tensor([0.0900, 0.0900]), offset=tensor([0., 0.]), padding=0.0), label='ghadqd12'),\n",
      " Quadrupole(l=tensor(1.), k1=Parameter containing: tensor(-1.0000e-06, requires_grad=True), aperture=ApertureEllipse(aperture=tensor([0.0600, 0.0600]), offset=tensor([0., 0.]), padding=0.0), label='ghadqd21'),\n",
      " Quadrupole(l=tensor(1.), k1=Parameter containing: tensor(1.0000e-06, requires_grad=True), aperture=ApertureEllipse(aperture=tensor([0.0600, 0.0600]), offset=tensor([0., 0.]), padding=0.0), label='ghadqd22'),\n",
      " Quadrupole(l=tensor(0.6000), k1=Parameter containing: tensor(-1.6667e-06, requires_grad=True), aperture=ApertureEllipse(aperture=tensor([0.0600, 0.0600]), offset=tensor([0., 0.]), padding=0.0), label='ghadqd31'),\n",
      " Quadrupole(l=tensor(0.6000), k1=Parameter containing: tensor(1.6667e-06, requires_grad=True), aperture=ApertureEllipse(aperture=tensor([0.0600, 0.0600]), offset=tensor([0., 0.]), padding=0.0), label='ghadqd32'),\n",
      " Quadrupole(l=tensor(0.6000), k1=Parameter containing: tensor(1.6667e-06, requires_grad=True), aperture=ApertureEllipse(aperture=tensor([0.0600, 0.0600]), offset=tensor([0., 0.]), padding=0.0), label='ghadqd41'),\n",
      " Quadrupole(l=tensor(0.6000), k1=Parameter containing: tensor(-1.6667e-06, requires_grad=True), aperture=ApertureEllipse(aperture=tensor([0.0600, 0.0600]), offset=tensor([0., 0.]), padding=0.0), label='ghadqd42'),\n",
      " Quadrupole(l=tensor(1.), k1=Parameter containing: tensor(1.0000e-06, requires_grad=True), aperture=ApertureEllipse(aperture=tensor([0.0600, 0.0600]), offset=tensor([0., 0.]), padding=0.0), label='ghadqt51'),\n",
      " Quadrupole(l=tensor(1.), k1=Parameter containing: tensor(-1.0000e-06, requires_grad=True), aperture=ApertureEllipse(aperture=tensor([0.0600, 0.0600]), offset=tensor([0., 0.]), padding=0.0), label='ghadqt52')]\n",
      "\n",
      "{'ghadqd11': [-0.759233926128591, -1e-06],\n",
      " 'ghadqd12': [1e-06, 0.759233926128591],\n",
      " 'ghadqd21': [-0.759233926128591, -1e-06],\n",
      " 'ghadqd22': [1e-06, 0.759233926128591],\n",
      " 'ghadqd31': [-0.47058823529411764, -1e-06],\n",
      " 'ghadqd32': [1e-06, 0.47058823529411764],\n",
      " 'ghadqd41': [1e-06, 0.47058823529411764],\n",
      " 'ghadqd42': [-0.47058823529411764, -1e-06],\n",
      " 'ghadqt51': [1e-06, 0.759233926128591],\n",
      " 'ghadqt52': [-0.759233926128591, -1e-06],\n",
      " 'gte1qd11': [1e-06, 0.47058823529411764],\n",
      " 'gte1qd12': [-0.47058823529411764, -1e-06],\n",
      " 'gte2qt11': [1e-06, 0.759233926128591],\n",
      " 'gte2qt12': [-0.759233926128591, -1e-06],\n",
      " 'gte2qt13': [1e-06, 0.759233926128591],\n",
      " 'gth1qd11': [1e-06, 0.759233926128591],\n",
      " 'gth1qd12': [-0.759233926128591, -1e-06],\n",
      " 'gth2qd11': [1e-06, 0.759233926128591],\n",
      " 'gth2qd12': [-0.759233926128591, -1e-06],\n",
      " 'gth2qd21': [-0.759233926128591, -1e-06],\n",
      " 'gth2qd22': [1e-06, 0.759233926128591]}\n"
     ]
    }
   ],
   "source": [
    "quadrupoles = lattice[Quadrupole]\n",
    "pprint(quadrupoles)\n",
    "print()\n",
    "\n",
    "QPL_limit = 11.1 / 14.62\n",
    "QPK_limit = 6.88 / 14.62\n",
    "QPK_magnets = {'gte1qd11', 'gte1qd12', 'ghadqd31', 'ghadqd32', 'ghadqd41', 'ghadqd42'}\n",
    "polarity = {  # +1.0 means horizontally focusing.\n",
    "    'gte1qd11':  1.0,\n",
    "    'gte1qd12': -1.0,\n",
    "\n",
    "    'gte2qt11':  1.0,\n",
    "    'gte2qt12': -1.0,\n",
    "    'gte2qt13':  1.0,\n",
    "\n",
    "    'gth1qd11':  1.0,\n",
    "    'gth1qd12': -1.0,\n",
    "\n",
    "    'gth2qd11':  1.0,\n",
    "    'gth2qd12': -1.0,\n",
    "    'gth2qd21': -1.0,\n",
    "    'gth2qd22':  1.0,\n",
    "\n",
    "    'ghadqd11': -1.0,\n",
    "    'ghadqd12':  1.0,\n",
    "    'ghadqd21': -1.0,\n",
    "    'ghadqd22':  1.0,\n",
    "\n",
    "    'ghadqd31': -1.0,\n",
    "    'ghadqd32':  1.0,\n",
    "    'ghadqd41':  1.0,\n",
    "    'ghadqd42': -1.0,\n",
    "\n",
    "    'ghadqt51':  1.0,\n",
    "    'ghadqt52': -1.0,\n",
    "}\n",
    "k1_bounds = {\n",
    "    q.label: sorted([  # Lower bound must come first.\n",
    "        polarity[q.label] * 1e-6,  # Variable strength quadrupoles must not be zero to retain their polarity.\n",
    "        polarity[q.label] * (QPK_limit if q.label in QPK_magnets else QPL_limit)\n",
    "    ]) for q in quadrupoles\n",
    "}\n",
    "pprint(k1_bounds)"
   ]
  },
  {
   "cell_type": "markdown",
   "metadata": {},
   "source": [
    "The initial particle distribution at the entrance of the beamline is stored in a CSV file (5,000 particles):"
   ]
  },
  {
   "cell_type": "code",
   "execution_count": 9,
   "metadata": {},
   "outputs": [
    {
     "name": "stdout",
     "output_type": "stream",
     "text": [
      "Particles: torch.Size([6, 5000])\n"
     ]
    }
   ],
   "source": [
    "particles = pd.read_csv('particles.csv', index_col=0)\n",
    "particles = torch.from_numpy(particles.values.T)\n",
    "print('Particles:', particles.shape)"
   ]
  },
  {
   "cell_type": "markdown",
   "metadata": {},
   "source": [
    "Now let's run a tracking forward pass through the lattice in order to verify everything's set up correctly:"
   ]
  },
  {
   "cell_type": "code",
   "execution_count": 10,
   "metadata": {},
   "outputs": [
    {
     "name": "stdout",
     "output_type": "stream",
     "text": [
      "torch.Size([6, 1878])\n",
      "{'target': torch.Size([6, 1878]), 'dump': torch.Size([6, 1878])}\n",
      "tensor(1073.9377, grad_fn=<AddBackward0>)\n"
     ]
    }
   ],
   "source": [
    "x, history, loss = lattice.linear(particles, observe=['target', 'dump'], recloss='sum')\n",
    "print(x.shape)\n",
    "print({k: v.shape for k, v in history.items()})\n",
    "print(loss)"
   ]
  },
  {
   "cell_type": "markdown",
   "metadata": {},
   "source": [
    "Here we can see that out of the initial 5,000 particles only 1,878 make it to the end of the beamline. The remaining 3,122 are lost at the various elements in between and this is reflected in the loss value `loss`. This value is the sum over all elements and for each particle and element it indicates by how much the particle's spatial coordinates exceeded the element's aperture (so it is not directly related to the fraction of particles lost; this value can be computed from the shape of the tensors). If we wanted to know where exactly the particles are lost, we would need to specify `recloss=True` (or more generally `recloss=identifier`, see the documentation of `elements.Segment` for more details). We can also observe that the `loss` value is differentiable, as indicated by the `grad_fn` attribute.\n",
    "\n",
    "Finally we setup the optimizer that computes the updates for the k1-values during the optimization process. For this example we use the `Adam` optimizer:"
   ]
  },
  {
   "cell_type": "code",
   "execution_count": 11,
   "metadata": {},
   "outputs": [],
   "source": [
    "optimizer = torch.optim.Adam(lattice.parameters(), lr=0.001)"
   ]
  },
  {
   "cell_type": "markdown",
   "metadata": {},
   "source": [
    "Now we're ready to start the optimization:"
   ]
  },
  {
   "cell_type": "code",
   "execution_count": null,
   "metadata": {},
   "outputs": [],
   "source": [
    "cost_history = []\n",
    "\n",
    "for epoch in it.count(1):\n",
    "    def closure():\n",
    "        optimizer.zero_grad()\n",
    "        \n",
    "        __, history, loss = lattice.linear(particles, observe=['target', 'dump'],\n",
    "                                           recloss='sum',      # Sum the loss per element and per particle.\n",
    "                                           exact_drift=False)  # Linear drifts speed up the computation.\n",
    "        particles_lost = 1.0 - history['dump'].shape[1] / particles.shape[1]\n",
    "        if particles_lost > optimization_targets['loss']:\n",
    "            cost = (loss / particles.shape[1]) / optimization_targets['loss']  # Average loss per particle / target loss.\n",
    "        else:\n",
    "            cost = 0.  # Target fractional loss was reached, no need to optimize for that (at the current iteration).\n",
    "\n",
    "        log_dict = dict(epoch=epoch, particles_lost=f'{particles_lost:.2f}')\n",
    "\n",
    "        for place in ('target', 'dump'):\n",
    "            # Only compare spot sizes to targeted ones if no more than 50% of the particles were lost.\n",
    "            if history[place].shape[1] > particles.shape[1] // 2:\n",
    "                x, y = history[place][[0, 2]]\n",
    "                rms_x = x.std()\n",
    "                rms_y = y.std()\n",
    "                cost = (cost + torch.nn.functional.relu(rms_x / optimization_targets[f'{place}_rms_x'] - 1.0)\n",
    "                        + torch.nn.functional.relu(rms_y / optimization_targets[f'{place}_rms_y'] - 1.0))\n",
    "                log_dict.update({f'{place}_rms_x': f'{rms_x.data:.6f}', f'{place}_rms_y': f'{rms_y:.6f}'})\n",
    "            else:\n",
    "                log_dict.update({f'{place}_rms_x': 'n.a.', f'{place}_rms_y': 'n.a.'})\n",
    "                \n",
    "        cost_history.append(cost.data.clone())\n",
    "        log_dict['cost_to_optimize'] = cost.data.clone()\n",
    "        print(log_dict)\n",
    "        cost.backward(retain_graph=True)  # Transfer maps are reused at every iteration so we need to retain the memory buffers.\n",
    "        return cost\n",
    "    \n",
    "    optimizer.step(closure)\n",
    "    \n",
    "    if cost_history[-1] == 0:\n",
    "        break\n",
    "\n",
    "    with torch.no_grad():\n",
    "        for q in quadrupoles:\n",
    "            q.k1.data.clamp_(*k1_bounds[q.label])  # Squeeze k1-values back into bounds if necessary.\n",
    "            \n",
    "    for q in quadrupoles:\n",
    "        q.update_transfer_map()"
   ]
  },
  {
   "cell_type": "markdown",
   "metadata": {},
   "source": [
    "Eventually the optimization process converged and we plot the cost value over all epochs, to review the progress of the optimization process:"
   ]
  },
  {
   "cell_type": "code",
   "execution_count": 13,
   "metadata": {},
   "outputs": [
    {
     "data": {
      "image/png": "[encoded data removed]",
      "text/plain": [
       "<Figure size 432x288 with 1 Axes>"
      ]
     },
     "metadata": {
      "needs_background": "light"
     },
     "output_type": "display_data"
    }
   ],
   "source": [
    "%matplotlib inline\n",
    "\n",
    "import matplotlib.pyplot as plt\n",
    "\n",
    "plt.plot(cost_history)\n",
    "plt.yscale('log')\n",
    "plt.xlabel('epoch')\n",
    "plt.ylabel('cost')\n",
    "plt.show()"
   ]
  },
  {
   "cell_type": "markdown",
   "metadata": {},
   "source": [
    "As we can observe from the above plot, the optimization was a bit of a bumpy ride towards the end. Situations like this can often be improved by decreasing the learning rate when approaching the minimum. For that we could have used one of the `torch.optim.lr_scheduler` classes or manually stop the optimization at some point, decrease the learning rate and resume from where we stopped.\n",
    "\n",
    "To conclude the example we will run a crosscheck with the MADX simulation tool, in order to verify the results. We can serialize the current version of the lattice using the functions `create_script, sequence_script, track_script` from the `build` module. With `madx.utils.run_script` we can run the thus generated script and get back the tracking results in form of `pd.DataFrame` objects."
   ]
  },
  {
   "cell_type": "code",
   "execution_count": 14,
   "metadata": {},
   "outputs": [
    {
     "name": "stdout",
     "output_type": "stream",
     "text": [
      "\n",
      "Crosscheck with MADX:\n",
      "\tFraction of particles lost:  0.006\n",
      "\tBeam spot size at target:    [0.00051271 0.00050737]\n",
      "\tBeam spot size at beam dump: [0.01056864 0.00879908]\n"
     ]
    }
   ],
   "source": [
    "madx_script = create_script(\n",
    "    sequence=lattice,\n",
    "    track=track_script(particles, observe=['target', 'dump'], maxaper=[100]*6),  # Aperture is already on the elements.\n",
    "    beam=dict(charge=6, mass=11.1779291448, energy=28.5779291448)\n",
    ")\n",
    "with open('result.madx', 'w') as fh:\n",
    "    fh.write(madx_script)\n",
    "\n",
    "results = run_script(madx_script, ['trackone', 'trackloss'], twiss=True, madx=os.path.expanduser('~/bin/madx'))\n",
    "print('\\nCrosscheck with MADX:')\n",
    "print('\\tFraction of particles lost: ', len(results['trackloss'])/particles.shape[1])\n",
    "print('\\tBeam spot size at target:   ', results['trackone'].loc['target', ['X', 'Y']].values.std(axis=0))\n",
    "print('\\tBeam spot size at beam dump:', results['trackone'].loc['dump', ['X', 'Y']].values.std(axis=0))"
   ]
  },
  {
   "cell_type": "markdown",
   "metadata": {},
   "source": [
    "There's a small deviation in the results due to the fact that we used linear optics for the tracking while MADX uses non-linear update formulas.\n",
    "\n",
    "Finally let's plot the quadrupole gradients along the beamline:"
   ]
  },
  {
   "cell_type": "code",
   "execution_count": 20,
   "metadata": {},
   "outputs": [
    {
     "data": {
      "text/plain": [
       "Text(0, 0.5, 'K1L [1/m]')"
      ]
     },
     "execution_count": 20,
     "metadata": {},
     "output_type": "execute_result"
    },
    {
     "data": {
      "image/png": "[encoded data removed]",
      "text/plain": [
       "<Figure size 648x360 with 1 Axes>"
      ]
     },
     "metadata": {
      "needs_background": "light"
     },
     "output_type": "display_data"
    }
   ],
   "source": [
    "ax = results['twiss'][0].set_index('NAME').loc[[q.label.upper() for q in quadrupoles], ['K1L']].plot(kind='bar', figsize=(9, 5))\n",
    "ax.set_ylabel('K1L [1/m]')"
   ]
  },
  {
   "cell_type": "code",
   "execution_count": null,
   "metadata": {},
   "outputs": [],
   "source": []
  }
 ],
 "metadata": {
  "kernelspec": {
   "display_name": "Python 3",
   "language": "python",
   "name": "python3"
  },
  "language_info": {
   "codemirror_mode": {
    "name": "ipython",
    "version": 3
   },
   "file_extension": ".py",
   "mimetype": "text/x-python",
   "name": "python",
   "nbconvert_exporter": "python",
   "pygments_lexer": "ipython3",
   "version": "3.7.4"
  },
  "pycharm": {
   "stem_cell": {
    "cell_type": "raw",
    "metadata": {
     "collapsed": false
    },
    "source": []
   }
  }
 },
 "nbformat": 4,
 "nbformat_minor": 2
}
