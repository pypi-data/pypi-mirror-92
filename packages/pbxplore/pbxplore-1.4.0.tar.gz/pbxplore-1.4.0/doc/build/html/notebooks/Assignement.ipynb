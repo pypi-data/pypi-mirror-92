{
 "cells": [
  {
   "cell_type": "markdown",
   "metadata": {},
   "source": [
    "# PB assignation\n",
    "\n",
    "We hereby demonstrate how to use the API to assign PB sequences."
   ]
  },
  {
   "cell_type": "code",
   "execution_count": 1,
   "metadata": {
    "collapsed": false
   },
   "outputs": [],
   "source": [
    "from __future__ import print_function, division\n",
    "from pprint import pprint\n",
    "import os"
   ]
  },
  {
   "cell_type": "code",
   "execution_count": 1,
   "metadata": {
    "collapsed": false
   },
   "outputs": [],
   "source": [
    "import pbxplore as pbx"
   ]
  },
  {
   "cell_type": "markdown",
   "metadata": {},
   "source": [
    "## Use the built-in structure parser"
   ]
  },
  {
   "cell_type": "markdown",
   "metadata": {},
   "source": [
    "### Assign PB for a single structure"
   ]
  },
  {
   "cell_type": "markdown",
   "metadata": {},
   "source": [
    "The :func:`pbxplore.chains_from_files` function is the prefered way to read PDB and PDBx/mmCIF files using PBxplore. This function takes a list of file path as argument, and yield each chain it can read from these files. It provides a single interface to read PDB and PDBx/mmCIF files, to read single model and multimodel files, and to read a single file of a collection of files.\n",
    "\n",
    "Here we want to read a single file with a single model and a single chain. Therefore, we need the first and only record that is yield by :func:`pbxplore.chains_from_files`. This record contains a name for the chain, and the chain itself as a :class:`pbxplore.structure.structure.Chain` object. Note that, even if we want to read a single file, we need to provide it as a list to :func:`pbxplore.chains_from_files`."
   ]
  },
  {
   "cell_type": "code",
   "execution_count": 3,
   "metadata": {
    "collapsed": false
   },
   "outputs": [
    {
     "name": "stdout",
     "output_type": "stream",
     "text": [
      "Read 1 chain(s) in /Users/jon/dev/PBtest/pbxplore/demo/1BTA.pdb\n",
      "/Users/jon/dev/PBtest/pbxplore/demo/1BTA.pdb | chain A\n",
      "Chain A / model : 1434 atoms\n"
     ]
    }
   ],
   "source": [
    "pdb_path = os.path.join(pbx.DEMO_DATA_PATH, '1BTA.pdb')\n",
    "structure_reader = pbx.chains_from_files([pdb_path])\n",
    "chain_name, chain = next(structure_reader)\n",
    "print(chain_name)\n",
    "print(chain)"
   ]
  },
  {
   "cell_type": "markdown",
   "metadata": {},
   "source": [
    "Protein Blocks are assigned based on the dihedral angles of the backbone. So we need to calculate them. The :meth:`pbxplore.structure.structure.Chain.get_phi_psi_angles` methods calculate these angles and return them in a form that can be directly provided to the assignement function.\n",
    "\n",
    "The dihedral angles are returned as a dictionnary. Each key of this dictionary is a residue number, and each value is a dictionary with the phi and psi angles."
   ]
  },
  {
   "cell_type": "code",
   "execution_count": 4,
   "metadata": {
    "collapsed": false
   },
   "outputs": [
    {
     "name": "stdout",
     "output_type": "stream",
     "text": [
      "{1: {'phi': None, 'psi': -171.6556313444855},\n",
      " 2: {'phi': -133.80467711845586, 'psi': 153.74322760775027},\n",
      " 3: {'phi': -134.66175688926953, 'psi': 157.30476083095584},\n",
      " 4: {'phi': -144.49159910635186, 'psi': 118.59706956501037},\n",
      " 5: {'phi': -100.12866913978127, 'psi': 92.98634825528089},\n",
      " 6: {'phi': -83.48980457968895, 'psi': 104.23730726195485},\n",
      " 7: {'phi': -64.77163869310709, 'psi': -43.25159835828049},\n",
      " 8: {'phi': -44.47885842536948, 'psi': -25.89184262616925},\n",
      " 9: {'phi': -94.90790101955957, 'psi': -47.182577907117775},\n",
      " 10: {'phi': -41.31267169232996, 'psi': 133.73743399231304},\n",
      " 11: {'phi': -119.15122785547305, 'psi': -11.82789586402356},\n",
      " 12: {'phi': -174.21196552933984, 'psi': 175.87239770676175},\n",
      " 13: {'phi': -56.61341695443224, 'psi': -45.74767617535588},\n",
      " 14: {'phi': -50.78226415072095, 'psi': -45.3742585970337},\n",
      " 15: {'phi': -57.93584481869442, 'psi': -43.329444361460844},\n",
      " 16: {'phi': -55.209603541130434, 'psi': -56.47559202715399},\n",
      " 17: {'phi': -64.51979885245254, 'psi': -18.577118068149446},\n",
      " 18: {'phi': -70.24273354141468, 'psi': -55.153744337676926},\n",
      " 19: {'phi': -65.20648546633561, 'psi': -41.28370221159946},\n",
      " 20: {'phi': -58.98821952110768, 'psi': -35.78957701447905},\n",
      " 21: {'phi': -66.8659714296852, 'psi': -42.14634696303375},\n",
      " 22: {'phi': -67.34201665142825, 'psi': -57.40438549689628},\n",
      " 23: {'phi': -52.29793609141382, 'psi': -66.09120830346023},\n",
      " 24: {'phi': -61.19010445362886, 'psi': -14.807316930892569},\n",
      " 25: {'phi': 54.951586944206355, 'psi': 47.59528477656777},\n",
      " 26: {'phi': -69.51531755580697, 'psi': 161.10806531443862},\n",
      " 27: {'phi': -57.36300935545188, 'psi': -179.66365615297644},\n",
      " 28: {'phi': -79.91369005407893, 'psi': -18.494472196394668},\n",
      " 29: {'phi': -93.51717329199727, 'psi': 13.80253054655975},\n",
      " 30: {'phi': -38.40653214238887, 'psi': 105.85297788366393},\n",
      " 31: {'phi': -64.01559307951965, 'psi': -5.507357757886837},\n",
      " 32: {'phi': 50.06519606710964, 'psi': 3.604730286754302},\n",
      " 33: {'phi': -84.83560576923662, 'psi': -176.04877012701309},\n",
      " 34: {'phi': -76.65985981150652, 'psi': -36.89428882663367},\n",
      " 35: {'phi': -66.20745817863622, 'psi': -36.19018119951471},\n",
      " 36: {'phi': -80.76844188891471, 'psi': -55.88509876949212},\n",
      " 37: {'phi': -45.0995601497454, 'psi': -50.82304368319501},\n",
      " 38: {'phi': -58.512419169182465, 'psi': -56.4318511704347},\n",
      " 39: {'phi': -44.00775783983471, 'psi': -26.06209153795419},\n",
      " 40: {'phi': -79.6799641005731, 'psi': -51.3827703817916},\n",
      " 41: {'phi': -58.80532943671335, 'psi': -49.46425322450557},\n",
      " 42: {'phi': -75.73059711071141, 'psi': 3.9162670655634235},\n",
      " 43: {'phi': -177.14613562249534, 'psi': 60.46495675947551},\n",
      " 44: {'phi': 177.12658169328853, 'psi': -66.62887199130637},\n",
      " 45: {'phi': -58.436100708193806, 'psi': 149.59997847317612},\n",
      " 46: {'phi': -102.66050573267097, 'psi': 132.43212727859543},\n",
      " 47: {'phi': -114.52132755246623, 'psi': 169.33012343233455},\n",
      " 48: {'phi': -61.39150617820462, 'psi': 136.7035538929314},\n",
      " 49: {'phi': -113.17589693608565, 'psi': 156.54195412530404},\n",
      " 50: {'phi': -117.26440335376822, 'psi': 138.51305036902693},\n",
      " 51: {'phi': -120.03410170277817, 'psi': 81.75707989178757},\n",
      " 52: {'phi': -77.60981590398819, 'psi': 83.18451037698443},\n",
      " 53: {'phi': -79.65858964180552, 'psi': 111.40143302647459},\n",
      " 54: {'phi': -100.37011629225776, 'psi': 150.03395825502497},\n",
      " 55: {'phi': 49.87330458406237, 'psi': 68.74199803405018},\n",
      " 56: {'phi': -73.87938409722335, 'psi': -66.7355521840301},\n",
      " 57: {'phi': -56.20534388077749, 'psi': -35.207843043514686},\n",
      " 58: {'phi': -66.38284564180043, 'psi': -32.21866387324769},\n",
      " 59: {'phi': -94.6778115344365, 'psi': 17.686140221665553},\n",
      " 60: {'phi': -111.48538994784963, 'psi': -38.09776457861392},\n",
      " 61: {'phi': -70.64502750557983, 'psi': -62.8582975880629},\n",
      " 62: {'phi': -33.50588994671665, 'psi': -32.02546270762559},\n",
      " 63: {'phi': -128.57384077349852, 'psi': 62.57927537310066},\n",
      " 64: {'phi': -12.365761900396365, 'psi': 106.99327496259977},\n",
      " 65: {'phi': 73.68588813063124, 'psi': 32.131558860201714},\n",
      " 66: {'phi': -89.05260862755028, 'psi': -69.16778908477181},\n",
      " 67: {'phi': -77.83088301001709, 'psi': -21.564910924673597},\n",
      " 68: {'phi': -71.32122280651765, 'psi': -21.859413182600065},\n",
      " 69: {'phi': -81.4118653034867, 'psi': -55.2935117883826},\n",
      " 70: {'phi': -52.047970110313145, 'psi': -43.22593946145588},\n",
      " 71: {'phi': -59.215594114973726, 'psi': -45.283196644537554},\n",
      " 72: {'phi': -52.67186926130671, 'psi': -38.127901315075064},\n",
      " 73: {'phi': -75.00963018964649, 'psi': -30.83999517691734},\n",
      " 74: {'phi': -74.69878930178584, 'psi': -35.042954979175136},\n",
      " 75: {'phi': -80.22740138668189, 'psi': -37.2721834868002},\n",
      " 76: {'phi': -63.3253002341084, 'psi': -46.736848174955014},\n",
      " 77: {'phi': -62.577975558265166, 'psi': -38.836376804396195},\n",
      " 78: {'phi': -58.4371262613883, 'psi': -30.932534133630554},\n",
      " 79: {'phi': -77.25603045197096, 'psi': -28.810984281581455},\n",
      " 80: {'phi': -65.77402807318447, 'psi': -6.587861693755428},\n",
      " 81: {'phi': 113.27162201541087, 'psi': -14.067924223417435},\n",
      " 82: {'phi': -63.856071155072016, 'psi': 160.46313493362334},\n",
      " 83: {'phi': -109.29442965951228, 'psi': 65.33016925110071},\n",
      " 84: {'phi': -94.29902268445335, 'psi': 87.93029438989075},\n",
      " 85: {'phi': -52.91938395571083, 'psi': 98.897475962567},\n",
      " 86: {'phi': -73.44769372512917, 'psi': 114.6488125441093},\n",
      " 87: {'phi': -114.16119204550668, 'psi': 101.24805765454327},\n",
      " 88: {'phi': -96.78933556699712, 'psi': 106.74340425527281},\n",
      " 89: {'phi': -109.02775603395975, 'psi': None}}\n"
     ]
    }
   ],
   "source": [
    "dihedrals = chain.get_phi_psi_angles()\n",
    "pprint(dihedrals)"
   ]
  },
  {
   "cell_type": "markdown",
   "metadata": {},
   "source": [
    "The dihedral angles can be provided to the :func:`pbxplore.assign` function that assigns a Protein Block to each residue, and that returns the PB sequence as a string. Note that the first and last two residues are assigned to the `Z` jocker block as some dihedral angles cannot be calculated."
   ]
  },
  {
   "cell_type": "code",
   "execution_count": 5,
   "metadata": {
    "collapsed": false
   },
   "outputs": [
    {
     "name": "stdout",
     "output_type": "stream",
     "text": [
      "ZZdddfklonbfklmmmmmmmmnopafklnoiaklmmmmmnoopacddddddehkllmmmmngoilmmmmmmmmmmmmnopacdcddZZ\n"
     ]
    }
   ],
   "source": [
    "pb_seq = pbx.assign(dihedrals)\n",
    "print(pb_seq)"
   ]
  },
  {
   "cell_type": "markdown",
   "metadata": {},
   "source": [
    "### Assign PB for several models of a single file"
   ]
  },
  {
   "cell_type": "markdown",
   "metadata": {},
   "source": [
    "A single PDB file can contain several models. Then, we do not want to read only the first chain. Instead, we want to iterate over all the chains."
   ]
  },
  {
   "cell_type": "code",
   "execution_count": 7,
   "metadata": {
    "collapsed": false
   },
   "outputs": [
    {
     "name": "stdout",
     "output_type": "stream",
     "text": [
      "Read 10 chain(s) in /Users/jon/dev/PBtest/pbxplore/demo/2LFU.pdb\n",
      "* /Users/jon/dev/PBtest/pbxplore/demo/2LFU.pdb | model 1 | chain A\n",
      "  ZZbghiacfkbccdddddehiadddddddddddfklggcdddddddddddddehifbdcddddddddddfklopadddddfhpamlnopcddddddehjadddddehjacbddddddddfklmaccddddddfbgniaghiapaddddddfklnoambZZ\n",
      "* /Users/jon/dev/PBtest/pbxplore/demo/2LFU.pdb | model 2 | chain A\n",
      "  ZZpcfblcffbccdddddeehjacdddddddddfklggcddddddddddddddfblghiadddddddddfklopadddddehpmmmnopcddddddeehiacdddfblopadcddddddfklpaccdddddfklmlmgcdehiaddddddfklmmgopZZ\n",
      "* /Users/jon/dev/PBtest/pbxplore/demo/2LFU.pdb | model 3 | chain A\n",
      "  ZZmgghiafbbccdddddehjbdcdddddddddfklggcddddddddddddddfbfghpacddddddddfklopadddddehiaklmmmgcdddddeehiaddddfkbgciacdddddefklpaccddddddfkgojbdfehpaddddddfkbccfbgZZ\n",
      "* /Users/jon/dev/PBtest/pbxplore/demo/2LFU.pdb | model 4 | chain A\n",
      "  ZZcghiacfkbacdddddfbhpacdddddddddfklmcfdddddddddddddehiacddddddddddddfknopadddddfkpamlnopaddddddehjaccdddfklnopacddddddfklmpccdddddddehiabghehiaddddddfklpccfkZZ\n",
      "* /Users/jon/dev/PBtest/pbxplore/demo/2LFU.pdb | model 5 | chain A\n",
      "  ZZpaehiehkaccdddddehjbccdddddddddfklggcddddddddddddddfbhpadddddddddddfklopadddddehiamlmmpccdddddeehiadddddfbacddcddddddfklmaccddddddfbgghiafehiadddddddfklpacfZZ\n",
      "* /Users/jon/dev/PBtest/pbxplore/demo/2LFU.pdb | model 6 | chain A\n",
      "  ZZmghbacfkbccdddddeehpacdddddddddfklggcdddddddddddddehiacadddddddddddfklopadddddehiaklnopcddddddeehiadddehjlnopacddddddfklmaccddddehiaehbgcdehiadddddddfehjlpcZZ\n",
      "* /Users/jon/dev/PBtest/pbxplore/demo/2LFU.pdb | model 7 | chain A\n",
      "  ZZcchbacfkbccdddddfehpacdddddddddfklggcdddddddddddddddehjapadddddddddfknopadddddfklmmmnopcddddddehjiddddddfknopacddddddfklpaccdddddfklmaacdfehpadddddehjblckknZZ\n",
      "* /Users/jon/dev/PBtest/pbxplore/demo/2LFU.pdb | model 8 | chain A\n",
      "  ZZcehjdeehiacdjdddedjbdcdddddddddfklggcdddddddddddddddbfblbacddddddddfklopacddddehiamlnopaddddddehjacddddfehpaaccdddddefklpaccdddddfklmbfbehehiaddddddffkgoiehZZ\n",
      "* /Users/jon/dev/PBtest/pbxplore/demo/2LFU.pdb | model 9 | chain A\n",
      "  ZZpccdjdfkbccdddddehhpacdddddddddfklggcdddddddddddddehiacbdcdddddddddfklopadddddehiammnopcddddddeejiadddehjlgobacddddddfklmpccddddehiacbcbdfehpadddddehjklmklmZZ\n",
      "* /Users/jon/dev/PBtest/pbxplore/demo/2LFU.pdb | model 10 | chain A\n",
      "  ZZccfklcfkbccdddddehjbdcdddddddddfklggcdddddddddddddehiapaccdddddddddfklopadddddehjamlnopaddddddehjddcdddfbfghpacddddddfklpaccddddddfbcfbacfehpadddddddekpghiaZZ\n"
     ]
    }
   ],
   "source": [
    "pdb_path = os.path.join(pbx.DEMO_DATA_PATH, '2LFU.pdb')\n",
    "for chain_name, chain in pbx.chains_from_files([pdb_path]):\n",
    "    dihedrals = chain.get_phi_psi_angles()\n",
    "    pb_seq = pbx.assign(dihedrals)\n",
    "    print('* {}'.format(chain_name))\n",
    "    print('  {}'.format(pb_seq))"
   ]
  },
  {
   "cell_type": "markdown",
   "metadata": {},
   "source": [
    "### Assign PB for a set of structures"
   ]
  },
  {
   "cell_type": "markdown",
   "metadata": {},
   "source": [
    "The :func:`pbxplore.chains_from_files` function can also handle several chains from several files."
   ]
  },
  {
   "cell_type": "code",
   "execution_count": 12,
   "metadata": {
    "collapsed": false
   },
   "outputs": [
    {
     "name": "stdout",
     "output_type": "stream",
     "text": [
      "The following files will be used:\n",
      "['/Users/jon/dev/PBtest/pbxplore/demo/1BTA.pdb',\n",
      " '/Users/jon/dev/PBtest/pbxplore/demo/2LFU.pdb',\n",
      " '/Users/jon/dev/PBtest/pbxplore/demo/3ICH.pdb']\n",
      "Read 1 chain(s) in /Users/jon/dev/PBtest/pbxplore/demo/1BTA.pdb\n",
      "* /Users/jon/dev/PBtest/pbxplore/demo/1BTA.pdb | chain A\n",
      "  ZZdddfklonbfklmmmmmmmmnopafklnoiaklmmmmmnoopacddddddehkllmmmmngoilmmmmmmmmmmmmnopacdcddZZ\n",
      "Read 10 chain(s) in /Users/jon/dev/PBtest/pbxplore/demo/2LFU.pdb\n",
      "* /Users/jon/dev/PBtest/pbxplore/demo/2LFU.pdb | model 1 | chain A\n",
      "  ZZbghiacfkbccdddddehiadddddddddddfklggcdddddddddddddehifbdcddddddddddfklopadddddfhpamlnopcddddddehjadddddehjacbddddddddfklmaccddddddfbgniaghiapaddddddfklnoambZZ\n",
      "* /Users/jon/dev/PBtest/pbxplore/demo/2LFU.pdb | model 2 | chain A\n",
      "  ZZpcfblcffbccdddddeehjacdddddddddfklggcddddddddddddddfblghiadddddddddfklopadddddehpmmmnopcddddddeehiacdddfblopadcddddddfklpaccdddddfklmlmgcdehiaddddddfklmmgopZZ\n",
      "* /Users/jon/dev/PBtest/pbxplore/demo/2LFU.pdb | model 3 | chain A\n",
      "  ZZmgghiafbbccdddddehjbdcdddddddddfklggcddddddddddddddfbfghpacddddddddfklopadddddehiaklmmmgcdddddeehiaddddfkbgciacdddddefklpaccddddddfkgojbdfehpaddddddfkbccfbgZZ\n",
      "* /Users/jon/dev/PBtest/pbxplore/demo/2LFU.pdb | model 4 | chain A\n",
      "  ZZcghiacfkbacdddddfbhpacdddddddddfklmcfdddddddddddddehiacddddddddddddfknopadddddfkpamlnopaddddddehjaccdddfklnopacddddddfklmpccdddddddehiabghehiaddddddfklpccfkZZ\n",
      "* /Users/jon/dev/PBtest/pbxplore/demo/2LFU.pdb | model 5 | chain A\n",
      "  ZZpaehiehkaccdddddehjbccdddddddddfklggcddddddddddddddfbhpadddddddddddfklopadddddehiamlmmpccdddddeehiadddddfbacddcddddddfklmaccddddddfbgghiafehiadddddddfklpacfZZ\n",
      "* /Users/jon/dev/PBtest/pbxplore/demo/2LFU.pdb | model 6 | chain A\n",
      "  ZZmghbacfkbccdddddeehpacdddddddddfklggcdddddddddddddehiacadddddddddddfklopadddddehiaklnopcddddddeehiadddehjlnopacddddddfklmaccddddehiaehbgcdehiadddddddfehjlpcZZ\n",
      "* /Users/jon/dev/PBtest/pbxplore/demo/2LFU.pdb | model 7 | chain A\n",
      "  ZZcchbacfkbccdddddfehpacdddddddddfklggcdddddddddddddddehjapadddddddddfknopadddddfklmmmnopcddddddehjiddddddfknopacddddddfklpaccdddddfklmaacdfehpadddddehjblckknZZ\n",
      "* /Users/jon/dev/PBtest/pbxplore/demo/2LFU.pdb | model 8 | chain A\n",
      "  ZZcehjdeehiacdjdddedjbdcdddddddddfklggcdddddddddddddddbfblbacddddddddfklopacddddehiamlnopaddddddehjacddddfehpaaccdddddefklpaccdddddfklmbfbehehiaddddddffkgoiehZZ\n",
      "* /Users/jon/dev/PBtest/pbxplore/demo/2LFU.pdb | model 9 | chain A\n",
      "  ZZpccdjdfkbccdddddehhpacdddddddddfklggcdddddddddddddehiacbdcdddddddddfklopadddddehiammnopcddddddeejiadddehjlgobacddddddfklmpccddddehiacbcbdfehpadddddehjklmklmZZ\n",
      "* /Users/jon/dev/PBtest/pbxplore/demo/2LFU.pdb | model 10 | chain A\n",
      "  ZZccfklcfkbccdddddehjbdcdddddddddfklggcdddddddddddddehiapaccdddddddddfklopadddddehjamlnopaddddddehjddcdddfbfghpacddddddfklpaccddddddfbcfbacfehpadddddddekpghiaZZ\n",
      "Read 1 chain(s) in /Users/jon/dev/PBtest/pbxplore/demo/3ICH.pdb\n",
      "* /Users/jon/dev/PBtest/pbxplore/demo/3ICH.pdb | chain A\n",
      "  ZZccdfbdcdddddehjbdebjcdddddfklmmmlmmmmmmmmnopnopajeopacfbdcehibacehiamnonopgocdfkbjbdcdfblmbccfbghiacdddebehiafkbccddfbdcfklgokaccfbdcfbhklmmmmmmmpccdfkopafbacddfbgcddddfbacddddZZ\n"
     ]
    }
   ],
   "source": [
    "import glob\n",
    "files = [os.path.join(pbx.DEMO_DATA_PATH, pdb_name)\n",
    "         for pdb_name in ('1BTA.pdb', '2LFU.pdb', '3ICH.pdb')]\n",
    "print('The following files will be used:')\n",
    "pprint(files)\n",
    "for chain_name, chain in pbx.chains_from_files(files):\n",
    "    dihedrals = chain.get_phi_psi_angles()\n",
    "    pb_seq = pbx.assign(dihedrals)\n",
    "    print('* {}'.format(chain_name))\n",
    "    print('  {}'.format(pb_seq))"
   ]
  },
  {
   "cell_type": "markdown",
   "metadata": {},
   "source": [
    "### Assign PB for frames in a trajectory"
   ]
  },
  {
   "cell_type": "markdown",
   "metadata": {},
   "source": [
    "PB sequences can be assigned from a trajectory. To do so, we use the :func:`pbxplore.chains_from_trajectory` function that takes the path to a trajectory and the path to the corresponding topology as argument. Any file formats readable by MDAnalysis can be used. Except for its arguments, :func:`pbxplore.chains_from_trajectory` works the same as :func:`pbxplore.chains_from_files`.\n",
    "\n",
    "** Note that MDAnalysis is required to use this feature. **"
   ]
  },
  {
   "cell_type": "code",
   "execution_count": 9,
   "metadata": {
    "collapsed": false
   },
   "outputs": [
    {
     "name": "stdout",
     "output_type": "stream",
     "text": [
      "* /Users/jon/dev/PBtest/pbxplore/demo/barstar_md_traj.xtc | frame 0\n",
      "  ZZdddfklpmbfklmmmmmmmmnopafklgoiaklmmmmmmmmpacddddddehklmmmmmoghilmmmmmmmmmmmmnopacddddZZ\n",
      "* /Users/jon/dev/PBtest/pbxplore/demo/barstar_md_traj.xtc | frame 1\n",
      "  ZZdddfklpcbfklmmmmmmmmnopafkbghiaklmmmmmmmmpccddddddehklmmmmmcehilmmmmmmmmmmmmnopacddddZZ\n",
      "* /Users/jon/dev/PBtest/pbxplore/demo/barstar_md_traj.xtc | frame 2\n",
      "  ZZdddfklpcbfklmmmmmmmmnopafklgoiaklmmmmmmmmpccddddddehklmmmmnpghklmmmmmmmmmmmmnopacddddZZ\n",
      "* /Users/jon/dev/PBtest/pbxplore/demo/barstar_md_traj.xtc | frame 3\n",
      "  ZZdddfklccbfklmmmmmmmmnopafkbghiaklmmmmmnopaccddddddehkllmmmmpghilmmmmmmmmmmmmnopacddddZZ\n",
      "* /Users/jon/dev/PBtest/pbxplore/demo/barstar_md_traj.xtc | frame 4\n",
      "  ZZdddfklpmbfklmmmmmmmmnopafklgoiaklmmmmmnopaccddddddehklmmmmmpghjllmmmmmmmmmmmnopacddddZZ\n",
      "* /Users/jon/dev/PBtest/pbxplore/demo/barstar_md_traj.xtc | frame 5\n",
      "  ZZdddfklpmbfklmmmmmmmmnopafkbgoiaklmmmmmnopbacddddddehklmmmmmpghilmmmmmmmmmmmmnopacddddZZ\n",
      "* /Users/jon/dev/PBtest/pbxplore/demo/barstar_md_traj.xtc | frame 6\n",
      "  ZZdddfklpmblmlmmmmmmmmnopafkbghiaklmmmmmnopbacddddddehjllmmmnoghklmmmmmmmmmmmmnopacddddZZ\n",
      "* /Users/jon/dev/PBtest/pbxplore/demo/barstar_md_traj.xtc | frame 7\n",
      "  ZZdddfklcfblmlmmmmmmmmnopafkbgoiaklmmmmmmmmcacddddddehklmmmmnpghklmmmmmmmmmmmmnopacddddZZ\n",
      "* /Users/jon/dev/PBtest/pbxplore/demo/barstar_md_traj.xtc | frame 8\n",
      "  ZZdddfklpgbfklmmmmmmmmnopafklgoiaklmmmmmnojaccddddddehklmmmmmpghilmmmmmmmmmmmmnopacddddZZ\n",
      "* /Users/jon/dev/PBtest/pbxplore/demo/barstar_md_traj.xtc | frame 9\n",
      "  ZZdddfklpcbfklmmmmmmmmnopafklgoiaklmmmmmmombacddddddehkllmmmnbghilkmmmmmmmmmmmnopacddddZZ\n",
      "* /Users/jon/dev/PBtest/pbxplore/demo/barstar_md_traj.xtc | frame 10\n",
      "  ZZdddfklmmblklmmmmmmmmnopafkbgoiaklmmmmmmmmppcddddddehkllmmmmbghilmmmmmmmmmmmmnopacddddZZ\n",
      "* /Users/jon/dev/PBtest/pbxplore/demo/barstar_md_traj.xtc | frame 11\n",
      "  ZZddefklpcbfklmmmmmmmmnopafklghiaklmmmmmnopbacddddddehklmmmmmpghilmmmmmmmmmmmmnopacddddZZ\n",
      "* /Users/jon/dev/PBtest/pbxplore/demo/barstar_md_traj.xtc | frame 12\n",
      "  ZZdddfklcfbfklmmmmmmmmnopafklgoiaklmmmmmmmmpacddddddehklmmmmmpghilmmmmmmmmmmmmnopacddddZZ\n",
      "* /Users/jon/dev/PBtest/pbxplore/demo/barstar_md_traj.xtc | frame 13\n",
      "  ZZdddfklpmbfklmmmmmmmmnopafklgoiaklmmmmmnopbacddddddehklmmmmmpghklmmmmmmmmmmmmnopacddddZZ\n",
      "* /Users/jon/dev/PBtest/pbxplore/demo/barstar_md_traj.xtc | frame 14\n",
      "  ZZdddfklpmbfklmmmmmmmmnopafklghiaklmmmmmmmmpccddddddehklmmmmmpghilmmmmmmmmmmmmnopacddddZZ\n",
      "* /Users/jon/dev/PBtest/pbxplore/demo/barstar_md_traj.xtc | frame 15\n",
      "  ZZdddfklpcbfklmmmmmmmmnopafklghiaklmmmmmmmmpccddddddehklmmmmmbghklmmmmmmmmmmmmnopacddddZZ\n",
      "* /Users/jon/dev/PBtest/pbxplore/demo/barstar_md_traj.xtc | frame 16\n",
      "  ZZdddfklpmbfklmmmmmmmmnopafkbghiaklmmmmmnoobacddddddehkllmmmmpghilmmmmmmmmmmmmnopacddddZZ\n",
      "* /Users/jon/dev/PBtest/pbxplore/demo/barstar_md_traj.xtc | frame 17\n",
      "  ZZdddfklombfklmmmmmmmmnopafkbghiaklmmmmmnopbacddddddehklmmmmmpghilmmmmmmmmmmmmnopacddddZZ\n",
      "* /Users/jon/dev/PBtest/pbxplore/demo/barstar_md_traj.xtc | frame 18\n",
      "  ZZdddfklpmbfklmmmmmmmmnopafklghiaklmmmmmmmmpacddddddehklmmmmmpghilmmmmmmmmmmmmnopcdddddZZ\n",
      "* /Users/jon/dev/PBtest/pbxplore/demo/barstar_md_traj.xtc | frame 19\n",
      "  ZZdddfklpmblmlmmmmmmmmnopafkbghiaklmmmmmnopbacddddddehklmmmmnbghijmmmmmmmmmmmmnopacddddZZ\n",
      "* /Users/jon/dev/PBtest/pbxplore/demo/barstar_md_traj.xtc | frame 20\n",
      "  ZZdddfklcfbfklmmmmmmmmnopafklgoiaklmmmmmmmmpacddddddehkllmmmmmghijklmmmmmmmmmmnopacddddZZ\n",
      "* /Users/jon/dev/PBtest/pbxplore/demo/barstar_md_traj.xtc | frame 21\n",
      "  ZZdddfklpcbfklmmmmmmmmnopafklghiaklmmmmmmmmpccddddddehklmmmmmpghijklmmmmmmmmmmnopacddddZZ\n",
      "* /Users/jon/dev/PBtest/pbxplore/demo/barstar_md_traj.xtc | frame 22\n",
      "  ZZdddfklpmbfklmmmmmmmmnopafkbghiaklmmmmmmoopacddddddehklmmmmmmghijmlmmmmmmmmmmnopacddddZZ\n",
      "* /Users/jon/dev/PBtest/pbxplore/demo/barstar_md_traj.xtc | frame 23\n",
      "  ZZdddfklpfblmlmmmmmmmmnopafkbgoiaklmmmmmmombacddddddehklmmmmmmghijmmmmmmmmmmmmnopacddddZZ\n",
      "* /Users/jon/dev/PBtest/pbxplore/demo/barstar_md_traj.xtc | frame 24\n",
      "  ZZdddfklpmbfklmmmmmmmmnopafkbccdfklmmmmmnopaccddddddehklmmmmmbghijklmmmmmmmmmmnopacddddZZ\n",
      "* /Users/jon/dev/PBtest/pbxplore/demo/barstar_md_traj.xtc | frame 25\n",
      "  ZZdddfklpgbfklmmmmmmmmnopafkbccdfklmmmmmmmmpacddddddehklmmmmmpghklmmmmmmmmmmmmnopadddddZZ\n",
      "* /Users/jon/dev/PBtest/pbxplore/demo/barstar_md_traj.xtc | frame 26\n",
      "  ZZdddfklpmbfklmmmmmmmmnopafkbccdfklmmmmmmnmpacddddddehklmmmmmbghilmmmmmmmmmmmmnopacddddZZ\n",
      "* /Users/jon/dev/PBtest/pbxplore/demo/barstar_md_traj.xtc | frame 27\n",
      "  ZZdddfklpcbfklmmmmmmmmnopafkbccbfklmmmmmmmmpccddddddehklmmmmmbghillmmmmmmmmmmmnopacddddZZ\n",
      "* /Users/jon/dev/PBtest/pbxplore/demo/barstar_md_traj.xtc | frame 28\n",
      "  ZZdddfklmmbfmlmmmmmmmmnopafkbccdfklmmmmmmmmpacddddddehkllmmmmpghklmmmmmmmmmmmmnopadddddZZ\n",
      "* /Users/jon/dev/PBtest/pbxplore/demo/barstar_md_traj.xtc | frame 29\n",
      "  ZZdddfkbpcbfklmmmmmmmmnopafkbccbfklmmmmmnombacddddddehkllmmmmoghilmmmmmmmmmmmmnopacddddZZ\n",
      "* /Users/jon/dev/PBtest/pbxplore/demo/barstar_md_traj.xtc | frame 30\n",
      "  ZZdddfklpmbfklmmmmmmmmnopafkbccbfklmmmmmnombccddddddehjlmmmmmpghilmmmmmmmmmmmmnopacddddZZ\n",
      "* /Users/jon/dev/PBtest/pbxplore/demo/barstar_md_traj.xtc | frame 31\n",
      "  ZZdddfklpmbfklmmmmmmmmnopafklccdfklmmmmmnopaacddddddehklmmmmmpghilmmmmmmmmmmmmnopacddddZZ\n",
      "* /Users/jon/dev/PBtest/pbxplore/demo/barstar_md_traj.xtc | frame 32\n",
      "  ZZdddfklcfbfklmmmmmmmmnopafkbcbdfklmmmmmmmmpacddddddehklmmmmmpghklmmmmmmmmmmmmnopacddddZZ\n",
      "* /Users/jon/dev/PBtest/pbxplore/demo/barstar_md_traj.xtc | frame 33\n",
      "  ZZdddfklpcbfmlmmmmmmmmnopafkbckbfklmmmmmmmmmccddddddehjlmmmmmoghklmmmmmmmmmmmmnopacddddZZ\n",
      "* /Users/jon/dev/PBtest/pbxplore/demo/barstar_md_traj.xtc | frame 34\n",
      "  ZZdddfklcfbfklmmmmmmmmnopafklccdfklmmmmmmmmpccddddddehklmmmmmpghilmmmmmmmmmmmmnopacddddZZ\n",
      "* /Users/jon/dev/PBtest/pbxplore/demo/barstar_md_traj.xtc | frame 35\n",
      "  ZZdddfklcfbfklmmmmmmmmnopafkbccdfklmmmmmmmmppcddddddehklmmmmmpghklmmmmmmmmmmmmnopacddddZZ\n",
      "* /Users/jon/dev/PBtest/pbxplore/demo/barstar_md_traj.xtc | frame 36\n",
      "  ZZdddfklpgbjklmmmmmmmmnopafkbccbfklmmmmmmmmpacddddddehklmmmmmoghjlmmmmmmmmmmmmnopacddddZZ\n",
      "* /Users/jon/dev/PBtest/pbxplore/demo/barstar_md_traj.xtc | frame 37\n",
      "  ZZdddfklpfbfklmmmmmmmmnopafklccbfklmmmmmnopbacddddddehklmmmmmoghklmmmmmmmmmmmmnopacddddZZ\n",
      "* /Users/jon/dev/PBtest/pbxplore/demo/barstar_md_traj.xtc | frame 38\n",
      "  ZZdddfklccbfklmmmmmmmmnopafkbckbfklmmmmmmompacddddddehklmmmmmoghjlmmmmmmmmmmmmnopacddddZZ\n",
      "* /Users/jon/dev/PBtest/pbxplore/demo/barstar_md_traj.xtc | frame 39\n",
      "  ZZdddfklpmblmlmmmmmmmmnopafkbccdfklmmmmmmmmcacddddddehklmmmmmoghklmmmmmmmmmmmmnopacddddZZ\n",
      "* /Users/jon/dev/PBtest/pbxplore/demo/barstar_md_traj.xtc | frame 40\n",
      "  ZZdddfklcfbfmlmmmmmmmmnopafkbccbfklmmmmmmmmmccddddddehklmmmmmpghklmmmmmmmmmmmmnopacddddZZ\n",
      "* /Users/jon/dev/PBtest/pbxplore/demo/barstar_md_traj.xtc | frame 41\n",
      "  ZZdddfklpmbfklmmmmmmmmnopafkbccdfklmmmmmmnopacddddddehklmmmmmpghklmmmmmmmmmmmmnopacddddZZ\n",
      "* /Users/jon/dev/PBtest/pbxplore/demo/barstar_md_traj.xtc | frame 42\n",
      "  ZZdddfklpmblmlmmmmmmmmnopafkbccdfklmmmmmmgoiacddddddehklmmmmmmgoklmmmmmmmmmmmmnopacddddZZ\n",
      "* /Users/jon/dev/PBtest/pbxplore/demo/barstar_md_traj.xtc | frame 43\n",
      "  ZZdddfklpcbfklmmmmmmmmnopafklccdfklmmmmmmmmpacddddddehklmmmmmmghklmmmmmmmmmmmmnopacddddZZ\n",
      "* /Users/jon/dev/PBtest/pbxplore/demo/barstar_md_traj.xtc | frame 44\n",
      "  ZZdddfklcfbfklmmmmmmmmnopafkbccdfklmmmmmmmmgccddddddehjllmmmmmghiaklmmmmmmmmmmnopacddddZZ\n",
      "* /Users/jon/dev/PBtest/pbxplore/demo/barstar_md_traj.xtc | frame 45\n",
      "  ZZdddfklcfbfmlmmmmmmmmnopafkbccbfklmmmmmmmmcccddddddehklmmmmmpghiamlmmmmmmmmmmnopacddddZZ\n",
      "* /Users/jon/dev/PBtest/pbxplore/demo/barstar_md_traj.xtc | frame 46\n",
      "  ZZdddfkbcfbfklmmmmmmmmnopafkbccdfklmmmmmmmmpacddddddehkllmmmmpghijmlmmmmmmmmmmnopacddddZZ\n",
      "* /Users/jon/dev/PBtest/pbxplore/demo/barstar_md_traj.xtc | frame 47\n",
      "  ZZdddfkbcfbfklmmmmmmmmnopafkbccdfklmmmmmmmmpccddddddehklmmmmmpghijklmmmmmmmmmmnopadddddZZ\n",
      "* /Users/jon/dev/PBtest/pbxplore/demo/barstar_md_traj.xtc | frame 48\n",
      "  ZZdddfkbcfbfklmmmmmmmmnopafkbccdfklmmmmmmomcacddddddehkllmmmmpghilmlmmmmmmmmmmnopacddddZZ\n",
      "* /Users/jon/dev/PBtest/pbxplore/demo/barstar_md_traj.xtc | frame 49\n",
      "  ZZdddffbcfbfklmmmmmmmmnopafkbccbfklmmmmmmnmpacddddddehklmmmmmpghijklmmmmmmmmmmnopacddddZZ\n",
      "* /Users/jon/dev/PBtest/pbxplore/demo/barstar_md_traj.xtc | frame 50\n",
      "  ZZdddfklgfbfklmmmmmmmmnopafklccdfklmmmmmmmmmccddddddehklmmmmmpghijmmmmmmmmmmmmnopacddddZZ\n"
     ]
    }
   ],
   "source": [
    "trajectory = os.path.join(pbx.DEMO_DATA_PATH, 'barstar_md_traj.xtc')\n",
    "topology = os.path.join(pbx.DEMO_DATA_PATH, 'barstar_md_traj.gro')\n",
    "for chain_name, chain in pbx.chains_from_trajectory(trajectory, topology):\n",
    "    dihedrals = chain.get_phi_psi_angles()\n",
    "    pb_seq = pbx.assign(dihedrals)\n",
    "    print('* {}'.format(chain_name))\n",
    "    print('  {}'.format(pb_seq))"
   ]
  },
  {
   "cell_type": "markdown",
   "metadata": {},
   "source": [
    "## Use a different structure parser"
   ]
  },
  {
   "cell_type": "markdown",
   "metadata": {},
   "source": [
    "Providing the dihedral angles can be formated as expected by :func:`pbxplore.assign`, the source of these angles does not matter. For instance, other PDB parser can be used with PBxplore."
   ]
  },
  {
   "cell_type": "markdown",
   "metadata": {},
   "source": [
    "### BioPython"
   ]
  },
  {
   "cell_type": "code",
   "execution_count": 13,
   "metadata": {
    "collapsed": false
   },
   "outputs": [
    {
     "name": "stdout",
     "output_type": "stream",
     "text": [
      "<Model id=0> <Chain id=A>\n",
      "ZZbghiacfkbccdddddehiadddddddddddfklggcdddddddddddddehifbdcddddddddddfklopadddddfhpamlnopcddddddehjadddddehjacbddddddddfklmaccddddddfbgniaghiapaddddddfklnoambZZ\n",
      "<Model id=1> <Chain id=A>\n",
      "ZZpcfblcffbccdddddeehjacdddddddddfklggcddddddddddddddfblghiadddddddddfklopadddddehpmmmnopcddddddeehiacdddfblopadcddddddfklpaccdddddfklmlmgcdehiaddddddfklmmgopZZ\n",
      "<Model id=2> <Chain id=A>\n",
      "ZZmgghiafbbccdddddehjbdcdddddddddfklggcddddddddddddddfbfghpacddddddddfklopadddddehiaklmmmgcdddddeehiaddddfkbgciacdddddefklpaccddddddfkgojbdfehpaddddddfkbccfbgZZ\n",
      "<Model id=3> <Chain id=A>\n",
      "ZZcghiacfkbacdddddfbhpacdddddddddfklmcfdddddddddddddehiacddddddddddddfknopadddddfkpamlnopaddddddehjaccdddfklnopacddddddfklmpccdddddddehiabghehiaddddddfklpccfkZZ\n",
      "<Model id=4> <Chain id=A>\n",
      "ZZpaehiehkaccdddddehjbccdddddddddfklggcddddddddddddddfbhpadddddddddddfklopadddddehiamlmmpccdddddeehiadddddfbacddcddddddfklmaccddddddfbgghiafehiadddddddfklpacfZZ\n",
      "<Model id=5> <Chain id=A>\n",
      "ZZmghbacfkbccdddddeehpacdddddddddfklggcdddddddddddddehiacadddddddddddfklopadddddehiaklnopcddddddeehiadddehjlnopacddddddfklmaccddddehiaehbgcdehiadddddddfehjlpcZZ\n",
      "<Model id=6> <Chain id=A>\n",
      "ZZcchbacfkbccdddddfehpacdddddddddfklggcdddddddddddddddehjapadddddddddfknopadddddfklmmmnopcddddddehjiddddddfknopacddddddfklpaccdddddfklmaacdfehpadddddehjblckknZZ\n",
      "<Model id=7> <Chain id=A>\n",
      "ZZcehjdeehiacdjdddedjbdcdddddddddfklggcdddddddddddddddbfblbacddddddddfklopacddddehiamlnopaddddddehjacddddfehpaaccdddddefklpaccdddddfklmbfbehehiaddddddffkgoiehZZ\n",
      "<Model id=8> <Chain id=A>\n",
      "ZZpccdjdfkbccdddddehhpacdddddddddfklggcdddddddddddddehiacbdcdddddddddfklopadddddehiammnopcddddddeejiadddehjlgobacddddddfklmpccddddehiacbcbdfehpadddddehjklmklmZZ\n",
      "<Model id=9> <Chain id=A>\n",
      "ZZccfklcfkbccdddddehjbdcdddddddddfklggcdddddddddddddehiapaccdddddddddfklopadddddehjamlnopaddddddehjddcdddfbfghpacddddddfklpaccddddddfbcfbacfehpadddddddekpghiaZZ\n"
     ]
    }
   ],
   "source": [
    "import Bio.PDB\n",
    "import math\n",
    "\n",
    "pdb_path = os.path.join(pbx.DEMO_DATA_PATH, \"2LFU.pdb\")\n",
    "for model in Bio.PDB.PDBParser().get_structure(\"2LFU\", pdb_path):\n",
    "    for chain in model:\n",
    "        polypeptides = Bio.PDB.PPBuilder().build_peptides(chain)\n",
    "        for poly_index, poly in enumerate(polypeptides):\n",
    "            dihedral_list = poly.get_phi_psi_list()\n",
    "            dihedrals = {}\n",
    "            for resid, (phi, psi) in enumerate(dihedral_list, start=1):\n",
    "                if not phi is None:\n",
    "                    phi = 180 * phi / math.pi\n",
    "                if not psi is None:\n",
    "                    psi = 180 * psi / math.pi\n",
    "                dihedrals[resid] = {'phi': phi, 'psi': psi}\n",
    "        print(model, chain)\n",
    "        pb_seq = pbx.assign(dihedrals)\n",
    "        print(pb_seq)"
   ]
  }
 ],
 "metadata": {
  "kernelspec": {
   "display_name": "Python 2",
   "language": "python",
   "name": "python2"
  },
  "language_info": {
   "codemirror_mode": {
    "name": "ipython",
    "version": 2
   },
   "file_extension": ".py",
   "mimetype": "text/x-python",
   "name": "python",
   "nbconvert_exporter": "python",
   "pygments_lexer": "ipython2",
   "version": "2.7.6"
  }
 },
 "nbformat": 4,
 "nbformat_minor": 0
}
