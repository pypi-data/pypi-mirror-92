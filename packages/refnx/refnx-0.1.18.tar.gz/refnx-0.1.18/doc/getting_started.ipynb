{
 "cells": [
  {
   "cell_type": "markdown",
   "metadata": {},
   "source": [
    "# Getting started"
   ]
  },
  {
   "cell_type": "markdown",
   "metadata": {},
   "source": [
    "## Fitting a data to a user defined model"
   ]
  },
  {
   "cell_type": "markdown",
   "metadata": {},
   "source": [
    "*refnx* can examine most curve fitting problems. Here we demonstrate a fit to a simple user defined model. This line example is taken from the [emcee documentation](http://emcee.readthedocs.io/en/stable/user/line.html) and the reader is referred to that link for more detailed explanation. The errorbars are underestimated, and the modelling will account for that."
   ]
  },
  {
   "cell_type": "markdown",
   "metadata": {},
   "source": [
    "To use *refnx* we need first need to create a dataset. We create a synthetic dataset"
   ]
  },
  {
   "cell_type": "code",
   "execution_count": 1,
   "metadata": {},
   "outputs": [],
   "source": [
    "%matplotlib inline\n",
    "\n",
    "import numpy as np\n",
    "np.random.seed(123)\n",
    "\n",
    "# Choose the \"true\" parameters.\n",
    "m_true = -0.9594\n",
    "b_true = 4.294\n",
    "f_true = 0.534\n",
    "\n",
    "N = 50\n",
    "x = np.sort(10 * np.random.rand(N))\n",
    "yerr = 0.1 + 0.5*np.random.rand(N)\n",
    "y = m_true*x + b_true\n",
    "y += np.abs(f_true * y) * np.random.randn(N)\n",
    "y += yerr * np.random.randn(N)"
   ]
  },
  {
   "cell_type": "markdown",
   "metadata": {},
   "source": [
    "We create a `Data1D` object from this synthetic data:"
   ]
  },
  {
   "cell_type": "code",
   "execution_count": 2,
   "metadata": {},
   "outputs": [],
   "source": [
    "from refnx.dataset import Data1D\n",
    "data = Data1D(data=(x, y, yerr))"
   ]
  },
  {
   "cell_type": "markdown",
   "metadata": {},
   "source": [
    "Then we need to set up a generative model. Firstly we write a fit-function that returns our straight line model. The `Parameter` objects describe the parameters we're going to use in the fit. We give the parameters values, names, and specify their limits. The parameters are combined into a `Parameters` set, `p`, using the or operator.\n",
    "Then we create a `Model` object from our parameter set and the fit-function. "
   ]
  },
  {
   "cell_type": "code",
   "execution_count": 3,
   "metadata": {},
   "outputs": [],
   "source": [
    "from refnx.analysis import Parameter, Model\n",
    "\n",
    "def line(x, params, *args, **kwds):\n",
    "    p_arr = np.array(params)\n",
    "    return p_arr[0] + x * p_arr[1]\n",
    "\n",
    "# the model needs parameters\n",
    "p = Parameter(1, 'b', vary=True, bounds=(0, 10))\n",
    "p |= Parameter(-2, 'm', vary=True, bounds=(-5, 0.5))\n",
    "\n",
    "model = Model(p, fitfunc=line)"
   ]
  },
  {
   "cell_type": "markdown",
   "metadata": {},
   "source": [
    "We set lower and upper limits on each of the parameters. This means that the log-prior probability from those parameters is described by a uniform distribution. Only solutions which have finite probability (i.e. lie between the limits) will be considered by the fit/sampler."
   ]
  },
  {
   "cell_type": "code",
   "execution_count": 4,
   "metadata": {},
   "outputs": [
    {
     "name": "stdout",
     "output_type": "stream",
     "text": [
      "-2.3025850929940455 -inf\n"
     ]
    }
   ],
   "source": [
    "# ln(1 / 10)\n",
    "# a value lying outside the limits is not possible\n",
    "print(p[0].logp(1), p[0].logp(-1))"
   ]
  },
  {
   "cell_type": "markdown",
   "metadata": {},
   "source": [
    "It's not required to give each parameter bounds unless the fit method requires it. The bounds do not have to be from a uniform distribution, any of the `scipy.stats.rv_continuous` distributions can be used:\n",
    "\n",
    "```\n",
    "import scipy.stats as stats\n",
    "# a normal distribution of mean 5 and standard deviation 1.\n",
    "p[0].bounds = stats.norm(5, 1)\n",
    "```"
   ]
  },
  {
   "cell_type": "markdown",
   "metadata": {},
   "source": [
    "Now we create an `Objective` from the model and the data. We use an extra parameter, `lnsigma`, to describe the underestimated error bars. Objectives use the model and data to calculate statistics about the curve fitting system."
   ]
  },
  {
   "cell_type": "code",
   "execution_count": 5,
   "metadata": {},
   "outputs": [
    {
     "name": "stdout",
     "output_type": "stream",
     "text": [
      "1185.7110246179552 -6.405228458030841 -738.614995170284 -745.0202236283149\n"
     ]
    }
   ],
   "source": [
    "from refnx.analysis import Objective\n",
    "\n",
    "lnf = Parameter(0, 'lnf', vary=True, bounds=(-10, 1))\n",
    "objective = Objective(model, data, lnsigma=lnf)\n",
    "print(objective.chisqr(), objective.logp(), objective.logl(), objective.logpost())"
   ]
  },
  {
   "cell_type": "markdown",
   "metadata": {},
   "source": [
    "Then a `CurveFitter` is created from the `Objective`. This is responsible for doing all the curvefitting/Bayesian sampling. Let's do a quick fit using Differential Evolution."
   ]
  },
  {
   "cell_type": "code",
   "execution_count": 6,
   "metadata": {},
   "outputs": [
    {
     "name": "stderr",
     "output_type": "stream",
     "text": [
      "22it [00:00, 127.49it/s]\n"
     ]
    }
   ],
   "source": [
    "from refnx.analysis import CurveFitter\n",
    "\n",
    "fitter = CurveFitter(objective)\n",
    "fitter.fit('differential_evolution');"
   ]
  },
  {
   "cell_type": "markdown",
   "metadata": {},
   "source": [
    "In the final output of the sampling each varying parameter is given a set of statistics. `Parameter.value` is the median of the chain samples. `Parameter.stderr` is half the [15, 85] percentile, representing a standard deviation."
   ]
  },
  {
   "cell_type": "code",
   "execution_count": 7,
   "metadata": {
    "scrolled": false
   },
   "outputs": [
    {
     "name": "stdout",
     "output_type": "stream",
     "text": [
      "________________________________________________________________________________\n",
      "Objective - 4829542384\n",
      "Dataset = <None>, 50 points\n",
      "datapoints = 50\n",
      "chi2 = 46.739546242716216\n",
      "Weighted = True\n",
      "Transform = None\n",
      "________________________________________________________________________________\n",
      "Parameters:      None      \n",
      "<Parameter:     'lnf'     , value=-0.790441 +/- 0.205, bounds=[-10.0, 1.0]>\n",
      "________________________________________________________________________________\n",
      "Parameters:      None      \n",
      "<Parameter:      'b'      , value=4.52831 +/- 0.358, bounds=[0.0, 10.0]>\n",
      "<Parameter:      'm'      , value=-1.00301 +/- 0.078, bounds=[-5.0, 0.5]>\n"
     ]
    },
    {
     "data": {
      "image/png": "[encoded data removed]",
      "text/plain": [
       "<Figure size 432x288 with 1 Axes>"
      ]
     },
     "metadata": {
      "needs_background": "light"
     },
     "output_type": "display_data"
    }
   ],
   "source": [
    "print(objective)\n",
    "objective.plot();"
   ]
  },
  {
   "cell_type": "markdown",
   "metadata": {},
   "source": [
    "The trouble with a single fit that minimises $\\chi^2$ is that it doesn't reveal the range of solutions that are consistent with the data. It also assumes that the parameter uncertainties will be normally distributed and uni-modal. To investigate the parameter probability distributions we need to use MCMC to sample the posterior probability distribution of the system. \n",
    "\n",
    "Note: `pool=` specifies that no parallelisation is done during sampling. On platforms that use `spawn` for multiprocessing special precautions [must be used](https://docs.python.org/3/library/multiprocessing.html#the-spawn-and-forkserver-start-methods) when using `pool > 1`."
   ]
  },
  {
   "cell_type": "code",
   "execution_count": 8,
   "metadata": {},
   "outputs": [
    {
     "name": "stderr",
     "output_type": "stream",
     "text": [
      "100%|██████████| 1000/1000 [00:20<00:00, 48.70it/s]\n"
     ]
    }
   ],
   "source": [
    "fitter.sample(1000, pool=1);"
   ]
  },
  {
   "cell_type": "markdown",
   "metadata": {},
   "source": [
    "Once the sampling is done we burn/discard some of the initial steps because the initial locations of the walkers won't be around their 'equilibrium' position. We thin out the chain to reduce auto-correlation between successive steps."
   ]
  },
  {
   "cell_type": "code",
   "execution_count": 9,
   "metadata": {},
   "outputs": [
    {
     "name": "stdout",
     "output_type": "stream",
     "text": [
      "________________________________________________________________________________\n",
      "Parameters:      None      \n",
      "<Parameter:     'lnf'     , value=-0.761916 +/- 0.153, bounds=[-10.0, 1.0]>\n",
      "________________________________________________________________________________\n",
      "Parameters:      None      \n",
      "<Parameter:      'b'      , value=4.53947 +/- 0.355, bounds=[0.0, 10.0]>\n",
      "<Parameter:      'm'      , value=-1.0064 +/- 0.0775, bounds=[-5.0, 0.5]>\n"
     ]
    }
   ],
   "source": [
    "from refnx.analysis import process_chain\n",
    "\n",
    "process_chain(objective, fitter.chain, nburn=300, nthin=100, flatchain=True)\n",
    "print(objective.parameters)"
   ]
  },
  {
   "cell_type": "markdown",
   "metadata": {},
   "source": [
    "Now we can see the range of solutions that are consistent with the data:"
   ]
  },
  {
   "cell_type": "code",
   "execution_count": 10,
   "metadata": {},
   "outputs": [
    {
     "data": {
      "image/png": "[encoded data removed]",
      "text/plain": [
       "<Figure size 432x288 with 1 Axes>"
      ]
     },
     "metadata": {
      "needs_background": "light"
     },
     "output_type": "display_data"
    }
   ],
   "source": [
    "objective.plot(samples=300);"
   ]
  },
  {
   "cell_type": "markdown",
   "metadata": {},
   "source": [
    "## Fitting a neutron reflectometry dataset"
   ]
  },
  {
   "cell_type": "markdown",
   "metadata": {},
   "source": [
    "We start off with all the relevant imports we'll need."
   ]
  },
  {
   "cell_type": "code",
   "execution_count": 11,
   "metadata": {},
   "outputs": [],
   "source": [
    "import os.path\n",
    "import numpy as np\n",
    "import matplotlib.pyplot as plt\n",
    "import scipy\n",
    "\n",
    "import refnx\n",
    "from refnx.dataset import ReflectDataset, Data1D\n",
    "from refnx.analysis import Transform, CurveFitter, Objective, Model, Parameter\n",
    "from refnx.reflect import SLD, Slab, ReflectModel"
   ]
  },
  {
   "cell_type": "markdown",
   "metadata": {},
   "source": [
    "It's important to note down the versions of the software that you're using, in order for the analysis to be reproducible."
   ]
  },
  {
   "cell_type": "code",
   "execution_count": 12,
   "metadata": {},
   "outputs": [
    {
     "name": "stdout",
     "output_type": "stream",
     "text": [
      "refnx: 0.1.18.dev0+0fbfe9f\n",
      "scipy: 1.5.3\n",
      "numpy: 1.19.4\n"
     ]
    }
   ],
   "source": [
    "print(f\"refnx: {refnx.version.version}\\n\"\n",
    "      f\"scipy: {scipy.version.version}\\n\"\n",
    "      f\"numpy: {np.version.version}\")"
   ]
  },
  {
   "cell_type": "markdown",
   "metadata": {},
   "source": [
    "### Loading/Creating a dataset"
   ]
  },
  {
   "cell_type": "markdown",
   "metadata": {},
   "source": [
    "*refnx* reads 2, 3, or 4 column plain-text files using `Data1D` or `ReflectDataset`.\n",
    "\n",
    "\n",
    "| columns |   data                  |\n",
    "|---------|-------------------------|\n",
    "|  2      |         $x, y$          |\n",
    "|  3      |    $x, y, y_{err}$      |\n",
    "|  4      |$x, y, y_{err}, x_{err}$ |\n",
    "\n",
    "\n",
    "$y_{err}$ being the standard deviation of the measured $y$ data, $x_{err}$ being the uncertainty in $x$.\n",
    "\n",
    "In a reflectometry context $x$ is the momentum transfer $Q$ ($A^{-1}$), $y_{err}$ is the uncertainty in the reflectivity, and $x_{err}$ is the full width at half maximum (FWHM) of the Gaussian approximation to the resolution function, $dQ$.\n",
    "\n",
    "The dataset we're going to use as an example is distributed with every install. The following cell determines its location."
   ]
  },
  {
   "cell_type": "code",
   "execution_count": 13,
   "metadata": {},
   "outputs": [],
   "source": [
    "pth = os.path.dirname(refnx.__file__)\n",
    "DATASET_NAME = 'c_PLP0011859_q.txt'\n",
    "file_path = os.path.join(pth, 'analysis', 'test', DATASET_NAME)"
   ]
  },
  {
   "cell_type": "markdown",
   "metadata": {},
   "source": [
    "`ReflectDataset` uses a file path to load the data. However, you can also make a dataset directly from numerical arrays."
   ]
  },
  {
   "cell_type": "code",
   "execution_count": 14,
   "metadata": {},
   "outputs": [],
   "source": [
    "data = ReflectDataset(file_path)"
   ]
  },
  {
   "cell_type": "markdown",
   "metadata": {},
   "source": [
    "### Creating an interfacial Structure"
   ]
  },
  {
   "cell_type": "markdown",
   "metadata": {},
   "source": [
    "`Structure` objects describe the interface of interest. They are made by assembling a series of `Components` (the simplest `Component` being a `Slab`. However, the first step is to create `SLD` objects that represent each of the materials:"
   ]
  },
  {
   "cell_type": "code",
   "execution_count": 15,
   "metadata": {},
   "outputs": [],
   "source": [
    "si = SLD(2.07, name='Si')\n",
    "sio2 = SLD(3.47, name='SiO2')\n",
    "film = SLD(2.0, name='film')\n",
    "d2o = SLD(6.36, name='d2o')"
   ]
  },
  {
   "cell_type": "markdown",
   "metadata": {},
   "source": [
    "`Slab`s are created from these `SLD`s to represent each layer in the system."
   ]
  },
  {
   "cell_type": "code",
   "execution_count": 16,
   "metadata": {},
   "outputs": [],
   "source": [
    "# first number is thickness, second number is roughness\n",
    "# a native oxide layer\n",
    "sio2_layer = sio2(30, 3)\n",
    "\n",
    "# the film of interest\n",
    "film_layer = film(250, 3)\n",
    "\n",
    "# layer for the solvent\n",
    "d2o_layer = d2o(0, 3)"
   ]
  },
  {
   "cell_type": "markdown",
   "metadata": {},
   "source": [
    "A `Slab` has the following parameters, which are all accessible as attributes:\n",
    "\n",
    " - `Slab.thick`\n",
    " - `Slab.sld.real`\n",
    " - `Slab.sld.imag`\n",
    " - `Slab.rough`\n",
    " - `Slab.vfsolv`\n",
    " \n",
    "We need to specify which parameters are going to vary in a fit, and what the limits are on those parameters. "
   ]
  },
  {
   "cell_type": "code",
   "execution_count": 17,
   "metadata": {},
   "outputs": [],
   "source": [
    "sio2_layer.thick.setp(bounds=(15, 50), vary=True)\n",
    "sio2_layer.rough.setp(bounds=(1, 15), vary=True)\n",
    "\n",
    "film_layer.thick.setp(bounds=(200, 300), vary=True)\n",
    "film_layer.sld.real.setp(bounds=(0.1, 3), vary=True)\n",
    "film_layer.rough.setp(bounds=(1, 15), vary=True)\n",
    "\n",
    "d2o_layer.rough.setp(vary=True, bounds=(1, 15))"
   ]
  },
  {
   "cell_type": "markdown",
   "metadata": {},
   "source": [
    "Now we assemble the `Structure` from the `Components`."
   ]
  },
  {
   "cell_type": "code",
   "execution_count": 18,
   "metadata": {},
   "outputs": [],
   "source": [
    "structure = si | sio2_layer | film_layer | d2o_layer"
   ]
  },
  {
   "cell_type": "code",
   "execution_count": 19,
   "metadata": {},
   "outputs": [
    {
     "name": "stdout",
     "output_type": "stream",
     "text": [
      "________________________________________________________________________________\n",
      "Parameters:     'SiO2'     \n",
      "<Parameter:'SiO2 - thick' , value=30          , bounds=[15.0, 50.0]>\n",
      "<Parameter: 'SiO2 - sld'  , value=3.47 (fixed)  , bounds=[-inf, inf]>\n",
      "<Parameter: 'SiO2 - isld' , value=0 (fixed)  , bounds=[-inf, inf]>\n",
      "<Parameter:'SiO2 - rough' , value=3          , bounds=[1.0, 15.0]>\n",
      "<Parameter:'SiO2 - volfrac solvent', value=0 (fixed)  , bounds=[0.0, 1.0]>\n"
     ]
    }
   ],
   "source": [
    "print(sio2_layer.parameters)"
   ]
  },
  {
   "cell_type": "markdown",
   "metadata": {},
   "source": [
    "`Structure` has a `sld_profile` method to return the SLD profile. Let's also plot that."
   ]
  },
  {
   "cell_type": "code",
   "execution_count": 20,
   "metadata": {},
   "outputs": [
    {
     "data": {
      "image/png": "[encoded data removed]",
      "text/plain": [
       "<Figure size 432x288 with 1 Axes>"
      ]
     },
     "metadata": {
      "needs_background": "light"
     },
     "output_type": "display_data"
    }
   ],
   "source": [
    "plt.plot(*structure.sld_profile())\n",
    "plt.ylabel('SLD /$10^{-6} \\AA^{-2}$')\n",
    "plt.xlabel('distance / $\\AA$');"
   ]
  },
  {
   "cell_type": "markdown",
   "metadata": {},
   "source": [
    "### `ReflectModel` calculates the generative model."
   ]
  },
  {
   "cell_type": "markdown",
   "metadata": {},
   "source": [
    "A `ReflectModel` is made from the `Structure` and is responsible for calculating the reflectivity of the system. `ReflectModel` performs resolution smearing, applies scaling factor and adds a Q-independent constant background. It can use constant `dq/q`, point-by-point, and full resolution kernel smearing. The resolution parameter, `dq`, can be fitted, but this will only be valid if your dataset didn't supply the instrument resolution."
   ]
  },
  {
   "cell_type": "code",
   "execution_count": 21,
   "metadata": {},
   "outputs": [],
   "source": [
    "model = ReflectModel(structure, bkg=3e-6, dq=5.0)\n",
    "model.scale.setp(bounds=(0.6, 1.2), vary=True)\n",
    "model.bkg.setp(bounds=(1e-9, 9e-6), vary=True)"
   ]
  },
  {
   "cell_type": "markdown",
   "metadata": {},
   "source": [
    "Let's quickly have a look at the model generated by the structure:"
   ]
  },
  {
   "cell_type": "code",
   "execution_count": 22,
   "metadata": {},
   "outputs": [
    {
     "data": {
      "image/png": "[encoded data removed]",
      "text/plain": [
       "<Figure size 432x288 with 1 Axes>"
      ]
     },
     "metadata": {
      "needs_background": "light"
     },
     "output_type": "display_data"
    }
   ],
   "source": [
    "q = np.linspace(0.005, 0.3, 1001)\n",
    "plt.plot(q, model(q))\n",
    "plt.xlabel('Q')\n",
    "plt.ylabel('Reflectivity')\n",
    "plt.yscale('log')"
   ]
  },
  {
   "cell_type": "markdown",
   "metadata": {},
   "source": [
    "### `Objective` combines the model and data, calculating statistics"
   ]
  },
  {
   "cell_type": "markdown",
   "metadata": {},
   "source": [
    "An `Objective` is made from a model and dataset. Here we use a `Transform` to fit as logY vs X."
   ]
  },
  {
   "cell_type": "code",
   "execution_count": 23,
   "metadata": {},
   "outputs": [],
   "source": [
    "objective = Objective(model, data, transform=Transform('logY'))"
   ]
  },
  {
   "cell_type": "markdown",
   "metadata": {},
   "source": [
    "The `Objective` can calculate statistics for the fitting system. Note how the log-probability is the sum of the log-prior and log-likelihood."
   ]
  },
  {
   "cell_type": "code",
   "execution_count": 24,
   "metadata": {},
   "outputs": [
    {
     "name": "stdout",
     "output_type": "stream",
     "text": [
      "34376.69092305155 -5.013178251637257 -16157.428065740693 -16162.441243992329\n"
     ]
    }
   ],
   "source": [
    "print(objective.chisqr(), objective.logp(), objective.logl(), objective.logpost())"
   ]
  },
  {
   "cell_type": "markdown",
   "metadata": {},
   "source": [
    "### `CurveFitter` does the fitting/sampling"
   ]
  },
  {
   "cell_type": "markdown",
   "metadata": {},
   "source": [
    "The final setup step is to create a `CurveFitter` from the `Objective`. These objects do the fitting/sampling. Let's do an initial fit with differential evolution."
   ]
  },
  {
   "cell_type": "code",
   "execution_count": 25,
   "metadata": {},
   "outputs": [
    {
     "name": "stderr",
     "output_type": "stream",
     "text": [
      "51it [00:06,  7.53it/s]\n"
     ]
    }
   ],
   "source": [
    "fitter = CurveFitter(objective)\n",
    "fitter.fit('differential_evolution');"
   ]
  },
  {
   "cell_type": "markdown",
   "metadata": {},
   "source": [
    "An `Objective` has a plot method, which is a quick visualisation. You need matplotlib installed to create a graph. You can see that the fit looks good."
   ]
  },
  {
   "cell_type": "code",
   "execution_count": 26,
   "metadata": {},
   "outputs": [
    {
     "data": {
      "image/png": "[encoded data removed]",
      "text/plain": [
       "<Figure size 432x288 with 1 Axes>"
      ]
     },
     "metadata": {
      "needs_background": "light"
     },
     "output_type": "display_data"
    }
   ],
   "source": [
    "objective.plot()\n",
    "plt.legend()\n",
    "plt.xlabel('Q')\n",
    "plt.ylabel('logR')\n",
    "plt.legend();"
   ]
  },
  {
   "cell_type": "markdown",
   "metadata": {},
   "source": [
    "Let's see the results of the fit. For the case of DifferentialEvolution uncertainties are estimated by estimating the Hessian/Covariance matrix."
   ]
  },
  {
   "cell_type": "code",
   "execution_count": 27,
   "metadata": {},
   "outputs": [
    {
     "name": "stdout",
     "output_type": "stream",
     "text": [
      "________________________________________________________________________________\n",
      "Objective - 4829712976\n",
      "Dataset = c_PLP0011859_q\n",
      "datapoints = 408\n",
      "chi2 = 921.484228321403\n",
      "Weighted = True\n",
      "Transform = Transform('logY')\n",
      "________________________________________________________________________________\n",
      "Parameters:       ''       \n",
      "________________________________________________________________________________\n",
      "Parameters: 'instrument parameters'\n",
      "<Parameter:    'scale'    , value=0.8797 +/- 0.00305, bounds=[0.6, 1.2]>\n",
      "<Parameter:     'bkg'     , value=4.42652e-07 +/- 2.13e-08, bounds=[1e-09, 9e-06]>\n",
      "<Parameter:'dq - resolution', value=5 (fixed)  , bounds=[-inf, inf]>\n",
      "________________________________________________________________________________\n",
      "Parameters: 'Structure - ' \n",
      "________________________________________________________________________________\n",
      "Parameters:      'Si'      \n",
      "<Parameter: 'Si - thick'  , value=0 (fixed)  , bounds=[-inf, inf]>\n",
      "<Parameter:  'Si - sld'   , value=2.07 (fixed)  , bounds=[-inf, inf]>\n",
      "<Parameter:  'Si - isld'  , value=0 (fixed)  , bounds=[-inf, inf]>\n",
      "<Parameter: 'Si - rough'  , value=0 (fixed)  , bounds=[-inf, inf]>\n",
      "<Parameter:'Si - volfrac solvent', value=0 (fixed)  , bounds=[0.0, 1.0]>\n",
      "________________________________________________________________________________\n",
      "Parameters:     'SiO2'     \n",
      "<Parameter:'SiO2 - thick' , value=38.9178 +/- 0.377, bounds=[15.0, 50.0]>\n",
      "<Parameter: 'SiO2 - sld'  , value=3.47 (fixed)  , bounds=[-inf, inf]>\n",
      "<Parameter: 'SiO2 - isld' , value=0 (fixed)  , bounds=[-inf, inf]>\n",
      "<Parameter:'SiO2 - rough' , value=5.85997 +/- 0.283, bounds=[1.0, 15.0]>\n",
      "<Parameter:'SiO2 - volfrac solvent', value=0 (fixed)  , bounds=[0.0, 1.0]>\n",
      "________________________________________________________________________________\n",
      "Parameters:     'film'     \n",
      "<Parameter:'film - thick' , value=258.835 +/- 0.252, bounds=[200.0, 300.0]>\n",
      "<Parameter: 'film - sld'  , value=2.40753 +/- 0.0129, bounds=[0.1, 3.0]>\n",
      "<Parameter: 'film - isld' , value=0 (fixed)  , bounds=[-inf, inf]>\n",
      "<Parameter:'film - rough' , value=8.97212 +/- 0.37 , bounds=[1.0, 15.0]>\n",
      "<Parameter:'film - volfrac solvent', value=0 (fixed)  , bounds=[0.0, 1.0]>\n",
      "________________________________________________________________________________\n",
      "Parameters:      'd2o'     \n",
      "<Parameter: 'd2o - thick' , value=0 (fixed)  , bounds=[-inf, inf]>\n",
      "<Parameter:  'd2o - sld'  , value=6.36 (fixed)  , bounds=[-inf, inf]>\n",
      "<Parameter: 'd2o - isld'  , value=0 (fixed)  , bounds=[-inf, inf]>\n",
      "<Parameter: 'd2o - rough' , value=3.69552 +/- 0.112, bounds=[1.0, 15.0]>\n",
      "<Parameter:'d2o - volfrac solvent', value=0 (fixed)  , bounds=[0.0, 1.0]>\n"
     ]
    }
   ],
   "source": [
    "print(objective)"
   ]
  },
  {
   "cell_type": "markdown",
   "metadata": {},
   "source": [
    "Now lets do a MCMC sampling of the curvefitting system. First we do 400 samples which we then discard (burn). These samples are discarded because the initial chain might not be representative of an equilibrated system (i.e. distributed around the mean with the correct covariance)."
   ]
  },
  {
   "cell_type": "code",
   "execution_count": 28,
   "metadata": {},
   "outputs": [
    {
     "name": "stderr",
     "output_type": "stream",
     "text": [
      "100%|██████████| 400/400 [01:15<00:00,  5.30it/s]\n"
     ]
    }
   ],
   "source": [
    "fitter.sample(400, pool=1)\n",
    "fitter.reset()"
   ]
  },
  {
   "cell_type": "markdown",
   "metadata": {},
   "source": [
    "We then follow up with a production run, only saving 1 in 100 samples. This is to remove autocorrelation. We save 15 steps, giving a total of 15 * 200 samples (200 walkers is the default)."
   ]
  },
  {
   "cell_type": "code",
   "execution_count": null,
   "metadata": {},
   "outputs": [
    {
     "name": "stderr",
     "output_type": "stream",
     "text": [
      " 90%|█████████ | 1356/1500 [04:12<00:26,  5.52it/s]"
     ]
    }
   ],
   "source": [
    "res = fitter.sample(15, nthin=100, pool=1)"
   ]
  },
  {
   "cell_type": "markdown",
   "metadata": {},
   "source": [
    "In the final output of the sampling each varying parameter is given a set of statistics. `Parameter.value` is the median of the chain samples. `Parameter.stderr` is half the [15, 85] percentile, representing a standard deviation."
   ]
  },
  {
   "cell_type": "code",
   "execution_count": null,
   "metadata": {},
   "outputs": [],
   "source": [
    "print(objective)"
   ]
  },
  {
   "cell_type": "markdown",
   "metadata": {},
   "source": [
    "A corner plot shows the covariance between parameters. You need to install the *matplotlib* and *corner* packages to create these graphs."
   ]
  },
  {
   "cell_type": "code",
   "execution_count": null,
   "metadata": {
    "scrolled": false
   },
   "outputs": [],
   "source": [
    "objective.corner();"
   ]
  },
  {
   "cell_type": "markdown",
   "metadata": {},
   "source": [
    "Once we've done the sampling we can look at the variation in the model at describing the data. In this example there isn't much spread."
   ]
  },
  {
   "cell_type": "code",
   "execution_count": null,
   "metadata": {},
   "outputs": [],
   "source": [
    "objective.plot(samples=300);"
   ]
  },
  {
   "cell_type": "markdown",
   "metadata": {},
   "source": [
    "In a similar manner we can look at the spread in SLD profiles consistent with the data."
   ]
  },
  {
   "cell_type": "code",
   "execution_count": null,
   "metadata": {},
   "outputs": [],
   "source": [
    "structure.plot(samples=300)\n",
    "plt.ylim(2.2, 6);"
   ]
  },
  {
   "cell_type": "markdown",
   "metadata": {},
   "source": [
    "## Fitting the BornAgain example"
   ]
  },
  {
   "cell_type": "markdown",
   "metadata": {},
   "source": [
    "[BornAgain](https://www.bornagainproject.org/) is another program for fitting reflectometry and GISAS data. The following cells repeat the analysis in their [specular fitting example]( https://github.com/scgmlz/BornAgain/blob/master/Examples/python/fitting/ex03_ExtendedExamples/specular/FitSpecularBasics.py). The simulated thickness of the Titanium layer is 30 Angstrom, but we'll start the fit with a value of 50."
   ]
  },
  {
   "cell_type": "code",
   "execution_count": null,
   "metadata": {},
   "outputs": [],
   "source": [
    "# necessary imports\n",
    "import numpy as np\n",
    "from refnx.util import q\n",
    "from refnx.analysis import Objective, CurveFitter, Transform\n",
    "from refnx.dataset import Data1D\n",
    "from refnx.reflect import SLD, Stack, ReflectModel"
   ]
  },
  {
   "cell_type": "code",
   "execution_count": null,
   "metadata": {},
   "outputs": [],
   "source": [
    "# first grab the data from the BornAgain repository.\n",
    "# The data was originally created in genx. \n",
    "import requests as req\n",
    "import io\n",
    "import gzip\n",
    "url = (\"https://github.com/scgmlz/BornAgain/raw/master\"\n",
    "       \"/Examples/python/fitting/ex03_ExtendedExamples\"\n",
    "       \"/specular/genx_interchanging_layers.dat.gz\")\n",
    "f = gzip.open(io.BytesIO(req.get(url).content))\n",
    "dataset = np.loadtxt(f, usecols=(0, 1), skiprows=3).T\n",
    "\n",
    "# data is saved as two_theta, convert to Q.\n",
    "dataset[0] = q(dataset[0] / 2, 1.54)"
   ]
  },
  {
   "cell_type": "code",
   "execution_count": null,
   "metadata": {},
   "outputs": [],
   "source": [
    "# make a dataset\n",
    "data = Data1D(data=dataset)"
   ]
  },
  {
   "cell_type": "code",
   "execution_count": null,
   "metadata": {},
   "outputs": [],
   "source": [
    "# make the structure\n",
    "air = SLD(0)\n",
    "si = SLD(2.0704) # silicon substrate\n",
    "ni = SLD(9.4245) # nickel\n",
    "ti = SLD(-1.9493) # titanium\n",
    "\n",
    "# make the layers\n",
    "ti_layer = ti(50)\n",
    "ni_layer = ni(70)\n",
    "\n",
    "# Make a multilayer by using a Stack Component\n",
    "stack = Stack()\n",
    "stack |= ti_layer\n",
    "stack |= ni_layer\n",
    "stack.repeats.value = 10\n",
    "\n",
    "structure = air | stack | si(0, 0)\n",
    "\n",
    "# put the Structure in a Model\n",
    "model = ReflectModel(structure, bkg=0, dq=0)"
   ]
  },
  {
   "cell_type": "code",
   "execution_count": null,
   "metadata": {},
   "outputs": [],
   "source": [
    "# we're only going to fit the Titanium thickness\n",
    "ti_layer.thick.setp(vary=True, bounds=(10, 60))\n",
    "\n",
    "# now do the fit\n",
    "objective = Objective(model, data, transform=Transform('logY'))\n",
    "fitter = CurveFitter(objective)"
   ]
  },
  {
   "cell_type": "code",
   "execution_count": null,
   "metadata": {},
   "outputs": [],
   "source": [
    "# now fit and plot\n",
    "fitter.fit('differential_evolution');\n",
    "fig, ax = objective.plot()"
   ]
  },
  {
   "cell_type": "code",
   "execution_count": null,
   "metadata": {},
   "outputs": [],
   "source": [
    "print(objective.chisqr())\n",
    "print(ti_layer)"
   ]
  }
 ],
 "metadata": {
  "kernelspec": {
   "display_name": "Python 3",
   "language": "python",
   "name": "python3"
  },
  "language_info": {
   "codemirror_mode": {
    "name": "ipython",
    "version": 3
   },
   "file_extension": ".py",
   "mimetype": "text/x-python",
   "name": "python",
   "nbconvert_exporter": "python",
   "pygments_lexer": "ipython3",
   "version": "3.8.2"
  },
  "pycharm": {
   "stem_cell": {
    "cell_type": "raw",
    "metadata": {
     "collapsed": false
    },
    "source": []
   }
  }
 },
 "nbformat": 4,
 "nbformat_minor": 1
}
