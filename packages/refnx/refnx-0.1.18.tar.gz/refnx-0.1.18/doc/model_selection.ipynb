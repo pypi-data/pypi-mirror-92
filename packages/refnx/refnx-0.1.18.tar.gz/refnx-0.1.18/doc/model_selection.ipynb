{
 "cells": [
  {
   "cell_type": "markdown",
   "metadata": {},
   "source": [
    "# Model selection using refnx and dynesty\n",
    "\n",
    "refnx + dynesty can be used to obtain the Bayesian evidence, which allows you to perform model selection."
   ]
  },
  {
   "cell_type": "code",
   "execution_count": 1,
   "metadata": {},
   "outputs": [],
   "source": [
    "%matplotlib inline\n",
    "import numpy as np\n",
    "import dynesty\n",
    "\n",
    "from refnx.analysis import Objective, Model, Parameter, Parameters\n",
    "from refnx.dataset import Data1D\n",
    "import matplotlib.pyplot as plt"
   ]
  },
  {
   "cell_type": "code",
   "execution_count": 2,
   "metadata": {},
   "outputs": [],
   "source": [
    "def gauss(x, p):\n",
    "    A, loc, sd = p\n",
    "    y = A * np.exp(-((x - loc) / sd)**2)\n",
    "\n",
    "    return y"
   ]
  },
  {
   "cell_type": "markdown",
   "metadata": {},
   "source": [
    "We'll synthesise some experimental data from two Gaussians with a linear background. We'll also add on some noise."
   ]
  },
  {
   "cell_type": "code",
   "execution_count": 3,
   "metadata": {},
   "outputs": [],
   "source": [
    "x = np.linspace(3, 7, 250)\n",
    "rng = np.random.default_rng(0)\n",
    "\n",
    "y = 4 + 10 * x + gauss(x, [200, 5, 0.5]) + gauss(x, [60, 5.8, 0.2])\n",
    "dy = np.sqrt(y)\n",
    "y += dy * rng.normal(size=np.size(y))\n",
    "\n",
    "data = Data1D((x, y, dy))"
   ]
  },
  {
   "cell_type": "code",
   "execution_count": 4,
   "metadata": {},
   "outputs": [
    {
     "data": {
      "image/png": "[encoded data removed]",
      "text/plain": [
       "<Figure size 432x288 with 1 Axes>"
      ]
     },
     "metadata": {
      "needs_background": "light"
     },
     "output_type": "display_data"
    }
   ],
   "source": [
    "data.plot();"
   ]
  },
  {
   "cell_type": "code",
   "execution_count": 5,
   "metadata": {},
   "outputs": [],
   "source": [
    "# this is our model that we want to fit.\n",
    "# It will have a linear background and a number of Gaussian peaks\n",
    "# The parameters for the background and each of the Gaussian peaks\n",
    "# will be held in separate entries in `p`.\n",
    "def n_gauss(x, p):\n",
    "    y = np.zeros_like(x)\n",
    "    \n",
    "    # background parameters\n",
    "    a, b = np.array(p[0])\n",
    "    y += a + b*x\n",
    "    \n",
    "    for i in range(1, len(p)):\n",
    "        g_pars = p[i]\n",
    "        A, loc, sd = np.array(g_pars)\n",
    "        y += gauss(x, [A, loc, sd])\n",
    "    return y"
   ]
  },
  {
   "cell_type": "code",
   "execution_count": 6,
   "metadata": {},
   "outputs": [
    {
     "name": "stderr",
     "output_type": "stream",
     "text": [
      "5907it [00:05, 1075.69it/s, +500 | bound: 14 | nc: 1 | ncall: 28160 | eff(%): 22.752 | loglstar:   -inf < -4233.325 <    inf | logz: -4244.268 +/-  0.198 | dlogz:  0.001 >  0.509]\n",
      "12557it [00:18, 696.48it/s, +500 | bound: 48 | nc: 1 | ncall: 53297 | eff(%): 24.499 | loglstar:   -inf < -1048.585 <    inf | logz: -1072.989 +/-  0.313 | dlogz:  0.001 >  0.509]\n",
      "17403it [11:47, 24.60it/s, +500 | bound: 2186 | nc: 1 | ncall: 1701762 | eff(%):  1.052 | loglstar:   -inf < -913.031 <    inf | logz: -947.230 +/-  0.372 | dlogz:  0.001 >  0.509]\n",
      "19222it [02:40, 119.67it/s, +500 | bound: 261 | nc: 1 | ncall: 461894 | eff(%):  4.270 | loglstar:   -inf < -911.813 <    inf | logz: -949.640 +/-  0.392 | dlogz:  0.001 >  0.509]\n"
     ]
    }
   ],
   "source": [
    "# the overall parameter set\n",
    "pars = Parameters(name=\"overall_parameters\")\n",
    "\n",
    "# parameters for the background\n",
    "bkg_pars = Parameters(name='bkg')  \n",
    "intercept = Parameter(1, name='intercept', bounds=(0, 200), vary=True)\n",
    "gradient = Parameter(1, name='gradient', bounds=(-20, 250), vary=True)\n",
    "bkg_pars.extend([intercept, gradient])\n",
    "\n",
    "pars.append(bkg_pars)\n",
    "\n",
    "# now go through and add in gaussian peaks and calculate the log-evidence\n",
    "model = Model(pars, n_gauss)\n",
    "logz = []\n",
    "for i in range(4):\n",
    "    if i:\n",
    "        A = Parameter(5, name=f\"A{i}\", bounds=(40, 250), vary=True)\n",
    "        loc = Parameter(5, name=f\"loc{i}\", bounds=(3, 7), vary=True)\n",
    "        sd = Parameter(5, name=f\"sd{i}\", bounds=(0.1, 2), vary=True)\n",
    "        g_pars = Parameters(data=[A, loc, sd], name=f\"gauss{i}\")\n",
    "        \n",
    "        pars.append(g_pars)\n",
    "    \n",
    "    objective = Objective(model, data)\n",
    "    nested_sampler = dynesty.NestedSampler(\n",
    "        objective.logl,\n",
    "        objective.prior_transform,\n",
    "        ndim=len(pars.varying_parameters())\n",
    "    )\n",
    "    nested_sampler.run_nested()\n",
    "    logz.append(nested_sampler.results.logz[-1])"
   ]
  },
  {
   "cell_type": "code",
   "execution_count": 7,
   "metadata": {},
   "outputs": [
    {
     "name": "stdout",
     "output_type": "stream",
     "text": [
      "[-4244.267669942061, -1072.989448001302, -947.2295781758878, -949.6400447012933]\n"
     ]
    }
   ],
   "source": [
    "print(logz)"
   ]
  },
  {
   "cell_type": "code",
   "execution_count": 8,
   "metadata": {},
   "outputs": [
    {
     "data": {
      "text/plain": [
       "[<matplotlib.lines.Line2D at 0x7fbe3bd87130>]"
      ]
     },
     "execution_count": 8,
     "metadata": {},
     "output_type": "execute_result"
    },
    {
     "data": {
      "image/png": "[encoded data removed]",
      "text/plain": [
       "<Figure size 432x288 with 1 Axes>"
      ]
     },
     "metadata": {
      "needs_background": "light"
     },
     "output_type": "display_data"
    }
   ],
   "source": [
    "plt.plot(logz)"
   ]
  },
  {
   "cell_type": "markdown",
   "metadata": {},
   "source": [
    "The log-evidence points to the use of 2 Gaussians to fit the data. There is a sufficient increase in evidence over 1 Gaussian. However, 3 Gaussians is not justified, the logz term does not increase."
   ]
  },
  {
   "cell_type": "code",
   "execution_count": null,
   "metadata": {},
   "outputs": [],
   "source": []
  }
 ],
 "metadata": {
  "kernelspec": {
   "display_name": "Python 3",
   "language": "python",
   "name": "python3"
  },
  "language_info": {
   "codemirror_mode": {
    "name": "ipython",
    "version": 3
   },
   "file_extension": ".py",
   "mimetype": "text/x-python",
   "name": "python",
   "nbconvert_exporter": "python",
   "pygments_lexer": "ipython3",
   "version": "3.8.5"
  }
 },
 "nbformat": 4,
 "nbformat_minor": 4
}
