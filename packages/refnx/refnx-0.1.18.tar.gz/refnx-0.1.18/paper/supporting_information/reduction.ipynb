{
 "cells": [
  {
   "cell_type": "code",
   "execution_count": 4,
   "metadata": {},
   "outputs": [],
   "source": [
    "from refnx.reduce import catalogue\n",
    "from refnx.reduce import PlatypusNexus, PlatypusReduce\n",
    "from refnx.reduce.manual_beam_finder import ManualBeamFinder\n",
    "from refnx.dataset import ReflectDataset\n",
    "%gui qt"
   ]
  },
  {
   "cell_type": "markdown",
   "metadata": {},
   "source": [
    "16589, 16590, 16591 are the direct beams\n",
    "16595, 16596, 16597 are d2o contrast\n",
    "16601, 16602, 16603 are hdmix\n",
    "16607, 16608, 16609 are h2o"
   ]
  },
  {
   "cell_type": "code",
   "execution_count": 5,
   "metadata": {},
   "outputs": [],
   "source": [
    "r1 = PlatypusReduce('PLP0016589.nx.hdf')\n",
    "r2 = PlatypusReduce('PLP0016590.nx.hdf')\n",
    "r3 = PlatypusReduce('PLP0016591.nx.hdf')"
   ]
  },
  {
   "cell_type": "code",
   "execution_count": 6,
   "metadata": {},
   "outputs": [],
   "source": [
    "r1.reduce('PLP0016595.nx.hdf', rebin_percent=3, background=True)\n",
    "r2.reduce('PLP0016596.nx.hdf', rebin_percent=3, background=True)\n",
    "r3.reduce('PLP0016597.nx.hdf', rebin_percent=3, background=True)\n",
    "d1 = ReflectDataset()\n",
    "d1.add_data(r1.data())\n",
    "d1.add_data(r2.data(), requires_splice=True)\n",
    "d1.add_data(r3.data(), requires_splice=True)\n",
    "d1.save('c_PLP0016596.dat')"
   ]
  },
  {
   "cell_type": "code",
   "execution_count": 7,
   "metadata": {},
   "outputs": [],
   "source": [
    "mbf = ManualBeamFinder()"
   ]
  },
  {
   "cell_type": "code",
   "execution_count": 12,
   "metadata": {},
   "outputs": [],
   "source": [
    "r1.reduce('PLP0016601.nx.hdf', rebin_percent=4, background=True, hi_wavelength=14, lo_wavelength=3)\n",
    "r2.reduce('PLP0016602.nx.hdf', rebin_percent=4, background=True, hi_wavelength=16, lo_wavelength=3)\n",
    "r3.reduce('PLP0016603.nx.hdf', rebin_percent=4, background=True, hi_wavelength=16, lo_wavelength=3)\n",
    "d1 = ReflectDataset()\n",
    "d1.add_data(r1.data())\n",
    "d1.add_data(r2.data(), requires_splice=True)\n",
    "d1.add_data(r3.data(), requires_splice=True)\n",
    "d1.save('c_PLP0016601.dat')"
   ]
  },
  {
   "cell_type": "code",
   "execution_count": 9,
   "metadata": {},
   "outputs": [],
   "source": [
    "r1.reduce('PLP0016607.nx.hdf', rebin_percent=4, background=True, hi_wavelength=17, lo_wavelength=3, peak_pos=-1,\n",
    "          manual_beam_find=mbf)\n",
    "r2.reduce('PLP0016608.nx.hdf', rebin_percent=4, background=True, hi_wavelength=17, lo_wavelength=3, peak_pos=-1,\n",
    "          manual_beam_find=mbf)\n",
    "r3.reduce('PLP0016609.nx.hdf', rebin_percent=4, background=True, hi_wavelength=17, lo_wavelength=3 , peak_pos=-1,\n",
    "          manual_beam_find=mbf)\n",
    "d1 = ReflectDataset()\n",
    "d1.add_data(r1.data())\n",
    "d1.add_data(r2.data(), requires_splice=True)\n",
    "d1.add_data(r3.data(), requires_splice=True)\n",
    "d1.save('c_PLP0016607.dat')"
   ]
  }
 ],
 "metadata": {
  "kernelspec": {
   "display_name": "Python 3",
   "language": "python",
   "name": "python3"
  },
  "language_info": {
   "codemirror_mode": {
    "name": "ipython",
    "version": 3
   },
   "file_extension": ".py",
   "mimetype": "text/x-python",
   "name": "python",
   "nbconvert_exporter": "python",
   "pygments_lexer": "ipython3",
   "version": "3.7.0"
  }
 },
 "nbformat": 4,
 "nbformat_minor": 2
}
