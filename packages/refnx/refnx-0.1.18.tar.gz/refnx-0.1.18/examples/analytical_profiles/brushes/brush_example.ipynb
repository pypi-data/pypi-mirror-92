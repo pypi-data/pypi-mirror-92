{
 "cells": [
  {
   "cell_type": "code",
   "execution_count": null,
   "metadata": {},
   "outputs": [],
   "source": [
    "%load_ext autoreload\n",
    "%autoreload 2\n",
    "%matplotlib inline"
   ]
  },
  {
   "cell_type": "code",
   "execution_count": null,
   "metadata": {},
   "outputs": [],
   "source": [
    "import numpy as np\n",
    "import matplotlib.pyplot as plt"
   ]
  },
  {
   "cell_type": "code",
   "execution_count": null,
   "metadata": {},
   "outputs": [],
   "source": [
    "from scipy.stats import norm\n",
    "from refnx.analysis import possibly_create_parameter, Parameter, PDF\n",
    "from refnx.reflect import SLD, Slab, Structure, Spline\n",
    "from brush import FreeformVFP"
   ]
  },
  {
   "cell_type": "code",
   "execution_count": null,
   "metadata": {},
   "outputs": [],
   "source": [
    "si = SLD(2.07)\n",
    "sio2 = SLD(3.47)\n",
    "polymer = SLD(1.5)\n",
    "d2o = SLD(6.36)\n",
    "d2o_layer = d2o(0, 3)\n",
    "polymer_layer = polymer(20, 3)"
   ]
  },
  {
   "cell_type": "code",
   "execution_count": null,
   "metadata": {},
   "outputs": [],
   "source": [
    "# gamma is the area under vfp\n",
    "gamma = Parameter(56.5, 'gamma')\n",
    "# mean amount is 56.6 with an SD of 5.\n",
    "gamma.bounds = PDF(rv=norm(56.6, 5))\n",
    "\n",
    "# set up the VFP component\n",
    "s = FreeformVFP(100, [0.5], [0.5], polymer, d2o, left_slabs=[polymer_layer], gamma=gamma)"
   ]
  },
  {
   "cell_type": "code",
   "execution_count": null,
   "metadata": {},
   "outputs": [],
   "source": [
    "# set up film structure. Note that polymer_layer still has to be included.\n",
    "film = si | sio2(10, 3) | polymer_layer | s | d2o_layer"
   ]
  },
  {
   "cell_type": "code",
   "execution_count": null,
   "metadata": {},
   "outputs": [],
   "source": [
    "# for a separate polymer slab you need to specify vf of solvent, NOT THE VF OF MATERIAL!!!\n",
    "# this means initial vf of FreeformVFP is going to be 0.7.\n",
    "polymer_layer.vfsolv.value=0.3\n",
    "\n",
    "# the FreeformVFP does not include left and right slabs yet.\n",
    "z = np.linspace(0, 110, 111)\n",
    "plt.plot(z, s(z))"
   ]
  },
  {
   "cell_type": "code",
   "execution_count": null,
   "metadata": {},
   "outputs": [],
   "source": [
    "q = film.sld_profile()\n",
    "plt.plot(q[0], q[1])"
   ]
  },
  {
   "cell_type": "code",
   "execution_count": null,
   "metadata": {},
   "outputs": [],
   "source": [
    "# area under the VFP\n",
    "s.profile_area()"
   ]
  },
  {
   "cell_type": "code",
   "execution_count": null,
   "metadata": {},
   "outputs": [],
   "source": [
    "# probability of that area compared to the initial gamma we specified.\n",
    "film.logp()"
   ]
  }
 ],
 "metadata": {
  "kernelspec": {
   "display_name": "Python 3",
   "language": "python",
   "name": "python3"
  },
  "language_info": {
   "codemirror_mode": {
    "name": "ipython",
    "version": 3
   },
   "file_extension": ".py",
   "mimetype": "text/x-python",
   "name": "python",
   "nbconvert_exporter": "python",
   "pygments_lexer": "ipython3",
   "version": "3.6.3"
  }
 },
 "nbformat": 4,
 "nbformat_minor": 2
}
