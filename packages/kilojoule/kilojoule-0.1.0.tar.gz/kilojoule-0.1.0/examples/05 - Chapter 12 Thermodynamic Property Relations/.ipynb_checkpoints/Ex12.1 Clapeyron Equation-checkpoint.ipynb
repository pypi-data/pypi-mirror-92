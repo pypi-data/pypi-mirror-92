{
 "cells": [
  {
   "cell_type": "markdown",
   "metadata": {},
   "source": [
    "# Example 11.1: Ideal Refrigeration\n",
    "\n",
    "*John F. Maddox, Ph.D., P.E.<br>\n",
    "University of Kentucky - Paducah Campus<br>\n",
    "ME 321: Engineering Thermodynamics II<br>*"
   ]
  },
  {
   "attachments": {
    "e047931f-9241-45a0-ba9d-e5e372395e5d.png": {
     "image/png": "[encoded data removed]"
    }
   },
   "cell_type": "markdown",
   "metadata": {},
   "source": [
    "## Problem Statement\n",
    "R-134a flows through a vapor-compression refrigeration cycle.  Heat is removed at a rate of 18 kW from a freezer at $-8^\\circ\\mathrm{C}$.  Heat is rejected to a room at $22^\\circ\\mathrm{C}$.  The evaporator and the condenser are $10^\\circ\\mathrm{C}$ colder or hotter than the thermal reservoirs. Find:\n",
    "* (a) $p_\\mathrm{evap}$ and $p_\\mathrm{cond}$ (kPa)\n",
    "* (b) $COP_R$\n",
    "* (c) Net Work\n",
    "* (d) Volumetric flow rate entering the compressor\n",
    "\n",
    "![image.png](attachment:e047931f-9241-45a0-ba9d-e5e372395e5d.png)"
   ]
  },
  {
   "cell_type": "markdown",
   "metadata": {},
   "source": [
    "## Solution\n"
   ]
  },
  {
   "cell_type": "markdown",
   "metadata": {},
   "source": [
    "### Python Initialization\n",
    "We'll start by importing the libraries we will use for our analysis and initializing dictionaries to hold the properties we will be usings."
   ]
  },
  {
   "cell_type": "code",
   "execution_count": 1,
   "metadata": {
    "collapsed": false,
    "jupyter": {
     "outputs_hidden": false
    }
   },
   "outputs": [],
   "source": [
    "from thermoJFM.templates.default import *\n",
    "   \n",
    "r134a = realfluid.Properties('R134a')"
   ]
  },
  {
   "cell_type": "markdown",
   "metadata": {},
   "source": [
    "### Given Parameters\n",
    "We now define variables to hold our known values."
   ]
  },
  {
   "cell_type": "code",
   "execution_count": 2,
   "metadata": {
    "collapsed": false,
    "jupyter": {
     "outputs_hidden": false
    }
   },
   "outputs": [
    {
     "data": {
      "text/latex": [
       "\\[\\begin{aligned}{ \\Delta T }&={  10\\ \\mathrm{Δ°C}  }&{ \\dot{Q}_{in} }&={  18\\ \\mathrm{kW}  }&{ T_{H} }&={  22\\ \\mathrm{°C}  }\\\\{ T_{L} }&={  -8\\ \\mathrm{°C}  }&{  }\\end{aligned}\\]"
      ],
      "text/plain": [
       "<IPython.core.display.Latex object>"
      ]
     },
     "metadata": {},
     "output_type": "display_data"
    },
    {
     "data": {
      "text/html": [
       "<table border=\"1\" class=\"dataframe\">\n",
       "  <thead>\n",
       "    <tr style=\"text-align: right;\">\n",
       "      <th></th>\n",
       "    </tr>\n",
       "  </thead>\n",
       "  <tbody>\n",
       "  </tbody>\n",
       "</table>"
      ],
      "text/plain": [
       "<IPython.core.display.HTML object>"
      ]
     },
     "metadata": {},
     "output_type": "display_data"
    }
   ],
   "source": [
    "Qdot_in = Quantity(18,'kW')   # Rate of heat input\n",
    "T_L = Quantity(-8,'degC')     # Temperature of refrigerated space\n",
    "T_H = Quantity(22,'degC')     # Temperature of surroundings\n",
    "Delta_T = Quantity(10,'delta_degC') # Temperature difference in evaporator and condenser\n",
    "\n",
    "display.Summary(locals());"
   ]
  },
  {
   "cell_type": "markdown",
   "metadata": {},
   "source": [
    "### Assumptions\n",
    "- Ideal work devices\n",
    "- Saturated vapor at evaporator exit\n",
    "- Saturated liquid at condenser exit\n",
    "- Isobaric heat exchangers\n",
    "- Negligible changes in kinetic energy\n",
    "- Negligible changes in potential energy"
   ]
  },
  {
   "cell_type": "code",
   "execution_count": 3,
   "metadata": {
    "collapsed": false,
    "jupyter": {
     "outputs_hidden": false
    }
   },
   "outputs": [
    {
     "data": {
      "text/latex": [
       "\\[\\begin{aligned}{ \\Delta T }&={  10\\ \\mathrm{Δ°C}  }&{ \\dot{Q}_{in} }&={  18\\ \\mathrm{kW}  }&{ T_{H} }&={  22\\ \\mathrm{°C}  }\\\\{ T_{L} }&={  -8\\ \\mathrm{°C}  }&{  }\\end{aligned}\\]"
      ],
      "text/plain": [
       "<IPython.core.display.Latex object>"
      ]
     },
     "metadata": {},
     "output_type": "display_data"
    },
    {
     "data": {
      "text/html": [
       "<table border=\"1\" class=\"dataframe\">\n",
       "  <thead>\n",
       "    <tr style=\"text-align: right;\">\n",
       "      <th></th>\n",
       "      <th>x []</th>\n",
       "    </tr>\n",
       "  </thead>\n",
       "  <tbody>\n",
       "    <tr>\n",
       "      <th>1</th>\n",
       "      <td>1</td>\n",
       "    </tr>\n",
       "    <tr>\n",
       "      <th>3</th>\n",
       "      <td>0</td>\n",
       "    </tr>\n",
       "  </tbody>\n",
       "</table>"
      ],
      "text/plain": [
       "<IPython.core.display.HTML object>"
      ]
     },
     "metadata": {},
     "output_type": "display_data"
    }
   ],
   "source": [
    "x[1] = 1      # Saturated vapor at evaporator exit\n",
    "x[3] = 0      # Saturated liquid at condenser exit\n",
    "\n",
    "display.Summary(locals());"
   ]
  },
  {
   "cell_type": "markdown",
   "metadata": {},
   "source": [
    "### (a) Pressures in condenser and evaporator"
   ]
  },
  {
   "cell_type": "code",
   "execution_count": 4,
   "metadata": {
    "collapsed": false,
    "jupyter": {
     "outputs_hidden": false
    }
   },
   "outputs": [
    {
     "data": {
      "text/markdown": [
       "### Evaporator pressure"
      ],
      "text/plain": [
       "<IPython.core.display.Markdown object>"
      ]
     },
     "metadata": {},
     "output_type": "display_data"
    },
    {
     "data": {
      "text/markdown": [
       " The working fluid temperature must be lower than the refrigerated space"
      ],
      "text/plain": [
       "<IPython.core.display.Markdown object>"
      ]
     },
     "metadata": {},
     "output_type": "display_data"
    },
    {
     "data": {
      "text/latex": [
       "\\[\n",
       "  \\begin{aligned}{ T_{1} }&={ T_{L} - \\Delta{}T }\\\\\n",
       "    &={ \\left( -8\\ \\mathrm{°C} \\right) - \\left( 10\\ \\mathrm{Δ°C} \\right) }\\\\\n",
       "    &={  -18\\ \\mathrm{°C}  }\n",
       "  \\end{aligned}\n",
       "\\]\n"
      ],
      "text/plain": [
       "<IPython.core.display.Latex object>"
      ]
     },
     "metadata": {},
     "output_type": "display_data"
    },
    {
     "data": {
      "text/markdown": [
       " The fluid is saturated, so the saturation pressure must be consistent with the saturation temperature"
      ],
      "text/plain": [
       "<IPython.core.display.Markdown object>"
      ]
     },
     "metadata": {},
     "output_type": "display_data"
    },
    {
     "data": {
      "text/latex": [
       "\\[\n",
       "  \\begin{aligned}\n",
       "    { p_{1} }&={ r134a.p(T[1],x[1]) } = { 144.6\\ \\mathrm{kPa}  }\n",
       "  \\end{aligned}\n",
       "\\]\n"
      ],
      "text/plain": [
       "<IPython.core.display.Latex object>"
      ]
     },
     "metadata": {},
     "output_type": "display_data"
    },
    {
     "data": {
      "text/markdown": [
       "### Condenser pressure"
      ],
      "text/plain": [
       "<IPython.core.display.Markdown object>"
      ]
     },
     "metadata": {},
     "output_type": "display_data"
    },
    {
     "data": {
      "text/markdown": [
       " The working fluid temperature must be hotter than the surroundings"
      ],
      "text/plain": [
       "<IPython.core.display.Markdown object>"
      ]
     },
     "metadata": {},
     "output_type": "display_data"
    },
    {
     "data": {
      "text/latex": [
       "\\[\n",
       "  \\begin{aligned}{ T_{3} }&={ T_{H} + \\Delta{}T }\\\\\n",
       "    &={ \\left( 22\\ \\mathrm{°C} \\right) + \\left( 10\\ \\mathrm{Δ°C} \\right) }\\\\\n",
       "    &={  32\\ \\mathrm{°C}  }\n",
       "  \\end{aligned}\n",
       "\\]\n"
      ],
      "text/plain": [
       "<IPython.core.display.Latex object>"
      ]
     },
     "metadata": {},
     "output_type": "display_data"
    },
    {
     "data": {
      "text/markdown": [
       " The fluid is saturated, so the saturation pressure must be consistent with the saturation temperature"
      ],
      "text/plain": [
       "<IPython.core.display.Markdown object>"
      ]
     },
     "metadata": {},
     "output_type": "display_data"
    },
    {
     "data": {
      "text/latex": [
       "\\[\n",
       "  \\begin{aligned}\n",
       "    { p_{3} }&={ r134a.p(T[3],x[3]) } = { 815.43\\ \\mathrm{kPa}  }\n",
       "  \\end{aligned}\n",
       "\\]\n"
      ],
      "text/plain": [
       "<IPython.core.display.Latex object>"
      ]
     },
     "metadata": {},
     "output_type": "display_data"
    }
   ],
   "source": [
    "#### Evaporator pressure\n",
    "# The working fluid temperature must be lower than the refrigerated space\n",
    "T[1] = T_L - Delta_T\n",
    "# The fluid is saturated, so the saturation pressure must be consistent with the saturation temperature\n",
    "p[1] = r134a.p(T[1],x[1])\n",
    "\n",
    "#### Condenser pressure\n",
    "# The working fluid temperature must be hotter than the surroundings\n",
    "T[3] = T_H + Delta_T\n",
    "# The fluid is saturated, so the saturation pressure must be consistent with the saturation temperature\n",
    "p[3] = r134a.p(T[3],x[3])\n",
    "\n",
    "display.Calculations(locals(),comments=True);"
   ]
  },
  {
   "cell_type": "markdown",
   "metadata": {},
   "source": [
    "### (b) $COP_R$"
   ]
  },
  {
   "cell_type": "code",
   "execution_count": 5,
   "metadata": {
    "collapsed": false,
    "jupyter": {
     "outputs_hidden": false
    }
   },
   "outputs": [
    {
     "data": {
      "text/markdown": [
       "### 1st Law Analysis"
      ],
      "text/plain": [
       "<IPython.core.display.Markdown object>"
      ]
     },
     "metadata": {},
     "output_type": "display_data"
    },
    {
     "data": {
      "text/markdown": [
       "#### State 1"
      ],
      "text/plain": [
       "<IPython.core.display.Markdown object>"
      ]
     },
     "metadata": {},
     "output_type": "display_data"
    },
    {
     "data": {
      "text/latex": [
       "\\[\n",
       "  \\begin{aligned}\n",
       "    { h_{1} }&={ r134a.h(T[1],x[1]) } = { 387.79\\ \\frac{\\mathrm{kJ}}{\\mathrm{kg}}  }\n",
       "  \\end{aligned}\n",
       "\\]\n"
      ],
      "text/plain": [
       "<IPython.core.display.Latex object>"
      ]
     },
     "metadata": {},
     "output_type": "display_data"
    },
    {
     "data": {
      "text/latex": [
       "\\[\n",
       "  \\begin{aligned}\n",
       "    { s_{1} }&={ r134a.s(T[1],x[1]) } = { 1.7396\\ \\frac{\\mathrm{kJ}}{\\left(\\mathrm{K} \\cdot \\mathrm{kg}\\right)}  }\n",
       "  \\end{aligned}\n",
       "\\]\n"
      ],
      "text/plain": [
       "<IPython.core.display.Latex object>"
      ]
     },
     "metadata": {},
     "output_type": "display_data"
    },
    {
     "data": {
      "text/markdown": [
       "#### 1-2) Ideal compression"
      ],
      "text/plain": [
       "<IPython.core.display.Markdown object>"
      ]
     },
     "metadata": {},
     "output_type": "display_data"
    },
    {
     "data": {
      "text/latex": [
       "\\[\n",
       "  \\begin{aligned}\n",
       "    { p_{2} }&={ p_{3} } = { 815.43\\ \\mathrm{kPa}  }\n",
       "  \\end{aligned}\n",
       "\\]\n"
      ],
      "text/plain": [
       "<IPython.core.display.Latex object>"
      ]
     },
     "metadata": {},
     "output_type": "display_data"
    },
    {
     "data": {
      "text/latex": [
       "\\[\n",
       "  \\begin{aligned}\n",
       "    { s_{2} }&={ s_{1} } = { 1.7396\\ \\frac{\\mathrm{kJ}}{\\left(\\mathrm{K} \\cdot \\mathrm{kg}\\right)}  }\n",
       "  \\end{aligned}\n",
       "\\]\n"
      ],
      "text/plain": [
       "<IPython.core.display.Latex object>"
      ]
     },
     "metadata": {},
     "output_type": "display_data"
    },
    {
     "data": {
      "text/markdown": [
       "#### State 2"
      ],
      "text/plain": [
       "<IPython.core.display.Markdown object>"
      ]
     },
     "metadata": {},
     "output_type": "display_data"
    },
    {
     "data": {
      "text/latex": [
       "\\[\n",
       "  \\begin{aligned}\n",
       "    { T_{2} }&={ r134a.T(p[2],s[2]) } = { 39.506\\ \\mathrm{°C}  }\n",
       "  \\end{aligned}\n",
       "\\]\n"
      ],
      "text/plain": [
       "<IPython.core.display.Latex object>"
      ]
     },
     "metadata": {},
     "output_type": "display_data"
    },
    {
     "data": {
      "text/latex": [
       "\\[\n",
       "  \\begin{aligned}\n",
       "    { h_{2} }&={ r134a.h(p[2],s[2]) } = { 423.74\\ \\frac{\\mathrm{kJ}}{\\mathrm{kg}}  }\n",
       "  \\end{aligned}\n",
       "\\]\n"
      ],
      "text/plain": [
       "<IPython.core.display.Latex object>"
      ]
     },
     "metadata": {},
     "output_type": "display_data"
    },
    {
     "data": {
      "text/markdown": [
       "#### 2-3) Isobaric heat rejection"
      ],
      "text/plain": [
       "<IPython.core.display.Markdown object>"
      ]
     },
     "metadata": {},
     "output_type": "display_data"
    },
    {
     "data": {
      "text/markdown": [
       "#### State 3"
      ],
      "text/plain": [
       "<IPython.core.display.Markdown object>"
      ]
     },
     "metadata": {},
     "output_type": "display_data"
    },
    {
     "data": {
      "text/latex": [
       "\\[\n",
       "  \\begin{aligned}\n",
       "    { T_{3} }&={ r134a.T(p[3],x[3]) } = { 32.0\\ \\mathrm{°C}  }\n",
       "  \\end{aligned}\n",
       "\\]\n"
      ],
      "text/plain": [
       "<IPython.core.display.Latex object>"
      ]
     },
     "metadata": {},
     "output_type": "display_data"
    },
    {
     "data": {
      "text/latex": [
       "\\[\n",
       "  \\begin{aligned}\n",
       "    { h_{3} }&={ r134a.h(p[3],x[3]) } = { 244.62\\ \\frac{\\mathrm{kJ}}{\\mathrm{kg}}  }\n",
       "  \\end{aligned}\n",
       "\\]\n"
      ],
      "text/plain": [
       "<IPython.core.display.Latex object>"
      ]
     },
     "metadata": {},
     "output_type": "display_data"
    },
    {
     "data": {
      "text/latex": [
       "\\[\n",
       "  \\begin{aligned}\n",
       "    { s_{3} }&={ r134a.s(p[3],x[3]) } = { 1.1529\\ \\frac{\\mathrm{kJ}}{\\left(\\mathrm{K} \\cdot \\mathrm{kg}\\right)}  }\n",
       "  \\end{aligned}\n",
       "\\]\n"
      ],
      "text/plain": [
       "<IPython.core.display.Latex object>"
      ]
     },
     "metadata": {},
     "output_type": "display_data"
    },
    {
     "data": {
      "text/markdown": [
       "#### 3-4) Isenthalpic expansion"
      ],
      "text/plain": [
       "<IPython.core.display.Markdown object>"
      ]
     },
     "metadata": {},
     "output_type": "display_data"
    },
    {
     "data": {
      "text/latex": [
       "\\[\n",
       "  \\begin{aligned}\n",
       "    { p_{4} }&={ p_{1} } = { 144.6\\ \\mathrm{kPa}  }\n",
       "  \\end{aligned}\n",
       "\\]\n"
      ],
      "text/plain": [
       "<IPython.core.display.Latex object>"
      ]
     },
     "metadata": {},
     "output_type": "display_data"
    },
    {
     "data": {
      "text/latex": [
       "\\[\n",
       "  \\begin{aligned}\n",
       "    { h_{4} }&={ h_{3} } = { 244.62\\ \\frac{\\mathrm{kJ}}{\\mathrm{kg}}  }\n",
       "  \\end{aligned}\n",
       "\\]\n"
      ],
      "text/plain": [
       "<IPython.core.display.Latex object>"
      ]
     },
     "metadata": {},
     "output_type": "display_data"
    },
    {
     "data": {
      "text/markdown": [
       "#### State 4"
      ],
      "text/plain": [
       "<IPython.core.display.Markdown object>"
      ]
     },
     "metadata": {},
     "output_type": "display_data"
    },
    {
     "data": {
      "text/latex": [
       "\\[\n",
       "  \\begin{aligned}\n",
       "    { T_{4} }&={ r134a.T(p[4],h[4]) } = { -18.0\\ \\mathrm{°C}  }\n",
       "  \\end{aligned}\n",
       "\\]\n"
      ],
      "text/plain": [
       "<IPython.core.display.Latex object>"
      ]
     },
     "metadata": {},
     "output_type": "display_data"
    },
    {
     "data": {
      "text/latex": [
       "\\[\n",
       "  \\begin{aligned}\n",
       "    { s_{4} }&={ r134a.s(p[4],h[4]) } = { 1.1785\\ \\frac{\\mathrm{kJ}}{\\left(\\mathrm{K} \\cdot \\mathrm{kg}\\right)}  }\n",
       "  \\end{aligned}\n",
       "\\]\n"
      ],
      "text/plain": [
       "<IPython.core.display.Latex object>"
      ]
     },
     "metadata": {},
     "output_type": "display_data"
    },
    {
     "data": {
      "text/latex": [
       "\\[\n",
       "  \\begin{aligned}\n",
       "    { x_{4} }&={ r134a.x(p[4],h[4]) } = { 0.32328\\  }\n",
       "  \\end{aligned}\n",
       "\\]\n"
      ],
      "text/plain": [
       "<IPython.core.display.Latex object>"
      ]
     },
     "metadata": {},
     "output_type": "display_data"
    },
    {
     "data": {
      "text/markdown": [
       "#### COP"
      ],
      "text/plain": [
       "<IPython.core.display.Markdown object>"
      ]
     },
     "metadata": {},
     "output_type": "display_data"
    },
    {
     "data": {
      "text/markdown": [
       " Desired: Heat Input"
      ],
      "text/plain": [
       "<IPython.core.display.Markdown object>"
      ]
     },
     "metadata": {},
     "output_type": "display_data"
    },
    {
     "data": {
      "text/latex": [
       "\\[\n",
       "  \\begin{aligned}{ q_{in} }&={ h_{1} - h_{4} }\\\\\n",
       "    &={ \\left( 387.79\\ \\frac{\\mathrm{kJ}}{\\mathrm{kg}} \\right) - \\left( 244.62\\ \\frac{\\mathrm{kJ}}{\\mathrm{kg}} \\right) }\\\\\n",
       "    &={  143.17\\ \\frac{\\mathrm{kJ}}{\\mathrm{kg}}  }\n",
       "  \\end{aligned}\n",
       "\\]\n"
      ],
      "text/plain": [
       "<IPython.core.display.Latex object>"
      ]
     },
     "metadata": {},
     "output_type": "display_data"
    },
    {
     "data": {
      "text/markdown": [
       " Cost: Net Work"
      ],
      "text/plain": [
       "<IPython.core.display.Markdown object>"
      ]
     },
     "metadata": {},
     "output_type": "display_data"
    },
    {
     "data": {
      "text/latex": [
       "\\[\n",
       "  \\begin{aligned}{ w_{net} }&={ h_{2} - h_{1} }\\\\\n",
       "    &={ \\left( 423.74\\ \\frac{\\mathrm{kJ}}{\\mathrm{kg}} \\right) - \\left( 387.79\\ \\frac{\\mathrm{kJ}}{\\mathrm{kg}} \\right) }\\\\\n",
       "    &={  35.95\\ \\frac{\\mathrm{kJ}}{\\mathrm{kg}}  }\n",
       "  \\end{aligned}\n",
       "\\]\n"
      ],
      "text/plain": [
       "<IPython.core.display.Latex object>"
      ]
     },
     "metadata": {},
     "output_type": "display_data"
    },
    {
     "data": {
      "text/markdown": [
       " COP: Desired/Cost"
      ],
      "text/plain": [
       "<IPython.core.display.Markdown object>"
      ]
     },
     "metadata": {},
     "output_type": "display_data"
    },
    {
     "data": {
      "text/latex": [
       "\\[\n",
       "  \\begin{aligned}{ COP_{R} }&={ \\frac{q_{in}}{w_{net}} }\\\\\n",
       "    &={ \\frac{\\left( 143.17\\ \\frac{\\mathrm{kJ}}{\\mathrm{kg}} \\right)}{\\left( 35.95\\ \\frac{\\mathrm{kJ}}{\\mathrm{kg}} \\right)} }\\\\\n",
       "    &={  3.9824\\  }\n",
       "  \\end{aligned}\n",
       "\\]\n"
      ],
      "text/plain": [
       "<IPython.core.display.Latex object>"
      ]
     },
     "metadata": {},
     "output_type": "display_data"
    }
   ],
   "source": [
    "#### 1st Law Analysis\n",
    "##### State 1\n",
    "h[1] = r134a.h(T[1],x[1])\n",
    "s[1] = r134a.s(T[1],x[1])\n",
    "\n",
    "##### 1-2) Ideal compression\n",
    "p[2] = p[3]\n",
    "s[2] = s[1]\n",
    "\n",
    "##### State 2\n",
    "T[2] = r134a.T(p[2],s[2])\n",
    "h[2] = r134a.h(p[2],s[2])\n",
    "\n",
    "##### 2-3) Isobaric heat rejection\n",
    "##### State 3\n",
    "T[3] = r134a.T(p[3],x[3])\n",
    "h[3] = r134a.h(p[3],x[3])\n",
    "s[3] = r134a.s(p[3],x[3])\n",
    "\n",
    "##### 3-4) Isenthalpic expansion\n",
    "p[4] = p[1]\n",
    "h[4] = h[3]\n",
    "\n",
    "##### State 4\n",
    "T[4] = r134a.T(p[4],h[4])\n",
    "s[4] = r134a.s(p[4],h[4])\n",
    "x[4] = r134a.x(p[4],h[4])\n",
    "\n",
    "##### COP\n",
    "# Desired: Heat Input\n",
    "q_in = h[1]-h[4]\n",
    "# Cost: Net Work\n",
    "w_net = h[2]-h[1]\n",
    "# COP: Desired/Cost\n",
    "COP_R = q_in/w_net\n",
    "\n",
    "display.Calculations(locals(), comments=True);"
   ]
  },
  {
   "cell_type": "markdown",
   "metadata": {},
   "source": [
    "### (c) Net Work"
   ]
  },
  {
   "cell_type": "code",
   "execution_count": 6,
   "metadata": {
    "collapsed": false,
    "jupyter": {
     "outputs_hidden": false
    }
   },
   "outputs": [
    {
     "data": {
      "text/latex": [
       "\\[\n",
       "  \\begin{aligned}{ \\dot{m} }&={ \\frac{\\dot{Q}_{in}}{q_{in}} }\\\\\n",
       "    &={ \\frac{\\left( 18\\ \\mathrm{kW} \\right)}{\\left( 143.17\\ \\frac{\\mathrm{kJ}}{\\mathrm{kg}} \\right)} }\\\\\n",
       "    &={  0.12573\\ \\frac{\\mathrm{kW} \\cdot \\mathrm{kg}}{\\mathrm{kJ}}  }\n",
       "  \\end{aligned}\n",
       "\\]\n"
      ],
      "text/plain": [
       "<IPython.core.display.Latex object>"
      ]
     },
     "metadata": {},
     "output_type": "display_data"
    },
    {
     "data": {
      "text/latex": [
       "\\[\n",
       "  \\begin{aligned}{ \\dot{W}_{net} }&={ \\dot{m} w_{net} }\\\\\n",
       "    &={ \\left( 0.12573\\ \\frac{\\mathrm{kW} \\cdot \\mathrm{kg}}{\\mathrm{kJ}} \\right) \\left( 35.95\\ \\frac{\\mathrm{kJ}}{\\mathrm{kg}} \\right) }\\\\\n",
       "    &={  4.5199\\ \\mathrm{kW}  }\n",
       "  \\end{aligned}\n",
       "\\]\n"
      ],
      "text/plain": [
       "<IPython.core.display.Latex object>"
      ]
     },
     "metadata": {},
     "output_type": "display_data"
    }
   ],
   "source": [
    "##### Mass flow rate\n",
    "mdot = Qdot_in/q_in\n",
    "\n",
    "##### Net work\n",
    "Wdot_net = mdot*w_net\n",
    "\n",
    "display.Calculations(locals());"
   ]
  },
  {
   "cell_type": "markdown",
   "metadata": {},
   "source": [
    "### (d) Volumetric flow rate entering compressor"
   ]
  },
  {
   "cell_type": "code",
   "execution_count": 7,
   "metadata": {},
   "outputs": [
    {
     "data": {
      "text/markdown": [
       "#### Specific volume entering compressor"
      ],
      "text/plain": [
       "<IPython.core.display.Markdown object>"
      ]
     },
     "metadata": {},
     "output_type": "display_data"
    },
    {
     "data": {
      "text/latex": [
       "\\[\n",
       "  \\begin{aligned}\n",
       "    { v_{1} }&={ r134a.v(T[1],x[1]) } = { 0.13592\\ \\frac{\\mathrm{m}^{3}}{\\mathrm{kg}}  }\n",
       "  \\end{aligned}\n",
       "\\]\n"
      ],
      "text/plain": [
       "<IPython.core.display.Latex object>"
      ]
     },
     "metadata": {},
     "output_type": "display_data"
    },
    {
     "data": {
      "text/markdown": [
       "#### Volumetric flow rate"
      ],
      "text/plain": [
       "<IPython.core.display.Markdown object>"
      ]
     },
     "metadata": {},
     "output_type": "display_data"
    },
    {
     "data": {
      "text/latex": [
       "\\[\n",
       "  \\begin{aligned}{ \\dot{V}_{1} }&={ \\dot{m} v_{1} }\\\\\n",
       "    &={ \\left( 0.12573\\ \\frac{\\mathrm{kW} \\cdot \\mathrm{kg}}{\\mathrm{kJ}} \\right) \\left( 0.13592\\ \\frac{\\mathrm{m}^{3}}{\\mathrm{kg}} \\right) }\\\\\n",
       "    &={  0.017089\\ \\frac{\\mathrm{m}^{3}}{\\mathrm{s}}  }\n",
       "  \\end{aligned}\n",
       "\\]\n"
      ],
      "text/plain": [
       "<IPython.core.display.Latex object>"
      ]
     },
     "metadata": {},
     "output_type": "display_data"
    }
   ],
   "source": [
    "##### Specific volume entering compressor\n",
    "v[1] = r134a.v(T[1],x[1])\n",
    "\n",
    "##### Volumetric flow rate\n",
    "Vdot[1] = mdot*v[1]\n",
    "\n",
    "display.Calculations(locals(),comments=True);"
   ]
  },
  {
   "cell_type": "markdown",
   "metadata": {},
   "source": [
    "### Diagrams"
   ]
  },
  {
   "cell_type": "code",
   "execution_count": 8,
   "metadata": {
    "collapsed": false,
    "jupyter": {
     "outputs_hidden": false
    }
   },
   "outputs": [
    {
     "data": {
      "image/png": "[encoded data removed]",
      "text/plain": [
       "<Figure size 720x480 with 1 Axes>"
      ]
     },
     "metadata": {
      "needs_background": "light"
     },
     "output_type": "display_data"
    }
   ],
   "source": [
    "pv = r134a.pv_diagram()\n",
    "pv.ax.set_ylim(bottom=100)\n",
    "pv.ax.set_xlim(right=.5)\n",
    "\n",
    "# Plot Reference Isotherms for refrigerated space and surroundings\n",
    "# Refrigerated space\n",
    "pv.plot_isotherm(T_L,color='blue',label='$T_L$',ycoor=4e3,labelprops=dict(va='top'))\n",
    "# Surrounding temperature\n",
    "pv.plot_isotherm(T_H,color='red',label='$T_H$',ycoor=4e3);\n",
    "# High pressure\n",
    "pv.plot_isobar(p[2],label=f'{p[2]}',pos=.9)\n",
    "pv.plot_isobar(p[1],label=f'{p[1]}',pos=.9);\n",
    "\n",
    "for state in [1,2,3,4]:\n",
    "    v[state] = r134a.v(p[state],h=h[state])\n",
    "\n",
    "pv.plot_state(states[1],label_loc='south')\n",
    "pv.plot_state(states[2],label_loc='north east')\n",
    "pv.plot_state(states[3],label_loc='north east')\n",
    "pv.plot_state(states[4],label_loc='north east')\n",
    "    \n",
    "pv.plot_process(states[1],states[2],path='isentropic',label='compressor')\n",
    "pv.plot_process(states[2],states[3],path='isobaric',label='condenser')\n",
    "pv.plot_process(states[3],states[4],path='isenthalpic',label='throttle')\n",
    "pv.plot_process(states[4],states[1],path='isobaric',label='evaporator',labelprops=dict(va='top',ha='right',pos=.75));"
   ]
  },
  {
   "cell_type": "code",
   "execution_count": 9,
   "metadata": {
    "collapsed": false,
    "jupyter": {
     "outputs_hidden": false
    }
   },
   "outputs": [
    {
     "data": {
      "image/png": "[encoded data removed]",
      "text/plain": [
       "<Figure size 720x480 with 1 Axes>"
      ]
     },
     "metadata": {
      "needs_background": "light"
     },
     "output_type": "display_data"
    }
   ],
   "source": [
    "Ts = r134a.Ts_diagram()\n",
    "Ts.ax.set_ylim(bottom=-30,top=60)\n",
    "Ts.ax.set_xlim(left=.7)\n",
    "\n",
    "Ts.plot_state(states[1],label_loc='south east')\n",
    "Ts.plot_state(states[2],label_loc='east')\n",
    "Ts.plot_state(states[3],label_loc='north west')\n",
    "Ts.plot_state(states[4],label_loc='south west')\n",
    "    \n",
    "Ts.plot_process(states[1],states[2],path='isentropic',label='compressor')\n",
    "Ts.plot_process(states[2],states[3],path='isobaric',label='condenser')\n",
    "Ts.plot_process(states[3],states[4],path='isenthalpic',label='throttle')\n",
    "Ts.plot_process(states[4],states[1],path='isobaric',label='evaporator')\n",
    "\n",
    "# Plot Reference Isotherms for refrigerated space and surroundings\n",
    "Ts.plot_isotherm(T_L,color='blue',label='$T_L$',pos=0.1)\n",
    "Ts.plot_isotherm(T_H,color='red',label='$T_H$',pos=0.1)\n",
    "Ts.plot_isobar(p[2],label=f'{p[2]}',ycoor=55)\n",
    "Ts.plot_isobar(p[1],label=f'{p[1]}',ycoor=55);"
   ]
  },
  {
   "cell_type": "code",
   "execution_count": null,
   "metadata": {},
   "outputs": [],
   "source": []
  }
 ],
 "metadata": {
  "kernelspec": {
   "display_name": "Python 3",
   "language": "python",
   "name": "python3"
  },
  "language_info": {
   "codemirror_mode": {
    "name": "ipython",
    "version": 3
   },
   "file_extension": ".py",
   "mimetype": "text/x-python",
   "name": "python",
   "nbconvert_exporter": "python",
   "pygments_lexer": "ipython3",
   "version": "3.7.9"
  }
 },
 "nbformat": 4,
 "nbformat_minor": 4
}
