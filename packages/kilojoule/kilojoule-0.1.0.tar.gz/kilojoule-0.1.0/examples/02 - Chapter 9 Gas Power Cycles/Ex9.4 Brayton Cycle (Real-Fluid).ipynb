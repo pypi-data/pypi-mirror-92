{
 "cells": [
  {
   "cell_type": "markdown",
   "metadata": {},
   "source": [
    "# Example 9.4: Brayton Cycle (Cold-Air-Standard)\n",
    "\n",
    "*John F. Maddox, Ph.D., P.E.<br>\n",
    "University of Kentucky - Paducah Campus<br>\n",
    "ME 321: Engineering Thermodynamics II<br>*"
   ]
  },
  {
   "cell_type": "markdown",
   "metadata": {},
   "source": [
    "## Problem Statement\n",
    "\n",
    "Air enters the compressor of a cold air-standard Brayton cycle at $100\\ \\mathrm{kPa}$, $300\\mathrm{K}$ with a volumetric flow rate of $5\\ \\mathrm{m^3/s}$.  The pressure ratio is $10$ and the turbine inlet temperature is $1400\\ \\mathrm{K}$.  The turbine and compressor each have an isentropic efficiency of $80\\%$.\n",
    "\n",
    "* (a) $p$-$v$ diagram\n",
    "* (b) $T$-$s$ diagram\n",
    "* (c) Back work ratio\n",
    "* (d) Net power\n",
    "* (e) $\\eta_{th}$"
   ]
  },
  {
   "cell_type": "markdown",
   "metadata": {},
   "source": [
    "## Solution\n"
   ]
  },
  {
   "cell_type": "markdown",
   "metadata": {},
   "source": [
    "### Python Initialization\n",
    "We'll start by importing the libraries we will use for our analysis and initializing dictionaries to hold the properties we will be using."
   ]
  },
  {
   "cell_type": "code",
   "execution_count": 1,
   "metadata": {
    "collapsed": false,
    "jupyter": {
     "outputs_hidden": false
    }
   },
   "outputs": [
    {
     "name": "stderr",
     "output_type": "stream",
     "text": [
      "/opt/anaconda/lib/python3.8/site-packages/mpmath/ctx_mp_python.py:892: SyntaxWarning: \"is\" with a literal. Did you mean \"==\"?\n",
      "  if other is 0:\n",
      "/opt/anaconda/lib/python3.8/site-packages/mpmath/ctx_mp_python.py:986: SyntaxWarning: \"is\" with a literal. Did you mean \"==\"?\n",
      "  if other is 0:\n"
     ]
    }
   ],
   "source": [
    "from kilojoule.templates.kSI_K import *\n",
    "\n",
    "air = realfluid.Properties('Air')"
   ]
  },
  {
   "cell_type": "markdown",
   "metadata": {},
   "source": [
    "### Given Parameters\n",
    "We now define variables to hold our known values."
   ]
  },
  {
   "cell_type": "code",
   "execution_count": 2,
   "metadata": {
    "collapsed": false,
    "jupyter": {
     "outputs_hidden": false
    }
   },
   "outputs": [
    {
     "data": {
      "text/latex": [
       "\\[\n",
       "  \\begin{aligned}\n",
       "    { T_{1} }&={  300\\ \\mathrm{K}  }\n",
       "  \\end{aligned}\n",
       "\\]\n"
      ],
      "text/plain": [
       "<IPython.core.display.Latex object>"
      ]
     },
     "metadata": {},
     "output_type": "display_data"
    },
    {
     "data": {
      "text/latex": [
       "\\[\n",
       "  \\begin{aligned}\n",
       "    { p_{1} }&={ \\left( 1\\ \\mathrm{bar} \\right) } = { 100.0\\ \\mathrm{kPa}  }\n",
       "  \\end{aligned}\n",
       "\\]\n"
      ],
      "text/plain": [
       "<IPython.core.display.Latex object>"
      ]
     },
     "metadata": {},
     "output_type": "display_data"
    },
    {
     "data": {
      "text/latex": [
       "\\[\n",
       "  \\begin{aligned}\n",
       "    { \\dot{V}_{1} }&={  5\\ \\frac{\\mathrm{m}^{3}}{\\mathrm{s}}  }\n",
       "  \\end{aligned}\n",
       "\\]\n"
      ],
      "text/plain": [
       "<IPython.core.display.Latex object>"
      ]
     },
     "metadata": {},
     "output_type": "display_data"
    },
    {
     "data": {
      "text/latex": [
       "\\[\n",
       "  \\begin{aligned}\n",
       "    { r_{p} }&={  10\\  }\n",
       "  \\end{aligned}\n",
       "\\]\n"
      ],
      "text/plain": [
       "<IPython.core.display.Latex object>"
      ]
     },
     "metadata": {},
     "output_type": "display_data"
    },
    {
     "data": {
      "text/latex": [
       "\\[\n",
       "  \\begin{aligned}\n",
       "    { T_{3} }&={  1400\\ \\mathrm{K}  }\n",
       "  \\end{aligned}\n",
       "\\]\n"
      ],
      "text/plain": [
       "<IPython.core.display.Latex object>"
      ]
     },
     "metadata": {},
     "output_type": "display_data"
    },
    {
     "data": {
      "text/latex": [
       "\\[\n",
       "  \\begin{aligned}\n",
       "    { \\eta_{c} }&={  0.8\\  }\n",
       "  \\end{aligned}\n",
       "\\]\n"
      ],
      "text/plain": [
       "<IPython.core.display.Latex object>"
      ]
     },
     "metadata": {},
     "output_type": "display_data"
    },
    {
     "data": {
      "text/latex": [
       "\\[\n",
       "  \\begin{aligned}\n",
       "    { \\eta_{t} }&={  0.8\\  }\n",
       "  \\end{aligned}\n",
       "\\]\n"
      ],
      "text/plain": [
       "<IPython.core.display.Latex object>"
      ]
     },
     "metadata": {},
     "output_type": "display_data"
    }
   ],
   "source": [
    "T[1] = Quantity(300,'K')      # Compressor Inlet Temperature\n",
    "p[1] = Quantity(1,'bar')      # Compressor Inlet pressure\n",
    "Vdot[1] = Quantity(5,'m^3/s') # Volumetic Flow rate into Compressor\n",
    "r_p = Quantity(10,'')         # Pressure ratio\n",
    "T[3] = Quantity(1400,'K')     # Turbine Inlet Temperature\n",
    "eta_c = Quantity(0.8,'')      # Compressor Isentropioc Efficiency\n",
    "eta_t = Quantity(0.8,'')      # Turbine Isentropic Efficiency\n",
    "\n",
    "display.Calculations(locals(),comments=True);"
   ]
  },
  {
   "cell_type": "markdown",
   "metadata": {},
   "source": [
    "### Assumptions\n",
    "- Cold-air-standard Analysis\n",
    "  - Ideal gas\n",
    "  - Constant specific heat (evaluated at $25^\\circ\\text{C}$)\n",
    "- Maximum pressure occurs at states 3 and 4\n",
    "- Maximum temperature occurs at state 4\n",
    "- Negligible changes in kinetic energy\n",
    "- Negligible changes in potential energy"
   ]
  },
  {
   "cell_type": "markdown",
   "metadata": {},
   "source": [
    "#### (a) and (b) \n",
    "If working the problem by hand, we could (should) go ahead and sketch out the path of the cycle without knowing the exact values of the states.  This is useful to serve as a roadmap as we work our way through the analysis.  However, since we need exact value to do the plotting with a computer, we will wait until the end to draw the $p$-$v$ and $T$-$s$ diagrams"
   ]
  },
  {
   "cell_type": "markdown",
   "metadata": {},
   "source": [
    "#### (c) $T$ and $p$"
   ]
  },
  {
   "cell_type": "code",
   "execution_count": 3,
   "metadata": {
    "collapsed": false,
    "jupyter": {
     "outputs_hidden": false
    }
   },
   "outputs": [
    {
     "data": {
      "text/markdown": [
       "#### 1$\\to$2) Non-ideal compression"
      ],
      "text/plain": [
       "<IPython.core.display.Markdown object>"
      ]
     },
     "metadata": {},
     "output_type": "display_data"
    },
    {
     "data": {
      "text/markdown": [
       " State 1 properties"
      ],
      "text/plain": [
       "<IPython.core.display.Markdown object>"
      ]
     },
     "metadata": {},
     "output_type": "display_data"
    },
    {
     "data": {
      "text/latex": [
       "\\[\n",
       "  \\begin{aligned}\n",
       "    { h_{1} }&={ air.h(T=T[1],p=p[1]) } = { 426.3\\ \\frac{\\mathrm{kJ}}{\\mathrm{kg}}  }\n",
       "  \\end{aligned}\n",
       "\\]\n"
      ],
      "text/plain": [
       "<IPython.core.display.Latex object>"
      ]
     },
     "metadata": {},
     "output_type": "display_data"
    },
    {
     "data": {
      "text/latex": [
       "\\[\n",
       "  \\begin{aligned}\n",
       "    { s_{1} }&={ air.s(T=T[1],p=p[1]) } = { 3.8905\\ \\frac{\\mathrm{kJ}}{\\left(\\mathrm{K} \\cdot \\mathrm{kg}\\right)}  }\n",
       "  \\end{aligned}\n",
       "\\]\n"
      ],
      "text/plain": [
       "<IPython.core.display.Latex object>"
      ]
     },
     "metadata": {},
     "output_type": "display_data"
    },
    {
     "data": {
      "text/markdown": [
       " Isentropic exit state: Isentropic Ideal Gas Relations"
      ],
      "text/plain": [
       "<IPython.core.display.Markdown object>"
      ]
     },
     "metadata": {},
     "output_type": "display_data"
    },
    {
     "data": {
      "text/latex": [
       "\\[\n",
       "  \\begin{aligned}{ p_{2} }&={ p_{1} r_{p} }\\\\\n",
       "    &={ \\left( 100.0\\ \\mathrm{kPa} \\right) \\left( 10\\ \\right) }\\\\\n",
       "    &={  1000.0\\ \\mathrm{kPa}  }\n",
       "  \\end{aligned}\n",
       "\\]\n"
      ],
      "text/plain": [
       "<IPython.core.display.Latex object>"
      ]
     },
     "metadata": {},
     "output_type": "display_data"
    },
    {
     "data": {
      "text/latex": [
       "\\[\n",
       "  \\begin{aligned}\n",
       "    { p_{2s} }&={ p_{2} } = { 1000.0\\ \\mathrm{kPa}  }\n",
       "  \\end{aligned}\n",
       "\\]\n"
      ],
      "text/plain": [
       "<IPython.core.display.Latex object>"
      ]
     },
     "metadata": {},
     "output_type": "display_data"
    },
    {
     "data": {
      "text/latex": [
       "\\[\n",
       "  \\begin{aligned}\n",
       "    { s_{2s} }&={ s_{1} } = { 3.8905\\ \\frac{\\mathrm{kJ}}{\\left(\\mathrm{K} \\cdot \\mathrm{kg}\\right)}  }\n",
       "  \\end{aligned}\n",
       "\\]\n"
      ],
      "text/plain": [
       "<IPython.core.display.Latex object>"
      ]
     },
     "metadata": {},
     "output_type": "display_data"
    },
    {
     "data": {
      "text/latex": [
       "\\[\n",
       "  \\begin{aligned}\n",
       "    { h_{2s} }&={ air.h(p=p['2s'],s=s['2s']) } = { 706.45\\ \\frac{\\mathrm{kJ}}{\\mathrm{kg}}  }\n",
       "  \\end{aligned}\n",
       "\\]\n"
      ],
      "text/plain": [
       "<IPython.core.display.Latex object>"
      ]
     },
     "metadata": {},
     "output_type": "display_data"
    },
    {
     "data": {
      "text/latex": [
       "\\[\n",
       "  \\begin{aligned}\n",
       "    { T_{2s} }&={ air.T(h=h['2s'],p=p['2s']) } = { 574.45\\ \\mathrm{K}  }\n",
       "  \\end{aligned}\n",
       "\\]\n"
      ],
      "text/plain": [
       "<IPython.core.display.Latex object>"
      ]
     },
     "metadata": {},
     "output_type": "display_data"
    },
    {
     "data": {
      "text/markdown": [
       " Isentropic efficiency"
      ],
      "text/plain": [
       "<IPython.core.display.Markdown object>"
      ]
     },
     "metadata": {},
     "output_type": "display_data"
    },
    {
     "data": {
      "text/latex": [
       "\\[\n",
       "  \\begin{aligned}{ h_{2} }&={ h_{1} + \\frac{h_{2s} - h_{1}}{\\eta_{c}} }\\\\\n",
       "    &={ \\left( 426.3\\ \\frac{\\mathrm{kJ}}{\\mathrm{kg}} \\right) + \\frac{\\left( 706.45\\ \\frac{\\mathrm{kJ}}{\\mathrm{kg}} \\right) - \\left( 426.3\\ \\frac{\\mathrm{kJ}}{\\mathrm{kg}} \\right)}{\\left( 0.8\\ \\right)} }\\\\\n",
       "    &={  776.49\\ \\frac{\\mathrm{kJ}}{\\mathrm{kg}}  }\n",
       "  \\end{aligned}\n",
       "\\]\n"
      ],
      "text/plain": [
       "<IPython.core.display.Latex object>"
      ]
     },
     "metadata": {},
     "output_type": "display_data"
    },
    {
     "data": {
      "text/latex": [
       "\\[\n",
       "  \\begin{aligned}\n",
       "    { T_{2} }&={ air.T(h=h[2],p=p[2]) } = { 640.79\\ \\mathrm{K}  }\n",
       "  \\end{aligned}\n",
       "\\]\n"
      ],
      "text/plain": [
       "<IPython.core.display.Latex object>"
      ]
     },
     "metadata": {},
     "output_type": "display_data"
    },
    {
     "data": {
      "text/latex": [
       "\\[\n",
       "  \\begin{aligned}\n",
       "    { s_{2} }&={ air.s(p=p[2],h=h[2]) } = { 4.0059\\ \\frac{\\mathrm{kJ}}{\\left(\\mathrm{K} \\cdot \\mathrm{kg}\\right)}  }\n",
       "  \\end{aligned}\n",
       "\\]\n"
      ],
      "text/plain": [
       "<IPython.core.display.Latex object>"
      ]
     },
     "metadata": {},
     "output_type": "display_data"
    },
    {
     "data": {
      "text/markdown": [
       " Mass flow rate through compressor"
      ],
      "text/plain": [
       "<IPython.core.display.Markdown object>"
      ]
     },
     "metadata": {},
     "output_type": "display_data"
    },
    {
     "data": {
      "text/latex": [
       "\\[\n",
       "  \\begin{aligned}\n",
       "    { v_{1} }&={ air.v(T=T[1],p=p[1]) } = { 0.86088\\ \\frac{\\mathrm{m}^{3}}{\\mathrm{kg}}  }\n",
       "  \\end{aligned}\n",
       "\\]\n"
      ],
      "text/plain": [
       "<IPython.core.display.Latex object>"
      ]
     },
     "metadata": {},
     "output_type": "display_data"
    },
    {
     "data": {
      "text/latex": [
       "\\[\n",
       "  \\begin{aligned}{ \\dot{m} }&={ \\frac{\\dot{V}_{1}}{v_{1}} }\\\\\n",
       "    &={ \\frac{\\left( 5\\ \\frac{\\mathrm{m}^{3}}{\\mathrm{s}} \\right)}{\\left( 0.86088\\ \\frac{\\mathrm{m}^{3}}{\\mathrm{kg}} \\right)} }\\\\\n",
       "    &={  5.808\\ \\frac{\\mathrm{kg}}{\\mathrm{s}}  }\n",
       "  \\end{aligned}\n",
       "\\]\n"
      ],
      "text/plain": [
       "<IPython.core.display.Latex object>"
      ]
     },
     "metadata": {},
     "output_type": "display_data"
    },
    {
     "data": {
      "text/markdown": [
       " First Law for compressor"
      ],
      "text/plain": [
       "<IPython.core.display.Markdown object>"
      ]
     },
     "metadata": {},
     "output_type": "display_data"
    },
    {
     "data": {
      "text/latex": [
       "\\[\n",
       "  \\begin{aligned}{ \\dot{W}_{1\\to2} }&={ \\dot{m} \\left(h_{1} - h_{2}\\right) }\\\\\n",
       "    &={ \\left( 5.808\\ \\frac{\\mathrm{kg}}{\\mathrm{s}} \\right) \\left(\\left( 426.3\\ \\frac{\\mathrm{kJ}}{\\mathrm{kg}} \\right) - \\left( 776.49\\ \\frac{\\mathrm{kJ}}{\\mathrm{kg}} \\right)\\right) }\\\\\n",
       "    &={  -2033.9\\ \\mathrm{kW}  }\n",
       "  \\end{aligned}\n",
       "\\]\n"
      ],
      "text/plain": [
       "<IPython.core.display.Latex object>"
      ]
     },
     "metadata": {},
     "output_type": "display_data"
    },
    {
     "data": {
      "text/markdown": [
       "#### 2$\\to$3) Isobaric heat addition"
      ],
      "text/plain": [
       "<IPython.core.display.Markdown object>"
      ]
     },
     "metadata": {},
     "output_type": "display_data"
    },
    {
     "data": {
      "text/latex": [
       "\\[\n",
       "  \\begin{aligned}\n",
       "    { p_{3} }&={ p_{2} } = { 1000.0\\ \\mathrm{kPa}  }\n",
       "  \\end{aligned}\n",
       "\\]\n"
      ],
      "text/plain": [
       "<IPython.core.display.Latex object>"
      ]
     },
     "metadata": {},
     "output_type": "display_data"
    },
    {
     "data": {
      "text/latex": [
       "\\[\n",
       "  \\begin{aligned}\n",
       "    { h_{3} }&={ air.h(T=T[3],p=p[3]) } = { 1642.5\\ \\frac{\\mathrm{kJ}}{\\mathrm{kg}}  }\n",
       "  \\end{aligned}\n",
       "\\]\n"
      ],
      "text/plain": [
       "<IPython.core.display.Latex object>"
      ]
     },
     "metadata": {},
     "output_type": "display_data"
    },
    {
     "data": {
      "text/latex": [
       "\\[\n",
       "  \\begin{aligned}\n",
       "    { s_{3} }&={ air.s(T=T[3],p=p[3]) } = { 4.8902\\ \\frac{\\mathrm{kJ}}{\\left(\\mathrm{K} \\cdot \\mathrm{kg}\\right)}  }\n",
       "  \\end{aligned}\n",
       "\\]\n"
      ],
      "text/plain": [
       "<IPython.core.display.Latex object>"
      ]
     },
     "metadata": {},
     "output_type": "display_data"
    },
    {
     "data": {
      "text/markdown": [
       "#### 3$\\to$4) Non-ideal expansion"
      ],
      "text/plain": [
       "<IPython.core.display.Markdown object>"
      ]
     },
     "metadata": {},
     "output_type": "display_data"
    },
    {
     "data": {
      "text/markdown": [
       " Isentropic exit state: Isentropic Ideal Gas Relations"
      ],
      "text/plain": [
       "<IPython.core.display.Markdown object>"
      ]
     },
     "metadata": {},
     "output_type": "display_data"
    },
    {
     "data": {
      "text/latex": [
       "\\[\n",
       "  \\begin{aligned}\n",
       "    { p_{4} }&={ p_{1} } = { 100.0\\ \\mathrm{kPa}  }\n",
       "  \\end{aligned}\n",
       "\\]\n"
      ],
      "text/plain": [
       "<IPython.core.display.Latex object>"
      ]
     },
     "metadata": {},
     "output_type": "display_data"
    },
    {
     "data": {
      "text/latex": [
       "\\[\n",
       "  \\begin{aligned}\n",
       "    { p_{4s} }&={ p_{4} } = { 100.0\\ \\mathrm{kPa}  }\n",
       "  \\end{aligned}\n",
       "\\]\n"
      ],
      "text/plain": [
       "<IPython.core.display.Latex object>"
      ]
     },
     "metadata": {},
     "output_type": "display_data"
    },
    {
     "data": {
      "text/latex": [
       "\\[\n",
       "  \\begin{aligned}\n",
       "    { s_{4s} }&={ s_{3} } = { 4.8902\\ \\frac{\\mathrm{kJ}}{\\left(\\mathrm{K} \\cdot \\mathrm{kg}\\right)}  }\n",
       "  \\end{aligned}\n",
       "\\]\n"
      ],
      "text/plain": [
       "<IPython.core.display.Latex object>"
      ]
     },
     "metadata": {},
     "output_type": "display_data"
    },
    {
     "data": {
      "text/latex": [
       "\\[\n",
       "  \\begin{aligned}\n",
       "    { h_{4s} }&={ air.h(p=p['4s'],s=s['4s']) } = { 934.92\\ \\frac{\\mathrm{kJ}}{\\mathrm{kg}}  }\n",
       "  \\end{aligned}\n",
       "\\]\n"
      ],
      "text/plain": [
       "<IPython.core.display.Latex object>"
      ]
     },
     "metadata": {},
     "output_type": "display_data"
    },
    {
     "data": {
      "text/latex": [
       "\\[\n",
       "  \\begin{aligned}\n",
       "    { T_{4s} }&={ air.T(h=h['4s'],p=p['4s']) } = { 787.71\\ \\mathrm{K}  }\n",
       "  \\end{aligned}\n",
       "\\]\n"
      ],
      "text/plain": [
       "<IPython.core.display.Latex object>"
      ]
     },
     "metadata": {},
     "output_type": "display_data"
    },
    {
     "data": {
      "text/markdown": [
       " Isentropic efficiency"
      ],
      "text/plain": [
       "<IPython.core.display.Markdown object>"
      ]
     },
     "metadata": {},
     "output_type": "display_data"
    },
    {
     "data": {
      "text/latex": [
       "\\[\n",
       "  \\begin{aligned}{ h_{4} }&={ - \\eta_{t} \\left(h_{3} - h_{4s}\\right) + h_{3} }\\\\\n",
       "    &={ - \\left( 0.8\\ \\right) \\left(\\left( 1642.5\\ \\frac{\\mathrm{kJ}}{\\mathrm{kg}} \\right) - \\left( 934.92\\ \\frac{\\mathrm{kJ}}{\\mathrm{kg}} \\right)\\right) + \\left( 1642.5\\ \\frac{\\mathrm{kJ}}{\\mathrm{kg}} \\right) }\\\\\n",
       "    &={  1076.4\\ \\frac{\\mathrm{kJ}}{\\mathrm{kg}}  }\n",
       "  \\end{aligned}\n",
       "\\]\n"
      ],
      "text/plain": [
       "<IPython.core.display.Latex object>"
      ]
     },
     "metadata": {},
     "output_type": "display_data"
    },
    {
     "data": {
      "text/latex": [
       "\\[\n",
       "  \\begin{aligned}\n",
       "    { T_{4} }&={ air.T(h=h[4],p=p[4]) } = { 915.18\\ \\mathrm{K}  }\n",
       "  \\end{aligned}\n",
       "\\]\n"
      ],
      "text/plain": [
       "<IPython.core.display.Latex object>"
      ]
     },
     "metadata": {},
     "output_type": "display_data"
    },
    {
     "data": {
      "text/latex": [
       "\\[\n",
       "  \\begin{aligned}\n",
       "    { s_{4} }&={ air.s(p=p[4],h=h[4]) } = { 5.0567\\ \\frac{\\mathrm{kJ}}{\\left(\\mathrm{K} \\cdot \\mathrm{kg}\\right)}  }\n",
       "  \\end{aligned}\n",
       "\\]\n"
      ],
      "text/plain": [
       "<IPython.core.display.Latex object>"
      ]
     },
     "metadata": {},
     "output_type": "display_data"
    },
    {
     "data": {
      "text/markdown": [
       " First law for turbine"
      ],
      "text/plain": [
       "<IPython.core.display.Markdown object>"
      ]
     },
     "metadata": {},
     "output_type": "display_data"
    },
    {
     "data": {
      "text/latex": [
       "\\[\n",
       "  \\begin{aligned}{ \\dot{W}_{3\\to4} }&={ \\dot{m} \\left(h_{3} - h_{4}\\right) }\\\\\n",
       "    &={ \\left( 5.808\\ \\frac{\\mathrm{kg}}{\\mathrm{s}} \\right) \\left(\\left( 1642.5\\ \\frac{\\mathrm{kJ}}{\\mathrm{kg}} \\right) - \\left( 1076.4\\ \\frac{\\mathrm{kJ}}{\\mathrm{kg}} \\right)\\right) }\\\\\n",
       "    &={  3287.9\\ \\mathrm{kW}  }\n",
       "  \\end{aligned}\n",
       "\\]\n"
      ],
      "text/plain": [
       "<IPython.core.display.Latex object>"
      ]
     },
     "metadata": {},
     "output_type": "display_data"
    },
    {
     "data": {
      "text/markdown": [
       "#### Backwork Ratio"
      ],
      "text/plain": [
       "<IPython.core.display.Markdown object>"
      ]
     },
     "metadata": {},
     "output_type": "display_data"
    },
    {
     "data": {
      "text/latex": [
       "\\[\n",
       "  \\begin{aligned}{ BWR }&={ - \\frac{\\dot{W}_{1\\to2}}{\\dot{W}_{3\\to4}} }\\\\\n",
       "    &={ - \\frac{\\left( -2033.9\\ \\mathrm{kW} \\right)}{\\left( 3287.9\\ \\mathrm{kW} \\right)} }\\\\\n",
       "    &={  0.6186\\  }\n",
       "  \\end{aligned}\n",
       "\\]\n"
      ],
      "text/plain": [
       "<IPython.core.display.Latex object>"
      ]
     },
     "metadata": {},
     "output_type": "display_data"
    },
    {
     "data": {
      "text/html": [
       "<table border=\"1\" class=\"dataframe\">\n",
       "  <thead>\n",
       "    <tr>\n",
       "      <th></th>\n",
       "      <th>T</th>\n",
       "      <th>p</th>\n",
       "      <th>v</th>\n",
       "      <th>h</th>\n",
       "      <th>s</th>\n",
       "      <th>Vdot</th>\n",
       "    </tr>\n",
       "    <tr>\n",
       "      <th>unit</th>\n",
       "      <th>K</th>\n",
       "      <th>kPa</th>\n",
       "      <th>m³/kg</th>\n",
       "      <th>kJ/kg</th>\n",
       "      <th>kJ/K/kg</th>\n",
       "      <th>m³/s</th>\n",
       "    </tr>\n",
       "  </thead>\n",
       "  <tbody>\n",
       "    <tr>\n",
       "      <th>1</th>\n",
       "      <td>300.000000</td>\n",
       "      <td>100.0</td>\n",
       "      <td>0.860882</td>\n",
       "      <td>426.300776</td>\n",
       "      <td>3.890501</td>\n",
       "      <td>5</td>\n",
       "    </tr>\n",
       "    <tr>\n",
       "      <th>2</th>\n",
       "      <td>640.792264</td>\n",
       "      <td>1000.0</td>\n",
       "      <td>-</td>\n",
       "      <td>776.489114</td>\n",
       "      <td>4.005867</td>\n",
       "      <td>-</td>\n",
       "    </tr>\n",
       "    <tr>\n",
       "      <th>2s</th>\n",
       "      <td>574.451983</td>\n",
       "      <td>1000.0</td>\n",
       "      <td>-</td>\n",
       "      <td>706.451446</td>\n",
       "      <td>3.890501</td>\n",
       "      <td>-</td>\n",
       "    </tr>\n",
       "    <tr>\n",
       "      <th>3</th>\n",
       "      <td>1400.000000</td>\n",
       "      <td>1000.0</td>\n",
       "      <td>-</td>\n",
       "      <td>1642.536333</td>\n",
       "      <td>4.890246</td>\n",
       "      <td>-</td>\n",
       "    </tr>\n",
       "    <tr>\n",
       "      <th>4</th>\n",
       "      <td>915.178601</td>\n",
       "      <td>100.0</td>\n",
       "      <td>-</td>\n",
       "      <td>1076.440588</td>\n",
       "      <td>5.056721</td>\n",
       "      <td>-</td>\n",
       "    </tr>\n",
       "    <tr>\n",
       "      <th>4s</th>\n",
       "      <td>787.705929</td>\n",
       "      <td>100.0</td>\n",
       "      <td>-</td>\n",
       "      <td>934.916651</td>\n",
       "      <td>4.890246</td>\n",
       "      <td>-</td>\n",
       "    </tr>\n",
       "  </tbody>\n",
       "</table>"
      ],
      "text/plain": [
       "<IPython.core.display.HTML object>"
      ]
     },
     "metadata": {},
     "output_type": "display_data"
    }
   ],
   "source": [
    "##### 1$\\to$2) Non-ideal compression\n",
    "# State 1 properties\n",
    "h[1] = air.h(T=T[1],p=p[1])\n",
    "s[1] = air.s(T=T[1],p=p[1])\n",
    "\n",
    "# Isentropic exit state: Isentropic Ideal Gas Relations\n",
    "p[2] = p[1]*r_p\n",
    "p['2s'] = p[2]\n",
    "s['2s'] = s[1]\n",
    "h['2s'] = air.h(p=p['2s'],s=s['2s'])\n",
    "T['2s'] = air.T(h=h['2s'],p=p['2s'])\n",
    "\n",
    "# Isentropic efficiency\n",
    "h[2] = h[1] + (h['2s']-h[1])/eta_c\n",
    "T[2] = air.T(h=h[2],p=p[2])\n",
    "s[2] = air.s(p=p[2],h=h[2])\n",
    "\n",
    "# Mass flow rate through compressor\n",
    "v[1] = air.v(T=T[1],p=p[1])\n",
    "mdot = Vdot[1]/v[1]\n",
    "mdot = mdot.to('kg/s') # hide\n",
    "\n",
    "# First Law for compressor\n",
    "Wdot_1_to_2 = mdot*(h[1]-h[2])\n",
    "Wdot_1_to_2 = Wdot_1_to_2.to('kW') # hide\n",
    "\n",
    "##### 2$\\to$3) Isobaric heat addition\n",
    "p[3] = p[2]\n",
    "h[3] = air.h(T=T[3],p=p[3])\n",
    "s[3] = air.s(T=T[3],p=p[3])\n",
    "\n",
    "##### 3$\\to$4) Non-ideal expansion\n",
    "# Isentropic exit state: Isentropic Ideal Gas Relations\n",
    "p[4] = p[1]\n",
    "p['4s'] = p[4]\n",
    "s['4s'] = s[3]\n",
    "h['4s'] = air.h(p=p['4s'],s=s['4s'])\n",
    "T['4s'] = air.T(h=h['4s'],p=p['4s'])\n",
    "\n",
    "# Isentropic efficiency\n",
    "h[4] = h[3] - eta_t*(h[3]-h['4s'])\n",
    "T[4] = air.T(h=h[4],p=p[4])\n",
    "s[4] = air.s(p=p[4],h=h[4])\n",
    "\n",
    "# First law for turbine\n",
    "Wdot_3_to_4 = mdot*(h[3]-h[4])\n",
    "Wdot_3_to_4 = Wdot_3_to_4.to('kW') # hide\n",
    "\n",
    "##### Backwork Ratio\n",
    "BWR = -Wdot_1_to_2/Wdot_3_to_4\n",
    "\n",
    "display.Calculations(locals(),comments=True);\n",
    "states.display()"
   ]
  },
  {
   "cell_type": "markdown",
   "metadata": {},
   "source": [
    "#### (d) Net power"
   ]
  },
  {
   "cell_type": "code",
   "execution_count": 4,
   "metadata": {
    "collapsed": false,
    "jupyter": {
     "outputs_hidden": false
    }
   },
   "outputs": [
    {
     "data": {
      "text/markdown": [
       " Turbine work"
      ],
      "text/plain": [
       "<IPython.core.display.Markdown object>"
      ]
     },
     "metadata": {},
     "output_type": "display_data"
    },
    {
     "data": {
      "text/latex": [
       "\\[\n",
       "  \\begin{aligned}\n",
       "    { \\dot{W}_{T} }&={ \\dot{W}_{3\\to4} } = { 3287.9\\ \\mathrm{kW}  }\n",
       "  \\end{aligned}\n",
       "\\]\n"
      ],
      "text/plain": [
       "<IPython.core.display.Latex object>"
      ]
     },
     "metadata": {},
     "output_type": "display_data"
    },
    {
     "data": {
      "text/markdown": [
       " Compressor work"
      ],
      "text/plain": [
       "<IPython.core.display.Markdown object>"
      ]
     },
     "metadata": {},
     "output_type": "display_data"
    },
    {
     "data": {
      "text/latex": [
       "\\[\n",
       "  \\begin{aligned}{ \\dot{W}_{C} }&={ - \\dot{W}_{1\\to2} }\\\\\n",
       "    &={ - \\left( -2033.9\\ \\mathrm{kW} \\right) }\\\\\n",
       "    &={  2033.9\\ \\mathrm{kW}  }\n",
       "  \\end{aligned}\n",
       "\\]\n"
      ],
      "text/plain": [
       "<IPython.core.display.Latex object>"
      ]
     },
     "metadata": {},
     "output_type": "display_data"
    },
    {
     "data": {
      "text/markdown": [
       " Net work"
      ],
      "text/plain": [
       "<IPython.core.display.Markdown object>"
      ]
     },
     "metadata": {},
     "output_type": "display_data"
    },
    {
     "data": {
      "text/latex": [
       "\\[\n",
       "  \\begin{aligned}{ \\dot{W}_{net} }&={ \\dot{W}_{T} - \\dot{W}_{C} }\\\\\n",
       "    &={ \\left( 3287.9\\ \\mathrm{kW} \\right) - \\left( 2033.9\\ \\mathrm{kW} \\right) }\\\\\n",
       "    &={  1254.0\\ \\mathrm{kW}  }\n",
       "  \\end{aligned}\n",
       "\\]\n"
      ],
      "text/plain": [
       "<IPython.core.display.Latex object>"
      ]
     },
     "metadata": {},
     "output_type": "display_data"
    }
   ],
   "source": [
    "# Turbine work\n",
    "Wdot_T = Wdot_3_to_4\n",
    "\n",
    "# Compressor work\n",
    "Wdot_C = -Wdot_1_to_2\n",
    "\n",
    "# Net work\n",
    "Wdot_net = Wdot_T-Wdot_C\n",
    "\n",
    "display.Calculations(locals(),comments=True);"
   ]
  },
  {
   "cell_type": "markdown",
   "metadata": {},
   "source": [
    "#### (e) Thermal efficiency"
   ]
  },
  {
   "cell_type": "code",
   "execution_count": 5,
   "metadata": {
    "collapsed": false,
    "jupyter": {
     "outputs_hidden": false
    }
   },
   "outputs": [
    {
     "data": {
      "text/markdown": [
       "#### 2$\\to$3) Isobaric heat addition"
      ],
      "text/plain": [
       "<IPython.core.display.Markdown object>"
      ]
     },
     "metadata": {},
     "output_type": "display_data"
    },
    {
     "data": {
      "text/markdown": [
       " First law for combuster"
      ],
      "text/plain": [
       "<IPython.core.display.Markdown object>"
      ]
     },
     "metadata": {},
     "output_type": "display_data"
    },
    {
     "data": {
      "text/latex": [
       "\\[\n",
       "  \\begin{aligned}{ \\dot{Q}_{2\\to3} }&={ \\dot{m} \\left(h_{3} - h_{2}\\right) }\\\\\n",
       "    &={ \\left( 5.808\\ \\frac{\\mathrm{kg}}{\\mathrm{s}} \\right) \\left(\\left( 1642.5\\ \\frac{\\mathrm{kJ}}{\\mathrm{kg}} \\right) - \\left( 776.49\\ \\frac{\\mathrm{kJ}}{\\mathrm{kg}} \\right)\\right) }\\\\\n",
       "    &={  5030.0\\ \\mathrm{kW}  }\n",
       "  \\end{aligned}\n",
       "\\]\n"
      ],
      "text/plain": [
       "<IPython.core.display.Latex object>"
      ]
     },
     "metadata": {},
     "output_type": "display_data"
    },
    {
     "data": {
      "text/markdown": [
       " Heat input"
      ],
      "text/plain": [
       "<IPython.core.display.Markdown object>"
      ]
     },
     "metadata": {},
     "output_type": "display_data"
    },
    {
     "data": {
      "text/latex": [
       "\\[\n",
       "  \\begin{aligned}\n",
       "    { \\dot{Q}_{in} }&={ \\dot{Q}_{2\\to3} } = { 5030.0\\ \\mathrm{kW}  }\n",
       "  \\end{aligned}\n",
       "\\]\n"
      ],
      "text/plain": [
       "<IPython.core.display.Latex object>"
      ]
     },
     "metadata": {},
     "output_type": "display_data"
    },
    {
     "data": {
      "text/markdown": [
       "#### Thermal efficiency"
      ],
      "text/plain": [
       "<IPython.core.display.Markdown object>"
      ]
     },
     "metadata": {},
     "output_type": "display_data"
    },
    {
     "data": {
      "text/latex": [
       "\\[\n",
       "  \\begin{aligned}{ \\eta_{th} }&={ \\frac{\\dot{W}_{net}}{\\dot{Q}_{in}} }\\\\\n",
       "    &={ \\frac{\\left( 1254.0\\ \\mathrm{kW} \\right)}{\\left( 5030.0\\ \\mathrm{kW} \\right)} }\\\\\n",
       "    &={  0.2493\\  }\n",
       "  \\end{aligned}\n",
       "\\]\n"
      ],
      "text/plain": [
       "<IPython.core.display.Latex object>"
      ]
     },
     "metadata": {},
     "output_type": "display_data"
    },
    {
     "data": {
      "text/markdown": [
       "#### Second Law efficiency"
      ],
      "text/plain": [
       "<IPython.core.display.Markdown object>"
      ]
     },
     "metadata": {},
     "output_type": "display_data"
    },
    {
     "data": {
      "text/markdown": [
       " The low temperature is assumed to be the intake temperature"
      ],
      "text/plain": [
       "<IPython.core.display.Markdown object>"
      ]
     },
     "metadata": {},
     "output_type": "display_data"
    },
    {
     "data": {
      "text/latex": [
       "\\[\n",
       "  \\begin{aligned}\n",
       "    { T_{L} }&={ T_{1} } = { 300\\ \\mathrm{K}  }\n",
       "  \\end{aligned}\n",
       "\\]\n"
      ],
      "text/plain": [
       "<IPython.core.display.Latex object>"
      ]
     },
     "metadata": {},
     "output_type": "display_data"
    },
    {
     "data": {
      "text/markdown": [
       " The high temperature is approximated as the hottest temperature of the working fluid"
      ],
      "text/plain": [
       "<IPython.core.display.Markdown object>"
      ]
     },
     "metadata": {},
     "output_type": "display_data"
    },
    {
     "data": {
      "text/latex": [
       "\\[\n",
       "  \\begin{aligned}\n",
       "    { T_{H} }&={ T_{3} } = { 1400\\ \\mathrm{K}  }\n",
       "  \\end{aligned}\n",
       "\\]\n"
      ],
      "text/plain": [
       "<IPython.core.display.Latex object>"
      ]
     },
     "metadata": {},
     "output_type": "display_data"
    },
    {
     "data": {
      "text/markdown": [
       " Carnot efficiency"
      ],
      "text/plain": [
       "<IPython.core.display.Markdown object>"
      ]
     },
     "metadata": {},
     "output_type": "display_data"
    },
    {
     "data": {
      "text/latex": [
       "\\[\n",
       "  \\begin{aligned}{ \\eta_{th,Carnot} }&={ 1 - \\frac{T_{L}}{T_{H}} }\\\\\n",
       "    &={  1  - \\frac{\\left( 300\\ \\mathrm{K} \\right)}{\\left( 1400\\ \\mathrm{K} \\right)} }\\\\\n",
       "    &={  0.78571\\  }\n",
       "  \\end{aligned}\n",
       "\\]\n"
      ],
      "text/plain": [
       "<IPython.core.display.Latex object>"
      ]
     },
     "metadata": {},
     "output_type": "display_data"
    },
    {
     "data": {
      "text/markdown": [
       " Second Law efficiency"
      ],
      "text/plain": [
       "<IPython.core.display.Markdown object>"
      ]
     },
     "metadata": {},
     "output_type": "display_data"
    },
    {
     "data": {
      "text/latex": [
       "\\[\n",
       "  \\begin{aligned}{ \\eta_{II} }&={ \\frac{\\eta_{th}}{\\eta_{th,Carnot}} }\\\\\n",
       "    &={ \\frac{\\left( 0.2493\\ \\right)}{\\left( 0.78571\\ \\right)} }\\\\\n",
       "    &={  0.31729\\  }\n",
       "  \\end{aligned}\n",
       "\\]\n"
      ],
      "text/plain": [
       "<IPython.core.display.Latex object>"
      ]
     },
     "metadata": {},
     "output_type": "display_data"
    }
   ],
   "source": [
    "##### 2$\\to$3) Isobaric heat addition\n",
    "# First law for combuster\n",
    "Qdot_2_to_3 = mdot*(h[3]-h[2])\n",
    "Qdot_2_to_3 = Qdot_2_to_3.to('kW') # hide\n",
    "\n",
    "# Heat input\n",
    "Qdot_in = Qdot_2_to_3\n",
    "\n",
    "##### Thermal efficiency\n",
    "eta_th = Wdot_net/Qdot_in\n",
    "\n",
    "##### Second Law efficiency\n",
    "# The low temperature is assumed to be the intake temperature\n",
    "T_L = T[1]\n",
    "# The high temperature is approximated as the hottest temperature of the working fluid\n",
    "T_H = T[3]\n",
    "# Carnot efficiency\n",
    "eta_th_Carnot = 1-T_L/T_H\n",
    "\n",
    "# Second Law efficiency\n",
    "eta_II = eta_th/eta_th_Carnot\n",
    "\n",
    "display.Calculations(locals(),comments=True);"
   ]
  },
  {
   "cell_type": "markdown",
   "metadata": {},
   "source": [
    "#### (a) $p$-$v$\n",
    "Note: the isentropic lines do not line up exactly with the states in this diagram because the entropies were calculated for variable specific heat, but all other properties were calculated using the\n",
    "cold-air-standard assumptions (constant specific heat).  "
   ]
  },
  {
   "cell_type": "code",
   "execution_count": 6,
   "metadata": {
    "collapsed": false,
    "jupyter": {
     "outputs_hidden": false
    }
   },
   "outputs": [
    {
     "data": {
      "image/png": "[encoded data removed]",
      "text/plain": [
       "<Figure size 1200x800 with 1 Axes>"
      ]
     },
     "metadata": {
      "needs_background": "light"
     },
     "output_type": "display_data"
    }
   ],
   "source": [
    "pv = air.pv_diagram(saturation=False)\n",
    "\n",
    "# plot each state on the p,v diagram and calculate the entropy at each state\n",
    "for i in [1,2,3,'4s',4]:\n",
    "    v[i] = air.v(T=T[i],p=p[i])\n",
    "    pv.plot_state(states[i],label_loc='north east')\n",
    "\n",
    "v['2s'] = air.v(T=T['2s'],p=p['2s'])\n",
    "pv.plot_state(states['2s'],label_loc='north west')\n",
    "\n",
    "# plot the process paths\n",
    "pv.plot_process(states[1],states['2s'],path='isentropic',linestyle='dashed',arrow=False)\n",
    "pv.plot_process(states[1],states[2],path='nonideal',label='compressor')\n",
    "pv.plot_process(states[2],states[3],path='isobaric')\n",
    "pv.plot_process(states[3],states['4s'],path='isentropic',linestyle='dashed',arrow=False)\n",
    "pv.plot_process(states[3],states[4],path='nonideal',label='turbine')\n",
    "pv.plot_process(states[4],states[1],path='isobaric');"
   ]
  },
  {
   "cell_type": "markdown",
   "metadata": {},
   "source": [
    "#### (b) $T$-$s$ diagram\n",
    "Note: the isentropic lines are not vertical in this diagram because the entropies were \n",
    "calculated for variable specific heat, but all other properties were calculated using the\n",
    "cold-air-standard assumptions (constant specific heat).  Therefore the errors resulting from the constant specific heat assumption are evident in the skewed shape of the cycle on the $T$-$s$ diagram."
   ]
  },
  {
   "cell_type": "code",
   "execution_count": 7,
   "metadata": {
    "collapsed": false,
    "jupyter": {
     "outputs_hidden": false
    }
   },
   "outputs": [
    {
     "data": {
      "image/png": "[encoded data removed]",
      "text/plain": [
       "<Figure size 1200x800 with 1 Axes>"
      ]
     },
     "metadata": {
      "needs_background": "light"
     },
     "output_type": "display_data"
    }
   ],
   "source": [
    "Ts = air.Ts_diagram(saturation=False)\n",
    "\n",
    "for i in [1,2,3,4]:\n",
    "    Ts.plot_state(states[i],label_loc='south east')\n",
    "\n",
    "Ts.plot_state(states['2s'],label_loc='north')\n",
    "Ts.plot_state(states['4s'],label_loc='south east')\n",
    "    \n",
    "Ts.plot_process(states[1],states['2s'],path='isentropic',linestyle='dashed')\n",
    "Ts.plot_process(states[1],states[2],path='isentropic efficiency')\n",
    "Ts.plot_process(states['2s'],states[2],path='isobaric',linestyle='dashed')\n",
    "Ts.plot_process(states[2],states[3],path='isobaric')\n",
    "Ts.plot_process(states[3],states['4s'],path='isentropic',linestyle='dashed')\n",
    "Ts.plot_process(states[3],states[4],path='isentropic efficiency')\n",
    "Ts.plot_process(states[4],states[1],path='isobaric');"
   ]
  },
  {
   "cell_type": "code",
   "execution_count": 8,
   "metadata": {
    "collapsed": false,
    "jupyter": {
     "outputs_hidden": false
    }
   },
   "outputs": [
    {
     "data": {
      "text/latex": [
       "\\[\\begin{aligned}{ BWR }&={  0.6186\\  }&{ \\dot{Q}_{2 to 3} }&={  5030.0\\ \\mathrm{kW}  }&{ \\dot{Q}_{in} }&={  5030.0\\ \\mathrm{kW}  }\\\\{ T_{H} }&={  1400\\ \\mathrm{K}  }&{ T_{L} }&={  300\\ \\mathrm{K}  }&{ \\dot{W}_{1 to 2} }&={  -2033.9\\ \\mathrm{kW}  }\\\\{ \\dot{W}_{3 to 4} }&={  3287.9\\ \\mathrm{kW}  }&{ \\dot{W}_{C} }&={  2033.9\\ \\mathrm{kW}  }&{ \\dot{W}_{T} }&={  3287.9\\ \\mathrm{kW}  }\\\\{ \\dot{W}_{net} }&={  1254.0\\ \\mathrm{kW}  }&{ \\eta_{II} }&={  0.31729\\  }&{ \\eta_{c} }&={  0.8\\  }\\\\{ \\eta_{t} }&={  0.8\\  }&{ \\eta_{th} }&={  0.2493\\  }&{ \\eta_{th Carnot} }&={  0.78571\\  }\\\\{ \\dot{m} }&={  5.808\\ \\frac{\\mathrm{kg}}{\\mathrm{s}}  }&{ r_{p} }&={  10\\  }&{  }\\end{aligned}\\]"
      ],
      "text/plain": [
       "<IPython.core.display.Latex object>"
      ]
     },
     "metadata": {},
     "output_type": "display_data"
    },
    {
     "data": {
      "text/html": [
       "<table border=\"1\" class=\"dataframe\">\n",
       "  <thead>\n",
       "    <tr>\n",
       "      <th></th>\n",
       "      <th>T</th>\n",
       "      <th>p</th>\n",
       "      <th>v</th>\n",
       "      <th>h</th>\n",
       "      <th>s</th>\n",
       "      <th>Vdot</th>\n",
       "    </tr>\n",
       "    <tr>\n",
       "      <th>unit</th>\n",
       "      <th>K</th>\n",
       "      <th>kPa</th>\n",
       "      <th>m³/kg</th>\n",
       "      <th>kJ/kg</th>\n",
       "      <th>kJ/K/kg</th>\n",
       "      <th>m³/s</th>\n",
       "    </tr>\n",
       "  </thead>\n",
       "  <tbody>\n",
       "    <tr>\n",
       "      <th>1</th>\n",
       "      <td>300.000000</td>\n",
       "      <td>100.0</td>\n",
       "      <td>0.860882</td>\n",
       "      <td>426.300776</td>\n",
       "      <td>3.890501</td>\n",
       "      <td>5</td>\n",
       "    </tr>\n",
       "    <tr>\n",
       "      <th>2</th>\n",
       "      <td>640.792264</td>\n",
       "      <td>1000.0</td>\n",
       "      <td>0.184619</td>\n",
       "      <td>776.489114</td>\n",
       "      <td>4.005867</td>\n",
       "      <td>-</td>\n",
       "    </tr>\n",
       "    <tr>\n",
       "      <th>2s</th>\n",
       "      <td>574.451983</td>\n",
       "      <td>1000.0</td>\n",
       "      <td>0.165497</td>\n",
       "      <td>706.451446</td>\n",
       "      <td>3.890501</td>\n",
       "      <td>-</td>\n",
       "    </tr>\n",
       "    <tr>\n",
       "      <th>3</th>\n",
       "      <td>1400.000000</td>\n",
       "      <td>1000.0</td>\n",
       "      <td>0.402841</td>\n",
       "      <td>1642.536333</td>\n",
       "      <td>4.890246</td>\n",
       "      <td>-</td>\n",
       "    </tr>\n",
       "    <tr>\n",
       "      <th>4</th>\n",
       "      <td>915.178601</td>\n",
       "      <td>100.0</td>\n",
       "      <td>2.627873</td>\n",
       "      <td>1076.440588</td>\n",
       "      <td>5.056721</td>\n",
       "      <td>-</td>\n",
       "    </tr>\n",
       "    <tr>\n",
       "      <th>4s</th>\n",
       "      <td>787.705929</td>\n",
       "      <td>100.0</td>\n",
       "      <td>2.261898</td>\n",
       "      <td>934.916651</td>\n",
       "      <td>4.890246</td>\n",
       "      <td>-</td>\n",
       "    </tr>\n",
       "  </tbody>\n",
       "</table>"
      ],
      "text/plain": [
       "<IPython.core.display.HTML object>"
      ]
     },
     "metadata": {},
     "output_type": "display_data"
    }
   ],
   "source": [
    "display.Summary(locals());"
   ]
  },
  {
   "cell_type": "code",
   "execution_count": 9,
   "metadata": {
    "collapsed": false,
    "jupyter": {
     "outputs_hidden": false
    }
   },
   "outputs": [
    {
     "data": {
      "text/latex": [
       "\\[\\begin{aligned}{ BWR }&={  0.6186\\  }\\\\{ \\dot{W}_{net} }&={  1254.0\\ \\mathrm{kW}  }\\\\{ \\eta_{th} }&={  0.2493\\  }\\\\{  }\\end{aligned}\\]"
      ],
      "text/plain": [
       "<IPython.core.display.Latex object>"
      ]
     },
     "metadata": {},
     "output_type": "display_data"
    }
   ],
   "source": [
    "display.Summary(locals(),['BWR','Wdot_net','eta_th']);"
   ]
  },
  {
   "cell_type": "code",
   "execution_count": null,
   "metadata": {},
   "outputs": [],
   "source": []
  }
 ],
 "metadata": {
  "kernelspec": {
   "display_name": "Python 3",
   "language": "python",
   "name": "python3"
  },
  "language_info": {
   "codemirror_mode": {
    "name": "ipython",
    "version": 3
   },
   "file_extension": ".py",
   "mimetype": "text/x-python",
   "name": "python",
   "nbconvert_exporter": "python",
   "pygments_lexer": "ipython3",
   "version": "3.8.5"
  }
 },
 "nbformat": 4,
 "nbformat_minor": 4
}
