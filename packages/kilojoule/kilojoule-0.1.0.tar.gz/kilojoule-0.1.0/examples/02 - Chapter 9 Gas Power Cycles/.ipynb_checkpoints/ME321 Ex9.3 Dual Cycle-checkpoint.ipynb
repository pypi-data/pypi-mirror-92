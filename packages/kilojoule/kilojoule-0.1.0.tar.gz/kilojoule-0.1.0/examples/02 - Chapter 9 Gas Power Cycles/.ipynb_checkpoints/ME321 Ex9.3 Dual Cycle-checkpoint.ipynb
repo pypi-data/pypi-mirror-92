{
 "cells": [
  {
   "cell_type": "markdown",
   "metadata": {},
   "source": [
    "# Example 9.3: Dual Cycle \n",
    "\n",
    "*John F. Maddox, Ph.D., P.E.<br>\n",
    "University of Kentucky - Paducah Campus<br>\n",
    "ME 321: Engineering Thermodynamics II<br>*"
   ]
  },
  {
   "attachments": {},
   "cell_type": "markdown",
   "metadata": {},
   "source": [
    "## Problem Statement\n",
    "\n",
    "A Dual cycle with intake conditions of $300\\ \\text{K}$ and $1\\ \\text{bar}$ has a compression ratio of $10$, a maximum pressure of $50\\ \\text{bar}$ and a maximum temperature of $2000\\ \\text{K}$.  Using a cold-air-standard analysis, find the cutoff ratio, net work output (kJ/kg), heat input, and cycle efficiency  \n",
    "\n",
    "* (a) $p$-$v$ diagram\n",
    "* (b) $T$-$s$ diagram\n",
    "* (c) $T$,$p$ at each state\n",
    "* (d) $r_c$\n",
    "* (e) $q_{in}$\n",
    "* (f) $w_{net}$\n",
    "* (g) $\\eta_{th}$\n",
    "* (h) $\\text{MEP}$"
   ]
  },
  {
   "cell_type": "markdown",
   "metadata": {},
   "source": [
    "## Solution\n"
   ]
  },
  {
   "cell_type": "markdown",
   "metadata": {},
   "source": [
    "### Python Initialization\n",
    "We'll start by importing the libraries we will use for our analysis and initializing dictionaries to hold the properties we will be usings."
   ]
  },
  {
   "cell_type": "code",
   "execution_count": 1,
   "metadata": {},
   "outputs": [],
   "source": [
    "from thermoJFM import *\n",
    "\n",
    "properties_dict = {\n",
    "    'T':'K',\n",
    "    'p':'kPa',\n",
    "    'v':'m^3/kg',\n",
    "}\n",
    "states = StatesTable(properties_dict, unit_system='SI_C')\n",
    "for property in states.properties:\n",
    "    globals()[property] = states.dict[property]"
   ]
  },
  {
   "cell_type": "markdown",
   "metadata": {},
   "source": [
    "### Given Parameters\n",
    "We now define variables to hold our known values."
   ]
  },
  {
   "cell_type": "code",
   "execution_count": 6,
   "metadata": {},
   "outputs": [
    {
     "data": {
      "text/latex": [
       "\\begin{align}{ T_{1} }&={  300\\ \\mathrm{K}  }\\end{align}"
      ],
      "text/plain": [
       "<IPython.core.display.Latex object>"
      ]
     },
     "metadata": {},
     "output_type": "display_data"
    },
    {
     "data": {
      "text/latex": [
       "\\begin{align}{ p_{1} }&={ \\left( 1\\ \\mathrm{bar} \\right) } = { 100.0\\ \\mathrm{kPa}  }\\end{align}"
      ],
      "text/plain": [
       "<IPython.core.display.Latex object>"
      ]
     },
     "metadata": {},
     "output_type": "display_data"
    },
    {
     "data": {
      "text/latex": [
       "\\begin{align}{ r }&={  10\\  }\\end{align}"
      ],
      "text/plain": [
       "<IPython.core.display.Latex object>"
      ]
     },
     "metadata": {},
     "output_type": "display_data"
    },
    {
     "data": {
      "text/latex": [
       "\\begin{align}{ p_{max} }&={  50\\ \\mathrm{bar}  }\\end{align}"
      ],
      "text/plain": [
       "<IPython.core.display.Latex object>"
      ]
     },
     "metadata": {},
     "output_type": "display_data"
    },
    {
     "data": {
      "text/latex": [
       "\\begin{align}{ T_{max} }&={  2000\\ \\mathrm{K}  }\\end{align}"
      ],
      "text/plain": [
       "<IPython.core.display.Latex object>"
      ]
     },
     "metadata": {},
     "output_type": "display_data"
    }
   ],
   "source": [
    "T[1] = Q_(300,'K')  # Inlet Temperature\n",
    "p[1] = Q_(1,'bar')  # Inlet pressure\n",
    "r = Q_(10,'')       # Compression ratio\n",
    "p_max = Q_(50,'bar')# Max pressure\n",
    "T_max = Q_(2000,'K')# Max Temperature\n",
    "\n",
    "sc=ShowCalculations(locals(),comments=True)"
   ]
  },
  {
   "cell_type": "markdown",
   "metadata": {},
   "source": [
    "### Assumptions\n",
    "- Cold-air-standard Analysis\n",
    "  - Ideal gas\n",
    "  - Constant specific heat (evaluated at $300\\ \\text{K}$)\n",
    "- Maximum pressure occurs at states 3 and 4\n",
    "- Maximum temperature occurs at state 4\n",
    "- Negligible changes in kinetic energy\n",
    "- Negligible changes in potential energy"
   ]
  },
  {
   "cell_type": "code",
   "execution_count": 8,
   "metadata": {},
   "outputs": [
    {
     "data": {
      "text/markdown": [
       " Cold air standard properties"
      ],
      "text/plain": [
       "<IPython.core.display.Markdown object>"
      ]
     },
     "metadata": {},
     "output_type": "display_data"
    },
    {
     "data": {
      "text/latex": [
       "\\begin{align}{ R }&={  0.287\\ \\frac{\\mathrm{kJ}}{\\left(\\mathrm{K} \\cdot \\mathrm{kg}\\right)}  }\\end{align}"
      ],
      "text/plain": [
       "<IPython.core.display.Latex object>"
      ]
     },
     "metadata": {},
     "output_type": "display_data"
    },
    {
     "data": {
      "text/latex": [
       "\\begin{align}{ c_{p} }&={  1.005\\ \\frac{\\mathrm{kJ}}{\\left(\\mathrm{K} \\cdot \\mathrm{kg}\\right)}  }\\end{align}"
      ],
      "text/plain": [
       "<IPython.core.display.Latex object>"
      ]
     },
     "metadata": {},
     "output_type": "display_data"
    },
    {
     "data": {
      "text/latex": [
       "\\begin{align}{ c_{v} }&={  0.718\\ \\frac{\\mathrm{kJ}}{\\left(\\mathrm{K} \\cdot \\mathrm{kg}\\right)}  }\\end{align}"
      ],
      "text/plain": [
       "<IPython.core.display.Latex object>"
      ]
     },
     "metadata": {},
     "output_type": "display_data"
    },
    {
     "data": {
      "text/latex": [
       "\\begin{align}{ k }&={   1.4   }\\end{align}"
      ],
      "text/plain": [
       "<IPython.core.display.Latex object>"
      ]
     },
     "metadata": {},
     "output_type": "display_data"
    },
    {
     "data": {
      "text/markdown": [
       " Maximum temperature and pressure"
      ],
      "text/plain": [
       "<IPython.core.display.Markdown object>"
      ]
     },
     "metadata": {},
     "output_type": "display_data"
    },
    {
     "data": {
      "text/latex": [
       "\\begin{align}{ p_{3} }&={ p_{max} } = { 5000.0\\ \\mathrm{kPa}  }\\end{align}"
      ],
      "text/plain": [
       "<IPython.core.display.Latex object>"
      ]
     },
     "metadata": {},
     "output_type": "display_data"
    },
    {
     "data": {
      "text/latex": [
       "\\begin{align}{ p_{4} }&={ p_{max} } = { 5000.0\\ \\mathrm{kPa}  }\\end{align}"
      ],
      "text/plain": [
       "<IPython.core.display.Latex object>"
      ]
     },
     "metadata": {},
     "output_type": "display_data"
    },
    {
     "data": {
      "text/latex": [
       "\\begin{align}{ T_{4} }&={ T_{max} } = { 2000\\ \\mathrm{K}  }\\end{align}"
      ],
      "text/plain": [
       "<IPython.core.display.Latex object>"
      ]
     },
     "metadata": {},
     "output_type": "display_data"
    }
   ],
   "source": [
    "# Cold air standard properties\n",
    "R = Q_(0.287,'kJ/kg/K')\n",
    "c_p = Q_(1.005,'kJ/kg/K')\n",
    "c_v = Q_(0.718,'kJ/kg/K')\n",
    "k = 1.4\n",
    "\n",
    "# Maximum temperature and pressure\n",
    "p[3] = p_max\n",
    "p[4] = p_max\n",
    "T[4] = T_max\n",
    "\n",
    "sc=ShowCalculations(locals(),comments=True)"
   ]
  },
  {
   "cell_type": "markdown",
   "metadata": {},
   "source": [
    "#### (c) $T$ and $p$"
   ]
  },
  {
   "cell_type": "code",
   "execution_count": 14,
   "metadata": {},
   "outputs": [
    {
     "data": {
      "text/markdown": [
       " 1-2) Isentropy compression: Isentropic Ideal Gas Relations"
      ],
      "text/plain": [
       "<IPython.core.display.Markdown object>"
      ]
     },
     "metadata": {},
     "output_type": "display_data"
    },
    {
     "data": {
      "text/latex": [
       "\\begin{align}{ T_{2} }&={ T_{1} r^{k - 1} }\\\\&={ \\left( 300\\ \\mathrm{K} \\right) \\left(  1 0\\ \\right)^{  1 .4  -  1 } }\\\\&={  753.57\\ \\mathrm{K}  }\\end{align}"
      ],
      "text/plain": [
       "<IPython.core.display.Latex object>"
      ]
     },
     "metadata": {},
     "output_type": "display_data"
    },
    {
     "data": {
      "text/latex": [
       "\\begin{align}{ p_{2} }&={ p_{1} r^{k} }\\\\&={ \\left( 100.0\\ \\mathrm{kPa} \\right) \\left( 10\\ \\right)^{ 1.4 } }\\\\&={  2511.9\\ \\mathrm{kPa}  }\\end{align}"
      ],
      "text/plain": [
       "<IPython.core.display.Latex object>"
      ]
     },
     "metadata": {},
     "output_type": "display_data"
    },
    {
     "data": {
      "text/markdown": [
       " 2-3) Constant volume heat addition: Ideal Gas law at both states"
      ],
      "text/plain": [
       "<IPython.core.display.Markdown object>"
      ]
     },
     "metadata": {},
     "output_type": "display_data"
    },
    {
     "data": {
      "text/latex": [
       "\\begin{align}{ T_{3} }&={ \\frac{T_{2} p_{3}}{p_{2}} }\\\\&={ \\frac{\\left( 753.57\\ \\mathrm{K} \\right) \\left( 5000.0\\ \\mathrm{kPa} \\right)}{\\left( 2511.9\\ \\mathrm{kPa} \\right)} }\\\\&={  1500.0\\ \\mathrm{K}  }\\end{align}"
      ],
      "text/plain": [
       "<IPython.core.display.Latex object>"
      ]
     },
     "metadata": {},
     "output_type": "display_data"
    },
    {
     "data": {
      "text/markdown": [
       " 3-4) Constant pressure heat addition: We already know $T_4$ and $p_4$"
      ],
      "text/plain": [
       "<IPython.core.display.Markdown object>"
      ]
     },
     "metadata": {},
     "output_type": "display_data"
    },
    {
     "data": {
      "text/markdown": [
       " 4-5) Isentropic Exmpansion: Isentropi Ideal Gas Relations"
      ],
      "text/plain": [
       "<IPython.core.display.Markdown object>"
      ]
     },
     "metadata": {},
     "output_type": "display_data"
    },
    {
     "data": {
      "text/latex": [
       "\\begin{align}{ v_{1} }&={ \\frac{R T_{1}}{p_{1}} }\\\\&={ \\frac{\\left( 0.287\\ \\frac{\\mathrm{kJ}}{\\left(\\mathrm{K} \\cdot \\mathrm{kg}\\right)} \\right) \\left( 300\\ \\mathrm{K} \\right)}{\\left( 100.0\\ \\mathrm{kPa} \\right)} }\\\\&={  0.861\\ \\frac{\\mathrm{m}^{3}}{\\mathrm{kg}}  }\\end{align}"
      ],
      "text/plain": [
       "<IPython.core.display.Latex object>"
      ]
     },
     "metadata": {},
     "output_type": "display_data"
    },
    {
     "data": {
      "text/latex": [
       "\\begin{align}{ v_{5} }&={ v_{1} } = { 0.861\\ \\frac{\\mathrm{m}^{3}}{\\mathrm{kg}}  }\\end{align}"
      ],
      "text/plain": [
       "<IPython.core.display.Latex object>"
      ]
     },
     "metadata": {},
     "output_type": "display_data"
    },
    {
     "data": {
      "text/latex": [
       "\\begin{align}{ v_{4} }&={ \\frac{R T_{4}}{p_{4}} }\\\\&={ \\frac{\\left( 0.287\\ \\frac{\\mathrm{kJ}}{\\left(\\mathrm{K} \\cdot \\mathrm{kg}\\right)} \\right) \\left( 2000\\ \\mathrm{K} \\right)}{\\left( 5000.0\\ \\mathrm{kPa} \\right)} }\\\\&={  0.1148\\ \\frac{\\mathrm{m}^{3}}{\\mathrm{kg}}  }\\end{align}"
      ],
      "text/plain": [
       "<IPython.core.display.Latex object>"
      ]
     },
     "metadata": {},
     "output_type": "display_data"
    },
    {
     "data": {
      "text/latex": [
       "\\begin{align}{ T_{5} }&={ T_{4} \\left(\\frac{v_{4}}{v_{5}}\\right)^{k - 1} }\\\\&={ \\left( 2000\\ \\mathrm{K} \\right) \\left(\\frac{\\left( 0. 1  1 48\\ \\frac{\\mathrm{m}^{3}}{\\mathrm{kg}} \\right)}{\\left( 0.86 1 \\ \\frac{\\mathrm{m}^{3}}{\\mathrm{kg}} \\right)}\\right)^{  1 .4  -  1 } }\\\\&={  893.32\\ \\mathrm{K}  }\\end{align}"
      ],
      "text/plain": [
       "<IPython.core.display.Latex object>"
      ]
     },
     "metadata": {},
     "output_type": "display_data"
    },
    {
     "data": {
      "text/latex": [
       "\\begin{align}{ p_{5} }&={ \\frac{R T_{5}}{v_{5}} }\\\\&={ \\frac{\\left( 0.287\\ \\frac{\\mathrm{kJ}}{\\left(\\mathrm{K} \\cdot \\mathrm{kg}\\right)} \\right) \\left( 893.32\\ \\mathrm{K} \\right)}{\\left( 0.861\\ \\frac{\\mathrm{m}^{3}}{\\mathrm{kg}} \\right)} }\\\\&={  297.77\\ \\mathrm{kPa}  }\\end{align}"
      ],
      "text/plain": [
       "<IPython.core.display.Latex object>"
      ]
     },
     "metadata": {},
     "output_type": "display_data"
    },
    {
     "data": {
      "text/html": [
       "<table border=\"1\" class=\"dataframe\">\n",
       "  <thead>\n",
       "    <tr style=\"text-align: right;\">\n",
       "      <th></th>\n",
       "      <th>T [K]</th>\n",
       "      <th>p [kPa]</th>\n",
       "      <th>v [m³/kg]</th>\n",
       "    </tr>\n",
       "  </thead>\n",
       "  <tbody>\n",
       "    <tr>\n",
       "      <th>1</th>\n",
       "      <td>300.000000</td>\n",
       "      <td>100.000000</td>\n",
       "      <td>0.861</td>\n",
       "    </tr>\n",
       "    <tr>\n",
       "      <th>2</th>\n",
       "      <td>753.565929</td>\n",
       "      <td>2511.886432</td>\n",
       "      <td>-</td>\n",
       "    </tr>\n",
       "    <tr>\n",
       "      <th>3</th>\n",
       "      <td>1500.000000</td>\n",
       "      <td>5000.000000</td>\n",
       "      <td>-</td>\n",
       "    </tr>\n",
       "    <tr>\n",
       "      <th>4</th>\n",
       "      <td>2000.000000</td>\n",
       "      <td>5000.000000</td>\n",
       "      <td>0.1148</td>\n",
       "    </tr>\n",
       "    <tr>\n",
       "      <th>5</th>\n",
       "      <td>893.316777</td>\n",
       "      <td>297.772259</td>\n",
       "      <td>0.861</td>\n",
       "    </tr>\n",
       "  </tbody>\n",
       "</table>"
      ],
      "text/plain": [
       "<IPython.core.display.HTML object>"
      ]
     },
     "metadata": {},
     "output_type": "display_data"
    }
   ],
   "source": [
    "# 1-2) Isentropy compression: Isentropic Ideal Gas Relations\n",
    "T[2] = T[1]*r**(k-1)\n",
    "p[2] = p[1]*r**k\n",
    "\n",
    "# 2-3) Constant volume heat addition: Ideal Gas law at both states\n",
    "T[3] = T[2]*p[3]/p[2]\n",
    "\n",
    "# 3-4) Constant pressure heat addition: We already know $T_4$ and $p_4$\n",
    "\n",
    "# 4-5) Isentropic Exmpansion: Isentropi Ideal Gas Relations\n",
    "v[1] = R*T[1]/p[1]\n",
    "v[5] = v[1]\n",
    "v[4] = R*T[4]/p[4]\n",
    "T[5] = T[4]*(v[4]/v[5])**(k-1)\n",
    "p[5] = R*T[5]/v[5]\n",
    "\n",
    "sc=ShowCalculations(locals(),comments=True)\n",
    "states.display()"
   ]
  },
  {
   "cell_type": "markdown",
   "metadata": {},
   "source": [
    "#### (b) Cur-off ratio"
   ]
  },
  {
   "cell_type": "code",
   "execution_count": 15,
   "metadata": {},
   "outputs": [
    {
     "data": {
      "text/latex": [
       "\\begin{align}{ v_{3} }&={ \\frac{R T_{3}}{p_{3}} }\\\\&={ \\frac{\\left( 0.287\\ \\frac{\\mathrm{kJ}}{\\left(\\mathrm{K} \\cdot \\mathrm{kg}\\right)} \\right) \\left( 1500.0\\ \\mathrm{K} \\right)}{\\left( 5000.0\\ \\mathrm{kPa} \\right)} }\\\\&={  0.0861\\ \\frac{\\mathrm{m}^{3}}{\\mathrm{kg}}  }\\end{align}"
      ],
      "text/plain": [
       "<IPython.core.display.Latex object>"
      ]
     },
     "metadata": {},
     "output_type": "display_data"
    },
    {
     "data": {
      "text/latex": [
       "\\begin{align}{ r_{c} }&={ \\frac{v_{4}}{v_{3}} }\\\\&={ \\frac{\\left( 0.1148\\ \\frac{\\mathrm{m}^{3}}{\\mathrm{kg}} \\right)}{\\left( 0.0861\\ \\frac{\\mathrm{m}^{3}}{\\mathrm{kg}} \\right)} }\\\\&={  1.3333\\  }\\end{align}"
      ],
      "text/plain": [
       "<IPython.core.display.Latex object>"
      ]
     },
     "metadata": {},
     "output_type": "display_data"
    }
   ],
   "source": [
    "v[3] = R*T[3]/p[3]\n",
    "r_c = v[4]/v[3]\n",
    "\n",
    "sc=ShowCalculations(locals(),comments=True)"
   ]
  },
  {
   "cell_type": "markdown",
   "metadata": {},
   "source": [
    "#### (c) Heat input"
   ]
  },
  {
   "cell_type": "code",
   "execution_count": 20,
   "metadata": {},
   "outputs": [
    {
     "data": {
      "text/markdown": [
       " 1st Law 2$\\to$3"
      ],
      "text/plain": [
       "<IPython.core.display.Markdown object>"
      ]
     },
     "metadata": {},
     "output_type": "display_data"
    },
    {
     "data": {
      "text/latex": [
       "\\begin{align}{ q_{2\\to3} }&={ c_{v} \\left(T_{3} - T_{2}\\right) }\\\\&={ \\left( 0.718\\ \\frac{\\mathrm{kJ}}{\\left(\\mathrm{K} \\cdot \\mathrm{kg}\\right)} \\right) \\left(\\left( 1500.0\\ \\mathrm{K} \\right) - \\left( 753.57\\ \\mathrm{K} \\right)\\right) }\\\\&={  535.94\\ \\frac{\\mathrm{kJ}}{\\mathrm{kg}}  }\\end{align}"
      ],
      "text/plain": [
       "<IPython.core.display.Latex object>"
      ]
     },
     "metadata": {},
     "output_type": "display_data"
    },
    {
     "data": {
      "text/markdown": [
       " 1st Law 3$\\to$4"
      ],
      "text/plain": [
       "<IPython.core.display.Markdown object>"
      ]
     },
     "metadata": {},
     "output_type": "display_data"
    },
    {
     "data": {
      "text/latex": [
       "\\begin{align}{ q_{3\\to4} }&={ c_{p} \\left(T_{4} - T_{3}\\right) }\\\\&={ \\left( 1.005\\ \\frac{\\mathrm{kJ}}{\\left(\\mathrm{K} \\cdot \\mathrm{kg}\\right)} \\right) \\left(\\left( 2000\\ \\mathrm{K} \\right) - \\left( 1500.0\\ \\mathrm{K} \\right)\\right) }\\\\&={  502.5\\ \\frac{\\mathrm{kJ}}{\\mathrm{kg}}  }\\end{align}"
      ],
      "text/plain": [
       "<IPython.core.display.Latex object>"
      ]
     },
     "metadata": {},
     "output_type": "display_data"
    },
    {
     "data": {
      "text/markdown": [
       " Total heat input"
      ],
      "text/plain": [
       "<IPython.core.display.Markdown object>"
      ]
     },
     "metadata": {},
     "output_type": "display_data"
    },
    {
     "data": {
      "text/latex": [
       "\\begin{align}{ q_{in} }&={ q_{3\\to4} + q_{2\\to3} }\\\\&={ \\left( 502.5\\ \\frac{\\mathrm{kJ}}{\\mathrm{kg}} \\right) + \\left( 535.94\\ \\frac{\\mathrm{kJ}}{\\mathrm{kg}} \\right) }\\\\&={  1038.4\\ \\frac{\\mathrm{kJ}}{\\mathrm{kg}}  }\\end{align}"
      ],
      "text/plain": [
       "<IPython.core.display.Latex object>"
      ]
     },
     "metadata": {},
     "output_type": "display_data"
    }
   ],
   "source": [
    "# 1st Law 2$\\to$3\n",
    "q_2_to_3 = c_v*(T[3]-T[2])\n",
    "\n",
    "# 1st Law 3$\\to$4\n",
    "q_3_to_4 = c_p*(T[4]-T[3])\n",
    "\n",
    "# Total heat input\n",
    "q_in = q_2_to_3 + q_3_to_4 \n",
    "\n",
    "sc=ShowCalculations(locals(),comments=True)"
   ]
  },
  {
   "cell_type": "markdown",
   "metadata": {},
   "source": [
    "#### (d) $w_{net}$"
   ]
  },
  {
   "cell_type": "code",
   "execution_count": 22,
   "metadata": {},
   "outputs": [
    {
     "data": {
      "text/markdown": [
       " 1st Law 5$\\to$1"
      ],
      "text/plain": [
       "<IPython.core.display.Markdown object>"
      ]
     },
     "metadata": {},
     "output_type": "display_data"
    },
    {
     "data": {
      "text/latex": [
       "\\begin{align}{ q_{5\\to1} }&={ c_{v} \\left(- T_{5} + T_{1}\\right) }\\\\&={ \\left( 0.718\\ \\frac{\\mathrm{kJ}}{\\left(\\mathrm{K} \\cdot \\mathrm{kg}\\right)} \\right) \\left(- \\left( 893.32\\ \\mathrm{K} \\right) + \\left( 300\\ \\mathrm{K} \\right)\\right) }\\\\&={  -426.0\\ \\frac{\\mathrm{kJ}}{\\mathrm{kg}}  }\\end{align}"
      ],
      "text/plain": [
       "<IPython.core.display.Latex object>"
      ]
     },
     "metadata": {},
     "output_type": "display_data"
    },
    {
     "data": {
      "text/latex": [
       "\\begin{align}{ q_{out} }&={ - q_{5\\to1} }\\\\&={ - \\left( -426.0\\ \\frac{\\mathrm{kJ}}{\\mathrm{kg}} \\right) }\\\\&={  426.0\\ \\frac{\\mathrm{kJ}}{\\mathrm{kg}}  }\\end{align}"
      ],
      "text/plain": [
       "<IPython.core.display.Latex object>"
      ]
     },
     "metadata": {},
     "output_type": "display_data"
    },
    {
     "data": {
      "text/markdown": [
       " 1st Law Full Cycle"
      ],
      "text/plain": [
       "<IPython.core.display.Markdown object>"
      ]
     },
     "metadata": {},
     "output_type": "display_data"
    },
    {
     "data": {
      "text/latex": [
       "\\begin{align}{ w_{net} }&={ q_{in} - q_{out} }\\\\&={ \\left( 1038.4\\ \\frac{\\mathrm{kJ}}{\\mathrm{kg}} \\right) - \\left( 426.0\\ \\frac{\\mathrm{kJ}}{\\mathrm{kg}} \\right) }\\\\&={  612.44\\ \\frac{\\mathrm{kJ}}{\\mathrm{kg}}  }\\end{align}"
      ],
      "text/plain": [
       "<IPython.core.display.Latex object>"
      ]
     },
     "metadata": {},
     "output_type": "display_data"
    }
   ],
   "source": [
    "# 1st Law 5$\\to$1\n",
    "q_5_to_1 = c_v*(T[1]-T[5])\n",
    "q_out = -q_5_to_1\n",
    "\n",
    "# 1st Law Full Cycle\n",
    "w_net = q_in-q_out\n",
    "\n",
    "sc=ShowCalculations(locals(),comments=True)"
   ]
  },
  {
   "cell_type": "markdown",
   "metadata": {},
   "source": [
    "#### (e) $\\eta_{th}$"
   ]
  },
  {
   "cell_type": "code",
   "execution_count": 23,
   "metadata": {},
   "outputs": [
    {
     "data": {
      "text/markdown": [
       " Thermal efficiency"
      ],
      "text/plain": [
       "<IPython.core.display.Markdown object>"
      ]
     },
     "metadata": {},
     "output_type": "display_data"
    },
    {
     "data": {
      "text/latex": [
       "\\begin{align}{ \\eta_{th} }&={ \\frac{w_{net}}{q_{in}} }\\\\&={ \\frac{\\left( 612.44\\ \\frac{\\mathrm{kJ}}{\\mathrm{kg}} \\right)}{\\left( 1038.4\\ \\frac{\\mathrm{kJ}}{\\mathrm{kg}} \\right)} }\\\\&={  0.58977\\  }\\end{align}"
      ],
      "text/plain": [
       "<IPython.core.display.Latex object>"
      ]
     },
     "metadata": {},
     "output_type": "display_data"
    }
   ],
   "source": [
    "# Thermal efficiency\n",
    "eta_th = w_net/q_in\n",
    "\n",
    "sc=ShowCalculations(locals(),comments=True)"
   ]
  },
  {
   "cell_type": "markdown",
   "metadata": {},
   "source": [
    "#### (f) MEP"
   ]
  },
  {
   "cell_type": "code",
   "execution_count": 25,
   "metadata": {},
   "outputs": [
    {
     "data": {
      "text/markdown": [
       " Mean Effective Pressure"
      ],
      "text/plain": [
       "<IPython.core.display.Markdown object>"
      ]
     },
     "metadata": {},
     "output_type": "display_data"
    },
    {
     "data": {
      "text/latex": [
       "\\begin{align}{ v_{max} }&={ v_{1} } = { 0.861\\ \\frac{\\mathrm{m}^{3}}{\\mathrm{kg}}  }\\end{align}"
      ],
      "text/plain": [
       "<IPython.core.display.Latex object>"
      ]
     },
     "metadata": {},
     "output_type": "display_data"
    },
    {
     "data": {
      "text/latex": [
       "\\begin{align}{ v_{2} }&={ v_{3} } = { 0.0861\\ \\frac{\\mathrm{m}^{3}}{\\mathrm{kg}}  }\\end{align}"
      ],
      "text/plain": [
       "<IPython.core.display.Latex object>"
      ]
     },
     "metadata": {},
     "output_type": "display_data"
    },
    {
     "data": {
      "text/latex": [
       "\\begin{align}{ v_{min} }&={ v_{2} } = { 0.0861\\ \\frac{\\mathrm{m}^{3}}{\\mathrm{kg}}  }\\end{align}"
      ],
      "text/plain": [
       "<IPython.core.display.Latex object>"
      ]
     },
     "metadata": {},
     "output_type": "display_data"
    },
    {
     "data": {
      "text/latex": [
       "\\begin{align}{ MEP }&={ \\frac{w_{net}}{v_{max} - v_{min}} }\\\\&={ \\frac{\\left( 612.44\\ \\frac{\\mathrm{kJ}}{\\mathrm{kg}} \\right)}{\\left( 0.861\\ \\frac{\\mathrm{m}^{3}}{\\mathrm{kg}} \\right) - \\left( 0.0861\\ \\frac{\\mathrm{m}^{3}}{\\mathrm{kg}} \\right)} }\\\\&={  790.34\\ \\frac{\\mathrm{kJ}}{\\mathrm{m}^{3}}  }\\end{align}"
      ],
      "text/plain": [
       "<IPython.core.display.Latex object>"
      ]
     },
     "metadata": {},
     "output_type": "display_data"
    }
   ],
   "source": [
    "# Mean Effective Pressure\n",
    "v_max = v[1]\n",
    "v[2] = v[3]\n",
    "v_min = v[2]\n",
    "MEP = w_net/(v_max-v_min)\n",
    "\n",
    "sc=ShowCalculations(locals(),comments=True)"
   ]
  },
  {
   "cell_type": "markdown",
   "metadata": {},
   "source": [
    "#### (a) $p$-$v$"
   ]
  },
  {
   "cell_type": "code",
   "execution_count": 35,
   "metadata": {},
   "outputs": [
    {
     "data": {
      "text/plain": [
       "[<matplotlib.lines.Line2D at 0x297166fe588>]"
      ]
     },
     "execution_count": 35,
     "metadata": {},
     "output_type": "execute_result"
    },
    {
     "data": {
      "image/png": "[encoded data removed]",
      "text/plain": [
       "<Figure size 432x288 with 1 Axes>"
      ]
     },
     "metadata": {
      "needs_background": "light"
     },
     "output_type": "display_data"
    }
   ],
   "source": [
    "# Will need entropies from the tables to draw the paths\n",
    "air=FluidProperties('Air','SI_K')\n",
    "states.add_property('s',units='kJ/kg/K')\n",
    "s = states.dict['s']\n",
    "\n",
    "pv = FluidPropertyPlot(x='v',y='p',fluid='Air')\n",
    "for i in range(1,6):\n",
    "    pv.plot_state(states[i],label_loc='north east')\n",
    "    s[i] = air.s(T=T[i],p=p[i])\n",
    "pv.plot_process(states[1],states[2],path='isentropic')\n",
    "pv.plot_process(states[2],states[3],path='isochoric')\n",
    "pv.plot_process(states[3],states[4],path='isobaric')\n",
    "pv.plot_process(states[4],states[5],path='isentropic')\n",
    "pv.plot_process(states[5],states[1],path='isochoric')"
   ]
  },
  {
   "cell_type": "markdown",
   "metadata": {},
   "source": [
    "#### (b) $T$-$s$ diagram\n",
    "Note: the isentropic lines are not vertical in this diagram because the entropies were \n",
    "calculated for air as a real fluid, but all other properties were calculated using the\n",
    "cold-air-standard assumptions.  Therefore the errors resulting from the ideal-gas and\n",
    "constant specific heat assumptions are evident in the skewed shape of the cycle on the $T$-$s$ diagram."
   ]
  },
  {
   "cell_type": "code",
   "execution_count": 39,
   "metadata": {},
   "outputs": [
    {
     "data": {
      "text/plain": [
       "[<matplotlib.lines.Line2D at 0x2971675b488>]"
      ]
     },
     "execution_count": 39,
     "metadata": {},
     "output_type": "execute_result"
    },
    {
     "data": {
      "image/png": "[encoded data removed]",
      "text/plain": [
       "<Figure size 432x288 with 1 Axes>"
      ]
     },
     "metadata": {
      "needs_background": "light"
     },
     "output_type": "display_data"
    }
   ],
   "source": [
    "Ts = FluidPropertyPlot(x='s',y='T',fluid='Air')\n",
    "for i in range(1,6):\n",
    "    Ts.plot_state(states[i],label_loc='north east')\n",
    "Ts.plot_process(states[1],states[2],path='isentropic')\n",
    "Ts.plot_process(states[2],states[3],path='isochoric')\n",
    "Ts.plot_process(states[3],states[4],path='isobaric')\n",
    "Ts.plot_process(states[4],states[5],path='isentropic')\n",
    "Ts.plot_process(states[5],states[1],path='isochoric')"
   ]
  },
  {
   "cell_type": "code",
   "execution_count": 38,
   "metadata": {},
   "outputs": [
    {
     "data": {
      "text/latex": [
       "\\begin{align}{ MEP }&={  790.34\\ \\frac{\\mathrm{kJ}}{\\mathrm{m}^{3}}  }&{ R }&={  0.287\\ \\frac{\\mathrm{kJ}}{\\left(\\mathrm{K} \\cdot \\mathrm{kg}\\right)}  }&{ T_{max} }&={  2000\\ \\mathrm{K}  }\\\\{ c_{p} }&={  1.005\\ \\frac{\\mathrm{kJ}}{\\left(\\mathrm{K} \\cdot \\mathrm{kg}\\right)}  }&{ c_{v} }&={  0.718\\ \\frac{\\mathrm{kJ}}{\\left(\\mathrm{K} \\cdot \\mathrm{kg}\\right)}  }&{ \\eta_{th} }&={  0.58977\\  }\\\\{ p_{max} }&={  50\\ \\mathrm{bar}  }&{ q_{2\\to3} }&={  535.94\\ \\frac{\\mathrm{kJ}}{\\mathrm{kg}}  }&{ q_{3\\to4} }&={  502.5\\ \\frac{\\mathrm{kJ}}{\\mathrm{kg}}  }\\\\{ q_{5\\to1} }&={  -426.0\\ \\frac{\\mathrm{kJ}}{\\mathrm{kg}}  }&{ q_{in} }&={  1038.4\\ \\frac{\\mathrm{kJ}}{\\mathrm{kg}}  }&{ q_{out} }&={  426.0\\ \\frac{\\mathrm{kJ}}{\\mathrm{kg}}  }\\\\{ q_{tot} }&={  1038.4\\ \\frac{\\mathrm{kJ}}{\\mathrm{kg}}  }&{ r }&={  10\\  }&{ r_{c} }&={  1.3333\\  }\\\\{ v_{max} }&={  0.861\\ \\frac{\\mathrm{m}^{3}}{\\mathrm{kg}}  }&{ v_{min} }&={  0.0861\\ \\frac{\\mathrm{m}^{3}}{\\mathrm{kg}}  }&{ w_{net} }&={  612.44\\ \\frac{\\mathrm{kJ}}{\\mathrm{kg}}  }\\\\{  }\\end{align}"
      ],
      "text/plain": [
       "<IPython.core.display.Latex object>"
      ]
     },
     "metadata": {},
     "output_type": "display_data"
    },
    {
     "data": {
      "text/html": [
       "<table border=\"1\" class=\"dataframe\">\n",
       "  <thead>\n",
       "    <tr style=\"text-align: right;\">\n",
       "      <th></th>\n",
       "      <th>T [K]</th>\n",
       "      <th>p [kPa]</th>\n",
       "      <th>v [m³/kg]</th>\n",
       "      <th>s [kJ/K/kg]</th>\n",
       "    </tr>\n",
       "  </thead>\n",
       "  <tbody>\n",
       "    <tr>\n",
       "      <th>1</th>\n",
       "      <td>300.000000</td>\n",
       "      <td>100.000000</td>\n",
       "      <td>0.8610</td>\n",
       "      <td>3.890501</td>\n",
       "    </tr>\n",
       "    <tr>\n",
       "      <th>2</th>\n",
       "      <td>753.565929</td>\n",
       "      <td>2511.886432</td>\n",
       "      <td>0.0861</td>\n",
       "      <td>3.914869</td>\n",
       "    </tr>\n",
       "    <tr>\n",
       "      <th>3</th>\n",
       "      <td>1500.000000</td>\n",
       "      <td>5000.000000</td>\n",
       "      <td>0.0861</td>\n",
       "      <td>4.511141</td>\n",
       "    </tr>\n",
       "    <tr>\n",
       "      <th>4</th>\n",
       "      <td>2000.000000</td>\n",
       "      <td>5000.000000</td>\n",
       "      <td>0.1148</td>\n",
       "      <td>4.865669</td>\n",
       "    </tr>\n",
       "    <tr>\n",
       "      <th>5</th>\n",
       "      <td>893.316777</td>\n",
       "      <td>297.772259</td>\n",
       "      <td>0.8610</td>\n",
       "      <td>4.716294</td>\n",
       "    </tr>\n",
       "  </tbody>\n",
       "</table>"
      ],
      "text/plain": [
       "<IPython.core.display.HTML object>"
      ]
     },
     "metadata": {},
     "output_type": "display_data"
    }
   ],
   "source": [
    "ss=ShowSummary(locals())"
   ]
  }
 ],
 "metadata": {
  "kernelspec": {
   "display_name": "Python 3",
   "language": "python",
   "name": "python3"
  },
  "language_info": {
   "codemirror_mode": {
    "name": "ipython",
    "version": 3
   },
   "file_extension": ".py",
   "mimetype": "text/x-python",
   "name": "python",
   "nbconvert_exporter": "python",
   "pygments_lexer": "ipython3",
   "version": "3.7.7"
  }
 },
 "nbformat": 4,
 "nbformat_minor": 4
}
