{
 "cells": [
  {
   "cell_type": "markdown",
   "metadata": {},
   "source": [
    "# Example 9.2: Otto Cycle \n",
    "\n",
    "*John F. Maddox, Ph.D., P.E.<br>\n",
    "University of Kentucky - Paducah Campus<br>\n",
    "ME 321: Engineering Thermodynamics II<br>*"
   ]
  },
  {
   "attachments": {},
   "cell_type": "markdown",
   "metadata": {},
   "source": [
    "## Problem Statement\n",
    "An Otto cycle with compression ratio of $8$ starts its compression stroke from $p_1=1\\ \\text{bar}$, $T_1=300\\ \\text{K}$.  The maximum temperature after combustion is $1200\\ \\text{K}$.  \n",
    "Determine:\n",
    "* (a) $p$-$v$ diagram\n",
    "* (b) $T$-$s$ diagram\n",
    "* (c) $T$,$p$ at each state\n",
    "* (d) $q_{in}$\n",
    "* (e) $w_{net}$\n",
    "* (f) $\\eta_{th}$"
   ]
  },
  {
   "cell_type": "markdown",
   "metadata": {},
   "source": [
    "## Solution\n"
   ]
  },
  {
   "cell_type": "markdown",
   "metadata": {},
   "source": [
    "### Python Initialization\n",
    "We'll start by importing the libraries we will use for our analysis and initializing dictionaries to hold the properties we will be usings."
   ]
  },
  {
   "cell_type": "code",
   "execution_count": 42,
   "metadata": {},
   "outputs": [],
   "source": [
    "from thermoJFM import *\n",
    "\n",
    "properties_dict = {\n",
    "    'T':'K',\n",
    "    'p':'kPa',\n",
    "    'v':'m^3/kg',\n",
    "    'u':'kJ/kg',\n",
    "    's':'kJ/kg/K',\n",
    "}\n",
    "states = StatesTable(properties_dict, unit_system='SI_C')\n",
    "for property in states.properties:\n",
    "    globals()[property] = states.dict[property]\n",
    "\n",
    "air = FluidProperties('Air', unit_system='SI_C')\n"
   ]
  },
  {
   "cell_type": "markdown",
   "metadata": {},
   "source": [
    "### Given Parameters\n",
    "We now define variables to hold our known values."
   ]
  },
  {
   "cell_type": "code",
   "execution_count": 43,
   "metadata": {},
   "outputs": [
    {
     "data": {
      "text/latex": [
       "\\begin{align}{ T_{1} }&={  300\\ \\mathrm{K}  }\\end{align}"
      ],
      "text/plain": [
       "<IPython.core.display.Latex object>"
      ]
     },
     "execution_count": 43,
     "metadata": {},
     "output_type": "execute_result"
    },
    {
     "data": {
      "text/latex": [
       "\\begin{align}{ p_{1} }&={ \\left( 1\\ \\mathrm{bar} \\right) } = { 100.0\\ \\mathrm{kPa}  }\\end{align}"
      ],
      "text/plain": [
       "<IPython.core.display.Latex object>"
      ]
     },
     "execution_count": 43,
     "metadata": {},
     "output_type": "execute_result"
    },
    {
     "data": {
      "text/latex": [
       "\\begin{align}{ T_{max} }&={  1200\\ \\mathrm{K}  }\\end{align}"
      ],
      "text/plain": [
       "<IPython.core.display.Latex object>"
      ]
     },
     "execution_count": 43,
     "metadata": {},
     "output_type": "execute_result"
    },
    {
     "data": {
      "text/latex": [
       "\\begin{align}{ r }&={  8\\  }\\end{align}"
      ],
      "text/plain": [
       "<IPython.core.display.Latex object>"
      ]
     },
     "execution_count": 43,
     "metadata": {},
     "output_type": "execute_result"
    }
   ],
   "source": [
    "T[1] = Q_(300,'K')\n",
    "p[1] = Q_(1,'bar')\n",
    "T_max = Q_(1200,'K')\n",
    "r = Q_(8,'')\n",
    "\n",
    "sc=ShowCalculations(locals(),comments=True)"
   ]
  },
  {
   "cell_type": "markdown",
   "metadata": {},
   "source": [
    "### Assumptions\n",
    "  - Treat air as a real fluid\n",
    "  - Variable Specific Heat"
   ]
  },
  {
   "cell_type": "markdown",
   "metadata": {},
   "source": [
    "#### (c) $T$,$p$ at each state "
   ]
  },
  {
   "cell_type": "code",
   "execution_count": 44,
   "metadata": {},
   "outputs": [
    {
     "data": {
      "text/markdown": [
       " Isentropic Compression $1\\to2$"
      ],
      "text/plain": [
       "<IPython.core.display.Markdown object>"
      ]
     },
     "execution_count": 44,
     "metadata": {},
     "output_type": "execute_result"
    },
    {
     "data": {
      "text/latex": [
       "\\begin{align}{ s_{1} }&={ \\mathrm{air.s}\\left(\\mathrm{T}=T_{1} , \\mathrm{p}=p_{1}\\right) } = { 3.8905\\ \\frac{\\mathrm{kJ}}{\\left(\\mathrm{K} \\cdot \\mathrm{kg}\\right)}  }\\end{align}"
      ],
      "text/plain": [
       "<IPython.core.display.Latex object>"
      ]
     },
     "execution_count": 44,
     "metadata": {},
     "output_type": "execute_result"
    },
    {
     "data": {
      "text/latex": [
       "\\begin{align}{ v_{1} }&={ \\mathrm{air.v}\\left(\\mathrm{T}=T_{1} , \\mathrm{p}=p_{1}\\right) } = { 0.86088\\ \\frac{\\mathrm{m}^{3}}{\\mathrm{kg}}  }\\end{align}"
      ],
      "text/plain": [
       "<IPython.core.display.Latex object>"
      ]
     },
     "execution_count": 44,
     "metadata": {},
     "output_type": "execute_result"
    },
    {
     "data": {
      "text/latex": [
       "\\begin{align}{ v_{2} }&={ \\frac{v_{1}}{r} }\\\\&={ \\frac{\\left( 0.86088\\ \\frac{\\mathrm{m}^{3}}{\\mathrm{kg}} \\right)}{\\left( 8\\ \\right)} }\\\\&={  0.10761\\ \\frac{\\mathrm{m}^{3}}{\\mathrm{kg}}  }\\end{align}"
      ],
      "text/plain": [
       "<IPython.core.display.Latex object>"
      ]
     },
     "execution_count": 44,
     "metadata": {},
     "output_type": "execute_result"
    },
    {
     "data": {
      "text/latex": [
       "\\begin{align}{ s_{2} }&={ s_{1} } = { 3.8905\\ \\frac{\\mathrm{kJ}}{\\left(\\mathrm{K} \\cdot \\mathrm{kg}\\right)}  }\\end{align}"
      ],
      "text/plain": [
       "<IPython.core.display.Latex object>"
      ]
     },
     "execution_count": 44,
     "metadata": {},
     "output_type": "execute_result"
    },
    {
     "data": {
      "text/latex": [
       "\\begin{align}{ T_{2} }&={ \\mathrm{air.T}\\left(\\mathrm{s}=s_{2} , \\mathrm{v}=v_{2}\\right) } = { 675.53\\ \\mathrm{K}  }\\end{align}"
      ],
      "text/plain": [
       "<IPython.core.display.Latex object>"
      ]
     },
     "execution_count": 44,
     "metadata": {},
     "output_type": "execute_result"
    },
    {
     "data": {
      "text/latex": [
       "\\begin{align}{ p_{2} }&={ \\mathrm{air.p}\\left(\\mathrm{s}=s_{2} , \\mathrm{v}=v_{2}\\right) } = { 1814.1\\ \\mathrm{kPa}  }\\end{align}"
      ],
      "text/plain": [
       "<IPython.core.display.Latex object>"
      ]
     },
     "execution_count": 44,
     "metadata": {},
     "output_type": "execute_result"
    },
    {
     "data": {
      "text/markdown": [
       " Isochoric Heat Addition $2\\to3$"
      ],
      "text/plain": [
       "<IPython.core.display.Markdown object>"
      ]
     },
     "execution_count": 44,
     "metadata": {},
     "output_type": "execute_result"
    },
    {
     "data": {
      "text/latex": [
       "\\begin{align}{ v_{3} }&={ v_{2} } = { 0.10761\\ \\frac{\\mathrm{m}^{3}}{\\mathrm{kg}}  }\\end{align}"
      ],
      "text/plain": [
       "<IPython.core.display.Latex object>"
      ]
     },
     "execution_count": 44,
     "metadata": {},
     "output_type": "execute_result"
    },
    {
     "data": {
      "text/latex": [
       "\\begin{align}{ T_{3} }&={ T_{max} } = { 1200\\ \\mathrm{K}  }\\end{align}"
      ],
      "text/plain": [
       "<IPython.core.display.Latex object>"
      ]
     },
     "execution_count": 44,
     "metadata": {},
     "output_type": "execute_result"
    },
    {
     "data": {
      "text/latex": [
       "\\begin{align}{ p_{3} }&={ \\mathrm{air.p}\\left(\\mathrm{T}=T_{3} , \\mathrm{v}=v_{3}\\right) } = { 3229.4\\ \\mathrm{kPa}  }\\end{align}"
      ],
      "text/plain": [
       "<IPython.core.display.Latex object>"
      ]
     },
     "execution_count": 44,
     "metadata": {},
     "output_type": "execute_result"
    },
    {
     "data": {
      "text/markdown": [
       " Isentropic Expansion $3\\to4$"
      ],
      "text/plain": [
       "<IPython.core.display.Markdown object>"
      ]
     },
     "execution_count": 44,
     "metadata": {},
     "output_type": "execute_result"
    },
    {
     "data": {
      "text/latex": [
       "\\begin{align}{ s_{3} }&={ \\mathrm{air.s}\\left(\\mathrm{T}=T_{3} , \\mathrm{v}=v_{3}\\right) } = { 4.3702\\ \\frac{\\mathrm{kJ}}{\\left(\\mathrm{K} \\cdot \\mathrm{kg}\\right)}  }\\end{align}"
      ],
      "text/plain": [
       "<IPython.core.display.Latex object>"
      ]
     },
     "execution_count": 44,
     "metadata": {},
     "output_type": "execute_result"
    },
    {
     "data": {
      "text/latex": [
       "\\begin{align}{ s_{4} }&={ s_{3} } = { 4.3702\\ \\frac{\\mathrm{kJ}}{\\left(\\mathrm{K} \\cdot \\mathrm{kg}\\right)}  }\\end{align}"
      ],
      "text/plain": [
       "<IPython.core.display.Latex object>"
      ]
     },
     "execution_count": 44,
     "metadata": {},
     "output_type": "execute_result"
    },
    {
     "data": {
      "text/latex": [
       "\\begin{align}{ v_{4} }&={ r v_{3} }\\\\&={ \\left( 8\\ \\right) \\left( 0.10761\\ \\frac{\\mathrm{m}^{3}}{\\mathrm{kg}} \\right) }\\\\&={  0.86088\\ \\frac{\\mathrm{m}^{3}}{\\mathrm{kg}}  }\\end{align}"
      ],
      "text/plain": [
       "<IPython.core.display.Latex object>"
      ]
     },
     "execution_count": 44,
     "metadata": {},
     "output_type": "execute_result"
    },
    {
     "data": {
      "text/latex": [
       "\\begin{align}{ T_{4} }&={ \\mathrm{air.T}\\left(\\mathrm{v}=v_{4} , \\mathrm{s}=s_{4}\\right) } = { 577.77\\ \\mathrm{K}  }\\end{align}"
      ],
      "text/plain": [
       "<IPython.core.display.Latex object>"
      ]
     },
     "execution_count": 44,
     "metadata": {},
     "output_type": "execute_result"
    },
    {
     "data": {
      "text/latex": [
       "\\begin{align}{ p_{4} }&={ \\mathrm{air.p}\\left(\\mathrm{v}=v_{4} , \\mathrm{s}=s_{4}\\right) } = { 192.78\\ \\mathrm{kPa}  }\\end{align}"
      ],
      "text/plain": [
       "<IPython.core.display.Latex object>"
      ]
     },
     "execution_count": 44,
     "metadata": {},
     "output_type": "execute_result"
    },
    {
     "data": {
      "text/html": [
       "<table border=\"1\" class=\"dataframe\">\n",
       "  <thead>\n",
       "    <tr style=\"text-align: right;\">\n",
       "      <th></th>\n",
       "      <th>T [K]</th>\n",
       "      <th>p [kPa]</th>\n",
       "      <th>v [m³/kg]</th>\n",
       "      <th>u [kJ/kg]</th>\n",
       "      <th>s [kJ/K/kg]</th>\n",
       "    </tr>\n",
       "  </thead>\n",
       "  <tbody>\n",
       "    <tr>\n",
       "      <th>1</th>\n",
       "      <td>300.000000</td>\n",
       "      <td>100.000000</td>\n",
       "      <td>0.860882</td>\n",
       "      <td>-</td>\n",
       "      <td>3.890501</td>\n",
       "    </tr>\n",
       "    <tr>\n",
       "      <th>2</th>\n",
       "      <td>675.533302</td>\n",
       "      <td>1814.106993</td>\n",
       "      <td>0.107610</td>\n",
       "      <td>-</td>\n",
       "      <td>3.890501</td>\n",
       "    </tr>\n",
       "    <tr>\n",
       "      <th>3</th>\n",
       "      <td>1200.000000</td>\n",
       "      <td>3229.436176</td>\n",
       "      <td>0.107610</td>\n",
       "      <td>-</td>\n",
       "      <td>4.370191</td>\n",
       "    </tr>\n",
       "    <tr>\n",
       "      <th>4</th>\n",
       "      <td>577.773976</td>\n",
       "      <td>192.784764</td>\n",
       "      <td>0.860882</td>\n",
       "      <td>-</td>\n",
       "      <td>4.370191</td>\n",
       "    </tr>\n",
       "  </tbody>\n",
       "</table>"
      ],
      "text/plain": [
       "<IPython.core.display.HTML object>"
      ]
     },
     "execution_count": 44,
     "metadata": {},
     "output_type": "execute_result"
    }
   ],
   "source": [
    "# Isentropic Compression $1\\to2$\n",
    "s[1] = air.s(T=T[1],p=p[1])\n",
    "v[1] = air.v(T=T[1],p=p[1])\n",
    "v[2] = v[1]/r\n",
    "s[2] = s[1]\n",
    "T[2] = air.T(s=s[2],v=v[2])\n",
    "p[2] = air.p(s=s[2],v=v[2])\n",
    "\n",
    "# Isochoric Heat Addition $2\\to3$\n",
    "v[3] = v[2]\n",
    "T[3] = T_max\n",
    "p[3] = air.p(T=T[3],v=v[3])\n",
    "\n",
    "# Isentropic Expansion $3\\to4$\n",
    "s[3] = air.s(T=T[3],v=v[3])\n",
    "s[4] = s[3]\n",
    "v[4] = r*v[3]\n",
    "T[4] = air.T(v=v[4],s=s[4])\n",
    "p[4] = air.p(v=v[4],s=s[4])\n",
    "\n",
    "\n",
    "sc=ShowCalculations(locals(),comments=True)\n",
    "states.display()"
   ]
  },
  {
   "cell_type": "markdown",
   "metadata": {},
   "source": [
    "#### (a) $p$-$v$ diagram "
   ]
  },
  {
   "cell_type": "code",
   "execution_count": 57,
   "metadata": {},
   "outputs": [
    {
     "data": {
      "text/plain": [
       "[<matplotlib.lines.Line2D at 0x7efc00e55e50>]"
      ]
     },
     "execution_count": 57,
     "metadata": {},
     "output_type": "execute_result"
    },
    {
     "data": {
      "image/png": "[encoded data removed]",
      "text/plain": [
       "<Figure size 864x504 with 1 Axes>"
      ]
     },
     "execution_count": 57,
     "metadata": {
      "image/png": {
       "height": 426,
       "width": 732
      },
      "needs_background": "light"
     },
     "output_type": "execute_result"
    }
   ],
   "source": [
    "pv = FluidPropertyPlot(x='v',y='p',fluid='Air')\n",
    "for i in [1,2,3,4]:\n",
    "    pv.plot_state(states[i],label_loc='east')\n",
    "pv.plot_process(states[1],states[2], path='isentropic')\n",
    "pv.plot_process(states[2],states[3], path='isochoric')\n",
    "pv.plot_process(states[3],states[4], path='isentropic')\n",
    "pv.plot_process(states[4],states[1], path='isochoric')"
   ]
  },
  {
   "cell_type": "markdown",
   "metadata": {},
   "source": [
    "#### (b) $T$-$s$ diagram "
   ]
  },
  {
   "cell_type": "code",
   "execution_count": 53,
   "metadata": {},
   "outputs": [
    {
     "data": {
      "text/plain": [
       "[<matplotlib.lines.Line2D at 0x7efc0137d8b0>]"
      ]
     },
     "execution_count": 53,
     "metadata": {},
     "output_type": "execute_result"
    },
    {
     "data": {
      "image/png": "[encoded data removed]",
      "text/plain": [
       "<Figure size 864x504 with 1 Axes>"
      ]
     },
     "execution_count": 53,
     "metadata": {
      "image/png": {
       "height": 427,
       "width": 724
      },
      "needs_background": "light"
     },
     "output_type": "execute_result"
    }
   ],
   "source": [
    "Ts = FluidPropertyPlot(x='s',y='T',fluid='Air')\n",
    "for i in [1,2,3,4]:\n",
    "    Ts.plot_state(states[i], label_loc='north east')\n",
    "Ts.plot_process(states[1],states[2], path='isentropic')\n",
    "Ts.plot_process(states[2],states[3], path='isochoric')\n",
    "Ts.plot_process(states[3],states[4], path='isentropic')\n",
    "Ts.plot_process(states[4],states[1], path='isochoric')"
   ]
  },
  {
   "cell_type": "markdown",
   "metadata": {},
   "source": [
    "#### (d) $q_{in}$"
   ]
  },
  {
   "cell_type": "code",
   "execution_count": 47,
   "metadata": {},
   "outputs": [
    {
     "data": {
      "text/markdown": [
       " Heat transfer only takes place from $2\\to3$ and from $4\\to1$"
      ],
      "text/plain": [
       "<IPython.core.display.Markdown object>"
      ]
     },
     "execution_count": 47,
     "metadata": {},
     "output_type": "execute_result"
    },
    {
     "data": {
      "text/latex": [
       "\\begin{align}{ u_{2} }&={ \\mathrm{air.u}\\left(\\mathrm{T}=T_{2} , \\mathrm{p}=p_{2}\\right) } = { 618.43\\ \\frac{\\mathrm{kJ}}{\\mathrm{kg}}  }\\end{align}"
      ],
      "text/plain": [
       "<IPython.core.display.Latex object>"
      ]
     },
     "execution_count": 47,
     "metadata": {},
     "output_type": "execute_result"
    },
    {
     "data": {
      "text/latex": [
       "\\begin{align}{ u_{3} }&={ \\mathrm{air.u}\\left(\\mathrm{T}=T_{3} , \\mathrm{p}=p_{3}\\right) } = { 1059.0\\ \\frac{\\mathrm{kJ}}{\\mathrm{kg}}  }\\end{align}"
      ],
      "text/plain": [
       "<IPython.core.display.Latex object>"
      ]
     },
     "execution_count": 47,
     "metadata": {},
     "output_type": "execute_result"
    },
    {
     "data": {
      "text/latex": [
       "\\begin{align}{ q_{2\\to3} }&={ u_{3} - u_{2} }\\\\&={ \\left( 1059.0\\ \\frac{\\mathrm{kJ}}{\\mathrm{kg}} \\right) - \\left( 618.43\\ \\frac{\\mathrm{kJ}}{\\mathrm{kg}} \\right) }\\\\&={  440.53\\ \\frac{\\mathrm{kJ}}{\\mathrm{kg}}  }\\end{align}"
      ],
      "text/plain": [
       "<IPython.core.display.Latex object>"
      ]
     },
     "execution_count": 47,
     "metadata": {},
     "output_type": "execute_result"
    },
    {
     "data": {
      "text/latex": [
       "\\begin{align}{ q_{in} }&={ q_{2\\to3} } = { 440.53\\ \\frac{\\mathrm{kJ}}{\\mathrm{kg}}  }\\end{align}"
      ],
      "text/plain": [
       "<IPython.core.display.Latex object>"
      ]
     },
     "execution_count": 47,
     "metadata": {},
     "output_type": "execute_result"
    }
   ],
   "source": [
    "# Heat transfer only takes place from $2\\to3$ and from $4\\to1$\n",
    "u[2] = air.u(T=T[2],p=p[2])\n",
    "u[3] = air.u(T=T[3],p=p[3])\n",
    "\n",
    "q_2_to_3 = u[3]-u[2]\n",
    "q_in = q_2_to_3\n",
    "\n",
    "sc=ShowCalculations(locals(),comments=True)"
   ]
  },
  {
   "cell_type": "markdown",
   "metadata": {},
   "source": [
    "#### (e) $w_{net}$"
   ]
  },
  {
   "cell_type": "code",
   "execution_count": 48,
   "metadata": {},
   "outputs": [
    {
     "data": {
      "text/latex": [
       "\\begin{align}{ u_{1} }&={ \\mathrm{air.u}\\left(\\mathrm{T}=T_{1} , \\mathrm{p}=p_{1}\\right) } = { 340.21\\ \\frac{\\mathrm{kJ}}{\\mathrm{kg}}  }\\end{align}"
      ],
      "text/plain": [
       "<IPython.core.display.Latex object>"
      ]
     },
     "execution_count": 48,
     "metadata": {},
     "output_type": "execute_result"
    },
    {
     "data": {
      "text/latex": [
       "\\begin{align}{ u_{4} }&={ \\mathrm{air.u}\\left(\\mathrm{T}=T_{4} , \\mathrm{p}=p_{4}\\right) } = { 544.12\\ \\frac{\\mathrm{kJ}}{\\mathrm{kg}}  }\\end{align}"
      ],
      "text/plain": [
       "<IPython.core.display.Latex object>"
      ]
     },
     "execution_count": 48,
     "metadata": {},
     "output_type": "execute_result"
    },
    {
     "data": {
      "text/latex": [
       "\\begin{align}{ q_{4\\to1} }&={ u_{4} - u_{1} }\\\\&={ \\left( 544.12\\ \\frac{\\mathrm{kJ}}{\\mathrm{kg}} \\right) - \\left( 340.21\\ \\frac{\\mathrm{kJ}}{\\mathrm{kg}} \\right) }\\\\&={  203.91\\ \\frac{\\mathrm{kJ}}{\\mathrm{kg}}  }\\end{align}"
      ],
      "text/plain": [
       "<IPython.core.display.Latex object>"
      ]
     },
     "execution_count": 48,
     "metadata": {},
     "output_type": "execute_result"
    },
    {
     "data": {
      "text/latex": [
       "\\begin{align}{ q_{out} }&={ q_{4\\to1} } = { 203.91\\ \\frac{\\mathrm{kJ}}{\\mathrm{kg}}  }\\end{align}"
      ],
      "text/plain": [
       "<IPython.core.display.Latex object>"
      ]
     },
     "execution_count": 48,
     "metadata": {},
     "output_type": "execute_result"
    },
    {
     "data": {
      "text/latex": [
       "\\begin{align}{ w_{net} }&={ q_{in} - q_{out} }\\\\&={ \\left( 440.53\\ \\frac{\\mathrm{kJ}}{\\mathrm{kg}} \\right) - \\left( 203.91\\ \\frac{\\mathrm{kJ}}{\\mathrm{kg}} \\right) }\\\\&={  236.62\\ \\frac{\\mathrm{kJ}}{\\mathrm{kg}}  }\\end{align}"
      ],
      "text/plain": [
       "<IPython.core.display.Latex object>"
      ]
     },
     "execution_count": 48,
     "metadata": {},
     "output_type": "execute_result"
    }
   ],
   "source": [
    "u[1] = air.u(T=T[1],p=p[1])\n",
    "u[4] = air.u(T=T[4],p=p[4])\n",
    "q_4_to_1 = u[4]-u[1]\n",
    "q_out = q_4_to_1\n",
    "\n",
    "w_net = q_in-q_out\n",
    "\n",
    "sc=ShowCalculations(locals(),comments=True)"
   ]
  },
  {
   "cell_type": "markdown",
   "metadata": {},
   "source": [
    "#### (f)  $\\eta_{th}$"
   ]
  },
  {
   "cell_type": "code",
   "execution_count": 49,
   "metadata": {},
   "outputs": [
    {
     "data": {
      "text/markdown": [
       " Thermal efficiency"
      ],
      "text/plain": [
       "<IPython.core.display.Markdown object>"
      ]
     },
     "execution_count": 49,
     "metadata": {},
     "output_type": "execute_result"
    },
    {
     "data": {
      "text/latex": [
       "\\begin{align}{ \\eta_{th} }&={ \\frac{w_{net}}{q_{in}} }\\\\&={ \\frac{\\left( 236.62\\ \\frac{\\mathrm{kJ}}{\\mathrm{kg}} \\right)}{\\left( 440.53\\ \\frac{\\mathrm{kJ}}{\\mathrm{kg}} \\right)} }\\\\&={  0.53712\\  }\\end{align}"
      ],
      "text/plain": [
       "<IPython.core.display.Latex object>"
      ]
     },
     "execution_count": 49,
     "metadata": {},
     "output_type": "execute_result"
    }
   ],
   "source": [
    "# Thermal efficiency\n",
    "eta_th = w_net/q_in\n",
    "\n",
    "sc=ShowCalculations(locals(),comments=True)"
   ]
  },
  {
   "cell_type": "code",
   "execution_count": 50,
   "metadata": {},
   "outputs": [
    {
     "data": {
      "text/latex": [
       "\\begin{align}{ T_{max} }&={  1200\\ \\mathrm{K}  }&{ \\eta_{th} }&={  0.53712\\  }&{ q_{2\\to3} }&={  440.53\\ \\frac{\\mathrm{kJ}}{\\mathrm{kg}}  }\\\\{ q_{4\\to1} }&={  203.91\\ \\frac{\\mathrm{kJ}}{\\mathrm{kg}}  }&{ q_{in} }&={  440.53\\ \\frac{\\mathrm{kJ}}{\\mathrm{kg}}  }&{ q_{out} }&={  203.91\\ \\frac{\\mathrm{kJ}}{\\mathrm{kg}}  }\\\\{ r }&={  8\\  }&{ w_{net} }&={  236.62\\ \\frac{\\mathrm{kJ}}{\\mathrm{kg}}  }&{  }\\end{align}"
      ],
      "text/plain": [
       "<IPython.core.display.Latex object>"
      ]
     },
     "execution_count": 50,
     "metadata": {},
     "output_type": "execute_result"
    },
    {
     "data": {
      "text/html": [
       "<table border=\"1\" class=\"dataframe\">\n",
       "  <thead>\n",
       "    <tr style=\"text-align: right;\">\n",
       "      <th></th>\n",
       "      <th>T [K]</th>\n",
       "      <th>p [kPa]</th>\n",
       "      <th>v [m³/kg]</th>\n",
       "      <th>u [kJ/kg]</th>\n",
       "      <th>s [kJ/K/kg]</th>\n",
       "    </tr>\n",
       "  </thead>\n",
       "  <tbody>\n",
       "    <tr>\n",
       "      <th>1</th>\n",
       "      <td>300.000000</td>\n",
       "      <td>100.000000</td>\n",
       "      <td>0.860882</td>\n",
       "      <td>340.212594</td>\n",
       "      <td>3.890501</td>\n",
       "    </tr>\n",
       "    <tr>\n",
       "      <th>2</th>\n",
       "      <td>675.533302</td>\n",
       "      <td>1814.106993</td>\n",
       "      <td>0.107610</td>\n",
       "      <td>618.429558</td>\n",
       "      <td>3.890501</td>\n",
       "    </tr>\n",
       "    <tr>\n",
       "      <th>3</th>\n",
       "      <td>1200.000000</td>\n",
       "      <td>3229.436176</td>\n",
       "      <td>0.107610</td>\n",
       "      <td>1058.961027</td>\n",
       "      <td>4.370191</td>\n",
       "    </tr>\n",
       "    <tr>\n",
       "      <th>4</th>\n",
       "      <td>577.773976</td>\n",
       "      <td>192.784764</td>\n",
       "      <td>0.860882</td>\n",
       "      <td>544.124530</td>\n",
       "      <td>4.370191</td>\n",
       "    </tr>\n",
       "  </tbody>\n",
       "</table>"
      ],
      "text/plain": [
       "<IPython.core.display.HTML object>"
      ]
     },
     "execution_count": 50,
     "metadata": {},
     "output_type": "execute_result"
    }
   ],
   "source": [
    "ss=ShowSummary(locals())"
   ]
  },
  {
   "cell_type": "code",
   "execution_count": 0,
   "metadata": {},
   "outputs": [],
   "source": []
  }
 ],
 "metadata": {
  "kernelspec": {
   "display_name": "Python 3",
   "language": "python",
   "name": "python3"
  },
  "language_info": {
   "codemirror_mode": {
    "name": "ipython",
    "version": 3
   },
   "file_extension": ".py",
   "mimetype": "text/x-python",
   "name": "python",
   "nbconvert_exporter": "python",
   "pygments_lexer": "ipython3",
   "version": "3.7.7"
  }
 },
 "nbformat": 4,
 "nbformat_minor": 4
}
