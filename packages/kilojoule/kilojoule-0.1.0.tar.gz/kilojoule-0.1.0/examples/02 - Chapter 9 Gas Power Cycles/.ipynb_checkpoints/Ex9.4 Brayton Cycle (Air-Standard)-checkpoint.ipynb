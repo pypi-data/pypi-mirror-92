{
 "cells": [
  {
   "cell_type": "markdown",
   "metadata": {},
   "source": [
    "# Example 9.4: Brayton Cycle (Cold-Air-Standard)\n",
    "\n",
    "*John F. Maddox, Ph.D., P.E.<br>\n",
    "University of Kentucky - Paducah Campus<br>\n",
    "ME 321: Engineering Thermodynamics II<br>*"
   ]
  },
  {
   "cell_type": "markdown",
   "metadata": {},
   "source": [
    "## Problem Statement\n",
    "\n",
    "Air enters the compressor of a cold air-standard Brayton cycle at $100\\ \\mathrm{kPa}$, $300\\mathrm{K}$ with a volumetric flow rate of $5\\ \\mathrm{m^3/s}$.  The pressure ratio is $10$ and the turbine inlet temperature is $1400\\ \\mathrm{K}$.  The turbine and compressor each have an isentropic efficiency of $80\\%$.\n",
    "\n",
    "* (a) $p$-$v$ diagram\n",
    "* (b) $T$-$s$ diagram\n",
    "* (c) Back work ratio\n",
    "* (d) Net power\n",
    "* (e) $\\eta_{th}$"
   ]
  },
  {
   "cell_type": "markdown",
   "metadata": {},
   "source": [
    "## Solution\n"
   ]
  },
  {
   "cell_type": "markdown",
   "metadata": {},
   "source": [
    "### Python Initialization\n",
    "We'll start by importing the libraries we will use for our analysis and initializing dictionaries to hold the properties we will be using."
   ]
  },
  {
   "cell_type": "code",
   "execution_count": 11,
   "metadata": {
    "collapsed": false,
    "jupyter": {
     "outputs_hidden": false
    }
   },
   "outputs": [],
   "source": [
    "from kilojoule.templates.kSI_K import *\n",
    "    \n",
    "air = idealgas.Properties('Air')"
   ]
  },
  {
   "cell_type": "markdown",
   "metadata": {},
   "source": [
    "### Given Parameters\n",
    "We now define variables to hold our known values."
   ]
  },
  {
   "cell_type": "code",
   "execution_count": 2,
   "metadata": {
    "collapsed": false,
    "jupyter": {
     "outputs_hidden": false
    }
   },
   "outputs": [
    {
     "data": {
      "text/latex": [
       "\\[\n",
       "  \\begin{aligned}\n",
       "    { T_{1} }&={  300\\ \\mathrm{K}  }\n",
       "  \\end{aligned}\n",
       "\\]\n"
      ],
      "text/plain": [
       "<IPython.core.display.Latex object>"
      ]
     },
     "metadata": {},
     "output_type": "display_data"
    },
    {
     "data": {
      "text/latex": [
       "\\[\n",
       "  \\begin{aligned}\n",
       "    { p_{1} }&={ \\left( 1\\ \\mathrm{bar} \\right) } = { 100.0\\ \\mathrm{kPa}  }\n",
       "  \\end{aligned}\n",
       "\\]\n"
      ],
      "text/plain": [
       "<IPython.core.display.Latex object>"
      ]
     },
     "metadata": {},
     "output_type": "display_data"
    },
    {
     "data": {
      "text/latex": [
       "\\[\n",
       "  \\begin{aligned}\n",
       "    { \\dot{V}_{1} }&={  5\\ \\frac{\\mathrm{m}^{3}}{\\mathrm{s}}  }\n",
       "  \\end{aligned}\n",
       "\\]\n"
      ],
      "text/plain": [
       "<IPython.core.display.Latex object>"
      ]
     },
     "metadata": {},
     "output_type": "display_data"
    },
    {
     "data": {
      "text/latex": [
       "\\[\n",
       "  \\begin{aligned}\n",
       "    { r_{p} }&={  10\\  }\n",
       "  \\end{aligned}\n",
       "\\]\n"
      ],
      "text/plain": [
       "<IPython.core.display.Latex object>"
      ]
     },
     "metadata": {},
     "output_type": "display_data"
    },
    {
     "data": {
      "text/latex": [
       "\\[\n",
       "  \\begin{aligned}\n",
       "    { T_{3} }&={  1400\\ \\mathrm{K}  }\n",
       "  \\end{aligned}\n",
       "\\]\n"
      ],
      "text/plain": [
       "<IPython.core.display.Latex object>"
      ]
     },
     "metadata": {},
     "output_type": "display_data"
    },
    {
     "data": {
      "text/latex": [
       "\\[\n",
       "  \\begin{aligned}\n",
       "    { \\eta_{c} }&={  0.8\\  }\n",
       "  \\end{aligned}\n",
       "\\]\n"
      ],
      "text/plain": [
       "<IPython.core.display.Latex object>"
      ]
     },
     "metadata": {},
     "output_type": "display_data"
    },
    {
     "data": {
      "text/latex": [
       "\\[\n",
       "  \\begin{aligned}\n",
       "    { \\eta_{t} }&={  0.8\\  }\n",
       "  \\end{aligned}\n",
       "\\]\n"
      ],
      "text/plain": [
       "<IPython.core.display.Latex object>"
      ]
     },
     "metadata": {},
     "output_type": "display_data"
    }
   ],
   "source": [
    "T[1] = Quantity(300,'K')      # Compressor Inlet Temperature\n",
    "p[1] = Quantity(1,'bar')      # Compressor Inlet pressure\n",
    "Vdot[1] = Quantity(5,'m^3/s') # Volumetic Flow rate into Compressor\n",
    "r_p = Quantity(10,'')         # Pressure ratio\n",
    "T[3] = Quantity(1400,'K')     # Turbine Inlet Temperature\n",
    "eta_c = Quantity(0.8,'')      # Compressor Isentropioc Efficiency\n",
    "eta_t = Quantity(0.8,'')      # Turbine Isentropic Efficiency\n",
    "\n",
    "display.Calculations(locals(),comments=True);"
   ]
  },
  {
   "cell_type": "markdown",
   "metadata": {},
   "source": [
    "### Assumptions\n",
    "- Cold-air-standard Analysis\n",
    "  - Ideal gas\n",
    "  - Constant specific heat (evaluated at $25^\\circ\\text{C}$)\n",
    "- Maximum pressure occurs at states 3 and 4\n",
    "- Maximum temperature occurs at state 4\n",
    "- Negligible changes in kinetic energy\n",
    "- Negligible changes in potential energy"
   ]
  },
  {
   "cell_type": "code",
   "execution_count": 3,
   "metadata": {
    "collapsed": false,
    "jupyter": {
     "outputs_hidden": false
    }
   },
   "outputs": [
    {
     "data": {
      "text/markdown": [
       " Ideal Gas"
      ],
      "text/plain": [
       "<IPython.core.display.Markdown object>"
      ]
     },
     "metadata": {},
     "output_type": "display_data"
    }
   ],
   "source": [
    "# Ideal Gas\n",
    "R = air.R\n",
    "\n",
    "display.Calculations(locals(),comments=True);"
   ]
  },
  {
   "cell_type": "markdown",
   "metadata": {},
   "source": [
    "#### (a) and (b) \n",
    "If working the problem by hand, we could (should) go ahead and sketch out the path of the cycle without knowing the exact values of the states.  This is useful to serve as a roadmap as we work our way through the analysis.  However, since we need exact value to do the plotting with a computer, we will wait until the end to draw the $p$-$v$ and $T$-$s$ diagrams"
   ]
  },
  {
   "cell_type": "markdown",
   "metadata": {},
   "source": [
    "#### (c) $T$ and $p$"
   ]
  },
  {
   "cell_type": "code",
   "execution_count": 4,
   "metadata": {
    "collapsed": false,
    "jupyter": {
     "outputs_hidden": false
    }
   },
   "outputs": [
    {
     "data": {
      "text/latex": [
       "\\[\n",
       "  \\begin{aligned}\n",
       "    { h_{1} }&={ air.h(T[1],p[1]) } = { -2.4071\\ \\frac{\\mathrm{kJ}}{\\mathrm{kg}}  }\n",
       "  \\end{aligned}\n",
       "\\]\n"
      ],
      "text/plain": [
       "<IPython.core.display.Latex object>"
      ]
     },
     "metadata": {},
     "output_type": "display_data"
    },
    {
     "data": {
      "text/latex": [
       "\\[\n",
       "  \\begin{aligned}\n",
       "    { s_{1} }&={ air.s(T[1],p[1]) } = { 6.7077\\ \\frac{\\mathrm{kJ}}{\\left(\\mathrm{K} \\cdot \\mathrm{kg}\\right)}  }\n",
       "  \\end{aligned}\n",
       "\\]\n"
      ],
      "text/plain": [
       "<IPython.core.display.Latex object>"
      ]
     },
     "metadata": {},
     "output_type": "display_data"
    },
    {
     "data": {
      "text/latex": [
       "\\[\n",
       "  \\begin{aligned}{ p_{2} }&={ p_{1} r_{p} }\\\\\n",
       "    &={ \\left( 100.0\\ \\mathrm{kPa} \\right) \\left( 10\\ \\right) }\\\\\n",
       "    &={  1000.0\\ \\mathrm{kPa}  }\n",
       "  \\end{aligned}\n",
       "\\]\n"
      ],
      "text/plain": [
       "<IPython.core.display.Latex object>"
      ]
     },
     "metadata": {},
     "output_type": "display_data"
    },
    {
     "data": {
      "text/latex": [
       "\\[\n",
       "  \\begin{aligned}\n",
       "    { p_{2s} }&={ p_{2} } = { 1000.0\\ \\mathrm{kPa}  }\n",
       "  \\end{aligned}\n",
       "\\]\n"
      ],
      "text/plain": [
       "<IPython.core.display.Latex object>"
      ]
     },
     "metadata": {},
     "output_type": "display_data"
    },
    {
     "data": {
      "text/latex": [
       "\\[\n",
       "  \\begin{aligned}\n",
       "    { s_{2s} }&={ s_{1} } = { 6.7077\\ \\frac{\\mathrm{kJ}}{\\left(\\mathrm{K} \\cdot \\mathrm{kg}\\right)}  }\n",
       "  \\end{aligned}\n",
       "\\]\n"
      ],
      "text/plain": [
       "<IPython.core.display.Latex object>"
      ]
     },
     "metadata": {},
     "output_type": "display_data"
    },
    {
     "data": {
      "text/latex": [
       "\\[\n",
       "  \\begin{aligned}\n",
       "    { h_{2s} }&={ air.h(p['2s'],s['2s']) } = { 277.25\\ \\frac{\\mathrm{kJ}}{\\mathrm{kg}}  }\n",
       "  \\end{aligned}\n",
       "\\]\n"
      ],
      "text/plain": [
       "<IPython.core.display.Latex object>"
      ]
     },
     "metadata": {},
     "output_type": "display_data"
    },
    {
     "data": {
      "text/latex": [
       "\\[\n",
       "  \\begin{aligned}\n",
       "    { T_{2s} }&={ air.T(h=h['2s']) } = { \\begin{pmatrix}573.87\\end{pmatrix}\\ \\mathrm{K}  }\n",
       "  \\end{aligned}\n",
       "\\]\n"
      ],
      "text/plain": [
       "<IPython.core.display.Latex object>"
      ]
     },
     "metadata": {},
     "output_type": "display_data"
    },
    {
     "data": {
      "text/latex": [
       "\\[\n",
       "  \\begin{aligned}{ h_{2} }&={ h_{1} + \\frac{h_{2s} - h_{1}}{\\eta_{c}} }\\\\\n",
       "    &={ \\left( -2.4071\\ \\frac{\\mathrm{kJ}}{\\mathrm{kg}} \\right) + \\frac{\\left( 277.25\\ \\frac{\\mathrm{kJ}}{\\mathrm{kg}} \\right) - \\left( -2.4071\\ \\frac{\\mathrm{kJ}}{\\mathrm{kg}} \\right)}{\\left( 0.8\\ \\right)} }\\\\\n",
       "    &={  347.17\\ \\frac{\\mathrm{kJ}}{\\mathrm{kg}}  }\n",
       "  \\end{aligned}\n",
       "\\]\n"
      ],
      "text/plain": [
       "<IPython.core.display.Latex object>"
      ]
     },
     "metadata": {},
     "output_type": "display_data"
    },
    {
     "data": {
      "text/latex": [
       "\\[\n",
       "  \\begin{aligned}\n",
       "    { T_{2} }&={ air.T(h=h[2]) } = { \\begin{pmatrix}640.32\\end{pmatrix}\\ \\mathrm{K}  }\n",
       "  \\end{aligned}\n",
       "\\]\n"
      ],
      "text/plain": [
       "<IPython.core.display.Latex object>"
      ]
     },
     "metadata": {},
     "output_type": "display_data"
    },
    {
     "data": {
      "text/latex": [
       "\\[\n",
       "  \\begin{aligned}\n",
       "    { s_{2} }&={ air.s(p[2],h=h[2]) } = { 6.823\\ \\frac{\\mathrm{kJ}}{\\left(\\mathrm{K} \\cdot \\mathrm{kg}\\right)}  }\n",
       "  \\end{aligned}\n",
       "\\]\n"
      ],
      "text/plain": [
       "<IPython.core.display.Latex object>"
      ]
     },
     "metadata": {},
     "output_type": "display_data"
    },
    {
     "data": {
      "text/latex": [
       "\\[\n",
       "  \\begin{aligned}{ \\dot{m} }&={ \\frac{\\dot{V}_{1} p_{1}}{R T_{1}} }\\\\\n",
       "    &={ \\frac{\\left( 5\\ \\frac{\\mathrm{m}^{3}}{\\mathrm{s}} \\right) \\left( 100.0\\ \\mathrm{kPa} \\right)}{\\left( 0.28705\\ \\frac{\\mathrm{kJ}}{\\left(\\mathrm{K} \\cdot \\mathrm{kg}\\right)} \\right) \\left( 300\\ \\mathrm{K} \\right)} }\\\\\n",
       "    &={  5.8061\\ \\frac{\\mathrm{kg}}{\\mathrm{s}}  }\n",
       "  \\end{aligned}\n",
       "\\]\n"
      ],
      "text/plain": [
       "<IPython.core.display.Latex object>"
      ]
     },
     "metadata": {},
     "output_type": "display_data"
    },
    {
     "data": {
      "text/latex": [
       "\\[\n",
       "  \\begin{aligned}{ \\dot{W}_{1\\to2} }&={ \\dot{m} \\left(h_{1} - h_{2}\\right) }\\\\\n",
       "    &={ \\left( 5.8061\\ \\frac{\\mathrm{kg}}{\\mathrm{s}} \\right) \\left(\\left( -2.4071\\ \\frac{\\mathrm{kJ}}{\\mathrm{kg}} \\right) - \\left( 347.17\\ \\frac{\\mathrm{kJ}}{\\mathrm{kg}} \\right)\\right) }\\\\\n",
       "    &={  -2029.7\\ \\mathrm{kW}  }\n",
       "  \\end{aligned}\n",
       "\\]\n"
      ],
      "text/plain": [
       "<IPython.core.display.Latex object>"
      ]
     },
     "metadata": {},
     "output_type": "display_data"
    },
    {
     "data": {
      "text/latex": [
       "\\[\n",
       "  \\begin{aligned}\n",
       "    { p_{3} }&={ p_{2} } = { 1000.0\\ \\mathrm{kPa}  }\n",
       "  \\end{aligned}\n",
       "\\]\n"
      ],
      "text/plain": [
       "<IPython.core.display.Latex object>"
      ]
     },
     "metadata": {},
     "output_type": "display_data"
    },
    {
     "data": {
      "text/latex": [
       "\\[\n",
       "  \\begin{aligned}\n",
       "    { h_{3} }&={ air.h(T[3],p[3]) } = { 1211.9\\ \\frac{\\mathrm{kJ}}{\\mathrm{kg}}  }\n",
       "  \\end{aligned}\n",
       "\\]\n"
      ],
      "text/plain": [
       "<IPython.core.display.Latex object>"
      ]
     },
     "metadata": {},
     "output_type": "display_data"
    },
    {
     "data": {
      "text/latex": [
       "\\[\n",
       "  \\begin{aligned}\n",
       "    { s_{3} }&={ air.s(T[3],p[3]) } = { 7.7064\\ \\frac{\\mathrm{kJ}}{\\left(\\mathrm{K} \\cdot \\mathrm{kg}\\right)}  }\n",
       "  \\end{aligned}\n",
       "\\]\n"
      ],
      "text/plain": [
       "<IPython.core.display.Latex object>"
      ]
     },
     "metadata": {},
     "output_type": "display_data"
    },
    {
     "data": {
      "text/latex": [
       "\\[\n",
       "  \\begin{aligned}\n",
       "    { p_{4} }&={ p_{1} } = { 100.0\\ \\mathrm{kPa}  }\n",
       "  \\end{aligned}\n",
       "\\]\n"
      ],
      "text/plain": [
       "<IPython.core.display.Latex object>"
      ]
     },
     "metadata": {},
     "output_type": "display_data"
    },
    {
     "data": {
      "text/latex": [
       "\\[\n",
       "  \\begin{aligned}\n",
       "    { p_{4s} }&={ p_{4} } = { 100.0\\ \\mathrm{kPa}  }\n",
       "  \\end{aligned}\n",
       "\\]\n"
      ],
      "text/plain": [
       "<IPython.core.display.Latex object>"
      ]
     },
     "metadata": {},
     "output_type": "display_data"
    },
    {
     "data": {
      "text/latex": [
       "\\[\n",
       "  \\begin{aligned}\n",
       "    { s_{4s} }&={ s_{3} } = { 7.7064\\ \\frac{\\mathrm{kJ}}{\\left(\\mathrm{K} \\cdot \\mathrm{kg}\\right)}  }\n",
       "  \\end{aligned}\n",
       "\\]\n"
      ],
      "text/plain": [
       "<IPython.core.display.Latex object>"
      ]
     },
     "metadata": {},
     "output_type": "display_data"
    },
    {
     "data": {
      "text/latex": [
       "\\[\n",
       "  \\begin{aligned}\n",
       "    { h_{4s} }&={ air.h(p['4s'],s['4s']) } = { 505.47\\ \\frac{\\mathrm{kJ}}{\\mathrm{kg}}  }\n",
       "  \\end{aligned}\n",
       "\\]\n"
      ],
      "text/plain": [
       "<IPython.core.display.Latex object>"
      ]
     },
     "metadata": {},
     "output_type": "display_data"
    },
    {
     "data": {
      "text/latex": [
       "\\[\n",
       "  \\begin{aligned}\n",
       "    { T_{4s} }&={ air.T(h=h['4s']) } = { \\begin{pmatrix}787.23\\end{pmatrix}\\ \\mathrm{K}  }\n",
       "  \\end{aligned}\n",
       "\\]\n"
      ],
      "text/plain": [
       "<IPython.core.display.Latex object>"
      ]
     },
     "metadata": {},
     "output_type": "display_data"
    },
    {
     "data": {
      "text/latex": [
       "\\[\n",
       "  \\begin{aligned}{ h_{4} }&={ - \\eta_{t} \\left(h_{3} - h_{4s}\\right) + h_{3} }\\\\\n",
       "    &={ - \\left( 0.8\\ \\right) \\left(\\left( 1211.9\\ \\frac{\\mathrm{kJ}}{\\mathrm{kg}} \\right) - \\left( 505.47\\ \\frac{\\mathrm{kJ}}{\\mathrm{kg}} \\right)\\right) + \\left( 1211.9\\ \\frac{\\mathrm{kJ}}{\\mathrm{kg}} \\right) }\\\\\n",
       "    &={  646.76\\ \\frac{\\mathrm{kJ}}{\\mathrm{kg}}  }\n",
       "  \\end{aligned}\n",
       "\\]\n"
      ],
      "text/plain": [
       "<IPython.core.display.Latex object>"
      ]
     },
     "metadata": {},
     "output_type": "display_data"
    },
    {
     "data": {
      "text/latex": [
       "\\[\n",
       "  \\begin{aligned}\n",
       "    { T_{4} }&={ air.T(h=h[4]) } = { \\begin{pmatrix}914.46\\end{pmatrix}\\ \\mathrm{K}  }\n",
       "  \\end{aligned}\n",
       "\\]\n"
      ],
      "text/plain": [
       "<IPython.core.display.Latex object>"
      ]
     },
     "metadata": {},
     "output_type": "display_data"
    },
    {
     "data": {
      "text/latex": [
       "\\[\n",
       "  \\begin{aligned}\n",
       "    { s_{4} }&={ air.s(p[4],h=h[4]) } = { 7.8727\\ \\frac{\\mathrm{kJ}}{\\left(\\mathrm{K} \\cdot \\mathrm{kg}\\right)}  }\n",
       "  \\end{aligned}\n",
       "\\]\n"
      ],
      "text/plain": [
       "<IPython.core.display.Latex object>"
      ]
     },
     "metadata": {},
     "output_type": "display_data"
    },
    {
     "data": {
      "text/latex": [
       "\\[\n",
       "  \\begin{aligned}{ \\dot{W}_{3\\to4} }&={ \\dot{m} \\left(h_{3} - h_{4}\\right) }\\\\\n",
       "    &={ \\left( 5.8061\\ \\frac{\\mathrm{kg}}{\\mathrm{s}} \\right) \\left(\\left( 1211.9\\ \\frac{\\mathrm{kJ}}{\\mathrm{kg}} \\right) - \\left( 646.76\\ \\frac{\\mathrm{kJ}}{\\mathrm{kg}} \\right)\\right) }\\\\\n",
       "    &={  3281.4\\ \\mathrm{kW}  }\n",
       "  \\end{aligned}\n",
       "\\]\n"
      ],
      "text/plain": [
       "<IPython.core.display.Latex object>"
      ]
     },
     "metadata": {},
     "output_type": "display_data"
    },
    {
     "data": {
      "text/latex": [
       "\\[\n",
       "  \\begin{aligned}{ BWR }&={ - \\frac{\\dot{W}_{1\\to2}}{\\dot{W}_{3\\to4}} }\\\\\n",
       "    &={ - \\frac{\\left( -2029.7\\ \\mathrm{kW} \\right)}{\\left( 3281.4\\ \\mathrm{kW} \\right)} }\\\\\n",
       "    &={  0.61854\\  }\n",
       "  \\end{aligned}\n",
       "\\]\n"
      ],
      "text/plain": [
       "<IPython.core.display.Latex object>"
      ]
     },
     "metadata": {},
     "output_type": "display_data"
    },
    {
     "data": {
      "text/latex": [
       "\\[\\begin{aligned}{ BWR }&={  0.61854\\  }&{ R }&={  0.28705\\ \\frac{\\mathrm{kJ}}{\\left(\\mathrm{K} \\cdot \\mathrm{kg}\\right)}  }&{ \\dot{W}_{1 to 2} }&={  -2029.7\\ \\mathrm{kW}  }\\\\{ \\dot{W}_{3 to 4} }&={  3281.4\\ \\mathrm{kW}  }&{ \\eta_{c} }&={  0.8\\  }&{ \\eta_{t} }&={  0.8\\  }\\\\{ \\dot{m} }&={  5.8061\\ \\frac{\\mathrm{kg}}{\\mathrm{s}}  }&{ r_{p} }&={  10\\  }&{  }\\end{aligned}\\]"
      ],
      "text/plain": [
       "<IPython.core.display.Latex object>"
      ]
     },
     "metadata": {},
     "output_type": "display_data"
    },
    {
     "data": {
      "text/html": [
       "<table border=\"1\" class=\"dataframe\">\n",
       "  <thead>\n",
       "    <tr>\n",
       "      <th></th>\n",
       "      <th>T</th>\n",
       "      <th>p</th>\n",
       "      <th>h</th>\n",
       "      <th>s</th>\n",
       "      <th>Vdot</th>\n",
       "    </tr>\n",
       "    <tr>\n",
       "      <th>unit</th>\n",
       "      <th>K</th>\n",
       "      <th>kPa</th>\n",
       "      <th>kJ/kg</th>\n",
       "      <th>kJ/K/kg</th>\n",
       "      <th>m³/s</th>\n",
       "    </tr>\n",
       "  </thead>\n",
       "  <tbody>\n",
       "    <tr>\n",
       "      <th>1</th>\n",
       "      <td>300.000000</td>\n",
       "      <td>100.0</td>\n",
       "      <td>-2.407134</td>\n",
       "      <td>6.707700</td>\n",
       "      <td>5</td>\n",
       "    </tr>\n",
       "    <tr>\n",
       "      <th>2</th>\n",
       "      <td>640.319265</td>\n",
       "      <td>1000.0</td>\n",
       "      <td>347.169057</td>\n",
       "      <td>6.822964</td>\n",
       "      <td>-</td>\n",
       "    </tr>\n",
       "    <tr>\n",
       "      <th>2s</th>\n",
       "      <td>573.868050</td>\n",
       "      <td>1000.0</td>\n",
       "      <td>277.253819</td>\n",
       "      <td>6.707700</td>\n",
       "      <td>-</td>\n",
       "    </tr>\n",
       "    <tr>\n",
       "      <th>3</th>\n",
       "      <td>1400.000000</td>\n",
       "      <td>1000.0</td>\n",
       "      <td>1211.923096</td>\n",
       "      <td>7.706368</td>\n",
       "      <td>-</td>\n",
       "    </tr>\n",
       "    <tr>\n",
       "      <th>4</th>\n",
       "      <td>914.461235</td>\n",
       "      <td>100.0</td>\n",
       "      <td>646.760081</td>\n",
       "      <td>7.872681</td>\n",
       "      <td>-</td>\n",
       "    </tr>\n",
       "    <tr>\n",
       "      <th>4s</th>\n",
       "      <td>787.231829</td>\n",
       "      <td>100.0</td>\n",
       "      <td>505.469328</td>\n",
       "      <td>7.706368</td>\n",
       "      <td>-</td>\n",
       "    </tr>\n",
       "  </tbody>\n",
       "</table>"
      ],
      "text/plain": [
       "<IPython.core.display.HTML object>"
      ]
     },
     "metadata": {},
     "output_type": "display_data"
    }
   ],
   "source": [
    "##### 1$\\to$2) Non-ideal compression\n",
    "# State 1 properties\n",
    "h[1] = air.h(T[1],p[1])\n",
    "s[1] = air.s(T[1],p[1])\n",
    "\n",
    "# Isentropic exit state: Isentropic Ideal Gas Relations\n",
    "p[2] = p[1]*r_p\n",
    "p['2s'] = p[2]\n",
    "s['2s'] = s[1]\n",
    "h['2s'] = air.h(p['2s'],s['2s'])\n",
    "T['2s'] = air.T(h=h['2s'])\n",
    "\n",
    "# Isentropic efficiency\n",
    "h[2] = h[1] + (h['2s']-h[1])/eta_c\n",
    "T[2] = air.T(h=h[2])\n",
    "s[2] = air.s(p[2],h=h[2])\n",
    "\n",
    "# Mass flow rate through compressor\n",
    "mdot = Vdot[1]*p[1]/(R*T[1])\n",
    "mdot = mdot.to('kg/s') # hide\n",
    "\n",
    "# First Law for compressor\n",
    "Wdot_1_to_2 = mdot*(h[1]-h[2])\n",
    "Wdot_1_to_2 = Wdot_1_to_2.to('kW') # hide\n",
    "\n",
    "##### 2$\\to$3) Isobaric heat addition\n",
    "p[3] = p[2]\n",
    "h[3] = air.h(T[3],p[3])\n",
    "s[3] = air.s(T[3],p[3])\n",
    "\n",
    "##### 3$\\to$4) Non-ideal expansion\n",
    "# Isentropic exit state: Isentropic Ideal Gas Relations\n",
    "p[4] = p[1]\n",
    "p['4s'] = p[4]\n",
    "s['4s'] = s[3]\n",
    "h['4s'] = air.h(p['4s'],s['4s'])\n",
    "T['4s'] = air.T(h=h['4s'])\n",
    "\n",
    "# Isentropic efficiency\n",
    "h[4] = h[3] - eta_t*(h[3]-h['4s'])\n",
    "T[4] = air.T(h=h[4])\n",
    "s[4] = air.s(p[4],h=h[4])\n",
    "\n",
    "# First law for turbine\n",
    "Wdot_3_to_4 = mdot*(h[3]-h[4])\n",
    "Wdot_3_to_4 = Wdot_3_to_4.to('kW') # hide\n",
    "\n",
    "##### Backwork Ratio\n",
    "BWR = -Wdot_1_to_2/Wdot_3_to_4\n",
    "\n",
    "display.Calculations(locals());\n",
    "display.Summary(locals());"
   ]
  },
  {
   "cell_type": "markdown",
   "metadata": {},
   "source": [
    "#### (d) Net power"
   ]
  },
  {
   "cell_type": "code",
   "execution_count": 5,
   "metadata": {
    "collapsed": false,
    "jupyter": {
     "outputs_hidden": false
    }
   },
   "outputs": [
    {
     "data": {
      "text/markdown": [
       " Turbine work"
      ],
      "text/plain": [
       "<IPython.core.display.Markdown object>"
      ]
     },
     "metadata": {},
     "output_type": "display_data"
    },
    {
     "data": {
      "text/latex": [
       "\\[\n",
       "  \\begin{aligned}\n",
       "    { \\dot{W}_{T} }&={ \\dot{W}_{3\\to4} } = { 3281.4\\ \\mathrm{kW}  }\n",
       "  \\end{aligned}\n",
       "\\]\n"
      ],
      "text/plain": [
       "<IPython.core.display.Latex object>"
      ]
     },
     "metadata": {},
     "output_type": "display_data"
    },
    {
     "data": {
      "text/markdown": [
       " Compressor work"
      ],
      "text/plain": [
       "<IPython.core.display.Markdown object>"
      ]
     },
     "metadata": {},
     "output_type": "display_data"
    },
    {
     "data": {
      "text/latex": [
       "\\[\n",
       "  \\begin{aligned}{ \\dot{W}_{C} }&={ - \\dot{W}_{1\\to2} }\\\\\n",
       "    &={ - \\left( -2029.7\\ \\mathrm{kW} \\right) }\\\\\n",
       "    &={  2029.7\\ \\mathrm{kW}  }\n",
       "  \\end{aligned}\n",
       "\\]\n"
      ],
      "text/plain": [
       "<IPython.core.display.Latex object>"
      ]
     },
     "metadata": {},
     "output_type": "display_data"
    },
    {
     "data": {
      "text/markdown": [
       " Net work"
      ],
      "text/plain": [
       "<IPython.core.display.Markdown object>"
      ]
     },
     "metadata": {},
     "output_type": "display_data"
    },
    {
     "data": {
      "text/latex": [
       "\\[\n",
       "  \\begin{aligned}{ \\dot{W}_{net} }&={ \\dot{W}_{T} - \\dot{W}_{C} }\\\\\n",
       "    &={ \\left( 3281.4\\ \\mathrm{kW} \\right) - \\left( 2029.7\\ \\mathrm{kW} \\right) }\\\\\n",
       "    &={  1251.7\\ \\mathrm{kW}  }\n",
       "  \\end{aligned}\n",
       "\\]\n"
      ],
      "text/plain": [
       "<IPython.core.display.Latex object>"
      ]
     },
     "metadata": {},
     "output_type": "display_data"
    }
   ],
   "source": [
    "# Turbine work\n",
    "Wdot_T = Wdot_3_to_4\n",
    "\n",
    "# Compressor work\n",
    "Wdot_C = -Wdot_1_to_2\n",
    "\n",
    "# Net work\n",
    "Wdot_net = Wdot_T-Wdot_C\n",
    "\n",
    "display.Calculations(locals(),comments=True);"
   ]
  },
  {
   "cell_type": "markdown",
   "metadata": {},
   "source": [
    "#### (e) Thermal efficiency"
   ]
  },
  {
   "cell_type": "code",
   "execution_count": 6,
   "metadata": {
    "collapsed": false,
    "jupyter": {
     "outputs_hidden": false
    }
   },
   "outputs": [
    {
     "data": {
      "text/markdown": [
       "#### 2$\\to$3) Isobaric heat addition"
      ],
      "text/plain": [
       "<IPython.core.display.Markdown object>"
      ]
     },
     "metadata": {},
     "output_type": "display_data"
    },
    {
     "data": {
      "text/markdown": [
       " First law for combuster"
      ],
      "text/plain": [
       "<IPython.core.display.Markdown object>"
      ]
     },
     "metadata": {},
     "output_type": "display_data"
    },
    {
     "data": {
      "text/latex": [
       "\\[\n",
       "  \\begin{aligned}{ \\dot{Q}_{2\\to3} }&={ \\dot{m} \\left(h_{3} - h_{2}\\right) }\\\\\n",
       "    &={ \\left( 5.8061\\ \\frac{\\mathrm{kg}}{\\mathrm{s}} \\right) \\left(\\left( 1211.9\\ \\frac{\\mathrm{kJ}}{\\mathrm{kg}} \\right) - \\left( 347.17\\ \\frac{\\mathrm{kJ}}{\\mathrm{kg}} \\right)\\right) }\\\\\n",
       "    &={  5020.9\\ \\mathrm{kW}  }\n",
       "  \\end{aligned}\n",
       "\\]\n"
      ],
      "text/plain": [
       "<IPython.core.display.Latex object>"
      ]
     },
     "metadata": {},
     "output_type": "display_data"
    },
    {
     "data": {
      "text/markdown": [
       " Heat input"
      ],
      "text/plain": [
       "<IPython.core.display.Markdown object>"
      ]
     },
     "metadata": {},
     "output_type": "display_data"
    },
    {
     "data": {
      "text/latex": [
       "\\[\n",
       "  \\begin{aligned}\n",
       "    { \\dot{Q}_{in} }&={ \\dot{Q}_{2\\to3} } = { 5020.9\\ \\mathrm{kW}  }\n",
       "  \\end{aligned}\n",
       "\\]\n"
      ],
      "text/plain": [
       "<IPython.core.display.Latex object>"
      ]
     },
     "metadata": {},
     "output_type": "display_data"
    },
    {
     "data": {
      "text/markdown": [
       "#### Thermal efficiency"
      ],
      "text/plain": [
       "<IPython.core.display.Markdown object>"
      ]
     },
     "metadata": {},
     "output_type": "display_data"
    },
    {
     "data": {
      "text/latex": [
       "\\[\n",
       "  \\begin{aligned}{ \\eta_{th} }&={ \\frac{\\dot{W}_{net}}{\\dot{Q}_{in}} }\\\\\n",
       "    &={ \\frac{\\left( 1251.7\\ \\mathrm{kW} \\right)}{\\left( 5020.9\\ \\mathrm{kW} \\right)} }\\\\\n",
       "    &={  0.2493\\  }\n",
       "  \\end{aligned}\n",
       "\\]\n"
      ],
      "text/plain": [
       "<IPython.core.display.Latex object>"
      ]
     },
     "metadata": {},
     "output_type": "display_data"
    },
    {
     "data": {
      "text/markdown": [
       "#### Second Law efficiency"
      ],
      "text/plain": [
       "<IPython.core.display.Markdown object>"
      ]
     },
     "metadata": {},
     "output_type": "display_data"
    },
    {
     "data": {
      "text/markdown": [
       " The low temperature is assumed to be the intake temperature"
      ],
      "text/plain": [
       "<IPython.core.display.Markdown object>"
      ]
     },
     "metadata": {},
     "output_type": "display_data"
    },
    {
     "data": {
      "text/latex": [
       "\\[\n",
       "  \\begin{aligned}\n",
       "    { T_{L} }&={ T_{1} } = { 300\\ \\mathrm{K}  }\n",
       "  \\end{aligned}\n",
       "\\]\n"
      ],
      "text/plain": [
       "<IPython.core.display.Latex object>"
      ]
     },
     "metadata": {},
     "output_type": "display_data"
    },
    {
     "data": {
      "text/markdown": [
       " The high temperature is approximated as the hottest temperature of the working fluid"
      ],
      "text/plain": [
       "<IPython.core.display.Markdown object>"
      ]
     },
     "metadata": {},
     "output_type": "display_data"
    },
    {
     "data": {
      "text/latex": [
       "\\[\n",
       "  \\begin{aligned}\n",
       "    { T_{H} }&={ T_{3} } = { 1400\\ \\mathrm{K}  }\n",
       "  \\end{aligned}\n",
       "\\]\n"
      ],
      "text/plain": [
       "<IPython.core.display.Latex object>"
      ]
     },
     "metadata": {},
     "output_type": "display_data"
    },
    {
     "data": {
      "text/markdown": [
       " Carnot efficiency"
      ],
      "text/plain": [
       "<IPython.core.display.Markdown object>"
      ]
     },
     "metadata": {},
     "output_type": "display_data"
    },
    {
     "data": {
      "text/latex": [
       "\\[\n",
       "  \\begin{aligned}{ \\eta_{th,Carnot} }&={ 1 - \\frac{T_{L}}{T_{H}} }\\\\\n",
       "    &={  1  - \\frac{\\left( 300\\ \\mathrm{K} \\right)}{\\left( 1400\\ \\mathrm{K} \\right)} }\\\\\n",
       "    &={  0.78571\\  }\n",
       "  \\end{aligned}\n",
       "\\]\n"
      ],
      "text/plain": [
       "<IPython.core.display.Latex object>"
      ]
     },
     "metadata": {},
     "output_type": "display_data"
    },
    {
     "data": {
      "text/markdown": [
       " Second Law efficiency"
      ],
      "text/plain": [
       "<IPython.core.display.Markdown object>"
      ]
     },
     "metadata": {},
     "output_type": "display_data"
    },
    {
     "data": {
      "text/latex": [
       "\\[\n",
       "  \\begin{aligned}{ \\eta_{II} }&={ \\frac{\\eta_{th}}{\\eta_{th,Carnot}} }\\\\\n",
       "    &={ \\frac{\\left( 0.2493\\ \\right)}{\\left( 0.78571\\ \\right)} }\\\\\n",
       "    &={  0.3173\\  }\n",
       "  \\end{aligned}\n",
       "\\]\n"
      ],
      "text/plain": [
       "<IPython.core.display.Latex object>"
      ]
     },
     "metadata": {},
     "output_type": "display_data"
    }
   ],
   "source": [
    "##### 2$\\to$3) Isobaric heat addition\n",
    "# First law for combuster\n",
    "Qdot_2_to_3 = mdot*(h[3]-h[2])\n",
    "Qdot_2_to_3 = Qdot_2_to_3.to('kW') # hide\n",
    "\n",
    "# Heat input\n",
    "Qdot_in = Qdot_2_to_3\n",
    "\n",
    "##### Thermal efficiency\n",
    "eta_th = Wdot_net/Qdot_in\n",
    "\n",
    "##### Second Law efficiency\n",
    "# The low temperature is assumed to be the intake temperature\n",
    "T_L = T[1]\n",
    "# The high temperature is approximated as the hottest temperature of the working fluid\n",
    "T_H = T[3]\n",
    "# Carnot efficiency\n",
    "eta_th_Carnot = 1-T_L/T_H\n",
    "\n",
    "# Second Law efficiency\n",
    "eta_II = eta_th/eta_th_Carnot\n",
    "\n",
    "display.Calculations(locals(),comments=True);"
   ]
  },
  {
   "cell_type": "markdown",
   "metadata": {},
   "source": [
    "#### (a) $p$-$v$"
   ]
  },
  {
   "cell_type": "code",
   "execution_count": 7,
   "metadata": {
    "collapsed": false,
    "jupyter": {
     "outputs_hidden": false
    }
   },
   "outputs": [
    {
     "data": {
      "image/png": "[encoded data removed]",
      "text/plain": [
       "<Figure size 1200x800 with 1 Axes>"
      ]
     },
     "metadata": {
      "needs_background": "light"
     },
     "output_type": "display_data"
    }
   ],
   "source": [
    "pv = air.pv_diagram()\n",
    "\n",
    "# plot each state on the p,v diagram and calculate the entropy at each state\n",
    "for i in [1,2,3,'4s',4]:\n",
    "    v[i] = R*T[i]/p[i]\n",
    "    pv.plot_state(states[i],label_loc='north east')\n",
    "    s[i] = air.s(T=T[i],p=p[i])\n",
    "\n",
    "v['2s'] = R*T['2s']/p['2s']\n",
    "pv.plot_state(states['2s'],label_loc='north west')\n",
    "\n",
    "# plot the process paths\n",
    "pv.plot_process(states[1],states['2s'],path='isentropic',linestyle='dashed',arrow=False)\n",
    "pv.plot_process(states[1],states[2],path='nonideal',label='compressor')\n",
    "pv.plot_process(states[2],states[3],path='isobaric')\n",
    "pv.plot_process(states[3],states['4s'],path='isentropic',linestyle='dashed',arrow=False)\n",
    "pv.plot_process(states[3],states[4],path='nonideal',label='turbine')\n",
    "pv.plot_process(states[4],states[1],path='isobaric');"
   ]
  },
  {
   "cell_type": "markdown",
   "metadata": {},
   "source": [
    "#### (b) $T$-$s$ diagram"
   ]
  },
  {
   "cell_type": "code",
   "execution_count": 8,
   "metadata": {
    "collapsed": false,
    "jupyter": {
     "outputs_hidden": false
    }
   },
   "outputs": [
    {
     "data": {
      "image/png": "[encoded data removed]",
      "text/plain": [
       "<Figure size 1200x800 with 1 Axes>"
      ]
     },
     "metadata": {
      "needs_background": "light"
     },
     "output_type": "display_data"
    }
   ],
   "source": [
    "Ts = air.Ts_diagram()\n",
    "\n",
    "Ts.plot_state(states[1],label_loc='west')\n",
    "Ts.plot_state(states[2])\n",
    "Ts.plot_state(states[3],label_loc='east')\n",
    "Ts.plot_state(states[4],label_loc='east')\n",
    "Ts.plot_state(states['2s'],label_loc='north')\n",
    "Ts.plot_state(states['4s'],label_loc='south east')\n",
    "    \n",
    "Ts.plot_process(states[1],states['2s'],path='isentropic',linestyle='dashed',arrow=False)\n",
    "Ts.plot_process(states[1],states[2],path='isentropic efficiency')\n",
    "Ts.plot_process(states['2s'],states[2],path='isobaric',linestyle='dashed',arrow=False)\n",
    "Ts.plot_process(states[2],states[3],path='isobaric')\n",
    "Ts.plot_process(states[3],states['4s'],path='isentropic',linestyle='dashed',arrow=False)\n",
    "Ts.plot_process(states[3],states[4],path='isentropic efficiency')\n",
    "Ts.plot_process(states[4],states[1],path='isobaric');"
   ]
  },
  {
   "cell_type": "code",
   "execution_count": 9,
   "metadata": {
    "collapsed": false,
    "jupyter": {
     "outputs_hidden": false
    }
   },
   "outputs": [
    {
     "data": {
      "text/latex": [
       "\\[\\begin{aligned}{ BWR }&={  0.61854\\  }&{ \\dot{Q}_{2 to 3} }&={  5020.9\\ \\mathrm{kW}  }&{ \\dot{Q}_{in} }&={  5020.9\\ \\mathrm{kW}  }\\\\{ R }&={  0.28705\\ \\frac{\\mathrm{kJ}}{\\left(\\mathrm{K} \\cdot \\mathrm{kg}\\right)}  }&{ T_{H} }&={  1400\\ \\mathrm{K}  }&{ T_{L} }&={  300\\ \\mathrm{K}  }\\\\{ \\dot{W}_{1 to 2} }&={  -2029.7\\ \\mathrm{kW}  }&{ \\dot{W}_{3 to 4} }&={  3281.4\\ \\mathrm{kW}  }&{ \\dot{W}_{C} }&={  2029.7\\ \\mathrm{kW}  }\\\\{ \\dot{W}_{T} }&={  3281.4\\ \\mathrm{kW}  }&{ \\dot{W}_{net} }&={  1251.7\\ \\mathrm{kW}  }&{ \\eta_{II} }&={  0.3173\\  }\\\\{ \\eta_{c} }&={  0.8\\  }&{ \\eta_{t} }&={  0.8\\  }&{ \\eta_{th} }&={  0.2493\\  }\\\\{ \\eta_{th Carnot} }&={  0.78571\\  }&{ \\dot{m} }&={  5.8061\\ \\frac{\\mathrm{kg}}{\\mathrm{s}}  }&{ r_{p} }&={  10\\  }\\\\{  }\\end{aligned}\\]"
      ],
      "text/plain": [
       "<IPython.core.display.Latex object>"
      ]
     },
     "metadata": {},
     "output_type": "display_data"
    },
    {
     "data": {
      "text/html": [
       "<table border=\"1\" class=\"dataframe\">\n",
       "  <thead>\n",
       "    <tr>\n",
       "      <th></th>\n",
       "      <th>T</th>\n",
       "      <th>p</th>\n",
       "      <th>v</th>\n",
       "      <th>h</th>\n",
       "      <th>s</th>\n",
       "      <th>Vdot</th>\n",
       "    </tr>\n",
       "    <tr>\n",
       "      <th>unit</th>\n",
       "      <th>K</th>\n",
       "      <th>kPa</th>\n",
       "      <th>m³/kg</th>\n",
       "      <th>kJ/kg</th>\n",
       "      <th>kJ/K/kg</th>\n",
       "      <th>m³/s</th>\n",
       "    </tr>\n",
       "  </thead>\n",
       "  <tbody>\n",
       "    <tr>\n",
       "      <th>1</th>\n",
       "      <td>300.000000</td>\n",
       "      <td>100.0</td>\n",
       "      <td>0.861158</td>\n",
       "      <td>-2.407134</td>\n",
       "      <td>6.707700</td>\n",
       "      <td>5</td>\n",
       "    </tr>\n",
       "    <tr>\n",
       "      <th>2</th>\n",
       "      <td>640.319265</td>\n",
       "      <td>1000.0</td>\n",
       "      <td>0.183805</td>\n",
       "      <td>347.169057</td>\n",
       "      <td>6.822964</td>\n",
       "      <td>-</td>\n",
       "    </tr>\n",
       "    <tr>\n",
       "      <th>2s</th>\n",
       "      <td>573.868050</td>\n",
       "      <td>1000.0</td>\n",
       "      <td>0.164730</td>\n",
       "      <td>277.253819</td>\n",
       "      <td>6.707700</td>\n",
       "      <td>-</td>\n",
       "    </tr>\n",
       "    <tr>\n",
       "      <th>3</th>\n",
       "      <td>1400.000000</td>\n",
       "      <td>1000.0</td>\n",
       "      <td>0.401874</td>\n",
       "      <td>1211.923096</td>\n",
       "      <td>7.706368</td>\n",
       "      <td>-</td>\n",
       "    </tr>\n",
       "    <tr>\n",
       "      <th>4</th>\n",
       "      <td>914.461235</td>\n",
       "      <td>100.0</td>\n",
       "      <td>2.624985</td>\n",
       "      <td>646.760081</td>\n",
       "      <td>7.872681</td>\n",
       "      <td>-</td>\n",
       "    </tr>\n",
       "    <tr>\n",
       "      <th>4s</th>\n",
       "      <td>787.231829</td>\n",
       "      <td>100.0</td>\n",
       "      <td>2.259770</td>\n",
       "      <td>505.469328</td>\n",
       "      <td>7.706367</td>\n",
       "      <td>-</td>\n",
       "    </tr>\n",
       "  </tbody>\n",
       "</table>"
      ],
      "text/plain": [
       "<IPython.core.display.HTML object>"
      ]
     },
     "metadata": {},
     "output_type": "display_data"
    }
   ],
   "source": [
    "display.Summary(locals());"
   ]
  },
  {
   "cell_type": "code",
   "execution_count": 10,
   "metadata": {
    "collapsed": false,
    "jupyter": {
     "outputs_hidden": false
    }
   },
   "outputs": [
    {
     "data": {
      "text/latex": [
       "\\[\\begin{aligned}{ BWR }&={  0.61854\\  }\\\\{ \\dot{W}_{net} }&={  1251.7\\ \\mathrm{kW}  }\\\\{ \\eta_{th} }&={  0.2493\\  }\\\\{  }\\end{aligned}\\]"
      ],
      "text/plain": [
       "<IPython.core.display.Latex object>"
      ]
     },
     "metadata": {},
     "output_type": "display_data"
    }
   ],
   "source": [
    "display.Summary(locals(),['BWR','Wdot_net','eta_th']);"
   ]
  },
  {
   "cell_type": "code",
   "execution_count": null,
   "metadata": {},
   "outputs": [],
   "source": []
  }
 ],
 "metadata": {
  "kernelspec": {
   "display_name": "Python 3",
   "language": "python",
   "name": "python3"
  },
  "language_info": {
   "codemirror_mode": {
    "name": "ipython",
    "version": 3
   },
   "file_extension": ".py",
   "mimetype": "text/x-python",
   "name": "python",
   "nbconvert_exporter": "python",
   "pygments_lexer": "ipython3",
   "version": "3.8.5"
  }
 },
 "nbformat": 4,
 "nbformat_minor": 4
}
