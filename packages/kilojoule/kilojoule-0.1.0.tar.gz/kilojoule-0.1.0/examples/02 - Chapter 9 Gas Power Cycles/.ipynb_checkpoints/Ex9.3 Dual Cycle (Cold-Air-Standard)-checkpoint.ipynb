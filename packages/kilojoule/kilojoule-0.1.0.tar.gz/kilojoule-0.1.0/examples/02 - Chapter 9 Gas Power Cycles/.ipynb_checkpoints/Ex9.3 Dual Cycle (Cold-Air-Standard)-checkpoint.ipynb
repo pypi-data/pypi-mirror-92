{
 "cells": [
  {
   "cell_type": "markdown",
   "metadata": {},
   "source": [
    "# Example 9.3: Dual Cycle (Cold-Air-Standard)\n",
    "\n",
    "*John F. Maddox, Ph.D., P.E.<br>\n",
    "University of Kentucky - Paducah Campus<br>\n",
    "ME 321: Engineering Thermodynamics II<br>*"
   ]
  },
  {
   "cell_type": "markdown",
   "metadata": {},
   "source": [
    "## Problem Statement\n",
    "\n",
    "A Dual cycle with intake conditions of $300\\ \\text{K}$ and $1\\ \\text{bar}$ has a compression ratio of $10$, a maximum pressure of $50\\ \\text{bar}$ and a maximum temperature of $2000\\ \\text{K}$.  Using a **cold-air-standard analysis**, find the cutoff ratio, net work output (kJ/kg), heat input, and cycle efficiency  \n",
    "\n",
    "* (a) $p$-$v$ diagram\n",
    "* (b) $T$-$s$ diagram\n",
    "* (c) $T$,$p$ at each state\n",
    "* (d) $r_c$\n",
    "* (e) $q_{in}$\n",
    "* (f) $w_{net}$\n",
    "* (g) $\\eta_{th}$\n",
    "* (h) $\\text{MEP}$"
   ]
  },
  {
   "cell_type": "markdown",
   "metadata": {},
   "source": [
    "## Solution\n"
   ]
  },
  {
   "cell_type": "markdown",
   "metadata": {},
   "source": [
    "### Python Initialization\n",
    "We'll start by importing the libraries we will use for our analysis and initializing dictionaries to hold the properties we will be usings."
   ]
  },
  {
   "cell_type": "code",
   "execution_count": 1,
   "metadata": {
    "collapsed": false,
    "jupyter": {
     "outputs_hidden": false
    }
   },
   "outputs": [
    {
     "name": "stderr",
     "output_type": "stream",
     "text": [
      "/opt/anaconda/lib/python3.8/site-packages/mpmath/ctx_mp_python.py:892: SyntaxWarning: \"is\" with a literal. Did you mean \"==\"?\n",
      "  if other is 0:\n",
      "/opt/anaconda/lib/python3.8/site-packages/mpmath/ctx_mp_python.py:986: SyntaxWarning: \"is\" with a literal. Did you mean \"==\"?\n",
      "  if other is 0:\n"
     ]
    }
   ],
   "source": [
    "from kilojoule.templates.kSI_K import *\n",
    "     \n",
    "air = idealgas.Properties('Air',unit_system='SI_K')"
   ]
  },
  {
   "cell_type": "markdown",
   "metadata": {},
   "source": [
    "### Given Parameters\n",
    "We now define variables to hold our known values."
   ]
  },
  {
   "cell_type": "code",
   "execution_count": 2,
   "metadata": {
    "collapsed": false,
    "jupyter": {
     "outputs_hidden": false
    }
   },
   "outputs": [
    {
     "data": {
      "text/latex": [
       "\\[\n",
       "  \\begin{aligned}\n",
       "    { T_{1} }&={  300\\ \\mathrm{K}  }\n",
       "  \\end{aligned}\n",
       "\\]\n"
      ],
      "text/plain": [
       "<IPython.core.display.Latex object>"
      ]
     },
     "metadata": {},
     "output_type": "display_data"
    },
    {
     "data": {
      "text/latex": [
       "\\[\n",
       "  \\begin{aligned}\n",
       "    { p_{1} }&={ \\left( 1\\ \\mathrm{bar} \\right) } = { 100.0\\ \\mathrm{kPa}  }\n",
       "  \\end{aligned}\n",
       "\\]\n"
      ],
      "text/plain": [
       "<IPython.core.display.Latex object>"
      ]
     },
     "metadata": {},
     "output_type": "display_data"
    },
    {
     "data": {
      "text/latex": [
       "\\[\n",
       "  \\begin{aligned}\n",
       "    { r }&={  10\\  }\n",
       "  \\end{aligned}\n",
       "\\]\n"
      ],
      "text/plain": [
       "<IPython.core.display.Latex object>"
      ]
     },
     "metadata": {},
     "output_type": "display_data"
    },
    {
     "data": {
      "text/latex": [
       "\\[\n",
       "  \\begin{aligned}\n",
       "    { p_{max} }&={  50\\ \\mathrm{bar}  }\n",
       "  \\end{aligned}\n",
       "\\]\n"
      ],
      "text/plain": [
       "<IPython.core.display.Latex object>"
      ]
     },
     "metadata": {},
     "output_type": "display_data"
    },
    {
     "data": {
      "text/latex": [
       "\\[\n",
       "  \\begin{aligned}\n",
       "    { T_{max} }&={  2000\\ \\mathrm{K}  }\n",
       "  \\end{aligned}\n",
       "\\]\n"
      ],
      "text/plain": [
       "<IPython.core.display.Latex object>"
      ]
     },
     "metadata": {},
     "output_type": "display_data"
    }
   ],
   "source": [
    "T[1] = Quantity(300,'K')  # Inlet Temperature\n",
    "p[1] = Quantity(1,'bar')  # Inlet pressure\n",
    "r = Quantity(10,'')       # Compression ratio\n",
    "p_max = Quantity(50,'bar')# Max pressure\n",
    "T_max = Quantity(2000,'K')# Max Temperature\n",
    "\n",
    "display.Calculations(locals(),comments=True);"
   ]
  },
  {
   "cell_type": "markdown",
   "metadata": {},
   "source": [
    "### Assumptions\n",
    "- Cold-air-standard Analysis\n",
    "  - Ideal gas\n",
    "  - Constant specific heat (evaluated at $25^\\circ\\text{C}$)\n",
    "- Maximum pressure occurs at states 3 and 4\n",
    "- Maximum temperature occurs at state 4\n",
    "- Negligible changes in kinetic energy\n",
    "- Negligible changes in potential energy"
   ]
  },
  {
   "cell_type": "code",
   "execution_count": 3,
   "metadata": {
    "collapsed": false,
    "jupyter": {
     "outputs_hidden": false
    }
   },
   "outputs": [
    {
     "data": {
      "text/markdown": [
       " Ideal Gas"
      ],
      "text/plain": [
       "<IPython.core.display.Markdown object>"
      ]
     },
     "metadata": {},
     "output_type": "display_data"
    },
    {
     "data": {
      "text/markdown": [
       " Constant thermal properties evaluated at room temperature"
      ],
      "text/plain": [
       "<IPython.core.display.Markdown object>"
      ]
     },
     "metadata": {},
     "output_type": "display_data"
    },
    {
     "data": {
      "text/latex": [
       "\\[\n",
       "  \\begin{aligned}\n",
       "    { T_{room} }&={  25\\ \\mathrm{°C}  }\n",
       "  \\end{aligned}\n",
       "\\]\n"
      ],
      "text/plain": [
       "<IPython.core.display.Latex object>"
      ]
     },
     "metadata": {},
     "output_type": "display_data"
    },
    {
     "data": {
      "text/latex": [
       "\\[\n",
       "  \\begin{aligned}\n",
       "    { c_{v} }&={ \\mathrm{\\underset{air}{cv}}\\left(\\mathrm{T}=T_{room}\\right) } = { 0.71768\\ \\frac{\\mathrm{kJ}}{\\left(\\mathrm{K} \\cdot \\mathrm{kg}\\right)}  }\n",
       "  \\end{aligned}\n",
       "\\]\n"
      ],
      "text/plain": [
       "<IPython.core.display.Latex object>"
      ]
     },
     "metadata": {},
     "output_type": "display_data"
    },
    {
     "data": {
      "text/latex": [
       "\\[\n",
       "  \\begin{aligned}\n",
       "    { c_{p} }&={ \\mathrm{\\underset{air}{cp}}\\left(\\mathrm{T}=T_{room}\\right) } = { 1.0047\\ \\frac{\\mathrm{kJ}}{\\left(\\mathrm{K} \\cdot \\mathrm{kg}\\right)}  }\n",
       "  \\end{aligned}\n",
       "\\]\n"
      ],
      "text/plain": [
       "<IPython.core.display.Latex object>"
      ]
     },
     "metadata": {},
     "output_type": "display_data"
    },
    {
     "data": {
      "text/latex": [
       "\\[\n",
       "  \\begin{aligned}\n",
       "    { k }&={ \\mathrm{\\underset{air}{k}}\\left(\\mathrm{T}=T_{room}\\right) } = { 1.4\\  }\n",
       "  \\end{aligned}\n",
       "\\]\n"
      ],
      "text/plain": [
       "<IPython.core.display.Latex object>"
      ]
     },
     "metadata": {},
     "output_type": "display_data"
    },
    {
     "data": {
      "text/markdown": [
       " Maximum temperature and pressure"
      ],
      "text/plain": [
       "<IPython.core.display.Markdown object>"
      ]
     },
     "metadata": {},
     "output_type": "display_data"
    },
    {
     "data": {
      "text/latex": [
       "\\[\n",
       "  \\begin{aligned}\n",
       "    { p_{3} }&={ p_{max} } = { 5000.0\\ \\mathrm{kPa}  }\n",
       "  \\end{aligned}\n",
       "\\]\n"
      ],
      "text/plain": [
       "<IPython.core.display.Latex object>"
      ]
     },
     "metadata": {},
     "output_type": "display_data"
    },
    {
     "data": {
      "text/latex": [
       "\\[\n",
       "  \\begin{aligned}\n",
       "    { p_{4} }&={ p_{max} } = { 5000.0\\ \\mathrm{kPa}  }\n",
       "  \\end{aligned}\n",
       "\\]\n"
      ],
      "text/plain": [
       "<IPython.core.display.Latex object>"
      ]
     },
     "metadata": {},
     "output_type": "display_data"
    },
    {
     "data": {
      "text/latex": [
       "\\[\n",
       "  \\begin{aligned}\n",
       "    { T_{4} }&={ T_{max} } = { 2000\\ \\mathrm{K}  }\n",
       "  \\end{aligned}\n",
       "\\]\n"
      ],
      "text/plain": [
       "<IPython.core.display.Latex object>"
      ]
     },
     "metadata": {},
     "output_type": "display_data"
    }
   ],
   "source": [
    "# Ideal Gas\n",
    "R = air.R\n",
    "\n",
    "# Constant thermal properties evaluated at room temperature\n",
    "T_room = Quantity(25,'degC')\n",
    "c_v = air.Cv(T=T_room)\n",
    "c_p = air.Cp(T=T_room)\n",
    "k = air.k(T=T_room)\n",
    "\n",
    "# Maximum temperature and pressure\n",
    "p[3] = p_max\n",
    "p[4] = p_max\n",
    "T[4] = T_max\n",
    "\n",
    "display.Calculations(locals(),comments=True);"
   ]
  },
  {
   "cell_type": "markdown",
   "metadata": {},
   "source": [
    "#### (c) $T$ and $p$"
   ]
  },
  {
   "cell_type": "code",
   "execution_count": 4,
   "metadata": {
    "collapsed": false,
    "jupyter": {
     "outputs_hidden": false
    }
   },
   "outputs": [
    {
     "data": {
      "text/markdown": [
       " 1-2) Isentropy compression: Isentropic Ideal Gas Relations"
      ],
      "text/plain": [
       "<IPython.core.display.Markdown object>"
      ]
     },
     "metadata": {},
     "output_type": "display_data"
    },
    {
     "data": {
      "text/latex": [
       "\\[\n",
       "  \\begin{aligned}{ T_{2} }&={ T_{1} r^{k - 1} }\\\\\n",
       "    &={ \\left( 300\\ \\mathrm{K} \\right) \\left( 10\\ \\right)^{\\left( 1.4\\ \\right) -  1 } }\\\\\n",
       "    &={  753.52\\ \\mathrm{K}  }\n",
       "  \\end{aligned}\n",
       "\\]\n"
      ],
      "text/plain": [
       "<IPython.core.display.Latex object>"
      ]
     },
     "metadata": {},
     "output_type": "display_data"
    },
    {
     "data": {
      "text/latex": [
       "\\[\n",
       "  \\begin{aligned}{ p_{2} }&={ p_{1} r^{k} }\\\\\n",
       "    &={ \\left( 100.0\\ \\mathrm{kPa} \\right) \\left( 10\\ \\right)^{\\left( 1.4\\ \\right)} }\\\\\n",
       "    &={  2511.7\\ \\mathrm{kPa}  }\n",
       "  \\end{aligned}\n",
       "\\]\n"
      ],
      "text/plain": [
       "<IPython.core.display.Latex object>"
      ]
     },
     "metadata": {},
     "output_type": "display_data"
    },
    {
     "data": {
      "text/markdown": [
       " 2-3) Constant volume heat addition: Ideal Gas law at both states"
      ],
      "text/plain": [
       "<IPython.core.display.Markdown object>"
      ]
     },
     "metadata": {},
     "output_type": "display_data"
    },
    {
     "data": {
      "text/latex": [
       "\\[\n",
       "  \\begin{aligned}{ T_{3} }&={ \\frac{T_{2} p_{3}}{p_{2}} }\\\\\n",
       "    &={ \\frac{\\left( 753.52\\ \\mathrm{K} \\right) \\left( 5000.0\\ \\mathrm{kPa} \\right)}{\\left( 2511.7\\ \\mathrm{kPa} \\right)} }\\\\\n",
       "    &={  1500.0\\ \\mathrm{K}  }\n",
       "  \\end{aligned}\n",
       "\\]\n"
      ],
      "text/plain": [
       "<IPython.core.display.Latex object>"
      ]
     },
     "metadata": {},
     "output_type": "display_data"
    },
    {
     "data": {
      "text/markdown": [
       " 3-4) Constant pressure heat addition: We already know $T_4$ and $p_4$"
      ],
      "text/plain": [
       "<IPython.core.display.Markdown object>"
      ]
     },
     "metadata": {},
     "output_type": "display_data"
    },
    {
     "data": {
      "text/markdown": [
       " 4-5) Isentropic Expansion: Isentropic Ideal Gas Relations"
      ],
      "text/plain": [
       "<IPython.core.display.Markdown object>"
      ]
     },
     "metadata": {},
     "output_type": "display_data"
    },
    {
     "data": {
      "text/latex": [
       "\\[\n",
       "  \\begin{aligned}{ v_{1} }&={ \\frac{R T_{1}}{p_{1}} }\\\\\n",
       "    &={ \\frac{\\left( 0.28705\\ \\frac{\\mathrm{kJ}}{\\left(\\mathrm{K} \\cdot \\mathrm{kg}\\right)} \\right) \\left( 300\\ \\mathrm{K} \\right)}{\\left( 100.0\\ \\mathrm{kPa} \\right)} }\\\\\n",
       "    &={  0.86116\\ \\frac{\\mathrm{m}^{3}}{\\mathrm{kg}}  }\n",
       "  \\end{aligned}\n",
       "\\]\n"
      ],
      "text/plain": [
       "<IPython.core.display.Latex object>"
      ]
     },
     "metadata": {},
     "output_type": "display_data"
    },
    {
     "data": {
      "text/latex": [
       "\\[\n",
       "  \\begin{aligned}\n",
       "    { v_{5} }&={ v_{1} } = { 0.86116\\ \\frac{\\mathrm{m}^{3}}{\\mathrm{kg}}  }\n",
       "  \\end{aligned}\n",
       "\\]\n"
      ],
      "text/plain": [
       "<IPython.core.display.Latex object>"
      ]
     },
     "metadata": {},
     "output_type": "display_data"
    },
    {
     "data": {
      "text/latex": [
       "\\[\n",
       "  \\begin{aligned}{ v_{4} }&={ \\frac{R T_{4}}{p_{4}} }\\\\\n",
       "    &={ \\frac{\\left( 0.28705\\ \\frac{\\mathrm{kJ}}{\\left(\\mathrm{K} \\cdot \\mathrm{kg}\\right)} \\right) \\left( 2000\\ \\mathrm{K} \\right)}{\\left( 5000.0\\ \\mathrm{kPa} \\right)} }\\\\\n",
       "    &={  0.11482\\ \\frac{\\mathrm{m}^{3}}{\\mathrm{kg}}  }\n",
       "  \\end{aligned}\n",
       "\\]\n"
      ],
      "text/plain": [
       "<IPython.core.display.Latex object>"
      ]
     },
     "metadata": {},
     "output_type": "display_data"
    },
    {
     "data": {
      "text/latex": [
       "\\[\n",
       "  \\begin{aligned}{ T_{5} }&={ T_{4} \\left(\\frac{v_{4}}{v_{5}}\\right)^{k - 1} }\\\\\n",
       "    &={ \\left( 2000\\ \\mathrm{K} \\right) \\left(\\frac{\\left( 0.11482\\ \\frac{\\mathrm{m}^{3}}{\\mathrm{kg}} \\right)}{\\left( 0.86116\\ \\frac{\\mathrm{m}^{3}}{\\mathrm{kg}} \\right)}\\right)^{\\left( 1.4\\ \\right) -  1 } }\\\\\n",
       "    &={  893.36\\ \\mathrm{K}  }\n",
       "  \\end{aligned}\n",
       "\\]\n"
      ],
      "text/plain": [
       "<IPython.core.display.Latex object>"
      ]
     },
     "metadata": {},
     "output_type": "display_data"
    },
    {
     "data": {
      "text/latex": [
       "\\[\n",
       "  \\begin{aligned}{ p_{5} }&={ \\frac{R T_{5}}{v_{5}} }\\\\\n",
       "    &={ \\frac{\\left( 0.28705\\ \\frac{\\mathrm{kJ}}{\\left(\\mathrm{K} \\cdot \\mathrm{kg}\\right)} \\right) \\left( 893.36\\ \\mathrm{K} \\right)}{\\left( 0.86116\\ \\frac{\\mathrm{m}^{3}}{\\mathrm{kg}} \\right)} }\\\\\n",
       "    &={  297.79\\ \\mathrm{kPa}  }\n",
       "  \\end{aligned}\n",
       "\\]\n"
      ],
      "text/plain": [
       "<IPython.core.display.Latex object>"
      ]
     },
     "metadata": {},
     "output_type": "display_data"
    },
    {
     "data": {
      "text/html": [
       "<table border=\"1\" class=\"dataframe\">\n",
       "  <thead>\n",
       "    <tr>\n",
       "      <th></th>\n",
       "      <th>T</th>\n",
       "      <th>p</th>\n",
       "      <th>v</th>\n",
       "    </tr>\n",
       "    <tr>\n",
       "      <th>unit</th>\n",
       "      <th>K</th>\n",
       "      <th>kPa</th>\n",
       "      <th>m³/kg</th>\n",
       "    </tr>\n",
       "  </thead>\n",
       "  <tbody>\n",
       "    <tr>\n",
       "      <th>1</th>\n",
       "      <td>300.000000</td>\n",
       "      <td>100.000000</td>\n",
       "      <td>0.861158</td>\n",
       "    </tr>\n",
       "    <tr>\n",
       "      <th>2</th>\n",
       "      <td>753.521630</td>\n",
       "      <td>2511.738765</td>\n",
       "      <td>-</td>\n",
       "    </tr>\n",
       "    <tr>\n",
       "      <th>3</th>\n",
       "      <td>1500.000000</td>\n",
       "      <td>5000.000000</td>\n",
       "      <td>-</td>\n",
       "    </tr>\n",
       "    <tr>\n",
       "      <th>4</th>\n",
       "      <td>2000.000000</td>\n",
       "      <td>5000.000000</td>\n",
       "      <td>0.114821</td>\n",
       "    </tr>\n",
       "    <tr>\n",
       "      <th>5</th>\n",
       "      <td>893.362734</td>\n",
       "      <td>297.787578</td>\n",
       "      <td>0.861158</td>\n",
       "    </tr>\n",
       "  </tbody>\n",
       "</table>"
      ],
      "text/plain": [
       "<IPython.core.display.HTML object>"
      ]
     },
     "metadata": {},
     "output_type": "display_data"
    }
   ],
   "source": [
    "# 1-2) Isentropy compression: Isentropic Ideal Gas Relations\n",
    "T[2] = T[1]*r**(k-1)\n",
    "p[2] = p[1]*r**k\n",
    "\n",
    "# 2-3) Constant volume heat addition: Ideal Gas law at both states\n",
    "T[3] = T[2]*p[3]/p[2]\n",
    "\n",
    "# 3-4) Constant pressure heat addition: We already know $T_4$ and $p_4$\n",
    "\n",
    "# 4-5) Isentropic Expansion: Isentropic Ideal Gas Relations\n",
    "v[1] = R*T[1]/p[1]\n",
    "v[5] = v[1]\n",
    "v[4] = R*T[4]/p[4]\n",
    "T[5] = T[4]*(v[4]/v[5])**(k-1)\n",
    "p[5] = R*T[5]/v[5]\n",
    "\n",
    "display.Calculations(locals(),comments=True);\n",
    "states.display()"
   ]
  },
  {
   "cell_type": "markdown",
   "metadata": {},
   "source": [
    "#### (b) Cut-off ratio"
   ]
  },
  {
   "cell_type": "code",
   "execution_count": 5,
   "metadata": {
    "collapsed": false,
    "jupyter": {
     "outputs_hidden": false
    }
   },
   "outputs": [
    {
     "data": {
      "text/latex": [
       "\\[\n",
       "  \\begin{aligned}{ v_{3} }&={ \\frac{R T_{3}}{p_{3}} }\\\\\n",
       "    &={ \\frac{\\left( 0.28705\\ \\frac{\\mathrm{kJ}}{\\left(\\mathrm{K} \\cdot \\mathrm{kg}\\right)} \\right) \\left( 1500.0\\ \\mathrm{K} \\right)}{\\left( 5000.0\\ \\mathrm{kPa} \\right)} }\\\\\n",
       "    &={  0.086116\\ \\frac{\\mathrm{m}^{3}}{\\mathrm{kg}}  }\n",
       "  \\end{aligned}\n",
       "\\]\n"
      ],
      "text/plain": [
       "<IPython.core.display.Latex object>"
      ]
     },
     "metadata": {},
     "output_type": "display_data"
    },
    {
     "data": {
      "text/latex": [
       "\\[\n",
       "  \\begin{aligned}{ r_{c} }&={ \\frac{v_{4}}{v_{3}} }\\\\\n",
       "    &={ \\frac{\\left( 0.11482\\ \\frac{\\mathrm{m}^{3}}{\\mathrm{kg}} \\right)}{\\left( 0.086116\\ \\frac{\\mathrm{m}^{3}}{\\mathrm{kg}} \\right)} }\\\\\n",
       "    &={  1.3333\\  }\n",
       "  \\end{aligned}\n",
       "\\]\n"
      ],
      "text/plain": [
       "<IPython.core.display.Latex object>"
      ]
     },
     "metadata": {},
     "output_type": "display_data"
    }
   ],
   "source": [
    "v[3] = R*T[3]/p[3]\n",
    "r_c = v[4]/v[3]\n",
    "\n",
    "display.Calculations(locals(),comments=True);"
   ]
  },
  {
   "cell_type": "markdown",
   "metadata": {},
   "source": [
    "#### (c) Heat input"
   ]
  },
  {
   "cell_type": "code",
   "execution_count": 6,
   "metadata": {
    "collapsed": false,
    "jupyter": {
     "outputs_hidden": false
    }
   },
   "outputs": [
    {
     "data": {
      "text/markdown": [
       " 1st Law 2$\\to$3"
      ],
      "text/plain": [
       "<IPython.core.display.Markdown object>"
      ]
     },
     "metadata": {},
     "output_type": "display_data"
    },
    {
     "data": {
      "text/latex": [
       "\\[\n",
       "  \\begin{aligned}{ q_{2\\to3} }&={ c_{v} \\left(T_{3} - T_{2}\\right) }\\\\\n",
       "    &={ \\left( 0.71768\\ \\frac{\\mathrm{kJ}}{\\left(\\mathrm{K} \\cdot \\mathrm{kg}\\right)} \\right) \\left(\\left( 1500.0\\ \\mathrm{K} \\right) - \\left( 753.52\\ \\mathrm{K} \\right)\\right) }\\\\\n",
       "    &={  535.73\\ \\frac{\\mathrm{kJ}}{\\mathrm{kg}}  }\n",
       "  \\end{aligned}\n",
       "\\]\n"
      ],
      "text/plain": [
       "<IPython.core.display.Latex object>"
      ]
     },
     "metadata": {},
     "output_type": "display_data"
    },
    {
     "data": {
      "text/markdown": [
       " 1st Law 3$\\to$4"
      ],
      "text/plain": [
       "<IPython.core.display.Markdown object>"
      ]
     },
     "metadata": {},
     "output_type": "display_data"
    },
    {
     "data": {
      "text/latex": [
       "\\[\n",
       "  \\begin{aligned}{ q_{3\\to4} }&={ c_{p} \\left(T_{4} - T_{3}\\right) }\\\\\n",
       "    &={ \\left( 1.0047\\ \\frac{\\mathrm{kJ}}{\\left(\\mathrm{K} \\cdot \\mathrm{kg}\\right)} \\right) \\left(\\left( 2000\\ \\mathrm{K} \\right) - \\left( 1500.0\\ \\mathrm{K} \\right)\\right) }\\\\\n",
       "    &={  502.36\\ \\frac{\\mathrm{kJ}}{\\mathrm{kg}}  }\n",
       "  \\end{aligned}\n",
       "\\]\n"
      ],
      "text/plain": [
       "<IPython.core.display.Latex object>"
      ]
     },
     "metadata": {},
     "output_type": "display_data"
    },
    {
     "data": {
      "text/markdown": [
       " Total heat input"
      ],
      "text/plain": [
       "<IPython.core.display.Markdown object>"
      ]
     },
     "metadata": {},
     "output_type": "display_data"
    },
    {
     "data": {
      "text/latex": [
       "\\[\n",
       "  \\begin{aligned}{ q_{in} }&={ q_{2\\to3} + q_{3\\to4} }\\\\\n",
       "    &={ \\left( 535.73\\ \\frac{\\mathrm{kJ}}{\\mathrm{kg}} \\right) + \\left( 502.36\\ \\frac{\\mathrm{kJ}}{\\mathrm{kg}} \\right) }\\\\\n",
       "    &={  1038.1\\ \\frac{\\mathrm{kJ}}{\\mathrm{kg}}  }\n",
       "  \\end{aligned}\n",
       "\\]\n"
      ],
      "text/plain": [
       "<IPython.core.display.Latex object>"
      ]
     },
     "metadata": {},
     "output_type": "display_data"
    }
   ],
   "source": [
    "# 1st Law 2$\\to$3\n",
    "q_2_to_3 = c_v*(T[3]-T[2])\n",
    "\n",
    "# 1st Law 3$\\to$4\n",
    "q_3_to_4 = c_p*(T[4]-T[3])\n",
    "\n",
    "# Total heat input\n",
    "q_in = q_2_to_3 + q_3_to_4 \n",
    "\n",
    "display.Calculations(locals(),comments=True);"
   ]
  },
  {
   "cell_type": "markdown",
   "metadata": {},
   "source": [
    "#### (d) $w_{net}$"
   ]
  },
  {
   "cell_type": "code",
   "execution_count": 7,
   "metadata": {
    "collapsed": false,
    "jupyter": {
     "outputs_hidden": false
    }
   },
   "outputs": [
    {
     "data": {
      "text/markdown": [
       " 1st Law 5$\\to$1"
      ],
      "text/plain": [
       "<IPython.core.display.Markdown object>"
      ]
     },
     "metadata": {},
     "output_type": "display_data"
    },
    {
     "data": {
      "text/latex": [
       "\\[\n",
       "  \\begin{aligned}{ q_{5\\to1} }&={ c_{v} \\left(T_{1} - T_{5}\\right) }\\\\\n",
       "    &={ \\left( 0.71768\\ \\frac{\\mathrm{kJ}}{\\left(\\mathrm{K} \\cdot \\mathrm{kg}\\right)} \\right) \\left(\\left( 300\\ \\mathrm{K} \\right) - \\left( 893.36\\ \\mathrm{K} \\right)\\right) }\\\\\n",
       "    &={  -425.84\\ \\frac{\\mathrm{kJ}}{\\mathrm{kg}}  }\n",
       "  \\end{aligned}\n",
       "\\]\n"
      ],
      "text/plain": [
       "<IPython.core.display.Latex object>"
      ]
     },
     "metadata": {},
     "output_type": "display_data"
    },
    {
     "data": {
      "text/latex": [
       "\\[\n",
       "  \\begin{aligned}{ q_{out} }&={ - q_{5\\to1} }\\\\\n",
       "    &={ - \\left( -425.84\\ \\frac{\\mathrm{kJ}}{\\mathrm{kg}} \\right) }\\\\\n",
       "    &={  425.84\\ \\frac{\\mathrm{kJ}}{\\mathrm{kg}}  }\n",
       "  \\end{aligned}\n",
       "\\]\n"
      ],
      "text/plain": [
       "<IPython.core.display.Latex object>"
      ]
     },
     "metadata": {},
     "output_type": "display_data"
    },
    {
     "data": {
      "text/markdown": [
       " 1st Law Full Cycle"
      ],
      "text/plain": [
       "<IPython.core.display.Markdown object>"
      ]
     },
     "metadata": {},
     "output_type": "display_data"
    },
    {
     "data": {
      "text/latex": [
       "\\[\n",
       "  \\begin{aligned}{ w_{net} }&={ q_{in} - q_{out} }\\\\\n",
       "    &={ \\left( 1038.1\\ \\frac{\\mathrm{kJ}}{\\mathrm{kg}} \\right) - \\left( 425.84\\ \\frac{\\mathrm{kJ}}{\\mathrm{kg}} \\right) }\\\\\n",
       "    &={  612.25\\ \\frac{\\mathrm{kJ}}{\\mathrm{kg}}  }\n",
       "  \\end{aligned}\n",
       "\\]\n"
      ],
      "text/plain": [
       "<IPython.core.display.Latex object>"
      ]
     },
     "metadata": {},
     "output_type": "display_data"
    }
   ],
   "source": [
    "# 1st Law 5$\\to$1\n",
    "q_5_to_1 = c_v*(T[1]-T[5])\n",
    "q_out = -q_5_to_1\n",
    "\n",
    "# 1st Law Full Cycle\n",
    "w_net = q_in-q_out\n",
    "\n",
    "display.Calculations(locals(),comments=True);"
   ]
  },
  {
   "cell_type": "markdown",
   "metadata": {},
   "source": [
    "#### (e) $\\eta_{th}$"
   ]
  },
  {
   "cell_type": "code",
   "execution_count": 8,
   "metadata": {
    "collapsed": false,
    "jupyter": {
     "outputs_hidden": false
    }
   },
   "outputs": [
    {
     "data": {
      "text/markdown": [
       " Thermal efficiency"
      ],
      "text/plain": [
       "<IPython.core.display.Markdown object>"
      ]
     },
     "metadata": {},
     "output_type": "display_data"
    },
    {
     "data": {
      "text/latex": [
       "\\[\n",
       "  \\begin{aligned}{ \\eta_{th} }&={ \\frac{w_{net}}{q_{in}} }\\\\\n",
       "    &={ \\frac{\\left( 612.25\\ \\frac{\\mathrm{kJ}}{\\mathrm{kg}} \\right)}{\\left( 1038.1\\ \\frac{\\mathrm{kJ}}{\\mathrm{kg}} \\right)} }\\\\\n",
       "    &={  0.58978\\  }\n",
       "  \\end{aligned}\n",
       "\\]\n"
      ],
      "text/plain": [
       "<IPython.core.display.Latex object>"
      ]
     },
     "metadata": {},
     "output_type": "display_data"
    }
   ],
   "source": [
    "# Thermal efficiency\n",
    "eta_th = w_net/q_in\n",
    "\n",
    "display.Calculations(locals(),comments=True);"
   ]
  },
  {
   "cell_type": "markdown",
   "metadata": {},
   "source": [
    "#### (f) MEP"
   ]
  },
  {
   "cell_type": "code",
   "execution_count": 9,
   "metadata": {
    "collapsed": false,
    "jupyter": {
     "outputs_hidden": false
    }
   },
   "outputs": [
    {
     "data": {
      "text/markdown": [
       " Mean Effective Pressure"
      ],
      "text/plain": [
       "<IPython.core.display.Markdown object>"
      ]
     },
     "metadata": {},
     "output_type": "display_data"
    },
    {
     "data": {
      "text/latex": [
       "\\[\n",
       "  \\begin{aligned}\n",
       "    { v_{max} }&={ v_{1} } = { 0.86116\\ \\frac{\\mathrm{m}^{3}}{\\mathrm{kg}}  }\n",
       "  \\end{aligned}\n",
       "\\]\n"
      ],
      "text/plain": [
       "<IPython.core.display.Latex object>"
      ]
     },
     "metadata": {},
     "output_type": "display_data"
    },
    {
     "data": {
      "text/latex": [
       "\\[\n",
       "  \\begin{aligned}\n",
       "    { v_{2} }&={ v_{3} } = { 0.086116\\ \\frac{\\mathrm{m}^{3}}{\\mathrm{kg}}  }\n",
       "  \\end{aligned}\n",
       "\\]\n"
      ],
      "text/plain": [
       "<IPython.core.display.Latex object>"
      ]
     },
     "metadata": {},
     "output_type": "display_data"
    },
    {
     "data": {
      "text/latex": [
       "\\[\n",
       "  \\begin{aligned}\n",
       "    { v_{min} }&={ v_{2} } = { 0.086116\\ \\frac{\\mathrm{m}^{3}}{\\mathrm{kg}}  }\n",
       "  \\end{aligned}\n",
       "\\]\n"
      ],
      "text/plain": [
       "<IPython.core.display.Latex object>"
      ]
     },
     "metadata": {},
     "output_type": "display_data"
    },
    {
     "data": {
      "text/latex": [
       "\\[\n",
       "  \\begin{aligned}{ MEP }&={ \\frac{w_{net}}{v_{max} - v_{min}} }\\\\\n",
       "    &={ \\frac{\\left( 612.25\\ \\frac{\\mathrm{kJ}}{\\mathrm{kg}} \\right)}{\\left( 0.86116\\ \\frac{\\mathrm{m}^{3}}{\\mathrm{kg}} \\right) - \\left( 0.086116\\ \\frac{\\mathrm{m}^{3}}{\\mathrm{kg}} \\right)} }\\\\\n",
       "    &={  789.96\\ \\frac{\\mathrm{kJ}}{\\mathrm{m}^{3}}  }\n",
       "  \\end{aligned}\n",
       "\\]\n"
      ],
      "text/plain": [
       "<IPython.core.display.Latex object>"
      ]
     },
     "metadata": {},
     "output_type": "display_data"
    }
   ],
   "source": [
    "# Mean Effective Pressure\n",
    "v_max = v[1]\n",
    "v[2] = v[3]\n",
    "v_min = v[2]\n",
    "MEP = w_net/(v_max-v_min)\n",
    "\n",
    "display.Calculations(locals(),comments=True);"
   ]
  },
  {
   "cell_type": "markdown",
   "metadata": {},
   "source": [
    "### Plotting\n",
    "*Note: The plotting library using the property tables to draw the process paths, which inherently assumes variable specific heat (i.e. real-fluid or air-standard assumptions).  If the library is used to draw process paths between states that were obtained using constant specific heat (cold-air-standard assumptions) there will be inconsistencies between the state points and the process paths.*\n",
    "\n",
    "In order to plot the paths of the cycle on the $p$-$v$ diagram and states on the $T$-$s$ diagram, we need discrete values for the specifc enthalpy and entropy at each state rather than just the changes in properties we calculated above.  To do this we can pick an arbritrary value for the enthalpy and entropy at any state, then caclulate the enthalpy and entropy at the rest of the states relative to the reference point. For this case, we will look up the properties from the tables for state 1 and use that as our starting point."
   ]
  },
  {
   "cell_type": "markdown",
   "metadata": {},
   "source": [
    "#### (a) $p$-$v$\n",
    "Note: the isentropic lines do not line up exactly with the states in this diagram because the entropies were calculated for variable specific heat, but all other properties were calculated using the\n",
    "cold-air-standard assumptions (constant specific heat).  "
   ]
  },
  {
   "cell_type": "code",
   "execution_count": 10,
   "metadata": {
    "collapsed": false,
    "jupyter": {
     "outputs_hidden": false
    }
   },
   "outputs": [
    {
     "data": {
      "image/png": "[encoded data removed]",
      "text/plain": [
       "<Figure size 1200x800 with 1 Axes>"
      ]
     },
     "metadata": {
      "needs_background": "light"
     },
     "output_type": "display_data"
    }
   ],
   "source": [
    "from math import log\n",
    "\n",
    "# Add entropy to the property table\n",
    "states.add_property('s',units='kJ/kg/K')\n",
    "s = states.dict['s']\n",
    "\n",
    "pv = air.pv_diagram()\n",
    "\n",
    "s[1] = air.s(T=T[1],p=p[1])\n",
    "for i in [2,3,4,5]:\n",
    "    #s[i] = s[1] + c_p*log(T[i]/T[1]) - R*log(p[i]/p[1])\n",
    "    s[i] = air.s(T=T[i],p=p[i])\n",
    "\n",
    "# plot each state on the p,v diagram and calculate the entropy at each state\n",
    "for i in range(1,6):\n",
    "    pv.plot_state(states[i],label_loc='north east')\n",
    "\n",
    "# plot the process paths\n",
    "pv.plot_process(states[1],states[2],path='isentropic')\n",
    "pv.plot_process(states[2],states[3],path='isochoric')\n",
    "pv.plot_process(states[3],states[4],path='isobaric')\n",
    "pv.plot_process(states[4],states[5],path='isentropic')\n",
    "pv.plot_process(states[5],states[1],path='isochoric');"
   ]
  },
  {
   "cell_type": "markdown",
   "metadata": {},
   "source": [
    "#### (b) $T$-$s$ diagram\n",
    "***Note: the isentropic lines are not vertical in this diagram because the entropies were \n",
    "calculated for variable specific heat, but all other properties were calculated using the\n",
    "cold-air-standard assumptions (constant specific heat).  Therefore the errors resulting from the constant specific heat assumption are evident in the skewed shape of the cycle on the $T$-$s$ diagram.***"
   ]
  },
  {
   "cell_type": "code",
   "execution_count": 11,
   "metadata": {
    "collapsed": false,
    "jupyter": {
     "outputs_hidden": false
    }
   },
   "outputs": [
    {
     "data": {
      "image/png": "[encoded data removed]",
      "text/plain": [
       "<Figure size 1200x800 with 1 Axes>"
      ]
     },
     "metadata": {
      "needs_background": "light"
     },
     "output_type": "display_data"
    }
   ],
   "source": [
    "Ts = air.Ts_diagram()\n",
    "\n",
    "for i in range(1,6):\n",
    "    Ts.plot_state(states[i],label_loc='north east')\n",
    "  \n",
    " \n",
    "Ts.plot_process(states[1],states[2],path='isentropic')\n",
    "Ts.plot_process(states[2],states[3],path='isochoric')\n",
    "Ts.plot_process(states[3],states[4],path='isobaric')\n",
    "Ts.plot_process(states[4],states[5],path='isentropic')\n",
    "Ts.plot_process(states[5],states[1],path='isochoric');"
   ]
  },
  {
   "cell_type": "code",
   "execution_count": 12,
   "metadata": {
    "collapsed": false,
    "jupyter": {
     "outputs_hidden": false
    }
   },
   "outputs": [
    {
     "data": {
      "text/latex": [
       "\\[\\begin{aligned}{ MEP }&={  789.96\\ \\frac{\\mathrm{kJ}}{\\mathrm{m}^{3}}  }&{ R }&={  0.28705\\ \\frac{\\mathrm{kJ}}{\\left(\\mathrm{K} \\cdot \\mathrm{kg}\\right)}  }&{ T_{max} }&={  2000\\ \\mathrm{K}  }\\\\{ T_{room} }&={  25\\ \\mathrm{°C}  }&{ c_{p} }&={  1.0047\\ \\frac{\\mathrm{kJ}}{\\left(\\mathrm{K} \\cdot \\mathrm{kg}\\right)}  }&{ c_{v} }&={  0.71768\\ \\frac{\\mathrm{kJ}}{\\left(\\mathrm{K} \\cdot \\mathrm{kg}\\right)}  }\\\\{ \\eta_{th} }&={  0.58978\\  }&{ k }&={  1.4\\  }&{ p_{max} }&={  50\\ \\mathrm{bar}  }\\\\{ q_{2 to 3} }&={  535.73\\ \\frac{\\mathrm{kJ}}{\\mathrm{kg}}  }&{ q_{3 to 4} }&={  502.36\\ \\frac{\\mathrm{kJ}}{\\mathrm{kg}}  }&{ q_{5 to 1} }&={  -425.84\\ \\frac{\\mathrm{kJ}}{\\mathrm{kg}}  }\\\\{ q_{in} }&={  1038.1\\ \\frac{\\mathrm{kJ}}{\\mathrm{kg}}  }&{ q_{out} }&={  425.84\\ \\frac{\\mathrm{kJ}}{\\mathrm{kg}}  }&{ r }&={  10\\  }\\\\{ r_{c} }&={  1.3333\\  }&{ v_{max} }&={  0.86116\\ \\frac{\\mathrm{m}^{3}}{\\mathrm{kg}}  }&{ v_{min} }&={  0.086116\\ \\frac{\\mathrm{m}^{3}}{\\mathrm{kg}}  }\\\\{ w_{net} }&={  612.25\\ \\frac{\\mathrm{kJ}}{\\mathrm{kg}}  }&{  }\\end{aligned}\\]"
      ],
      "text/plain": [
       "<IPython.core.display.Latex object>"
      ]
     },
     "metadata": {},
     "output_type": "display_data"
    },
    {
     "data": {
      "text/html": [
       "<table border=\"1\" class=\"dataframe\">\n",
       "  <thead>\n",
       "    <tr>\n",
       "      <th></th>\n",
       "      <th>T</th>\n",
       "      <th>p</th>\n",
       "      <th>v</th>\n",
       "      <th>s</th>\n",
       "    </tr>\n",
       "    <tr>\n",
       "      <th>unit</th>\n",
       "      <th>K</th>\n",
       "      <th>kPa</th>\n",
       "      <th>m³/kg</th>\n",
       "      <th>kJ/K/kg</th>\n",
       "    </tr>\n",
       "  </thead>\n",
       "  <tbody>\n",
       "    <tr>\n",
       "      <th>1</th>\n",
       "      <td>300.000000</td>\n",
       "      <td>100.000000</td>\n",
       "      <td>0.861158</td>\n",
       "      <td>6.707700</td>\n",
       "    </tr>\n",
       "    <tr>\n",
       "      <th>2</th>\n",
       "      <td>753.521630</td>\n",
       "      <td>2511.738765</td>\n",
       "      <td>0.086116</td>\n",
       "      <td>6.733272</td>\n",
       "    </tr>\n",
       "    <tr>\n",
       "      <th>3</th>\n",
       "      <td>1500.000000</td>\n",
       "      <td>5000.000000</td>\n",
       "      <td>0.086116</td>\n",
       "      <td>7.327372</td>\n",
       "    </tr>\n",
       "    <tr>\n",
       "      <th>4</th>\n",
       "      <td>2000.000000</td>\n",
       "      <td>5000.000000</td>\n",
       "      <td>0.114821</td>\n",
       "      <td>7.681485</td>\n",
       "    </tr>\n",
       "    <tr>\n",
       "      <th>5</th>\n",
       "      <td>893.362734</td>\n",
       "      <td>297.787578</td>\n",
       "      <td>0.861158</td>\n",
       "      <td>7.533244</td>\n",
       "    </tr>\n",
       "  </tbody>\n",
       "</table>"
      ],
      "text/plain": [
       "<IPython.core.display.HTML object>"
      ]
     },
     "metadata": {},
     "output_type": "display_data"
    }
   ],
   "source": [
    "display.Summary(locals());"
   ]
  },
  {
   "cell_type": "code",
   "execution_count": 13,
   "metadata": {
    "collapsed": false,
    "jupyter": {
     "outputs_hidden": false
    }
   },
   "outputs": [
    {
     "data": {
      "text/latex": [
       "\\[\\begin{aligned}{ r_{c} }&={  1.3333\\  }\\\\{ q_{in} }&={  1038.1\\ \\frac{\\mathrm{kJ}}{\\mathrm{kg}}  }\\\\{ w_{net} }&={  612.25\\ \\frac{\\mathrm{kJ}}{\\mathrm{kg}}  }\\\\{ \\eta_{th} }&={  0.58978\\  }\\\\{ MEP }&={  789.96\\ \\frac{\\mathrm{kJ}}{\\mathrm{m}^{3}}  }\\\\{  }\\end{aligned}\\]"
      ],
      "text/plain": [
       "<IPython.core.display.Latex object>"
      ]
     },
     "metadata": {},
     "output_type": "display_data"
    }
   ],
   "source": [
    "display.Summary(locals(),['r_c','q_in','w_net','eta_th','MEP']);"
   ]
  },
  {
   "cell_type": "code",
   "execution_count": null,
   "metadata": {
    "collapsed": false,
    "jupyter": {
     "outputs_hidden": false
    }
   },
   "outputs": [],
   "source": []
  }
 ],
 "metadata": {
  "kernelspec": {
   "display_name": "Python 3",
   "language": "python",
   "name": "python3"
  },
  "language_info": {
   "codemirror_mode": {
    "name": "ipython",
    "version": 3
   },
   "file_extension": ".py",
   "mimetype": "text/x-python",
   "name": "python",
   "nbconvert_exporter": "python",
   "pygments_lexer": "ipython3",
   "version": "3.8.5"
  }
 },
 "nbformat": 4,
 "nbformat_minor": 4
}
