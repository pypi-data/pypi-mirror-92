{
 "cells": [
  {
   "cell_type": "markdown",
   "metadata": {},
   "source": [
    "# Example 14.2: Sling Psychrometer\n",
    "\n",
    "*John F. Maddox, Ph.D., P.E.<br>\n",
    "University of Kentucky - Paducah Campus<br>\n",
    "ME 321: Engineering Thermodynamics II<br>*"
   ]
  },
  {
   "cell_type": "markdown",
   "metadata": {},
   "source": [
    "## Problem Statement\n",
    "Using the equations for adiabatic saturation temperature determine the specific humidity, $\\omega$, relative humidity, $\\phi$, and specific enthalpy, $h$, for atmospheric air with $T_{db}=20^\\circ\\mathrm{C}$ and $T_{wb}=15^\\circ\\mathrm{C}$\n"
   ]
  },
  {
   "cell_type": "markdown",
   "metadata": {},
   "source": [
    "## Solution\n"
   ]
  },
  {
   "cell_type": "markdown",
   "metadata": {},
   "source": [
    "### Python Initialization\n",
    "We'll start by importing the libraries we will use for our analysis and initializing dictionaries to hold the properties we will be usings."
   ]
  },
  {
   "cell_type": "code",
   "execution_count": 1,
   "metadata": {
    "collapsed": false,
    "jupyter": {
     "outputs_hidden": false
    }
   },
   "outputs": [
    {
     "name": "stderr",
     "output_type": "stream",
     "text": [
      "/opt/anaconda/lib/python3.8/site-packages/mpmath/ctx_mp_python.py:892: SyntaxWarning: \"is\" with a literal. Did you mean \"==\"?\n",
      "  if other is 0:\n",
      "/opt/anaconda/lib/python3.8/site-packages/mpmath/ctx_mp_python.py:986: SyntaxWarning: \"is\" with a literal. Did you mean \"==\"?\n",
      "  if other is 0:\n"
     ]
    }
   ],
   "source": [
    "from kilojoule.templates.default import *\n",
    "   \n",
    "water = realfluid.Properties('Water')\n",
    "air = realfluid.Properties('Air')"
   ]
  },
  {
   "cell_type": "markdown",
   "metadata": {},
   "source": [
    "### Given"
   ]
  },
  {
   "cell_type": "code",
   "execution_count": 3,
   "metadata": {},
   "outputs": [],
   "source": [
    "p = Quantity(1,'atm')\n",
    "T_db = Quantity(20,'degC')\n",
    "T_wb = Quantity(15,'degC')"
   ]
  },
  {
   "cell_type": "markdown",
   "metadata": {},
   "source": [
    "#### Properties"
   ]
  },
  {
   "cell_type": "code",
   "execution_count": 7,
   "metadata": {},
   "outputs": [
    {
     "data": {
      "text/markdown": [
       " Water Properties"
      ],
      "text/plain": [
       "<IPython.core.display.Markdown object>"
      ]
     },
     "metadata": {},
     "output_type": "display_data"
    },
    {
     "data": {
      "text/markdown": [
       " Saturated vapor pressure at wet bulb temperature"
      ],
      "text/plain": [
       "<IPython.core.display.Markdown object>"
      ]
     },
     "metadata": {},
     "output_type": "display_data"
    },
    {
     "data": {
      "text/latex": [
       "\\[\n",
       "  \\begin{aligned}\n",
       "    { p_{g,wb} }&={ \\mathrm{\\underset{water}{p}}\\left(\\mathrm{T}=T_{wb} , \\mathrm{x}=1\\right) } = { 1.7058\\ \\mathrm{kPa}  }\n",
       "  \\end{aligned}\n",
       "\\]\n"
      ],
      "text/plain": [
       "<IPython.core.display.Latex object>"
      ]
     },
     "metadata": {},
     "output_type": "display_data"
    },
    {
     "data": {
      "text/markdown": [
       " Saturated vapor pressure at dry bulb temperature"
      ],
      "text/plain": [
       "<IPython.core.display.Markdown object>"
      ]
     },
     "metadata": {},
     "output_type": "display_data"
    },
    {
     "data": {
      "text/latex": [
       "\\[\n",
       "  \\begin{aligned}\n",
       "    { p_{g,db} }&={ \\mathrm{\\underset{water}{p}}\\left(\\mathrm{T}=T_{db} , \\mathrm{x}=1\\right) } = { 2.3393\\ \\mathrm{kPa}  }\n",
       "  \\end{aligned}\n",
       "\\]\n"
      ],
      "text/plain": [
       "<IPython.core.display.Latex object>"
      ]
     },
     "metadata": {},
     "output_type": "display_data"
    },
    {
     "data": {
      "text/markdown": [
       " Enthalpy of vaporization at wet bulb temperature"
      ],
      "text/plain": [
       "<IPython.core.display.Markdown object>"
      ]
     },
     "metadata": {},
     "output_type": "display_data"
    },
    {
     "data": {
      "text/latex": [
       "\\[\n",
       "  \\begin{aligned}{ h_{fg,wb} }&={ \\mathrm{\\underset{water}{h}}\\left(\\mathrm{T}=T_{wb} , \\mathrm{x}=1\\right) - \\mathrm{\\underset{water}{h}}\\left(\\mathrm{T}=T_{wb} , \\mathrm{x}=0\\right) }\\\\\n",
       "    &={ 2528.3 kilojoule / kilogram - 62.981 kilojoule / kilogram }\\\\\n",
       "    &={  2465.4\\ \\frac{\\mathrm{kJ}}{\\mathrm{kg}}  }\n",
       "  \\end{aligned}\n",
       "\\]\n"
      ],
      "text/plain": [
       "<IPython.core.display.Latex object>"
      ]
     },
     "metadata": {},
     "output_type": "display_data"
    },
    {
     "data": {
      "text/markdown": [
       " Enthalpy of saturated vapor at dry bulb temperature"
      ],
      "text/plain": [
       "<IPython.core.display.Markdown object>"
      ]
     },
     "metadata": {},
     "output_type": "display_data"
    },
    {
     "data": {
      "text/latex": [
       "\\[\n",
       "  \\begin{aligned}\n",
       "    { h_{g,db} }&={ \\mathrm{\\underset{water}{h}}\\left(\\mathrm{T}=T_{db} , \\mathrm{x}=1\\right) } = { 2537.4\\ \\frac{\\mathrm{kJ}}{\\mathrm{kg}}  }\n",
       "  \\end{aligned}\n",
       "\\]\n"
      ],
      "text/plain": [
       "<IPython.core.display.Latex object>"
      ]
     },
     "metadata": {},
     "output_type": "display_data"
    },
    {
     "data": {
      "text/markdown": [
       " Enthalpy of saturated liquid at wet bulb temperature"
      ],
      "text/plain": [
       "<IPython.core.display.Markdown object>"
      ]
     },
     "metadata": {},
     "output_type": "display_data"
    },
    {
     "data": {
      "text/latex": [
       "\\[\n",
       "  \\begin{aligned}\n",
       "    { h_{f,wb} }&={ \\mathrm{\\underset{water}{h}}\\left(\\mathrm{T}=T_{wb} , \\mathrm{x}=0\\right) } = { 62.981\\ \\frac{\\mathrm{kJ}}{\\mathrm{kg}}  }\n",
       "  \\end{aligned}\n",
       "\\]\n"
      ],
      "text/plain": [
       "<IPython.core.display.Latex object>"
      ]
     },
     "metadata": {},
     "output_type": "display_data"
    },
    {
     "data": {
      "text/markdown": [
       " Dry Air Properties"
      ],
      "text/plain": [
       "<IPython.core.display.Markdown object>"
      ]
     },
     "metadata": {},
     "output_type": "display_data"
    },
    {
     "data": {
      "text/latex": [
       "\\[\n",
       "  \\begin{aligned}\n",
       "    { c_{p} }&={ \\mathrm{\\underset{air}{cp}}\\left(\\mathrm{T}=T_{db} , \\mathrm{p}=p\\right) } = { 1.0061\\ \\frac{\\mathrm{kJ}}{\\left(\\mathrm{kg} \\cdot \\mathrm{Δ°C}\\right)}  }\n",
       "  \\end{aligned}\n",
       "\\]\n"
      ],
      "text/plain": [
       "<IPython.core.display.Latex object>"
      ]
     },
     "metadata": {},
     "output_type": "display_data"
    }
   ],
   "source": [
    "# Water Properties\n",
    "# Saturated vapor pressure at wet bulb temperature\n",
    "p_g_wb = water.p(T=T_wb,x=1)\n",
    "# Saturated vapor pressure at dry bulb temperature\n",
    "p_g_db = water.p(T=T_db,x=1)\n",
    "\n",
    "# Enthalpy of vaporization at wet bulb temperature\n",
    "h_fg_wb = water.h(T=T_wb,x=1) - water.h(T=T_wb,x=0)\n",
    "# Enthalpy of saturated vapor at dry bulb temperature\n",
    "h_g_db = water.h(T=T_db,x=1)\n",
    "# Enthalpy of saturated liquid at wet bulb temperature\n",
    "h_f_wb = water.h(T=T_wb,x=0)\n",
    "\n",
    "# Dry Air Properties\n",
    "c_p = air.cp(T=T_db,p=p)\n",
    "\n",
    "display.Calculations(locals(),comments=True);"
   ]
  },
  {
   "cell_type": "markdown",
   "metadata": {},
   "source": [
    "### Wet Bulb Specific Humidity (Saturated)"
   ]
  },
  {
   "cell_type": "code",
   "execution_count": 16,
   "metadata": {},
   "outputs": [
    {
     "data": {
      "text/latex": [
       "\\[\n",
       "  \\begin{aligned}{ \\omega_{wb} }&={ \\frac{0.622 p_{g,wb}}{p - p_{g,wb}} }\\\\\n",
       "    &={ \\frac{ 0.622  \\left( 1.7058\\ \\mathrm{kPa} \\right)}{\\left( 1\\ \\mathrm{atm} \\right) - \\left( 1.7058\\ \\mathrm{kPa} \\right)} }\\\\\n",
       "    &={  0.010651\\  }\n",
       "  \\end{aligned}\n",
       "\\]\n"
      ],
      "text/plain": [
       "<IPython.core.display.Latex object>"
      ]
     },
     "metadata": {},
     "output_type": "display_data"
    },
    {
     "data": {
      "text/latex": [
       "\\[\n",
       "  \\begin{aligned}\n",
       "    { \\omega_{wb} }&={ \\omega_{wb} } = { 0.010651\\  }\n",
       "  \\end{aligned}\n",
       "\\]\n"
      ],
      "text/plain": [
       "<IPython.core.display.Latex object>"
      ]
     },
     "metadata": {},
     "output_type": "display_data"
    }
   ],
   "source": [
    "omega_wb = (0.622*p_g_wb)/(p-p_g_wb)\n",
    "omega_wb = omega_wb.to('')\n",
    "\n",
    "display.Calculations(locals(),comments=True);"
   ]
  },
  {
   "cell_type": "markdown",
   "metadata": {},
   "source": [
    "### Dry Bulb Specific Humidity"
   ]
  },
  {
   "cell_type": "code",
   "execution_count": 19,
   "metadata": {},
   "outputs": [
    {
     "data": {
      "text/latex": [
       "\\[\n",
       "  \\begin{aligned}{ \\omega }&={ \\frac{\\omega_{wb} h_{fg,wb} + c_{p} \\left(T_{wb} - T_{db}\\right)}{h_{g,db} - h_{f,wb}} }\\\\\n",
       "    &={ \\frac{\\left( 0.010651\\ \\right) \\left( 2465.4\\ \\frac{\\mathrm{kJ}}{\\mathrm{kg}} \\right) + \\left( 1.0061\\ \\frac{\\mathrm{kJ}}{\\left(\\mathrm{kg} \\cdot \\mathrm{Δ°C}\\right)} \\right) \\left(\\left( 15\\ \\mathrm{°C} \\right) - \\left( 20\\ \\mathrm{°C} \\right)\\right)}{\\left( 2537.4\\ \\frac{\\mathrm{kJ}}{\\mathrm{kg}} \\right) - \\left( 62.981\\ \\frac{\\mathrm{kJ}}{\\mathrm{kg}} \\right)} }\\\\\n",
       "    &={  0.0085784\\  }\n",
       "  \\end{aligned}\n",
       "\\]\n"
      ],
      "text/plain": [
       "<IPython.core.display.Latex object>"
      ]
     },
     "metadata": {},
     "output_type": "display_data"
    }
   ],
   "source": [
    "omega = ( c_p*(T_wb-T_db) + omega_wb*h_fg_wb )/( h_g_db-h_f_wb )\n",
    "\n",
    "display.Calculations(locals(),comments=True);"
   ]
  },
  {
   "cell_type": "markdown",
   "metadata": {},
   "source": [
    "### Dry Bulb Specific Humidity"
   ]
  },
  {
   "cell_type": "code",
   "execution_count": 22,
   "metadata": {},
   "outputs": [
    {
     "data": {
      "text/latex": [
       "\\[\n",
       "  \\begin{aligned}{ \\phi }&={ \\frac{\\omega p}{p_{g,db} \\left(0.622 + \\omega\\right)} }\\\\\n",
       "    &={ \\frac{\\left( 0.0085784\\ \\right) \\left( 1\\ \\mathrm{atm} \\right)}{\\left( 2.3393\\ \\mathrm{kPa} \\right) \\left( 0.622  + \\left( 0.0085784\\ \\right)\\right)} }\\\\\n",
       "    &={  0.58924\\  }\n",
       "  \\end{aligned}\n",
       "\\]\n"
      ],
      "text/plain": [
       "<IPython.core.display.Latex object>"
      ]
     },
     "metadata": {},
     "output_type": "display_data"
    }
   ],
   "source": [
    "phi = omega*p/((0.622+omega)*p_g_db)\n",
    "phi = phi.to('') # hide\n",
    "\n",
    "display.Calculations(locals(),comments=True);"
   ]
  },
  {
   "cell_type": "markdown",
   "metadata": {},
   "source": [
    "### Dry Bulb Enthalpy"
   ]
  },
  {
   "cell_type": "code",
   "execution_count": 26,
   "metadata": {},
   "outputs": [
    {
     "data": {
      "text/latex": [
       "\\[\n",
       "  \\begin{aligned}\n",
       "    { T_{db,C} }&={  20\\ \\mathrm{Δ°C}  }\n",
       "  \\end{aligned}\n",
       "\\]\n"
      ],
      "text/plain": [
       "<IPython.core.display.Latex object>"
      ]
     },
     "metadata": {},
     "output_type": "display_data"
    },
    {
     "data": {
      "text/latex": [
       "\\[\n",
       "  \\begin{aligned}{ h }&={ c_{p} T_{db,C} + \\omega h_{g,db} }\\\\\n",
       "    &={ \\left( 1.0061\\ \\frac{\\mathrm{kJ}}{\\left(\\mathrm{kg} \\cdot \\mathrm{Δ°C}\\right)} \\right) \\left( 20\\ \\mathrm{Δ°C} \\right) + \\left( 0.0085784\\ \\right) \\left( 2537.4\\ \\frac{\\mathrm{kJ}}{\\mathrm{kg}} \\right) }\\\\\n",
       "    &={  41.89\\ \\frac{\\mathrm{kJ}}{\\mathrm{kg}}  }\n",
       "  \\end{aligned}\n",
       "\\]\n"
      ],
      "text/plain": [
       "<IPython.core.display.Latex object>"
      ]
     },
     "metadata": {},
     "output_type": "display_data"
    }
   ],
   "source": [
    "T_db_C = Quantity(T_db.magnitude,'delta_degC')\n",
    "h = c_p*T_db_C + omega*h_g_db\n",
    "\n",
    "display.Calculations(locals(),comments=True);"
   ]
  },
  {
   "cell_type": "code",
   "execution_count": null,
   "metadata": {},
   "outputs": [],
   "source": []
  }
 ],
 "metadata": {
  "kernelspec": {
   "display_name": "Python 3",
   "language": "python",
   "name": "python3"
  },
  "language_info": {
   "codemirror_mode": {
    "name": "ipython",
    "version": 3
   },
   "file_extension": ".py",
   "mimetype": "text/x-python",
   "name": "python",
   "nbconvert_exporter": "python",
   "pygments_lexer": "ipython3",
   "version": "3.8.5"
  }
 },
 "nbformat": 4,
 "nbformat_minor": 4
}
