{
 "cells": [
  {
   "cell_type": "markdown",
   "metadata": {},
   "source": [
    "# Example 10.5: Rankine with Reheat and OFH Regeneration\n",
    "\n",
    "*John F. Maddox, Ph.D., P.E.<br>\n",
    "University of Kentucky - Paducah Campus<br>\n",
    "ME 321: Engineering Thermodynamics II<br>*"
   ]
  },
  {
   "cell_type": "markdown",
   "metadata": {},
   "source": [
    "## Problem Statement\n",
    "A superheat steam power plant with reheat has a turbine inlet at $3\\ \\mathrm{MPa}$ and $550^\\circ\\mathrm{C}$.  After expansion to $400\\ \\mathrm{kPa}$, a fraction of the steam is extracted and used in a regeneration process with an Open Feedwater Heater (OFH) where the exit of the OFH is saturated liquid at $400\\ \\mathrm{kPa}$.  The remaining steam is reheated to $550^\\circ\\mathrm{C}$ and then expanded to $15\\ \\mathrm{kPa}$.  For isentropic efficiencies of $\\eta_t=0.8$ and $\\eta_p=0.6$ find:\n",
    "* (a) Specific net work (kJ/kg)\n",
    "* (c) Thermal efficiency of the cycle\n",
    "* (d) Sketch a $T$-$s$ diagram of the cycle"
   ]
  },
  {
   "cell_type": "markdown",
   "metadata": {},
   "source": [
    "## Solution\n"
   ]
  },
  {
   "cell_type": "markdown",
   "metadata": {},
   "source": [
    "### Python Initialization\n",
    "We'll start by importing the libraries we will use for our analysis and initializing dictionaries to hold the properties we will be usings."
   ]
  },
  {
   "cell_type": "code",
   "execution_count": 1,
   "metadata": {
    "collapsed": false,
    "jupyter": {
     "outputs_hidden": false
    }
   },
   "outputs": [
    {
     "name": "stderr",
     "output_type": "stream",
     "text": [
      "/opt/anaconda/lib/python3.8/site-packages/mpmath/ctx_mp_python.py:892: SyntaxWarning: \"is\" with a literal. Did you mean \"==\"?\n",
      "  if other is 0:\n",
      "/opt/anaconda/lib/python3.8/site-packages/mpmath/ctx_mp_python.py:986: SyntaxWarning: \"is\" with a literal. Did you mean \"==\"?\n",
      "  if other is 0:\n"
     ]
    }
   ],
   "source": [
    "from kilojoule.templates.default import *\n",
    "   \n",
    "water = realfluid.Properties('Water')"
   ]
  },
  {
   "cell_type": "markdown",
   "metadata": {},
   "source": [
    "### Given Parameters\n",
    "We now define variables to hold our known values."
   ]
  },
  {
   "cell_type": "code",
   "execution_count": 2,
   "metadata": {
    "collapsed": false,
    "jupyter": {
     "outputs_hidden": false
    }
   },
   "outputs": [
    {
     "data": {
      "text/latex": [
       "\\[\\begin{aligned}{  }\\end{aligned}\\]"
      ],
      "text/plain": [
       "<IPython.core.display.Latex object>"
      ]
     },
     "metadata": {},
     "output_type": "display_data"
    },
    {
     "data": {
      "text/html": [
       "<table border=\"1\" class=\"dataframe\">\n",
       "  <thead>\n",
       "    <tr>\n",
       "      <th></th>\n",
       "      <th>T</th>\n",
       "      <th>p</th>\n",
       "    </tr>\n",
       "    <tr>\n",
       "      <th>unit</th>\n",
       "      <th>°C</th>\n",
       "      <th>kPa</th>\n",
       "    </tr>\n",
       "  </thead>\n",
       "  <tbody>\n",
       "    <tr>\n",
       "      <th>5</th>\n",
       "      <td>550</td>\n",
       "      <td>3000</td>\n",
       "    </tr>\n",
       "    <tr>\n",
       "      <th>6</th>\n",
       "      <td>-</td>\n",
       "      <td>400</td>\n",
       "    </tr>\n",
       "    <tr>\n",
       "      <th>7</th>\n",
       "      <td>550</td>\n",
       "      <td>-</td>\n",
       "    </tr>\n",
       "    <tr>\n",
       "      <th>8</th>\n",
       "      <td>-</td>\n",
       "      <td>15</td>\n",
       "    </tr>\n",
       "  </tbody>\n",
       "</table>"
      ],
      "text/plain": [
       "<IPython.core.display.HTML object>"
      ]
     },
     "metadata": {},
     "output_type": "display_data"
    }
   ],
   "source": [
    "T[5] = Quantity(550.0,'degC') # Turbine inlet temperature\n",
    "p[5] = Quantity(3.0,'MPa')    # Turbine inlet pressure\n",
    "p[6] = Quantity(400.0,'kPa')  # Pressure after first expansion\n",
    "T[7] = Quantity(550.0,'degC') # Reheat temperature\n",
    "p[8] = Quantity(15.0,'kPa')   # Pressure after second expansion\n",
    "eta_t = 0.8                 # Turbine isentropic efficiency\n",
    "eta_p = 0.6                 # Pump isentropic efficiency\n",
    "\n",
    "display.Summary(locals());"
   ]
  },
  {
   "cell_type": "markdown",
   "metadata": {},
   "source": [
    "### Assumptions\n",
    "- Non-ideal work devices\n",
    "- Superheat in boiler: superheated vapor at boiler exit\n",
    "- Single phase into pump: saturated liquid at condenser exit\n",
    "- Isobaric heat exchagners\n",
    "- Negligible changes in kinetic energy\n",
    "- Negligible changes in potential energy"
   ]
  },
  {
   "cell_type": "code",
   "execution_count": 3,
   "metadata": {
    "collapsed": false,
    "jupyter": {
     "outputs_hidden": false
    }
   },
   "outputs": [
    {
     "data": {
      "text/latex": [
       "\\[\\begin{aligned}{  }\\end{aligned}\\]"
      ],
      "text/plain": [
       "<IPython.core.display.Latex object>"
      ]
     },
     "metadata": {},
     "output_type": "display_data"
    },
    {
     "data": {
      "text/html": [
       "<table border=\"1\" class=\"dataframe\">\n",
       "  <thead>\n",
       "    <tr>\n",
       "      <th></th>\n",
       "      <th>T</th>\n",
       "      <th>p</th>\n",
       "      <th>x</th>\n",
       "    </tr>\n",
       "    <tr>\n",
       "      <th>unit</th>\n",
       "      <th>°C</th>\n",
       "      <th>kPa</th>\n",
       "      <th></th>\n",
       "    </tr>\n",
       "  </thead>\n",
       "  <tbody>\n",
       "    <tr>\n",
       "      <th>1</th>\n",
       "      <td>-</td>\n",
       "      <td>15.0</td>\n",
       "      <td>0</td>\n",
       "    </tr>\n",
       "    <tr>\n",
       "      <th>2</th>\n",
       "      <td>-</td>\n",
       "      <td>400.0</td>\n",
       "      <td>-</td>\n",
       "    </tr>\n",
       "    <tr>\n",
       "      <th>3</th>\n",
       "      <td>-</td>\n",
       "      <td>400.0</td>\n",
       "      <td>0</td>\n",
       "    </tr>\n",
       "    <tr>\n",
       "      <th>4</th>\n",
       "      <td>-</td>\n",
       "      <td>3000.0</td>\n",
       "      <td>-</td>\n",
       "    </tr>\n",
       "    <tr>\n",
       "      <th>5</th>\n",
       "      <td>550</td>\n",
       "      <td>3000.0</td>\n",
       "      <td>-</td>\n",
       "    </tr>\n",
       "    <tr>\n",
       "      <th>6</th>\n",
       "      <td>-</td>\n",
       "      <td>400.0</td>\n",
       "      <td>-</td>\n",
       "    </tr>\n",
       "    <tr>\n",
       "      <th>7</th>\n",
       "      <td>550</td>\n",
       "      <td>400.0</td>\n",
       "      <td>-</td>\n",
       "    </tr>\n",
       "    <tr>\n",
       "      <th>8</th>\n",
       "      <td>-</td>\n",
       "      <td>15.0</td>\n",
       "      <td>-</td>\n",
       "    </tr>\n",
       "  </tbody>\n",
       "</table>"
      ],
      "text/plain": [
       "<IPython.core.display.HTML object>"
      ]
     },
     "metadata": {},
     "output_type": "display_data"
    }
   ],
   "source": [
    "x[1] = 0            # Single phase into pump\n",
    "x[3] = 0            # Single phase into pump\n",
    "p[1] = p[8]         # isobaric heat exchanger\n",
    "p[2] = p[3] = p[6]  # isobaric heat exchanger\n",
    "p[7] = p[6]         # isobaric heat exchanger\n",
    "p[4] = p[5]         # isobaric heat exchanger\n",
    "\n",
    "display.Summary(locals());"
   ]
  },
  {
   "cell_type": "markdown",
   "metadata": {},
   "source": [
    "#### (a) Specific net work"
   ]
  },
  {
   "cell_type": "code",
   "execution_count": 5,
   "metadata": {
    "collapsed": false,
    "jupyter": {
     "outputs_hidden": false
    }
   },
   "outputs": [
    {
     "data": {
      "text/latex": [
       "\\[\\begin{aligned}{ w_{1 to 2} }&={  -0.56454\\ \\frac{\\mathrm{kJ}}{\\mathrm{kg}}  }&{ w_{3 to 4} }&={  -4.6924\\ \\frac{\\mathrm{kJ}}{\\mathrm{kg}}  }&{ w_{5 to 6} }&={  485.66\\ \\frac{\\mathrm{kJ}}{\\mathrm{kg}}  }\\\\{ w_{7 to 8} }&={  611.42\\ \\frac{\\mathrm{kJ}}{\\mathrm{kg}}  }&{ w_{net} }&={  1091.8\\ \\frac{\\mathrm{kJ}}{\\mathrm{kg}}  }&{ y }&={  0.13231\\  }\\\\{  }\\end{aligned}\\]"
      ],
      "text/plain": [
       "<IPython.core.display.Latex object>"
      ]
     },
     "metadata": {},
     "output_type": "display_data"
    },
    {
     "data": {
      "text/html": [
       "<table border=\"1\" class=\"dataframe\">\n",
       "  <thead>\n",
       "    <tr>\n",
       "      <th></th>\n",
       "      <th>T</th>\n",
       "      <th>p</th>\n",
       "      <th>v</th>\n",
       "      <th>h</th>\n",
       "      <th>s</th>\n",
       "      <th>x</th>\n",
       "    </tr>\n",
       "    <tr>\n",
       "      <th>unit</th>\n",
       "      <th>°C</th>\n",
       "      <th>kPa</th>\n",
       "      <th>m³/kg</th>\n",
       "      <th>kJ/kg</th>\n",
       "      <th>kJ/K/kg</th>\n",
       "      <th></th>\n",
       "    </tr>\n",
       "  </thead>\n",
       "  <tbody>\n",
       "    <tr>\n",
       "      <th>1</th>\n",
       "      <td>53.969313</td>\n",
       "      <td>15.0</td>\n",
       "      <td>0.001014</td>\n",
       "      <td>225.944282</td>\n",
       "      <td>0.754865</td>\n",
       "      <td>0</td>\n",
       "    </tr>\n",
       "    <tr>\n",
       "      <th>2</th>\n",
       "      <td>54.046337</td>\n",
       "      <td>400.0</td>\n",
       "      <td>0.001014</td>\n",
       "      <td>226.594906</td>\n",
       "      <td>0.755660</td>\n",
       "      <td>-</td>\n",
       "    </tr>\n",
       "    <tr>\n",
       "      <th>2s</th>\n",
       "      <td>53.984105</td>\n",
       "      <td>400.0</td>\n",
       "      <td>0.001014</td>\n",
       "      <td>226.334657</td>\n",
       "      <td>0.754865</td>\n",
       "      <td>-</td>\n",
       "    </tr>\n",
       "    <tr>\n",
       "      <th>3</th>\n",
       "      <td>143.608359</td>\n",
       "      <td>400.0</td>\n",
       "      <td>0.001084</td>\n",
       "      <td>604.654555</td>\n",
       "      <td>1.776455</td>\n",
       "      <td>0</td>\n",
       "    </tr>\n",
       "    <tr>\n",
       "      <th>4</th>\n",
       "      <td>144.316269</td>\n",
       "      <td>3000.0</td>\n",
       "      <td>0.001083</td>\n",
       "      <td>609.346935</td>\n",
       "      <td>1.780954</td>\n",
       "      <td>-</td>\n",
       "    </tr>\n",
       "    <tr>\n",
       "      <th>4s</th>\n",
       "      <td>143.878166</td>\n",
       "      <td>3000.0</td>\n",
       "      <td>0.001082</td>\n",
       "      <td>607.469983</td>\n",
       "      <td>1.776455</td>\n",
       "      <td>-</td>\n",
       "    </tr>\n",
       "    <tr>\n",
       "      <th>5</th>\n",
       "      <td>550.000000</td>\n",
       "      <td>3000.0</td>\n",
       "      <td>0.124368</td>\n",
       "      <td>3569.702948</td>\n",
       "      <td>7.376848</td>\n",
       "      <td>-</td>\n",
       "    </tr>\n",
       "    <tr>\n",
       "      <th>6</th>\n",
       "      <td>308.262535</td>\n",
       "      <td>400.0</td>\n",
       "      <td>0.664687</td>\n",
       "      <td>3084.046040</td>\n",
       "      <td>7.597079</td>\n",
       "      <td>-</td>\n",
       "    </tr>\n",
       "    <tr>\n",
       "      <th>6s</th>\n",
       "      <td>249.104089</td>\n",
       "      <td>400.0</td>\n",
       "      <td>0.594118</td>\n",
       "      <td>2962.631813</td>\n",
       "      <td>7.376848</td>\n",
       "      <td>-</td>\n",
       "    </tr>\n",
       "    <tr>\n",
       "      <th>7</th>\n",
       "      <td>550.000000</td>\n",
       "      <td>400.0</td>\n",
       "      <td>0.947510</td>\n",
       "      <td>3593.587361</td>\n",
       "      <td>8.328669</td>\n",
       "      <td>-</td>\n",
       "    </tr>\n",
       "    <tr>\n",
       "      <th>8</th>\n",
       "      <td>204.912614</td>\n",
       "      <td>15.0</td>\n",
       "      <td>14.698171</td>\n",
       "      <td>2888.933076</td>\n",
       "      <td>8.737496</td>\n",
       "      <td>-</td>\n",
       "    </tr>\n",
       "    <tr>\n",
       "      <th>8s</th>\n",
       "      <td>113.547646</td>\n",
       "      <td>15.0</td>\n",
       "      <td>11.875855</td>\n",
       "      <td>2712.769504</td>\n",
       "      <td>8.328669</td>\n",
       "      <td>-</td>\n",
       "    </tr>\n",
       "  </tbody>\n",
       "</table>"
      ],
      "text/plain": [
       "<IPython.core.display.HTML object>"
      ]
     },
     "metadata": {},
     "output_type": "display_data"
    }
   ],
   "source": [
    "#### State 1)\n",
    "T[1] = water.T(p[1],x[1])\n",
    "v[1] = water.v(p[1],x[1])\n",
    "h[1] = water.h(p[1],x[1])\n",
    "s[1] = water.s(p[1],x[1])\n",
    "\n",
    "#### 1-2) Non-ideal compression\n",
    "# Isentropic compression\n",
    "p['2s'] = p[2]\n",
    "s['2s'] = s[1]\n",
    "T['2s'] = water.T(p['2s'],s['2s'])\n",
    "h['2s'] = water.h(p['2s'],s['2s'])\n",
    "v['2s'] = water.v(p['2s'],s['2s'])\n",
    "# Actual compression\n",
    "h[2] = h[1] + (h['2s']-h[1])/eta_p\n",
    "T[2] = water.T(p[2],h=h[2])\n",
    "v[2] = water.v(p[2],h=h[2])\n",
    "s[2] = water.s(p[2],h=h[2])\n",
    "\n",
    "#### State 3) \n",
    "T[3] = water.T(p[3],x[3])\n",
    "v[3] = water.v(p[3],x[3])\n",
    "h[3] = water.h(p[3],x[3])\n",
    "s[3] = water.s(p[3],x[3])\n",
    "\n",
    "#### 3-4) Non-ideal compression\n",
    "# Isentropic compression\n",
    "p['4s'] = p[4]\n",
    "s['4s'] = s[3]\n",
    "T['4s'] = water.T(p['4s'],s['4s'])\n",
    "h['4s'] = water.h(p['4s'],s['4s'])\n",
    "v['4s'] = water.v(p['4s'],s['4s'])\n",
    "# Actual compression\n",
    "h[4] = h[3] + (h['4s']-h[3])/eta_p\n",
    "T[4] = water.T(p[4],h=h[4])\n",
    "v[4] = water.v(p[4],h=h[4])\n",
    "s[4] = water.s(p[4],h=h[4])\n",
    "\n",
    "#### 4-5) Isobaric heat addition\n",
    "v[5] = water.v(T[5],p[5])\n",
    "h[5] = water.h(T[5],p[5])\n",
    "s[5] = water.s(T[5],p[5])\n",
    "\n",
    "#### 5-6) Non-ideal expansion\n",
    "# Isentropic Expansion\n",
    "p['6s'] = p[6]\n",
    "s['6s'] = s[5]\n",
    "T['6s']= water.T(p['6s'],s['6s'])\n",
    "v['6s']= water.v(p['6s'],s['6s'])\n",
    "h['6s'] = water.h(p['6s'],s['6s'])\n",
    "# Actual expansion\n",
    "h[6] = h[5] - eta_t*(h[5]-h['6s'])\n",
    "T[6] = water.T(p[6],h=h[6])\n",
    "v[6] = water.v(p[6],h=h[6])\n",
    "s[6] = water.s(p[6],h=h[6])\n",
    "\n",
    "#### 6-7) Isobaric heat addition\n",
    "v[7] = water.v(T[7],p[7])\n",
    "h[7] = water.h(T[7],p[7])\n",
    "s[7] = water.s(T[7],p[7])\n",
    "\n",
    "#### 7-8) Non-ideal expansion\n",
    "# Isentropic Expansion\n",
    "p['8s'] = p[8]\n",
    "s['8s'] = s[7]\n",
    "T['8s']= water.T(p['8s'],s['8s'])\n",
    "v['8s']= water.v(p['8s'],s['8s'])\n",
    "h['8s'] = water.h(p['8s'],s['8s'])\n",
    "# Actual expansion\n",
    "h[8] = h[7] - eta_t*(h[7]-h['8s'])\n",
    "T[8] = water.T(p[8],h=h[8])\n",
    "v[8] = water.v(p[8],h=h[8])\n",
    "s[8] = water.s(p[8],h=h[8])\n",
    "\n",
    "#### Mass bleed-off fraction\n",
    "y = (h[3]-h[2])/(h[6]-h[2])\n",
    "\n",
    "#### Work \n",
    "w_1_to_2 = (1-y)*(h[1]-h[2])\n",
    "w_3_to_4 = h[3]-h[4]\n",
    "w_5_to_6 = h[5]-h[6]\n",
    "w_7_to_8 = (1-y)*(h[7]-h[8])\n",
    "w_net = w_1_to_2 + w_3_to_4 + w_5_to_6 + w_7_to_8\n",
    "\n",
    "\n",
    "display.Summary(locals());"
   ]
  },
  {
   "cell_type": "markdown",
   "metadata": {},
   "source": [
    "#### (b) Thermal efficiency"
   ]
  },
  {
   "cell_type": "code",
   "execution_count": 6,
   "metadata": {
    "collapsed": false,
    "jupyter": {
     "outputs_hidden": false
    }
   },
   "outputs": [
    {
     "data": {
      "text/latex": [
       "\\[\n",
       "  \\begin{aligned}{ q_{in} }&={ \\left(1 - y\\right) \\left(h_{7} - h_{6}\\right) + h_{5} - h_{4} }\\\\\n",
       "    &={ \\left( 1  - \\left( 0.13231\\ \\right)\\right) \\left(\\left( 3593.6\\ \\frac{\\mathrm{kJ}}{\\mathrm{kg}} \\right) - \\left( 3084.0\\ \\frac{\\mathrm{kJ}}{\\mathrm{kg}} \\right)\\right) + \\left( 3569.7\\ \\frac{\\mathrm{kJ}}{\\mathrm{kg}} \\right) - \\left( 609.35\\ \\frac{\\mathrm{kJ}}{\\mathrm{kg}} \\right) }\\\\\n",
       "    &={  3402.5\\ \\frac{\\mathrm{kJ}}{\\mathrm{kg}}  }\n",
       "  \\end{aligned}\n",
       "\\]\n"
      ],
      "text/plain": [
       "<IPython.core.display.Latex object>"
      ]
     },
     "metadata": {},
     "output_type": "display_data"
    },
    {
     "data": {
      "text/latex": [
       "\\[\n",
       "  \\begin{aligned}{ \\eta_{th} }&={ \\frac{w_{net}}{q_{in}} }\\\\\n",
       "    &={ \\frac{\\left( 1091.8\\ \\frac{\\mathrm{kJ}}{\\mathrm{kg}} \\right)}{\\left( 3402.5\\ \\frac{\\mathrm{kJ}}{\\mathrm{kg}} \\right)} }\\\\\n",
       "    &={  0.32089\\  }\n",
       "  \\end{aligned}\n",
       "\\]\n"
      ],
      "text/plain": [
       "<IPython.core.display.Latex object>"
      ]
     },
     "metadata": {},
     "output_type": "display_data"
    }
   ],
   "source": [
    "#### Boiler First Law\n",
    "q_in = h[5]-h[4] + (1-y)*(h[7]-h[6])\n",
    "\n",
    "#### Thermal efficiency\n",
    "eta_th = w_net/q_in\n",
    "eta_th = eta_th.to('') # hide\n",
    "\n",
    "display.Calculations(locals());"
   ]
  },
  {
   "cell_type": "markdown",
   "metadata": {},
   "source": [
    "#### (d) Diagrams"
   ]
  },
  {
   "cell_type": "code",
   "execution_count": 7,
   "metadata": {
    "collapsed": false,
    "jupyter": {
     "outputs_hidden": false
    }
   },
   "outputs": [
    {
     "data": {
      "image/png": "[encoded data removed]",
      "text/plain": [
       "<Figure size 1200x800 with 1 Axes>"
      ]
     },
     "metadata": {
      "needs_background": "light"
     },
     "output_type": "display_data"
    }
   ],
   "source": [
    "pv = water.pv_diagram()\n",
    "pv.ax.set_yscale(\"log\")\n",
    "\n",
    "pv.plot_state(states[1],label_loc='south east')\n",
    "pv.plot_state(states[2],label_loc='north west')\n",
    "pv.plot_state(states[3],label_loc='south east')\n",
    "pv.plot_state(states[4],label_loc='north west')\n",
    "pv.plot_state(states[5],label_loc='north east')\n",
    "pv.plot_state(states[6],label_loc='north')\n",
    "pv.plot_state(states[7],label_loc='north east')\n",
    "pv.plot_state(states[8],label_loc='east')\n",
    "    \n",
    "pv.plot_process(states[1],states[2],path='nonideal')\n",
    "pv.plot_process(states[2],states[3],path='isobaric',arrow=False)\n",
    "pv.plot_process(states[3],states[4],path='nonideal')\n",
    "pv.plot_process(states[3],states['4s'],path='isentropic',linestyle='dashed')\n",
    "pv.plot_process(states[4],states[5],path='isobaric')\n",
    "pv.plot_process(states[5],states[6],path='nonideal')\n",
    "pv.plot_process(states[5],states['6s'],path='isentropic',linestyle='dashed')\n",
    "pv.plot_process(states[6],states[7],path='isobaric')\n",
    "pv.plot_process(states[7],states[8],path='nonideal')\n",
    "pv.plot_process(states[7],states['8s'],path='isentropic',linestyle='dashed')\n",
    "pv.plot_process(states[6],states[3],path='isobaric',label='$\\dot{m}y$')\n",
    "pv.plot_process(states[8],states[1],path='isobaric',label='$\\dot{m}(1-y)$');"
   ]
  },
  {
   "cell_type": "code",
   "execution_count": 8,
   "metadata": {
    "collapsed": false,
    "jupyter": {
     "outputs_hidden": false
    }
   },
   "outputs": [
    {
     "data": {
      "image/png": "[encoded data removed]",
      "text/plain": [
       "<Figure size 1200x800 with 1 Axes>"
      ]
     },
     "metadata": {
      "needs_background": "light"
     },
     "output_type": "display_data"
    }
   ],
   "source": [
    "Ts = water.Ts_diagram()\n",
    "\n",
    "Ts.plot_state(states[1],label_loc='south east')\n",
    "Ts.plot_state(states[2],label_loc='north west')\n",
    "Ts.plot_state(states[3],label_loc='south east')\n",
    "Ts.plot_state(states[4],label_loc='north west')\n",
    "Ts.plot_state(states[5],label_loc='north east')\n",
    "Ts.plot_state(states[6],label_loc='south east')\n",
    "Ts.plot_state(states[7],label_loc='north east')\n",
    "Ts.plot_state(states[8],label_loc='east')\n",
    "    \n",
    "Ts.plot_process(states[1],states[2],path='nonideal',arrow=False)\n",
    "Ts.plot_process(states[2],states[3],path='isobaric')\n",
    "Ts.plot_process(states[3],states[4],path='nonideal',arrow=False)\n",
    "Ts.plot_process(states[3],states['4s'],path='isentropic',linestyle='dashed',arrow=False)\n",
    "Ts.plot_process(states[4],states[5],path='isobaric',label='$\\dot{m}$',xcoor=4.5)\n",
    "Ts.plot_process(states[5],states[6],path='nonideal')\n",
    "Ts.plot_process(states[5],states['6s'],path='isentropic',linestyle='dashed',arrow=False)\n",
    "Ts.plot_process(states[6],states[7],path='isobaric')\n",
    "Ts.plot_process(states[7],states[8],path='nonideal')\n",
    "Ts.plot_process(states[7],states['8s'],path='isentropic',linestyle='dashed')\n",
    "Ts.plot_process(states[6],states[3],path='isobaric',label='$\\dot{m}y$')\n",
    "Ts.plot_process(states[8],states[1],path='isobaric',label='$\\dot{m}(1-y)$');"
   ]
  }
 ],
 "metadata": {
  "kernelspec": {
   "display_name": "Python 3",
   "language": "python",
   "name": "python3"
  },
  "language_info": {
   "codemirror_mode": {
    "name": "ipython",
    "version": 3
   },
   "file_extension": ".py",
   "mimetype": "text/x-python",
   "name": "python",
   "nbconvert_exporter": "python",
   "pygments_lexer": "ipython3",
   "version": "3.8.5"
  }
 },
 "nbformat": 4,
 "nbformat_minor": 4
}
