{
 "cells": [
  {
   "cell_type": "markdown",
   "metadata": {},
   "source": [
    "# Example 11.4: Modified Refrigeration\n",
    "\n",
    "*John F. Maddox, Ph.D., P.E.<br>\n",
    "University of Kentucky - Paducah Campus<br>\n",
    "ME 321: Engineering Thermodynamics II<br>*"
   ]
  },
  {
   "cell_type": "markdown",
   "metadata": {},
   "source": [
    "## Problem Statement\n",
    "R134a is used in a modified refrigeration cycle as shown to cool at two temperatures using a single compressor.  The low $T$ evaporator operates at $-18^\\circ\\mathrm{C}$ and has a capacity of $3\\ \\mathrm{tons}$.  The higher $T$ evaporator operates at $3.2\\ \\mathrm{bar}$ and has a capacity of $2\\ \\mathrm{tons}$.  The condenser operates at $10\\ \\mathrm{bar}$. Determine the:\n",
    "* (a) Mass flow rate through the system\n",
    "* (b) Compressor power input\n",
    "* (c) Heat rejection from the consdenser\n",
    "\n",
    "*Figure temporarily removed to avoid violating copyright. A replacement will be uploaded in a future release*"
   ]
  },
  {
   "cell_type": "markdown",
   "metadata": {},
   "source": [
    "## Solution\n"
   ]
  },
  {
   "cell_type": "markdown",
   "metadata": {},
   "source": [
    "### Python Initialization\n",
    "We'll start by importing the libraries we will use for our analysis and initializing dictionaries to hold the properties we will be usings."
   ]
  },
  {
   "cell_type": "code",
   "execution_count": 1,
   "metadata": {
    "collapsed": false,
    "jupyter": {
     "outputs_hidden": false
    }
   },
   "outputs": [
    {
     "name": "stderr",
     "output_type": "stream",
     "text": [
      "/opt/anaconda/lib/python3.8/site-packages/mpmath/ctx_mp_python.py:892: SyntaxWarning: \"is\" with a literal. Did you mean \"==\"?\n",
      "  if other is 0:\n",
      "/opt/anaconda/lib/python3.8/site-packages/mpmath/ctx_mp_python.py:986: SyntaxWarning: \"is\" with a literal. Did you mean \"==\"?\n",
      "  if other is 0:\n"
     ]
    }
   ],
   "source": [
    "from kilojoule.templates.default import *\n",
    "   \n",
    "r134a = realfluid.Properties('R134a')"
   ]
  },
  {
   "cell_type": "markdown",
   "metadata": {},
   "source": [
    "### Given Parameters\n",
    "We now define variables to hold our known values."
   ]
  },
  {
   "cell_type": "code",
   "execution_count": 2,
   "metadata": {
    "collapsed": false,
    "jupyter": {
     "outputs_hidden": false
    }
   },
   "outputs": [
    {
     "data": {
      "text/latex": [
       "\\[\\begin{aligned}{ \\dot{Q}_{in 1} }&={  10.551\\ \\mathrm{kW}  }&{ \\dot{Q}_{in 2} }&={  7.0337\\ \\mathrm{kW}  }&{  }\\end{aligned}\\]"
      ],
      "text/plain": [
       "<IPython.core.display.Latex object>"
      ]
     },
     "metadata": {},
     "output_type": "display_data"
    },
    {
     "data": {
      "text/html": [
       "<table border=\"1\" class=\"dataframe\">\n",
       "  <thead>\n",
       "    <tr>\n",
       "      <th></th>\n",
       "      <th>T</th>\n",
       "      <th>p</th>\n",
       "    </tr>\n",
       "    <tr>\n",
       "      <th>unit</th>\n",
       "      <th>°C</th>\n",
       "      <th>kPa</th>\n",
       "    </tr>\n",
       "  </thead>\n",
       "  <tbody>\n",
       "    <tr>\n",
       "      <th>2</th>\n",
       "      <td>-</td>\n",
       "      <td>1000</td>\n",
       "    </tr>\n",
       "    <tr>\n",
       "      <th>3</th>\n",
       "      <td>-</td>\n",
       "      <td>1000</td>\n",
       "    </tr>\n",
       "    <tr>\n",
       "      <th>4</th>\n",
       "      <td>-</td>\n",
       "      <td>320</td>\n",
       "    </tr>\n",
       "    <tr>\n",
       "      <th>5</th>\n",
       "      <td>-18</td>\n",
       "      <td>-</td>\n",
       "    </tr>\n",
       "    <tr>\n",
       "      <th>6</th>\n",
       "      <td>-18</td>\n",
       "      <td>-</td>\n",
       "    </tr>\n",
       "    <tr>\n",
       "      <th>7</th>\n",
       "      <td>-</td>\n",
       "      <td>320</td>\n",
       "    </tr>\n",
       "  </tbody>\n",
       "</table>"
      ],
      "text/plain": [
       "<IPython.core.display.HTML object>"
      ]
     },
     "metadata": {},
     "output_type": "display_data"
    }
   ],
   "source": [
    "T[5] = T[6] = Quantity(-18,'degC')   # Low T evaprator temperature\n",
    "p[4] = p[7] = Quantity(3.2, 'bar')   # High T evaporator pressure\n",
    "p[2] = p[3] = Quantity(10,'bar')     # Condenser pressure\n",
    "Qdot_in_1 = Quantity(3,'refrigeration_ton').to('kW') # Heat input to low T evaporator\n",
    "Qdot_in_2 = Quantity(2,'refrigeration_ton').to('kW') # Heat input to high T evaporator\n",
    "\n",
    "display.Summary(locals());"
   ]
  },
  {
   "cell_type": "markdown",
   "metadata": {},
   "source": [
    "### Assumptions\n",
    "- Ideal work devices\n",
    "- Saturated liquid at condenser exit\n",
    "- Saturated liquid at Evaporator exit\n",
    "- Isobaric heat exchangers\n",
    "- Negligible changes in kinetic energy\n",
    "- Negligible changes in potential energy"
   ]
  },
  {
   "cell_type": "code",
   "execution_count": 3,
   "metadata": {
    "collapsed": false,
    "jupyter": {
     "outputs_hidden": false
    }
   },
   "outputs": [
    {
     "data": {
      "text/latex": [
       "\\[\\begin{aligned}{ \\dot{Q}_{in 1} }&={  10.551\\ \\mathrm{kW}  }&{ \\dot{Q}_{in 2} }&={  7.0337\\ \\mathrm{kW}  }&{  }\\end{aligned}\\]"
      ],
      "text/plain": [
       "<IPython.core.display.Latex object>"
      ]
     },
     "metadata": {},
     "output_type": "display_data"
    },
    {
     "data": {
      "text/html": [
       "<table border=\"1\" class=\"dataframe\">\n",
       "  <thead>\n",
       "    <tr>\n",
       "      <th></th>\n",
       "      <th>T</th>\n",
       "      <th>p</th>\n",
       "      <th>x</th>\n",
       "    </tr>\n",
       "    <tr>\n",
       "      <th>unit</th>\n",
       "      <th>°C</th>\n",
       "      <th>kPa</th>\n",
       "      <th></th>\n",
       "    </tr>\n",
       "  </thead>\n",
       "  <tbody>\n",
       "    <tr>\n",
       "      <th>1</th>\n",
       "      <td>-</td>\n",
       "      <td>144.600367</td>\n",
       "      <td>-</td>\n",
       "    </tr>\n",
       "    <tr>\n",
       "      <th>2</th>\n",
       "      <td>-</td>\n",
       "      <td>1000.000000</td>\n",
       "      <td>-</td>\n",
       "    </tr>\n",
       "    <tr>\n",
       "      <th>3</th>\n",
       "      <td>-</td>\n",
       "      <td>1000.000000</td>\n",
       "      <td>0</td>\n",
       "    </tr>\n",
       "    <tr>\n",
       "      <th>4</th>\n",
       "      <td>-</td>\n",
       "      <td>320.000000</td>\n",
       "      <td>-</td>\n",
       "    </tr>\n",
       "    <tr>\n",
       "      <th>5</th>\n",
       "      <td>-18</td>\n",
       "      <td>144.600367</td>\n",
       "      <td>-</td>\n",
       "    </tr>\n",
       "    <tr>\n",
       "      <th>6</th>\n",
       "      <td>-18</td>\n",
       "      <td>144.600367</td>\n",
       "      <td>1</td>\n",
       "    </tr>\n",
       "    <tr>\n",
       "      <th>7</th>\n",
       "      <td>-</td>\n",
       "      <td>320.000000</td>\n",
       "      <td>1</td>\n",
       "    </tr>\n",
       "    <tr>\n",
       "      <th>8</th>\n",
       "      <td>-</td>\n",
       "      <td>144.600367</td>\n",
       "      <td>-</td>\n",
       "    </tr>\n",
       "  </tbody>\n",
       "</table>"
      ],
      "text/plain": [
       "<IPython.core.display.HTML object>"
      ]
     },
     "metadata": {},
     "output_type": "display_data"
    }
   ],
   "source": [
    "x[7] = x[6] = 1\n",
    "x[3] = 0\n",
    "p[6] = r134a.p(T[6],x[6])\n",
    "p[5] = p[8] = p[1] = p[6]\n",
    "\n",
    "display.Summary(locals());"
   ]
  },
  {
   "cell_type": "markdown",
   "metadata": {},
   "source": [
    "### (a) Mass Flow Rates"
   ]
  },
  {
   "cell_type": "code",
   "execution_count": 4,
   "metadata": {
    "collapsed": false,
    "jupyter": {
     "outputs_hidden": false
    }
   },
   "outputs": [
    {
     "data": {
      "text/markdown": [
       "### First Law Analysis"
      ],
      "text/plain": [
       "<IPython.core.display.Markdown object>"
      ]
     },
     "metadata": {},
     "output_type": "display_data"
    },
    {
     "data": {
      "text/markdown": [
       "#### Isenthalpic from 3 to 4 to 5"
      ],
      "text/plain": [
       "<IPython.core.display.Markdown object>"
      ]
     },
     "metadata": {},
     "output_type": "display_data"
    },
    {
     "data": {
      "text/latex": [
       "\\[\n",
       "  \\begin{aligned}\n",
       "    { h_{3} }&={ r134a.h(p[3],x[3]) } = { 255.5\\ \\frac{\\mathrm{kJ}}{\\mathrm{kg}}  }\n",
       "  \\end{aligned}\n",
       "\\]\n"
      ],
      "text/plain": [
       "<IPython.core.display.Latex object>"
      ]
     },
     "metadata": {},
     "output_type": "display_data"
    },
    {
     "data": {
      "text/latex": [
       "\\[\n",
       "  \\begin{aligned}\n",
       "    { h_{4} }&={ h_{3} } = { 255.5\\ \\frac{\\mathrm{kJ}}{\\mathrm{kg}}  }\n",
       "  \\end{aligned}\n",
       "\\]\n"
      ],
      "text/plain": [
       "<IPython.core.display.Latex object>"
      ]
     },
     "metadata": {},
     "output_type": "display_data"
    },
    {
     "data": {
      "text/markdown": [
       "#### Saturated vapor at 6 and 7"
      ],
      "text/plain": [
       "<IPython.core.display.Markdown object>"
      ]
     },
     "metadata": {},
     "output_type": "display_data"
    },
    {
     "data": {
      "text/latex": [
       "\\[\n",
       "  \\begin{aligned}\n",
       "    { h_{6} }&={ r134a.h(p[6],x[6]) } = { 387.79\\ \\frac{\\mathrm{kJ}}{\\mathrm{kg}}  }\n",
       "  \\end{aligned}\n",
       "\\]\n"
      ],
      "text/plain": [
       "<IPython.core.display.Latex object>"
      ]
     },
     "metadata": {},
     "output_type": "display_data"
    },
    {
     "data": {
      "text/latex": [
       "\\[\n",
       "  \\begin{aligned}\n",
       "    { h_{7} }&={ r134a.h(p[7],x[7]) } = { 400.04\\ \\frac{\\mathrm{kJ}}{\\mathrm{kg}}  }\n",
       "  \\end{aligned}\n",
       "\\]\n"
      ],
      "text/plain": [
       "<IPython.core.display.Latex object>"
      ]
     },
     "metadata": {},
     "output_type": "display_data"
    },
    {
     "data": {
      "text/markdown": [
       "#### Mass flow rates from 1st Law"
      ],
      "text/plain": [
       "<IPython.core.display.Markdown object>"
      ]
     },
     "metadata": {},
     "output_type": "display_data"
    },
    {
     "data": {
      "text/latex": [
       "\\[\n",
       "  \\begin{aligned}{ q_{in,2} }&={ h_{7} - h_{4} }\\\\\n",
       "    &={ \\left( 400.04\\ \\frac{\\mathrm{kJ}}{\\mathrm{kg}} \\right) - \\left( 255.5\\ \\frac{\\mathrm{kJ}}{\\mathrm{kg}} \\right) }\\\\\n",
       "    &={  144.55\\ \\frac{\\mathrm{kJ}}{\\mathrm{kg}}  }\n",
       "  \\end{aligned}\n",
       "\\]\n"
      ],
      "text/plain": [
       "<IPython.core.display.Latex object>"
      ]
     },
     "metadata": {},
     "output_type": "display_data"
    },
    {
     "data": {
      "text/latex": [
       "\\[\n",
       "  \\begin{aligned}\n",
       "    { \\dot{m}_{7} }&={ \\frac{\\dot{Q}_{in,2}}{q_{in,2}} } = { 0.048661\\ \\frac{\\mathrm{kg}}{\\mathrm{s}}  }\n",
       "  \\end{aligned}\n",
       "\\]\n"
      ],
      "text/plain": [
       "<IPython.core.display.Latex object>"
      ]
     },
     "metadata": {},
     "output_type": "display_data"
    },
    {
     "data": {
      "text/latex": [
       "\\[\n",
       "  \\begin{aligned}{ q_{in,1} }&={ h_{6} - h_{5} }\\\\\n",
       "    &={ \\left( 387.79\\ \\frac{\\mathrm{kJ}}{\\mathrm{kg}} \\right) - \\left( 255.5\\ \\frac{\\mathrm{kJ}}{\\mathrm{kg}} \\right) }\\\\\n",
       "    &={  132.29\\ \\frac{\\mathrm{kJ}}{\\mathrm{kg}}  }\n",
       "  \\end{aligned}\n",
       "\\]\n"
      ],
      "text/plain": [
       "<IPython.core.display.Latex object>"
      ]
     },
     "metadata": {},
     "output_type": "display_data"
    },
    {
     "data": {
      "text/latex": [
       "\\[\n",
       "  \\begin{aligned}\n",
       "    { \\dot{m}_{6} }&={ \\frac{\\dot{Q}_{in,1}}{q_{in,1}} } = { 0.079752\\ \\frac{\\mathrm{kg}}{\\mathrm{s}}  }\n",
       "  \\end{aligned}\n",
       "\\]\n"
      ],
      "text/plain": [
       "<IPython.core.display.Latex object>"
      ]
     },
     "metadata": {},
     "output_type": "display_data"
    },
    {
     "data": {
      "text/latex": [
       "\\[\n",
       "  \\begin{aligned}\n",
       "    { \\dot{m}_{1} }&={ \\dot{m}_{8} + \\dot{m}_{6} } = { 0.12841\\ \\frac{\\mathrm{kg}}{\\mathrm{s}}  }\n",
       "  \\end{aligned}\n",
       "\\]\n"
      ],
      "text/plain": [
       "<IPython.core.display.Latex object>"
      ]
     },
     "metadata": {},
     "output_type": "display_data"
    }
   ],
   "source": [
    "#### First Law Analysis\n",
    "##### Isenthalpic from 3 to 4 to 5\n",
    "h[3] = r134a.h(p[3],x[3])\n",
    "h[4] = h[5] = h[3]\n",
    "\n",
    "##### Saturated vapor at 6 and 7\n",
    "h[6] = r134a.h(p[6],x[6])\n",
    "h[7] = r134a.h(p[7],x[7])\n",
    "\n",
    "##### Mass flow rates from 1st Law\n",
    "q_in_2 = h[7]-h[4]\n",
    "mdot[7] = mdot[4] = mdot[8] = Qdot_in_2/q_in_2\n",
    "q_in_1 = h[6]-h[5]\n",
    "mdot[6] = mdot[5] = Qdot_in_1/q_in_1\n",
    "mdot[1] = mdot[2] = mdot[3] = mdot[8]+mdot[6]\n",
    "\n",
    "display.Calculations(locals(),comments=True);"
   ]
  },
  {
   "cell_type": "markdown",
   "metadata": {},
   "source": [
    "### (b) Compressor power input"
   ]
  },
  {
   "cell_type": "code",
   "execution_count": 5,
   "metadata": {
    "collapsed": false,
    "jupyter": {
     "outputs_hidden": false
    }
   },
   "outputs": [
    {
     "data": {
      "text/markdown": [
       "### 1st Law to fix state 1"
      ],
      "text/plain": [
       "<IPython.core.display.Markdown object>"
      ]
     },
     "metadata": {},
     "output_type": "display_data"
    },
    {
     "data": {
      "text/latex": [
       "\\[\n",
       "  \\begin{aligned}\n",
       "    { h_{8} }&={ h_{7} } = { 400.04\\ \\frac{\\mathrm{kJ}}{\\mathrm{kg}}  }\n",
       "  \\end{aligned}\n",
       "\\]\n"
      ],
      "text/plain": [
       "<IPython.core.display.Latex object>"
      ]
     },
     "metadata": {},
     "output_type": "display_data"
    },
    {
     "data": {
      "text/latex": [
       "\\[\n",
       "  \\begin{aligned}{ h_{1} }&={ \\frac{\\dot{m}_{8} h_{8} + \\dot{m}_{6} h_{6}}{\\dot{m}_{1}} }\\\\\n",
       "    &={ \\frac{\\left( 0.048661\\ \\frac{\\mathrm{kg}}{\\mathrm{s}} \\right) \\left( 400.04\\ \\frac{\\mathrm{kJ}}{\\mathrm{kg}} \\right) + \\left( 0.079752\\ \\frac{\\mathrm{kg}}{\\mathrm{s}} \\right) \\left( 387.79\\ \\frac{\\mathrm{kJ}}{\\mathrm{kg}} \\right)}{\\left( 0.12841\\ \\frac{\\mathrm{kg}}{\\mathrm{s}} \\right)} }\\\\\n",
       "    &={  392.43\\ \\frac{\\mathrm{kJ}}{\\mathrm{kg}}  }\n",
       "  \\end{aligned}\n",
       "\\]\n"
      ],
      "text/plain": [
       "<IPython.core.display.Latex object>"
      ]
     },
     "metadata": {},
     "output_type": "display_data"
    },
    {
     "data": {
      "text/latex": [
       "\\[\n",
       "  \\begin{aligned}\n",
       "    { s_{1} }&={ r134a.s(h[1],p[1]) } = { 1.7576\\ \\frac{\\mathrm{kJ}}{\\left(\\mathrm{K} \\cdot \\mathrm{kg}\\right)}  }\n",
       "  \\end{aligned}\n",
       "\\]\n"
      ],
      "text/plain": [
       "<IPython.core.display.Latex object>"
      ]
     },
     "metadata": {},
     "output_type": "display_data"
    },
    {
     "data": {
      "text/markdown": [
       "### 1-2) Ideal Compression"
      ],
      "text/plain": [
       "<IPython.core.display.Markdown object>"
      ]
     },
     "metadata": {},
     "output_type": "display_data"
    },
    {
     "data": {
      "text/latex": [
       "\\[\n",
       "  \\begin{aligned}\n",
       "    { s_{2} }&={ s_{1} } = { 1.7576\\ \\frac{\\mathrm{kJ}}{\\left(\\mathrm{K} \\cdot \\mathrm{kg}\\right)}  }\n",
       "  \\end{aligned}\n",
       "\\]\n"
      ],
      "text/plain": [
       "<IPython.core.display.Latex object>"
      ]
     },
     "metadata": {},
     "output_type": "display_data"
    },
    {
     "data": {
      "text/latex": [
       "\\[\n",
       "  \\begin{aligned}\n",
       "    { h_{2} }&={ r134a.h(p[2],s[2]) } = { 433.94\\ \\frac{\\mathrm{kJ}}{\\mathrm{kg}}  }\n",
       "  \\end{aligned}\n",
       "\\]\n"
      ],
      "text/plain": [
       "<IPython.core.display.Latex object>"
      ]
     },
     "metadata": {},
     "output_type": "display_data"
    },
    {
     "data": {
      "text/latex": [
       "\\[\n",
       "  \\begin{aligned}{ w_{in} }&={ h_{2} - h_{1} }\\\\\n",
       "    &={ \\left( 433.94\\ \\frac{\\mathrm{kJ}}{\\mathrm{kg}} \\right) - \\left( 392.43\\ \\frac{\\mathrm{kJ}}{\\mathrm{kg}} \\right) }\\\\\n",
       "    &={  41.507\\ \\frac{\\mathrm{kJ}}{\\mathrm{kg}}  }\n",
       "  \\end{aligned}\n",
       "\\]\n"
      ],
      "text/plain": [
       "<IPython.core.display.Latex object>"
      ]
     },
     "metadata": {},
     "output_type": "display_data"
    },
    {
     "data": {
      "text/latex": [
       "\\[\n",
       "  \\begin{aligned}{ \\dot{W}_{in} }&={ \\dot{m}_{1} w_{in} }\\\\\n",
       "    &={ \\left( 0.12841\\ \\frac{\\mathrm{kg}}{\\mathrm{s}} \\right) \\left( 41.507\\ \\frac{\\mathrm{kJ}}{\\mathrm{kg}} \\right) }\\\\\n",
       "    &={  5.33\\ \\frac{\\mathrm{kJ}}{\\mathrm{s}}  }\n",
       "  \\end{aligned}\n",
       "\\]\n"
      ],
      "text/plain": [
       "<IPython.core.display.Latex object>"
      ]
     },
     "metadata": {},
     "output_type": "display_data"
    }
   ],
   "source": [
    "#### 1st Law to fix state 1\n",
    "h[8] = h[7]\n",
    "h[1] = (mdot[8]*h[8] + mdot[6]*h[6])/mdot[1]\n",
    "s[1] = r134a.s(h[1],p[1])\n",
    "\n",
    "#### 1-2) Ideal Compression\n",
    "s[2] = s[1]\n",
    "h[2] = r134a.h(p[2],s[2])\n",
    "w_in = h[2]-h[1]\n",
    "Wdot_in = mdot[1]*w_in\n",
    "\n",
    "display.Calculations(locals(), comments=True);"
   ]
  },
  {
   "cell_type": "markdown",
   "metadata": {},
   "source": [
    "### (c) Heat rejection from the condenser"
   ]
  },
  {
   "cell_type": "code",
   "execution_count": 6,
   "metadata": {
    "collapsed": false,
    "jupyter": {
     "outputs_hidden": false
    }
   },
   "outputs": [
    {
     "data": {
      "text/latex": [
       "\\[\n",
       "  \\begin{aligned}{ q_{out} }&={ h_{2} - h_{3} }\\\\\n",
       "    &={ \\left( 433.94\\ \\frac{\\mathrm{kJ}}{\\mathrm{kg}} \\right) - \\left( 255.5\\ \\frac{\\mathrm{kJ}}{\\mathrm{kg}} \\right) }\\\\\n",
       "    &={  178.44\\ \\frac{\\mathrm{kJ}}{\\mathrm{kg}}  }\n",
       "  \\end{aligned}\n",
       "\\]\n"
      ],
      "text/plain": [
       "<IPython.core.display.Latex object>"
      ]
     },
     "metadata": {},
     "output_type": "display_data"
    },
    {
     "data": {
      "text/latex": [
       "\\[\n",
       "  \\begin{aligned}{ \\dot{Q}_{out} }&={ \\dot{m}_{2} q_{out} }\\\\\n",
       "    &={ \\left( 0.12841\\ \\frac{\\mathrm{kg}}{\\mathrm{s}} \\right) \\left( 178.44\\ \\frac{\\mathrm{kJ}}{\\mathrm{kg}} \\right) }\\\\\n",
       "    &={  22.914\\ \\frac{\\mathrm{kJ}}{\\mathrm{s}}  }\n",
       "  \\end{aligned}\n",
       "\\]\n"
      ],
      "text/plain": [
       "<IPython.core.display.Latex object>"
      ]
     },
     "metadata": {},
     "output_type": "display_data"
    }
   ],
   "source": [
    "q_out = h[2]-h[3]\n",
    "Qdot_out = mdot[2]*q_out\n",
    "\n",
    "display.Calculations(locals());"
   ]
  },
  {
   "cell_type": "markdown",
   "metadata": {},
   "source": [
    "### Summary"
   ]
  },
  {
   "cell_type": "code",
   "execution_count": 7,
   "metadata": {
    "collapsed": false,
    "jupyter": {
     "outputs_hidden": false
    }
   },
   "outputs": [
    {
     "data": {
      "text/latex": [
       "\\[\\begin{aligned}{ \\dot{Q}_{in 1} }&={  10.551\\ \\mathrm{kW}  }&{ \\dot{Q}_{in 2} }&={  7.0337\\ \\mathrm{kW}  }&{ \\dot{Q}_{out} }&={  22.914\\ \\frac{\\mathrm{kJ}}{\\mathrm{s}}  }\\\\{ \\dot{W}_{in} }&={  5.33\\ \\frac{\\mathrm{kJ}}{\\mathrm{s}}  }&{ q_{in 1} }&={  132.29\\ \\frac{\\mathrm{kJ}}{\\mathrm{kg}}  }&{ q_{in 2} }&={  144.55\\ \\frac{\\mathrm{kJ}}{\\mathrm{kg}}  }\\\\{ q_{out} }&={  178.44\\ \\frac{\\mathrm{kJ}}{\\mathrm{kg}}  }&{ w_{in} }&={  41.507\\ \\frac{\\mathrm{kJ}}{\\mathrm{kg}}  }&{  }\\end{aligned}\\]"
      ],
      "text/plain": [
       "<IPython.core.display.Latex object>"
      ]
     },
     "metadata": {},
     "output_type": "display_data"
    },
    {
     "data": {
      "text/html": [
       "<table border=\"1\" class=\"dataframe\">\n",
       "  <thead>\n",
       "    <tr>\n",
       "      <th></th>\n",
       "      <th>T</th>\n",
       "      <th>p</th>\n",
       "      <th>h</th>\n",
       "      <th>s</th>\n",
       "      <th>x</th>\n",
       "      <th>mdot</th>\n",
       "    </tr>\n",
       "    <tr>\n",
       "      <th>unit</th>\n",
       "      <th>°C</th>\n",
       "      <th>kPa</th>\n",
       "      <th>kJ/kg</th>\n",
       "      <th>kJ/K/kg</th>\n",
       "      <th></th>\n",
       "      <th>kg/s</th>\n",
       "    </tr>\n",
       "  </thead>\n",
       "  <tbody>\n",
       "    <tr>\n",
       "      <th>1</th>\n",
       "      <td>-</td>\n",
       "      <td>144.600367</td>\n",
       "      <td>392.431395</td>\n",
       "      <td>1.75757</td>\n",
       "      <td>-</td>\n",
       "      <td>0.128413</td>\n",
       "    </tr>\n",
       "    <tr>\n",
       "      <th>2</th>\n",
       "      <td>-</td>\n",
       "      <td>1000.000000</td>\n",
       "      <td>433.938256</td>\n",
       "      <td>1.75757</td>\n",
       "      <td>-</td>\n",
       "      <td>0.128413</td>\n",
       "    </tr>\n",
       "    <tr>\n",
       "      <th>3</th>\n",
       "      <td>-</td>\n",
       "      <td>1000.000000</td>\n",
       "      <td>255.495856</td>\n",
       "      <td>-</td>\n",
       "      <td>0</td>\n",
       "      <td>0.128413</td>\n",
       "    </tr>\n",
       "    <tr>\n",
       "      <th>4</th>\n",
       "      <td>-</td>\n",
       "      <td>320.000000</td>\n",
       "      <td>255.495856</td>\n",
       "      <td>-</td>\n",
       "      <td>-</td>\n",
       "      <td>0.048661</td>\n",
       "    </tr>\n",
       "    <tr>\n",
       "      <th>5</th>\n",
       "      <td>-18</td>\n",
       "      <td>144.600367</td>\n",
       "      <td>255.495856</td>\n",
       "      <td>-</td>\n",
       "      <td>-</td>\n",
       "      <td>0.079752</td>\n",
       "    </tr>\n",
       "    <tr>\n",
       "      <th>6</th>\n",
       "      <td>-18</td>\n",
       "      <td>144.600367</td>\n",
       "      <td>387.787860</td>\n",
       "      <td>-</td>\n",
       "      <td>1</td>\n",
       "      <td>0.079752</td>\n",
       "    </tr>\n",
       "    <tr>\n",
       "      <th>7</th>\n",
       "      <td>-</td>\n",
       "      <td>320.000000</td>\n",
       "      <td>400.041884</td>\n",
       "      <td>-</td>\n",
       "      <td>1</td>\n",
       "      <td>0.048661</td>\n",
       "    </tr>\n",
       "    <tr>\n",
       "      <th>8</th>\n",
       "      <td>-</td>\n",
       "      <td>144.600367</td>\n",
       "      <td>400.041884</td>\n",
       "      <td>-</td>\n",
       "      <td>-</td>\n",
       "      <td>0.048661</td>\n",
       "    </tr>\n",
       "  </tbody>\n",
       "</table>"
      ],
      "text/plain": [
       "<IPython.core.display.HTML object>"
      ]
     },
     "metadata": {},
     "output_type": "display_data"
    }
   ],
   "source": [
    "display.Summary(locals());"
   ]
  },
  {
   "cell_type": "markdown",
   "metadata": {},
   "source": [
    "### Diagrams"
   ]
  },
  {
   "cell_type": "code",
   "execution_count": 8,
   "metadata": {
    "collapsed": false,
    "jupyter": {
     "outputs_hidden": false
    }
   },
   "outputs": [],
   "source": [
    "# Remaining properties\n",
    "for i in range(1,9):\n",
    "    states.fix(i, r134a)"
   ]
  },
  {
   "cell_type": "code",
   "execution_count": 9,
   "metadata": {
    "collapsed": false,
    "jupyter": {
     "outputs_hidden": false
    }
   },
   "outputs": [
    {
     "data": {
      "image/png": "[encoded data removed]",
      "text/plain": [
       "<Figure size 1200x800 with 1 Axes>"
      ]
     },
     "metadata": {
      "needs_background": "light"
     },
     "output_type": "display_data"
    }
   ],
   "source": [
    "pv = r134a.pv_diagram()\n",
    "pv.ax.set_ylim(bottom=100, top=1200)\n",
    "pv.ax.set_xlim(right=.3)\n",
    "\n",
    "pv.plot_state(states[1],label_loc='south east')\n",
    "pv.plot_state(states[2],label_loc='north east')\n",
    "pv.plot_state(states[3],label_loc='north west')\n",
    "pv.plot_state(states[4],label_loc='south west')\n",
    "pv.plot_state(states[5],label_loc='south west')\n",
    "pv.plot_state(states[6],label_loc='south west')\n",
    "pv.plot_state(states[7],label_loc='south west')\n",
    "pv.plot_state(states[8],label_loc='east')\n",
    "\n",
    "pv.plot_process(states[1],states[2],path='isentropic')\n",
    "pv.plot_process(states[2],states[3],path='isobaric',label='condenser')\n",
    "pv.plot_process(states[3],states[4],path='isenthalpic',label='throttle')\n",
    "pv.plot_process(states[4],states[7],path='isobaric',label='evaporator')\n",
    "pv.plot_process(states[4],states[5],path='isenthalpic',label='throttle')\n",
    "pv.plot_process(states[5],states[6],path='isobaric',label='evaporator')\n",
    "pv.plot_process(states[6],states[1],path='isobaric')\n",
    "pv.plot_process(states[7],states[8],path='isenthalpic')\n",
    "pv.plot_process(states[8],states[1],path='isobaric');"
   ]
  },
  {
   "cell_type": "code",
   "execution_count": 10,
   "metadata": {
    "collapsed": false,
    "jupyter": {
     "outputs_hidden": false
    }
   },
   "outputs": [
    {
     "data": {
      "image/png": "[encoded data removed]",
      "text/plain": [
       "<Figure size 1200x800 with 1 Axes>"
      ]
     },
     "metadata": {
      "needs_background": "light"
     },
     "output_type": "display_data"
    }
   ],
   "source": [
    "Ts = r134a.Ts_diagram()\n",
    "Ts.ax.set_ylim(bottom=-30,top=60)\n",
    "Ts.ax.set_xlim(left=1.1)\n",
    "\n",
    "Ts.plot_state(states[1],label_loc='south east')\n",
    "Ts.plot_state(states[2],label_loc='north east')\n",
    "Ts.plot_state(states[3],label_loc='north west')\n",
    "Ts.plot_state(states[4],label_loc='south west')\n",
    "Ts.plot_state(states[5],label_loc='south west')\n",
    "Ts.plot_state(states[6],label_loc='south west')\n",
    "Ts.plot_state(states[7],label_loc='south west')\n",
    "Ts.plot_state(states[8],label_loc='east')\n",
    "\n",
    "Ts.plot_process(states[1],states[2],path='isentropic',label='compressor')\n",
    "Ts.plot_process(states[2],states[3],path='isobaric',label='condenser')\n",
    "Ts.plot_process(states[3],states[4],path='isenthalpic',label='throttle')\n",
    "Ts.plot_process(states[4],states[7],path='isobaric',label='evaporator')\n",
    "Ts.plot_process(states[4],states[5],path='isenthalpic',label='throttle')\n",
    "Ts.plot_process(states[5],states[6],path='isobaric',label='evaporator')\n",
    "Ts.plot_process(states[6],states[1],path='isobaric')\n",
    "Ts.plot_process(states[7],states[8],path='isenthalpic')\n",
    "Ts.plot_process(states[8],states[1],path='isobaric');"
   ]
  },
  {
   "cell_type": "code",
   "execution_count": null,
   "metadata": {
    "collapsed": false,
    "jupyter": {
     "outputs_hidden": false
    }
   },
   "outputs": [],
   "source": []
  }
 ],
 "metadata": {
  "kernelspec": {
   "display_name": "Python 3",
   "language": "python",
   "name": "python3"
  },
  "language_info": {
   "codemirror_mode": {
    "name": "ipython",
    "version": 3
   },
   "file_extension": ".py",
   "mimetype": "text/x-python",
   "name": "python",
   "nbconvert_exporter": "python",
   "pygments_lexer": "ipython3",
   "version": "3.8.5"
  }
 },
 "nbformat": 4,
 "nbformat_minor": 4
}
