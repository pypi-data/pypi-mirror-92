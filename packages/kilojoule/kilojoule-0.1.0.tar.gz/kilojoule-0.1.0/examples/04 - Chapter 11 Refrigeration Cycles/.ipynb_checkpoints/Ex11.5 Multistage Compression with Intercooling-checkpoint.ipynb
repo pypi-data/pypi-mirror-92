{
 "cells": [
  {
   "cell_type": "markdown",
   "metadata": {},
   "source": [
    "# Example 11.5: Multistage Compression with Intercooling\n",
    "\n",
    "*John F. Maddox, Ph.D., P.E.<br>\n",
    "University of Kentucky - Paducah Campus<br>\n",
    "ME 321: Engineering Thermodynamics II<br>*"
   ]
  },
  {
   "cell_type": "markdown",
   "metadata": {},
   "source": [
    "## Problem Statement\n",
    "R-134a flows through a vapor-compression refrigeration cycle.  Heat is removed at a rate of 18 kW from a freezer at $-8^\\circ\\mathrm{C}$.  Heat is rejected to a room at $22^\\circ\\mathrm{C}$.  The evaporator and the condenser are $10^\\circ\\mathrm{C}$ colder or hotter than the thermal reservoirs.  A flash chamber is used to separate the vapor from the liquid at a pressure of $4\\ \\mathrm{bar}$.  The vapor portion is used to intercool multistage compression. Find:\n",
    "* (a) $p_\\mathrm{evap}$ and $p_\\mathrm{cond}$ (kPa)\n",
    "* (b) $COP_R$\n",
    "* (c) Net Work\n",
    "\n",
    "*Figure temporarily removed to avoid violating copyright. A replacement will be uploaded in a future release*"
   ]
  },
  {
   "cell_type": "markdown",
   "metadata": {},
   "source": [
    "## Solution\n"
   ]
  },
  {
   "cell_type": "markdown",
   "metadata": {},
   "source": [
    "### Python Initialization\n",
    "We'll start by importing the libraries we will use for our analysis and initializing dictionaries to hold the properties we will be usings."
   ]
  },
  {
   "cell_type": "code",
   "execution_count": 1,
   "metadata": {
    "collapsed": false,
    "jupyter": {
     "outputs_hidden": false
    }
   },
   "outputs": [
    {
     "name": "stderr",
     "output_type": "stream",
     "text": [
      "/opt/anaconda/lib/python3.8/site-packages/mpmath/ctx_mp_python.py:892: SyntaxWarning: \"is\" with a literal. Did you mean \"==\"?\n",
      "  if other is 0:\n",
      "/opt/anaconda/lib/python3.8/site-packages/mpmath/ctx_mp_python.py:986: SyntaxWarning: \"is\" with a literal. Did you mean \"==\"?\n",
      "  if other is 0:\n"
     ]
    }
   ],
   "source": [
    "from kilojoule.templates.default import *\n",
    "   \n",
    "r134a = realfluid.Properties('R134a')"
   ]
  },
  {
   "cell_type": "markdown",
   "metadata": {},
   "source": [
    "### Given Parameters\n",
    "We now define variables to hold our known values."
   ]
  },
  {
   "cell_type": "code",
   "execution_count": 2,
   "metadata": {
    "collapsed": false,
    "jupyter": {
     "outputs_hidden": false
    }
   },
   "outputs": [
    {
     "data": {
      "text/latex": [
       "\\[\\begin{aligned}{ \\Delta T }&={  10\\ \\mathrm{Δ°C}  }&{ \\dot{Q}_{in} }&={  18\\ \\mathrm{kW}  }&{ T_{H} }&={  22\\ \\mathrm{°C}  }\\\\{ T_{L} }&={  -8\\ \\mathrm{°C}  }&{ p_{flash} }&={  4\\ \\mathrm{bar}  }&{  }\\end{aligned}\\]"
      ],
      "text/plain": [
       "<IPython.core.display.Latex object>"
      ]
     },
     "metadata": {},
     "output_type": "display_data"
    },
    {
     "data": {
      "text/html": [
       "<table border=\"1\" class=\"dataframe\">\n",
       "  <thead>\n",
       "  </thead>\n",
       "  <tbody>\n",
       "  </tbody>\n",
       "</table>"
      ],
      "text/plain": [
       "<IPython.core.display.HTML object>"
      ]
     },
     "metadata": {},
     "output_type": "display_data"
    }
   ],
   "source": [
    "Qdot_in = Quantity(18,'kW')   # Rate of heat input\n",
    "T_L = Quantity(-8,'degC')     # Temperature of refrigerated space\n",
    "T_H = Quantity(22,'degC')     # Temperature of surroundings\n",
    "Delta_T = Quantity(10,'delta_degC') # Temperature difference in evaporator and condenser\n",
    "p_flash = Quantity(4,'bar')   # Flash chamber pressure\n",
    "\n",
    "display.Summary(locals());"
   ]
  },
  {
   "cell_type": "markdown",
   "metadata": {},
   "source": [
    "### Assumptions\n",
    "- Ideal work devices\n",
    "- Saturated vapor at evaporator exit\n",
    "- Saturated liquid at condenser exit\n",
    "- Flash chamber exits are saturated vapor and liquid\n",
    "- Isobaric heat exchangers\n",
    "- Negligible changes in kinetic energy\n",
    "- Negligible changes in potential energy"
   ]
  },
  {
   "cell_type": "code",
   "execution_count": 3,
   "metadata": {
    "collapsed": false,
    "jupyter": {
     "outputs_hidden": false
    }
   },
   "outputs": [
    {
     "data": {
      "text/latex": [
       "\\[\\begin{aligned}{ \\Delta T }&={  10\\ \\mathrm{Δ°C}  }&{ \\dot{Q}_{in} }&={  18\\ \\mathrm{kW}  }&{ T_{H} }&={  22\\ \\mathrm{°C}  }\\\\{ T_{L} }&={  -8\\ \\mathrm{°C}  }&{ p_{flash} }&={  4\\ \\mathrm{bar}  }&{  }\\end{aligned}\\]"
      ],
      "text/plain": [
       "<IPython.core.display.Latex object>"
      ]
     },
     "metadata": {},
     "output_type": "display_data"
    },
    {
     "data": {
      "text/html": [
       "<table border=\"1\" class=\"dataframe\">\n",
       "  <thead>\n",
       "    <tr>\n",
       "      <th></th>\n",
       "      <th>p</th>\n",
       "      <th>x</th>\n",
       "    </tr>\n",
       "    <tr>\n",
       "      <th>unit</th>\n",
       "      <th>kPa</th>\n",
       "      <th></th>\n",
       "    </tr>\n",
       "  </thead>\n",
       "  <tbody>\n",
       "    <tr>\n",
       "      <th>1</th>\n",
       "      <td>-</td>\n",
       "      <td>1</td>\n",
       "    </tr>\n",
       "    <tr>\n",
       "      <th>2</th>\n",
       "      <td>400</td>\n",
       "      <td>-</td>\n",
       "    </tr>\n",
       "    <tr>\n",
       "      <th>3</th>\n",
       "      <td>400</td>\n",
       "      <td>1</td>\n",
       "    </tr>\n",
       "    <tr>\n",
       "      <th>5</th>\n",
       "      <td>-</td>\n",
       "      <td>0</td>\n",
       "    </tr>\n",
       "    <tr>\n",
       "      <th>6</th>\n",
       "      <td>400</td>\n",
       "      <td>-</td>\n",
       "    </tr>\n",
       "    <tr>\n",
       "      <th>7</th>\n",
       "      <td>400</td>\n",
       "      <td>0</td>\n",
       "    </tr>\n",
       "    <tr>\n",
       "      <th>9</th>\n",
       "      <td>400</td>\n",
       "      <td>-</td>\n",
       "    </tr>\n",
       "  </tbody>\n",
       "</table>"
      ],
      "text/plain": [
       "<IPython.core.display.HTML object>"
      ]
     },
     "metadata": {},
     "output_type": "display_data"
    }
   ],
   "source": [
    "x[1] = 1      # Saturated vapor at evaporator exit\n",
    "x[5] = 0      # Saturated liquid at condenser exit\n",
    "x[7] = 0      # Saturated liquid at flash chamber exit\n",
    "x[3] = 1      # Saturated vapor at flash chamber exit\n",
    "p[6] = p[7] = p[3] = p[2] = p[9] = p_flash # isobaric heat exchangers\n",
    "\n",
    "display.Summary(locals());"
   ]
  },
  {
   "cell_type": "markdown",
   "metadata": {},
   "source": [
    "### (a) Pressures in condenser and evaporator"
   ]
  },
  {
   "cell_type": "code",
   "execution_count": 4,
   "metadata": {
    "collapsed": false,
    "jupyter": {
     "outputs_hidden": false
    }
   },
   "outputs": [
    {
     "data": {
      "text/markdown": [
       "### Evaporator pressure"
      ],
      "text/plain": [
       "<IPython.core.display.Markdown object>"
      ]
     },
     "metadata": {},
     "output_type": "display_data"
    },
    {
     "data": {
      "text/markdown": [
       " The working fluid temperature must be lower than the refrigerated space"
      ],
      "text/plain": [
       "<IPython.core.display.Markdown object>"
      ]
     },
     "metadata": {},
     "output_type": "display_data"
    },
    {
     "data": {
      "text/latex": [
       "\\[\n",
       "  \\begin{aligned}{ T_{1} }&={ T_{L} - \\Delta{}T }\\\\\n",
       "    &={ \\left( -8\\ \\mathrm{°C} \\right) - \\left( 10\\ \\mathrm{Δ°C} \\right) }\\\\\n",
       "    &={  -18\\ \\mathrm{°C}  }\n",
       "  \\end{aligned}\n",
       "\\]\n"
      ],
      "text/plain": [
       "<IPython.core.display.Latex object>"
      ]
     },
     "metadata": {},
     "output_type": "display_data"
    },
    {
     "data": {
      "text/markdown": [
       " The fluid is saturated, so the saturation pressure must be consistent with the saturation temperature"
      ],
      "text/plain": [
       "<IPython.core.display.Markdown object>"
      ]
     },
     "metadata": {},
     "output_type": "display_data"
    },
    {
     "data": {
      "text/latex": [
       "\\[\n",
       "  \\begin{aligned}\n",
       "    { p_{1} }&={ r134a.p(T[1],x[1]) } = { 144.6\\ \\mathrm{kPa}  }\n",
       "  \\end{aligned}\n",
       "\\]\n"
      ],
      "text/plain": [
       "<IPython.core.display.Latex object>"
      ]
     },
     "metadata": {},
     "output_type": "display_data"
    },
    {
     "data": {
      "text/markdown": [
       "### Condenser pressure"
      ],
      "text/plain": [
       "<IPython.core.display.Markdown object>"
      ]
     },
     "metadata": {},
     "output_type": "display_data"
    },
    {
     "data": {
      "text/markdown": [
       " The working fluid temperature must be hotter than the surroundings"
      ],
      "text/plain": [
       "<IPython.core.display.Markdown object>"
      ]
     },
     "metadata": {},
     "output_type": "display_data"
    },
    {
     "data": {
      "text/latex": [
       "\\[\n",
       "  \\begin{aligned}{ T_{5} }&={ T_{H} + \\Delta{}T }\\\\\n",
       "    &={ \\left( 22\\ \\mathrm{°C} \\right) + \\left( 10\\ \\mathrm{Δ°C} \\right) }\\\\\n",
       "    &={  32\\ \\mathrm{°C}  }\n",
       "  \\end{aligned}\n",
       "\\]\n"
      ],
      "text/plain": [
       "<IPython.core.display.Latex object>"
      ]
     },
     "metadata": {},
     "output_type": "display_data"
    },
    {
     "data": {
      "text/markdown": [
       " The fluid is saturated, so the saturation pressure must be consistent with the saturation temperature"
      ],
      "text/plain": [
       "<IPython.core.display.Markdown object>"
      ]
     },
     "metadata": {},
     "output_type": "display_data"
    },
    {
     "data": {
      "text/latex": [
       "\\[\n",
       "  \\begin{aligned}\n",
       "    { p_{5} }&={ r134a.p(T[5],x[5]) } = { 815.43\\ \\mathrm{kPa}  }\n",
       "  \\end{aligned}\n",
       "\\]\n"
      ],
      "text/plain": [
       "<IPython.core.display.Latex object>"
      ]
     },
     "metadata": {},
     "output_type": "display_data"
    }
   ],
   "source": [
    "#### Evaporator pressure\n",
    "# The working fluid temperature must be lower than the refrigerated space\n",
    "T[1] = T_L - Delta_T\n",
    "# The fluid is saturated, so the saturation pressure must be consistent with the saturation temperature\n",
    "p[1] = r134a.p(T[1],x[1])\n",
    "\n",
    "#### Condenser pressure\n",
    "# The working fluid temperature must be hotter than the surroundings\n",
    "T[5] = T_H + Delta_T\n",
    "# The fluid is saturated, so the saturation pressure must be consistent with the saturation temperature\n",
    "p[5] = r134a.p(T[5],x[5])\n",
    "\n",
    "display.Calculations(locals(),comments=True);"
   ]
  },
  {
   "cell_type": "markdown",
   "metadata": {},
   "source": [
    "### (b) $COP_R$"
   ]
  },
  {
   "cell_type": "code",
   "execution_count": 5,
   "metadata": {
    "collapsed": false,
    "jupyter": {
     "outputs_hidden": false
    }
   },
   "outputs": [
    {
     "data": {
      "text/markdown": [
       "### 1st Law Analysis"
      ],
      "text/plain": [
       "<IPython.core.display.Markdown object>"
      ]
     },
     "metadata": {},
     "output_type": "display_data"
    },
    {
     "data": {
      "text/markdown": [
       "#### State 5"
      ],
      "text/plain": [
       "<IPython.core.display.Markdown object>"
      ]
     },
     "metadata": {},
     "output_type": "display_data"
    },
    {
     "data": {
      "text/latex": [
       "\\[\n",
       "  \\begin{aligned}\n",
       "    { h_{5} }&={ r134a.h(p[5],x[5]) } = { 244.62\\ \\frac{\\mathrm{kJ}}{\\mathrm{kg}}  }\n",
       "  \\end{aligned}\n",
       "\\]\n"
      ],
      "text/plain": [
       "<IPython.core.display.Latex object>"
      ]
     },
     "metadata": {},
     "output_type": "display_data"
    },
    {
     "data": {
      "text/markdown": [
       "#### State 6"
      ],
      "text/plain": [
       "<IPython.core.display.Markdown object>"
      ]
     },
     "metadata": {},
     "output_type": "display_data"
    },
    {
     "data": {
      "text/latex": [
       "\\[\n",
       "  \\begin{aligned}\n",
       "    { h_{6} }&={ h_{5} } = { 244.62\\ \\frac{\\mathrm{kJ}}{\\mathrm{kg}}  }\n",
       "  \\end{aligned}\n",
       "\\]\n"
      ],
      "text/plain": [
       "<IPython.core.display.Latex object>"
      ]
     },
     "metadata": {},
     "output_type": "display_data"
    },
    {
     "data": {
      "text/latex": [
       "\\[\n",
       "  \\begin{aligned}\n",
       "    { x_{6} }&={ r134a.x(p[6],h[6]) } = { 0.16968\\  }\n",
       "  \\end{aligned}\n",
       "\\]\n"
      ],
      "text/plain": [
       "<IPython.core.display.Latex object>"
      ]
     },
     "metadata": {},
     "output_type": "display_data"
    },
    {
     "data": {
      "text/markdown": [
       "#### State 7"
      ],
      "text/plain": [
       "<IPython.core.display.Markdown object>"
      ]
     },
     "metadata": {},
     "output_type": "display_data"
    },
    {
     "data": {
      "text/latex": [
       "\\[\n",
       "  \\begin{aligned}\n",
       "    { h_{7} }&={ r134a.h(p[7],x=0) } = { 212.11\\ \\frac{\\mathrm{kJ}}{\\mathrm{kg}}  }\n",
       "  \\end{aligned}\n",
       "\\]\n"
      ],
      "text/plain": [
       "<IPython.core.display.Latex object>"
      ]
     },
     "metadata": {},
     "output_type": "display_data"
    },
    {
     "data": {
      "text/markdown": [
       "### State 8"
      ],
      "text/plain": [
       "<IPython.core.display.Markdown object>"
      ]
     },
     "metadata": {},
     "output_type": "display_data"
    },
    {
     "data": {
      "text/latex": [
       "\\[\n",
       "  \\begin{aligned}\n",
       "    { h_{8} }&={ h_{7} } = { 212.11\\ \\frac{\\mathrm{kJ}}{\\mathrm{kg}}  }\n",
       "  \\end{aligned}\n",
       "\\]\n"
      ],
      "text/plain": [
       "<IPython.core.display.Latex object>"
      ]
     },
     "metadata": {},
     "output_type": "display_data"
    },
    {
     "data": {
      "text/latex": [
       "\\[\n",
       "  \\begin{aligned}\n",
       "    { p_{8} }&={ p_{1} } = { 144.6\\ \\mathrm{kPa}  }\n",
       "  \\end{aligned}\n",
       "\\]\n"
      ],
      "text/plain": [
       "<IPython.core.display.Latex object>"
      ]
     },
     "metadata": {},
     "output_type": "display_data"
    },
    {
     "data": {
      "text/markdown": [
       "#### State 1"
      ],
      "text/plain": [
       "<IPython.core.display.Markdown object>"
      ]
     },
     "metadata": {},
     "output_type": "display_data"
    },
    {
     "data": {
      "text/latex": [
       "\\[\n",
       "  \\begin{aligned}\n",
       "    { h_{1} }&={ r134a.h(T[1],x[1]) } = { 387.79\\ \\frac{\\mathrm{kJ}}{\\mathrm{kg}}  }\n",
       "  \\end{aligned}\n",
       "\\]\n"
      ],
      "text/plain": [
       "<IPython.core.display.Latex object>"
      ]
     },
     "metadata": {},
     "output_type": "display_data"
    },
    {
     "data": {
      "text/latex": [
       "\\[\n",
       "  \\begin{aligned}\n",
       "    { s_{1} }&={ r134a.s(T[1],x[1]) } = { 1.7396\\ \\frac{\\mathrm{kJ}}{\\left(\\mathrm{K} \\cdot \\mathrm{kg}\\right)}  }\n",
       "  \\end{aligned}\n",
       "\\]\n"
      ],
      "text/plain": [
       "<IPython.core.display.Latex object>"
      ]
     },
     "metadata": {},
     "output_type": "display_data"
    },
    {
     "data": {
      "text/markdown": [
       "#### 8-1) Isobaric heat addition"
      ],
      "text/plain": [
       "<IPython.core.display.Markdown object>"
      ]
     },
     "metadata": {},
     "output_type": "display_data"
    },
    {
     "data": {
      "text/latex": [
       "\\[\n",
       "  \\begin{aligned}{ q_{in} }&={ h_{1} - h_{8} }\\\\\n",
       "    &={ \\left( 387.79\\ \\frac{\\mathrm{kJ}}{\\mathrm{kg}} \\right) - \\left( 212.11\\ \\frac{\\mathrm{kJ}}{\\mathrm{kg}} \\right) }\\\\\n",
       "    &={  175.68\\ \\frac{\\mathrm{kJ}}{\\mathrm{kg}}  }\n",
       "  \\end{aligned}\n",
       "\\]\n"
      ],
      "text/plain": [
       "<IPython.core.display.Latex object>"
      ]
     },
     "metadata": {},
     "output_type": "display_data"
    },
    {
     "data": {
      "text/markdown": [
       "#### Mass flow rate"
      ],
      "text/plain": [
       "<IPython.core.display.Markdown object>"
      ]
     },
     "metadata": {},
     "output_type": "display_data"
    },
    {
     "data": {
      "text/latex": [
       "\\[\n",
       "  \\begin{aligned}\n",
       "    { \\dot{m}_{1} }&={ \\frac{\\dot{Q}_{in}}{q_{in}} } = { 0.10246\\ \\frac{\\mathrm{kg}}{\\mathrm{s}}  }\n",
       "  \\end{aligned}\n",
       "\\]\n"
      ],
      "text/plain": [
       "<IPython.core.display.Latex object>"
      ]
     },
     "metadata": {},
     "output_type": "display_data"
    },
    {
     "data": {
      "text/markdown": [
       "#### 1-2) Ideal compression"
      ],
      "text/plain": [
       "<IPython.core.display.Markdown object>"
      ]
     },
     "metadata": {},
     "output_type": "display_data"
    },
    {
     "data": {
      "text/latex": [
       "\\[\n",
       "  \\begin{aligned}\n",
       "    { p_{2} }&={ p_{3} } = { 400.0\\ \\mathrm{kPa}  }\n",
       "  \\end{aligned}\n",
       "\\]\n"
      ],
      "text/plain": [
       "<IPython.core.display.Latex object>"
      ]
     },
     "metadata": {},
     "output_type": "display_data"
    },
    {
     "data": {
      "text/latex": [
       "\\[\n",
       "  \\begin{aligned}\n",
       "    { s_{2} }&={ s_{1} } = { 1.7396\\ \\frac{\\mathrm{kJ}}{\\left(\\mathrm{K} \\cdot \\mathrm{kg}\\right)}  }\n",
       "  \\end{aligned}\n",
       "\\]\n"
      ],
      "text/plain": [
       "<IPython.core.display.Latex object>"
      ]
     },
     "metadata": {},
     "output_type": "display_data"
    },
    {
     "data": {
      "text/markdown": [
       "#### State 2"
      ],
      "text/plain": [
       "<IPython.core.display.Markdown object>"
      ]
     },
     "metadata": {},
     "output_type": "display_data"
    },
    {
     "data": {
      "text/latex": [
       "\\[\n",
       "  \\begin{aligned}\n",
       "    { T_{2} }&={ r134a.T(p[2],s[2]) } = { 14.105\\ \\mathrm{°C}  }\n",
       "  \\end{aligned}\n",
       "\\]\n"
      ],
      "text/plain": [
       "<IPython.core.display.Latex object>"
      ]
     },
     "metadata": {},
     "output_type": "display_data"
    },
    {
     "data": {
      "text/latex": [
       "\\[\n",
       "  \\begin{aligned}\n",
       "    { h_{2} }&={ r134a.h(p[2],s[2]) } = { 408.55\\ \\frac{\\mathrm{kJ}}{\\mathrm{kg}}  }\n",
       "  \\end{aligned}\n",
       "\\]\n"
      ],
      "text/plain": [
       "<IPython.core.display.Latex object>"
      ]
     },
     "metadata": {},
     "output_type": "display_data"
    },
    {
     "data": {
      "text/markdown": [
       "#### 2,3-9) "
      ],
      "text/plain": [
       "<IPython.core.display.Markdown object>"
      ]
     },
     "metadata": {},
     "output_type": "display_data"
    },
    {
     "data": {
      "text/markdown": [
       "#### State 3"
      ],
      "text/plain": [
       "<IPython.core.display.Markdown object>"
      ]
     },
     "metadata": {},
     "output_type": "display_data"
    },
    {
     "data": {
      "text/latex": [
       "\\[\n",
       "  \\begin{aligned}\n",
       "    { h_{3} }&={ r134a.h(p[3],x[3]) } = { 403.72\\ \\frac{\\mathrm{kJ}}{\\mathrm{kg}}  }\n",
       "  \\end{aligned}\n",
       "\\]\n"
      ],
      "text/plain": [
       "<IPython.core.display.Latex object>"
      ]
     },
     "metadata": {},
     "output_type": "display_data"
    },
    {
     "data": {
      "text/markdown": [
       "#### Mass flow rate"
      ],
      "text/plain": [
       "<IPython.core.display.Markdown object>"
      ]
     },
     "metadata": {},
     "output_type": "display_data"
    },
    {
     "data": {
      "text/latex": [
       "\\[\n",
       "  \\begin{aligned}{ \\dot{m}_{3} }&={ x_{6} \\dot{m}_{1} }\\\\\n",
       "    &={ \\left( 0.16968\\ \\right) \\left( 0.10246\\ \\frac{\\mathrm{kg}}{\\mathrm{s}} \\right) }\\\\\n",
       "    &={  0.017385\\ \\frac{\\mathrm{kg}}{\\mathrm{s}}  }\n",
       "  \\end{aligned}\n",
       "\\]\n"
      ],
      "text/plain": [
       "<IPython.core.display.Latex object>"
      ]
     },
     "metadata": {},
     "output_type": "display_data"
    },
    {
     "data": {
      "text/markdown": [
       "#### State 9"
      ],
      "text/plain": [
       "<IPython.core.display.Markdown object>"
      ]
     },
     "metadata": {},
     "output_type": "display_data"
    },
    {
     "data": {
      "text/latex": [
       "\\[\n",
       "  \\begin{aligned}\n",
       "    { \\dot{m}_{9} }&={ \\dot{m}_{1} + \\dot{m}_{3} } = { 0.11985\\ \\frac{\\mathrm{kg}}{\\mathrm{s}}  }\n",
       "  \\end{aligned}\n",
       "\\]\n"
      ],
      "text/plain": [
       "<IPython.core.display.Latex object>"
      ]
     },
     "metadata": {},
     "output_type": "display_data"
    },
    {
     "data": {
      "text/latex": [
       "\\[\n",
       "  \\begin{aligned}{ h_{9} }&={ \\frac{\\dot{m}_{2} h_{2} + \\dot{m}_{3} h_{3}}{\\dot{m}_{9}} }\\\\\n",
       "    &={ \\frac{\\left( 0.10246\\ \\frac{\\mathrm{kg}}{\\mathrm{s}} \\right) \\left( 408.55\\ \\frac{\\mathrm{kJ}}{\\mathrm{kg}} \\right) + \\left( 0.017385\\ \\frac{\\mathrm{kg}}{\\mathrm{s}} \\right) \\left( 403.72\\ \\frac{\\mathrm{kJ}}{\\mathrm{kg}} \\right)}{\\left( 0.11985\\ \\frac{\\mathrm{kg}}{\\mathrm{s}} \\right)} }\\\\\n",
       "    &={  407.85\\ \\frac{\\mathrm{kJ}}{\\mathrm{kg}}  }\n",
       "  \\end{aligned}\n",
       "\\]\n"
      ],
      "text/plain": [
       "<IPython.core.display.Latex object>"
      ]
     },
     "metadata": {},
     "output_type": "display_data"
    },
    {
     "data": {
      "text/markdown": [
       "#### 9-4) Ideal compression"
      ],
      "text/plain": [
       "<IPython.core.display.Markdown object>"
      ]
     },
     "metadata": {},
     "output_type": "display_data"
    },
    {
     "data": {
      "text/latex": [
       "\\[\n",
       "  \\begin{aligned}\n",
       "    { s_{9} }&={ r134a.s(p[9],h[9]) } = { 1.7371\\ \\frac{\\mathrm{kJ}}{\\left(\\mathrm{K} \\cdot \\mathrm{kg}\\right)}  }\n",
       "  \\end{aligned}\n",
       "\\]\n"
      ],
      "text/plain": [
       "<IPython.core.display.Latex object>"
      ]
     },
     "metadata": {},
     "output_type": "display_data"
    },
    {
     "data": {
      "text/latex": [
       "\\[\n",
       "  \\begin{aligned}\n",
       "    { p_{4} }&={ p_{5} } = { 815.43\\ \\mathrm{kPa}  }\n",
       "  \\end{aligned}\n",
       "\\]\n"
      ],
      "text/plain": [
       "<IPython.core.display.Latex object>"
      ]
     },
     "metadata": {},
     "output_type": "display_data"
    },
    {
     "data": {
      "text/latex": [
       "\\[\n",
       "  \\begin{aligned}\n",
       "    { s_{4} }&={ s_{9} } = { 1.7371\\ \\frac{\\mathrm{kJ}}{\\left(\\mathrm{K} \\cdot \\mathrm{kg}\\right)}  }\n",
       "  \\end{aligned}\n",
       "\\]\n"
      ],
      "text/plain": [
       "<IPython.core.display.Latex object>"
      ]
     },
     "metadata": {},
     "output_type": "display_data"
    },
    {
     "data": {
      "text/latex": [
       "\\[\n",
       "  \\begin{aligned}\n",
       "    { h_{4} }&={ r134a.h(p[4],s[4]) } = { 422.97\\ \\frac{\\mathrm{kJ}}{\\mathrm{kg}}  }\n",
       "  \\end{aligned}\n",
       "\\]\n"
      ],
      "text/plain": [
       "<IPython.core.display.Latex object>"
      ]
     },
     "metadata": {},
     "output_type": "display_data"
    },
    {
     "data": {
      "text/markdown": [
       "#### COP"
      ],
      "text/plain": [
       "<IPython.core.display.Markdown object>"
      ]
     },
     "metadata": {},
     "output_type": "display_data"
    },
    {
     "data": {
      "text/markdown": [
       " Desired: Heat Input"
      ],
      "text/plain": [
       "<IPython.core.display.Markdown object>"
      ]
     },
     "metadata": {},
     "output_type": "display_data"
    },
    {
     "data": {
      "text/markdown": [
       " Cost: Net Work"
      ],
      "text/plain": [
       "<IPython.core.display.Markdown object>"
      ]
     },
     "metadata": {},
     "output_type": "display_data"
    },
    {
     "data": {
      "text/latex": [
       "\\[\n",
       "  \\begin{aligned}{ \\dot{W}_{net} }&={ \\dot{m}_{1} \\left(h_{2} - h_{1}\\right) + \\dot{m}_{9} \\left(h_{4} - h_{9}\\right) }\\\\\n",
       "    &={ \\left( 0.10246\\ \\frac{\\mathrm{kg}}{\\mathrm{s}} \\right) \\left(\\left( 408.55\\ \\frac{\\mathrm{kJ}}{\\mathrm{kg}} \\right) - \\left( 387.79\\ \\frac{\\mathrm{kJ}}{\\mathrm{kg}} \\right)\\right) + \\left( 0.11985\\ \\frac{\\mathrm{kg}}{\\mathrm{s}} \\right) \\left(\\left( 422.97\\ \\frac{\\mathrm{kJ}}{\\mathrm{kg}} \\right) - \\left( 407.85\\ \\frac{\\mathrm{kJ}}{\\mathrm{kg}} \\right)\\right) }\\\\\n",
       "    &={  3.94\\ \\frac{\\mathrm{kJ}}{\\mathrm{s}}  }\n",
       "  \\end{aligned}\n",
       "\\]\n"
      ],
      "text/plain": [
       "<IPython.core.display.Latex object>"
      ]
     },
     "metadata": {},
     "output_type": "display_data"
    },
    {
     "data": {
      "text/markdown": [
       " COP: Desired/Cost"
      ],
      "text/plain": [
       "<IPython.core.display.Markdown object>"
      ]
     },
     "metadata": {},
     "output_type": "display_data"
    },
    {
     "data": {
      "text/latex": [
       "\\[\n",
       "  \\begin{aligned}{ COP_{R} }&={ \\frac{\\dot{Q}_{in}}{\\dot{W}_{net}} }\\\\\n",
       "    &={ \\frac{\\left( 18\\ \\mathrm{kW} \\right)}{\\left( 3.94\\ \\frac{\\mathrm{kJ}}{\\mathrm{s}} \\right)} }\\\\\n",
       "    &={  4.5685\\ \\frac{\\mathrm{kW} \\cdot \\mathrm{s}}{\\mathrm{kJ}}  }\n",
       "  \\end{aligned}\n",
       "\\]\n"
      ],
      "text/plain": [
       "<IPython.core.display.Latex object>"
      ]
     },
     "metadata": {},
     "output_type": "display_data"
    }
   ],
   "source": [
    "#### 1st Law Analysis\n",
    "##### State 5\n",
    "h[5] = r134a.h(p[5],x[5])\n",
    "\n",
    "##### State 6\n",
    "h[6] = h[5]\n",
    "x[6] = r134a.x(p[6],h[6])\n",
    "\n",
    "##### State 7\n",
    "h[7] = r134a.h(p[7],x=0)\n",
    "\n",
    "#### State 8\n",
    "h[8] = h[7]\n",
    "p[8] = p[1]\n",
    "\n",
    "##### State 1\n",
    "h[1] = r134a.h(T[1],x[1])\n",
    "s[1] = r134a.s(T[1],x[1])\n",
    "\n",
    "##### 8-1) Isobaric heat addition\n",
    "q_in = h[1]-h[8]\n",
    "##### Mass flow rate\n",
    "mdot[1] = mdot[2] = mdot[8] = mdot[7] = Qdot_in/q_in\n",
    "\n",
    "##### 1-2) Ideal compression\n",
    "p[2] = p[3]\n",
    "s[2] = s[1]\n",
    "\n",
    "##### State 2\n",
    "T[2] = r134a.T(p[2],s[2])\n",
    "h[2] = r134a.h(p[2],s[2])\n",
    "\n",
    "##### 2,3-9) \n",
    "##### State 3\n",
    "h[3] = r134a.h(p[3],x[3])\n",
    "##### Mass flow rate\n",
    "mdot[3] = x[6]*mdot[1]\n",
    "##### State 9\n",
    "mdot[9] = mdot[4] = mdot[5] = mdot[6] = mdot[1] + mdot[3]\n",
    "h[9] = (mdot[2]*h[2] + mdot[3]*h[3])/mdot[9]\n",
    "\n",
    "##### 9-4) Ideal compression\n",
    "s[9] = r134a.s(p[9],h[9])\n",
    "p[4] = p[5]\n",
    "s[4] = s[9]\n",
    "h[4] = r134a.h(p[4],s[4])\n",
    "\n",
    "##### COP\n",
    "# Desired: Heat Input\n",
    "# Cost: Net Work\n",
    "Wdot_net = mdot[1]*(h[2]-h[1]) + mdot[9]*(h[4]-h[9])\n",
    "# COP: Desired/Cost\n",
    "COP_R = Qdot_in/Wdot_net\n",
    "\n",
    "display.Calculations(locals(), comments=True);"
   ]
  },
  {
   "cell_type": "markdown",
   "metadata": {},
   "source": [
    "### (c) Net Work"
   ]
  },
  {
   "cell_type": "code",
   "execution_count": 6,
   "metadata": {
    "collapsed": false,
    "jupyter": {
     "outputs_hidden": false
    }
   },
   "outputs": [
    {
     "data": {
      "text/latex": [
       "\\[\n",
       "  \\begin{aligned}\n",
       "    { \\dot{W}_{net} }&={ \\dot{W}_{net} } = { 3.94\\ \\frac{\\mathrm{kJ}}{\\mathrm{s}}  }\n",
       "  \\end{aligned}\n",
       "\\]\n"
      ],
      "text/plain": [
       "<IPython.core.display.Latex object>"
      ]
     },
     "metadata": {},
     "output_type": "display_data"
    }
   ],
   "source": [
    "# Solved in Part (b)\n",
    "Wdot_net = Wdot_net\n",
    "\n",
    "display.Calculations(locals());"
   ]
  },
  {
   "cell_type": "markdown",
   "metadata": {},
   "source": [
    "### Diagrams"
   ]
  },
  {
   "cell_type": "code",
   "execution_count": 7,
   "metadata": {
    "collapsed": false,
    "jupyter": {
     "outputs_hidden": false
    }
   },
   "outputs": [],
   "source": [
    "# Remaining properties\n",
    "for i in range(1,10):\n",
    "    states.fix(i, r134a)"
   ]
  },
  {
   "cell_type": "code",
   "execution_count": 8,
   "metadata": {
    "collapsed": false,
    "jupyter": {
     "outputs_hidden": false
    }
   },
   "outputs": [
    {
     "name": "stdout",
     "output_type": "stream",
     "text": [
      "CPU times: user 1.04 s, sys: 3.46 ms, total: 1.04 s\n",
      "Wall time: 1.06 s\n"
     ]
    },
    {
     "data": {
      "text/plain": [
       "<matplotlib.lines.Line2D at 0x7f707b921580>"
      ]
     },
     "execution_count": 8,
     "metadata": {},
     "output_type": "execute_result"
    },
    {
     "data": {
      "image/png": "[encoded data removed]",
      "text/plain": [
       "<Figure size 1200x800 with 1 Axes>"
      ]
     },
     "metadata": {
      "needs_background": "light"
     },
     "output_type": "display_data"
    }
   ],
   "source": [
    "%%time\n",
    "pv = r134a.pv_diagram()\n",
    "pv.ax.set_ylim(bottom=100, top=1000)\n",
    "pv.ax.set_xlim(right=.5)\n",
    "\n",
    "pv.plot_state(states[1],label_loc='south')\n",
    "pv.plot_state(states[2],label_loc='north east')\n",
    "pv.plot_state(states[3],label_loc='south west')\n",
    "pv.plot_state(states[4],label_loc='north east')\n",
    "pv.plot_state(states[5],label_loc='south west')\n",
    "pv.plot_state(states[6],label_loc='south east')\n",
    "pv.plot_state(states[7],label_loc='west')\n",
    "pv.plot_state(states[8],label_loc='south west')\n",
    "pv.plot_state(states[9],label_loc='south east')\n",
    "\n",
    "pv.plot_process(states[1],states[2],path='isentropic',label='compressor')\n",
    "pv.plot_process(states[2],states[9],path='isobaric')\n",
    "pv.plot_process(states[3],states[9],path='isobaric')\n",
    "pv.plot_process(states[9],states[4],path='isentropic',label='compressor');\n",
    "pv.plot_process(states[4],states[5],path='isobaric',label='condenser')\n",
    "pv.plot_process(states[5],states[6],path='isenthalpic',label='throttle')\n",
    "pv.plot_process(states[6],states[7],path='isobaric',label='flash')\n",
    "pv.plot_process(states[6],states[3],path='isobaric',label='flash');\n",
    "pv.plot_process(states[7],states[8],path='isenthalpic',label='throttle')\n",
    "pv.plot_process(states[8],states[1],path='isobaric',label='evaporator');\n",
    "\n",
    "# Plot Reference Isotherms for refrigerated space and surroundings\n",
    "# Refrigerated space\n",
    "pv.plot_isotherm(T_L,color='blue',label=False)\n",
    "# Surrounding temperature\n",
    "pv.plot_isotherm(T_H,color='red',label=False);\n",
    "#1.32"
   ]
  },
  {
   "cell_type": "code",
   "execution_count": 9,
   "metadata": {
    "collapsed": false,
    "jupyter": {
     "outputs_hidden": false
    }
   },
   "outputs": [
    {
     "name": "stdout",
     "output_type": "stream",
     "text": [
      "CPU times: user 1.18 s, sys: 6.75 ms, total: 1.19 s\n",
      "Wall time: 1.19 s\n"
     ]
    },
    {
     "data": {
      "text/plain": [
       "<matplotlib.lines.Line2D at 0x7f7076d816a0>"
      ]
     },
     "execution_count": 9,
     "metadata": {},
     "output_type": "execute_result"
    },
    {
     "data": {
      "image/png": "[encoded data removed]",
      "text/plain": [
       "<Figure size 1200x800 with 1 Axes>"
      ]
     },
     "metadata": {
      "needs_background": "light"
     },
     "output_type": "display_data"
    }
   ],
   "source": [
    "%%time\n",
    "Ts = r134a.Ts_diagram()\n",
    "Ts.ax.set_ylim(bottom=-30, top=40)\n",
    "Ts.ax.set_xlim(left=.8, right=1.8)\n",
    "\n",
    "Ts.plot_state(states[1],label_loc='south east')\n",
    "Ts.plot_state(states[2],label_loc='north east')\n",
    "Ts.plot_state(states[3],label_loc='south west')\n",
    "Ts.plot_state(states[4],label_loc='north east')\n",
    "Ts.plot_state(states[5],label_loc='north west')\n",
    "Ts.plot_state(states[6],label_loc='south east')\n",
    "Ts.plot_state(states[7],label_loc='west')\n",
    "Ts.plot_state(states[8],label_loc='south west')\n",
    "Ts.plot_state(states[9],label_loc='south east')\n",
    "\n",
    "Ts.plot_process(states[1],states[2],path='isentropic',label='compressor',labelprops=dict(va='top'))\n",
    "Ts.plot_process(states[2],states[9],path='isobaric',arrow=False)\n",
    "Ts.plot_process(states[3],states[9],path='isobaric')\n",
    "Ts.plot_process(states[9],states[4],path='isentropic',label='compressor',labelprops=dict(va='top'))\n",
    "Ts.plot_process(states[4],states[5],path='isobaric',label='condenser')\n",
    "Ts.plot_process(states[5],states[6],path='isenthalpic',label='throttle')\n",
    "Ts.plot_process(states[6],states[7],path='isobaric',label='flash')\n",
    "Ts.plot_process(states[6],states[3],path='isobaric',label='flash');\n",
    "Ts.plot_process(states[7],states[8],path='isenthalpic',label='throttle')\n",
    "Ts.plot_process(states[8],states[1],path='isobaric',label='evaporator');\n",
    "\n",
    "# Plot Reference Isotherms for refrigerated space and surroundings\n",
    "Ts.plot_isotherm(T_L,color='blue', label='$T_L$',pos=.1)\n",
    "Ts.plot_isotherm(T_H,color='red', label='$T_H$',pos=.1);\n",
    "#1.75"
   ]
  },
  {
   "cell_type": "code",
   "execution_count": 10,
   "metadata": {
    "collapsed": false,
    "jupyter": {
     "outputs_hidden": false
    }
   },
   "outputs": [
    {
     "data": {
      "text/html": [
       "<table border=\"1\" class=\"dataframe\">\n",
       "  <thead>\n",
       "    <tr>\n",
       "      <th></th>\n",
       "      <th>T</th>\n",
       "      <th>p</th>\n",
       "      <th>v</th>\n",
       "      <th>u</th>\n",
       "      <th>h</th>\n",
       "      <th>s</th>\n",
       "      <th>x</th>\n",
       "      <th>phase</th>\n",
       "      <th>mdot</th>\n",
       "    </tr>\n",
       "    <tr>\n",
       "      <th>unit</th>\n",
       "      <th>°C</th>\n",
       "      <th>kPa</th>\n",
       "      <th>m³/kg</th>\n",
       "      <th>kJ/kg</th>\n",
       "      <th>kJ/kg</th>\n",
       "      <th>kJ/K/kg</th>\n",
       "      <th></th>\n",
       "      <th></th>\n",
       "      <th>kg/s</th>\n",
       "    </tr>\n",
       "  </thead>\n",
       "  <tbody>\n",
       "    <tr>\n",
       "      <th>1</th>\n",
       "      <td>-18.000000</td>\n",
       "      <td>144.600367</td>\n",
       "      <td>0.135923</td>\n",
       "      <td>368.133408</td>\n",
       "      <td>387.787860</td>\n",
       "      <td>1.739570</td>\n",
       "      <td>1</td>\n",
       "      <td>unknown: This pair of inputs [HmassT_INPUTS] is not yet supported : PropsSI(\"Phase\",\"T\",255.15,\"H\",387787.8597,\"R134a\")</td>\n",
       "      <td>0.102461</td>\n",
       "    </tr>\n",
       "    <tr>\n",
       "      <th>2</th>\n",
       "      <td>14.104690</td>\n",
       "      <td>400.000000</td>\n",
       "      <td>0.052636</td>\n",
       "      <td>387.497380</td>\n",
       "      <td>408.551899</td>\n",
       "      <td>1.739570</td>\n",
       "      <td>-</td>\n",
       "      <td>unknown: This pair of inputs [HmassT_INPUTS] is not yet supported : PropsSI(\"Phase\",\"T\",287.25469,\"H\",408551.8993,\"R134a\")</td>\n",
       "      <td>0.102461</td>\n",
       "    </tr>\n",
       "    <tr>\n",
       "      <th>3</th>\n",
       "      <td>8.930604</td>\n",
       "      <td>400.000000</td>\n",
       "      <td>0.051207</td>\n",
       "      <td>383.236695</td>\n",
       "      <td>403.719411</td>\n",
       "      <td>1.722593</td>\n",
       "      <td>1</td>\n",
       "      <td>twophase</td>\n",
       "      <td>0.017385</td>\n",
       "    </tr>\n",
       "    <tr>\n",
       "      <th>4</th>\n",
       "      <td>38.775815</td>\n",
       "      <td>815.426515</td>\n",
       "      <td>0.026224</td>\n",
       "      <td>401.590591</td>\n",
       "      <td>422.974478</td>\n",
       "      <td>1.737126</td>\n",
       "      <td>-</td>\n",
       "      <td>gas</td>\n",
       "      <td>0.119846</td>\n",
       "    </tr>\n",
       "    <tr>\n",
       "      <th>5</th>\n",
       "      <td>32.000000</td>\n",
       "      <td>815.426515</td>\n",
       "      <td>0.000848</td>\n",
       "      <td>243.931328</td>\n",
       "      <td>244.622621</td>\n",
       "      <td>1.152910</td>\n",
       "      <td>0</td>\n",
       "      <td>unknown: This pair of inputs [HmassT_INPUTS] is not yet supported : PropsSI(\"Phase\",\"T\",305.15,\"H\",244622.6206,\"R134a\")</td>\n",
       "      <td>0.119846</td>\n",
       "    </tr>\n",
       "    <tr>\n",
       "      <th>6</th>\n",
       "      <td>8.930604</td>\n",
       "      <td>400.000000</td>\n",
       "      <td>0.009345</td>\n",
       "      <td>240.884551</td>\n",
       "      <td>244.622621</td>\n",
       "      <td>1.158582</td>\n",
       "      <td>0.169677</td>\n",
       "      <td>twophase</td>\n",
       "      <td>0.119846</td>\n",
       "    </tr>\n",
       "    <tr>\n",
       "      <th>7</th>\n",
       "      <td>8.930604</td>\n",
       "      <td>400.000000</td>\n",
       "      <td>0.000791</td>\n",
       "      <td>211.794817</td>\n",
       "      <td>212.111109</td>\n",
       "      <td>1.043325</td>\n",
       "      <td>0</td>\n",
       "      <td>twophase</td>\n",
       "      <td>0.102461</td>\n",
       "    </tr>\n",
       "    <tr>\n",
       "      <th>8</th>\n",
       "      <td>-18.000000</td>\n",
       "      <td>144.600367</td>\n",
       "      <td>0.023667</td>\n",
       "      <td>208.688810</td>\n",
       "      <td>212.111109</td>\n",
       "      <td>1.051047</td>\n",
       "      <td>0.169605</td>\n",
       "      <td>twophase</td>\n",
       "      <td>0.102461</td>\n",
       "    </tr>\n",
       "    <tr>\n",
       "      <th>9</th>\n",
       "      <td>13.350616</td>\n",
       "      <td>400.000000</td>\n",
       "      <td>0.052431</td>\n",
       "      <td>386.878535</td>\n",
       "      <td>407.850884</td>\n",
       "      <td>1.737126</td>\n",
       "      <td>-</td>\n",
       "      <td>gas</td>\n",
       "      <td>0.119846</td>\n",
       "    </tr>\n",
       "  </tbody>\n",
       "</table>"
      ],
      "text/plain": [
       "<IPython.core.display.HTML object>"
      ]
     },
     "metadata": {},
     "output_type": "display_data"
    }
   ],
   "source": [
    "states.display()"
   ]
  },
  {
   "cell_type": "code",
   "execution_count": null,
   "metadata": {},
   "outputs": [],
   "source": []
  }
 ],
 "metadata": {
  "kernelspec": {
   "display_name": "Python 3",
   "language": "python",
   "name": "python3"
  },
  "language_info": {
   "codemirror_mode": {
    "name": "ipython",
    "version": 3
   },
   "file_extension": ".py",
   "mimetype": "text/x-python",
   "name": "python",
   "nbconvert_exporter": "python",
   "pygments_lexer": "ipython3",
   "version": "3.8.5"
  }
 },
 "nbformat": 4,
 "nbformat_minor": 4
}
