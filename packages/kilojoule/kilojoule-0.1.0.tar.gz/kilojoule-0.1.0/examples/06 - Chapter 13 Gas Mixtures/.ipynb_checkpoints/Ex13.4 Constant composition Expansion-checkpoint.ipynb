{
 "cells": [
  {
   "cell_type": "markdown",
   "metadata": {},
   "source": [
    "# Example 13.4: Constant Composition Expansion\n",
    "\n",
    "*John F. Maddox, Ph.D., P.E.<br>\n",
    "University of Kentucky - Paducah Campus<br>\n",
    "ME 321: Engineering Thermodynamics II<br>*"
   ]
  },
  {
   "cell_type": "markdown",
   "metadata": {},
   "source": [
    "## Problem Statement\n",
    "A mixture having a molar composition of 66% $\\mathrm{N_2}$, 17% $\\mathrm{CO_2}$, 17% $\\mathrm{H_2O}$ enters a turbine at 1000 K, 8 bar with a mass flow rate of 2 kg/s.  The mixture expands isentropically to 1 bar.  Determine the exit temperature and the power output."
   ]
  },
  {
   "cell_type": "markdown",
   "metadata": {},
   "source": [
    "## Solution\n"
   ]
  },
  {
   "cell_type": "markdown",
   "metadata": {},
   "source": [
    "### Python Initialization\n",
    "We'll start by importing the libraries we will use for our analysis and initializing dictionaries to hold the properties we will be usings."
   ]
  },
  {
   "cell_type": "code",
   "execution_count": 1,
   "metadata": {
    "collapsed": false,
    "jupyter": {
     "outputs_hidden": false
    }
   },
   "outputs": [
    {
     "name": "stderr",
     "output_type": "stream",
     "text": [
      "/opt/anaconda/lib/python3.8/site-packages/mpmath/ctx_mp_python.py:892: SyntaxWarning: \"is\" with a literal. Did you mean \"==\"?\n",
      "  if other is 0:\n",
      "/opt/anaconda/lib/python3.8/site-packages/mpmath/ctx_mp_python.py:986: SyntaxWarning: \"is\" with a literal. Did you mean \"==\"?\n",
      "  if other is 0:\n"
     ]
    }
   ],
   "source": [
    "from kilojoule.templates.default import *\n",
    "from math import log\n",
    "   \n",
    "N2 = idealgas.Properties('N2')\n",
    "CO2 = idealgas.Properties('CO2')\n",
    "H2O = idealgas.Properties('H2O')\n",
    "\n",
    "# Universal gas constant\n",
    "Rbar = Quantity(8.3145,'kJ/kmol/K')\n",
    "\n",
    "T.set_units('K')"
   ]
  },
  {
   "cell_type": "markdown",
   "metadata": {},
   "source": [
    "### Given"
   ]
  },
  {
   "cell_type": "code",
   "execution_count": 2,
   "metadata": {},
   "outputs": [
    {
     "data": {
      "text/latex": [
       "\\[\\begin{aligned}{ \\bar{R} }&={  8.3145\\ \\frac{\\mathrm{kJ}}{\\left(\\mathrm{K} \\cdot \\mathrm{kmol}\\right)}  }&{ T_{room} }&={  25\\ \\mathrm{°C}  }&{ \\dot{m} }&={  2\\ \\frac{\\mathrm{kg}}{\\mathrm{s}}  }\\\\{  }\\end{aligned}\\]"
      ],
      "text/plain": [
       "<IPython.core.display.Latex object>"
      ]
     },
     "metadata": {},
     "output_type": "display_data"
    },
    {
     "data": {
      "text/html": [
       "<table border=\"1\" class=\"dataframe\">\n",
       "  <thead>\n",
       "    <tr>\n",
       "      <th></th>\n",
       "      <th>T</th>\n",
       "      <th>p</th>\n",
       "      <th>y</th>\n",
       "    </tr>\n",
       "    <tr>\n",
       "      <th>unit</th>\n",
       "      <th>K</th>\n",
       "      <th>kPa</th>\n",
       "      <th></th>\n",
       "    </tr>\n",
       "  </thead>\n",
       "  <tbody>\n",
       "    <tr>\n",
       "      <th>1</th>\n",
       "      <td>1000</td>\n",
       "      <td>800</td>\n",
       "      <td>-</td>\n",
       "    </tr>\n",
       "    <tr>\n",
       "      <th>2</th>\n",
       "      <td>-</td>\n",
       "      <td>100</td>\n",
       "      <td>-</td>\n",
       "    </tr>\n",
       "    <tr>\n",
       "      <th>CO2</th>\n",
       "      <td>-</td>\n",
       "      <td>-</td>\n",
       "      <td>0.17</td>\n",
       "    </tr>\n",
       "    <tr>\n",
       "      <th>H2O</th>\n",
       "      <td>-</td>\n",
       "      <td>-</td>\n",
       "      <td>0.17</td>\n",
       "    </tr>\n",
       "    <tr>\n",
       "      <th>N2</th>\n",
       "      <td>-</td>\n",
       "      <td>-</td>\n",
       "      <td>0.66</td>\n",
       "    </tr>\n",
       "    <tr>\n",
       "      <th>mix</th>\n",
       "      <td>-</td>\n",
       "      <td>-</td>\n",
       "      <td>1</td>\n",
       "    </tr>\n",
       "  </tbody>\n",
       "</table>"
      ],
      "text/plain": [
       "<IPython.core.display.HTML object>"
      ]
     },
     "metadata": {},
     "output_type": "display_data"
    }
   ],
   "source": [
    "T_room = Quantity(25,'degC')\n",
    "T[1] = Quantity(1000,'K')\n",
    "p[1] = Quantity(8,'bar')\n",
    "p[2] = Quantity(1,'bar')\n",
    "mdot = Quantity(2,'kg/s')\n",
    "y['N2'] = 0.66\n",
    "y['CO2'] = 0.17\n",
    "y['H2O'] = 0.17\n",
    "y['mix'] = y['N2'] + y['CO2'] + y['H2O']\n",
    "\n",
    "display.Summary(locals());"
   ]
  },
  {
   "cell_type": "markdown",
   "metadata": {},
   "source": [
    "### Mixture Properties"
   ]
  },
  {
   "cell_type": "code",
   "execution_count": 3,
   "metadata": {},
   "outputs": [
    {
     "data": {
      "text/markdown": [
       " Molar Mass"
      ],
      "text/plain": [
       "<IPython.core.display.Markdown object>"
      ]
     },
     "metadata": {},
     "output_type": "display_data"
    },
    {
     "data": {
      "text/latex": [
       "\\[\n",
       "  \\begin{aligned}{ M_{mix} }&={ y_{N2} M_{N2} + y_{CO2} M_{CO2} + y_{H2O} M_{H2O} }\\\\\n",
       "    &={ \\left( 0.66\\ \\right) \\left( 28.013\\ \\frac{\\mathrm{kg}}{\\mathrm{kmol}} \\right) + \\left( 0.17\\ \\right) \\left( 44.01\\ \\frac{\\mathrm{kg}}{\\mathrm{kmol}} \\right) + \\left( 0.17\\ \\right) \\left( 18.015\\ \\frac{\\mathrm{kg}}{\\mathrm{kmol}} \\right) }\\\\\n",
       "    &={  29.033\\ \\frac{\\mathrm{kg}}{\\mathrm{kmol}}  }\n",
       "  \\end{aligned}\n",
       "\\]\n"
      ],
      "text/plain": [
       "<IPython.core.display.Latex object>"
      ]
     },
     "metadata": {},
     "output_type": "display_data"
    },
    {
     "data": {
      "text/markdown": [
       " Mass fraction"
      ],
      "text/plain": [
       "<IPython.core.display.Markdown object>"
      ]
     },
     "metadata": {},
     "output_type": "display_data"
    },
    {
     "data": {
      "text/latex": [
       "\\[\n",
       "  \\begin{aligned}{ mf_{N2} }&={ \\frac{y_{N2} M_{N2}}{M_{mix}} }\\\\\n",
       "    &={ \\frac{\\left( 0.66\\ \\right) \\left( 28.013\\ \\frac{\\mathrm{kg}}{\\mathrm{kmol}} \\right)}{\\left( 29.033\\ \\frac{\\mathrm{kg}}{\\mathrm{kmol}} \\right)} }\\\\\n",
       "    &={  0.63682\\  }\n",
       "  \\end{aligned}\n",
       "\\]\n"
      ],
      "text/plain": [
       "<IPython.core.display.Latex object>"
      ]
     },
     "metadata": {},
     "output_type": "display_data"
    },
    {
     "data": {
      "text/latex": [
       "\\[\n",
       "  \\begin{aligned}{ mf_{CO2} }&={ \\frac{y_{CO2} M_{CO2}}{M_{mix}} }\\\\\n",
       "    &={ \\frac{\\left( 0.17\\ \\right) \\left( 44.01\\ \\frac{\\mathrm{kg}}{\\mathrm{kmol}} \\right)}{\\left( 29.033\\ \\frac{\\mathrm{kg}}{\\mathrm{kmol}} \\right)} }\\\\\n",
       "    &={  0.25769\\  }\n",
       "  \\end{aligned}\n",
       "\\]\n"
      ],
      "text/plain": [
       "<IPython.core.display.Latex object>"
      ]
     },
     "metadata": {},
     "output_type": "display_data"
    },
    {
     "data": {
      "text/latex": [
       "\\[\n",
       "  \\begin{aligned}{ mf_{H2O} }&={ \\frac{y_{H2O} M_{H2O}}{M_{mix}} }\\\\\n",
       "    &={ \\frac{\\left( 0.17\\ \\right) \\left( 18.015\\ \\frac{\\mathrm{kg}}{\\mathrm{kmol}} \\right)}{\\left( 29.033\\ \\frac{\\mathrm{kg}}{\\mathrm{kmol}} \\right)} }\\\\\n",
       "    &={  0.10549\\  }\n",
       "  \\end{aligned}\n",
       "\\]\n"
      ],
      "text/plain": [
       "<IPython.core.display.Latex object>"
      ]
     },
     "metadata": {},
     "output_type": "display_data"
    },
    {
     "data": {
      "text/latex": [
       "\\[\n",
       "  \\begin{aligned}{ mf_{mix} }&={ mf_{N2} + mf_{CO2} + mf_{H2O} }\\\\\n",
       "    &={ \\left( 0.63682\\ \\right) + \\left( 0.25769\\ \\right) + \\left( 0.10549\\ \\right) }\\\\\n",
       "    &={  1.0\\  }\n",
       "  \\end{aligned}\n",
       "\\]\n"
      ],
      "text/plain": [
       "<IPython.core.display.Latex object>"
      ]
     },
     "metadata": {},
     "output_type": "display_data"
    },
    {
     "data": {
      "text/markdown": [
       " Constant pressure specific heat"
      ],
      "text/plain": [
       "<IPython.core.display.Markdown object>"
      ]
     },
     "metadata": {},
     "output_type": "display_data"
    },
    {
     "data": {
      "text/latex": [
       "\\[\n",
       "  \\begin{aligned}\n",
       "    { c_{p,N2} }&={ \\mathrm{\\underset{N2}{cp}}\\left(T_{room}\\right) } = { 1.0396\\ \\frac{\\mathrm{kJ}}{\\left(\\mathrm{K} \\cdot \\mathrm{kg}\\right)}  }\n",
       "  \\end{aligned}\n",
       "\\]\n"
      ],
      "text/plain": [
       "<IPython.core.display.Latex object>"
      ]
     },
     "metadata": {},
     "output_type": "display_data"
    },
    {
     "data": {
      "text/latex": [
       "\\[\n",
       "  \\begin{aligned}\n",
       "    { c_{p,CO2} }&={ \\mathrm{\\underset{CO2}{cp}}\\left(T_{room}\\right) } = { 0.84379\\ \\frac{\\mathrm{kJ}}{\\left(\\mathrm{K} \\cdot \\mathrm{kg}\\right)}  }\n",
       "  \\end{aligned}\n",
       "\\]\n"
      ],
      "text/plain": [
       "<IPython.core.display.Latex object>"
      ]
     },
     "metadata": {},
     "output_type": "display_data"
    },
    {
     "data": {
      "text/latex": [
       "\\[\n",
       "  \\begin{aligned}\n",
       "    { c_{p,H2O} }&={ \\mathrm{\\underset{H2O}{cp}}\\left(T_{room}\\right) } = { 1.8644\\ \\frac{\\mathrm{kJ}}{\\left(\\mathrm{K} \\cdot \\mathrm{kg}\\right)}  }\n",
       "  \\end{aligned}\n",
       "\\]\n"
      ],
      "text/plain": [
       "<IPython.core.display.Latex object>"
      ]
     },
     "metadata": {},
     "output_type": "display_data"
    },
    {
     "data": {
      "text/latex": [
       "\\[\n",
       "  \\begin{aligned}{ c_{p,mix} }&={ mf_{N2} c_{p,N2} + mf_{CO2} c_{p,CO2} + mf_{H2O} c_{p,H2O} }\\\\\n",
       "    &={ \\left( 0.63682\\ \\right) \\left( 1.0396\\ \\frac{\\mathrm{kJ}}{\\left(\\mathrm{K} \\cdot \\mathrm{kg}\\right)} \\right) + \\left( 0.25769\\ \\right) \\left( 0.84379\\ \\frac{\\mathrm{kJ}}{\\left(\\mathrm{K} \\cdot \\mathrm{kg}\\right)} \\right) + \\left( 0.10549\\ \\right) \\left( 1.8644\\ \\frac{\\mathrm{kJ}}{\\left(\\mathrm{K} \\cdot \\mathrm{kg}\\right)} \\right) }\\\\\n",
       "    &={  1.0762\\ \\frac{\\mathrm{kJ}}{\\left(\\mathrm{K} \\cdot \\mathrm{kg}\\right)}  }\n",
       "  \\end{aligned}\n",
       "\\]\n"
      ],
      "text/plain": [
       "<IPython.core.display.Latex object>"
      ]
     },
     "metadata": {},
     "output_type": "display_data"
    },
    {
     "data": {
      "text/markdown": [
       " Constant volume specific heat"
      ],
      "text/plain": [
       "<IPython.core.display.Markdown object>"
      ]
     },
     "metadata": {},
     "output_type": "display_data"
    },
    {
     "data": {
      "text/latex": [
       "\\[\n",
       "  \\begin{aligned}\n",
       "    { c_{v,N2} }&={ \\mathrm{\\underset{N2}{cv}}\\left(T_{room}\\right) } = { 0.74285\\ \\frac{\\mathrm{kJ}}{\\left(\\mathrm{K} \\cdot \\mathrm{kg}\\right)}  }\n",
       "  \\end{aligned}\n",
       "\\]\n"
      ],
      "text/plain": [
       "<IPython.core.display.Latex object>"
      ]
     },
     "metadata": {},
     "output_type": "display_data"
    },
    {
     "data": {
      "text/latex": [
       "\\[\n",
       "  \\begin{aligned}\n",
       "    { c_{v,CO2} }&={ \\mathrm{\\underset{CO2}{cv}}\\left(T_{room}\\right) } = { 0.65487\\ \\frac{\\mathrm{kJ}}{\\left(\\mathrm{K} \\cdot \\mathrm{kg}\\right)}  }\n",
       "  \\end{aligned}\n",
       "\\]\n"
      ],
      "text/plain": [
       "<IPython.core.display.Latex object>"
      ]
     },
     "metadata": {},
     "output_type": "display_data"
    },
    {
     "data": {
      "text/latex": [
       "\\[\n",
       "  \\begin{aligned}\n",
       "    { c_{v,H2O} }&={ \\mathrm{\\underset{H2O}{cv}}\\left(T_{room}\\right) } = { 1.4029\\ \\frac{\\mathrm{kJ}}{\\left(\\mathrm{K} \\cdot \\mathrm{kg}\\right)}  }\n",
       "  \\end{aligned}\n",
       "\\]\n"
      ],
      "text/plain": [
       "<IPython.core.display.Latex object>"
      ]
     },
     "metadata": {},
     "output_type": "display_data"
    },
    {
     "data": {
      "text/latex": [
       "\\[\n",
       "  \\begin{aligned}{ c_{v,mix} }&={ mf_{N2} c_{v,N2} + mf_{CO2} c_{v,CO2} + mf_{H2O} c_{v,H2O} }\\\\\n",
       "    &={ \\left( 0.63682\\ \\right) \\left( 0.74285\\ \\frac{\\mathrm{kJ}}{\\left(\\mathrm{K} \\cdot \\mathrm{kg}\\right)} \\right) + \\left( 0.25769\\ \\right) \\left( 0.65487\\ \\frac{\\mathrm{kJ}}{\\left(\\mathrm{K} \\cdot \\mathrm{kg}\\right)} \\right) + \\left( 0.10549\\ \\right) \\left( 1.4029\\ \\frac{\\mathrm{kJ}}{\\left(\\mathrm{K} \\cdot \\mathrm{kg}\\right)} \\right) }\\\\\n",
       "    &={  0.7898\\ \\frac{\\mathrm{kJ}}{\\left(\\mathrm{K} \\cdot \\mathrm{kg}\\right)}  }\n",
       "  \\end{aligned}\n",
       "\\]\n"
      ],
      "text/plain": [
       "<IPython.core.display.Latex object>"
      ]
     },
     "metadata": {},
     "output_type": "display_data"
    },
    {
     "data": {
      "text/markdown": [
       " Specific heat ratio"
      ],
      "text/plain": [
       "<IPython.core.display.Markdown object>"
      ]
     },
     "metadata": {},
     "output_type": "display_data"
    },
    {
     "data": {
      "text/latex": [
       "\\[\n",
       "  \\begin{aligned}\n",
       "    { k_{N2} }&={ \\mathrm{\\underset{N2}{k}}\\left(T_{room}\\right) } = { 1.3995\\  }\n",
       "  \\end{aligned}\n",
       "\\]\n"
      ],
      "text/plain": [
       "<IPython.core.display.Latex object>"
      ]
     },
     "metadata": {},
     "output_type": "display_data"
    },
    {
     "data": {
      "text/latex": [
       "\\[\n",
       "  \\begin{aligned}\n",
       "    { k_{CO2} }&={ \\mathrm{\\underset{CO2}{k}}\\left(T_{room}\\right) } = { 1.2885\\  }\n",
       "  \\end{aligned}\n",
       "\\]\n"
      ],
      "text/plain": [
       "<IPython.core.display.Latex object>"
      ]
     },
     "metadata": {},
     "output_type": "display_data"
    },
    {
     "data": {
      "text/latex": [
       "\\[\n",
       "  \\begin{aligned}\n",
       "    { k_{H2O} }&={ \\mathrm{\\underset{H2O}{k}}\\left(T_{room}\\right) } = { 1.329\\  }\n",
       "  \\end{aligned}\n",
       "\\]\n"
      ],
      "text/plain": [
       "<IPython.core.display.Latex object>"
      ]
     },
     "metadata": {},
     "output_type": "display_data"
    },
    {
     "data": {
      "text/latex": [
       "\\[\n",
       "  \\begin{aligned}{ k_{mix} }&={ mf_{N2} k_{N2} + mf_{CO2} k_{CO2} + mf_{H2O} k_{H2O} }\\\\\n",
       "    &={ \\left( 0.63682\\ \\right) \\left( 1.3995\\ \\right) + \\left( 0.25769\\ \\right) \\left( 1.2885\\ \\right) + \\left( 0.10549\\ \\right) \\left( 1.329\\ \\right) }\\\\\n",
       "    &={  1.3635\\  }\n",
       "  \\end{aligned}\n",
       "\\]\n"
      ],
      "text/plain": [
       "<IPython.core.display.Latex object>"
      ]
     },
     "metadata": {},
     "output_type": "display_data"
    },
    {
     "data": {
      "text/markdown": [
       " Summary"
      ],
      "text/plain": [
       "<IPython.core.display.Markdown object>"
      ]
     },
     "metadata": {},
     "output_type": "display_data"
    },
    {
     "data": {
      "text/latex": [
       "\\[\\begin{aligned}{ \\bar{R} }&={  8.3145\\ \\frac{\\mathrm{kJ}}{\\left(\\mathrm{K} \\cdot \\mathrm{kmol}\\right)}  }&{ T_{room} }&={  25\\ \\mathrm{°C}  }&{ \\dot{m} }&={  2\\ \\frac{\\mathrm{kg}}{\\mathrm{s}}  }\\\\{  }\\end{aligned}\\]"
      ],
      "text/plain": [
       "<IPython.core.display.Latex object>"
      ]
     },
     "metadata": {},
     "output_type": "display_data"
    },
    {
     "data": {
      "text/html": [
       "<table border=\"1\" class=\"dataframe\">\n",
       "  <thead>\n",
       "    <tr>\n",
       "      <th></th>\n",
       "      <th>T</th>\n",
       "      <th>p</th>\n",
       "      <th>y</th>\n",
       "      <th>mf</th>\n",
       "      <th>M</th>\n",
       "      <th>c_v</th>\n",
       "      <th>c_p</th>\n",
       "      <th>k</th>\n",
       "    </tr>\n",
       "    <tr>\n",
       "      <th>unit</th>\n",
       "      <th>K</th>\n",
       "      <th>kPa</th>\n",
       "      <th></th>\n",
       "      <th></th>\n",
       "      <th>kg/kmol</th>\n",
       "      <th>kJ/K/kg</th>\n",
       "      <th>kJ/K/kg</th>\n",
       "      <th></th>\n",
       "    </tr>\n",
       "  </thead>\n",
       "  <tbody>\n",
       "    <tr>\n",
       "      <th>1</th>\n",
       "      <td>1000</td>\n",
       "      <td>800</td>\n",
       "      <td>-</td>\n",
       "      <td>-</td>\n",
       "      <td>-</td>\n",
       "      <td>-</td>\n",
       "      <td>-</td>\n",
       "      <td>-</td>\n",
       "    </tr>\n",
       "    <tr>\n",
       "      <th>2</th>\n",
       "      <td>-</td>\n",
       "      <td>100</td>\n",
       "      <td>-</td>\n",
       "      <td>-</td>\n",
       "      <td>-</td>\n",
       "      <td>-</td>\n",
       "      <td>-</td>\n",
       "      <td>-</td>\n",
       "    </tr>\n",
       "    <tr>\n",
       "      <th>CO2</th>\n",
       "      <td>-</td>\n",
       "      <td>-</td>\n",
       "      <td>0.17</td>\n",
       "      <td>0.257694</td>\n",
       "      <td>44.0098</td>\n",
       "      <td>0.65487</td>\n",
       "      <td>0.843793</td>\n",
       "      <td>1.28849</td>\n",
       "    </tr>\n",
       "    <tr>\n",
       "      <th>H2O</th>\n",
       "      <td>-</td>\n",
       "      <td>-</td>\n",
       "      <td>0.17</td>\n",
       "      <td>0.105486</td>\n",
       "      <td>18.0153</td>\n",
       "      <td>1.40287</td>\n",
       "      <td>1.86439</td>\n",
       "      <td>1.32899</td>\n",
       "    </tr>\n",
       "    <tr>\n",
       "      <th>N2</th>\n",
       "      <td>-</td>\n",
       "      <td>-</td>\n",
       "      <td>0.66</td>\n",
       "      <td>0.63682</td>\n",
       "      <td>28.0135</td>\n",
       "      <td>0.742846</td>\n",
       "      <td>1.03965</td>\n",
       "      <td>1.39955</td>\n",
       "    </tr>\n",
       "    <tr>\n",
       "      <th>mix</th>\n",
       "      <td>-</td>\n",
       "      <td>-</td>\n",
       "      <td>1</td>\n",
       "      <td>1</td>\n",
       "      <td>29.0332</td>\n",
       "      <td>0.789799</td>\n",
       "      <td>1.07618</td>\n",
       "      <td>1.36348</td>\n",
       "    </tr>\n",
       "  </tbody>\n",
       "</table>"
      ],
      "text/plain": [
       "<IPython.core.display.HTML object>"
      ]
     },
     "metadata": {},
     "output_type": "display_data"
    }
   ],
   "source": [
    "# Molar Mass\n",
    "M['N2'] = N2.mm\n",
    "M['CO2'] = CO2.mm\n",
    "M['H2O'] = H2O.mm\n",
    "M['mix'] = y['N2']*M['N2'] + y['CO2']*M['CO2'] + y['H2O']*M['H2O']\n",
    "\n",
    "# Mass fraction\n",
    "mf['N2'] = y['N2']*M['N2']/M['mix']\n",
    "mf['CO2'] = y['CO2']*M['CO2']/M['mix']\n",
    "mf['H2O'] = y['H2O']*M['H2O']/M['mix']\n",
    "mf['mix'] = mf['N2'] + mf['CO2'] + mf['H2O']\n",
    "\n",
    "# Constant pressure specific heat\n",
    "c_p['N2'] = N2.cp(T_room)\n",
    "c_p['CO2'] = CO2.cp(T_room)\n",
    "c_p['H2O'] = H2O.cp(T_room)\n",
    "c_p['mix'] = mf['N2']*c_p['N2'] + mf['CO2']*c_p['CO2'] + mf['H2O']*c_p['H2O']\n",
    "\n",
    "# Constant volume specific heat\n",
    "c_v['N2'] = N2.cv(T_room)\n",
    "c_v['CO2'] = CO2.cv(T_room)\n",
    "c_v['H2O'] = H2O.cv(T_room)\n",
    "c_v['mix'] = mf['N2']*c_v['N2'] + mf['CO2']*c_v['CO2'] + mf['H2O']*c_v['H2O']\n",
    "\n",
    "# Specific heat ratio\n",
    "k['N2'] = N2.k(T_room)\n",
    "k['CO2'] = CO2.k(T_room)\n",
    "k['H2O'] = H2O.k(T_room)\n",
    "k['mix'] = mf['N2']*k['N2'] + mf['CO2']*k['CO2'] + mf['H2O']*k['H2O']\n",
    "display.Calculations(locals(),comments=True)\n",
    "\n",
    "# Summary\n",
    "display.Summary(locals());"
   ]
  },
  {
   "cell_type": "markdown",
   "metadata": {},
   "source": [
    "### First Law"
   ]
  },
  {
   "cell_type": "code",
   "execution_count": 4,
   "metadata": {},
   "outputs": [
    {
     "data": {
      "text/latex": [
       "\\[\n",
       "  \\begin{aligned}{ T_{2} }&={ T_{1} \\left(\\frac{p_{2}}{p_{1}}\\right)^{\\frac{k_{mix} - 1}{k_{mix}}} }\\\\\n",
       "    &={ \\left( 1000\\ \\mathrm{K} \\right) \\left(\\frac{\\left( 100.0\\ \\mathrm{kPa} \\right)}{\\left( 800.0\\ \\mathrm{kPa} \\right)}\\right)^{\\frac{\\left( 1.3635\\ \\right) -  1 }{\\left( 1.3635\\ \\right)}} }\\\\\n",
       "    &={  574.45\\ \\mathrm{K}  }\n",
       "  \\end{aligned}\n",
       "\\]\n"
      ],
      "text/plain": [
       "<IPython.core.display.Latex object>"
      ]
     },
     "metadata": {},
     "output_type": "display_data"
    },
    {
     "data": {
      "text/latex": [
       "\\[\n",
       "  \\begin{aligned}{ \\dot{W}_{t} }&={ \\dot{m} c_{p,mix} \\left(T_{1} - T_{2}\\right) }\\\\\n",
       "    &={ \\left( 2\\ \\frac{\\mathrm{kg}}{\\mathrm{s}} \\right) \\left( 1.0762\\ \\frac{\\mathrm{kJ}}{\\left(\\mathrm{K} \\cdot \\mathrm{kg}\\right)} \\right) \\left(\\left( 1000\\ \\mathrm{K} \\right) - \\left( 574.45\\ \\mathrm{K} \\right)\\right) }\\\\\n",
       "    &={  915.94\\ \\frac{\\mathrm{kJ}}{\\mathrm{s}}  }\n",
       "  \\end{aligned}\n",
       "\\]\n"
      ],
      "text/plain": [
       "<IPython.core.display.Latex object>"
      ]
     },
     "metadata": {},
     "output_type": "display_data"
    }
   ],
   "source": [
    "# Isentropic Expansion\n",
    "T[2] = T[1].to('K')*(p[2]/p[1])**((k['mix']-1)/k['mix'])\n",
    "\n",
    "# First Law\n",
    "Wdot_t = mdot*c_p['mix']*(T[1]-T[2])\n",
    "\n",
    "display.Calculations(locals());"
   ]
  }
 ],
 "metadata": {
  "kernelspec": {
   "display_name": "Python 3",
   "language": "python",
   "name": "python3"
  },
  "language_info": {
   "codemirror_mode": {
    "name": "ipython",
    "version": 3
   },
   "file_extension": ".py",
   "mimetype": "text/x-python",
   "name": "python",
   "nbconvert_exporter": "python",
   "pygments_lexer": "ipython3",
   "version": "3.8.5"
  }
 },
 "nbformat": 4,
 "nbformat_minor": 4
}
