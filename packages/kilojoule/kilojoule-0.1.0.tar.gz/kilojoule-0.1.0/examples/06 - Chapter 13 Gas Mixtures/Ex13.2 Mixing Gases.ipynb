{
 "cells": [
  {
   "cell_type": "markdown",
   "metadata": {},
   "source": [
    "# Example 13.2: Mixing Gases\n",
    "\n",
    "*John F. Maddox, Ph.D., P.E.<br>\n",
    "University of Kentucky - Paducah Campus<br>\n",
    "ME 321: Engineering Thermodynamics II<br>*"
   ]
  },
  {
   "cell_type": "markdown",
   "metadata": {},
   "source": [
    "## Problem Statement\n",
    "A rigid insulated tank has two compartments.  One is filled with 5 lmbol of Ar at $100^\\circ\\mathrm{F}$ and $20\\ \\mathrm{psia}$.  The other is filled with 10 lbmol of He at $200^\\circ\\ mathrm{F}$ and 30 psia.  The gases mix and reach equilibrium.  Determine the final temperature, final pressure and the amount of entropy produced."
   ]
  },
  {
   "cell_type": "markdown",
   "metadata": {},
   "source": [
    "## Solution\n"
   ]
  },
  {
   "cell_type": "markdown",
   "metadata": {},
   "source": [
    "### Python Initialization\n",
    "We'll start by importing the libraries we will use for our analysis and initializing dictionaries to hold the properties we will be usings."
   ]
  },
  {
   "cell_type": "code",
   "execution_count": 1,
   "metadata": {
    "collapsed": false,
    "jupyter": {
     "outputs_hidden": false
    }
   },
   "outputs": [
    {
     "name": "stderr",
     "output_type": "stream",
     "text": [
      "/opt/anaconda/lib/python3.8/site-packages/mpmath/ctx_mp_python.py:892: SyntaxWarning: \"is\" with a literal. Did you mean \"==\"?\n",
      "  if other is 0:\n",
      "/opt/anaconda/lib/python3.8/site-packages/mpmath/ctx_mp_python.py:986: SyntaxWarning: \"is\" with a literal. Did you mean \"==\"?\n",
      "  if other is 0:\n"
     ]
    }
   ],
   "source": [
    "from kilojoule.templates.USCS_R import *\n",
    "from math import log\n",
    "   \n",
    "He = idealgas.Properties('He')\n",
    "Ar = idealgas.Properties('Ar')\n",
    "\n",
    "# Universal gas constant\n",
    "Rbar = Quantity(1.986,'Btu/lbmol/degR')\n",
    "\n",
    "# Add columns to states table\n",
    "V = Vol\n",
    "y = states.add_property('y','')\n",
    "M = states.add_property('M','lb/lbmol')\n",
    "mf = states.add_property('mf','')\n",
    "N = states.add_property('N','lbmol')\n",
    "c_v = states.add_property('cv','Btu/lb/degR')\n",
    "R = states.add_property('R','Btu/lb/degR')"
   ]
  },
  {
   "cell_type": "markdown",
   "metadata": {},
   "source": [
    "### Given"
   ]
  },
  {
   "cell_type": "code",
   "execution_count": 2,
   "metadata": {},
   "outputs": [],
   "source": [
    "T_room = Quantity(80,'degF')\n",
    "T['B'] = Quantity(200,'degF')\n",
    "T['A'] = Quantity(100,'degF')\n",
    "p['B'] = Quantity(30,'psi')\n",
    "p['A'] = Quantity(20,'psi')\n",
    "N['He'] = Quantity(10,'lbmol')\n",
    "N['Ar'] = Quantity(5,'lbmol')"
   ]
  },
  {
   "cell_type": "code",
   "execution_count": 3,
   "metadata": {},
   "outputs": [],
   "source": [
    "# Mass\n",
    "M['Ar'] = Ar.mm\n",
    "m['Ar'] = M['Ar']*N['Ar']\n",
    "M['He'] = He.mm\n",
    "m['He'] = M['He']*N['He']\n",
    "\n",
    "# Specific heat\n",
    "c_v['Ar'] = Ar.cv(T_room)\n",
    "c_v['He'] = He.cv(T_room)\n",
    "\n",
    "# Specific Gas Constant\n",
    "R['Ar'] = Rbar/M['Ar']\n",
    "R['He'] = Rbar/M['He']"
   ]
  },
  {
   "cell_type": "code",
   "execution_count": 4,
   "metadata": {},
   "outputs": [
    {
     "data": {
      "text/html": [
       "<table border=\"1\" class=\"dataframe\">\n",
       "  <thead>\n",
       "    <tr>\n",
       "      <th></th>\n",
       "      <th>T</th>\n",
       "      <th>p</th>\n",
       "      <th>m</th>\n",
       "      <th>M</th>\n",
       "      <th>N</th>\n",
       "      <th>cv</th>\n",
       "      <th>R</th>\n",
       "    </tr>\n",
       "    <tr>\n",
       "      <th>unit</th>\n",
       "      <th>°R</th>\n",
       "      <th>psi</th>\n",
       "      <th>lb</th>\n",
       "      <th>lb/lbmol</th>\n",
       "      <th>lbmol</th>\n",
       "      <th>Btu/lb/°R</th>\n",
       "      <th>Btu/lb/°R</th>\n",
       "    </tr>\n",
       "  </thead>\n",
       "  <tbody>\n",
       "    <tr>\n",
       "      <th>A</th>\n",
       "      <td>559.67</td>\n",
       "      <td>20</td>\n",
       "      <td>-</td>\n",
       "      <td>-</td>\n",
       "      <td>-</td>\n",
       "      <td>-</td>\n",
       "      <td>-</td>\n",
       "    </tr>\n",
       "    <tr>\n",
       "      <th>Ar</th>\n",
       "      <td>-</td>\n",
       "      <td>-</td>\n",
       "      <td>199.74</td>\n",
       "      <td>39.948</td>\n",
       "      <td>5</td>\n",
       "      <td>0.0745672</td>\n",
       "      <td>0.0497146</td>\n",
       "    </tr>\n",
       "    <tr>\n",
       "      <th>B</th>\n",
       "      <td>659.67</td>\n",
       "      <td>30</td>\n",
       "      <td>-</td>\n",
       "      <td>-</td>\n",
       "      <td>-</td>\n",
       "      <td>-</td>\n",
       "      <td>-</td>\n",
       "    </tr>\n",
       "    <tr>\n",
       "      <th>He</th>\n",
       "      <td>-</td>\n",
       "      <td>-</td>\n",
       "      <td>40.026</td>\n",
       "      <td>4.0026</td>\n",
       "      <td>10</td>\n",
       "      <td>0.744219</td>\n",
       "      <td>0.496177</td>\n",
       "    </tr>\n",
       "  </tbody>\n",
       "</table>"
      ],
      "text/plain": [
       "<IPython.core.display.HTML object>"
      ]
     },
     "metadata": {},
     "output_type": "display_data"
    }
   ],
   "source": [
    "states.display()"
   ]
  },
  {
   "cell_type": "markdown",
   "metadata": {},
   "source": [
    "### First Law"
   ]
  },
  {
   "cell_type": "code",
   "execution_count": 5,
   "metadata": {},
   "outputs": [
    {
     "data": {
      "text/latex": [
       "\\[\n",
       "  \\begin{aligned}{ T_{2} }&={ \\frac{m_{Ar} c_{v,Ar} T_{A} + m_{He} c_{v,He} T_{B}}{m_{Ar} c_{v,Ar} + m_{He} c_{v,He}} }\\\\\n",
       "    &={ \\frac{\\left( 199.74\\ \\mathrm{lb} \\right) \\left( 0.074567\\ \\frac{\\mathrm{Btu}}{\\left(\\mathrm{lb} \\cdot \\mathrm{°R}\\right)} \\right) \\left( 559.67\\ \\mathrm{°R} \\right) + \\left( 40.026\\ \\mathrm{lb} \\right) \\left( 0.74422\\ \\frac{\\mathrm{Btu}}{\\left(\\mathrm{lb} \\cdot \\mathrm{°R}\\right)} \\right) \\left( 659.67\\ \\mathrm{°R} \\right)}{\\left( 199.74\\ \\mathrm{lb} \\right) \\left( 0.074567\\ \\frac{\\mathrm{Btu}}{\\left(\\mathrm{lb} \\cdot \\mathrm{°R}\\right)} \\right) + \\left( 40.026\\ \\mathrm{lb} \\right) \\left( 0.74422\\ \\frac{\\mathrm{Btu}}{\\left(\\mathrm{lb} \\cdot \\mathrm{°R}\\right)} \\right)} }\\\\\n",
       "    &={  626.34\\ \\mathrm{°R}  }\n",
       "  \\end{aligned}\n",
       "\\]\n"
      ],
      "text/plain": [
       "<IPython.core.display.Latex object>"
      ]
     },
     "metadata": {},
     "output_type": "display_data"
    }
   ],
   "source": [
    "T[2] = (m['Ar']*c_v['Ar']*T['A'] + m['He']*c_v['He']*T['B'])/(m['Ar']*c_v['Ar']+m['He']*c_v['He'])\n",
    "\n",
    "display.Calculations(locals());"
   ]
  },
  {
   "cell_type": "markdown",
   "metadata": {},
   "source": [
    "### Final Pressure - Ideal Gas Law"
   ]
  },
  {
   "cell_type": "code",
   "execution_count": 6,
   "metadata": {},
   "outputs": [
    {
     "data": {
      "text/markdown": [
       " Volumes for each compartment"
      ],
      "text/plain": [
       "<IPython.core.display.Markdown object>"
      ]
     },
     "metadata": {},
     "output_type": "display_data"
    },
    {
     "data": {
      "text/latex": [
       "\\[\n",
       "  \\begin{aligned}{ V_{A} }&={ \\frac{N_{Ar} \\bar{R} T_{A}}{p_{A}} }\\\\\n",
       "    &={ \\frac{\\left( 5\\ \\mathrm{lbmol} \\right) \\left( 1.986\\ \\frac{\\mathrm{Btu}}{\\left(\\mathrm{lbmol} \\cdot \\mathrm{°R}\\right)} \\right) \\left( 559.67\\ \\mathrm{°R} \\right)}{\\left( 20\\ \\mathrm{psi} \\right)} }\\\\\n",
       "    &={  1501.6\\ \\mathrm{ft}^{3}  }\n",
       "  \\end{aligned}\n",
       "\\]\n"
      ],
      "text/plain": [
       "<IPython.core.display.Latex object>"
      ]
     },
     "metadata": {},
     "output_type": "display_data"
    },
    {
     "data": {
      "text/latex": [
       "\\[\n",
       "  \\begin{aligned}{ V_{B} }&={ \\frac{N_{He} \\bar{R} T_{B}}{p_{B}} }\\\\\n",
       "    &={ \\frac{\\left( 10\\ \\mathrm{lbmol} \\right) \\left( 1.986\\ \\frac{\\mathrm{Btu}}{\\left(\\mathrm{lbmol} \\cdot \\mathrm{°R}\\right)} \\right) \\left( 659.67\\ \\mathrm{°R} \\right)}{\\left( 30\\ \\mathrm{psi} \\right)} }\\\\\n",
       "    &={  2359.9\\ \\mathrm{ft}^{3}  }\n",
       "  \\end{aligned}\n",
       "\\]\n"
      ],
      "text/plain": [
       "<IPython.core.display.Latex object>"
      ]
     },
     "metadata": {},
     "output_type": "display_data"
    },
    {
     "data": {
      "text/markdown": [
       " Total volume"
      ],
      "text/plain": [
       "<IPython.core.display.Markdown object>"
      ]
     },
     "metadata": {},
     "output_type": "display_data"
    },
    {
     "data": {
      "text/latex": [
       "\\[\n",
       "  \\begin{aligned}{ V_{2} }&={ V_{A} + V_{B} }\\\\\n",
       "    &={ \\left( 1501.6\\ \\mathrm{ft}^{3} \\right) + \\left( 2359.9\\ \\mathrm{ft}^{3} \\right) }\\\\\n",
       "    &={  3861.5\\ \\mathrm{ft}^{3}  }\n",
       "  \\end{aligned}\n",
       "\\]\n"
      ],
      "text/plain": [
       "<IPython.core.display.Latex object>"
      ]
     },
     "metadata": {},
     "output_type": "display_data"
    },
    {
     "data": {
      "text/markdown": [
       " Final Pressure"
      ],
      "text/plain": [
       "<IPython.core.display.Markdown object>"
      ]
     },
     "metadata": {},
     "output_type": "display_data"
    },
    {
     "data": {
      "text/latex": [
       "\\[\n",
       "  \\begin{aligned}{ N_{mix} }&={ N_{Ar} + N_{He} }\\\\\n",
       "    &={ \\left( 5\\ \\mathrm{lbmol} \\right) + \\left( 10\\ \\mathrm{lbmol} \\right) }\\\\\n",
       "    &={  15\\ \\mathrm{lbmol}  }\n",
       "  \\end{aligned}\n",
       "\\]\n"
      ],
      "text/plain": [
       "<IPython.core.display.Latex object>"
      ]
     },
     "metadata": {},
     "output_type": "display_data"
    },
    {
     "data": {
      "text/latex": [
       "\\[\n",
       "  \\begin{aligned}{ p_{2} }&={ \\frac{N_{mix} \\bar{R} T_{2}}{V_{2}} }\\\\\n",
       "    &={ \\frac{\\left( 15\\ \\mathrm{lbmol} \\right) \\left( 1.986\\ \\frac{\\mathrm{Btu}}{\\left(\\mathrm{lbmol} \\cdot \\mathrm{°R}\\right)} \\right) \\left( 626.34\\ \\mathrm{°R} \\right)}{\\left( 3861.5\\ \\mathrm{ft}^{3} \\right)} }\\\\\n",
       "    &={  26.111\\ \\mathrm{psi}  }\n",
       "  \\end{aligned}\n",
       "\\]\n"
      ],
      "text/plain": [
       "<IPython.core.display.Latex object>"
      ]
     },
     "metadata": {},
     "output_type": "display_data"
    }
   ],
   "source": [
    "# Volumes for each compartment\n",
    "V['A'] = (N['Ar']*Rbar*T['A'])/p['A']\n",
    "V['B'] = (N['He']*Rbar*T['B'])/p['B']\n",
    "\n",
    "# Total volume\n",
    "V[2] = V['A'] + V['B']\n",
    "\n",
    "# Final Pressure\n",
    "N['mix'] = N['Ar'] + N['He']\n",
    "p['2'] = N['mix']*Rbar*T['2']/(V[2])\n",
    "\n",
    "display.Calculations(locals(),comments=True);"
   ]
  },
  {
   "cell_type": "markdown",
   "metadata": {},
   "source": [
    "### Entropy Generation"
   ]
  },
  {
   "cell_type": "code",
   "execution_count": 7,
   "metadata": {},
   "outputs": [
    {
     "data": {
      "text/markdown": [
       " 2nd Law"
      ],
      "text/plain": [
       "<IPython.core.display.Markdown object>"
      ]
     },
     "metadata": {},
     "output_type": "display_data"
    },
    {
     "data": {
      "text/latex": [
       "\\[\n",
       "  \\begin{aligned}{ S_{gen} }&={ m_{Ar} \\left(c_{v,Ar} log(T[2]/T['A']) + R_{Ar} log(V['2']/V['A'])\\right) + m_{He} \\left(c_{v,He} log(T[2]/T['B']) + R_{He} log(V[2]/V['B'])\\right) }\\\\\n",
       "    &={ \\left( 199.74\\ \\mathrm{lb} \\right) \\left(\\left( 0.074567\\ \\frac{\\mathrm{Btu}}{\\left(\\mathrm{lb} \\cdot \\mathrm{°R}\\right)} \\right) 0.11254 + \\left( 0.049715\\ \\frac{\\mathrm{Btu}}{\\left(\\mathrm{lb} \\cdot \\mathrm{°R}\\right)} \\right) 0.94452\\right) + \\left( 40.026\\ \\mathrm{lb} \\right) \\left(\\left( 0.74422\\ \\frac{\\mathrm{Btu}}{\\left(\\mathrm{lb} \\cdot \\mathrm{°R}\\right)} \\right) -0.051852 + \\left( 0.49618\\ \\frac{\\mathrm{Btu}}{\\left(\\mathrm{lb} \\cdot \\mathrm{°R}\\right)} \\right) 0.49244\\right) }\\\\\n",
       "    &={  19.291\\ \\frac{\\mathrm{Btu}}{\\mathrm{°R}}  }\n",
       "  \\end{aligned}\n",
       "\\]\n"
      ],
      "text/plain": [
       "<IPython.core.display.Latex object>"
      ]
     },
     "metadata": {},
     "output_type": "display_data"
    }
   ],
   "source": [
    "# 2nd Law\n",
    "S_gen = m['Ar']*( c_v['Ar']*log(T[2]/T['A']) + R['Ar']*log(V['2']/V['A']) ) + m['He']*( c_v['He']*log(T[2]/T['B']) + R['He']*log(V[2]/V['B']) )\n",
    "\n",
    "display.Calculations(locals(),comments=True);"
   ]
  },
  {
   "cell_type": "code",
   "execution_count": null,
   "metadata": {},
   "outputs": [],
   "source": []
  }
 ],
 "metadata": {
  "kernelspec": {
   "display_name": "Python 3",
   "language": "python",
   "name": "python3"
  },
  "language_info": {
   "codemirror_mode": {
    "name": "ipython",
    "version": 3
   },
   "file_extension": ".py",
   "mimetype": "text/x-python",
   "name": "python",
   "nbconvert_exporter": "python",
   "pygments_lexer": "ipython3",
   "version": "3.8.5"
  }
 },
 "nbformat": 4,
 "nbformat_minor": 4
}
