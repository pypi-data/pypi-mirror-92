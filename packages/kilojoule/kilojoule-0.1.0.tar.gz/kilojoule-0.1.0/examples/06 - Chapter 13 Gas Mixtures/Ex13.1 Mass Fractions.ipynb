{
 "cells": [
  {
   "cell_type": "markdown",
   "metadata": {},
   "source": [
    "# Example 13.1: Mass Fractions\n",
    "\n",
    "*John F. Maddox, Ph.D., P.E.<br>\n",
    "University of Kentucky - Paducah Campus<br>\n",
    "ME 321: Engineering Thermodynamics II<br>*"
   ]
  },
  {
   "cell_type": "markdown",
   "metadata": {},
   "source": [
    "## Problem Statement\n",
    "Compute the molecular weight of a mixture of 78% $\\mathrm{N}_2$, 21% $\\mathrm{O_2}$, 1% $\\mathrm{Ar}$ (by volume). Convert the mixture description to mass fractions."
   ]
  },
  {
   "cell_type": "markdown",
   "metadata": {},
   "source": [
    "## Solution\n"
   ]
  },
  {
   "cell_type": "markdown",
   "metadata": {},
   "source": [
    "### Python Initialization\n",
    "We'll start by importing the libraries we will use for our analysis and initializing dictionaries to hold the properties we will be usings."
   ]
  },
  {
   "cell_type": "code",
   "execution_count": 1,
   "metadata": {
    "collapsed": false,
    "jupyter": {
     "outputs_hidden": false
    }
   },
   "outputs": [
    {
     "name": "stderr",
     "output_type": "stream",
     "text": [
      "/opt/anaconda/lib/python3.8/site-packages/mpmath/ctx_mp_python.py:892: SyntaxWarning: \"is\" with a literal. Did you mean \"==\"?\n",
      "  if other is 0:\n",
      "/opt/anaconda/lib/python3.8/site-packages/mpmath/ctx_mp_python.py:986: SyntaxWarning: \"is\" with a literal. Did you mean \"==\"?\n",
      "  if other is 0:\n"
     ]
    }
   ],
   "source": [
    "from kilojoule.templates.default import *\n",
    "   \n",
    "N2 =idealgas.Properties('N2')\n",
    "O2 = idealgas.Properties('O2')\n",
    "Ar = idealgas.Properties('Ar')\n",
    "\n",
    "V = Vol\n",
    "y = states.add_property('y','')\n",
    "M = states.add_property('M','kg/kmol')\n",
    "mf = states.add_property('mf','')"
   ]
  },
  {
   "cell_type": "code",
   "execution_count": 2,
   "metadata": {},
   "outputs": [
    {
     "data": {
      "text/markdown": [
       " Volumes"
      ],
      "text/plain": [
       "<IPython.core.display.Markdown object>"
      ]
     },
     "metadata": {},
     "output_type": "display_data"
    },
    {
     "data": {
      "text/latex": [
       "\\[\n",
       "  \\begin{aligned}\n",
       "    { V_{N2} }&={  0.78\\ \\mathrm{m}^{3}  }\n",
       "  \\end{aligned}\n",
       "\\]\n"
      ],
      "text/plain": [
       "<IPython.core.display.Latex object>"
      ]
     },
     "metadata": {},
     "output_type": "display_data"
    },
    {
     "data": {
      "text/latex": [
       "\\[\n",
       "  \\begin{aligned}\n",
       "    { V_{O2} }&={  0.21\\ \\mathrm{m}^{3}  }\n",
       "  \\end{aligned}\n",
       "\\]\n"
      ],
      "text/plain": [
       "<IPython.core.display.Latex object>"
      ]
     },
     "metadata": {},
     "output_type": "display_data"
    },
    {
     "data": {
      "text/latex": [
       "\\[\n",
       "  \\begin{aligned}\n",
       "    { V_{Ar} }&={  0.01\\ \\mathrm{m}^{3}  }\n",
       "  \\end{aligned}\n",
       "\\]\n"
      ],
      "text/plain": [
       "<IPython.core.display.Latex object>"
      ]
     },
     "metadata": {},
     "output_type": "display_data"
    },
    {
     "data": {
      "text/latex": [
       "\\[\n",
       "  \\begin{aligned}{ V_{m} }&={ V_{N2} + V_{O2} + V_{Ar} }\\\\\n",
       "    &={ \\left( 0.78\\ \\mathrm{m}^{3} \\right) + \\left( 0.21\\ \\mathrm{m}^{3} \\right) + \\left( 0.01\\ \\mathrm{m}^{3} \\right) }\\\\\n",
       "    &={  1.0\\ \\mathrm{m}^{3}  }\n",
       "  \\end{aligned}\n",
       "\\]\n"
      ],
      "text/plain": [
       "<IPython.core.display.Latex object>"
      ]
     },
     "metadata": {},
     "output_type": "display_data"
    },
    {
     "data": {
      "text/markdown": [
       " Mole Fractions"
      ],
      "text/plain": [
       "<IPython.core.display.Markdown object>"
      ]
     },
     "metadata": {},
     "output_type": "display_data"
    },
    {
     "data": {
      "text/latex": [
       "\\[\n",
       "  \\begin{aligned}{ y_{i} }&={ \\frac{V_{i}}{V_{m}} }\\\\\n",
       "    &={ \\frac{\\left( 1.0\\ \\mathrm{m}^{3} \\right)}{\\left( 1.0\\ \\mathrm{m}^{3} \\right)} }\\\\\n",
       "    &={  1.0\\  }\n",
       "  \\end{aligned}\n",
       "\\]\n"
      ],
      "text/plain": [
       "<IPython.core.display.Latex object>"
      ]
     },
     "metadata": {},
     "output_type": "display_data"
    },
    {
     "data": {
      "text/markdown": [
       " Apparent Molar Mass"
      ],
      "text/plain": [
       "<IPython.core.display.Markdown object>"
      ]
     },
     "metadata": {},
     "output_type": "display_data"
    },
    {
     "data": {
      "text/markdown": [
       " Mass Fraction Composition"
      ],
      "text/plain": [
       "<IPython.core.display.Markdown object>"
      ]
     },
     "metadata": {},
     "output_type": "display_data"
    },
    {
     "data": {
      "text/latex": [
       "\\[\n",
       "  \\begin{aligned}{ mf_{i} }&={ \\frac{y_{i} M_{i}}{M_{m}} }\\\\\n",
       "    &={ \\frac{\\left( 1.0\\ \\right) \\left( 28.97\\ \\frac{\\mathrm{kg}}{\\mathrm{kmol}} \\right)}{\\left( 28.97\\ \\frac{\\mathrm{kg}}{\\mathrm{kmol}} \\right)} }\\\\\n",
       "    &={  1.0\\  }\n",
       "  \\end{aligned}\n",
       "\\]\n"
      ],
      "text/plain": [
       "<IPython.core.display.Latex object>"
      ]
     },
     "metadata": {},
     "output_type": "display_data"
    },
    {
     "data": {
      "text/html": [
       "<table border=\"1\" class=\"dataframe\">\n",
       "  <thead>\n",
       "    <tr>\n",
       "      <th></th>\n",
       "      <th>Vol</th>\n",
       "      <th>y</th>\n",
       "      <th>mf</th>\n",
       "      <th>M</th>\n",
       "    </tr>\n",
       "    <tr>\n",
       "      <th>unit</th>\n",
       "      <th>m³</th>\n",
       "      <th></th>\n",
       "      <th></th>\n",
       "      <th>kg/kmol</th>\n",
       "    </tr>\n",
       "  </thead>\n",
       "  <tbody>\n",
       "    <tr>\n",
       "      <th>Ar</th>\n",
       "      <td>0.01</td>\n",
       "      <td>0.01</td>\n",
       "      <td>0.013790</td>\n",
       "      <td>39.948000</td>\n",
       "    </tr>\n",
       "    <tr>\n",
       "      <th>N2</th>\n",
       "      <td>0.78</td>\n",
       "      <td>0.78</td>\n",
       "      <td>0.754253</td>\n",
       "      <td>28.013480</td>\n",
       "    </tr>\n",
       "    <tr>\n",
       "      <th>O2</th>\n",
       "      <td>0.21</td>\n",
       "      <td>0.21</td>\n",
       "      <td>0.231957</td>\n",
       "      <td>31.998800</td>\n",
       "    </tr>\n",
       "    <tr>\n",
       "      <th>m</th>\n",
       "      <td>1.00</td>\n",
       "      <td>1.00</td>\n",
       "      <td>1.000000</td>\n",
       "      <td>28.969742</td>\n",
       "    </tr>\n",
       "  </tbody>\n",
       "</table>"
      ],
      "text/plain": [
       "<IPython.core.display.HTML object>"
      ]
     },
     "metadata": {},
     "output_type": "display_data"
    }
   ],
   "source": [
    "# Volumes\n",
    "V['N2'] = Quantity(0.78,'m^3')\n",
    "V['O2'] = Quantity(0.21,'m^3')\n",
    "V['Ar'] = Quantity(0.01,'m^3')\n",
    "V['m'] = V['N2'] + V['O2'] + V['Ar']\n",
    "\n",
    "# Mole Fractions\n",
    "for i in 'N2 O2 Ar m'.split():\n",
    "    y[i] = V[i]/V['m']\n",
    "\n",
    "# Apparent Molar Mass\n",
    "M['N2'] = N2.mm\n",
    "M['O2'] = O2.mm\n",
    "M['Ar'] = Ar.mm\n",
    "M['m'] = sum([y[i]*M[i] for i in 'N2 O2 Ar'.split()])\n",
    "\n",
    "# Mass Fraction Composition\n",
    "for i in 'N2 O2 Ar m'.split():\n",
    "    mf[i] = y[i]*M[i]/M['m']\n",
    "\n",
    "display.Calculations(locals(), comments=True);\n",
    "states.display();"
   ]
  },
  {
   "cell_type": "code",
   "execution_count": null,
   "metadata": {},
   "outputs": [],
   "source": []
  }
 ],
 "metadata": {
  "kernelspec": {
   "display_name": "Python 3",
   "language": "python",
   "name": "python3"
  },
  "language_info": {
   "codemirror_mode": {
    "name": "ipython",
    "version": 3
   },
   "file_extension": ".py",
   "mimetype": "text/x-python",
   "name": "python",
   "nbconvert_exporter": "python",
   "pygments_lexer": "ipython3",
   "version": "3.8.5"
  }
 },
 "nbformat": 4,
 "nbformat_minor": 4
}
