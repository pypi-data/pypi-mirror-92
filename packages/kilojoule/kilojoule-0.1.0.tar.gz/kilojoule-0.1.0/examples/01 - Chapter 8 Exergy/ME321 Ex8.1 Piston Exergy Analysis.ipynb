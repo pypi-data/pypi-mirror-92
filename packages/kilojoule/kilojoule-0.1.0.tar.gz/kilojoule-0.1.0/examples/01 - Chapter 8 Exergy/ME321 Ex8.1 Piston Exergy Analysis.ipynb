{
 "cells": [
  {
   "cell_type": "markdown",
   "metadata": {},
   "source": [
    "# Example 8.1: Piston Exergy Analysis\n",
    "\n",
    "*John F. Maddox, Ph.D., P.E.<br>\n",
    "University of Kentucky - Paducah Campus<br>\n",
    "ME 321: Engineering Thermodynamics II<br>*"
   ]
  },
  {
   "cell_type": "markdown",
   "metadata": {},
   "source": [
    "## Problem Statement\n",
    "The piston cylinder shown below is initially at a state of $T_1=60^\\circ\\text{C}$, $P_1=200\\,\\text{kPa}$.  Heat is added to the system from a $500^\\circ\\text{C}$ reservoir until the final pressure is $400\\,\\text{kPa}$. The mass of the air is $2\\,\\text{kg}$, the spring constant is $1000\\,\\text{kN/m}$, and the cross sectional area of the piston is $A_p=0.1\\,\\mathrm{m^2}$. The piston moves $0.1\\,\\text{m}$ before contacting the linear spring.\n",
    "* (a) How much work is done by the air in the cylinder?\n",
    "* (b) How much heat transfer took place?\n",
    "* (c) What is the entropy generation, $S_{gen}$?\n",
    "* (d) Sketch and label a $T$-$s$ diagram of the air.\n",
    "* (e) How much exergy is stored in the system at the and at the end of the process\n",
    "* (f) What is the change in exergy for the process?\n",
    "* (g) How much exergy was destroyed during the process?\n",
    "* (f) What is the second law efficiency of the process, $\\eta_{II}$?"
   ]
  },
  {
   "cell_type": "markdown",
   "metadata": {},
   "source": [
    "## Solution\n",
    "See the video on Canvas for solution explanation. "
   ]
  },
  {
   "cell_type": "markdown",
   "metadata": {},
   "source": [
    "### Python Initialization\n",
    "We'll start by importing the libraries we will use for our analysis and initializing dictionaries to hold the properties we will be using."
   ]
  },
  {
   "cell_type": "code",
   "execution_count": 7,
   "metadata": {
    "collapsed": false,
    "jupyter": {
     "outputs_hidden": false
    }
   },
   "outputs": [],
   "source": [
    "# Import Template\n",
    "from kilojoule.templates.default import *\n",
    "import numpy as np\n",
    "    \n",
    "air = idealgas.Properties('Air')\n",
    "V=Vol"
   ]
  },
  {
   "cell_type": "markdown",
   "metadata": {},
   "source": [
    "### Given Parameters\n",
    "We now define variables to hold our known values."
   ]
  },
  {
   "cell_type": "code",
   "execution_count": 8,
   "metadata": {
    "collapsed": false,
    "jupyter": {
     "outputs_hidden": false
    }
   },
   "outputs": [
    {
     "data": {
      "text/latex": [
       "\\[\n",
       "  \\begin{aligned}\n",
       "    { T_{0} }&={  20\\ \\mathrm{°C}  }\n",
       "  \\end{aligned}\n",
       "\\]\n"
      ],
      "text/plain": [
       "<IPython.core.display.Latex object>"
      ]
     },
     "metadata": {},
     "output_type": "display_data"
    },
    {
     "data": {
      "text/latex": [
       "\\[\n",
       "  \\begin{aligned}\n",
       "    { p_{0} }&={ \\left( 1\\ \\mathrm{bar} \\right) } = { 100.0\\ \\mathrm{kPa}  }\n",
       "  \\end{aligned}\n",
       "\\]\n"
      ],
      "text/plain": [
       "<IPython.core.display.Latex object>"
      ]
     },
     "metadata": {},
     "output_type": "display_data"
    },
    {
     "data": {
      "text/latex": [
       "\\[\n",
       "  \\begin{aligned}\n",
       "    { T_{1} }&={  60\\ \\mathrm{°C}  }\n",
       "  \\end{aligned}\n",
       "\\]\n"
      ],
      "text/plain": [
       "<IPython.core.display.Latex object>"
      ]
     },
     "metadata": {},
     "output_type": "display_data"
    },
    {
     "data": {
      "text/latex": [
       "\\[\n",
       "  \\begin{aligned}\n",
       "    { p_{1} }&={  200\\ \\mathrm{kPa}  }\n",
       "  \\end{aligned}\n",
       "\\]\n"
      ],
      "text/plain": [
       "<IPython.core.display.Latex object>"
      ]
     },
     "metadata": {},
     "output_type": "display_data"
    },
    {
     "data": {
      "text/latex": [
       "\\[\n",
       "  \\begin{aligned}\n",
       "    { p_{final} }&={  400\\ \\mathrm{kPa}  }\n",
       "  \\end{aligned}\n",
       "\\]\n"
      ],
      "text/plain": [
       "<IPython.core.display.Latex object>"
      ]
     },
     "metadata": {},
     "output_type": "display_data"
    },
    {
     "data": {
      "text/latex": [
       "\\[\n",
       "  \\begin{aligned}\n",
       "    { A_{p} }&={  0.1\\ \\mathrm{m}^{2}  }\n",
       "  \\end{aligned}\n",
       "\\]\n"
      ],
      "text/plain": [
       "<IPython.core.display.Latex object>"
      ]
     },
     "metadata": {},
     "output_type": "display_data"
    },
    {
     "data": {
      "text/latex": [
       "\\[\n",
       "  \\begin{aligned}\n",
       "    { \\Delta{}x }&={  0.1\\ \\mathrm{m}  }\n",
       "  \\end{aligned}\n",
       "\\]\n"
      ],
      "text/plain": [
       "<IPython.core.display.Latex object>"
      ]
     },
     "metadata": {},
     "output_type": "display_data"
    },
    {
     "data": {
      "text/latex": [
       "\\[\n",
       "  \\begin{aligned}\n",
       "    { m }&={  2\\ \\mathrm{kg}  }\n",
       "  \\end{aligned}\n",
       "\\]\n"
      ],
      "text/plain": [
       "<IPython.core.display.Latex object>"
      ]
     },
     "metadata": {},
     "output_type": "display_data"
    },
    {
     "data": {
      "text/latex": [
       "\\[\n",
       "  \\begin{aligned}\n",
       "    { T_{R} }&={  500\\ \\mathrm{°C}  }\n",
       "  \\end{aligned}\n",
       "\\]\n"
      ],
      "text/plain": [
       "<IPython.core.display.Latex object>"
      ]
     },
     "metadata": {},
     "output_type": "display_data"
    },
    {
     "data": {
      "text/latex": [
       "\\[\n",
       "  \\begin{aligned}\n",
       "    { k }&={  1000\\ \\frac{\\mathrm{kN}}{\\mathrm{m}}  }\n",
       "  \\end{aligned}\n",
       "\\]\n"
      ],
      "text/plain": [
       "<IPython.core.display.Latex object>"
      ]
     },
     "metadata": {},
     "output_type": "display_data"
    }
   ],
   "source": [
    "T[0] = Quantity(20,'degC')    # dead state temperature\n",
    "p[0] = Quantity(1,'bar')      # dead state pressure\n",
    "T[1] = Quantity(60,'degC')    # initial temperature\n",
    "p[1] = Quantity(200,'kPa')    # initial pressure\n",
    "p_final = Quantity(400,'kPa') # final pressure\n",
    "A_p = Quantity(0.1,'m^2')     # piston area\n",
    "Delta_x = Quantity(0.1,'m')   # distance between initial state and spring\n",
    "m = Quantity(2,'kg')          # mass\n",
    "T_R = Quantity(500,'degC')    # temperature of heat reservoir\n",
    "k = Quantity(1000,'kN/m')     # spring constant\n",
    "\n",
    "display.Calculations(locals());"
   ]
  },
  {
   "cell_type": "markdown",
   "metadata": {},
   "source": [
    "### Assumptions\n",
    "  - Negligible changes in kinetic energy\n",
    "  - Negligible changes in potential energy\n",
    "  - Isobaric from 1-2\n",
    "  - Spring restrained from 2-3\n",
    "  - Treat air is real fluid"
   ]
  },
  {
   "cell_type": "code",
   "execution_count": 9,
   "metadata": {
    "collapsed": false,
    "jupyter": {
     "outputs_hidden": false
    }
   },
   "outputs": [
    {
     "data": {
      "text/latex": [
       "\\[\n",
       "  \\begin{aligned}\n",
       "    { p_{2} }&={ p_{1} } = { 200\\ \\mathrm{kPa}  }\n",
       "  \\end{aligned}\n",
       "\\]\n"
      ],
      "text/plain": [
       "<IPython.core.display.Latex object>"
      ]
     },
     "metadata": {},
     "output_type": "display_data"
    },
    {
     "data": {
      "text/latex": [
       "\\[\n",
       "  \\begin{aligned}\n",
       "    { p_{3} }&={ p_{final} } = { 400\\ \\mathrm{kPa}  }\n",
       "  \\end{aligned}\n",
       "\\]\n"
      ],
      "text/plain": [
       "<IPython.core.display.Latex object>"
      ]
     },
     "metadata": {},
     "output_type": "display_data"
    }
   ],
   "source": [
    "p[2] = p[1]\n",
    "p[3] = p_final\n",
    "\n",
    "display.Calculations(locals());"
   ]
  },
  {
   "cell_type": "markdown",
   "metadata": {},
   "source": [
    "### (a) How much work is done by the air in the cylinder?\n",
    "Use the property tables to determine $v_1$ using $T_1$ and $p_1$"
   ]
  },
  {
   "cell_type": "code",
   "execution_count": 10,
   "metadata": {
    "collapsed": false,
    "jupyter": {
     "outputs_hidden": false
    }
   },
   "outputs": [
    {
     "data": {
      "text/latex": [
       "\\[\n",
       "  \\begin{aligned}\n",
       "    { v_{1} }&={ air.v(T=T[1],p=p[1]) } = { 0.47816\\ \\frac{\\mathrm{m}^{3}}{\\mathrm{kg}}  }\n",
       "  \\end{aligned}\n",
       "\\]\n"
      ],
      "text/plain": [
       "<IPython.core.display.Latex object>"
      ]
     },
     "metadata": {},
     "output_type": "display_data"
    }
   ],
   "source": [
    "v[1] = air.v(T=T[1], p=p[1])\n",
    "\n",
    "display.Calculations(locals());"
   ]
  },
  {
   "cell_type": "markdown",
   "metadata": {},
   "source": [
    "The initial volume can then be found with the mass and the specific volume"
   ]
  },
  {
   "cell_type": "code",
   "execution_count": 11,
   "metadata": {
    "collapsed": false,
    "jupyter": {
     "outputs_hidden": false
    }
   },
   "outputs": [
    {
     "data": {
      "text/latex": [
       "\\[\n",
       "  \\begin{aligned}{ V_{1} }&={ m v_{1} }\\\\\n",
       "    &={ \\left( 2\\ \\mathrm{kg} \\right) \\left( 0.47816\\ \\frac{\\mathrm{m}^{3}}{\\mathrm{kg}} \\right) }\\\\\n",
       "    &={  0.95632\\ \\mathrm{m}^{3}  }\n",
       "  \\end{aligned}\n",
       "\\]\n"
      ],
      "text/plain": [
       "<IPython.core.display.Latex object>"
      ]
     },
     "metadata": {},
     "output_type": "display_data"
    }
   ],
   "source": [
    "V[1] = m*v[1]\n",
    "\n",
    "display.Calculations(locals());"
   ]
  },
  {
   "cell_type": "markdown",
   "metadata": {},
   "source": [
    "The change in volume for 1 to 2 due to the expansion of the fluid can be calculated with the cross-sectional area of the piston and the space between the piston and the spring"
   ]
  },
  {
   "cell_type": "code",
   "execution_count": 12,
   "metadata": {
    "collapsed": false,
    "jupyter": {
     "outputs_hidden": false
    }
   },
   "outputs": [
    {
     "data": {
      "text/latex": [
       "\\[\n",
       "  \\begin{aligned}{ V_{2} }&={ \\Delta{}x A_{p} + V_{1} }\\\\\n",
       "    &={ \\left( 0.1\\ \\mathrm{m} \\right) \\left( 0.1\\ \\mathrm{m}^{2} \\right) + \\left( 0.95632\\ \\mathrm{m}^{3} \\right) }\\\\\n",
       "    &={  0.96632\\ \\mathrm{m}^{3}  }\n",
       "  \\end{aligned}\n",
       "\\]\n"
      ],
      "text/plain": [
       "<IPython.core.display.Latex object>"
      ]
     },
     "metadata": {},
     "output_type": "display_data"
    }
   ],
   "source": [
    "V[2] = V[1] + Delta_x*A_p\n",
    "\n",
    "display.Calculations(locals());"
   ]
  },
  {
   "cell_type": "markdown",
   "metadata": {},
   "source": [
    "The process from 1 to 2 is isobaric so the boundary work, $W_{1\\to2}=\\int_1^2p\\ dv$, can be evaluated by pulling the pressure (constant) out of the integral"
   ]
  },
  {
   "cell_type": "code",
   "execution_count": 13,
   "metadata": {
    "collapsed": false,
    "jupyter": {
     "outputs_hidden": false
    }
   },
   "outputs": [
    {
     "data": {
      "text/latex": [
       "\\[\n",
       "  \\begin{aligned}{ W_{1\\to2} }&={ p_{1} \\left(V_{2} - V_{1}\\right) }\\\\\n",
       "    &={ \\left( 200\\ \\mathrm{kPa} \\right) \\left(\\left( 0.96632\\ \\mathrm{m}^{3} \\right) - \\left( 0.95632\\ \\mathrm{m}^{3} \\right)\\right) }\\\\\n",
       "    &={  2.0\\ \\mathrm{kJ}  }\n",
       "  \\end{aligned}\n",
       "\\]\n"
      ],
      "text/plain": [
       "<IPython.core.display.Latex object>"
      ]
     },
     "metadata": {},
     "output_type": "display_data"
    }
   ],
   "source": [
    "W_1_to_2 = p[1]*(V[2]-V[1])\n",
    "W_1_to_2 = W_1_to_2.to('kJ') # hide\n",
    "display.Calculations(locals());"
   ]
  },
  {
   "cell_type": "markdown",
   "metadata": {},
   "source": [
    "The spring must provide enough force to support the change in pressure.  So the spring relations can be used to determine the necessary change in volume by solving the following equation for $\\Delta V$\n",
    "$$\\Delta p=\\frac{k}{A^2}\\Delta V$$"
   ]
  },
  {
   "cell_type": "code",
   "execution_count": 14,
   "metadata": {
    "collapsed": false,
    "jupyter": {
     "outputs_hidden": false
    }
   },
   "outputs": [
    {
     "data": {
      "text/latex": [
       "\\[\n",
       "  \\begin{aligned}{ V_{3} }&={ V_{2} + \\frac{A_{p}^{2} \\left(p_{3} - p_{2}\\right)}{k} }\\\\\n",
       "    &={ \\left( 0.96632\\ \\mathrm{m}^{3} \\right) + \\frac{\\left( 0.1\\ \\mathrm{m}^{2} \\right)^{ 2 } \\left(\\left( 400\\ \\mathrm{kPa} \\right) - \\left( 200\\ \\mathrm{kPa} \\right)\\right)}{\\left( 1000\\ \\frac{\\mathrm{kN}}{\\mathrm{m}} \\right)} }\\\\\n",
       "    &={  0.96832\\ \\mathrm{m}^{3}  }\n",
       "  \\end{aligned}\n",
       "\\]\n"
      ],
      "text/plain": [
       "<IPython.core.display.Latex object>"
      ]
     },
     "metadata": {},
     "output_type": "display_data"
    }
   ],
   "source": [
    "V[3] = V[2] + (p[3]-p[2])*A_p**2/k\n",
    "\n",
    "display.Calculations(locals());"
   ]
  },
  {
   "cell_type": "markdown",
   "metadata": {},
   "source": [
    "The work from 2 to 3 is most easily calculated by looking at the area under the curve on the $p$-$V$ diagram.  Recall that the pressure varies linearly with the change in volume for a piston in contact with an ideal spring"
   ]
  },
  {
   "cell_type": "code",
   "execution_count": 15,
   "metadata": {
    "collapsed": false,
    "jupyter": {
     "outputs_hidden": false
    }
   },
   "outputs": [
    {
     "data": {
      "text/latex": [
       "\\[\n",
       "  \\begin{aligned}{ W_{2\\to3} }&={ \\frac{\\left(p_{3} + p_{2}\\right) \\left(V_{3} - V_{2}\\right)}{2} }\\\\\n",
       "    &={ \\frac{\\left(\\left( 400\\ \\mathrm{kPa} \\right) + \\left( 200\\ \\mathrm{kPa} \\right)\\right) \\left(\\left( 0.96832\\ \\mathrm{m}^{3} \\right) - \\left( 0.96632\\ \\mathrm{m}^{3} \\right)\\right)}{ 2 } }\\\\\n",
       "    &={  0.6\\ \\mathrm{kJ}  }\n",
       "  \\end{aligned}\n",
       "\\]\n"
      ],
      "text/plain": [
       "<IPython.core.display.Latex object>"
      ]
     },
     "metadata": {},
     "output_type": "display_data"
    }
   ],
   "source": [
    "W_2_to_3 = (p[3]+p[2])/2*(V[3]-V[2])\n",
    "W_2_to_3 = W_2_to_3.to('kJ') # hide\n",
    "\n",
    "display.Calculations(locals());"
   ]
  },
  {
   "cell_type": "markdown",
   "metadata": {},
   "source": [
    "The total work is then the summation the two processes"
   ]
  },
  {
   "cell_type": "code",
   "execution_count": 16,
   "metadata": {
    "collapsed": false,
    "jupyter": {
     "outputs_hidden": false
    }
   },
   "outputs": [
    {
     "data": {
      "text/latex": [
       "\\[\n",
       "  \\begin{aligned}{ W_{1\\to3} }&={ W_{1\\to2} + W_{2\\to3} }\\\\\n",
       "    &={ \\left( 2.0\\ \\mathrm{kJ} \\right) + \\left( 0.6\\ \\mathrm{kJ} \\right) }\\\\\n",
       "    &={  2.6\\ \\mathrm{kJ}  }\n",
       "  \\end{aligned}\n",
       "\\]\n"
      ],
      "text/plain": [
       "<IPython.core.display.Latex object>"
      ]
     },
     "metadata": {},
     "output_type": "display_data"
    },
    {
     "data": {
      "text/latex": [
       "\\[\n",
       "  \\begin{aligned}\n",
       "    { W_{tot} }&={ W_{1\\to3} } = { 2.6\\ \\mathrm{kJ}  }\n",
       "  \\end{aligned}\n",
       "\\]\n"
      ],
      "text/plain": [
       "<IPython.core.display.Latex object>"
      ]
     },
     "metadata": {},
     "output_type": "display_data"
    }
   ],
   "source": [
    "# Work from 1 to 3\n",
    "W_1_to_3 = W_1_to_2 + W_2_to_3\n",
    "W_tot = W_1_to_3\n",
    "\n",
    "display.Calculations(locals());"
   ]
  },
  {
   "cell_type": "markdown",
   "metadata": {},
   "source": [
    "#### (b) How much heat transfer took place?\n",
    "We need two independent properties at state 3.  We know the pressure and we can find the specific volume from the mass and total volume"
   ]
  },
  {
   "cell_type": "code",
   "execution_count": 17,
   "metadata": {
    "collapsed": false,
    "jupyter": {
     "outputs_hidden": false
    }
   },
   "outputs": [
    {
     "data": {
      "text/latex": [
       "\\[\n",
       "  \\begin{aligned}{ v_{3} }&={ \\frac{V_{3}}{m} }\\\\\n",
       "    &={ \\frac{\\left( 0.96832\\ \\mathrm{m}^{3} \\right)}{\\left( 2\\ \\mathrm{kg} \\right)} }\\\\\n",
       "    &={  0.48416\\ \\frac{\\mathrm{m}^{3}}{\\mathrm{kg}}  }\n",
       "  \\end{aligned}\n",
       "\\]\n"
      ],
      "text/plain": [
       "<IPython.core.display.Latex object>"
      ]
     },
     "metadata": {},
     "output_type": "display_data"
    }
   ],
   "source": [
    "v[3] = V[3]/m\n",
    "\n",
    "display.Calculations(locals());"
   ]
  },
  {
   "cell_type": "markdown",
   "metadata": {},
   "source": [
    "We now have enough information to look up the final temperature and the internal energy at the beginning and the end"
   ]
  },
  {
   "cell_type": "code",
   "execution_count": 18,
   "metadata": {
    "collapsed": false,
    "jupyter": {
     "outputs_hidden": false
    }
   },
   "outputs": [
    {
     "data": {
      "text/latex": [
       "\\[\n",
       "  \\begin{aligned}\n",
       "    { T_{3} }&={ air.T(p=p[3],v=v[3]) } = { 401.51\\ \\mathrm{°C}  }\n",
       "  \\end{aligned}\n",
       "\\]\n"
      ],
      "text/plain": [
       "<IPython.core.display.Latex object>"
      ]
     },
     "metadata": {},
     "output_type": "display_data"
    },
    {
     "data": {
      "text/latex": [
       "\\[\n",
       "  \\begin{aligned}\n",
       "    { u_{1} }&={ air.u(T=T[1],p=p[1]) } = { -64.692\\ \\frac{\\mathrm{kJ}}{\\mathrm{kg}}  }\n",
       "  \\end{aligned}\n",
       "\\]\n"
      ],
      "text/plain": [
       "<IPython.core.display.Latex object>"
      ]
     },
     "metadata": {},
     "output_type": "display_data"
    },
    {
     "data": {
      "text/latex": [
       "\\[\n",
       "  \\begin{aligned}\n",
       "    { u_{3} }&={ air.u(T=T[3],p=p[3]) } = { 190.04\\ \\frac{\\mathrm{kJ}}{\\mathrm{kg}}  }\n",
       "  \\end{aligned}\n",
       "\\]\n"
      ],
      "text/plain": [
       "<IPython.core.display.Latex object>"
      ]
     },
     "metadata": {},
     "output_type": "display_data"
    }
   ],
   "source": [
    "T[3] = air.T(p=p[3],v=v[3])\n",
    "u[1] = air.u(T=T[1],p=p[1])\n",
    "u[3] = air.u(T=T[3],p=p[3])\n",
    "\n",
    "display.Calculations(locals());"
   ]
  },
  {
   "cell_type": "markdown",
   "metadata": {},
   "source": [
    "The first law can be applied from state 1 to state 3 to determine the total heat transfer for the process"
   ]
  },
  {
   "cell_type": "code",
   "execution_count": 19,
   "metadata": {
    "collapsed": false,
    "jupyter": {
     "outputs_hidden": false
    }
   },
   "outputs": [
    {
     "data": {
      "text/latex": [
       "\\[\n",
       "  \\begin{aligned}{ Q_{1\\to3} }&={ m \\left(u_{3} - u_{1}\\right) + W_{1\\to3} }\\\\\n",
       "    &={ \\left( 2\\ \\mathrm{kg} \\right) \\left(\\left( 190.04\\ \\frac{\\mathrm{kJ}}{\\mathrm{kg}} \\right) - \\left( -64.692\\ \\frac{\\mathrm{kJ}}{\\mathrm{kg}} \\right)\\right) + \\left( 2.6\\ \\mathrm{kJ} \\right) }\\\\\n",
       "    &={  512.06\\ \\mathrm{kJ}  }\n",
       "  \\end{aligned}\n",
       "\\]\n"
      ],
      "text/plain": [
       "<IPython.core.display.Latex object>"
      ]
     },
     "metadata": {},
     "output_type": "display_data"
    }
   ],
   "source": [
    "# 1st Law\n",
    "Q_1_to_3 = m*(u[3]-u[1]) + W_1_to_3\n",
    "\n",
    "display.Calculations(locals());"
   ]
  },
  {
   "cell_type": "markdown",
   "metadata": {},
   "source": [
    "#### (c) What is the entropy generation, $S_{gen}$?\n",
    "To apply the 2nd law from 1 to 3, we will need the specific entropies, which we can look up with the same two independent intensive properties as the other properties"
   ]
  },
  {
   "cell_type": "code",
   "execution_count": 20,
   "metadata": {
    "collapsed": false,
    "jupyter": {
     "outputs_hidden": false
    }
   },
   "outputs": [
    {
     "data": {
      "text/latex": [
       "\\[\n",
       "  \\begin{aligned}\n",
       "    { s_{1} }&={ air.s(T=T[1],p=p[1]) } = { 6.6142\\ \\frac{\\mathrm{kJ}}{\\left(\\mathrm{K} \\cdot \\mathrm{kg}\\right)}  }\n",
       "  \\end{aligned}\n",
       "\\]\n"
      ],
      "text/plain": [
       "<IPython.core.display.Latex object>"
      ]
     },
     "metadata": {},
     "output_type": "display_data"
    },
    {
     "data": {
      "text/latex": [
       "\\[\n",
       "  \\begin{aligned}\n",
       "    { s_{3} }&={ air.s(T=T[3],p=p[3]) } = { 7.1416\\ \\frac{\\mathrm{kJ}}{\\left(\\mathrm{K} \\cdot \\mathrm{kg}\\right)}  }\n",
       "  \\end{aligned}\n",
       "\\]\n"
      ],
      "text/plain": [
       "<IPython.core.display.Latex object>"
      ]
     },
     "metadata": {},
     "output_type": "display_data"
    }
   ],
   "source": [
    "# Entropies from property tables\n",
    "s[1] = air.s(T=T[1],p=p[1])\n",
    "s[3] = air.s(T=T[3],p=p[3])\n",
    "\n",
    "display.Calculations(locals());"
   ]
  },
  {
   "cell_type": "markdown",
   "metadata": {},
   "source": [
    "The 2nd law can then be solved for the entropy generation."
   ]
  },
  {
   "cell_type": "code",
   "execution_count": 21,
   "metadata": {
    "collapsed": false,
    "jupyter": {
     "outputs_hidden": false
    }
   },
   "outputs": [
    {
     "data": {
      "text/latex": [
       "\\[\n",
       "  \\begin{aligned}{ S_{gen} }&={ m \\left(s_{3} - s_{1}\\right) - \\frac{Q_{1\\to3}}{T_{R}} }\\\\\n",
       "    &={ \\left( 2\\ \\mathrm{kg} \\right) \\left(\\left( 7.1416\\ \\frac{\\mathrm{kJ}}{\\left(\\mathrm{K} \\cdot \\mathrm{kg}\\right)} \\right) - \\left( 6.6142\\ \\frac{\\mathrm{kJ}}{\\left(\\mathrm{K} \\cdot \\mathrm{kg}\\right)} \\right)\\right) - \\frac{\\left( 512.06\\ \\mathrm{kJ} \\right)}{\\left( 773.15\\ \\mathrm{K} \\right)} }\\\\\n",
       "    &={  0.3925\\ \\frac{\\mathrm{kJ}}{\\mathrm{K}}  }\n",
       "  \\end{aligned}\n",
       "\\]\n"
      ],
      "text/plain": [
       "<IPython.core.display.Latex object>"
      ]
     },
     "metadata": {},
     "output_type": "display_data"
    }
   ],
   "source": [
    "# 2nd Law\n",
    "S_gen = m*(s[3]-s[1]) - Q_1_to_3/T_R.to('K')\n",
    "\n",
    "display.Calculations(locals());"
   ]
  },
  {
   "cell_type": "markdown",
   "metadata": {},
   "source": [
    "#### (d) Sketch a $T$-$s$ diagram of the air"
   ]
  },
  {
   "cell_type": "code",
   "execution_count": 22,
   "metadata": {
    "collapsed": false,
    "jupyter": {
     "outputs_hidden": false
    }
   },
   "outputs": [
    {
     "data": {
      "image/png": "[encoded data removed]",
      "text/plain": [
       "<Figure size 1200x800 with 1 Axes>"
      ]
     },
     "metadata": {
      "needs_background": "light"
     },
     "output_type": "display_data"
    }
   ],
   "source": [
    "# Still need to find T[2] and s[2]\n",
    "v[2] = V[2]/m\n",
    "T[2] = air.T(p=p[2], v=v[2])\n",
    "s[2] = air.s(p=p[2], v=v[2])\n",
    "\n",
    "# Plot T-s diagram\n",
    "Ts = air.Ts_diagram(unit_system='SI_K')\n",
    "Ts.plot_state(states[1])\n",
    "Ts.plot_state(states[2])\n",
    "Ts.plot_state(states[3])\n",
    "Ts.plot_process(states[1],states[2],path='isobaric')\n",
    "Ts.plot_process(states[2],states[3],path='unknown');"
   ]
  },
  {
   "cell_type": "markdown",
   "metadata": {},
   "source": [
    "#### (e) How much exergy is stored in the system at the end of the process?\n",
    "The dead state properties are the properties the fluid would have if it were allowed to reach equilibrium with the surroundings, i.e. $T_0$ and $p_0$"
   ]
  },
  {
   "cell_type": "code",
   "execution_count": 23,
   "metadata": {
    "collapsed": false,
    "jupyter": {
     "outputs_hidden": false
    }
   },
   "outputs": [
    {
     "data": {
      "text/latex": [
       "\\[\n",
       "  \\begin{aligned}\n",
       "    { v_{0} }&={ air.v(T=T[0],p=p[0]) } = { 0.84149\\ \\frac{\\mathrm{m}^{3}}{\\mathrm{kg}}  }\n",
       "  \\end{aligned}\n",
       "\\]\n"
      ],
      "text/plain": [
       "<IPython.core.display.Latex object>"
      ]
     },
     "metadata": {},
     "output_type": "display_data"
    },
    {
     "data": {
      "text/latex": [
       "\\[\n",
       "  \\begin{aligned}{ V_{0} }&={ m v_{0} }\\\\\n",
       "    &={ \\left( 2\\ \\mathrm{kg} \\right) \\left( 0.84149\\ \\frac{\\mathrm{m}^{3}}{\\mathrm{kg}} \\right) }\\\\\n",
       "    &={  1.683\\ \\mathrm{m}^{3}  }\n",
       "  \\end{aligned}\n",
       "\\]\n"
      ],
      "text/plain": [
       "<IPython.core.display.Latex object>"
      ]
     },
     "metadata": {},
     "output_type": "display_data"
    },
    {
     "data": {
      "text/latex": [
       "\\[\n",
       "  \\begin{aligned}\n",
       "    { u_{0} }&={ air.u(T=T[0],p=p[0]) } = { -93.438\\ \\frac{\\mathrm{kJ}}{\\mathrm{kg}}  }\n",
       "  \\end{aligned}\n",
       "\\]\n"
      ],
      "text/plain": [
       "<IPython.core.display.Latex object>"
      ]
     },
     "metadata": {},
     "output_type": "display_data"
    },
    {
     "data": {
      "text/latex": [
       "\\[\n",
       "  \\begin{aligned}\n",
       "    { s_{0} }&={ air.s(T=T[0],p=p[0]) } = { 6.6845\\ \\frac{\\mathrm{kJ}}{\\left(\\mathrm{K} \\cdot \\mathrm{kg}\\right)}  }\n",
       "  \\end{aligned}\n",
       "\\]\n"
      ],
      "text/plain": [
       "<IPython.core.display.Latex object>"
      ]
     },
     "metadata": {},
     "output_type": "display_data"
    }
   ],
   "source": [
    "# Need dead state properties\n",
    "deadstate = {'T':T[0], 'p':p[0]}\n",
    "v[0] = air.v(T=T[0], p=p[0])\n",
    "V[0] = m*v[0]\n",
    "u[0] = air.u(T=T[0], p=p[0])\n",
    "s[0] = air.s(T=T[0], p=p[0])\n",
    "\n",
    "display.Calculations(locals());"
   ]
  },
  {
   "cell_type": "markdown",
   "metadata": {},
   "source": [
    "The exergy at state 3 is then defined as the potential for the fluid to do work relative to the dead state"
   ]
  },
  {
   "cell_type": "code",
   "execution_count": 25,
   "metadata": {
    "collapsed": false,
    "jupyter": {
     "outputs_hidden": false
    }
   },
   "outputs": [
    {
     "data": {
      "text/latex": [
       "\\[\n",
       "  \\begin{aligned}{ X_{3} }&={ - T_{0} m \\left(s_{3} - s_{0}\\right) + m \\left(u_{3} - u_{0}\\right) + p_{0} \\left(V_{3} - V_{0}\\right) }\\\\\n",
       "    &={ - \\left( 293.15\\ \\mathrm{K} \\right) \\left( 2\\ \\mathrm{kg} \\right) \\left(\\left( 7.1416\\ \\frac{\\mathrm{kJ}}{\\left(\\mathrm{K} \\cdot \\mathrm{kg}\\right)} \\right) - \\left( 6.6845\\ \\frac{\\mathrm{kJ}}{\\left(\\mathrm{K} \\cdot \\mathrm{kg}\\right)} \\right)\\right) + \\left( 2\\ \\mathrm{kg} \\right) \\left(\\left( 190.04\\ \\frac{\\mathrm{kJ}}{\\mathrm{kg}} \\right) - \\left( -93.438\\ \\frac{\\mathrm{kJ}}{\\mathrm{kg}} \\right)\\right) + \\left( 100.0\\ \\mathrm{kPa} \\right) \\left(\\left( 0.96832\\ \\mathrm{m}^{3} \\right) - \\left( 1.683\\ \\mathrm{m}^{3} \\right)\\right) }\\\\\n",
       "    &={  227.51\\ \\mathrm{kJ}  }\n",
       "  \\end{aligned}\n",
       "\\]\n"
      ],
      "text/plain": [
       "<IPython.core.display.Latex object>"
      ]
     },
     "metadata": {},
     "output_type": "display_data"
    }
   ],
   "source": [
    "# Exergy at 3\n",
    "X[3] = m*(u[3]-u[0]) + p[0]*(V[3]-V[0]) - T[0].to('K')*m*(s[3]-s[0])\n",
    "\n",
    "display.Calculations(locals());"
   ]
  },
  {
   "cell_type": "markdown",
   "metadata": {},
   "source": [
    "#### (f) What is the change in exergy for the process\n",
    "We can use the same method to caluclate the exergy at the beginning of the process"
   ]
  },
  {
   "cell_type": "code",
   "execution_count": 26,
   "metadata": {
    "collapsed": false,
    "jupyter": {
     "outputs_hidden": false
    }
   },
   "outputs": [
    {
     "data": {
      "text/latex": [
       "\\[\n",
       "  \\begin{aligned}{ X_{1} }&={ - T_{0} m \\left(s_{1} - s_{0}\\right) + m \\left(u_{1} - u_{0}\\right) + p_{0} \\left(V_{1} - V_{0}\\right) }\\\\\n",
       "    &={ - \\left( 293.15\\ \\mathrm{K} \\right) \\left( 2\\ \\mathrm{kg} \\right) \\left(\\left( 6.6142\\ \\frac{\\mathrm{kJ}}{\\left(\\mathrm{K} \\cdot \\mathrm{kg}\\right)} \\right) - \\left( 6.6845\\ \\frac{\\mathrm{kJ}}{\\left(\\mathrm{K} \\cdot \\mathrm{kg}\\right)} \\right)\\right) + \\left( 2\\ \\mathrm{kg} \\right) \\left(\\left( -64.692\\ \\frac{\\mathrm{kJ}}{\\mathrm{kg}} \\right) - \\left( -93.438\\ \\frac{\\mathrm{kJ}}{\\mathrm{kg}} \\right)\\right) + \\left( 100.0\\ \\mathrm{kPa} \\right) \\left(\\left( 0.95632\\ \\mathrm{m}^{3} \\right) - \\left( 1.683\\ \\mathrm{m}^{3} \\right)\\right) }\\\\\n",
       "    &={  26.062\\ \\mathrm{kJ}  }\n",
       "  \\end{aligned}\n",
       "\\]\n"
      ],
      "text/plain": [
       "<IPython.core.display.Latex object>"
      ]
     },
     "metadata": {},
     "output_type": "display_data"
    }
   ],
   "source": [
    "# Exergy at 1\n",
    "X[1] = m*(u[1]-u[0]) + p[0]*(V[1]-V[0]) - T[0].to('K')*m*(s[1]-s[0])\n",
    "\n",
    "display.Calculations(locals());"
   ]
  },
  {
   "cell_type": "markdown",
   "metadata": {},
   "source": [
    "Then the change in exergy of the process is simply the difference between the two states"
   ]
  },
  {
   "cell_type": "code",
   "execution_count": 27,
   "metadata": {
    "collapsed": false,
    "jupyter": {
     "outputs_hidden": false
    }
   },
   "outputs": [
    {
     "data": {
      "text/latex": [
       "\\[\n",
       "  \\begin{aligned}{ \\Delta{}X_{1\\to3} }&={ X_{3} - X_{1} }\\\\\n",
       "    &={ \\left( 227.51\\ \\mathrm{kJ} \\right) - \\left( 26.062\\ \\mathrm{kJ} \\right) }\\\\\n",
       "    &={  201.45\\ \\mathrm{kJ}  }\n",
       "  \\end{aligned}\n",
       "\\]\n"
      ],
      "text/plain": [
       "<IPython.core.display.Latex object>"
      ]
     },
     "metadata": {},
     "output_type": "display_data"
    }
   ],
   "source": [
    "# Change in Exergy\n",
    "Delta_X_1_to_3 = X[3]-X[1]\n",
    "\n",
    "display.Calculations(locals());"
   ]
  },
  {
   "cell_type": "markdown",
   "metadata": {},
   "source": [
    "#### (g) How much exergy was destroyed during the process?\n",
    "The exergy destruction can always be calculated as $T_0\\cdot S_{gen}$"
   ]
  },
  {
   "cell_type": "code",
   "execution_count": 29,
   "metadata": {
    "collapsed": false,
    "jupyter": {
     "outputs_hidden": false
    }
   },
   "outputs": [
    {
     "data": {
      "text/latex": [
       "\\[\n",
       "  \\begin{aligned}{ X_{d} }&={ T_{0} S_{gen} }\\\\\n",
       "    &={ \\left( 293.15\\ \\mathrm{K} \\right) \\left( 0.3925\\ \\frac{\\mathrm{kJ}}{\\mathrm{K}} \\right) }\\\\\n",
       "    &={  115.06\\ \\mathrm{kJ}  }\n",
       "  \\end{aligned}\n",
       "\\]\n"
      ],
      "text/plain": [
       "<IPython.core.display.Latex object>"
      ]
     },
     "metadata": {},
     "output_type": "display_data"
    }
   ],
   "source": [
    "# Exergy destruction\n",
    "X_d = T[0].to('K')*S_gen\n",
    "\n",
    "display.Calculations(locals());"
   ]
  },
  {
   "cell_type": "markdown",
   "metadata": {},
   "source": [
    "#### (f) Second Law Efficiency\n",
    "The second law efficiency is defined as the ratio of the recovered exergy to the expended exergy,\n",
    "\\[\\eta_{II} = \\frac{X_{recovered}}{X_{expended}}=1-\\frac{X_{destroyed}}{X_{expended}}\\]\n",
    "We already know the exergy destruction, so we just need to find the expended exergy.  \n",
    "\n",
    "In this case, the heat that was transferred to the system from the hot reservoir could have been used for some other purpose, such as to power a heat engine.  So the expended exergy for this process is the decrease in potential of the reservoir.  Since we are treating the reservoir as being constant temperature, we can't calculate a change in property of the reservoir, but we can calculate the amount of exergy the left the reservior through heat transfer."
   ]
  },
  {
   "cell_type": "code",
   "execution_count": 30,
   "metadata": {
    "collapsed": false,
    "jupyter": {
     "outputs_hidden": false
    }
   },
   "outputs": [
    {
     "data": {
      "text/latex": [
       "\\[\n",
       "  \\begin{aligned}{ X_{exp} }&={ Q_{1\\to3} \\left(1 - \\frac{T_{0}}{T_{R}}\\right) }\\\\\n",
       "    &={ \\left( 512.06\\ \\mathrm{kJ} \\right) \\left( 1  - \\frac{\\left( 293.15\\ \\mathrm{K} \\right)}{\\left( 773.15\\ \\mathrm{K} \\right)}\\right) }\\\\\n",
       "    &={  317.91\\ \\mathrm{kJ}  }\n",
       "  \\end{aligned}\n",
       "\\]\n"
      ],
      "text/plain": [
       "<IPython.core.display.Latex object>"
      ]
     },
     "metadata": {},
     "output_type": "display_data"
    }
   ],
   "source": [
    "# Exergy expended is due to heat transfer from the high temperature reservoir\n",
    "X_exp = (1 - T[0].to('K')/T_R.to('K'))*Q_1_to_3\n",
    "\n",
    "display.Calculations(locals());"
   ]
  },
  {
   "cell_type": "markdown",
   "metadata": {},
   "source": [
    "Finally then second law efficiency can be calculated"
   ]
  },
  {
   "cell_type": "code",
   "execution_count": 31,
   "metadata": {
    "collapsed": false,
    "jupyter": {
     "outputs_hidden": false
    }
   },
   "outputs": [
    {
     "data": {
      "text/latex": [
       "\\[\n",
       "  \\begin{aligned}{ \\eta_{II} }&={ 1 - \\frac{X_{d}}{X_{exp}} }\\\\\n",
       "    &={  1  - \\frac{\\left( 115.06\\ \\mathrm{kJ} \\right)}{\\left( 317.91\\ \\mathrm{kJ} \\right)} }\\\\\n",
       "    &={  0.63807\\  }\n",
       "  \\end{aligned}\n",
       "\\]\n"
      ],
      "text/plain": [
       "<IPython.core.display.Latex object>"
      ]
     },
     "metadata": {},
     "output_type": "display_data"
    }
   ],
   "source": [
    "# Second Law Efficiency\n",
    "eta_II = 1 - X_d/X_exp\n",
    "\n",
    "display.Calculations(locals());"
   ]
  },
  {
   "cell_type": "markdown",
   "metadata": {},
   "source": [
    "#### Summary of Results"
   ]
  },
  {
   "cell_type": "code",
   "execution_count": 32,
   "metadata": {
    "collapsed": false,
    "jupyter": {
     "outputs_hidden": false
    }
   },
   "outputs": [
    {
     "data": {
      "text/latex": [
       "\\[\\begin{aligned}{ A_{p} }&={  0.1\\ \\mathrm{m}^{2}  }&{ \\Delta X_{1 to 3} }&={  201.45\\ \\mathrm{kJ}  }&{ \\Delta x }&={  0.1\\ \\mathrm{m}  }\\\\{ Q_{1 to 3} }&={  512.06\\ \\mathrm{kJ}  }&{ S_{gen} }&={  0.3925\\ \\frac{\\mathrm{kJ}}{\\mathrm{K}}  }&{ T_{R} }&={  500\\ \\mathrm{°C}  }\\\\{ W_{1 to 2} }&={  2.0\\ \\mathrm{kJ}  }&{ W_{1 to 3} }&={  2.6\\ \\mathrm{kJ}  }&{ W_{2 to 3} }&={  0.6\\ \\mathrm{kJ}  }\\\\{ W_{tot} }&={  2.6\\ \\mathrm{kJ}  }&{ X_{d} }&={  115.06\\ \\mathrm{kJ}  }&{ X_{exp} }&={  317.91\\ \\mathrm{kJ}  }\\\\{ \\eta_{II} }&={  0.63807\\  }&{ k }&={  1000\\ \\frac{\\mathrm{kN}}{\\mathrm{m}}  }&{ m }&={  2\\ \\mathrm{kg}  }\\\\{ p_{final} }&={  400\\ \\mathrm{kPa}  }&{  }\\end{aligned}\\]"
      ],
      "text/plain": [
       "<IPython.core.display.Latex object>"
      ]
     },
     "metadata": {},
     "output_type": "display_data"
    },
    {
     "data": {
      "text/html": [
       "<table border=\"1\" class=\"dataframe\">\n",
       "  <thead>\n",
       "    <tr>\n",
       "      <th></th>\n",
       "      <th>T</th>\n",
       "      <th>p</th>\n",
       "      <th>v</th>\n",
       "      <th>u</th>\n",
       "      <th>s</th>\n",
       "      <th>Vol</th>\n",
       "      <th>X</th>\n",
       "    </tr>\n",
       "    <tr>\n",
       "      <th>unit</th>\n",
       "      <th>°C</th>\n",
       "      <th>kPa</th>\n",
       "      <th>m³/kg</th>\n",
       "      <th>kJ/kg</th>\n",
       "      <th>kJ/K/kg</th>\n",
       "      <th>m³</th>\n",
       "      <th>kJ</th>\n",
       "    </tr>\n",
       "  </thead>\n",
       "  <tbody>\n",
       "    <tr>\n",
       "      <th>0</th>\n",
       "      <td>20.000000</td>\n",
       "      <td>100.0</td>\n",
       "      <td>0.841495</td>\n",
       "      <td>-93.4384</td>\n",
       "      <td>6.684495</td>\n",
       "      <td>1.682989</td>\n",
       "      <td>-</td>\n",
       "    </tr>\n",
       "    <tr>\n",
       "      <th>1</th>\n",
       "      <td>60.000000</td>\n",
       "      <td>200.0</td>\n",
       "      <td>0.478158</td>\n",
       "      <td>-64.6923</td>\n",
       "      <td>6.614160</td>\n",
       "      <td>0.956316</td>\n",
       "      <td>26.0624</td>\n",
       "    </tr>\n",
       "    <tr>\n",
       "      <th>2</th>\n",
       "      <td>63.483571</td>\n",
       "      <td>200.0</td>\n",
       "      <td>0.483158</td>\n",
       "      <td>-</td>\n",
       "      <td>6.624638</td>\n",
       "      <td>0.966316</td>\n",
       "      <td>-</td>\n",
       "    </tr>\n",
       "    <tr>\n",
       "      <th>3</th>\n",
       "      <td>401.510614</td>\n",
       "      <td>400.0</td>\n",
       "      <td>0.484158</td>\n",
       "      <td>190.039</td>\n",
       "      <td>7.141563</td>\n",
       "      <td>0.968316</td>\n",
       "      <td>227.508</td>\n",
       "    </tr>\n",
       "  </tbody>\n",
       "</table>"
      ],
      "text/plain": [
       "<IPython.core.display.HTML object>"
      ]
     },
     "metadata": {},
     "output_type": "display_data"
    }
   ],
   "source": [
    "display.Summary(locals());"
   ]
  },
  {
   "cell_type": "code",
   "execution_count": null,
   "metadata": {
    "collapsed": false,
    "jupyter": {
     "outputs_hidden": false
    }
   },
   "outputs": [],
   "source": []
  }
 ],
 "metadata": {
  "kernelspec": {
   "display_name": "Python 3",
   "language": "python",
   "name": "python3"
  },
  "language_info": {
   "codemirror_mode": {
    "name": "ipython",
    "version": 3
   },
   "file_extension": ".py",
   "mimetype": "text/x-python",
   "name": "python",
   "nbconvert_exporter": "python",
   "pygments_lexer": "ipython3",
   "version": "3.8.5"
  }
 },
 "nbformat": 4,
 "nbformat_minor": 4
}
