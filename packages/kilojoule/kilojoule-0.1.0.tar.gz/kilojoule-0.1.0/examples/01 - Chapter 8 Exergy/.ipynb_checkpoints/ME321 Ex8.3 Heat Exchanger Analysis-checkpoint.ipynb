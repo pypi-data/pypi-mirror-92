{
 "cells": [
  {
   "cell_type": "markdown",
   "metadata": {},
   "source": [
    "# Example 8.3: Heat Exchanger Exergy Analysis\n",
    "\n",
    "*John F. Maddox, Ph.D., P.E.<br>\n",
    "University of Kentucky - Paducah Campus<br>\n",
    "ME 321: Engineering Thermodynamics II<br>*\n",
    "\n",
    "\n"
   ]
  },
  {
   "cell_type": "markdown",
   "metadata": {},
   "source": [
    "## Problem Statement\n",
    "A non-mixing heat exchanger is used to cool 20 kg/s of hot air from 500 K to 300 K using a supply of liquid water at $10^\\circ\\text{C}$.  The exit temperature of the water is $5^\\circ\\text{C}$ hotter than its inlet temperature.  The ambient temperature and pressure are $T_0=20^\\circ\\text{C}$ and $p_0=1\\,\\text{bar}$.\n",
    "\n",
    "Determine:\n",
    "* (a) The mass flow rate of the water, $\\text{kg/s}$\n",
    "* (b) The rate of heat transfer, $\\text{kW}$\n",
    "* (c) The entropy generation, $\\text{kW/K}$\n",
    "* (d) The exergy destruction, $\\text{kW}$\n",
    "* (e) The second law efficiency\n",
    "* (f) The second law efficiency if the cooling water entered at $20^\\circ\\text{C}$ instead of $10^\\circ\\text{C}$\n"
   ]
  },
  {
   "cell_type": "markdown",
   "metadata": {},
   "source": [
    "## Solution\n"
   ]
  },
  {
   "cell_type": "markdown",
   "metadata": {},
   "source": [
    "### Python Initialization\n",
    "We'll start by importing the libraries we will use for our analysis and initializing dictionaries to hold the properties we will be usings."
   ]
  },
  {
   "cell_type": "code",
   "execution_count": 1,
   "metadata": {
    "collapsed": false,
    "jupyter": {
     "outputs_hidden": false
    }
   },
   "outputs": [
    {
     "name": "stderr",
     "output_type": "stream",
     "text": [
      "/opt/anaconda/lib/python3.8/site-packages/mpmath/ctx_mp_python.py:892: SyntaxWarning: \"is\" with a literal. Did you mean \"==\"?\n",
      "  if other is 0:\n",
      "/opt/anaconda/lib/python3.8/site-packages/mpmath/ctx_mp_python.py:986: SyntaxWarning: \"is\" with a literal. Did you mean \"==\"?\n",
      "  if other is 0:\n"
     ]
    }
   ],
   "source": [
    "from kilojoule.templates.default import *\n",
    "\n",
    "air = idealgas.Properties('Air', unit_system='SI_C')\n",
    "water = realfluid.Properties('Water', unit_system='SI_C')"
   ]
  },
  {
   "cell_type": "markdown",
   "metadata": {},
   "source": [
    "### Given Parameters\n",
    "We now define variables to hold our known values."
   ]
  },
  {
   "cell_type": "code",
   "execution_count": 2,
   "metadata": {
    "collapsed": false,
    "jupyter": {
     "outputs_hidden": false
    }
   },
   "outputs": [
    {
     "data": {
      "text/latex": [
       "\\[\n",
       "  \\begin{aligned}\n",
       "    { T_{0} }&={  20\\ \\mathrm{°C}  }\n",
       "  \\end{aligned}\n",
       "\\]\n"
      ],
      "text/plain": [
       "<IPython.core.display.Latex object>"
      ]
     },
     "metadata": {},
     "output_type": "display_data"
    },
    {
     "data": {
      "text/latex": [
       "\\[\n",
       "  \\begin{aligned}\n",
       "    { p_{0} }&={ \\left( 1\\ \\mathrm{bar} \\right) } = { 100.0\\ \\mathrm{kPa}  }\n",
       "  \\end{aligned}\n",
       "\\]\n"
      ],
      "text/plain": [
       "<IPython.core.display.Latex object>"
      ]
     },
     "metadata": {},
     "output_type": "display_data"
    },
    {
     "data": {
      "text/latex": [
       "\\[\n",
       "  \\begin{aligned}\n",
       "    { T_{1} }&={ \\left( 500\\ \\mathrm{K} \\right) } = { 226.85\\ \\mathrm{°C}  }\n",
       "  \\end{aligned}\n",
       "\\]\n"
      ],
      "text/plain": [
       "<IPython.core.display.Latex object>"
      ]
     },
     "metadata": {},
     "output_type": "display_data"
    },
    {
     "data": {
      "text/latex": [
       "\\[\n",
       "  \\begin{aligned}\n",
       "    { T_{2} }&={ \\left( 300\\ \\mathrm{K} \\right) } = { 26.85\\ \\mathrm{°C}  }\n",
       "  \\end{aligned}\n",
       "\\]\n"
      ],
      "text/plain": [
       "<IPython.core.display.Latex object>"
      ]
     },
     "metadata": {},
     "output_type": "display_data"
    },
    {
     "data": {
      "text/latex": [
       "\\[\n",
       "  \\begin{aligned}\n",
       "    { T_{3} }&={  10\\ \\mathrm{°C}  }\n",
       "  \\end{aligned}\n",
       "\\]\n"
      ],
      "text/plain": [
       "<IPython.core.display.Latex object>"
      ]
     },
     "metadata": {},
     "output_type": "display_data"
    },
    {
     "data": {
      "text/latex": [
       "\\[\n",
       "  \\begin{aligned}\n",
       "    { T_{4} }&={  15\\ \\mathrm{°C}  }\n",
       "  \\end{aligned}\n",
       "\\]\n"
      ],
      "text/plain": [
       "<IPython.core.display.Latex object>"
      ]
     },
     "metadata": {},
     "output_type": "display_data"
    },
    {
     "data": {
      "text/latex": [
       "\\[\n",
       "  \\begin{aligned}\n",
       "    { \\dot{m}_{1} }&={  20\\ \\frac{\\mathrm{kg}}{\\mathrm{s}}  }\n",
       "  \\end{aligned}\n",
       "\\]\n"
      ],
      "text/plain": [
       "<IPython.core.display.Latex object>"
      ]
     },
     "metadata": {},
     "output_type": "display_data"
    },
    {
     "data": {
      "text/latex": [
       "\\[\n",
       "  \\begin{aligned}\n",
       "    { \\dot{m}_{2} }&={ \\dot{m}_{1} } = { 20\\ \\frac{\\mathrm{kg}}{\\mathrm{s}}  }\n",
       "  \\end{aligned}\n",
       "\\]\n"
      ],
      "text/plain": [
       "<IPython.core.display.Latex object>"
      ]
     },
     "metadata": {},
     "output_type": "display_data"
    },
    {
     "data": {
      "text/latex": [
       "\\[\n",
       "  \\begin{aligned}\n",
       "    { p_{1} }&={ p_{0} } = { 100.0\\ \\mathrm{kPa}  }\n",
       "  \\end{aligned}\n",
       "\\]\n"
      ],
      "text/plain": [
       "<IPython.core.display.Latex object>"
      ]
     },
     "metadata": {},
     "output_type": "display_data"
    },
    {
     "data": {
      "text/latex": [
       "\\[\n",
       "  \\begin{aligned}\n",
       "    { p_{2} }&={ p_{1} } = { 100.0\\ \\mathrm{kPa}  }\n",
       "  \\end{aligned}\n",
       "\\]\n"
      ],
      "text/plain": [
       "<IPython.core.display.Latex object>"
      ]
     },
     "metadata": {},
     "output_type": "display_data"
    },
    {
     "data": {
      "text/latex": [
       "\\[\n",
       "  \\begin{aligned}\n",
       "    { p_{3} }&={ p_{0} } = { 100.0\\ \\mathrm{kPa}  }\n",
       "  \\end{aligned}\n",
       "\\]\n"
      ],
      "text/plain": [
       "<IPython.core.display.Latex object>"
      ]
     },
     "metadata": {},
     "output_type": "display_data"
    },
    {
     "data": {
      "text/latex": [
       "\\[\n",
       "  \\begin{aligned}\n",
       "    { p_{4} }&={ p_{3} } = { 100.0\\ \\mathrm{kPa}  }\n",
       "  \\end{aligned}\n",
       "\\]\n"
      ],
      "text/plain": [
       "<IPython.core.display.Latex object>"
      ]
     },
     "metadata": {},
     "output_type": "display_data"
    }
   ],
   "source": [
    "T[0] = Quantity(20,'degC')\n",
    "p[0] = Quantity(1,'bar')\n",
    "T[1] = Quantity(500,'K')\n",
    "T[2] = Quantity(300,'K')\n",
    "T[3] = Quantity(10,'degC')\n",
    "T[4] = Quantity(15,'degC')\n",
    "mdot[1] = Quantity(20,'kg/s')\n",
    "mdot[2] = mdot[1]\n",
    "p[1] = p[0]\n",
    "p[2] = p[1]\n",
    "p[3] = p[0]\n",
    "p[4] = p[3]\n",
    "\n",
    "display.Calculations(locals(),comments=True);"
   ]
  },
  {
   "cell_type": "markdown",
   "metadata": {},
   "source": [
    "### Assumptions\n",
    "  - Negligible changes in kinetic energy\n",
    "  - Negligible changes in potential energy"
   ]
  },
  {
   "cell_type": "markdown",
   "metadata": {},
   "source": [
    "#### (a) mass flow rate of water"
   ]
  },
  {
   "cell_type": "code",
   "execution_count": 3,
   "metadata": {
    "collapsed": false,
    "jupyter": {
     "outputs_hidden": false
    }
   },
   "outputs": [
    {
     "data": {
      "text/latex": [
       "\\[\n",
       "  \\begin{aligned}\n",
       "    { h_{1} }&={ air.h(T=T[1],p=p[1]) } = { 200.64\\ \\frac{\\mathrm{kJ}}{\\mathrm{kg}}  }\n",
       "  \\end{aligned}\n",
       "\\]\n"
      ],
      "text/plain": [
       "<IPython.core.display.Latex object>"
      ]
     },
     "metadata": {},
     "output_type": "display_data"
    },
    {
     "data": {
      "text/latex": [
       "\\[\n",
       "  \\begin{aligned}\n",
       "    { h_{2} }&={ air.h(T=T[2],p=p[2]) } = { -2.4071\\ \\frac{\\mathrm{kJ}}{\\mathrm{kg}}  }\n",
       "  \\end{aligned}\n",
       "\\]\n"
      ],
      "text/plain": [
       "<IPython.core.display.Latex object>"
      ]
     },
     "metadata": {},
     "output_type": "display_data"
    },
    {
     "data": {
      "text/latex": [
       "\\[\n",
       "  \\begin{aligned}\n",
       "    { h_{3} }&={ water.h(T=T[3],p=p[3]) } = { 42.118\\ \\frac{\\mathrm{kJ}}{\\mathrm{kg}}  }\n",
       "  \\end{aligned}\n",
       "\\]\n"
      ],
      "text/plain": [
       "<IPython.core.display.Latex object>"
      ]
     },
     "metadata": {},
     "output_type": "display_data"
    },
    {
     "data": {
      "text/latex": [
       "\\[\n",
       "  \\begin{aligned}\n",
       "    { h_{4} }&={ water.h(T=T[4],p=p[4]) } = { 63.076\\ \\frac{\\mathrm{kJ}}{\\mathrm{kg}}  }\n",
       "  \\end{aligned}\n",
       "\\]\n"
      ],
      "text/plain": [
       "<IPython.core.display.Latex object>"
      ]
     },
     "metadata": {},
     "output_type": "display_data"
    },
    {
     "data": {
      "text/markdown": [
       " The First Law can be used can be used to determine the mass flow rate"
      ],
      "text/plain": [
       "<IPython.core.display.Markdown object>"
      ]
     },
     "metadata": {},
     "output_type": "display_data"
    },
    {
     "data": {
      "text/latex": [
       "\\[\n",
       "  \\begin{aligned}{ \\dot{m}_{3} }&={ \\frac{\\dot{m}_{1} \\left(h_{2} - h_{1}\\right)}{h_{3} - h_{4}} }\\\\\n",
       "    &={ \\frac{\\left( 20\\ \\frac{\\mathrm{kg}}{\\mathrm{s}} \\right) \\left(\\left( -2.4071\\ \\frac{\\mathrm{kJ}}{\\mathrm{kg}} \\right) - \\left( 200.64\\ \\frac{\\mathrm{kJ}}{\\mathrm{kg}} \\right)\\right)}{\\left( 42.118\\ \\frac{\\mathrm{kJ}}{\\mathrm{kg}} \\right) - \\left( 63.076\\ \\frac{\\mathrm{kJ}}{\\mathrm{kg}} \\right)} }\\\\\n",
       "    &={  193.77\\ \\frac{\\mathrm{kg}}{\\mathrm{s}}  }\n",
       "  \\end{aligned}\n",
       "\\]\n"
      ],
      "text/plain": [
       "<IPython.core.display.Latex object>"
      ]
     },
     "metadata": {},
     "output_type": "display_data"
    },
    {
     "data": {
      "text/latex": [
       "\\[\n",
       "  \\begin{aligned}\n",
       "    { \\dot{m}_{4} }&={ \\dot{m}_{1} } = { 20\\ \\frac{\\mathrm{kg}}{\\mathrm{s}}  }\n",
       "  \\end{aligned}\n",
       "\\]\n"
      ],
      "text/plain": [
       "<IPython.core.display.Latex object>"
      ]
     },
     "metadata": {},
     "output_type": "display_data"
    },
    {
     "data": {
      "text/latex": [
       "\\[\n",
       "  \\begin{aligned}\n",
       "    { \\dot{m}_{water} }&={ \\dot{m}_{3} } = { 193.77\\ \\frac{\\mathrm{kg}}{\\mathrm{s}}  }\n",
       "  \\end{aligned}\n",
       "\\]\n"
      ],
      "text/plain": [
       "<IPython.core.display.Latex object>"
      ]
     },
     "metadata": {},
     "output_type": "display_data"
    }
   ],
   "source": [
    "h[1] = air.h(T=T[1],p=p[1])\n",
    "h[2] = air.h(T=T[2],p=p[2])\n",
    "h[3] = water.h(T=T[3],p=p[3])\n",
    "h[4] = water.h(T=T[4],p=p[4])\n",
    "\n",
    "# The First Law can be used can be used to determine the mass flow rate\n",
    "mdot[3] = mdot[1]*(h[2]-h[1])/(h[3]-h[4])\n",
    "mdot[4] = mdot[1]\n",
    "mdot_water = mdot[3]\n",
    "\n",
    "display.Calculations(locals(),comments=True);"
   ]
  },
  {
   "cell_type": "markdown",
   "metadata": {},
   "source": [
    "#### (b) rate of heat transfer"
   ]
  },
  {
   "cell_type": "code",
   "execution_count": 4,
   "metadata": {
    "collapsed": false,
    "jupyter": {
     "outputs_hidden": false
    }
   },
   "outputs": [
    {
     "data": {
      "text/markdown": [
       " In order to determine the amount of heat transfered between the streams, we can do a first law analysis for a control volume containing just one of the streams.  Here we do this for the air stream"
      ],
      "text/plain": [
       "<IPython.core.display.Markdown object>"
      ]
     },
     "metadata": {},
     "output_type": "display_data"
    },
    {
     "data": {
      "text/latex": [
       "\\[\n",
       "  \\begin{aligned}{ \\dot{Q}_{1,2} }&={ \\dot{m}_{2} h_{2} - \\dot{m}_{1} h_{1} }\\\\\n",
       "    &={ \\left( 20\\ \\frac{\\mathrm{kg}}{\\mathrm{s}} \\right) \\left( -2.4071\\ \\frac{\\mathrm{kJ}}{\\mathrm{kg}} \\right) - \\left( 20\\ \\frac{\\mathrm{kg}}{\\mathrm{s}} \\right) \\left( 200.64\\ \\frac{\\mathrm{kJ}}{\\mathrm{kg}} \\right) }\\\\\n",
       "    &={  -4061.0\\ \\frac{\\mathrm{kJ}}{\\mathrm{s}}  }\n",
       "  \\end{aligned}\n",
       "\\]\n"
      ],
      "text/plain": [
       "<IPython.core.display.Latex object>"
      ]
     },
     "metadata": {},
     "output_type": "display_data"
    },
    {
     "data": {
      "text/latex": [
       "\\[\n",
       "  \\begin{aligned}\n",
       "    { \\dot{Q} }&={ \\mathrm{\\underset{}{abs}}\\left(\\dot{Q}_{1 2}\\right) } = { 4061.0\\ \\mathrm{kW}  }\n",
       "  \\end{aligned}\n",
       "\\]\n"
      ],
      "text/plain": [
       "<IPython.core.display.Latex object>"
      ]
     },
     "metadata": {},
     "output_type": "display_data"
    }
   ],
   "source": [
    "# In order to determine the amount of heat transfered between the streams, we can do a first law analysis for a control volume containing just one of the streams.  Here we do this for the air stream\n",
    "Qdot_1_2 = mdot[2]*h[2]- mdot[1]*h[1]\n",
    "Qdot = abs(Qdot_1_2)\n",
    "Qdot = Qdot.to('kW') # hide\n",
    "\n",
    "display.Calculations(locals(),comments=True);"
   ]
  },
  {
   "cell_type": "markdown",
   "metadata": {},
   "source": [
    "#### (c) entropy generation"
   ]
  },
  {
   "cell_type": "code",
   "execution_count": 5,
   "metadata": {
    "collapsed": false,
    "jupyter": {
     "outputs_hidden": false
    }
   },
   "outputs": [
    {
     "data": {
      "text/markdown": [
       " The specific entropies can also be evaluate using the known temperatures and pressures"
      ],
      "text/plain": [
       "<IPython.core.display.Markdown object>"
      ]
     },
     "metadata": {},
     "output_type": "display_data"
    },
    {
     "data": {
      "text/latex": [
       "\\[\n",
       "  \\begin{aligned}\n",
       "    { s_{1} }&={ air.s(T=T[1],p=p[1]) } = { 7.2258\\ \\frac{\\mathrm{kJ}}{\\left(\\mathrm{K} \\cdot \\mathrm{kg}\\right)}  }\n",
       "  \\end{aligned}\n",
       "\\]\n"
      ],
      "text/plain": [
       "<IPython.core.display.Latex object>"
      ]
     },
     "metadata": {},
     "output_type": "display_data"
    },
    {
     "data": {
      "text/latex": [
       "\\[\n",
       "  \\begin{aligned}\n",
       "    { s_{2} }&={ air.s(T=T[2],p=p[2]) } = { 6.7077\\ \\frac{\\mathrm{kJ}}{\\left(\\mathrm{K} \\cdot \\mathrm{kg}\\right)}  }\n",
       "  \\end{aligned}\n",
       "\\]\n"
      ],
      "text/plain": [
       "<IPython.core.display.Latex object>"
      ]
     },
     "metadata": {},
     "output_type": "display_data"
    },
    {
     "data": {
      "text/latex": [
       "\\[\n",
       "  \\begin{aligned}\n",
       "    { s_{3} }&={ water.s(T=T[3],p=p[3]) } = { 0.15108\\ \\frac{\\mathrm{kJ}}{\\left(\\mathrm{K} \\cdot \\mathrm{kg}\\right)}  }\n",
       "  \\end{aligned}\n",
       "\\]\n"
      ],
      "text/plain": [
       "<IPython.core.display.Latex object>"
      ]
     },
     "metadata": {},
     "output_type": "display_data"
    },
    {
     "data": {
      "text/latex": [
       "\\[\n",
       "  \\begin{aligned}\n",
       "    { s_{4} }&={ water.s(T=T[4],p=p[4]) } = { 0.22445\\ \\frac{\\mathrm{kJ}}{\\left(\\mathrm{K} \\cdot \\mathrm{kg}\\right)}  }\n",
       "  \\end{aligned}\n",
       "\\]\n"
      ],
      "text/plain": [
       "<IPython.core.display.Latex object>"
      ]
     },
     "metadata": {},
     "output_type": "display_data"
    },
    {
     "data": {
      "text/markdown": [
       " The Second Law can be used to solve for the entropy generation"
      ],
      "text/plain": [
       "<IPython.core.display.Markdown object>"
      ]
     },
     "metadata": {},
     "output_type": "display_data"
    },
    {
     "data": {
      "text/latex": [
       "\\[\n",
       "  \\begin{aligned}{ \\dot{S}_{gen} }&={ \\dot{m}_{1} \\left(s_{2} - s_{1}\\right) + \\dot{m}_{3} \\left(s_{4} - s_{3}\\right) }\\\\\n",
       "    &={ \\left( 20\\ \\frac{\\mathrm{kg}}{\\mathrm{s}} \\right) \\left(\\left( 6.7077\\ \\frac{\\mathrm{kJ}}{\\left(\\mathrm{K} \\cdot \\mathrm{kg}\\right)} \\right) - \\left( 7.2258\\ \\frac{\\mathrm{kJ}}{\\left(\\mathrm{K} \\cdot \\mathrm{kg}\\right)} \\right)\\right) + \\left( 193.77\\ \\frac{\\mathrm{kg}}{\\mathrm{s}} \\right) \\left(\\left( 0.22445\\ \\frac{\\mathrm{kJ}}{\\left(\\mathrm{K} \\cdot \\mathrm{kg}\\right)} \\right) - \\left( 0.15108\\ \\frac{\\mathrm{kJ}}{\\left(\\mathrm{K} \\cdot \\mathrm{kg}\\right)} \\right)\\right) }\\\\\n",
       "    &={  3.8555\\ \\frac{\\mathrm{kW}}{\\mathrm{K}}  }\n",
       "  \\end{aligned}\n",
       "\\]\n"
      ],
      "text/plain": [
       "<IPython.core.display.Latex object>"
      ]
     },
     "metadata": {},
     "output_type": "display_data"
    }
   ],
   "source": [
    "# The specific entropies can also be evaluate using the known temperatures and pressures\n",
    "s[1] = air.s(T=T[1],p=p[1])\n",
    "s[2] = air.s(T=T[2],p=p[2])\n",
    "s[3] = water.s(T=T[3],p=p[3])\n",
    "s[4] = water.s(T=T[4],p=p[4])\n",
    "\n",
    "# The Second Law can be used to solve for the entropy generation\n",
    "Sdot_gen = mdot[1]*(s[2]-s[1]) + mdot[3]*(s[4]-s[3])\n",
    "Sdot_gen = Sdot_gen.to('kW/K') # hide\n",
    "\n",
    "display.Calculations(locals(),comments=True);"
   ]
  },
  {
   "cell_type": "markdown",
   "metadata": {},
   "source": [
    "#### (d) exergy destruction"
   ]
  },
  {
   "cell_type": "code",
   "execution_count": 7,
   "metadata": {
    "collapsed": false,
    "jupyter": {
     "outputs_hidden": false
    }
   },
   "outputs": [
    {
     "data": {
      "text/markdown": [
       " The exergy destruction is always $T_0\\dot{S}_gen$"
      ],
      "text/plain": [
       "<IPython.core.display.Markdown object>"
      ]
     },
     "metadata": {},
     "output_type": "display_data"
    },
    {
     "data": {
      "text/latex": [
       "\\[\n",
       "  \\begin{aligned}{ \\dot{X}_{dest} }&={ T_{0} \\dot{S}_{gen} }\\\\\n",
       "    &={ \\left( 293.15\\ \\mathrm{K} \\right) \\left( 3.8555\\ \\frac{\\mathrm{kW}}{\\mathrm{K}} \\right) }\\\\\n",
       "    &={  1130.3\\ \\mathrm{kW}  }\n",
       "  \\end{aligned}\n",
       "\\]\n"
      ],
      "text/plain": [
       "<IPython.core.display.Latex object>"
      ]
     },
     "metadata": {},
     "output_type": "display_data"
    }
   ],
   "source": [
    "# The exergy destruction is always $T_0\\dot{S}_gen$\n",
    "Xdot_dest = T[0].to('K')*Sdot_gen\n",
    "\n",
    "display.Calculations(locals(),comments=True);"
   ]
  },
  {
   "cell_type": "markdown",
   "metadata": {},
   "source": [
    "#### (e) Second Law Efficiency"
   ]
  },
  {
   "cell_type": "code",
   "execution_count": 9,
   "metadata": {
    "collapsed": false,
    "jupyter": {
     "outputs_hidden": false
    }
   },
   "outputs": [
    {
     "data": {
      "text/markdown": [
       " In this case, both streams are approaching the ambient temperature, so both streams are decreasing in exergy.  Therefore, there is no recovered exergy for this system"
      ],
      "text/plain": [
       "<IPython.core.display.Markdown object>"
      ]
     },
     "metadata": {},
     "output_type": "display_data"
    },
    {
     "data": {
      "text/latex": [
       "\\[\n",
       "  \\begin{aligned}\n",
       "    { \\dot{X}_{Rec} }&={  0\\ \\mathrm{kW}  }\n",
       "  \\end{aligned}\n",
       "\\]\n"
      ],
      "text/plain": [
       "<IPython.core.display.Latex object>"
      ]
     },
     "metadata": {},
     "output_type": "display_data"
    },
    {
     "data": {
      "text/latex": [
       "\\[\n",
       "  \\begin{aligned}\n",
       "    { \\eta_{II} }&={  0\\  }\n",
       "  \\end{aligned}\n",
       "\\]\n"
      ],
      "text/plain": [
       "<IPython.core.display.Latex object>"
      ]
     },
     "metadata": {},
     "output_type": "display_data"
    }
   ],
   "source": [
    "# In this case, both streams are approaching the ambient temperature, so both streams are decreasing in exergy.  Therefore, there is no recovered exergy for this system\n",
    "Xdot_Rec = Quantity(0,'kW')\n",
    "eta_II = Quantity(0,'')\n",
    "\n",
    "display.Calculations(locals(),comments=True);"
   ]
  },
  {
   "cell_type": "markdown",
   "metadata": {},
   "source": [
    "#### (f) Second Law Efficiency: Alternate Inlet Temperature"
   ]
  },
  {
   "cell_type": "code",
   "execution_count": 14,
   "metadata": {
    "collapsed": false,
    "jupyter": {
     "outputs_hidden": false
    }
   },
   "outputs": [
    {
     "data": {
      "text/markdown": [
       " We need to recalculate properties to account for the alternate inlet temperature"
      ],
      "text/plain": [
       "<IPython.core.display.Markdown object>"
      ]
     },
     "metadata": {},
     "output_type": "display_data"
    },
    {
     "data": {
      "text/latex": [
       "\\[\n",
       "  \\begin{aligned}\n",
       "    { T_{5} }&={  20\\ \\mathrm{°C}  }\n",
       "  \\end{aligned}\n",
       "\\]\n"
      ],
      "text/plain": [
       "<IPython.core.display.Latex object>"
      ]
     },
     "metadata": {},
     "output_type": "display_data"
    },
    {
     "data": {
      "text/latex": [
       "\\[\n",
       "  \\begin{aligned}\n",
       "    { p_{5} }&={ p_{4} } = { 100.0\\ \\mathrm{kPa}  }\n",
       "  \\end{aligned}\n",
       "\\]\n"
      ],
      "text/plain": [
       "<IPython.core.display.Latex object>"
      ]
     },
     "metadata": {},
     "output_type": "display_data"
    },
    {
     "data": {
      "text/latex": [
       "\\[\n",
       "  \\begin{aligned}{ T_{6} }&={ T_{5} + \\left( 5\\ \\mathrm{Δ°C} \\right) }\\\\\n",
       "    &={ \\left( 20\\ \\mathrm{°C} \\right) + \\left( 5\\ \\mathrm{Δ°C} \\right) }\\\\\n",
       "    &={  25\\ \\mathrm{°C}  }\n",
       "  \\end{aligned}\n",
       "\\]\n"
      ],
      "text/plain": [
       "<IPython.core.display.Latex object>"
      ]
     },
     "metadata": {},
     "output_type": "display_data"
    },
    {
     "data": {
      "text/latex": [
       "\\[\n",
       "  \\begin{aligned}\n",
       "    { p_{6} }&={ p_{5} } = { 100.0\\ \\mathrm{kPa}  }\n",
       "  \\end{aligned}\n",
       "\\]\n"
      ],
      "text/plain": [
       "<IPython.core.display.Latex object>"
      ]
     },
     "metadata": {},
     "output_type": "display_data"
    },
    {
     "data": {
      "text/latex": [
       "\\[\n",
       "  \\begin{aligned}\n",
       "    { h_{5} }&={ water.h(T=T[5],p=p[5]) } = { 84.006\\ \\frac{\\mathrm{kJ}}{\\mathrm{kg}}  }\n",
       "  \\end{aligned}\n",
       "\\]\n"
      ],
      "text/plain": [
       "<IPython.core.display.Latex object>"
      ]
     },
     "metadata": {},
     "output_type": "display_data"
    },
    {
     "data": {
      "text/latex": [
       "\\[\n",
       "  \\begin{aligned}\n",
       "    { h_{6} }&={ water.h(T=T[6],p=p[6]) } = { 104.92\\ \\frac{\\mathrm{kJ}}{\\mathrm{kg}}  }\n",
       "  \\end{aligned}\n",
       "\\]\n"
      ],
      "text/plain": [
       "<IPython.core.display.Latex object>"
      ]
     },
     "metadata": {},
     "output_type": "display_data"
    },
    {
     "data": {
      "text/latex": [
       "\\[\n",
       "  \\begin{aligned}\n",
       "    { s_{5} }&={ water.s(T=T[5],p=p[5]) } = { 0.29646\\ \\frac{\\mathrm{kJ}}{\\left(\\mathrm{K} \\cdot \\mathrm{kg}\\right)}  }\n",
       "  \\end{aligned}\n",
       "\\]\n"
      ],
      "text/plain": [
       "<IPython.core.display.Latex object>"
      ]
     },
     "metadata": {},
     "output_type": "display_data"
    },
    {
     "data": {
      "text/latex": [
       "\\[\n",
       "  \\begin{aligned}\n",
       "    { s_{6} }&={ water.s(T=T[6],p=p[6]) } = { 0.3672\\ \\frac{\\mathrm{kJ}}{\\left(\\mathrm{K} \\cdot \\mathrm{kg}\\right)}  }\n",
       "  \\end{aligned}\n",
       "\\]\n"
      ],
      "text/plain": [
       "<IPython.core.display.Latex object>"
      ]
     },
     "metadata": {},
     "output_type": "display_data"
    },
    {
     "data": {
      "text/markdown": [
       " For this case, the water stream in increaseing in exergy while the air stream is decreasing in exergy.  So we will need the changes in flow exergy for each stream"
      ],
      "text/plain": [
       "<IPython.core.display.Markdown object>"
      ]
     },
     "metadata": {},
     "output_type": "display_data"
    },
    {
     "data": {
      "text/latex": [
       "\\[\n",
       "  \\begin{aligned}{ \\Delta{}\\psi_{5,6} }&={ - T_{0} \\left(s_{6} - s_{5}\\right) + h_{6} - h_{5} }\\\\\n",
       "    &={ - \\left( 293.15\\ \\mathrm{K} \\right) \\left(\\left( 0.3672\\ \\frac{\\mathrm{kJ}}{\\left(\\mathrm{K} \\cdot \\mathrm{kg}\\right)} \\right) - \\left( 0.29646\\ \\frac{\\mathrm{kJ}}{\\left(\\mathrm{K} \\cdot \\mathrm{kg}\\right)} \\right)\\right) + \\left( 104.92\\ \\frac{\\mathrm{kJ}}{\\mathrm{kg}} \\right) - \\left( 84.006\\ \\frac{\\mathrm{kJ}}{\\mathrm{kg}} \\right) }\\\\\n",
       "    &={  0.17632\\ \\frac{\\mathrm{kJ}}{\\mathrm{kg}}  }\n",
       "  \\end{aligned}\n",
       "\\]\n"
      ],
      "text/plain": [
       "<IPython.core.display.Latex object>"
      ]
     },
     "metadata": {},
     "output_type": "display_data"
    },
    {
     "data": {
      "text/latex": [
       "\\[\n",
       "  \\begin{aligned}{ \\Delta{}\\psi_{1,2} }&={ - T_{0} \\left(s_{2} - s_{1}\\right) + h_{2} - h_{1} }\\\\\n",
       "    &={ - \\left( 293.15\\ \\mathrm{K} \\right) \\left(\\left( 6.7077\\ \\frac{\\mathrm{kJ}}{\\left(\\mathrm{K} \\cdot \\mathrm{kg}\\right)} \\right) - \\left( 7.2258\\ \\frac{\\mathrm{kJ}}{\\left(\\mathrm{K} \\cdot \\mathrm{kg}\\right)} \\right)\\right) + \\left( -2.4071\\ \\frac{\\mathrm{kJ}}{\\mathrm{kg}} \\right) - \\left( 200.64\\ \\frac{\\mathrm{kJ}}{\\mathrm{kg}} \\right) }\\\\\n",
       "    &={  -51.175\\ \\frac{\\mathrm{kJ}}{\\mathrm{kg}}  }\n",
       "  \\end{aligned}\n",
       "\\]\n"
      ],
      "text/plain": [
       "<IPython.core.display.Latex object>"
      ]
     },
     "metadata": {},
     "output_type": "display_data"
    },
    {
     "data": {
      "text/markdown": [
       " A first law analysis can be used to update the water mass flow rate for the new inlet temperature"
      ],
      "text/plain": [
       "<IPython.core.display.Markdown object>"
      ]
     },
     "metadata": {},
     "output_type": "display_data"
    },
    {
     "data": {
      "text/latex": [
       "\\[\n",
       "  \\begin{aligned}{ \\dot{m}_{5} }&={ \\frac{\\dot{m}_{1} \\left(h_{2} - h_{1}\\right)}{h_{5} - h_{6}} }\\\\\n",
       "    &={ \\frac{\\left( 20\\ \\frac{\\mathrm{kg}}{\\mathrm{s}} \\right) \\left(\\left( -2.4071\\ \\frac{\\mathrm{kJ}}{\\mathrm{kg}} \\right) - \\left( 200.64\\ \\frac{\\mathrm{kJ}}{\\mathrm{kg}} \\right)\\right)}{\\left( 84.006\\ \\frac{\\mathrm{kJ}}{\\mathrm{kg}} \\right) - \\left( 104.92\\ \\frac{\\mathrm{kJ}}{\\mathrm{kg}} \\right)} }\\\\\n",
       "    &={  194.19\\ \\frac{\\mathrm{kg}}{\\mathrm{s}}  }\n",
       "  \\end{aligned}\n",
       "\\]\n"
      ],
      "text/plain": [
       "<IPython.core.display.Latex object>"
      ]
     },
     "metadata": {},
     "output_type": "display_data"
    },
    {
     "data": {
      "text/latex": [
       "\\[\n",
       "  \\begin{aligned}\n",
       "    { \\dot{m}_{6} }&={ \\dot{m}_{5} } = { 194.19\\ \\frac{\\mathrm{kg}}{\\mathrm{s}}  }\n",
       "  \\end{aligned}\n",
       "\\]\n"
      ],
      "text/plain": [
       "<IPython.core.display.Latex object>"
      ]
     },
     "metadata": {},
     "output_type": "display_data"
    },
    {
     "data": {
      "text/markdown": [
       " The second law gives the new entropy generation"
      ],
      "text/plain": [
       "<IPython.core.display.Markdown object>"
      ]
     },
     "metadata": {},
     "output_type": "display_data"
    },
    {
     "data": {
      "text/latex": [
       "\\[\n",
       "  \\begin{aligned}{ \\dot{S}_{gen,Alt} }&={ \\dot{m}_{1} \\left(s_{2} - s_{1}\\right) + \\dot{m}_{5} \\left(s_{6} - s_{5}\\right) }\\\\\n",
       "    &={ \\left( 20\\ \\frac{\\mathrm{kg}}{\\mathrm{s}} \\right) \\left(\\left( 6.7077\\ \\frac{\\mathrm{kJ}}{\\left(\\mathrm{K} \\cdot \\mathrm{kg}\\right)} \\right) - \\left( 7.2258\\ \\frac{\\mathrm{kJ}}{\\left(\\mathrm{K} \\cdot \\mathrm{kg}\\right)} \\right)\\right) + \\left( 194.19\\ \\frac{\\mathrm{kg}}{\\mathrm{s}} \\right) \\left(\\left( 0.3672\\ \\frac{\\mathrm{kJ}}{\\left(\\mathrm{K} \\cdot \\mathrm{kg}\\right)} \\right) - \\left( 0.29646\\ \\frac{\\mathrm{kJ}}{\\left(\\mathrm{K} \\cdot \\mathrm{kg}\\right)} \\right)\\right) }\\\\\n",
       "    &={  3.3746\\ \\frac{\\mathrm{kJ}}{\\left(\\mathrm{K} \\cdot \\mathrm{s}\\right)}  }\n",
       "  \\end{aligned}\n",
       "\\]\n"
      ],
      "text/plain": [
       "<IPython.core.display.Latex object>"
      ]
     },
     "metadata": {},
     "output_type": "display_data"
    },
    {
     "data": {
      "text/markdown": [
       " We also have a new exergy destruction"
      ],
      "text/plain": [
       "<IPython.core.display.Markdown object>"
      ]
     },
     "metadata": {},
     "output_type": "display_data"
    },
    {
     "data": {
      "text/latex": [
       "\\[\n",
       "  \\begin{aligned}{ \\dot{X}_{dest,Alt} }&={ T_{0} \\dot{S}_{gen,Alt} }\\\\\n",
       "    &={ \\left( 293.15\\ \\mathrm{K} \\right) \\left( 3.3746\\ \\frac{\\mathrm{kJ}}{\\left(\\mathrm{K} \\cdot \\mathrm{s}\\right)} \\right) }\\\\\n",
       "    &={  989.27\\ \\frac{\\mathrm{kJ}}{\\mathrm{s}}  }\n",
       "  \\end{aligned}\n",
       "\\]\n"
      ],
      "text/plain": [
       "<IPython.core.display.Latex object>"
      ]
     },
     "metadata": {},
     "output_type": "display_data"
    },
    {
     "data": {
      "text/markdown": [
       " The recovered exergy for this case in the increase in exergy of the water stream because it is moving away from the surrounding temperature"
      ],
      "text/plain": [
       "<IPython.core.display.Markdown object>"
      ]
     },
     "metadata": {},
     "output_type": "display_data"
    },
    {
     "data": {
      "text/latex": [
       "\\[\n",
       "  \\begin{aligned}{ \\dot{X}_{Rec} }&={ \\dot{m}_{5} \\Delta{}\\psi_{5,6} }\\\\\n",
       "    &={ \\left( 194.19\\ \\frac{\\mathrm{kg}}{\\mathrm{s}} \\right) \\left( 0.17632\\ \\frac{\\mathrm{kJ}}{\\mathrm{kg}} \\right) }\\\\\n",
       "    &={  34.24\\ \\frac{\\mathrm{kJ}}{\\mathrm{s}}  }\n",
       "  \\end{aligned}\n",
       "\\]\n"
      ],
      "text/plain": [
       "<IPython.core.display.Latex object>"
      ]
     },
     "metadata": {},
     "output_type": "display_data"
    },
    {
     "data": {
      "text/markdown": [
       " The expended exergy for this case is the decrease in exergy of the air stream becuase it is moving toward the surrounding temperature"
      ],
      "text/plain": [
       "<IPython.core.display.Markdown object>"
      ]
     },
     "metadata": {},
     "output_type": "display_data"
    },
    {
     "data": {
      "text/latex": [
       "\\[\n",
       "  \\begin{aligned}{ \\dot{X}_{Exp} }&={ - \\dot{m}_{1} \\Delta{}\\psi_{1,2} }\\\\\n",
       "    &={ - \\left( 20\\ \\frac{\\mathrm{kg}}{\\mathrm{s}} \\right) \\left( -51.175\\ \\frac{\\mathrm{kJ}}{\\mathrm{kg}} \\right) }\\\\\n",
       "    &={  1023.5\\ \\frac{\\mathrm{kJ}}{\\mathrm{s}}  }\n",
       "  \\end{aligned}\n",
       "\\]\n"
      ],
      "text/plain": [
       "<IPython.core.display.Latex object>"
      ]
     },
     "metadata": {},
     "output_type": "display_data"
    },
    {
     "data": {
      "text/markdown": [
       " Second law efficiency"
      ],
      "text/plain": [
       "<IPython.core.display.Markdown object>"
      ]
     },
     "metadata": {},
     "output_type": "display_data"
    },
    {
     "data": {
      "text/latex": [
       "\\[\n",
       "  \\begin{aligned}{ \\eta_{II,Alt} }&={ \\frac{\\dot{X}_{Rec}}{\\dot{X}_{Exp}} }\\\\\n",
       "    &={ \\frac{\\left( 34.24\\ \\frac{\\mathrm{kJ}}{\\mathrm{s}} \\right)}{\\left( 1023.5\\ \\frac{\\mathrm{kJ}}{\\mathrm{s}} \\right)} }\\\\\n",
       "    &={  0.033454\\  }\n",
       "  \\end{aligned}\n",
       "\\]\n"
      ],
      "text/plain": [
       "<IPython.core.display.Latex object>"
      ]
     },
     "metadata": {},
     "output_type": "display_data"
    }
   ],
   "source": [
    "# We need to recalculate properties to account for the alternate inlet temperature\n",
    "T[5] = Quantity(20,'degC')\n",
    "p[5] = p[4]\n",
    "T[6] = T[5] + Quantity(5,'delta_degC')\n",
    "p[6] = p[5]\n",
    "h[5] = water.h(T=T[5],p=p[5])\n",
    "h[6] = water.h(T=T[6],p=p[6])\n",
    "s[5] = water.s(T=T[5],p=p[5])\n",
    "s[6] = water.s(T=T[6],p=p[6])\n",
    "\n",
    "# For this case, the water stream in increaseing in exergy while the air stream is decreasing in exergy.  So we will need the changes in flow exergy for each stream\n",
    "Delta_psi_5_6 = h[6]-h[5] - T[0].to('K')*(s[6]-s[5])\n",
    "Delta_psi_1_2 = h[2]-h[1] - T[0].to('K')*(s[2]-s[1])\n",
    "\n",
    "# A first law analysis can be used to update the water mass flow rate for the new inlet temperature\n",
    "mdot[5] = mdot[1]*(h[2]-h[1])/(h[5]-h[6])\n",
    "mdot[6] = mdot[5]\n",
    "\n",
    "# The second law gives the new entropy generation\n",
    "Sdot_gen_Alt = mdot[1]*(s[2]-s[1]) + mdot[5]*(s[6]-s[5])\n",
    "\n",
    "# We also have a new exergy destruction\n",
    "Xdot_dest_Alt = T[0].to('K')*Sdot_gen_Alt\n",
    "\n",
    "# The recovered exergy for this case in the increase in exergy of the water stream because it is moving away from the surrounding temperature\n",
    "Xdot_Rec = mdot[5]*Delta_psi_5_6\n",
    "\n",
    "# The expended exergy for this case is the decrease in exergy of the air stream becuase it is moving toward the surrounding temperature\n",
    "Xdot_Exp = -mdot[1]*Delta_psi_1_2\n",
    "\n",
    "# Second law efficiency\n",
    "eta_II_Alt = Xdot_Rec/Xdot_Exp\n",
    "\n",
    "display.Calculations(locals(),comments=True);"
   ]
  }
 ],
 "metadata": {
  "kernelspec": {
   "display_name": "Python 3",
   "language": "python",
   "name": "python3"
  },
  "language_info": {
   "codemirror_mode": {
    "name": "ipython",
    "version": 3
   },
   "file_extension": ".py",
   "mimetype": "text/x-python",
   "name": "python",
   "nbconvert_exporter": "python",
   "pygments_lexer": "ipython3",
   "version": "3.8.5"
  }
 },
 "nbformat": 4,
 "nbformat_minor": 4
}
