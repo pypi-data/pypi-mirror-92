{
 "cells": [
  {
   "cell_type": "markdown",
   "metadata": {},
   "source": [
    "# Example 8.2: Compressor Second Law Efficiency\n",
    "\n",
    "*John F. Maddox, Ph.D., P.E.<br>\n",
    "University of Kentucky - Paducah Campus<br>\n",
    "ME 321: Engineering Thermodynamics II<br>*"
   ]
  },
  {
   "cell_type": "markdown",
   "metadata": {},
   "source": [
    "## Problem Statement\n",
    "An air compressor has an isentropic efficiency of 80% and operates in a SSSF configuration with negligible changes in kinetic and potential energy.  It receives a volumetric flow rate of 3000 CFM with an inlet pressure of $p_1=14.7\\,\\text{psia}$ and inlet temperature of $T_1=70^\\circ\\text{F}$.  It compresses the air by a factor of 10.  The ambient temperature is $T_0=70^\\circ\\text{F}$.\n",
    "* (a) Rate of compressor work, Hp\n",
    "* (b) Rate of entropy generation, $\\mathrm{Btu/min^\\circ\\text{R}}$\n",
    "* (c) The reversible work, Hp\n",
    "* (d) The second law efficiency"
   ]
  },
  {
   "cell_type": "markdown",
   "metadata": {},
   "source": [
    "## Solution"
   ]
  },
  {
   "cell_type": "markdown",
   "metadata": {},
   "source": [
    "### Python Initialization\n",
    "We'll start by importing the libraries we will use for our analysis and initializing dictionaries to hold the properties we will be usings."
   ]
  },
  {
   "cell_type": "code",
   "execution_count": 1,
   "metadata": {
    "collapsed": false,
    "jupyter": {
     "outputs_hidden": false
    }
   },
   "outputs": [
    {
     "name": "stderr",
     "output_type": "stream",
     "text": [
      "/opt/anaconda/lib/python3.8/site-packages/mpmath/ctx_mp_python.py:892: SyntaxWarning: \"is\" with a literal. Did you mean \"==\"?\n",
      "  if other is 0:\n",
      "/opt/anaconda/lib/python3.8/site-packages/mpmath/ctx_mp_python.py:986: SyntaxWarning: \"is\" with a literal. Did you mean \"==\"?\n",
      "  if other is 0:\n"
     ]
    }
   ],
   "source": [
    "from math import log\n",
    "from kilojoule.templates.USCS_R import *\n",
    "\n",
    "air = idealgas.Properties('Air')"
   ]
  },
  {
   "cell_type": "markdown",
   "metadata": {},
   "source": [
    "### Given Parameters\n",
    "We now define variables to hold our known values."
   ]
  },
  {
   "cell_type": "code",
   "execution_count": 3,
   "metadata": {
    "collapsed": false,
    "jupyter": {
     "outputs_hidden": false
    }
   },
   "outputs": [
    {
     "data": {
      "text/latex": [
       "\\[\n",
       "  \\begin{aligned}\n",
       "    { T_{0} }&={ \\left( 70\\ \\mathrm{°F} \\right) } = { 529.67\\ \\mathrm{°R}  }\n",
       "  \\end{aligned}\n",
       "\\]\n"
      ],
      "text/plain": [
       "<IPython.core.display.Latex object>"
      ]
     },
     "metadata": {},
     "output_type": "display_data"
    },
    {
     "data": {
      "text/latex": [
       "\\[\n",
       "  \\begin{aligned}\n",
       "    { p_{0} }&={ \\left( 1\\ \\mathrm{atm} \\right) } = { 14.696\\ \\mathrm{psi}  }\n",
       "  \\end{aligned}\n",
       "\\]\n"
      ],
      "text/plain": [
       "<IPython.core.display.Latex object>"
      ]
     },
     "metadata": {},
     "output_type": "display_data"
    },
    {
     "data": {
      "text/latex": [
       "\\[\n",
       "  \\begin{aligned}\n",
       "    { \\dot{V}_{1} }&={ \\left( 3000\\ \\mathrm{cfm} \\right) } = { 50.0\\ \\frac{\\mathrm{ft}^{3}}{\\mathrm{s}}  }\n",
       "  \\end{aligned}\n",
       "\\]\n"
      ],
      "text/plain": [
       "<IPython.core.display.Latex object>"
      ]
     },
     "metadata": {},
     "output_type": "display_data"
    },
    {
     "data": {
      "text/latex": [
       "\\[\n",
       "  \\begin{aligned}\n",
       "    { p_{1} }&={  14.7\\ \\mathrm{psi}  }\n",
       "  \\end{aligned}\n",
       "\\]\n"
      ],
      "text/plain": [
       "<IPython.core.display.Latex object>"
      ]
     },
     "metadata": {},
     "output_type": "display_data"
    },
    {
     "data": {
      "text/latex": [
       "\\[\n",
       "  \\begin{aligned}\n",
       "    { T_{1} }&={ \\left( 70\\ \\mathrm{°F} \\right) } = { 529.67\\ \\mathrm{°R}  }\n",
       "  \\end{aligned}\n",
       "\\]\n"
      ],
      "text/plain": [
       "<IPython.core.display.Latex object>"
      ]
     },
     "metadata": {},
     "output_type": "display_data"
    },
    {
     "data": {
      "text/latex": [
       "\\[\n",
       "  \\begin{aligned}{ p_{2} }&={ 10 p_{1} }\\\\\n",
       "    &={  10  \\left( 14.7\\ \\mathrm{psi} \\right) }\\\\\n",
       "    &={  147.0\\ \\mathrm{psi}  }\n",
       "  \\end{aligned}\n",
       "\\]\n"
      ],
      "text/plain": [
       "<IPython.core.display.Latex object>"
      ]
     },
     "metadata": {},
     "output_type": "display_data"
    },
    {
     "data": {
      "text/latex": [
       "\\[\n",
       "  \\begin{aligned}\n",
       "    { \\eta_{c} }&={  0.8\\  }\n",
       "  \\end{aligned}\n",
       "\\]\n"
      ],
      "text/plain": [
       "<IPython.core.display.Latex object>"
      ]
     },
     "metadata": {},
     "output_type": "display_data"
    }
   ],
   "source": [
    "T[0] = Quantity(70,'degF')     # ambient temperature\n",
    "p[0] = Quantity(1,'atm')       # assumed atmospheric pressure\n",
    "Vdot[1] = Quantity(3000,'cfm') # volumetric flow rate\n",
    "p[1] = Quantity(14.7,'psi')    # inlet pressure\n",
    "T[1] = Quantity(70,'degF')     # inlet temperature\n",
    "p[2] = 10*p[1]           # exit pressure\n",
    "eta_c = Quantity(.8,'')         # isentropic efficiency\n",
    "\n",
    "display.Calculations(locals(),comments=True);"
   ]
  },
  {
   "cell_type": "markdown",
   "metadata": {},
   "source": [
    "### Assumptions\n",
    "  - Negligible changes in kinetic energy\n",
    "  - Negligible changes in potential energy\n",
    "  - Ideal gas\n",
    "  - Constant specific heat"
   ]
  },
  {
   "cell_type": "code",
   "execution_count": 5,
   "metadata": {
    "collapsed": false,
    "jupyter": {
     "outputs_hidden": false
    }
   },
   "outputs": [
    {
     "data": {
      "text/markdown": [
       " Ideal Gas"
      ],
      "text/plain": [
       "<IPython.core.display.Markdown object>"
      ]
     },
     "metadata": {},
     "output_type": "display_data"
    },
    {
     "data": {
      "text/markdown": [
       " Constant thermal properties at room temperature"
      ],
      "text/plain": [
       "<IPython.core.display.Markdown object>"
      ]
     },
     "metadata": {},
     "output_type": "display_data"
    },
    {
     "data": {
      "text/latex": [
       "\\[\n",
       "  \\begin{aligned}\n",
       "    { T_{room} }&={  25\\ \\mathrm{°C}  }\n",
       "  \\end{aligned}\n",
       "\\]\n"
      ],
      "text/plain": [
       "<IPython.core.display.Latex object>"
      ]
     },
     "metadata": {},
     "output_type": "display_data"
    },
    {
     "data": {
      "text/latex": [
       "\\[\n",
       "  \\begin{aligned}\n",
       "    { c_{p} }&={ \\mathrm{\\underset{air}{cp}}\\left(T_{room}\\right) } = { 1.0047\\ \\frac{\\mathrm{kJ}}{\\left(\\mathrm{K} \\cdot \\mathrm{kg}\\right)}  }\n",
       "  \\end{aligned}\n",
       "\\]\n"
      ],
      "text/plain": [
       "<IPython.core.display.Latex object>"
      ]
     },
     "metadata": {},
     "output_type": "display_data"
    },
    {
     "data": {
      "text/latex": [
       "\\[\n",
       "  \\begin{aligned}\n",
       "    { k }&={ \\mathrm{\\underset{air}{k}}\\left(T_{room}\\right) } = { 1.4\\  }\n",
       "  \\end{aligned}\n",
       "\\]\n"
      ],
      "text/plain": [
       "<IPython.core.display.Latex object>"
      ]
     },
     "metadata": {},
     "output_type": "display_data"
    }
   ],
   "source": [
    "# Ideal Gas\n",
    "R = air.R   # specific gas constant\n",
    "\n",
    "# Constant thermal properties at room temperature\n",
    "T_room = Quantity(25,'degC') # room temperature\n",
    "c_p = air.Cp(T_room)   # constant pressure specific heat at room temperature\n",
    "k = air.k(T_room)      # specific heat ratio at room temperature\n",
    "\n",
    "display.Calculations(locals(),comments=True);"
   ]
  },
  {
   "cell_type": "markdown",
   "metadata": {},
   "source": [
    "### (a) Rate of Compressor work, HP"
   ]
  },
  {
   "cell_type": "code",
   "execution_count": 6,
   "metadata": {
    "collapsed": false,
    "jupyter": {
     "outputs_hidden": false
    }
   },
   "outputs": [
    {
     "data": {
      "text/markdown": [
       " Ideal gas law to get mass flow rate"
      ],
      "text/plain": [
       "<IPython.core.display.Markdown object>"
      ]
     },
     "metadata": {},
     "output_type": "display_data"
    },
    {
     "data": {
      "text/latex": [
       "\\[\n",
       "  \\begin{aligned}{ \\dot{m} }&={ \\frac{p_{1} \\dot{V}_{1}}{R T_{1}} }\\\\\n",
       "    &={ \\frac{\\left( 14.7\\ \\mathrm{psi} \\right) \\left( 50.0\\ \\frac{\\mathrm{ft}^{3}}{\\mathrm{s}} \\right)}{\\left( 0.28705\\ \\frac{\\mathrm{kJ}}{\\left(\\mathrm{K} \\cdot \\mathrm{kg}\\right)} \\right) \\left( 529.67\\ \\mathrm{°R} \\right)} }\\\\\n",
       "    &={  224.72\\ \\frac{\\mathrm{lb}}{\\mathrm{min}}  }\n",
       "  \\end{aligned}\n",
       "\\]\n"
      ],
      "text/plain": [
       "<IPython.core.display.Latex object>"
      ]
     },
     "metadata": {},
     "output_type": "display_data"
    },
    {
     "data": {
      "text/markdown": [
       " Isentropic exit state"
      ],
      "text/plain": [
       "<IPython.core.display.Markdown object>"
      ]
     },
     "metadata": {},
     "output_type": "display_data"
    },
    {
     "data": {
      "text/latex": [
       "\\[\n",
       "  \\begin{aligned}\n",
       "    { p_{2s} }&={ p_{2} } = { 147.0\\ \\mathrm{psi}  }\n",
       "  \\end{aligned}\n",
       "\\]\n"
      ],
      "text/plain": [
       "<IPython.core.display.Latex object>"
      ]
     },
     "metadata": {},
     "output_type": "display_data"
    },
    {
     "data": {
      "text/latex": [
       "\\[\n",
       "  \\begin{aligned}{ T_{2s} }&={ T_{1} \\left(\\frac{p_{2}}{p_{1}}\\right)^{\\frac{k - 1}{k}} }\\\\\n",
       "    &={ \\left( 529.67\\ \\mathrm{°R} \\right) \\left(\\frac{\\left( 147.0\\ \\mathrm{psi} \\right)}{\\left( 14.7\\ \\mathrm{psi} \\right)}\\right)^{\\frac{\\left( 1.4\\ \\right) -  1 }{\\left( 1.4\\ \\right)}} }\\\\\n",
       "    &={  1022.6\\ \\mathrm{°R}  }\n",
       "  \\end{aligned}\n",
       "\\]\n"
      ],
      "text/plain": [
       "<IPython.core.display.Latex object>"
      ]
     },
     "metadata": {},
     "output_type": "display_data"
    },
    {
     "data": {
      "text/markdown": [
       " Compressor work"
      ],
      "text/plain": [
       "<IPython.core.display.Markdown object>"
      ]
     },
     "metadata": {},
     "output_type": "display_data"
    },
    {
     "data": {
      "text/latex": [
       "\\[\n",
       "  \\begin{aligned}{ \\dot{W}_{c} }&={ \\frac{\\dot{m} c_{p} \\left(T_{2s} - T_{1}\\right)}{\\eta_{c}} }\\\\\n",
       "    &={ \\frac{\\left( 224.72\\ \\frac{\\mathrm{lb}}{\\mathrm{min}} \\right) \\left( 1.0047\\ \\frac{\\mathrm{kJ}}{\\left(\\mathrm{K} \\cdot \\mathrm{kg}\\right)} \\right) \\left(\\left( 1022.6\\ \\mathrm{°R} \\right) - \\left( 529.67\\ \\mathrm{°R} \\right)\\right)}{\\left( 0.8\\ \\right)} }\\\\\n",
       "    &={  783.55\\ \\mathrm{hp}  }\n",
       "  \\end{aligned}\n",
       "\\]\n"
      ],
      "text/plain": [
       "<IPython.core.display.Latex object>"
      ]
     },
     "metadata": {},
     "output_type": "display_data"
    }
   ],
   "source": [
    "# Ideal gas law to get mass flow rate\n",
    "mdot= p[1]*Vdot[1]/(R*T[1].to('degR'))\n",
    "mdot = mdot.to('lb/min') # hide\n",
    "\n",
    "# Isentropic exit state\n",
    "p['2s'] = p[2]\n",
    "T['2s'] = T[1].to('degR')*(p[2]/p[1])**((k-1)/k)\n",
    "\n",
    "# Compressor work\n",
    "Wdot_c = mdot*c_p*(T['2s']-T[1])/eta_c\n",
    "Wdot_c = Wdot_c.to('hp') # hide\n",
    "\n",
    "display.Calculations(locals(),comments=True);"
   ]
  },
  {
   "cell_type": "markdown",
   "metadata": {},
   "source": [
    "### (b) Rate of entropy generation"
   ]
  },
  {
   "cell_type": "code",
   "execution_count": 7,
   "metadata": {
    "collapsed": false,
    "jupyter": {
     "outputs_hidden": false
    }
   },
   "outputs": [
    {
     "data": {
      "text/markdown": [
       " Exit temperature"
      ],
      "text/plain": [
       "<IPython.core.display.Markdown object>"
      ]
     },
     "metadata": {},
     "output_type": "display_data"
    },
    {
     "data": {
      "text/latex": [
       "\\[\n",
       "  \\begin{aligned}{ T_{2} }&={ T_{1} + \\frac{\\dot{W}_{c}}{\\dot{m} c_{p}} }\\\\\n",
       "    &={ \\left( 529.67\\ \\mathrm{°R} \\right) + \\frac{\\left( 783.55\\ \\mathrm{hp} \\right)}{\\left( 224.72\\ \\frac{\\mathrm{lb}}{\\mathrm{min}} \\right) \\left( 1.0047\\ \\frac{\\mathrm{kJ}}{\\left(\\mathrm{K} \\cdot \\mathrm{kg}\\right)} \\right)} }\\\\\n",
       "    &={  1145.8\\ \\mathrm{°R}  }\n",
       "  \\end{aligned}\n",
       "\\]\n"
      ],
      "text/plain": [
       "<IPython.core.display.Latex object>"
      ]
     },
     "metadata": {},
     "output_type": "display_data"
    },
    {
     "data": {
      "text/markdown": [
       " 2nd Law"
      ],
      "text/plain": [
       "<IPython.core.display.Markdown object>"
      ]
     },
     "metadata": {},
     "output_type": "display_data"
    },
    {
     "data": {
      "text/latex": [
       "\\[\n",
       "  \\begin{aligned}{ \\dot{S}_{gen} }&={ \\dot{m} \\left(c_{p} log(T[2]/T[1]) - R log(p[2]/p[1])\\right) }\\\\\n",
       "    &={ \\left( 224.72\\ \\frac{\\mathrm{lb}}{\\mathrm{min}} \\right) \\left(\\left( 1.0047\\ \\frac{\\mathrm{kJ}}{\\left(\\mathrm{K} \\cdot \\mathrm{kg}\\right)} \\right) 0.77163 - \\left( 0.28705\\ \\frac{\\mathrm{kJ}}{\\left(\\mathrm{K} \\cdot \\mathrm{kg}\\right)} \\right) 2.3026\\right) }\\\\\n",
       "    &={  6.136\\ \\frac{\\mathrm{Btu}}{\\left(\\mathrm{min} \\cdot \\mathrm{°R}\\right)}  }\n",
       "  \\end{aligned}\n",
       "\\]\n"
      ],
      "text/plain": [
       "<IPython.core.display.Latex object>"
      ]
     },
     "metadata": {},
     "output_type": "display_data"
    }
   ],
   "source": [
    "# Exit temperature\n",
    "T[2] = T[1].to('degR') + Wdot_c/(mdot*c_p)\n",
    "\n",
    "# 2nd Law\n",
    "Sdot_gen = mdot*(c_p*log(T[2]/T[1]) - R*log(p[2]/p[1]))\n",
    "Sdot_gen = (Sdot_gen).to('Btu/min/degR') # hide\n",
    "\n",
    "display.Calculations(locals(),comments=True);"
   ]
  },
  {
   "cell_type": "markdown",
   "metadata": {},
   "source": [
    "### (c) Reversible work"
   ]
  },
  {
   "cell_type": "code",
   "execution_count": 8,
   "metadata": {
    "collapsed": false,
    "jupyter": {
     "outputs_hidden": false
    }
   },
   "outputs": [
    {
     "data": {
      "text/latex": [
       "\\[\n",
       "  \\begin{aligned}{ \\dot{W}_{Rev} }&={ - T_{0} \\dot{S}_{gen} + \\dot{W}_{c} }\\\\\n",
       "    &={ - \\left( 529.67\\ \\mathrm{°R} \\right) \\left( 6.136\\ \\frac{\\mathrm{Btu}}{\\left(\\mathrm{min} \\cdot \\mathrm{°R}\\right)} \\right) + \\left( 783.55\\ \\mathrm{hp} \\right) }\\\\\n",
       "    &={  706.91\\ \\mathrm{hp}  }\n",
       "  \\end{aligned}\n",
       "\\]\n"
      ],
      "text/plain": [
       "<IPython.core.display.Latex object>"
      ]
     },
     "metadata": {},
     "output_type": "display_data"
    }
   ],
   "source": [
    "Wdot_Rev = Wdot_c - T[0].to('degR')*Sdot_gen\n",
    "\n",
    "display.Calculations(locals(),comments=True);"
   ]
  },
  {
   "cell_type": "markdown",
   "metadata": {},
   "source": [
    "### (d) Second Law Efficiency"
   ]
  },
  {
   "cell_type": "code",
   "execution_count": 9,
   "metadata": {
    "collapsed": false,
    "jupyter": {
     "outputs_hidden": false
    }
   },
   "outputs": [
    {
     "data": {
      "text/markdown": [
       " Flow exergies"
      ],
      "text/plain": [
       "<IPython.core.display.Markdown object>"
      ]
     },
     "metadata": {},
     "output_type": "display_data"
    },
    {
     "data": {
      "text/latex": [
       "\\[\n",
       "  \\begin{aligned}{ \\psi_{1} }&={ c_{p} \\left(T_{1} - T_{0}\\right) - T_{0} \\left(c_{p} log(T[1]/T[0]) - R log(p[1]/p[0])\\right) }\\\\\n",
       "    &={ \\left( 1.0047\\ \\frac{\\mathrm{kJ}}{\\left(\\mathrm{K} \\cdot \\mathrm{kg}\\right)} \\right) \\left(\\left( 529.67\\ \\mathrm{°R} \\right) - \\left( 529.67\\ \\mathrm{°R} \\right)\\right) - \\left( 529.67\\ \\mathrm{°R} \\right) \\left(\\left( 1.0047\\ \\frac{\\mathrm{kJ}}{\\left(\\mathrm{K} \\cdot \\mathrm{kg}\\right)} \\right) 0.0 - \\left( 0.28705\\ \\frac{\\mathrm{kJ}}{\\left(\\mathrm{K} \\cdot \\mathrm{kg}\\right)} \\right) 0.00027563\\right) }\\\\\n",
       "    &={  0.01001\\ \\frac{\\mathrm{Btu}}{\\mathrm{lb}}  }\n",
       "  \\end{aligned}\n",
       "\\]\n"
      ],
      "text/plain": [
       "<IPython.core.display.Latex object>"
      ]
     },
     "metadata": {},
     "output_type": "display_data"
    },
    {
     "data": {
      "text/latex": [
       "\\[\n",
       "  \\begin{aligned}{ \\psi_{2} }&={ c_{p} \\left(T_{2} - T_{0}\\right) - T_{0} \\left(c_{p} log(T[2]/T[0]) - R log(p[2]/p[0])\\right) }\\\\\n",
       "    &={ \\left( 1.0047\\ \\frac{\\mathrm{kJ}}{\\left(\\mathrm{K} \\cdot \\mathrm{kg}\\right)} \\right) \\left(\\left( 1145.8\\ \\mathrm{°R} \\right) - \\left( 529.67\\ \\mathrm{°R} \\right)\\right) - \\left( 529.67\\ \\mathrm{°R} \\right) \\left(\\left( 1.0047\\ \\frac{\\mathrm{kJ}}{\\left(\\mathrm{K} \\cdot \\mathrm{kg}\\right)} \\right) 0.77163 - \\left( 0.28705\\ \\frac{\\mathrm{kJ}}{\\left(\\mathrm{K} \\cdot \\mathrm{kg}\\right)} \\right) 2.3029\\right) }\\\\\n",
       "    &={  133.41\\ \\frac{\\mathrm{Btu}}{\\mathrm{lb}}  }\n",
       "  \\end{aligned}\n",
       "\\]\n"
      ],
      "text/plain": [
       "<IPython.core.display.Latex object>"
      ]
     },
     "metadata": {},
     "output_type": "display_data"
    },
    {
     "data": {
      "text/markdown": [
       " Exergy recovered"
      ],
      "text/plain": [
       "<IPython.core.display.Markdown object>"
      ]
     },
     "metadata": {},
     "output_type": "display_data"
    },
    {
     "data": {
      "text/latex": [
       "\\[\n",
       "  \\begin{aligned}{ \\dot{X}_{Recovered} }&={ \\dot{m} \\left(\\psi_{2} - \\psi_{1}\\right) }\\\\\n",
       "    &={ \\left( 224.72\\ \\frac{\\mathrm{lb}}{\\mathrm{min}} \\right) \\left(\\left( 133.41\\ \\frac{\\mathrm{Btu}}{\\mathrm{lb}} \\right) - \\left( 0.01001\\ \\frac{\\mathrm{Btu}}{\\mathrm{lb}} \\right)\\right) }\\\\\n",
       "    &={  706.91\\ \\mathrm{hp}  }\n",
       "  \\end{aligned}\n",
       "\\]\n"
      ],
      "text/plain": [
       "<IPython.core.display.Latex object>"
      ]
     },
     "metadata": {},
     "output_type": "display_data"
    },
    {
     "data": {
      "text/markdown": [
       " Exergy expended"
      ],
      "text/plain": [
       "<IPython.core.display.Markdown object>"
      ]
     },
     "metadata": {},
     "output_type": "display_data"
    },
    {
     "data": {
      "text/latex": [
       "\\[\n",
       "  \\begin{aligned}\n",
       "    { \\dot{X}_{Expended} }&={ \\dot{W}_{c} } = { 783.55\\ \\mathrm{hp}  }\n",
       "  \\end{aligned}\n",
       "\\]\n"
      ],
      "text/plain": [
       "<IPython.core.display.Latex object>"
      ]
     },
     "metadata": {},
     "output_type": "display_data"
    },
    {
     "data": {
      "text/markdown": [
       " 2nd Law efficiency"
      ],
      "text/plain": [
       "<IPython.core.display.Markdown object>"
      ]
     },
     "metadata": {},
     "output_type": "display_data"
    },
    {
     "data": {
      "text/latex": [
       "\\[\n",
       "  \\begin{aligned}{ \\eta_{II} }&={ \\frac{\\dot{X}_{Recovered}}{\\dot{X}_{Expended}} }\\\\\n",
       "    &={ \\frac{\\left( 706.91\\ \\mathrm{hp} \\right)}{\\left( 783.55\\ \\mathrm{hp} \\right)} }\\\\\n",
       "    &={  0.90219\\  }\n",
       "  \\end{aligned}\n",
       "\\]\n"
      ],
      "text/plain": [
       "<IPython.core.display.Latex object>"
      ]
     },
     "metadata": {},
     "output_type": "display_data"
    }
   ],
   "source": [
    "# Flow exergies\n",
    "psi[1] = c_p*(T[1]-T[0]) - T[0]*(c_p*log(T[1]/T[0]) - R*log(p[1]/p[0]))\n",
    "psi[2] = c_p*(T[2]-T[0]) - T[0]*(c_p*log(T[2]/T[0]) - R*log(p[2]/p[0]))\n",
    "\n",
    "# Exergy recovered\n",
    "Xdot_Recovered = mdot*(psi[2]-psi[1])\n",
    "Xdot_Recovered = (Xdot_Recovered).to('hp') # hide\n",
    "\n",
    "# Exergy expended\n",
    "Xdot_Expended = Wdot_c\n",
    "\n",
    "# 2nd Law efficiency\n",
    "eta_II = Xdot_Recovered/Xdot_Expended\n",
    "\n",
    "display.Calculations(locals(),comments=True);"
   ]
  },
  {
   "cell_type": "code",
   "execution_count": 10,
   "metadata": {
    "collapsed": false,
    "jupyter": {
     "outputs_hidden": false
    }
   },
   "outputs": [
    {
     "data": {
      "text/markdown": [
       " 2nd Law efficiency: Alternate Method"
      ],
      "text/plain": [
       "<IPython.core.display.Markdown object>"
      ]
     },
     "metadata": {},
     "output_type": "display_data"
    },
    {
     "data": {
      "text/latex": [
       "\\[\n",
       "  \\begin{aligned}{ \\eta_{II,Alt} }&={ - \\frac{T_{0} \\dot{S}_{gen}}{\\dot{X}_{Expended}} + 1 }\\\\\n",
       "    &={ - \\frac{\\left( 529.67\\ \\mathrm{°R} \\right) \\left( 6.136\\ \\frac{\\mathrm{Btu}}{\\left(\\mathrm{min} \\cdot \\mathrm{°R}\\right)} \\right)}{\\left( 783.55\\ \\mathrm{hp} \\right)} +  1  }\\\\\n",
       "    &={  0.90219\\  }\n",
       "  \\end{aligned}\n",
       "\\]\n"
      ],
      "text/plain": [
       "<IPython.core.display.Latex object>"
      ]
     },
     "metadata": {},
     "output_type": "display_data"
    }
   ],
   "source": [
    "# 2nd Law efficiency: Alternate Method\n",
    "eta_II_Alt = 1 - T[0]*Sdot_gen/Xdot_Expended\n",
    "\n",
    "display.Calculations(locals(),comments=True);"
   ]
  },
  {
   "cell_type": "code",
   "execution_count": 11,
   "metadata": {
    "collapsed": false,
    "jupyter": {
     "outputs_hidden": false
    }
   },
   "outputs": [
    {
     "data": {
      "text/latex": [
       "\\[\\begin{aligned}{ R }&={  0.28705\\ \\frac{\\mathrm{kJ}}{\\left(\\mathrm{K} \\cdot \\mathrm{kg}\\right)}  }&{ \\dot{S}_{gen} }&={  6.136\\ \\frac{\\mathrm{Btu}}{\\left(\\mathrm{min} \\cdot \\mathrm{°R}\\right)}  }&{ T_{room} }&={  25\\ \\mathrm{°C}  }\\\\{ \\dot{W}_{Rev} }&={  706.91\\ \\mathrm{hp}  }&{ \\dot{W}_{c} }&={  783.55\\ \\mathrm{hp}  }&{ \\dot{X}_{Expended} }&={  783.55\\ \\mathrm{hp}  }\\\\{ \\dot{X}_{Recovered} }&={  706.91\\ \\mathrm{hp}  }&{ c_{p} }&={  1.0047\\ \\frac{\\mathrm{kJ}}{\\left(\\mathrm{K} \\cdot \\mathrm{kg}\\right)}  }&{ \\eta_{II} }&={  0.90219\\  }\\\\{ \\eta_{II Alt} }&={  0.90219\\  }&{ \\eta_{c} }&={  0.8\\  }&{ k }&={  1.4\\  }\\\\{ \\dot{m} }&={  224.72\\ \\frac{\\mathrm{lb}}{\\mathrm{min}}  }&{  }\\end{aligned}\\]"
      ],
      "text/plain": [
       "<IPython.core.display.Latex object>"
      ]
     },
     "metadata": {},
     "output_type": "display_data"
    },
    {
     "data": {
      "text/html": [
       "<table border=\"1\" class=\"dataframe\">\n",
       "  <thead>\n",
       "    <tr>\n",
       "      <th></th>\n",
       "      <th>T</th>\n",
       "      <th>p</th>\n",
       "      <th>Vdot</th>\n",
       "      <th>psi</th>\n",
       "    </tr>\n",
       "    <tr>\n",
       "      <th>unit</th>\n",
       "      <th>°R</th>\n",
       "      <th>psi</th>\n",
       "      <th>ft³/s</th>\n",
       "      <th>Btu/lb</th>\n",
       "    </tr>\n",
       "  </thead>\n",
       "  <tbody>\n",
       "    <tr>\n",
       "      <th>0</th>\n",
       "      <td>529.670000</td>\n",
       "      <td>14.695949</td>\n",
       "      <td>-</td>\n",
       "      <td>-</td>\n",
       "    </tr>\n",
       "    <tr>\n",
       "      <th>1</th>\n",
       "      <td>529.670000</td>\n",
       "      <td>14.700000</td>\n",
       "      <td>50</td>\n",
       "      <td>0.0100095</td>\n",
       "    </tr>\n",
       "    <tr>\n",
       "      <th>2</th>\n",
       "      <td>1145.834991</td>\n",
       "      <td>147.000000</td>\n",
       "      <td>-</td>\n",
       "      <td>133.412</td>\n",
       "    </tr>\n",
       "    <tr>\n",
       "      <th>2s</th>\n",
       "      <td>1022.601993</td>\n",
       "      <td>147.000000</td>\n",
       "      <td>-</td>\n",
       "      <td>-</td>\n",
       "    </tr>\n",
       "  </tbody>\n",
       "</table>"
      ],
      "text/plain": [
       "<IPython.core.display.HTML object>"
      ]
     },
     "metadata": {},
     "output_type": "display_data"
    },
    {
     "data": {
      "text/latex": [
       "\\[\\begin{aligned}{ \\dot{W}_{c} }&={  783.55\\ \\mathrm{hp}  }\\\\{ \\dot{S}_{gen} }&={  6.136\\ \\frac{\\mathrm{Btu}}{\\left(\\mathrm{min} \\cdot \\mathrm{°R}\\right)}  }\\\\{ \\dot{W}_{Rev} }&={  706.91\\ \\mathrm{hp}  }\\\\{ \\eta_{II} }&={  0.90219\\  }\\\\{  }\\end{aligned}\\]"
      ],
      "text/plain": [
       "<IPython.core.display.Latex object>"
      ]
     },
     "metadata": {},
     "output_type": "display_data"
    }
   ],
   "source": [
    "display.Summary(locals())\n",
    "display.Summary(locals(),['Wdot_c','Sdot_gen','Wdot_Rev','eta_II']);"
   ]
  }
 ],
 "metadata": {
  "kernelspec": {
   "display_name": "Python 3",
   "language": "python",
   "name": "python3"
  },
  "language_info": {
   "codemirror_mode": {
    "name": "ipython",
    "version": 3
   },
   "file_extension": ".py",
   "mimetype": "text/x-python",
   "name": "python",
   "nbconvert_exporter": "python",
   "pygments_lexer": "ipython3",
   "version": "3.8.5"
  }
 },
 "nbformat": 4,
 "nbformat_minor": 4
}
