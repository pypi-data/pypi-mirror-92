{
 "cells": [
  {
   "cell_type": "markdown",
   "metadata": {},
   "source": [
    "# Example 0.2: Compressor Isentropic Efficiency\n",
    "*John F. Maddox, Ph.D., P.E.<br>\n",
    "University of Kentucky - Paducah Campus<br>\n",
    "ME 321: Engineering Thermodynamics II<br>*"
   ]
  },
  {
   "cell_type": "markdown",
   "metadata": {},
   "source": [
    "## Problem Statement\n",
    "An air compressor has an isentropic efficiency of 80% and operates in a steady-state, steady-flow (SSSF) configuration with negligible changes in kinetic and potential energy.  It receives a volumetric flow rate of 3000 CFM with an inlet pressure of $p_1=14.7\\,\\text{psia}$ and inlet temperature of $T_1=70^\\circ\\text{F}$.  It compresses the air by a factor of 10. Determine<br>\n",
    "(a) Rate of compressor work, $\\mathrm{HP}$<br>\n",
    "(b) Rate of entropy generation, $\\mathrm{Btu/min^\\circ R}$"
   ]
  },
  {
   "cell_type": "markdown",
   "metadata": {},
   "source": [
    "## Solution\n",
    "In the previous example (Ex 0.1), we wrote two separate python scripts to illustrate the difference between using only the standard python library and using third-party modules.  Those two scripts were placed in two self-contained code blocks to help show the separation between the two.  In this example we will jump straight to using the third-party libraries to make things easier, and we will spread the python code out across multiple cells with explanatory text (markdown) cells to describe the code rather than using python comments.  To execute this code you will need to execute each code block in order, or select the `Run All` option from the `Cell` menu above."
   ]
  },
  {
   "cell_type": "markdown",
   "metadata": {},
   "source": [
    "### Python Initialization\n",
    "We'll start by importing the libraries we will use for our analysis.  "
   ]
  },
  {
   "cell_type": "code",
   "execution_count": 1,
   "metadata": {
    "collapsed": false,
    "jupyter": {
     "outputs_hidden": false
    }
   },
   "outputs": [
    {
     "name": "stderr",
     "output_type": "stream",
     "text": [
      "/opt/anaconda/lib/python3.8/site-packages/mpmath/ctx_mp_python.py:892: SyntaxWarning: \"is\" with a literal. Did you mean \"==\"?\n",
      "  if other is 0:\n",
      "/opt/anaconda/lib/python3.8/site-packages/mpmath/ctx_mp_python.py:986: SyntaxWarning: \"is\" with a literal. Did you mean \"==\"?\n",
      "  if other is 0:\n"
     ]
    }
   ],
   "source": [
    "from math import log\n",
    "from kilojoule.templates.USCS_R import *"
   ]
  },
  {
   "cell_type": "markdown",
   "metadata": {},
   "source": [
    "In the first version of the previous example we defined a new variable for each property at each state, but in this example (and future examples) we will instead store the values in a custom python data structure from `kilojoule`.  This is a different approach to variable naming and organization that will allow us to do some interesting things later on.  By import the `USCS_F` template from `kilojoule` above, we have defined a few common variables and settings that are useful for thermodynamic calculations when using English units with temperature in $^\\circ\\mathrm{F}$ (*Note: templates are available for other unit systems or you can develop a custom template if you prefer*).  In particular, the `states` variable been has configured to hold the properties at our various states.\n",
    "\n",
    "We can also use the `kilojoule` library to look up property values for real fluid using the `realfluid.Properties()` class or for ideal gasses using the `idealgas.Properties()`.  For each of these functions you initialize (instantiate) the class by passing it the name of the fluid and the an optional preferred unit system to use when returning values (default: SI in $\\mathrm{^\\circ C}$.  For this case, we will treat the air as an ideal gas, so we will use the `idealgas.Properties()` class."
   ]
  },
  {
   "cell_type": "code",
   "execution_count": 2,
   "metadata": {
    "collapsed": false,
    "jupyter": {
     "outputs_hidden": false
    }
   },
   "outputs": [],
   "source": [
    "air = idealgas.Properties('Air')"
   ]
  },
  {
   "cell_type": "markdown",
   "metadata": {},
   "source": [
    "### Given Parameters\n",
    "We now define variables to hold our known values."
   ]
  },
  {
   "cell_type": "code",
   "execution_count": 3,
   "metadata": {
    "collapsed": false,
    "jupyter": {
     "outputs_hidden": false
    }
   },
   "outputs": [
    {
     "data": {
      "text/latex": [
       "\\[\\begin{aligned}{ \\eta_{c} }&={  0.8\\  }&{  }\\end{aligned}\\]"
      ],
      "text/plain": [
       "<IPython.core.display.Latex object>"
      ]
     },
     "metadata": {},
     "output_type": "display_data"
    },
    {
     "data": {
      "text/html": [
       "<table border=\"1\" class=\"dataframe\">\n",
       "  <thead>\n",
       "    <tr>\n",
       "      <th></th>\n",
       "      <th>T</th>\n",
       "      <th>p</th>\n",
       "      <th>Vdot</th>\n",
       "    </tr>\n",
       "    <tr>\n",
       "      <th>unit</th>\n",
       "      <th>°R</th>\n",
       "      <th>psi</th>\n",
       "      <th>ft³/s</th>\n",
       "    </tr>\n",
       "  </thead>\n",
       "  <tbody>\n",
       "    <tr>\n",
       "      <th>1</th>\n",
       "      <td>529.67</td>\n",
       "      <td>14.7</td>\n",
       "      <td>50</td>\n",
       "    </tr>\n",
       "    <tr>\n",
       "      <th>2</th>\n",
       "      <td>-</td>\n",
       "      <td>147.0</td>\n",
       "      <td>-</td>\n",
       "    </tr>\n",
       "  </tbody>\n",
       "</table>"
      ],
      "text/plain": [
       "<IPython.core.display.HTML object>"
      ]
     },
     "metadata": {},
     "output_type": "display_data"
    }
   ],
   "source": [
    "# the next three lines show different ways of achieving the result of creating a dimensional quantity, but the Q_() syntax is the preferred method.\n",
    "T[1] = Quantity(70.,'degF')              # inlet temperature\n",
    "p[1] = 14.7*units.psi              # inlet pressure\n",
    "Vdot[1] = 3000.0*units('ft^3/min') # volumetric flow rate at inlet\n",
    "p[2] = 10*p[1]                     # exit pressure\n",
    "eta_c = Quantity(0.8,'')                 # isentropic efficiency\n",
    "\n",
    "display.Summary(locals());"
   ]
  },
  {
   "cell_type": "markdown",
   "metadata": {},
   "source": [
    "\n",
    "### Assumptions\n",
    "  - Negligible changes in kinetic energy \n",
    "  - Negligible changes in potential energy \n",
    "  - Adiabatic (no heat transfer)\n",
    "  - Constant specific heat (cold-air-standard)\n",
    "  - Ideal gas (cold-air-standard)\n",
    "\n",
    "We could pull properties for air from the tables in the back of the book since we are assuming constant specific heat and ideal gas behavior, or we can look them using `air` reference we created earlier\n"
   ]
  },
  {
   "cell_type": "code",
   "execution_count": 4,
   "metadata": {
    "collapsed": false,
    "jupyter": {
     "outputs_hidden": false
    }
   },
   "outputs": [
    {
     "data": {
      "text/markdown": [
       " Ideal Gas"
      ],
      "text/plain": [
       "<IPython.core.display.Markdown object>"
      ]
     },
     "metadata": {},
     "output_type": "display_data"
    },
    {
     "data": {
      "text/markdown": [
       " Constant thermal properties at room temperature"
      ],
      "text/plain": [
       "<IPython.core.display.Markdown object>"
      ]
     },
     "metadata": {},
     "output_type": "display_data"
    },
    {
     "data": {
      "text/latex": [
       "\\[\n",
       "  \\begin{aligned}\n",
       "    { T_{room} }&={  25\\ \\mathrm{°C}  }\n",
       "  \\end{aligned}\n",
       "\\]\n"
      ],
      "text/plain": [
       "<IPython.core.display.Latex object>"
      ]
     },
     "metadata": {},
     "output_type": "display_data"
    },
    {
     "data": {
      "text/latex": [
       "\\[\n",
       "  \\begin{aligned}\n",
       "    { c_{p} }&={ \\mathrm{\\underset{air}{cp}}\\left(T_{room}\\right) } = { 1.0047\\ \\frac{\\mathrm{kJ}}{\\left(\\mathrm{K} \\cdot \\mathrm{kg}\\right)}  }\n",
       "  \\end{aligned}\n",
       "\\]\n"
      ],
      "text/plain": [
       "<IPython.core.display.Latex object>"
      ]
     },
     "metadata": {},
     "output_type": "display_data"
    },
    {
     "data": {
      "text/latex": [
       "\\[\n",
       "  \\begin{aligned}\n",
       "    { k }&={ \\mathrm{\\underset{air}{k}}\\left(T_{room}\\right) } = { 1.4\\  }\n",
       "  \\end{aligned}\n",
       "\\]\n"
      ],
      "text/plain": [
       "<IPython.core.display.Latex object>"
      ]
     },
     "metadata": {},
     "output_type": "display_data"
    }
   ],
   "source": [
    "# Ideal Gas\n",
    "R = air.R   # specific gas constant\n",
    "\n",
    "# Constant thermal properties at room temperature\n",
    "T_room = Quantity(25,'degC') # room temperature\n",
    "c_p = air.Cp(T_room)   # constant pressure specific heat at room temperature\n",
    "k = air.k(T_room)      # specific heat ratio at room temperature\n",
    "\n",
    "display.Calculations(locals(),comments=True);"
   ]
  },
  {
   "cell_type": "markdown",
   "metadata": {},
   "source": [
    "### Isentropic Efficiency\n",
    "The isentropic efficiency of a compressor is defined as the ratio of the work that would be required if the compressor were ideal (isentropic) and operating between the same inlet state and exit pressure as the real device to the actual work.\n",
    "$$\\eta_c=\\frac{\\dot{W}_s}{\\dot{W}_c}$$\n",
    "where $\\dot{W}_s$ is the rate of isentropic work and $\\dot{W}_c$ is the rate of actual compressor work.  From a first law analysis, we can rewrite the work terms as changes in enthalpy between the inlet and exit states.\n",
    "$$\\require{cancel}\n",
    "\\eta_c = \\frac{\\cancel{\\dot{m}}(h_{2s}-h_1)}{\\cancel{\\dot{m}}(h_2-h_1)}$$\n",
    "Applying the constant specific heat assumption allows us to rewrite the changes in enthalpy as $\\Delta h=c_p\\Delta T$\n",
    "$$\\require{cancel}\n",
    "\\eta_c = \\frac{\\cancel{c_p}(T_{2s}-T_1)}{\\cancel{c_p}(T_2-T_1)}$$\n",
    "Our first goal is to find the exit temperature, so we solve for $T_2$\n",
    "$$T_2 = T_1 + \\frac{T_{2s}-T_1}{\\eta_c}$$\n",
    "However, in order to use this equation, we first need to find the temperature of the isentropic exit state, $T_{2s}$.  We can find this using ideal gas polytropic relations with $n=k$\n",
    "$$T_{2s}=T_1\\left(\\frac{p_2}{p_1}\\right)^{\\frac{k-1}{k}}$$\n",
    "Note that in order to apply the polytropic relation above, we must convert the temperatures to absolute units, i.e. $^\\circ\\text{R}$"
   ]
  },
  {
   "cell_type": "code",
   "execution_count": 5,
   "metadata": {
    "collapsed": false,
    "jupyter": {
     "outputs_hidden": false
    }
   },
   "outputs": [
    {
     "data": {
      "text/latex": [
       "\\[\n",
       "  \\begin{aligned}{ T_{2s} }&={ T_{1} \\left(\\frac{p_{2}}{p_{1}}\\right)^{\\frac{k - 1}{k}} }\\\\\n",
       "    &={ \\left( 529.67\\ \\mathrm{°R} \\right) \\left(\\frac{\\left( 147.0\\ \\mathrm{psi} \\right)}{\\left( 14.7\\ \\mathrm{psi} \\right)}\\right)^{\\frac{\\left( 1.4\\ \\right) -  1 }{\\left( 1.4\\ \\right)}} }\\\\\n",
       "    &={  1022.6\\ \\mathrm{°R}  }\n",
       "  \\end{aligned}\n",
       "\\]\n"
      ],
      "text/plain": [
       "<IPython.core.display.Latex object>"
      ]
     },
     "metadata": {},
     "output_type": "display_data"
    },
    {
     "data": {
      "text/latex": [
       "\\[\n",
       "  \\begin{aligned}{ T_{2} }&={ T_{1} + \\frac{T_{2s} - T_{1}}{\\eta_{c}} }\\\\\n",
       "    &={ \\left( 529.67\\ \\mathrm{°R} \\right) + \\frac{\\left( 562.93\\ \\mathrm{°F} \\right) - \\left( 529.67\\ \\mathrm{°R} \\right)}{\\left( 0.8\\ \\right)} }\\\\\n",
       "    &={  1145.8\\ \\mathrm{°R}  }\n",
       "  \\end{aligned}\n",
       "\\]\n"
      ],
      "text/plain": [
       "<IPython.core.display.Latex object>"
      ]
     },
     "metadata": {},
     "output_type": "display_data"
    }
   ],
   "source": [
    "T['2s'] = T[1].to('degR')*(p[2]/p[1])**((k-1)/k)\n",
    "T[2] = T[1] + (T['2s'].to('degF')-T[1])/eta_c\n",
    "\n",
    "display.Calculations(locals(),comments=True);"
   ]
  },
  {
   "cell_type": "markdown",
   "metadata": {},
   "source": [
    "Now that we know the actual exit temperature, we can find the actual rate of work using the 1st Law.\n",
    "$$\\dot{W}_c = \\dot{m}c_p(T_2-T_1)$$\n",
    "However, we will also need to use the ideal gas law to find the mass flow rate before applying this equation.\n",
    "$$\\dot{m}_1 = \\frac{p_1\\dot{V}_1}{RT_1}$$"
   ]
  },
  {
   "cell_type": "code",
   "execution_count": 6,
   "metadata": {
    "collapsed": false,
    "jupyter": {
     "outputs_hidden": false
    }
   },
   "outputs": [
    {
     "data": {
      "text/latex": [
       "\\[\n",
       "  \\begin{aligned}{ \\dot{m} }&={ \\frac{p_{1} \\dot{V}_{1}}{R T_{1}} }\\\\\n",
       "    &={ \\frac{\\left( 14.7\\ \\mathrm{psi} \\right) \\left( 50.0\\ \\frac{\\mathrm{ft}^{3}}{\\mathrm{s}} \\right)}{\\left( 0.28705\\ \\frac{\\mathrm{kJ}}{\\left(\\mathrm{K} \\cdot \\mathrm{kg}\\right)} \\right) \\left( 529.67\\ \\mathrm{°R} \\right)} }\\\\\n",
       "    &={  224.72\\ \\frac{\\mathrm{lb}}{\\mathrm{min}}  }\n",
       "  \\end{aligned}\n",
       "\\]\n"
      ],
      "text/plain": [
       "<IPython.core.display.Latex object>"
      ]
     },
     "metadata": {},
     "output_type": "display_data"
    },
    {
     "data": {
      "text/latex": [
       "\\[\n",
       "  \\begin{aligned}{ \\dot{W}_{c} }&={ \\dot{m} c_{p} \\left(T_{2} - T_{1}\\right) }\\\\\n",
       "    &={ \\left( 224.72\\ \\frac{\\mathrm{lb}}{\\mathrm{min}} \\right) \\left( 1.0047\\ \\frac{\\mathrm{kJ}}{\\left(\\mathrm{K} \\cdot \\mathrm{kg}\\right)} \\right) \\left(\\left( 1145.8\\ \\mathrm{°R} \\right) - \\left( 529.67\\ \\mathrm{°R} \\right)\\right) }\\\\\n",
       "    &={  783.55\\ \\mathrm{hp}  }\n",
       "  \\end{aligned}\n",
       "\\]\n"
      ],
      "text/plain": [
       "<IPython.core.display.Latex object>"
      ]
     },
     "metadata": {},
     "output_type": "display_data"
    }
   ],
   "source": [
    "mdot = (p[1]*Vdot[1])/(R*T[1].to('degR'))\n",
    "mdot = mdot.to('lb/min') # hide\n",
    "\n",
    "Wdot_c = mdot*c_p*(T[2]-T[1])\n",
    "Wdot_c = Wdot_c.to('hp') # hide\n",
    "\n",
    "display.Calculations(locals(),comments=True);"
   ]
  },
  {
   "cell_type": "markdown",
   "metadata": {},
   "source": [
    "### Second Law Analysis\n",
    "To determine the entropy generation, we need to do a 2nd Law analysis\n",
    "\n",
    "$$\\require{cancel}\n",
    "\\cancelto{0}{\\frac{dS_{CV}}{dt}}= \\sum_j\\frac{\\cancelto{0}{\\dot{Q}_j}}{T_j}+\\sum_i\\dot{m}_is_i-\\sum_e\\dot{m}_es_e+\\dot{S}_{gen}$$\n",
    "$$\\dot{S}_{gen} = \\dot{m}(s_e-s_i)$$\n",
    "which can be rewritten using the constant specific heat assumption as\n",
    "$$\\dot{S}_{gen} = \\dot{m}\\left[ c_p\\ln\\left(\\frac{T_2}{T_1}\\right)-R\\ln\\left(\\frac{p_2}{p_1}\\right)\\right]$$\n",
    "where the temperatures and pressure must be in absolute units for this equation to be valid.\n"
   ]
  },
  {
   "cell_type": "code",
   "execution_count": 7,
   "metadata": {
    "collapsed": false,
    "jupyter": {
     "outputs_hidden": false
    }
   },
   "outputs": [
    {
     "data": {
      "text/markdown": [
       " Note: we use the `log` function from the math library for $\\ln()$"
      ],
      "text/plain": [
       "<IPython.core.display.Markdown object>"
      ]
     },
     "metadata": {},
     "output_type": "display_data"
    },
    {
     "data": {
      "text/latex": [
       "\\[\n",
       "  \\begin{aligned}{ \\dot{S}_{gen} }&={ \\dot{m} \\left(c_{p} log(T[2]/T[1]) - R log(p[2]/p[1])\\right) }\\\\\n",
       "    &={ \\left( 224.72\\ \\frac{\\mathrm{lb}}{\\mathrm{min}} \\right) \\left(\\left( 1.0047\\ \\frac{\\mathrm{kJ}}{\\left(\\mathrm{K} \\cdot \\mathrm{kg}\\right)} \\right) 0.77163 - \\left( 0.28705\\ \\frac{\\mathrm{kJ}}{\\left(\\mathrm{K} \\cdot \\mathrm{kg}\\right)} \\right) 2.3026\\right) }\\\\\n",
       "    &={  25.69\\ \\frac{\\mathrm{kJ} \\cdot \\mathrm{lb}}{\\left(\\mathrm{K} \\cdot \\mathrm{kg} \\cdot \\mathrm{min}\\right)}  }\n",
       "  \\end{aligned}\n",
       "\\]\n"
      ],
      "text/plain": [
       "<IPython.core.display.Latex object>"
      ]
     },
     "metadata": {},
     "output_type": "display_data"
    }
   ],
   "source": [
    "# Note: we use the `log` function from the math library for $\\ln()$\n",
    "Sdot_gen = mdot*( c_p*log(T[2]/T[1]) - R*log(p[2]/p[1]))\n",
    "\n",
    "display.Calculations(locals(),comments=True);"
   ]
  },
  {
   "cell_type": "markdown",
   "metadata": {},
   "source": [
    "Note that we used `log` from the `math` library (imported in the first cell of this notebook) to evaluate the natural log in the above equation.  It is common in many programming languages and higher level textbooks to treat the natural log, $\\ln()$, as the default $\\log()$ and the base 10 log is only applied if it is explicitly stated, i.e. $\\log_{10}()$."
   ]
  },
  {
   "cell_type": "code",
   "execution_count": 8,
   "metadata": {
    "collapsed": false,
    "jupyter": {
     "outputs_hidden": false
    }
   },
   "outputs": [
    {
     "data": {
      "text/plain": [
       "1.0"
      ]
     },
     "execution_count": 8,
     "metadata": {},
     "output_type": "execute_result"
    }
   ],
   "source": [
    "from math import e\n",
    "log(e)"
   ]
  },
  {
   "cell_type": "code",
   "execution_count": 9,
   "metadata": {
    "collapsed": false,
    "jupyter": {
     "outputs_hidden": false
    }
   },
   "outputs": [
    {
     "data": {
      "text/plain": [
       "1.0"
      ]
     },
     "execution_count": 9,
     "metadata": {},
     "output_type": "execute_result"
    }
   ],
   "source": [
    "from math import log10\n",
    "log10(10)"
   ]
  }
 ],
 "metadata": {
  "kernelspec": {
   "display_name": "Python 3",
   "language": "python",
   "name": "python3"
  },
  "language_info": {
   "codemirror_mode": {
    "name": "ipython",
    "version": 3
   },
   "file_extension": ".py",
   "mimetype": "text/x-python",
   "name": "python",
   "nbconvert_exporter": "python",
   "pygments_lexer": "ipython3",
   "version": "3.8.5"
  }
 },
 "nbformat": 4,
 "nbformat_minor": 4
}
