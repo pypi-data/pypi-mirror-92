{
 "cells": [
  {
   "cell_type": "markdown",
   "metadata": {},
   "source": [
    "# Example 0.1: Filling a Tank\n",
    "*John F. Maddox, Ph.D., P.E.<br>\n",
    "University of Kentucky - Paducah Campus<br>\n",
    "ME 321: Engineering Thermodynamics II<br>*\n",
    "\n",
    "## Problem Statement\n",
    "Steam at a pressure of $14\\,\\mathrm{bar}$ and a temperature of $300^\\circ\\mathrm{C}$ is flowing in a pipe.  Connected to the pipe through a valve is an initially evacuated tank with a volume of $0.25\\,\\mathrm{m^3}$.  The tank fills with steam until mechanical equilibrium is achieved.  Assume the system is adiabatic and that changes in kinetic and potential energy are negligible.  What is the final temperature in the tank, and how much entropy was generated during the process?"
   ]
  },
  {
   "cell_type": "markdown",
   "metadata": {},
   "source": [
    "## Solution\n",
    "\n",
    "- Assumptions\n",
    "  - Negligible changes in kinetic energy (the tank isn't moving)\n",
    "  - Negligible changes in potential energy (the change in potential energy of the steam is small compared to the other terms)\n",
    "  - Adiabatic (no heat transfer)\n",
    "  - No work (rigid container, no moving shafts, etc.)\n",
    "  - No mass exiting the tank\n",
    "  - Mechanical equilibrium, $p_2=p_i$ (process continues until the tank pressure equals the inlet pressure)\n",
    "  "
   ]
  },
  {
   "cell_type": "markdown",
   "metadata": {},
   "source": [
    "- 1st Law\n",
    "\n",
    "$$\n",
    "\\require{cancel}\n",
    "\\Delta U+\\cancel{\\Delta KE} + \\cancel{\\Delta PE} = \\cancel{Q_{1-2}} - \\cancel{W_{1-2}} + \\sum_im_i\\left( h_i + \\cancel{\\frac{V_i^2}{2}} + \\cancel{gz_i} \\right) - \\sum_e \\cancel{m_e} \\left( h_e + \\frac{V_e^2}{2} + gz_e \\right)$$\n",
    "\n",
    "No mass in tank at beginning of process\n",
    "$$m_2u_2-\\cancelto{0}{m_1}u_1=m_ih_i$$\n",
    "\n",
    "The final mass in the tank at the end of the process is the same as the mass that entered the tank, $m_2=m_i$\n",
    "\n",
    "$$\\cancel{m_2}u_2=\\cancel{m_i}{h_i}$$\n",
    "$$u_2 = h_i$$\n",
    "\n",
    "The internal energy at the end of the process will be equal to the enthalpy of the entering fluid, which can be found in the tables using two independent, intensive properties ($T_i$ and $p_i$).\n",
    "$$h_i=h(T=T_i,p=p_i)$$\n",
    "The temperature at the end of the process can then be found in the tables using two independent, intensive properties ($p_2$ and $u_2$)\n",
    "$$T_2=T(p=p_2, u=u_2)$$"
   ]
  },
  {
   "cell_type": "markdown",
   "metadata": {},
   "source": [
    "- Mass\n",
    "  The final mass in the tank can be calculated using the volume of the tank and specific volume of the fluid (inverse of density).\n",
    "  $$m_2=\\frac{V}{v_2}$$\n",
    "  where the specific volume at the end of the process, $v_2$, can be found in the tables using two independent, intensive properties in the same way we found the final temperature.\n",
    "  $$v_2=v(p=p_2,u=u_2)$$"
   ]
  },
  {
   "cell_type": "markdown",
   "metadata": {},
   "source": [
    "- 2nd Law\n",
    "\n",
    "\n",
    "$$m_2s_2-\\cancelto{0}{m_1}s_1 = \\sum_j\\frac{\\cancelto{0}{Q_j}}{T_j}+\\sum_im_is_i-\\sum_e\\cancelto{0}{m_e}s_e+S_{gen}$$\n",
    "\n",
    "\n",
    "$$S_{gen}=m_2(s_2-s_i)$$\n",
    "So the entropy generation is the amount of entropy stored in the tank at the end of the process minus the amount that flowed into the tank through the inlet. That is, the entropy of the supply line decreased as fluid left it to flow into the tank, but the entropy of the tank increased by more than the amount that the supply line decreased. Thus there is a net increase in entropy of the universe."
   ]
  },
  {
   "cell_type": "markdown",
   "metadata": {},
   "source": [
    "### Solving Using Python \n",
    "We will look at two methods for solving this problem using Python.  One will use only the Python standard library to perform the calculations using values pulled from your textbook (the same way you would use your calculator).  The other method will use some third-party and custom libraries to automate the property evaluation.\n",
    "\n"
   ]
  },
  {
   "cell_type": "markdown",
   "metadata": {},
   "source": [
    "#### Method 1) Using Property Tables from the Textbook with Standard Python Library\n",
    "In the example code below, we define variables to hold our given values, then we perform calculations with them.  In this mode, the Python interpreter is providing little more benefit than using a calculator.  However, we at least have a record of our calculations, and we could easily repeat them for different inital conditions if needed."
   ]
  },
  {
   "cell_type": "code",
   "execution_count": null,
   "metadata": {
    "collapsed": false,
    "jupyter": {
     "outputs_hidden": false
    }
   },
   "outputs": [],
   "source": [
    "# Given Parameters\n",
    "T_i = 300 # inlet temperature (C)\n",
    "p_i = 14*100 # inlet pressure (kPa) Note: 1 bar = 100 kPa\n",
    "V = 0.25 # tank volume\n",
    "\n",
    "# Assumptions\n",
    "p_2 = p_i # mechanical equilibrium -> final pressure is same as inlet pressure\n",
    "\n",
    "# Look up enthalpy in property tables h(T_i,p_i) \n",
    "# Superheated steam, 1.4 MPa\n",
    "h_i = 3040.9 # (kJ/kg) \n",
    "print('h_i = {:.1f} kJ/kg'.format(h_i))\n",
    "\n",
    "# 1st Law\n",
    "u_2 = h_i\n",
    "print('u_2 = {:.2f} kJ/kg'.format(u_2))\n",
    "\n",
    "# Look up temperature in property tables T(p_2,u_2) \n",
    "# Superheated steam, doesn't line up with temperature so we will need to interpolate\n",
    "# (y-y_below)/(y_above-y_below) = (x-x_below)/(x_above-x_below) -> Solve for desired quantity (y)\n",
    "# y = (x-x_below)/(x_above-x_below)*(y_above-y_below)+y_below\n",
    "T_2 = (u_2-2953.1)/(3121.8-2953.1)*(500-400)+400 # (C) T(p=1400 kPa, u=u_2)\n",
    "print('The final temperature is T_2 = {:.2f} C'.format(T_2))\n",
    "\n",
    "# Look up specific volume in tables v(p_2,u_2)\n",
    "# Will need to interpolate again\n",
    "v_2 = (u_2-2953.1)/(3121.8-2953.1)*(0.25216-0.21782)+0.21782 # (m^3/kg) v(p=1400 kPa, u=u_2)\n",
    "print('v_2 = {:.3f} m^3/kg'.format(v_2))\n",
    "\n",
    "# Calculate mass from volume and specific volume\n",
    "m_2 = V/v_2\n",
    "print('m_2 = {:.5f} kg'.format(m_2))\n",
    "\n",
    "# 2nd Law\n",
    "# Look up specific entropies for inlet and final state\n",
    "s_i = 6.9553 # (kJ/kg/K) s(p=1400 kPa, T=T_i)\n",
    "print('s_i = {:.4f} kJ/kg/K'.format(s_i))\n",
    "s_2 = (u_2-2953.1)/(3121.8-2953.1)*(7.6047-7.3046)+7.3046 # (m^3/kg) s(p=1400 kPa, u=u_2)\n",
    "print('s_2 = {:.4f} kJ/kg/K'.format(s_2))\n",
    "S_gen = m_2*(s_2-s_i)\n",
    "print('The entropy generation is: S_gen = {:.4f} kJ/(kg K)'.format(S_gen))"
   ]
  },
  {
   "cell_type": "markdown",
   "metadata": {},
   "source": [
    "The example code above used just the standard python library to complete our calculations.  This is nice because we could re-run that code on any computer with a Python interpreter without the need to install additional software or packages.  However, there are a few weakness in this approach.  \n",
    "\n",
    "The most obvious weakness in the example above is that we have \"hard-coded\" many of the numbers required for the calculations.  Specifically, each time we pulled properties from the tables (directly or through interpolation) we typed the numbers from the tables into our code.  If the operating conditions changed, we would need to go through and update each of those numbers by hand **(23 place in this relatively simple example)**.  It would be much better if we could automate that process by using a function to look up the properties for us.  \n",
    "\n",
    "A second weakness is that we didn't include units in our calculations.  Most (if not all) of the numbers we will be using in our calculations for this course represent physical quantities, which have no real significance without their units.  In the example above, we have made comments beside many of the operations to reminds us of the units and we printed the units in the output for our answers.  However, this method requires us to do the unit tracking and unit conversion outside of the calculations, which can lead to unit errors and inconsistency.  It would be better if the unit tracking and conversion were an integral part of our calculations.\n",
    "\n"
   ]
  },
  {
   "cell_type": "markdown",
   "metadata": {},
   "source": [
    "#### Method 2) Using the Custom Library: `kilojoule` \n",
    "Python is a general purpose programming language that is not optimized for math/science computations in it's base configuration.  However, there are many third-party libraries that can be easily loaded at runtime to enable additional capabilities ([`numpy`](http://numpy.org), [`scipy`](scipy.org), [`sympy`](http://sympy.org), [`pandas`](http://pandas.pydata.org), and [`matplotlib`](http://matplotlib.org) are commonly used in scientific computing).  In the example code below, we will load a custom library `kilojoule` (written specifically for this type of problem), which will enable us to automate the property evaluation (no need to look up properties in the tabels or interpolate) and to include units in our calculations (no need to worry about unit conversion mistakes).  This custom library (`kilojoule`) will load a few third-party, publicly available libraries ([`CoolProp`](http://coolprop.org) for property evaluation real fluids, [`PYroMat`](http://pyromat.org) for property evaluation of ideal gases, and [`pint`](https://pint.readthedocs.io/en/stable/) for unit tracking and conversion)."
   ]
  },
  {
   "cell_type": "code",
   "execution_count": 2,
   "metadata": {
    "collapsed": false,
    "jupyter": {
     "outputs_hidden": false
    }
   },
   "outputs": [
    {
     "name": "stderr",
     "output_type": "stream",
     "text": [
      "/opt/anaconda/lib/python3.8/site-packages/mpmath/ctx_mp_python.py:892: SyntaxWarning: \"is\" with a literal. Did you mean \"==\"?\n",
      "  if other is 0:\n",
      "/opt/anaconda/lib/python3.8/site-packages/mpmath/ctx_mp_python.py:986: SyntaxWarning: \"is\" with a literal. Did you mean \"==\"?\n",
      "  if other is 0:\n"
     ]
    },
    {
     "data": {
      "text/markdown": [
       " import libraries (kilojoule depends on CoolProp, PYroMat, pint, sympy, pandas, numpy, and matplotlib)"
      ],
      "text/plain": [
       "<IPython.core.display.Markdown object>"
      ]
     },
     "metadata": {},
     "output_type": "display_data"
    },
    {
     "data": {
      "text/markdown": [
       "##### Property Evaluation ###################"
      ],
      "text/plain": [
       "<IPython.core.display.Markdown object>"
      ]
     },
     "metadata": {},
     "output_type": "display_data"
    },
    {
     "data": {
      "text/markdown": [
       " We will use the CoolProp library to evaluate our water properties, i.e instead of interpolating from tables"
      ],
      "text/plain": [
       "<IPython.core.display.Markdown object>"
      ]
     },
     "metadata": {},
     "output_type": "display_data"
    },
    {
     "data": {
      "text/markdown": [
       "##### Given values from Problem Statement #####"
      ],
      "text/plain": [
       "<IPython.core.display.Markdown object>"
      ]
     },
     "metadata": {},
     "output_type": "display_data"
    },
    {
     "data": {
      "text/markdown": [
       " Note: use `Quantity(value,'units')` syntax to define dimensional quantities"
      ],
      "text/plain": [
       "<IPython.core.display.Markdown object>"
      ]
     },
     "metadata": {},
     "output_type": "display_data"
    },
    {
     "data": {
      "text/latex": [
       "\\[\n",
       "  \\begin{aligned}\n",
       "    { T_{i} }&={  300\\ \\mathrm{°C}  }\n",
       "  \\end{aligned}\n",
       "\\]\n"
      ],
      "text/plain": [
       "<IPython.core.display.Latex object>"
      ]
     },
     "metadata": {},
     "output_type": "display_data"
    },
    {
     "data": {
      "text/latex": [
       "\\[\n",
       "  \\begin{aligned}\n",
       "    { p_{i} }&={ \\left( 14\\ \\mathrm{bar} \\right) } = { 1400.0\\ \\mathrm{kPa}  }\n",
       "  \\end{aligned}\n",
       "\\]\n"
      ],
      "text/plain": [
       "<IPython.core.display.Latex object>"
      ]
     },
     "metadata": {},
     "output_type": "display_data"
    },
    {
     "data": {
      "text/latex": [
       "\\[\n",
       "  \\begin{aligned}\n",
       "    { V }&={  0.25\\ \\mathrm{m}^{3}  }\n",
       "  \\end{aligned}\n",
       "\\]\n"
      ],
      "text/plain": [
       "<IPython.core.display.Latex object>"
      ]
     },
     "metadata": {},
     "output_type": "display_data"
    },
    {
     "data": {
      "text/markdown": [
       "##### Assumptions #############################"
      ],
      "text/plain": [
       "<IPython.core.display.Markdown object>"
      ]
     },
     "metadata": {},
     "output_type": "display_data"
    },
    {
     "data": {
      "text/markdown": [
       " mechanical equilibrium: final pressure is same as inlet pressure"
      ],
      "text/plain": [
       "<IPython.core.display.Markdown object>"
      ]
     },
     "metadata": {},
     "output_type": "display_data"
    },
    {
     "data": {
      "text/latex": [
       "\\[\n",
       "  \\begin{aligned}\n",
       "    { p_{2} }&={ p_{i} } = { 1400.0\\ \\mathrm{kPa}  }\n",
       "  \\end{aligned}\n",
       "\\]\n"
      ],
      "text/plain": [
       "<IPython.core.display.Latex object>"
      ]
     },
     "metadata": {},
     "output_type": "display_data"
    },
    {
     "data": {
      "text/markdown": [
       "##### Solution ################################"
      ],
      "text/plain": [
       "<IPython.core.display.Markdown object>"
      ]
     },
     "metadata": {},
     "output_type": "display_data"
    },
    {
     "data": {
      "text/markdown": [
       " For water: We need two independent intensive properties ($ind_1$, $ind_2$), i.e. $T$ and $P$, to get a dependent intensive property ($dep$), i.e. $h$"
      ],
      "text/plain": [
       "<IPython.core.display.Markdown object>"
      ]
     },
     "metadata": {},
     "output_type": "display_data"
    },
    {
     "data": {
      "text/latex": [
       "\\[\n",
       "  \\begin{aligned}\n",
       "    { h_{i} }&={ water.h(T=T['i'],p=p['i']) } = { 3040.9\\ \\frac{\\mathrm{kJ}}{\\mathrm{kg}}  }\n",
       "  \\end{aligned}\n",
       "\\]\n"
      ],
      "text/plain": [
       "<IPython.core.display.Latex object>"
      ]
     },
     "metadata": {},
     "output_type": "display_data"
    },
    {
     "data": {
      "text/markdown": [
       " First Law Analysis"
      ],
      "text/plain": [
       "<IPython.core.display.Markdown object>"
      ]
     },
     "metadata": {},
     "output_type": "display_data"
    },
    {
     "data": {
      "text/latex": [
       "\\[\n",
       "  \\begin{aligned}\n",
       "    { u_{2} }&={ h_{i} } = { 3040.9\\ \\frac{\\mathrm{kJ}}{\\mathrm{kg}}  }\n",
       "  \\end{aligned}\n",
       "\\]\n"
      ],
      "text/plain": [
       "<IPython.core.display.Latex object>"
      ]
     },
     "metadata": {},
     "output_type": "display_data"
    },
    {
     "data": {
      "text/markdown": [
       " Look up temperature for $p_2$ and $u_2$"
      ],
      "text/plain": [
       "<IPython.core.display.Markdown object>"
      ]
     },
     "metadata": {},
     "output_type": "display_data"
    },
    {
     "data": {
      "text/latex": [
       "\\[\n",
       "  \\begin{aligned}\n",
       "    { T_{2} }&={ water.T(p=p[2],u=u[2],) } = { 452.33\\ \\mathrm{°C}  }\n",
       "  \\end{aligned}\n",
       "\\]\n"
      ],
      "text/plain": [
       "<IPython.core.display.Latex object>"
      ]
     },
     "metadata": {},
     "output_type": "display_data"
    },
    {
     "data": {
      "text/markdown": [
       " Mass Balance"
      ],
      "text/plain": [
       "<IPython.core.display.Markdown object>"
      ]
     },
     "metadata": {},
     "output_type": "display_data"
    },
    {
     "data": {
      "text/latex": [
       "\\[\n",
       "  \\begin{aligned}\n",
       "    { v_{2} }&={ water.v(T=T[2],p=p[2]) } = { 0.23588\\ \\frac{\\mathrm{m}^{3}}{\\mathrm{kg}}  }\n",
       "  \\end{aligned}\n",
       "\\]\n"
      ],
      "text/plain": [
       "<IPython.core.display.Latex object>"
      ]
     },
     "metadata": {},
     "output_type": "display_data"
    },
    {
     "data": {
      "text/latex": [
       "\\[\n",
       "  \\begin{aligned}{ m_{2} }&={ \\frac{V}{v_{2}} }\\\\\n",
       "    &={ \\frac{\\left( 0.25\\ \\mathrm{m}^{3} \\right)}{\\left( 0.23588\\ \\frac{\\mathrm{m}^{3}}{\\mathrm{kg}} \\right)} }\\\\\n",
       "    &={  1.0599\\ \\mathrm{kg}  }\n",
       "  \\end{aligned}\n",
       "\\]\n"
      ],
      "text/plain": [
       "<IPython.core.display.Latex object>"
      ]
     },
     "metadata": {},
     "output_type": "display_data"
    },
    {
     "data": {
      "text/latex": [
       "\\[\n",
       "  \\begin{aligned}\n",
       "    { m_{i} }&={ m_{2} } = { 1.0599\\ \\mathrm{kg}  }\n",
       "  \\end{aligned}\n",
       "\\]\n"
      ],
      "text/plain": [
       "<IPython.core.display.Latex object>"
      ]
     },
     "metadata": {},
     "output_type": "display_data"
    },
    {
     "data": {
      "text/markdown": [
       " Look up entropy values"
      ],
      "text/plain": [
       "<IPython.core.display.Markdown object>"
      ]
     },
     "metadata": {},
     "output_type": "display_data"
    },
    {
     "data": {
      "text/latex": [
       "\\[\n",
       "  \\begin{aligned}\n",
       "    { s_{i} }&={ water.s(T=T['i'],p=p['i']) } = { 6.9552\\ \\frac{\\mathrm{kJ}}{\\left(\\mathrm{K} \\cdot \\mathrm{kg}\\right)}  }\n",
       "  \\end{aligned}\n",
       "\\]\n"
      ],
      "text/plain": [
       "<IPython.core.display.Latex object>"
      ]
     },
     "metadata": {},
     "output_type": "display_data"
    },
    {
     "data": {
      "text/latex": [
       "\\[\n",
       "  \\begin{aligned}\n",
       "    { s_{2} }&={ water.s(T=T[2],p=p[2]) } = { 7.4663\\ \\frac{\\mathrm{kJ}}{\\left(\\mathrm{K} \\cdot \\mathrm{kg}\\right)}  }\n",
       "  \\end{aligned}\n",
       "\\]\n"
      ],
      "text/plain": [
       "<IPython.core.display.Latex object>"
      ]
     },
     "metadata": {},
     "output_type": "display_data"
    },
    {
     "data": {
      "text/markdown": [
       " Second Law"
      ],
      "text/plain": [
       "<IPython.core.display.Markdown object>"
      ]
     },
     "metadata": {},
     "output_type": "display_data"
    },
    {
     "data": {
      "text/latex": [
       "\\[\n",
       "  \\begin{aligned}{ S_{gen} }&={ m_{2} \\left(s_{2} - s_{i}\\right) }\\\\\n",
       "    &={ \\left( 1.0599\\ \\mathrm{kg} \\right) \\left(\\left( 7.4663\\ \\frac{\\mathrm{kJ}}{\\left(\\mathrm{K} \\cdot \\mathrm{kg}\\right)} \\right) - \\left( 6.9552\\ \\frac{\\mathrm{kJ}}{\\left(\\mathrm{K} \\cdot \\mathrm{kg}\\right)} \\right)\\right) }\\\\\n",
       "    &={  0.5417\\ \\frac{\\mathrm{kJ}}{\\mathrm{K}}  }\n",
       "  \\end{aligned}\n",
       "\\]\n"
      ],
      "text/plain": [
       "<IPython.core.display.Latex object>"
      ]
     },
     "metadata": {},
     "output_type": "display_data"
    },
    {
     "data": {
      "text/markdown": [
       "##### Summary of Results ######################"
      ],
      "text/plain": [
       "<IPython.core.display.Markdown object>"
      ]
     },
     "metadata": {},
     "output_type": "display_data"
    },
    {
     "data": {
      "text/latex": [
       "\\[\\begin{aligned}{ S_{gen} }&={  0.5417\\ \\frac{\\mathrm{kJ}}{\\mathrm{K}}  }&{ V }&={  0.25\\ \\mathrm{m}^{3}  }&{  }\\end{aligned}\\]"
      ],
      "text/plain": [
       "<IPython.core.display.Latex object>"
      ]
     },
     "metadata": {},
     "output_type": "display_data"
    },
    {
     "data": {
      "text/html": [
       "<table border=\"1\" class=\"dataframe\">\n",
       "  <thead>\n",
       "    <tr>\n",
       "      <th></th>\n",
       "      <th>T</th>\n",
       "      <th>p</th>\n",
       "      <th>v</th>\n",
       "      <th>u</th>\n",
       "      <th>h</th>\n",
       "      <th>s</th>\n",
       "      <th>m</th>\n",
       "    </tr>\n",
       "    <tr>\n",
       "      <th>unit</th>\n",
       "      <th>°C</th>\n",
       "      <th>kPa</th>\n",
       "      <th>m³/kg</th>\n",
       "      <th>kJ/kg</th>\n",
       "      <th>kJ/kg</th>\n",
       "      <th>kJ/K/kg</th>\n",
       "      <th>kg</th>\n",
       "    </tr>\n",
       "  </thead>\n",
       "  <tbody>\n",
       "    <tr>\n",
       "      <th>2</th>\n",
       "      <td>452.330703</td>\n",
       "      <td>1400.0</td>\n",
       "      <td>0.235878</td>\n",
       "      <td>3040.92</td>\n",
       "      <td>-</td>\n",
       "      <td>7.466333</td>\n",
       "      <td>1.059871</td>\n",
       "    </tr>\n",
       "    <tr>\n",
       "      <th>i</th>\n",
       "      <td>300.000000</td>\n",
       "      <td>1400.0</td>\n",
       "      <td>-</td>\n",
       "      <td>-</td>\n",
       "      <td>3040.92</td>\n",
       "      <td>6.955232</td>\n",
       "      <td>1.059871</td>\n",
       "    </tr>\n",
       "  </tbody>\n",
       "</table>"
      ],
      "text/plain": [
       "<IPython.core.display.HTML object>"
      ]
     },
     "metadata": {},
     "output_type": "display_data"
    }
   ],
   "source": [
    "# import libraries (kilojoule depends on CoolProp, PYroMat, pint, sympy, pandas, numpy, and matplotlib)\n",
    "from kilojoule.templates.default import *\n",
    "\n",
    "###### Property Evaluation ###################\n",
    "# We will use the CoolProp library to evaluate our water properties, i.e instead of interpolating from tables\n",
    "water = realfluid.Properties('Water', unit_system='SI_C') # instantiate the realfluid.Properties class with the fluid type set to Water\n",
    "    \n",
    "###### Given values from Problem Statement #####\n",
    "# Note: use `Quantity(value,'units')` syntax to define dimensional quantities\n",
    "T['i'] = Quantity(300,'degC') # inlet temperature\n",
    "p['i'] = Quantity(14,'bar') # inlet pressure\n",
    "V = Quantity(0.25,'m^3') # tank volume\n",
    "\n",
    "###### Assumptions #############################\n",
    "# mechanical equilibrium: final pressure is same as inlet pressure\n",
    "p[2]=p['i'] \n",
    "\n",
    "###### Solution ################################\n",
    "# For water: We need two independent intensive properties ($ind_1$, $ind_2$), i.e. $T$ and $P$, to get a dependent intensive property ($dep$), i.e. $h$\n",
    "h['i'] = water.h(T=T['i'],p=p['i']) # h_i=h(T_i,p_i) for water\n",
    "\n",
    "# First Law Analysis\n",
    "u[2] = h['i'] \n",
    "\n",
    "# Look up temperature for $p_2$ and $u_2$\n",
    "T[2] = water.T(p=p[2], u=u[2],) # T_2=T(p_2,u_2) for water\n",
    "\n",
    "# Mass Balance\n",
    "v[2] = water.v(T=T[2], p=p[2]) # v_2=v(T_2,p_2) for water\n",
    "m[2] = V/v[2]\n",
    "m['i'] = m[2]\n",
    "\n",
    "# Look up entropy values\n",
    "s['i'] = water.s(T=T['i'],p=p['i'])\n",
    "s[2] = water.s(T=T[2],p=p[2])\n",
    "\n",
    "# Second Law\n",
    "S_gen = m[2]*(s[2]-s['i'])\n",
    "\n",
    "###### Summary of Results ######################\n",
    "display.Calculations(locals(), comments=True)\n",
    "display.Summary(locals());"
   ]
  },
  {
   "cell_type": "markdown",
   "metadata": {},
   "source": [
    "In the second version of the example, you can see that there are **only three hard coded numbers**: the inlet temperature (`T['i']`), the inlet pressure (`p['i']`), and the tank volume (`V`).  This is a major improvement over the first iteration of the code because we can simply change the three lines in the `# Given Parameters` section to re-run our calculations for different operating conditions, a different unit system (i.e. English units), or even a different fluid (assuming we select one of the fluids supported by the `CoolProp` library).\n",
    "\n",
    "You will also notice that the units were an integral part of the calculation.  All the functions in the `kilojoule` library support (and require) dimensional units for all physical quantities.  Besides being a good practice to use for all engineering calculations, this has the added benefit that the unit conversions are handled automatically; we did not need to convert 14 bar to 1400 kPa manually, and we did not need to specify the output units for each of the calculated parameters.  \n",
    "\n",
    "Finally, the `kilojoule` package provides the `display` module with the `display.Calculations()` and `display.Summary()` classes that take advantage of the $\\LaTeX$ capability built into to the Jupyter notebook to display the results of the calculations in nicely formatted equations that appear the way you would write them by hand.  The progression for each calculation from symbolic form to expanded numeric form to final solution allows the reader to see the details of your work quickly. "
   ]
  }
 ],
 "metadata": {
  "kernelspec": {
   "display_name": "Python 3",
   "language": "python",
   "name": "python3"
  },
  "language_info": {
   "codemirror_mode": {
    "name": "ipython",
    "version": 3
   },
   "file_extension": ".py",
   "mimetype": "text/x-python",
   "name": "python",
   "nbconvert_exporter": "python",
   "pygments_lexer": "ipython3",
   "version": "3.8.5"
  }
 },
 "nbformat": 4,
 "nbformat_minor": 4
}
