{
 "cells": [
  {
   "cell_type": "markdown",
   "metadata": {},
   "source": [
    "\n",
    "# Example 0.3: Tank and Turbine\n",
    "*John F. Maddox, Ph.D., P.E.<br>\n",
    "University of Kentucky - Paducah Campus<br>\n",
    "ME 321: Engineering Thermodynamics II<br>*"
   ]
  },
  {
   "attachments": {
    "tanksandturbine.png": {
     "image/png": "[encoded data removed]"
    }
   },
   "cell_type": "markdown",
   "metadata": {},
   "source": [
    "## Problem Statement\n",
    "A steam engine consists of a boiler tank connected to a turbine, as shown below. The boiler tank has a volume of 100 L and initially contains saturated liquid with a very small amount of vapor at 100 kPa. Heat is added by a burner, and the pressure regulator does not open before the boiler pressure reaches 700 kPa, which it keeps constant. The vapor leaving the boiler tank passes through a turbine and is discharged to the atmosphere as saturated vapor at 100 kPa. The burner is turned off when no more liquid is present in the boiler. Assume the turbine is adiabatic and the changes in kinetic and potential energy across the turbine are negligible.\n",
    "<img src=\"attachment:tanksandturbine.png\" style=\"max-width:100%\">"
   ]
  },
  {
   "cell_type": "markdown",
   "metadata": {},
   "source": [
    "## Solution\n"
   ]
  },
  {
   "cell_type": "markdown",
   "metadata": {},
   "source": [
    "### Python Initialization\n",
    "We'll start by importing the libraries we will use for our analysis."
   ]
  },
  {
   "cell_type": "code",
   "execution_count": 1,
   "metadata": {
    "collapsed": false,
    "jupyter": {
     "outputs_hidden": false
    }
   },
   "outputs": [
    {
     "name": "stderr",
     "output_type": "stream",
     "text": [
      "/opt/anaconda/lib/python3.8/site-packages/mpmath/ctx_mp_python.py:892: SyntaxWarning: \"is\" with a literal. Did you mean \"==\"?\n",
      "  if other is 0:\n",
      "/opt/anaconda/lib/python3.8/site-packages/mpmath/ctx_mp_python.py:986: SyntaxWarning: \"is\" with a literal. Did you mean \"==\"?\n",
      "  if other is 0:\n"
     ]
    }
   ],
   "source": [
    "from kilojoule.templates.default import *"
   ]
  },
  {
   "cell_type": "markdown",
   "metadata": {},
   "source": [
    "We will use the `realfluid.Properties()` class from the `kilojoule` library for this solution"
   ]
  },
  {
   "cell_type": "code",
   "execution_count": 2,
   "metadata": {
    "collapsed": false,
    "jupyter": {
     "outputs_hidden": false
    }
   },
   "outputs": [],
   "source": [
    "water = realfluid.Properties('Water')"
   ]
  },
  {
   "cell_type": "markdown",
   "metadata": {},
   "source": [
    "### Given Parameters\n",
    "We now define variables to hold our known values."
   ]
  },
  {
   "cell_type": "code",
   "execution_count": 3,
   "metadata": {
    "collapsed": false,
    "jupyter": {
     "outputs_hidden": false
    }
   },
   "outputs": [
    {
     "data": {
      "text/latex": [
       "\\[\n",
       "  \\begin{aligned}\n",
       "    { p_{1} }&={  100\\ \\mathrm{kPa}  }\n",
       "  \\end{aligned}\n",
       "\\]\n"
      ],
      "text/plain": [
       "<IPython.core.display.Latex object>"
      ]
     },
     "metadata": {},
     "output_type": "display_data"
    },
    {
     "data": {
      "text/latex": [
       "\\[\n",
       "  \\begin{aligned}\n",
       "    { V_{tank} }&={  0.1\\ \\mathrm{m}^{3}  }\n",
       "  \\end{aligned}\n",
       "\\]\n"
      ],
      "text/plain": [
       "<IPython.core.display.Latex object>"
      ]
     },
     "metadata": {},
     "output_type": "display_data"
    },
    {
     "data": {
      "text/latex": [
       "\\[\n",
       "  \\begin{aligned}\n",
       "    { p_{2} }&={  700\\ \\mathrm{kPa}  }\n",
       "  \\end{aligned}\n",
       "\\]\n"
      ],
      "text/plain": [
       "<IPython.core.display.Latex object>"
      ]
     },
     "metadata": {},
     "output_type": "display_data"
    },
    {
     "data": {
      "text/latex": [
       "\\[\n",
       "  \\begin{aligned}\n",
       "    { p_{turbine,exit} }&={  100\\ \\mathrm{kPa}  }\n",
       "  \\end{aligned}\n",
       "\\]\n"
      ],
      "text/plain": [
       "<IPython.core.display.Latex object>"
      ]
     },
     "metadata": {},
     "output_type": "display_data"
    },
    {
     "data": {
      "text/latex": [
       "\\[\n",
       "  \\begin{aligned}\n",
       "    { x_{turbine,exit} }&={  1\\  }\n",
       "  \\end{aligned}\n",
       "\\]\n"
      ],
      "text/plain": [
       "<IPython.core.display.Latex object>"
      ]
     },
     "metadata": {},
     "output_type": "display_data"
    }
   ],
   "source": [
    "p[1] = Quantity(100,'kPa')            # initial pressure in tank\n",
    "V_tank = Quantity(100,'L').to('m^3')  # tank volume\n",
    "p[2] = Quantity(700,'kPa')            # final pressure in tank\n",
    "p['turbine_exit'] = Quantity(100,'kPa')  # pressure of fluid exiting turbine\n",
    "x['turbine_exit'] = Quantity(1,'')       # quality of fluid exiting turbine\n",
    "\n",
    "display.Calculations(locals());"
   ]
  },
  {
   "cell_type": "markdown",
   "metadata": {},
   "source": [
    "### Assumptions\n",
    "  - Negligible changes in kinetic energy\n",
    "  - Negligible changes in potential energy\n",
    "  - Turbine is adiabatic\n",
    "  - Tank has quality of approximately 1 at the beginning\n",
    "  - Tank has quality of approximately 0 at the end\n",
    "  - Only saturated vapor leaves the tank\n",
    "  - Constant specific heat (cold-air-standard)"
   ]
  },
  {
   "cell_type": "code",
   "execution_count": 4,
   "metadata": {
    "collapsed": false,
    "jupyter": {
     "outputs_hidden": false
    }
   },
   "outputs": [
    {
     "data": {
      "text/latex": [
       "\\[\n",
       "  \\begin{aligned}\n",
       "    { x_{1} }&={  0\\  }\n",
       "  \\end{aligned}\n",
       "\\]\n"
      ],
      "text/plain": [
       "<IPython.core.display.Latex object>"
      ]
     },
     "metadata": {},
     "output_type": "display_data"
    },
    {
     "data": {
      "text/latex": [
       "\\[\n",
       "  \\begin{aligned}\n",
       "    { x_{2} }&={  1\\  }\n",
       "  \\end{aligned}\n",
       "\\]\n"
      ],
      "text/plain": [
       "<IPython.core.display.Latex object>"
      ]
     },
     "metadata": {},
     "output_type": "display_data"
    },
    {
     "data": {
      "text/latex": [
       "\\[\n",
       "  \\begin{aligned}\n",
       "    { x_{tank,exit} }&={  1\\  }\n",
       "  \\end{aligned}\n",
       "\\]\n"
      ],
      "text/plain": [
       "<IPython.core.display.Latex object>"
      ]
     },
     "metadata": {},
     "output_type": "display_data"
    },
    {
     "data": {
      "text/latex": [
       "\\[\n",
       "  \\begin{aligned}\n",
       "    { p_{tank,exit} }&={ p_{2} } = { 700\\ \\mathrm{kPa}  }\n",
       "  \\end{aligned}\n",
       "\\]\n"
      ],
      "text/plain": [
       "<IPython.core.display.Latex object>"
      ]
     },
     "metadata": {},
     "output_type": "display_data"
    }
   ],
   "source": [
    "x[1] = Quantity(0,'')                 # initial quality in tank\n",
    "x[2] = Quantity(1,'')                 # final quality in tank\n",
    "x['tank_exit'] = Quantity(1,'')       # quality of fluid exiting tank\n",
    "p['tank_exit'] = p[2]           # pressure of fluid exiting tank\n",
    "\n",
    "display.Calculations(locals());"
   ]
  },
  {
   "cell_type": "markdown",
   "metadata": {},
   "source": [
    "### Total Heat Transfer\n",
    "To determine the required heat transfer, we can focus on a control volume that includes only the tank. We state with the first law for a transient system and cancel out the negligible terms\n",
    "$$\\require{cancel}\n",
    "\\Delta U + \\cancel{\\Delta KE} + \\cancel{\\Delta PE} = Q_{1\\to2} - \\cancel{W_{1\\to2}} + \\sum_i \\cancelto{0}{m_i}\\left(h_i + \\frac{V_i^2}{2} + gz_i\\right) - \\sum_e m_e\\left( h_e + \\cancel{\\frac{V_e^2}{2}} + \\cancel{gz_e}\\right)$$\n",
    "$$ m_2u_2 - m_1u_1 = Q_{1\\to2} - m_eh_e$$\n",
    "and solve for our variable of interest\n",
    "$$ Q_{1\\to2} = m_2u_2 - m_1u_1  + m_eh_e$$"
   ]
  },
  {
   "cell_type": "markdown",
   "metadata": {},
   "source": [
    "The initial mass can be found using the volume of the tank and the specific volume at state 1.  To find the specific volume, we need two independent, intensive properties to fix the state.  In this case, we are approximated the initial condition to be a saturated liquid at 100 kPa"
   ]
  },
  {
   "cell_type": "code",
   "execution_count": 5,
   "metadata": {
    "collapsed": false,
    "jupyter": {
     "outputs_hidden": false
    }
   },
   "outputs": [
    {
     "data": {
      "text/markdown": [
       " initial specific volume "
      ],
      "text/plain": [
       "<IPython.core.display.Markdown object>"
      ]
     },
     "metadata": {},
     "output_type": "display_data"
    },
    {
     "data": {
      "text/latex": [
       "\\[\n",
       "  \\begin{aligned}\n",
       "    { v_{1} }&={ water.v(p=p[1],x=x[1]) } = { 0.0010432\\ \\frac{\\mathrm{m}^{3}}{\\mathrm{kg}}  }\n",
       "  \\end{aligned}\n",
       "\\]\n"
      ],
      "text/plain": [
       "<IPython.core.display.Latex object>"
      ]
     },
     "metadata": {},
     "output_type": "display_data"
    },
    {
     "data": {
      "text/markdown": [
       " initial mass in tank"
      ],
      "text/plain": [
       "<IPython.core.display.Markdown object>"
      ]
     },
     "metadata": {},
     "output_type": "display_data"
    },
    {
     "data": {
      "text/latex": [
       "\\[\n",
       "  \\begin{aligned}{ m_{1} }&={ \\frac{V_{tank}}{v_{1}} }\\\\\n",
       "    &={ \\frac{\\left( 0.1\\ \\mathrm{m}^{3} \\right)}{\\left( 0.0010432\\ \\frac{\\mathrm{m}^{3}}{\\mathrm{kg}} \\right)} }\\\\\n",
       "    &={  95.863\\ \\mathrm{kg}  }\n",
       "  \\end{aligned}\n",
       "\\]\n"
      ],
      "text/plain": [
       "<IPython.core.display.Latex object>"
      ]
     },
     "metadata": {},
     "output_type": "display_data"
    }
   ],
   "source": [
    "# initial specific volume \n",
    "v[1] = water.v(p=p[1],x=x[1])\n",
    "\n",
    "# initial mass in tank\n",
    "m[1] = V_tank/v[1]\n",
    "\n",
    "display.Calculations(locals(),comments=True);"
   ]
  },
  {
   "cell_type": "markdown",
   "metadata": {},
   "source": [
    "The final mass in the tank can be found using the same method by applying the known properties at state 2"
   ]
  },
  {
   "cell_type": "code",
   "execution_count": 6,
   "metadata": {
    "collapsed": false,
    "jupyter": {
     "outputs_hidden": false
    }
   },
   "outputs": [
    {
     "data": {
      "text/markdown": [
       " final specific volume "
      ],
      "text/plain": [
       "<IPython.core.display.Markdown object>"
      ]
     },
     "metadata": {},
     "output_type": "display_data"
    },
    {
     "data": {
      "text/latex": [
       "\\[\n",
       "  \\begin{aligned}\n",
       "    { v_{2} }&={ water.v(p=p[2],x=x[2]) } = { 0.27277\\ \\frac{\\mathrm{m}^{3}}{\\mathrm{kg}}  }\n",
       "  \\end{aligned}\n",
       "\\]\n"
      ],
      "text/plain": [
       "<IPython.core.display.Latex object>"
      ]
     },
     "metadata": {},
     "output_type": "display_data"
    },
    {
     "data": {
      "text/markdown": [
       " final mass in tank"
      ],
      "text/plain": [
       "<IPython.core.display.Markdown object>"
      ]
     },
     "metadata": {},
     "output_type": "display_data"
    },
    {
     "data": {
      "text/latex": [
       "\\[\n",
       "  \\begin{aligned}{ m_{2} }&={ \\frac{V_{tank}}{v_{2}} }\\\\\n",
       "    &={ \\frac{\\left( 0.1\\ \\mathrm{m}^{3} \\right)}{\\left( 0.27277\\ \\frac{\\mathrm{m}^{3}}{\\mathrm{kg}} \\right)} }\\\\\n",
       "    &={  0.3666\\ \\mathrm{kg}  }\n",
       "  \\end{aligned}\n",
       "\\]\n"
      ],
      "text/plain": [
       "<IPython.core.display.Latex object>"
      ]
     },
     "metadata": {},
     "output_type": "display_data"
    }
   ],
   "source": [
    "# final specific volume \n",
    "v[2] = water.v(p=p[2],x=x[2])\n",
    "\n",
    "# final mass in tank\n",
    "m[2] = V_tank/v[2]\n",
    "\n",
    "display.Calculations(locals(),comments=True);"
   ]
  },
  {
   "cell_type": "markdown",
   "metadata": {},
   "source": [
    "Based on mass conservation, we can say the change in mass of the tank is equal to the amount of mass exiting the tank (and also the amount flowing through the turbine in our later analysis)."
   ]
  },
  {
   "cell_type": "code",
   "execution_count": 7,
   "metadata": {
    "collapsed": false,
    "jupyter": {
     "outputs_hidden": false
    }
   },
   "outputs": [
    {
     "data": {
      "text/markdown": [
       " mass conservation"
      ],
      "text/plain": [
       "<IPython.core.display.Markdown object>"
      ]
     },
     "metadata": {},
     "output_type": "display_data"
    },
    {
     "data": {
      "text/latex": [
       "\\[\n",
       "  \\begin{aligned}{ m_{tank,exit} }&={ m_{1} - m_{2} }\\\\\n",
       "    &={ \\left( 95.863\\ \\mathrm{kg} \\right) - \\left( 0.3666\\ \\mathrm{kg} \\right) }\\\\\n",
       "    &={  95.497\\ \\mathrm{kg}  }\n",
       "  \\end{aligned}\n",
       "\\]\n"
      ],
      "text/plain": [
       "<IPython.core.display.Latex object>"
      ]
     },
     "metadata": {},
     "output_type": "display_data"
    }
   ],
   "source": [
    "# mass conservation\n",
    "m['tank_exit'] = m[1]-m[2]\n",
    "\n",
    "display.Calculations(locals(),comments=True);"
   ]
  },
  {
   "cell_type": "markdown",
   "metadata": {},
   "source": [
    "To evaluate the first law, we will also need the internal energies states 1 and 2 and the enthalpy at the exit.  Each of these can also be looked up using two independent, intensive properties"
   ]
  },
  {
   "cell_type": "code",
   "execution_count": 8,
   "metadata": {
    "collapsed": false,
    "jupyter": {
     "outputs_hidden": false
    }
   },
   "outputs": [
    {
     "data": {
      "text/markdown": [
       " initial internal energy"
      ],
      "text/plain": [
       "<IPython.core.display.Markdown object>"
      ]
     },
     "metadata": {},
     "output_type": "display_data"
    },
    {
     "data": {
      "text/latex": [
       "\\[\n",
       "  \\begin{aligned}\n",
       "    { u_{1} }&={ water.u(p=p[1],x=x[1]) } = { 417.4\\ \\frac{\\mathrm{kJ}}{\\mathrm{kg}}  }\n",
       "  \\end{aligned}\n",
       "\\]\n"
      ],
      "text/plain": [
       "<IPython.core.display.Latex object>"
      ]
     },
     "metadata": {},
     "output_type": "display_data"
    },
    {
     "data": {
      "text/markdown": [
       " final internal energy"
      ],
      "text/plain": [
       "<IPython.core.display.Markdown object>"
      ]
     },
     "metadata": {},
     "output_type": "display_data"
    },
    {
     "data": {
      "text/latex": [
       "\\[\n",
       "  \\begin{aligned}\n",
       "    { u_{2} }&={ water.u(p=p[2],x=x[2]) } = { 2571.8\\ \\frac{\\mathrm{kJ}}{\\mathrm{kg}}  }\n",
       "  \\end{aligned}\n",
       "\\]\n"
      ],
      "text/plain": [
       "<IPython.core.display.Latex object>"
      ]
     },
     "metadata": {},
     "output_type": "display_data"
    },
    {
     "data": {
      "text/markdown": [
       " exit enthalpy"
      ],
      "text/plain": [
       "<IPython.core.display.Markdown object>"
      ]
     },
     "metadata": {},
     "output_type": "display_data"
    },
    {
     "data": {
      "text/latex": [
       "\\[\n",
       "  \\begin{aligned}\n",
       "    { h_{tank,exit} }&={ water.h(p=p['tank_exit'],x=x['tank_exit']) } = { 2762.8\\ \\frac{\\mathrm{kJ}}{\\mathrm{kg}}  }\n",
       "  \\end{aligned}\n",
       "\\]\n"
      ],
      "text/plain": [
       "<IPython.core.display.Latex object>"
      ]
     },
     "metadata": {},
     "output_type": "display_data"
    }
   ],
   "source": [
    "# initial internal energy\n",
    "u[1] = water.u(p=p[1],x=x[1])\n",
    "\n",
    "# final internal energy\n",
    "u[2] = water.u(p=p[2],x=x[2])\n",
    "\n",
    "# exit enthalpy\n",
    "h['tank_exit'] = water.h(p=p['tank_exit'],x=x['tank_exit'])\n",
    "\n",
    "display.Calculations(locals(),comments=True);"
   ]
  },
  {
   "cell_type": "markdown",
   "metadata": {},
   "source": [
    "We now know all the values required to find the heat transfer to the tank."
   ]
  },
  {
   "cell_type": "code",
   "execution_count": 9,
   "metadata": {
    "collapsed": false,
    "jupyter": {
     "outputs_hidden": false
    }
   },
   "outputs": [
    {
     "data": {
      "text/markdown": [
       " First Law "
      ],
      "text/plain": [
       "<IPython.core.display.Markdown object>"
      ]
     },
     "metadata": {},
     "output_type": "display_data"
    },
    {
     "data": {
      "text/latex": [
       "\\[\n",
       "  \\begin{aligned}{ Q_{1\\to2} }&={ m_{2} u_{2} - m_{1} u_{1} + m_{tank,exit} h_{tank,exit} }\\\\\n",
       "    &={ \\left( 0.3666\\ \\mathrm{kg} \\right) \\left( 2571.8\\ \\frac{\\mathrm{kJ}}{\\mathrm{kg}} \\right) - \\left( 95.863\\ \\mathrm{kg} \\right) \\left( 417.4\\ \\frac{\\mathrm{kJ}}{\\mathrm{kg}} \\right) + \\left( 95.497\\ \\mathrm{kg} \\right) \\left( 2762.8\\ \\frac{\\mathrm{kJ}}{\\mathrm{kg}} \\right) }\\\\\n",
       "    &={  2.2476\\times 10^{5}\\ \\mathrm{kJ}  }\n",
       "  \\end{aligned}\n",
       "\\]\n"
      ],
      "text/plain": [
       "<IPython.core.display.Latex object>"
      ]
     },
     "metadata": {},
     "output_type": "display_data"
    }
   ],
   "source": [
    "# First Law \n",
    "Q_1_to_2 = m[2]*u[2] - m[1]*u[1] + m['tank_exit']*h['tank_exit']\n",
    "\n",
    "display.Calculations(locals(),comments=True);"
   ]
  },
  {
   "cell_type": "markdown",
   "metadata": {},
   "source": [
    "### Turbine Work\n",
    "To determine the work produced by the turbine, we can conduct a first law analysis on a control volume that contains only the turbine. We state with the first law for a transient system and cancel out the negligible terms and solving for the variable of interest\n",
    "$$\\require{cancel}\n",
    "\\cancel{\\Delta U} + \\cancel{\\Delta KE} + \\cancel{\\Delta PE} = \\cancel{Q_{1\\to2}} - W_{1\\to2} + \\sum_i m_i\\left(h_i + \\cancel{\\frac{V_i^2}{2}} + \\cancel{gz_i}\\right) - \\sum_e m_e\\left( h_e + \\cancel{\\frac{V_e^2}{2}} + \\cancel{gz_e}\\right)$$\n",
    "$$W_{1\\to2} = m_ih_i - m_eh_e$$\n",
    "In this case we are assuming that all the fluid passes completely through the turbine, i.e.\\ not fluid remains in the turbine at the end.  Therefore, the entering and exiting mass flows are the same, $m_e=m_i$\n",
    "$$ W_{1\\to2} = m_i(h_i-h_e)$$"
   ]
  },
  {
   "cell_type": "markdown",
   "metadata": {},
   "source": [
    "We assume the mass exiting the tank is the same as the mass entering the turbine and there are not changes in properties between the tank exit and the turbine inlet.  Therefore, the only missing piece of information to complete our analysis is the enthalpy at the exit of the turbine, which can be found using two independent, intensive properties"
   ]
  },
  {
   "cell_type": "code",
   "execution_count": 10,
   "metadata": {
    "collapsed": false,
    "jupyter": {
     "outputs_hidden": false
    }
   },
   "outputs": [
    {
     "data": {
      "text/latex": [
       "\\[\n",
       "  \\begin{aligned}\n",
       "    { h_{turbine,exit} }&={ water.h(p=p['turbine_exit'],x=x['turbine_exit']) } = { 2674.9\\ \\frac{\\mathrm{kJ}}{\\mathrm{kg}}  }\n",
       "  \\end{aligned}\n",
       "\\]\n"
      ],
      "text/plain": [
       "<IPython.core.display.Latex object>"
      ]
     },
     "metadata": {},
     "output_type": "display_data"
    }
   ],
   "source": [
    "h['turbine_exit'] = water.h(p=p['turbine_exit'],x=x['turbine_exit'])\n",
    "\n",
    "display.Calculations(locals());"
   ]
  },
  {
   "cell_type": "markdown",
   "metadata": {},
   "source": [
    "We now know all the values required to find the work output of the turbine."
   ]
  },
  {
   "cell_type": "code",
   "execution_count": 11,
   "metadata": {
    "collapsed": false,
    "jupyter": {
     "outputs_hidden": false
    }
   },
   "outputs": [
    {
     "data": {
      "text/latex": [
       "\\[\n",
       "  \\begin{aligned}{ W_{1\\to2} }&={ m_{tank,exit} \\left(h_{tank,exit} - h_{turbine,exit}\\right) }\\\\\n",
       "    &={ \\left( 95.497\\ \\mathrm{kg} \\right) \\left(\\left( 2762.8\\ \\frac{\\mathrm{kJ}}{\\mathrm{kg}} \\right) - \\left( 2674.9\\ \\frac{\\mathrm{kJ}}{\\mathrm{kg}} \\right)\\right) }\\\\\n",
       "    &={  8385.1\\ \\mathrm{kJ}  }\n",
       "  \\end{aligned}\n",
       "\\]\n"
      ],
      "text/plain": [
       "<IPython.core.display.Latex object>"
      ]
     },
     "metadata": {},
     "output_type": "display_data"
    }
   ],
   "source": [
    "W_1_to_2 = m['tank_exit']*(h['tank_exit']-h['turbine_exit'])\n",
    "\n",
    "display.Calculations(locals());"
   ]
  },
  {
   "cell_type": "markdown",
   "metadata": {},
   "source": [
    "### Summary"
   ]
  },
  {
   "cell_type": "code",
   "execution_count": 12,
   "metadata": {
    "collapsed": false,
    "jupyter": {
     "outputs_hidden": false
    }
   },
   "outputs": [
    {
     "data": {
      "text/latex": [
       "\\[\\begin{aligned}{ Q_{1 to 2} }&={  2.2476\\times 10^{5}\\ \\mathrm{kJ}  }&{ V_{tank} }&={  0.1\\ \\mathrm{m}^{3}  }&{ W_{1 to 2} }&={  8385.1\\ \\mathrm{kJ}  }\\\\{  }\\end{aligned}\\]"
      ],
      "text/plain": [
       "<IPython.core.display.Latex object>"
      ]
     },
     "metadata": {},
     "output_type": "display_data"
    },
    {
     "data": {
      "text/html": [
       "<table border=\"1\" class=\"dataframe\">\n",
       "  <thead>\n",
       "    <tr>\n",
       "      <th></th>\n",
       "      <th>p</th>\n",
       "      <th>v</th>\n",
       "      <th>u</th>\n",
       "      <th>h</th>\n",
       "      <th>x</th>\n",
       "      <th>m</th>\n",
       "    </tr>\n",
       "    <tr>\n",
       "      <th>unit</th>\n",
       "      <th>kPa</th>\n",
       "      <th>m³/kg</th>\n",
       "      <th>kJ/kg</th>\n",
       "      <th>kJ/kg</th>\n",
       "      <th></th>\n",
       "      <th>kg</th>\n",
       "    </tr>\n",
       "  </thead>\n",
       "  <tbody>\n",
       "    <tr>\n",
       "      <th>1</th>\n",
       "      <td>100</td>\n",
       "      <td>0.00104315</td>\n",
       "      <td>417.4</td>\n",
       "      <td>-</td>\n",
       "      <td>0</td>\n",
       "      <td>95.8632</td>\n",
       "    </tr>\n",
       "    <tr>\n",
       "      <th>2</th>\n",
       "      <td>700</td>\n",
       "      <td>0.272775</td>\n",
       "      <td>2571.81</td>\n",
       "      <td>-</td>\n",
       "      <td>1</td>\n",
       "      <td>0.366603</td>\n",
       "    </tr>\n",
       "    <tr>\n",
       "      <th>tank_exit</th>\n",
       "      <td>700</td>\n",
       "      <td>-</td>\n",
       "      <td>-</td>\n",
       "      <td>2762.75</td>\n",
       "      <td>1</td>\n",
       "      <td>95.4965</td>\n",
       "    </tr>\n",
       "    <tr>\n",
       "      <th>turbine_exit</th>\n",
       "      <td>100</td>\n",
       "      <td>-</td>\n",
       "      <td>-</td>\n",
       "      <td>2674.95</td>\n",
       "      <td>1</td>\n",
       "      <td>-</td>\n",
       "    </tr>\n",
       "  </tbody>\n",
       "</table>"
      ],
      "text/plain": [
       "<IPython.core.display.HTML object>"
      ]
     },
     "metadata": {},
     "output_type": "display_data"
    }
   ],
   "source": [
    "display.Summary(locals());"
   ]
  },
  {
   "cell_type": "code",
   "execution_count": null,
   "metadata": {
    "collapsed": false,
    "jupyter": {
     "outputs_hidden": false
    }
   },
   "outputs": [],
   "source": []
  }
 ],
 "metadata": {
  "kernelspec": {
   "display_name": "Python 3",
   "language": "python",
   "name": "python3"
  },
  "language_info": {
   "codemirror_mode": {
    "name": "ipython",
    "version": 3
   },
   "file_extension": ".py",
   "mimetype": "text/x-python",
   "name": "python",
   "nbconvert_exporter": "python",
   "pygments_lexer": "ipython3",
   "version": "3.8.5"
  }
 },
 "nbformat": 4,
 "nbformat_minor": 4
}
