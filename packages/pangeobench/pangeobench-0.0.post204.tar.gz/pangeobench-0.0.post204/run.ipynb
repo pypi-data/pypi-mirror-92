{
 "cells": [
  {
   "cell_type": "code",
   "execution_count": null,
   "metadata": {},
   "outputs": [],
   "source": [
    "from benchmarks.utils import Runner"
   ]
  },
  {
   "cell_type": "code",
   "execution_count": null,
   "metadata": {},
   "outputs": [],
   "source": [
    "for i in range(100):\n",
    "    config_file = 'benchmark-configs/hal.yaml'\n",
    "    runner = Runner(config_file)\n",
    "    runner.run()"
   ]
  }
 ],
 "metadata": {
  "kernelspec": {
   "display_name": "pangeobench",
   "language": "python",
   "name": "pangeobench"
  },
  "language_info": {
   "codemirror_mode": {
    "name": "ipython",
    "version": 3
   },
   "file_extension": ".py",
   "mimetype": "text/x-python",
   "name": "python",
   "nbconvert_exporter": "python",
   "pygments_lexer": "ipython3",
   "version": "3.6.8"
  }
 },
 "nbformat": 4,
 "nbformat_minor": 2
}
