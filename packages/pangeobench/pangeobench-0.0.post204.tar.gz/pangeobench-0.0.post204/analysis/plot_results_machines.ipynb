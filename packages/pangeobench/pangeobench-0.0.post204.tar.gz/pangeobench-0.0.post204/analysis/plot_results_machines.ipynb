{
 "cells": [
  {
   "cell_type": "markdown",
   "metadata": {},
   "source": [
    "# Compute Scaling Study \n",
    "\n",
    "## Objectives:\n",
    "\n",
    "We measure the performance of Dask’s distributed scheduler for a variety of different operations commonly performed in geosciences (`climatology`, `anomaly`, `temporal` and `global` reductions). We measure performance under increasing scales of both dataset size and cluster size.\n",
    "\n",
    "\n",
    "During this study, we vary our computations in following ways:\n",
    "\n",
    "- Varying chunk size\n",
    "- Varying cluster size (workers per node, number of nodes)\n",
    "- Varying chunking scheme\n",
    "- Varying machines (cheyene, hal)_"
   ]
  },
  {
   "cell_type": "code",
   "execution_count": null,
   "metadata": {},
   "outputs": [],
   "source": [
    "%matplotlib inline\n",
    "import matplotlib.pyplot as plt\n",
    "import pandas as pd\n",
    "import dask.dataframe as dd\n",
    "import hvplot.pandas\n",
    "from distributed.utils import format_bytes, parse_bytes"
   ]
  },
  {
   "cell_type": "code",
   "execution_count": null,
   "metadata": {},
   "outputs": [],
   "source": [
    "df = dd.read_csv('results*/*.csv').compute()\n",
    "df['chunk_size'] = df['chunk_size'].map(lambda x: format_bytes(parse_bytes(x)))"
   ]
  },
  {
   "cell_type": "code",
   "execution_count": null,
   "metadata": {},
   "outputs": [],
   "source": [
    "df.head()"
   ]
  },
  {
   "cell_type": "code",
   "execution_count": null,
   "metadata": {},
   "outputs": [],
   "source": [
    "len(df)"
   ]
  },
  {
   "cell_type": "markdown",
   "metadata": {},
   "source": [
    "## Weak Scaling\n",
    "\n",
    "\n",
    "[Weak scaling](https://en.wikipedia.org/wiki/Scalability#Weak_versus_strong_scaling) is how the time to solution varies with processor count with a fixed system size per processor. \n",
    "\n",
    "\n",
    "In an ideal case (e.g., problems/algorithms with O(N) time complexity), we expect to observe a constant time to solution, independent of the total number of processors in the system. \n"
   ]
  },
  {
   "cell_type": "code",
   "execution_count": null,
   "metadata": {},
   "outputs": [],
   "source": [
    "def get_clean_df(df,\n",
    "                 groupby=[\n",
    "                     'chunk_size', 'chunking_scheme', 'dataset_size',\n",
    "                     'operation', 'worker_per_node', 'num_nodes', 'machine'\n",
    "                 ]):\n",
    "    clean_df = df.groupby(groupby).median().reset_index()\n",
    "    return clean_df"
   ]
  },
  {
   "cell_type": "code",
   "execution_count": null,
   "metadata": {},
   "outputs": [],
   "source": [
    "df1 = get_clean_df(df,\n",
    "                   groupby=[\n",
    "                       'chunk_size', 'chunking_scheme', 'operation',\n",
    "                       'worker_per_node', 'num_nodes', 'machine'\n",
    "                   ])\n",
    "df1.head()"
   ]
  },
  {
   "cell_type": "code",
   "execution_count": null,
   "metadata": {},
   "outputs": [],
   "source": [
    "temp_df = df.copy()\n",
    "temp_df['cores'] = temp_df['num_nodes'] * temp_df['worker_per_node']\n",
    "temp_df.head()"
   ]
  },
  {
   "cell_type": "code",
   "execution_count": null,
   "metadata": {},
   "outputs": [],
   "source": [
    "df2 = get_clean_df(temp_df, groupby=['chunk_size', 'chunking_scheme', 'operation', 'cores', 'machine'])\\\n",
    "    .drop(columns=['num_nodes', 'worker_per_node'])\n",
    "df2.head()"
   ]
  },
  {
   "cell_type": "code",
   "execution_count": null,
   "metadata": {},
   "outputs": [],
   "source": [
    "def log_linear_plot(\n",
    "        df,\n",
    "        loglog=True,\n",
    "        plot_kind='line',\n",
    "        x='num_nodes',\n",
    "        y='runtime',\n",
    "        by='chunk_size',\n",
    "        groupby=['chunking_scheme', 'operation', 'worker_per_node',\n",
    "                 'machine']):\n",
    "    if loglog:\n",
    "        title = f'{y} vs {x} -- Log scale'\n",
    "    else:\n",
    "        title = f'{y} vs {x} -- Linear scale'\n",
    "    p = df.hvplot(x=x,\n",
    "                  y=y,\n",
    "                  by=by,\n",
    "                  groupby=groupby,\n",
    "                  rot=45,\n",
    "                  loglog=loglog,\n",
    "                  height=500,\n",
    "                  kind=plot_kind,\n",
    "                  title=title,\n",
    "                  ylabel='Runtime (seconds)',\n",
    "                  dynamic=False,\n",
    "                  legend='top')\n",
    "    return p"
   ]
  },
  {
   "cell_type": "code",
   "execution_count": null,
   "metadata": {},
   "outputs": [],
   "source": [
    "log_linear_plot(df1)"
   ]
  },
  {
   "cell_type": "code",
   "execution_count": null,
   "metadata": {},
   "outputs": [],
   "source": [
    "log_linear_plot(df1, loglog=False)"
   ]
  },
  {
   "cell_type": "code",
   "execution_count": null,
   "metadata": {},
   "outputs": [],
   "source": [
    "log_linear_plot(df2,\n",
    "                x='cores',\n",
    "                groupby=['chunking_scheme', 'operation', 'machine'])"
   ]
  },
  {
   "cell_type": "code",
   "execution_count": null,
   "metadata": {},
   "outputs": [],
   "source": [
    "log_linear_plot(df2,\n",
    "                loglog=False,\n",
    "                x='cores',\n",
    "                groupby=['chunking_scheme', 'operation', 'machine'])"
   ]
  },
  {
   "cell_type": "markdown",
   "metadata": {},
   "source": [
    "## Strong Scaling"
   ]
  },
  {
   "cell_type": "code",
   "execution_count": null,
   "metadata": {},
   "outputs": [],
   "source": [
    "df3 = get_clean_df(temp_df,\n",
    "                   groupby=[\n",
    "                       'dataset_size', 'cores', 'operation', 'chunking_scheme',\n",
    "                       'machine'\n",
    "                   ])\n",
    "df3.head()"
   ]
  },
  {
   "cell_type": "code",
   "execution_count": null,
   "metadata": {},
   "outputs": [],
   "source": [
    "log_linear_plot(df3,\n",
    "                x='cores',\n",
    "                y='runtime',\n",
    "                by='dataset_size',\n",
    "                groupby=['operation', 'chunking_scheme', 'machine'])"
   ]
  },
  {
   "cell_type": "code",
   "execution_count": null,
   "metadata": {},
   "outputs": [],
   "source": [
    "log_linear_plot(df3,\n",
    "                x='cores',\n",
    "                y='runtime',\n",
    "                by='dataset_size',\n",
    "                groupby=['operation', 'chunking_scheme', 'machine'],\n",
    "                loglog=False)"
   ]
  }
 ],
 "metadata": {
  "kernelspec": {
   "display_name": "Python [conda env:analysis]",
   "language": "python",
   "name": "conda-env-analysis-py"
  },
  "language_info": {
   "codemirror_mode": {
    "name": "ipython",
    "version": 3
   },
   "file_extension": ".py",
   "mimetype": "text/x-python",
   "name": "python",
   "nbconvert_exporter": "python",
   "pygments_lexer": "ipython3",
   "version": "3.7.3"
  },
  "toc": {
   "base_numbering": 1,
   "nav_menu": {},
   "number_sections": true,
   "sideBar": true,
   "skip_h1_title": false,
   "title_cell": "Table of Contents",
   "title_sidebar": "Contents",
   "toc_cell": false,
   "toc_position": {},
   "toc_section_display": true,
   "toc_window_display": false
  }
 },
 "nbformat": 4,
 "nbformat_minor": 2
}
