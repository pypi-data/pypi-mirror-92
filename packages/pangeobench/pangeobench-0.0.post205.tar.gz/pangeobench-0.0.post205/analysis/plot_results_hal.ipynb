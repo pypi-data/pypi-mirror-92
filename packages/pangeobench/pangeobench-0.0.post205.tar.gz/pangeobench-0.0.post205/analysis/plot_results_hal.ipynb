{
 "cells": [
  {
   "cell_type": "markdown",
   "metadata": {
    "toc": true
   },
   "source": [
    "<h1>Table of Contents<span class=\"tocSkip\"></span></h1>\n",
    "<div class=\"toc\"><ul class=\"toc-item\"><li><span><a href=\"#Compute-Scaling-Study\" data-toc-modified-id=\"Compute-Scaling-Study-1\"><span class=\"toc-item-num\">1&nbsp;&nbsp;</span>Compute Scaling Study</a></span><ul class=\"toc-item\"><li><span><a href=\"#Objectives:\" data-toc-modified-id=\"Objectives:-1.1\"><span class=\"toc-item-num\">1.1&nbsp;&nbsp;</span>Objectives:</a></span></li><li><span><a href=\"#Strong-Scaling\" data-toc-modified-id=\"Strong-Scaling-1.2\"><span class=\"toc-item-num\">1.2&nbsp;&nbsp;</span>Strong Scaling</a></span></li><li><span><a href=\"#Weak-Scaling\" data-toc-modified-id=\"Weak-Scaling-1.3\"><span class=\"toc-item-num\">1.3&nbsp;&nbsp;</span>Weak Scaling</a></span></li></ul></li></ul></div>"
   ]
  },
  {
   "cell_type": "markdown",
   "metadata": {},
   "source": [
    "\n"
   ]
  },
  {
   "cell_type": "markdown",
   "metadata": {},
   "source": [
    "# Compute Scaling Study \n",
    "\n",
    "## Objectives:\n",
    "\n",
    "We measure the performance of Dask’s distributed scheduler for a variety of different operations commonly performed in geosciences (`climatology`, `anomaly`, `spatial (former tempora)l` and `temporal( former global)` reductions). We measure performance under increasing scales of both dataset size and cluster size.\n",
    "In this actual study, we increase cluster size by adding HPC nodes to a cluster. Each HPC nodes have one dask worker with 1 threads.  Each dask worker have 10 chunks.  \n",
    "\n",
    "\n",
    "During this study, we vary our computations in following ways:\n",
    "\n",
    "- Varying chunk size\n",
    "- Varying cluster size (number of HPC nodes)\n",
    "- Varying chunking scheme"
   ]
  },
  {
   "cell_type": "code",
   "execution_count": null,
   "metadata": {},
   "outputs": [],
   "source": [
    "%matplotlib inline\n",
    "import matplotlib.pyplot as plt\n",
    "import pandas as pd\n",
    "import dask.dataframe as dd\n",
    "import hvplot.pandas\n",
    "from distributed.utils import format_bytes, parse_bytes"
   ]
  },
  {
   "cell_type": "code",
   "execution_count": null,
   "metadata": {},
   "outputs": [],
   "source": [
    "df = dd.read_csv('results/hal24/2019-08-22/*.csv').compute()\n",
    "df['chunk_size'] = df['chunk_size'].map(lambda x: format_bytes(parse_bytes(x)))\n",
    "df['dataset_size'] = df['dataset_size'].map(\n",
    "    lambda x: format_bytes(parse_bytes(x)))"
   ]
  },
  {
   "cell_type": "code",
   "execution_count": null,
   "metadata": {},
   "outputs": [],
   "source": [
    "len(df)"
   ]
  },
  {
   "cell_type": "code",
   "execution_count": null,
   "metadata": {},
   "outputs": [],
   "source": [
    "df.head()"
   ]
  },
  {
   "cell_type": "code",
   "execution_count": null,
   "metadata": {},
   "outputs": [],
   "source": [
    "def get_clean_df(df,\n",
    "                 groupby=[\n",
    "                     'chunk_size', 'dataset_size', 'chunking_scheme',\n",
    "                     'operation', 'num_nodes'\n",
    "                 ]):\n",
    "    clean_df = df.groupby(groupby).median().reset_index()\n",
    "    clean_df['nodes'] = clean_df['num_nodes']\n",
    "    clean_df['chunk_scheme'] = clean_df['chunking_scheme']\n",
    "    clean_df = clean_df.drop(columns=[\n",
    "        'worker_per_node', 'maxcore_per_node', 'spil', 'threads_per_worker',\n",
    "        'num_nodes', 'chunking_scheme'\n",
    "    ])\n",
    "\n",
    "    return clean_df"
   ]
  },
  {
   "cell_type": "code",
   "execution_count": null,
   "metadata": {},
   "outputs": [],
   "source": [
    "def log_linear_plot(df,\n",
    "                    loglog=False,\n",
    "                    plot_kind='line',\n",
    "                    x='nodes',\n",
    "                    y='runtime',\n",
    "                    by=['operation'],\n",
    "                    subplots=False,\n",
    "                    groupby=['size', 'chunk_scheme']):\n",
    "    df = df.sort_values(x)\n",
    "    df = df.sort_values(groupby)\n",
    "    if loglog:\n",
    "        title = f'{y} vs {x} -- Log scale'\n",
    "    else:\n",
    "        title = f'{y} vs {x} -- Linear scale'\n",
    "\n",
    "    if subplots:\n",
    "        fig = df.hvplot(x=x,\n",
    "                        y=y,\n",
    "                        by=by,\n",
    "                        groupby=groupby,\n",
    "                        height=300,\n",
    "                        width=500,\n",
    "                        rot=45,\n",
    "                        loglog=loglog,\n",
    "                        kind=plot_kind,\n",
    "                        title=title,\n",
    "                        ylabel='Runtime (seconds)',\n",
    "                        dynamic=False,\n",
    "                        legend='top',\n",
    "                        use_index=False,\n",
    "                        shared_axes=False).layout().cols(1)\n",
    "    else:\n",
    "        fig = df.hvplot(x=x,\n",
    "                        y=y,\n",
    "                        by=by,\n",
    "                        groupby=groupby,\n",
    "                        height=300,\n",
    "                        width=500,\n",
    "                        rot=45,\n",
    "                        loglog=loglog,\n",
    "                        kind=plot_kind,\n",
    "                        title=title,\n",
    "                        ylabel='Runtime (seconds)',\n",
    "                        dynamic=False,\n",
    "                        legend='top')\n",
    "    return fig"
   ]
  },
  {
   "cell_type": "markdown",
   "metadata": {},
   "source": [
    "## Strong Scaling\n",
    "\n",
    "\n",
    "strong scaling is how the time to solution varies with processor count with a fixed  size of computation task. \n",
    "\n",
    "\n",
    "In an ideal case (e.g., problems/algorithms with O(N) time complexity), **we expect to observe a constant decrease of time to solution**\n",
    "\n"
   ]
  },
  {
   "cell_type": "code",
   "execution_count": null,
   "metadata": {},
   "outputs": [],
   "source": [
    "df2 = get_clean_df(df).drop(columns='chunk_size')\n",
    "df2['size'] = df2['dataset_size']\n",
    "df2 = df2.drop(columns='dataset_size')\n",
    "df3 = df2[df2['size'] == '20.48 GB']\n",
    "\n",
    "log_linear_plot(df3,\n",
    "                subplots=True,\n",
    "                by=['operation'],\n",
    "                groupby=['size', 'chunk_scheme'])"
   ]
  },
  {
   "cell_type": "code",
   "execution_count": null,
   "metadata": {},
   "outputs": [],
   "source": [
    "log_linear_plot(df2, subplots=False)"
   ]
  },
  {
   "cell_type": "markdown",
   "metadata": {},
   "source": [
    "## Weak Scaling\n",
    "\n",
    "\n",
    "[Weak scaling](https://en.wikipedia.org/wiki/Scalability#Weak_versus_strong_scaling) is how the time to solution varies with processor count with a fixed system size per processor. \n",
    "\n",
    "\n",
    "In an ideal case (e.g., problems/algorithms with O(N) time complexity), **we expect to observe a constant time to solution**, independent of the total number of processors in the system. \n"
   ]
  },
  {
   "cell_type": "code",
   "execution_count": null,
   "metadata": {},
   "outputs": [],
   "source": [
    "df1 = get_clean_df(df).drop(columns='dataset_size')\n",
    "df1['size'] = df1['chunk_size']\n",
    "df1 = df1.drop(columns='chunk_size')\n",
    "\n",
    "log_linear_plot(df1, subplots=True)"
   ]
  },
  {
   "cell_type": "code",
   "execution_count": null,
   "metadata": {
    "scrolled": true
   },
   "outputs": [],
   "source": [
    "log_linear_plot(df1, subplots=False)"
   ]
  }
 ],
 "metadata": {
  "kernelspec": {
   "display_name": "Python [conda env:analysis]",
   "language": "python",
   "name": "conda-env-analysis-py"
  },
  "language_info": {
   "codemirror_mode": {
    "name": "ipython",
    "version": 3
   },
   "file_extension": ".py",
   "mimetype": "text/x-python",
   "name": "python",
   "nbconvert_exporter": "python",
   "pygments_lexer": "ipython3",
   "version": "3.7.3"
  },
  "toc": {
   "base_numbering": 1,
   "nav_menu": {},
   "number_sections": true,
   "sideBar": true,
   "skip_h1_title": false,
   "title_cell": "Table of Contents",
   "title_sidebar": "Contents",
   "toc_cell": true,
   "toc_position": {},
   "toc_section_display": true,
   "toc_window_display": true
  }
 },
 "nbformat": 4,
 "nbformat_minor": 4
}
