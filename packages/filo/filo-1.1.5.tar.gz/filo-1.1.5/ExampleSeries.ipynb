{
 "cells": [
  {
   "cell_type": "code",
   "execution_count": 1,
   "metadata": {},
   "outputs": [],
   "source": [
    "from filo import Series"
   ]
  },
  {
   "cell_type": "code",
   "execution_count": 2,
   "metadata": {},
   "outputs": [],
   "source": [
    "folders = ['data/img1', 'data/img2']\n",
    "basefolder = 'data'"
   ]
  },
  {
   "cell_type": "code",
   "execution_count": 3,
   "metadata": {},
   "outputs": [],
   "source": [
    "series = Series(paths=folders, savepath=basefolder, extension='.png')"
   ]
  },
  {
   "cell_type": "code",
   "execution_count": 4,
   "metadata": {},
   "outputs": [
    {
     "output_type": "execute_result",
     "data": {
      "text/plain": [
       "File series [extension '.png', folders ['data\\\\img1', 'data\\\\img2'], savepath 'data', 20 files]"
      ]
     },
     "metadata": {},
     "execution_count": 4
    }
   ],
   "source": [
    "series"
   ]
  },
  {
   "cell_type": "markdown",
   "metadata": {},
   "source": [
    "# Access individual files in series"
   ]
  },
  {
   "cell_type": "code",
   "execution_count": 5,
   "metadata": {},
   "outputs": [
    {
     "output_type": "execute_result",
     "data": {
      "text/plain": [
       "filo.File #0 [img-00610.png in folder 'data\\img1']"
      ]
     },
     "metadata": {},
     "execution_count": 5
    }
   ],
   "source": [
    "series.files[0]  # first file in the first folder"
   ]
  },
  {
   "cell_type": "code",
   "execution_count": 6,
   "metadata": {},
   "outputs": [
    {
     "output_type": "execute_result",
     "data": {
      "text/plain": [
       "19"
      ]
     },
     "metadata": {},
     "execution_count": 6
    }
   ],
   "source": [
    "num = 19\n",
    "series.files[num].num  # should always be equal to num"
   ]
  },
  {
   "cell_type": "code",
   "execution_count": 7,
   "metadata": {},
   "outputs": [
    {
     "output_type": "execute_result",
     "data": {
      "text/plain": [
       "1599832413.142153"
      ]
     },
     "metadata": {},
     "execution_count": 7
    }
   ],
   "source": [
    "series.files[8].time  # unix time of file creation"
   ]
  },
  {
   "cell_type": "markdown",
   "metadata": {},
   "source": [
    "# Get and save file info"
   ]
  },
  {
   "cell_type": "code",
   "execution_count": 8,
   "metadata": {},
   "outputs": [
    {
     "output_type": "execute_result",
     "data": {
      "text/plain": [
       "[filo.File #0 [img-00610.png in folder 'data\\img1'],\n",
       " filo.File #1 [img-00611.png in folder 'data\\img1'],\n",
       " filo.File #2 [img-00612.png in folder 'data\\img1'],\n",
       " filo.File #3 [img-00613.png in folder 'data\\img1'],\n",
       " filo.File #4 [img-00614.png in folder 'data\\img1'],\n",
       " filo.File #5 [img-00615.png in folder 'data\\img1'],\n",
       " filo.File #6 [img-00616.png in folder 'data\\img1'],\n",
       " filo.File #7 [img-00617.png in folder 'data\\img1'],\n",
       " filo.File #8 [img-00618.png in folder 'data\\img1'],\n",
       " filo.File #9 [img-00619.png in folder 'data\\img1'],\n",
       " filo.File #10 [img-00620.png in folder 'data\\img1'],\n",
       " filo.File #11 [img-00625.png in folder 'data\\img2'],\n",
       " filo.File #12 [img-00626.png in folder 'data\\img2'],\n",
       " filo.File #13 [img-00627.png in folder 'data\\img2'],\n",
       " filo.File #14 [img-00628.png in folder 'data\\img2'],\n",
       " filo.File #15 [img-00629.png in folder 'data\\img2'],\n",
       " filo.File #16 [img-00630.png in folder 'data\\img2'],\n",
       " filo.File #17 [img-00631.png in folder 'data\\img2'],\n",
       " filo.File #18 [img-00632.png in folder 'data\\img2'],\n",
       " filo.File #19 [img-00633.png in folder 'data\\img2']]"
      ]
     },
     "metadata": {},
     "execution_count": 8
    }
   ],
   "source": [
    "series.files  # list of all filo.File objects"
   ]
  },
  {
   "cell_type": "code",
   "execution_count": 9,
   "metadata": {},
   "outputs": [
    {
     "output_type": "execute_result",
     "data": {
      "text/plain": [
       "    folder       filename   time (unix)\n",
       "num                                    \n",
       "0     img1  img-00610.png  1.599832e+09\n",
       "1     img1  img-00611.png  1.599832e+09\n",
       "2     img1  img-00612.png  1.599832e+09\n",
       "3     img1  img-00613.png  1.599832e+09\n",
       "4     img1  img-00614.png  1.599832e+09"
      ],
      "text/html": "<div>\n<style scoped>\n    .dataframe tbody tr th:only-of-type {\n        vertical-align: middle;\n    }\n\n    .dataframe tbody tr th {\n        vertical-align: top;\n    }\n\n    .dataframe thead th {\n        text-align: right;\n    }\n</style>\n<table border=\"1\" class=\"dataframe\">\n  <thead>\n    <tr style=\"text-align: right;\">\n      <th></th>\n      <th>folder</th>\n      <th>filename</th>\n      <th>time (unix)</th>\n    </tr>\n    <tr>\n      <th>num</th>\n      <th></th>\n      <th></th>\n      <th></th>\n    </tr>\n  </thead>\n  <tbody>\n    <tr>\n      <th>0</th>\n      <td>img1</td>\n      <td>img-00610.png</td>\n      <td>1.599832e+09</td>\n    </tr>\n    <tr>\n      <th>1</th>\n      <td>img1</td>\n      <td>img-00611.png</td>\n      <td>1.599832e+09</td>\n    </tr>\n    <tr>\n      <th>2</th>\n      <td>img1</td>\n      <td>img-00612.png</td>\n      <td>1.599832e+09</td>\n    </tr>\n    <tr>\n      <th>3</th>\n      <td>img1</td>\n      <td>img-00613.png</td>\n      <td>1.599832e+09</td>\n    </tr>\n    <tr>\n      <th>4</th>\n      <td>img1</td>\n      <td>img-00614.png</td>\n      <td>1.599832e+09</td>\n    </tr>\n  </tbody>\n</table>\n</div>"
     },
     "metadata": {},
     "execution_count": 9
    }
   ],
   "source": [
    "series.info.head()  # see top of info DataFrame"
   ]
  },
  {
   "cell_type": "code",
   "execution_count": 10,
   "metadata": {},
   "outputs": [
    {
     "output_type": "execute_result",
     "data": {
      "text/plain": [
       "datetime.timedelta(seconds=46, microseconds=2108)"
      ]
     },
     "metadata": {},
     "execution_count": 10
    }
   ],
   "source": [
    "series.duration  # time between first file and last file"
   ]
  },
  {
   "cell_type": "code",
   "execution_count": 11,
   "metadata": {},
   "outputs": [],
   "source": [
    "series.save_info()"
   ]
  },
  {
   "cell_type": "markdown",
   "metadata": {},
   "source": [
    "# Update file info"
   ]
  },
  {
   "cell_type": "markdown",
   "metadata": {},
   "source": [
    "Completely replace file info (`series.files` and `series.info`) by that contained in the external file (overwrites `series.files`):"
   ]
  },
  {
   "cell_type": "code",
   "execution_count": 12,
   "metadata": {},
   "outputs": [
    {
     "output_type": "execute_result",
     "data": {
      "text/plain": [
       "    folder           filename  time (unix)\n",
       "num                                       \n",
       "0      img      img-00610.png   1599832397\n",
       "1      img      img-00611.png   1599832399\n",
       "2      img      img-00612.png   1599832401\n",
       "3      img      img-00613.png   1599832403\n",
       "4      img      img-00614.png   1599832405"
      ],
      "text/html": "<div>\n<style scoped>\n    .dataframe tbody tr th:only-of-type {\n        vertical-align: middle;\n    }\n\n    .dataframe tbody tr th {\n        vertical-align: top;\n    }\n\n    .dataframe thead th {\n        text-align: right;\n    }\n</style>\n<table border=\"1\" class=\"dataframe\">\n  <thead>\n    <tr style=\"text-align: right;\">\n      <th></th>\n      <th>folder</th>\n      <th>filename</th>\n      <th>time (unix)</th>\n    </tr>\n    <tr>\n      <th>num</th>\n      <th></th>\n      <th></th>\n      <th></th>\n    </tr>\n  </thead>\n  <tbody>\n    <tr>\n      <th>0</th>\n      <td>img</td>\n      <td>img-00610.png</td>\n      <td>1599832397</td>\n    </tr>\n    <tr>\n      <th>1</th>\n      <td>img</td>\n      <td>img-00611.png</td>\n      <td>1599832399</td>\n    </tr>\n    <tr>\n      <th>2</th>\n      <td>img</td>\n      <td>img-00612.png</td>\n      <td>1599832401</td>\n    </tr>\n    <tr>\n      <th>3</th>\n      <td>img</td>\n      <td>img-00613.png</td>\n      <td>1599832403</td>\n    </tr>\n    <tr>\n      <th>4</th>\n      <td>img</td>\n      <td>img-00614.png</td>\n      <td>1599832405</td>\n    </tr>\n  </tbody>\n</table>\n</div>"
     },
     "metadata": {},
     "execution_count": 12
    }
   ],
   "source": [
    "series.load_info('External_File_Info.txt') \n",
    "series.info.head()"
   ]
  },
  {
   "cell_type": "markdown",
   "metadata": {},
   "source": [
    "Load data from data previously saved with `save_info()` (here, will effectively reset files and info to what they were before the previous call):"
   ]
  },
  {
   "cell_type": "code",
   "execution_count": 13,
   "metadata": {},
   "outputs": [
    {
     "output_type": "execute_result",
     "data": {
      "text/plain": [
       "    folder       filename   time (unix)\n",
       "num                                    \n",
       "0     img1  img-00610.png  1.599832e+09\n",
       "1     img1  img-00611.png  1.599832e+09\n",
       "2     img1  img-00612.png  1.599832e+09\n",
       "3     img1  img-00613.png  1.599832e+09\n",
       "4     img1  img-00614.png  1.599832e+09"
      ],
      "text/html": "<div>\n<style scoped>\n    .dataframe tbody tr th:only-of-type {\n        vertical-align: middle;\n    }\n\n    .dataframe tbody tr th {\n        vertical-align: top;\n    }\n\n    .dataframe thead th {\n        text-align: right;\n    }\n</style>\n<table border=\"1\" class=\"dataframe\">\n  <thead>\n    <tr style=\"text-align: right;\">\n      <th></th>\n      <th>folder</th>\n      <th>filename</th>\n      <th>time (unix)</th>\n    </tr>\n    <tr>\n      <th>num</th>\n      <th></th>\n      <th></th>\n      <th></th>\n    </tr>\n  </thead>\n  <tbody>\n    <tr>\n      <th>0</th>\n      <td>img1</td>\n      <td>img-00610.png</td>\n      <td>1.599832e+09</td>\n    </tr>\n    <tr>\n      <th>1</th>\n      <td>img1</td>\n      <td>img-00611.png</td>\n      <td>1.599832e+09</td>\n    </tr>\n    <tr>\n      <th>2</th>\n      <td>img1</td>\n      <td>img-00612.png</td>\n      <td>1.599832e+09</td>\n    </tr>\n    <tr>\n      <th>3</th>\n      <td>img1</td>\n      <td>img-00613.png</td>\n      <td>1.599832e+09</td>\n    </tr>\n    <tr>\n      <th>4</th>\n      <td>img1</td>\n      <td>img-00614.png</td>\n      <td>1.599832e+09</td>\n    </tr>\n  </tbody>\n</table>\n</div>"
     },
     "metadata": {},
     "execution_count": 13
    }
   ],
   "source": [
    "series.load_info()\n",
    "series.info.head()"
   ]
  },
  {
   "cell_type": "markdown",
   "metadata": {},
   "source": [
    "Keep file info but only update times using an external file (file must contain `num` and `time (unix)` as columns):"
   ]
  },
  {
   "cell_type": "code",
   "execution_count": 14,
   "metadata": {},
   "outputs": [
    {
     "output_type": "execute_result",
     "data": {
      "text/plain": [
       "    folder       filename  time (unix)\n",
       "num                                   \n",
       "0     img1  img-00610.png   1607500500\n",
       "1     img1  img-00611.png   1607500502\n",
       "2     img1  img-00612.png   1607500504\n",
       "3     img1  img-00613.png   1607500506\n",
       "4     img1  img-00614.png   1607500508"
      ],
      "text/html": "<div>\n<style scoped>\n    .dataframe tbody tr th:only-of-type {\n        vertical-align: middle;\n    }\n\n    .dataframe tbody tr th {\n        vertical-align: top;\n    }\n\n    .dataframe thead th {\n        text-align: right;\n    }\n</style>\n<table border=\"1\" class=\"dataframe\">\n  <thead>\n    <tr style=\"text-align: right;\">\n      <th></th>\n      <th>folder</th>\n      <th>filename</th>\n      <th>time (unix)</th>\n    </tr>\n    <tr>\n      <th>num</th>\n      <th></th>\n      <th></th>\n      <th></th>\n    </tr>\n  </thead>\n  <tbody>\n    <tr>\n      <th>0</th>\n      <td>img1</td>\n      <td>img-00610.png</td>\n      <td>1607500500</td>\n    </tr>\n    <tr>\n      <th>1</th>\n      <td>img1</td>\n      <td>img-00611.png</td>\n      <td>1607500502</td>\n    </tr>\n    <tr>\n      <th>2</th>\n      <td>img1</td>\n      <td>img-00612.png</td>\n      <td>1607500504</td>\n    </tr>\n    <tr>\n      <th>3</th>\n      <td>img1</td>\n      <td>img-00613.png</td>\n      <td>1607500506</td>\n    </tr>\n    <tr>\n      <th>4</th>\n      <td>img1</td>\n      <td>img-00614.png</td>\n      <td>1607500508</td>\n    </tr>\n  </tbody>\n</table>\n</div>"
     },
     "metadata": {},
     "execution_count": 14
    }
   ],
   "source": [
    "series.load_time('External_Time_Info.txt')\n",
    "series.info.head()"
   ]
  },
  {
   "cell_type": "markdown",
   "metadata": {},
   "source": [
    "Save this updated file info to csv file for future use:"
   ]
  },
  {
   "cell_type": "code",
   "execution_count": 15,
   "metadata": {},
   "outputs": [],
   "source": [
    "series.save_info('Updated_File_Info.txt')"
   ]
  },
  {
   "cell_type": "code",
   "execution_count": null,
   "metadata": {},
   "outputs": [],
   "source": []
  }
 ],
 "metadata": {
  "kernelspec": {
   "display_name": "Python 3",
   "language": "python",
   "name": "python3"
  },
  "language_info": {
   "codemirror_mode": {
    "name": "ipython",
    "version": 3
   },
   "file_extension": ".py",
   "mimetype": "text/x-python",
   "name": "python",
   "nbconvert_exporter": "python",
   "pygments_lexer": "ipython3",
   "version": "3.8.5-final"
  }
 },
 "nbformat": 4,
 "nbformat_minor": 4
}