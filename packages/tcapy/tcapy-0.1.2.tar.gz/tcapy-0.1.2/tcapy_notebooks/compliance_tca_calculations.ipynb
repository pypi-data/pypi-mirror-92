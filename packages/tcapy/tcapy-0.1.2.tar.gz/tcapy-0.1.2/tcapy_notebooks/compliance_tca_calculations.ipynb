{
 "cells": [
  {
   "attachments": {
    "cuemacro_logo.png": {
     "image/png": "[encoded data removed]"
    }
   },
   "cell_type": "markdown",
   "metadata": {},
   "source": [
    "![cuemacro_logo.png](attachment:cuemacro_logo.png)\n",
    "\n",
    "# Compliance and other more involved TCA calculations\n",
    "\n",
    "**Saeed Amen / Founder of Cuemacro**\n",
    "\n",
    "https://www.cuemacro.com / saeed@cuemacro.com / @saeedamenfx / All material is copyright Cuemacro / 2020"
   ]
  },
  {
   "cell_type": "markdown",
   "metadata": {},
   "source": [
    "tcapy is a transaction cost analysis library in Python and one of the first open source TCA library. Typically, internal solutions can cost hundreds of thousands of dollars to develop and maintain. Using external services to do TCA also often have a licence cost.\n",
    "\n",
    "This notebook assumes that you have already \n",
    "* installed it by following the instructions [here](https://github.com/cuemacro/tcapy/blob/master/INSTALL.md)) \n",
    "* read the introductory tcapy notebook [here](https://github.com/cuemacro/tcapy/blob/master/tcapy_notebooks/introducing_tcapy.ipynb)\n",
    "\n",
    "In this notebook, we show how we can do more involved TCA calculations with tcapy. We will show users how to construct Python based queries to:\n",
    "\n",
    "* Calculate notionals executed with each LP (liquidity provider)\n",
    "* Flag trades which have outlying slippage\n",
    "\n",
    "We shall also show you how to do to use some of the lower level parts of tcapy."
   ]
  },
  {
   "cell_type": "markdown",
   "metadata": {},
   "source": [
    "## Benchmark machines\n",
    "\n",
    "For reference, the benchmark times quoted in the text are for the following hardware setup, which is designed to replicate a typical environment, where databases are running on a different system. In our case, we are running on Windows and WSL/Ubuntu on our primary machine. This setup is the best of both worlds, allowing us to use features like Celery and Dash/web GUI undex Linux, but still using Windows, so we could also interact with applications like Excel easily. Note, that the times we quote are from running once (in practice, we should take an average over many runs).\n",
    "\n",
    "tcapy is running on\n",
    "* Processor: Intel(R) Core(TM) i9-7940X CPU @ 3.10GHz, 14 Core(s)\n",
    "* Memory: 64 GB RAM\n",
    "* Hard disk: NVMe m.2 SSD\n",
    "* OS: Windows Version 10.0.18362 and WSL/Windows Subsystem for Linux (Ubuntu 18.04) running Celery/Redis/Memcached backend\n",
    "\n",
    "Databases are running on (Arctic/MongoDB 3.6.5 for market tick data and Microsoft SQL Server 14.0.2027)\n",
    "* Intel(R) Xeon(R) CPU E3-1505M v6 @ 3.00GHz, 4 Core(s)\n",
    "* Memory: 32 GB RAM and \n",
    "* Hard disk: NVMe m.2 SSD\n",
    "* OS: Windows Version 10.0.17763"
   ]
  },
  {
   "cell_type": "markdown",
   "metadata": {},
   "source": [
    "Our first step is to add the tcapy library to our `PYTHONPATH`. You may need to change these lines. Note, that in our setup, we are running the Jupyter notebook on Windows, and the backend Celery workers on Linux. If you are running everything in the same environment, the paths are likely to be same."
   ]
  },
  {
   "cell_type": "code",
   "execution_count": 1,
   "metadata": {
    "ExecuteTime": {
     "end_time": "2020-07-27T14:16:47.335783Z",
     "start_time": "2020-07-27T14:16:47.329783Z"
    }
   },
   "outputs": [],
   "source": [
    "import sys\n",
    "import os\n",
    "\n",
    "windows_tcapy_path = 'e:/cuemacro/tcapy' # Windows platform\n",
    "linux_tcapy_path = '/home/tcapyuser/cuemacro/tcapy' # Linux platform\n",
    "local_test_data_path = '../test/resources/' # Windows platform\n",
    "remote_test_data_path = '../test/resources/' # WSL drive\n",
    "\n",
    "# Assuming the front end is on Linux\n",
    "sys.path.insert(0, windows_tcapy_path)"
   ]
  },
  {
   "cell_type": "markdown",
   "metadata": {},
   "source": [
    "If the Python path now includes tcapy, we can do all the imports from it, that we'll need later. We'll also import all the other Python libraries we'll use."
   ]
  },
  {
   "cell_type": "code",
   "execution_count": 2,
   "metadata": {
    "ExecuteTime": {
     "end_time": "2020-07-27T14:16:53.266782Z",
     "start_time": "2020-07-27T14:16:47.337784Z"
    }
   },
   "outputs": [],
   "source": [
    "from collections import OrderedDict\n",
    "\n",
    "# This is the entry point for our TCA analysis\n",
    "from tcapy.analysis.tcaengine import TCAEngineImpl\n",
    "\n",
    "# To construct the parameters for our TCA calculation\n",
    "from tcapy.analysis.tcarequest import TCARequest\n",
    "\n",
    "# To access trade and market data\n",
    "from tcapy.data.databasesource import DatabaseSourceCSVBinary, \\\n",
    "    DatabaseSourceDataFrame, DatabaseSourceDukascopy\n",
    "\n",
    "# Import all the metrics and benchmarks we'll use\n",
    "from tcapy.analysis.algos.benchmark import BenchmarkArrival, BenchmarkMarketSpreadToMid\n",
    "from tcapy.analysis.algos.metric import MetricSlippage, MetricTransientMarketImpact\n",
    "\n",
    "# To aggregate the TCA results\n",
    "from tcapy.analysis.algos.resultsform import TimelineResultsForm, DistResultsForm, \\\n",
    "    BarResultsForm, TableResultsForm, JoinTables\n",
    "\n",
    "# To help display the output of a TCA calculation\n",
    "from tcapy.vis.tcaresults import TCAResults\n",
    "from tcapy.vis.report.tcareport import TCAReport\n",
    "from tcapy.vis.displaylisteners import PlotRender\n",
    "\n",
    "# General classes\n",
    "from tcapy.conf.constants import Constants\n",
    "from tcapy.util.mediator import Mediator\n",
    "\n",
    "# Prevent requests from displaying debug messages for certain libraries\n",
    "import logging\n",
    "\n",
    "logging.getLogger(\"findatapy\").setLevel(logging.WARNING)\n",
    "logging.getLogger(\"requests\").setLevel(logging.WARNING)\n",
    "logging.getLogger(\"urllib3\").setLevel(logging.WARNING)\n",
    "\n",
    "# For plotting later\n",
    "import plotly.io as pio\n",
    "\n",
    "# For interactive plots (but these disappear when we reopen Jupyter)\n",
    "pio.renderers.default = \"notebook\" \n",
    "\n",
    "# Using https://github.com/plotly/Kaleido to generate static plot images\n",
    "# pio.renderers.default = \"svg\"\n",
    "pio.renderers.default = \"png\" \n",
    "\n",
    "import plotly\n",
    "\n",
    "from chartpy import Chart, Style\n",
    "\n",
    "# default size for Plotly charts we use\n",
    "chart_width = 800\n",
    "chart_height = 500\n",
    "\n",
    "chart = Chart()\n",
    "constants = Constants()\n",
    "style = Style(width=chart_width, height=chart_height, scale_factor=-1, silent_display=True)"
   ]
  },
  {
   "cell_type": "markdown",
   "metadata": {},
   "source": [
    "Let's specify the paths of the trade/order data CSVs in the test folder of tcapy, which are included in the package."
   ]
  },
  {
   "cell_type": "code",
   "execution_count": 3,
   "metadata": {
    "ExecuteTime": {
     "end_time": "2020-07-27T14:16:53.276783Z",
     "start_time": "2020-07-27T14:16:53.268783Z"
    }
   },
   "outputs": [],
   "source": [
    "csv_trade_order_mapping = {'trade_df' : os.path.join(local_test_data_path, 'small_test_trade_df.csv'),\n",
    "                           'order_df' : os.path.join(local_test_data_path, 'small_test_order_df.csv')}\n",
    "\n",
    "# The test trade/order data is populated between 25 Apr 2017-05 Jun 2017\n",
    "# with trades/orders for 'EURUSD', 'USDJPY' and 'EURJPY'\n",
    "local_csv_trade_order_mapping = OrderedDict([('trade_df', os.path.join(local_test_data_path, 'small_test_trade_df.csv')),\n",
    "                                             ('order_df', os.path.join(local_test_data_path, 'small_test_order_df.csv'))])\n",
    "\n",
    "remote_csv_trade_order_mapping = OrderedDict([('trade_df', os.path.join(remote_test_data_path, 'small_test_trade_df.csv')),\n",
    "                                              ('order_df', os.path.join(remote_test_data_path, 'small_test_order_df.csv'))])"
   ]
  },
  {
   "cell_type": "markdown",
   "metadata": {},
   "source": [
    "We need to create the `TCAEngineImpl` object, which is the entry point for dealing with TCA calculations."
   ]
  },
  {
   "cell_type": "code",
   "execution_count": 4,
   "metadata": {
    "ExecuteTime": {
     "end_time": "2020-07-27T14:16:53.338783Z",
     "start_time": "2020-07-27T14:16:53.278783Z"
    }
   },
   "outputs": [
    {
     "name": "stderr",
     "output_type": "stream",
     "text": [
      "2020-07-27 15:16:53,331; INFO:tcapy.analysis.tcaengine: Init TCAEngine version: pro - Env: desktop_laptop_linux (tcaengine.py:53)\n"
     ]
    }
   ],
   "source": [
    "tca_version  = constants.tcapy_version\n",
    "tca_engine = TCAEngineImpl(version=tca_version)\n",
    "\n",
    "volatile_cache = Mediator.get_volatile_cache()"
   ]
  },
  {
   "cell_type": "markdown",
   "metadata": {},
   "source": [
    "# Creating a TCA calculation to flag outlying slippage on trades\n",
    "\n",
    "In this section, we show how to do TCA calculations with tcapy to\n",
    "\n",
    "* flag trades/orders which have a spread which are outliers\n",
    "* get the total notional executed by each broker\n",
    "* get the average slippage per broker\n",
    "\n",
    "We'll also aggregate some of these results into a single DataFrame.\n",
    "\n",
    "As a first step, let's specify our `MetricSlippage` object. We also create a `BenchmarkMarketSpreadToMid` object, which will take the market data and the then calculate the spread from the bid/ask to the mid. For those market data sources, without a bid/ask and only mid, we specify 1 bp as our outlier amount (if bid/ask exist, tcapy will ignore this given we've specified `overwrite_bid_ask=False`."
   ]
  },
  {
   "cell_type": "code",
   "execution_count": 5,
   "metadata": {
    "ExecuteTime": {
     "end_time": "2020-07-27T14:16:53.344783Z",
     "start_time": "2020-07-27T14:16:53.340782Z"
    }
   },
   "outputs": [],
   "source": [
    "metric_slippage = MetricSlippage()\n",
    "benchmark_spread_to_mid = BenchmarkMarketSpreadToMid(overwrite_bid_ask=False, bid_mid_bp=1, ask_mid_bp=1)"
   ]
  },
  {
   "cell_type": "markdown",
   "metadata": {},
   "source": [
    "Let's create a `TableResultsForm` which will look at the `slippage` of all the trades and pick out only those which are anomalous. The resulting DataFrame, will be ordered by the worst slippage."
   ]
  },
  {
   "cell_type": "code",
   "execution_count": 6,
   "metadata": {
    "ExecuteTime": {
     "end_time": "2020-07-27T14:16:53.354783Z",
     "start_time": "2020-07-27T14:16:53.345783Z"
    }
   },
   "outputs": [],
   "source": [
    "# Display a table of all the anomalous trades by slippage (ie. outside bid/ask)\n",
    "table_results_form = TableResultsForm(market_trade_order_list=['trade_df'],\n",
    "    metric_name='slippage',\n",
    "                                      \n",
    "    # Order by the worst slippage\n",
    "    filter_by='worst_all',  \n",
    "                                      \n",
    "    # Only flag trades outside bid/ask\n",
    "    tag_value_combinations={'slippage_anomalous': 1.0},\n",
    "                                                  \n",
    "    # Only display a small number of fields\n",
    "    keep_fields=['executed_notional_in_reporting_currency', 'side'],\n",
    "                                        \n",
    "    # Don't round any of the figures\n",
    "    round_figures_by=None)"
   ]
  },
  {
   "cell_type": "markdown",
   "metadata": {},
   "source": [
    "Here we create a `BarResultsForm` object to aggregate notional executed per broker."
   ]
  },
  {
   "cell_type": "code",
   "execution_count": 7,
   "metadata": {
    "ExecuteTime": {
     "end_time": "2020-07-27T14:16:53.364783Z",
     "start_time": "2020-07-27T14:16:53.356784Z"
    }
   },
   "outputs": [],
   "source": [
    " # Get the total notional executed by broker (in reporting currency)\n",
    "bar_results_form_notional = BarResultsForm(market_trade_order_list=['trade_df'],  # Trade\n",
    "    # Aggregate by broker name\n",
    "    aggregate_by_field='broker_id',  \n",
    "                                                \n",
    "    # Analyse notional\n",
    "    metric_name='executed_notional_in_reporting_currency',\n",
    "    \n",
    "    # Sum the notional\n",
    "    aggregation_metric='sum',  \n",
    "                                           \n",
    "    # No need for a multipler\n",
    "    scalar=1,  \n",
    "                                           \n",
    "    # Round to nearest unit\n",
    "    round_figures_by=0)"
   ]
  },
  {
   "cell_type": "markdown",
   "metadata": {},
   "source": [
    "Now let's create a `BarResultsForm` to calculate the average slippage per broker (weighted by trade size)."
   ]
  },
  {
   "cell_type": "code",
   "execution_count": 8,
   "metadata": {
    "ExecuteTime": {
     "end_time": "2020-07-27T14:16:53.373782Z",
     "start_time": "2020-07-27T14:16:53.366786Z"
    }
   },
   "outputs": [],
   "source": [
    "# Get average slippage per broker (weighted by notional)\n",
    "bar_results_form_slippage = BarResultsForm(market_trade_order_list=['trade_df'],\n",
    "                                           \n",
    "    # Aggregate the trades by broker_id\n",
    "    aggregate_by_field='broker_id',\n",
    "                                           \n",
    "    # Do calculations on the slippage field\n",
    "    metric_name='slippage',\n",
    "    aggregation_metric='mean',\n",
    "                                           \n",
    "    # Weight the mean by the amount executed in reported currency (usually USD)\n",
    "    weighting_field='executed_notional_in_reporting_currency',\n",
    "    \n",
    "    # Multiply the slippage by 10000 (converting to bp)\n",
    "    scalar=10000.0,\n",
    "    \n",
    "    # Round all output to 2 decimal places\n",
    "    round_figures_by=2)"
   ]
  },
  {
   "cell_type": "markdown",
   "metadata": {},
   "source": [
    "Lastly, create a `JoinTables` object to combine the total notional per broker and the associated slippage for each broker."
   ]
  },
  {
   "cell_type": "code",
   "execution_count": 9,
   "metadata": {
    "ExecuteTime": {
     "end_time": "2020-07-27T14:16:53.383782Z",
     "start_time": "2020-07-27T14:16:53.375784Z"
    }
   },
   "outputs": [],
   "source": [
    "join_tables_notional_slippage = JoinTables(tables_dict={'table_name': 'jointables_broker_id',\n",
    "\n",
    "    # Fetch the following calculated tables\n",
    "    'table_list': ['bar_trade_df_executed_notional_in_reporting_currency_by/sum/broker_id',\n",
    "                   'bar_trade_df_slippage_by/mean/broker_id'],\n",
    "\n",
    "    # Append to the columns of each table\n",
    "    'column_list': ['notional (rep cur)', 'slippage (bp)']})"
   ]
  },
  {
   "cell_type": "markdown",
   "metadata": {},
   "source": [
    "Here we create a detailed `TCARequest` loading our trade data from CSV files for a single ticker (in this case EURUSD). Given that we are downloading directly from Dukascopy, we shall set `use_multithreading=False` as the current downloader is not thread safe. If we want to use multithreading/Celery, we can use other data sources, such as a database (eg. Arctic/MongoDB). In general, it is better to use a market data database, which has been prepopulated from an external source, rather than repeatedly calling an external source, which is very slow (in particular when accessing a long history).\n",
    "\n",
    "Note, we are using the various `Metric`, `Benchmark`, `ResultsForm` and `JoinTables` objects which we have already defined earlier."
   ]
  },
  {
   "cell_type": "code",
   "execution_count": 10,
   "metadata": {
    "ExecuteTime": {
     "end_time": "2020-07-27T14:16:53.396783Z",
     "start_time": "2020-07-27T14:16:53.385782Z"
    }
   },
   "outputs": [],
   "source": [
    "# We are conducting a TCA computation for trade/order data between 05 May-10 May 2017 for EURUSD\n",
    "# The trade dataset is from CSV and the market data is downloaded from Dukascopy on the fly\n",
    "tca_request = TCARequest(start_date='05 May 2017', finish_date='10 May 2017', ticker=['EURUSD'],\n",
    "                         tca_type='detailed',\n",
    "                         trade_data_store='csv', market_data_store='dukascopy',\n",
    "                         trade_order_mapping=local_csv_trade_order_mapping,\n",
    "                         metric_calcs=[metric_slippage],\n",
    "                         results_form=[table_results_form, \n",
    "                                       bar_results_form_notional, \n",
    "                                       bar_results_form_slippage],\n",
    "                         benchmark_calcs=[benchmark_spread_to_mid],\n",
    "                         join_tables=[join_tables_notional_slippage],\n",
    "                         use_multithreading=False)"
   ]
  },
  {
   "cell_type": "markdown",
   "metadata": {},
   "source": [
    "Let's run the TCA calculation from our `TCARequest`. The output is a dictionary of DataFrames (and Figures)."
   ]
  },
  {
   "cell_type": "code",
   "execution_count": 11,
   "metadata": {
    "ExecuteTime": {
     "end_time": "2020-07-27T14:17:03.225184Z",
     "start_time": "2020-07-27T14:16:53.398782Z"
    }
   },
   "outputs": [
    {
     "name": "stderr",
     "output_type": "stream",
     "text": [
      "2020-07-27 15:16:53,411; DEBUG:tcapy.analysis.tcamarkettradeloader: Start loading trade/data/computation (tcamarkettradeloader.py:241)\n",
      "2020-07-27 15:16:53,414; DEBUG:tcapy.analysis.tcatickerloaderimpl: Get market and trade/order data for EURUSD from 2017-05-05 00:00:00+00:00 - 2017-05-10 00:00:00+00:00 (tcatickerloaderimpl.py:80)\n",
      "2020-07-27 15:16:53,416; DEBUG:tcapy.data.volatilecache: Attempting to get list from cache: ['dukascopy_EURUSD_2017-05-05 00:00:00+00:00_2017-05-10 00:00:00+00:00_market_df_None_comp'] (volatilecache.py:540)\n",
      "2020-07-27 15:16:53,419; DEBUG:tcapy.data.volatilecache: Attempting to get list from cache: ['dukascopy_EURUSD_2017-05-05 00:00:00+00:00_2017-05-10 00:00:00+00:00_market_df_None_comp'] (volatilecache.py:540)\n",
      "2020-07-27 15:16:53,597; DEBUG:tcapy.data.databasesource: Downloading 2017-05-05 00:00:00 - 2017-05-10 00:00:00 for EURUSD (databasesource.py:3819)\n",
      "2020-07-27 15:17:01,925; WARNING:tcapy.analysis.algos.benchmark: mid not in market data (benchmark.py:90)\n",
      "2020-07-27 15:17:01,926; DEBUG:tcapy.data.volatilecache: Attempting to push ['dukascopy_EURUSD_2017-05-05 00:00:00+00:00_2017-05-10 00:00:00+00:00_market_df_None_comp'] to cache (volatilecache.py:426)\n",
      "2020-07-27 15:17:02,035; DEBUG:tcapy.util.deltaizeserialize: Pandas dataframe of size: ----------- 17.08 MB ----------- in 1 chunk(s) (deltaizeserialize.py:219)\n",
      "2020-07-27 15:17:02,088; DEBUG:tcapy.data.volatilecache: Now pushing ['dukascopy_EURUSD_2017-05-05 00:00:00+00:00_2017-05-10 00:00:00+00:00_market_df_None_comp'] to cache (volatilecache.py:443)\n",
      "2020-07-27 15:17:02,147; DEBUG:tcapy.data.volatilecache: Pushed ['dukascopy_EURUSD_2017-05-05 00:00:00+00:00_2017-05-10 00:00:00+00:00_market_df_None_comp'] to cache (volatilecache.py:461)\n",
      "2020-07-27 15:17:02,149; DEBUG:tcapy.data.volatilecache: Attempting to push ['dukascopy_EURUSD_2017-05-05 00:00:00+00:00_2017-05-10 00:00:00+00:00_market_df_None_comp'] to cache (volatilecache.py:426)\n",
      "2020-07-27 15:17:02,256; DEBUG:tcapy.util.deltaizeserialize: Pandas dataframe of size: ----------- 17.08 MB ----------- in 1 chunk(s) (deltaizeserialize.py:219)\n",
      "2020-07-27 15:17:02,301; DEBUG:tcapy.data.volatilecache: Now pushing ['dukascopy_EURUSD_2017-05-05 00:00:00+00:00_2017-05-10 00:00:00+00:00_market_df_None_comp'] to cache (volatilecache.py:443)\n",
      "2020-07-27 15:17:02,367; DEBUG:tcapy.data.volatilecache: Pushed ['dukascopy_EURUSD_2017-05-05 00:00:00+00:00_2017-05-10 00:00:00+00:00_market_df_None_comp'] to cache (volatilecache.py:461)\n",
      "2020-07-27 15:17:02,369; DEBUG:tcapy.analysis.tcatickerloader: Get trade order holder for EURUSD from 2017-05-05 00:00:00+00:00 - 2017-05-10 00:00:00+00:00 (tcatickerloader.py:386)\n",
      "2020-07-27 15:17:02,415; WARNING:tcapy.data.datafactory: Dataframe empty for ticker USDEUR (datafactory.py:97)\n",
      "2020-07-27 15:17:02,417; DEBUG:tcapy.data.volatilecache: Attempting to get list from cache: ['dukascopy_EURUSD_2017-05-05 00:00:00+00:00_2017-05-10 00:00:00+00:00_market_df_None_comp'] (volatilecache.py:540)\n",
      "2020-07-27 15:17:02,828; WARNING:tcapy.data.datafactory: Dataframe empty for ticker USDEUR (datafactory.py:97)\n",
      "2020-07-27 15:17:02,829; DEBUG:tcapy.data.volatilecache: Attempting to get list from cache: ['dukascopy_EURUSD_2017-05-05 00:00:00+00:00_2017-05-10 00:00:00+00:00_market_df_None_comp'] (volatilecache.py:540)\n",
      "2020-07-27 15:17:02,897; DEBUG:tcapy.analysis.tcatickerloader: Filter the market date by start/finish date (tcatickerloader.py:761)\n",
      "2020-07-27 15:17:02,904; DEBUG:tcapy.analysis.tcatickerloader: Combine trade/order data (tcatickerloader.py:782)\n",
      "2020-07-27 15:17:02,915; DEBUG:tcapy.analysis.tcatickerloader: Calculating BenchmarkMarketSpreadToMid for market data (tcatickerloader.py:600)\n",
      "2020-07-27 15:17:02,943; DEBUG:tcapy.analysis.tcatickerloader: Filter trades by venue (tcatickerloader.py:458)\n",
      "2020-07-27 15:17:02,945; DEBUG:tcapy.analysis.tcatickerloader: Calculating derived fields and benchmarks (tcatickerloader.py:508)\n",
      "2020-07-27 15:17:02,946; DEBUG:tcapy.analysis.tcatickerloader: Calculating execution fields (tcatickerloader.py:510)\n",
      "2020-07-27 15:17:02,957; DEBUG:tcapy.analysis.tcatickerloader: Calculating benchmarks (tcatickerloader.py:536)\n",
      "2020-07-27 15:17:02,958; DEBUG:tcapy.analysis.tcatickerloader: Calculating metrics (tcatickerloader.py:554)\n",
      "2020-07-27 15:17:02,959; DEBUG:tcapy.analysis.tcatickerloader: Calculating MetricSlippage for trade_df (tcatickerloader.py:560)\n",
      "2020-07-27 15:17:02,978; DEBUG:tcapy.analysis.tcatickerloader: Calculating MetricSlippage for order_df (tcatickerloader.py:560)\n",
      "2020-07-27 15:17:02,998; DEBUG:tcapy.analysis.tcatickerloader: Completed derived field calculations for EURUSD (tcatickerloader.py:568)\n",
      "2020-07-27 15:17:02,999; DEBUG:tcapy.analysis.tcatickerloaderimpl: Generating downsampled market data for potentional display (tcatickerloaderimpl.py:275)\n",
      "2020-07-27 15:17:03,025; DEBUG:tcapy.analysis.tcatickerloaderimpl: About to join (tcatickerloaderimpl.py:340)\n",
      "2020-07-27 15:17:03,029; DEBUG:tcapy.analysis.tcatickerloaderimpl: Finished joining (tcatickerloaderimpl.py:356)\n",
      "2020-07-27 15:17:03,032; DEBUG:tcapy.analysis.tcatickerloaderimpl: About to join (tcatickerloaderimpl.py:340)\n",
      "2020-07-27 15:17:03,035; DEBUG:tcapy.analysis.tcatickerloaderimpl: Finished joining (tcatickerloaderimpl.py:356)\n",
      "2020-07-27 15:17:03,172; DEBUG:tcapy.analysis.tcamarkettradeloader: Finished loading data and calculating metrics on individual tickers (tcamarkettradeloader.py:248)\n",
      "2020-07-27 15:17:03,174; DEBUG:tcapy.analysis.tcamarkettradeloaderimpl: Constructing results form to summarize analysis... (tcamarkettradeloaderimpl.py:74)\n",
      "2020-07-27 15:17:03,214; DEBUG:tcapy.analysis.tcamarkettradeloaderimpl: Now join table results... (tcamarkettradeloaderimpl.py:122)\n",
      "2020-07-27 15:17:03,220; DEBUG:tcapy.analysis.tcamarkettradeloaderimpl: Finished calculating results form and join table results! (tcamarkettradeloaderimpl.py:135)\n"
     ]
    }
   ],
   "source": [
    "Mediator.get_volatile_cache().clear_cache()\n",
    "\n",
    "# Dictionary of (mostly) dataframes as output from TCA calculation\n",
    "dict_of_df = tca_engine.calculate_tca(tca_request)"
   ]
  },
  {
   "cell_type": "markdown",
   "metadata": {},
   "source": [
    "Let's have a look inside the output of our TCA calculation."
   ]
  },
  {
   "cell_type": "code",
   "execution_count": 12,
   "metadata": {
    "ExecuteTime": {
     "end_time": "2020-07-27T14:17:03.240184Z",
     "start_time": "2020-07-27T14:17:03.227184Z"
    }
   },
   "outputs": [
    {
     "name": "stdout",
     "output_type": "stream",
     "text": [
      "odict_keys(['trade_df', 'order_df', 'sparse_market_trade_df', 'sparse_market_order_df', 'market_df_downsampled', 'candlestick_fig', 'table_trade_df_slippage_by_worst_all', 'bar_trade_df_executed_notional_in_reporting_currency_by/sum/broker_id', 'bar_trade_df_slippage_by/mean/broker_id', 'jointables_broker_id', 'market_df'])\n"
     ]
    }
   ],
   "source": [
    "print(dict_of_df.keys())"
   ]
  },
  {
   "cell_type": "markdown",
   "metadata": {},
   "source": [
    "Below we explain what each of the keys in the dictionary output represent.\n",
    "\n",
    "* `trade_df` - trade data, with additional calculated fields\n",
    "* `order_df` - order data, with additional calculated fields\n",
    "* `sparse_market_trade_df` - combined downsampled market data with trade data\n",
    "* `sparse_market_order_df` - combined downsampled market data with order data\n",
    "* `market_df_downsampled` - downsampled market data\n",
    "* `candlestick_fig` - candlesticks of resampled market data as a Plotly Figure\n",
    "* `market_df` - this empty given default `dummy_market=True` set\n",
    "\n",
    "We also have various keys associated with the `ResultForm` and `JoinTable` objects we created.\n",
    "\n",
    "* `table_trade_df_slippage_by_worst_all` - table with trades which have outlying slippage\n",
    "* `bar_trade_df_executed_notional_in_reporting_currency_by/sum/broker_id` - total notional by broker\n",
    "* `bar_trade_df_slippage_by/mean/broker_id` - average slippage by broker\n",
    "* `jointables_broker_id` - combining the notional and slippage tables"
   ]
  },
  {
   "cell_type": "markdown",
   "metadata": {},
   "source": [
    "Let's use the `TCAResults` object to simplify the output into an easier form and create Plotly Figure charts/HTML styled tables."
   ]
  },
  {
   "cell_type": "code",
   "execution_count": 13,
   "metadata": {
    "ExecuteTime": {
     "end_time": "2020-07-27T14:17:03.630185Z",
     "start_time": "2020-07-27T14:17:03.243194Z"
    }
   },
   "outputs": [
    {
     "name": "stderr",
     "output_type": "stream",
     "text": [
      "2020-07-27 15:17:03,248; DEBUG:tcapy.vis.displaylisteners: Plotting main timeline 2214 (displaylisteners.py:988)\n",
      "2020-07-27 15:17:03,492; DEBUG:tcapy.vis.displaylisteners: Rendered plot 2214 and  (displaylisteners.py:998)\n",
      "2020-07-27 15:17:03,495; DEBUG:tcapy.vis.displaylisteners: Plotting main timeline 2208 (displaylisteners.py:988)\n",
      "2020-07-27 15:17:03,550; DEBUG:tcapy.vis.displaylisteners: Rendered plot 2208 and  (displaylisteners.py:998)\n"
     ]
    }
   ],
   "source": [
    "tca_results = TCAResults(dict_of_df, tca_request)\n",
    "tca_results.render_computation_charts()"
   ]
  },
  {
   "cell_type": "markdown",
   "metadata": {},
   "source": [
    "We can now access the DataFrames via properties like `bar`, `table` and `jointables`."
   ]
  },
  {
   "cell_type": "code",
   "execution_count": 14,
   "metadata": {
    "ExecuteTime": {
     "end_time": "2020-07-27T14:17:03.645185Z",
     "start_time": "2020-07-27T14:17:03.632185Z"
    }
   },
   "outputs": [
    {
     "name": "stdout",
     "output_type": "stream",
     "text": [
      "dict_keys(['trade_df_executed_notional_in_reporting_currency_by/sum/broker_id', 'trade_df_slippage_by/mean/broker_id'])\n",
      "dict_keys(['trade_df_slippage_by_worst_all'])\n",
      "dict_keys(['broker_id'])\n"
     ]
    }
   ],
   "source": [
    "print(tca_results.bar.keys())\n",
    "print(tca_results.table.keys())\n",
    "print(tca_results.join_tables.keys())"
   ]
  },
  {
   "cell_type": "markdown",
   "metadata": {},
   "source": [
    "Let's view the data related to the `BarResultsForm` for the executed notional for each broker, firstly as a DataFrame and secondly as a bar chart by accessing the `bar_charts` property of the `TCAResults` object."
   ]
  },
  {
   "cell_type": "code",
   "execution_count": 15,
   "metadata": {
    "ExecuteTime": {
     "end_time": "2020-07-27T14:17:03.660184Z",
     "start_time": "2020-07-27T14:17:03.647186Z"
    }
   },
   "outputs": [
    {
     "data": {
      "text/html": [
       "<div>\n",
       "<style scoped>\n",
       "    .dataframe tbody tr th:only-of-type {\n",
       "        vertical-align: middle;\n",
       "    }\n",
       "\n",
       "    .dataframe tbody tr th {\n",
       "        vertical-align: top;\n",
       "    }\n",
       "\n",
       "    .dataframe thead th {\n",
       "        text-align: right;\n",
       "    }\n",
       "</style>\n",
       "<table border=\"1\" class=\"dataframe\">\n",
       "  <thead>\n",
       "    <tr style=\"text-align: right;\">\n",
       "      <th></th>\n",
       "      <th>broker_id</th>\n",
       "    </tr>\n",
       "    <tr>\n",
       "      <th>broker_id_index</th>\n",
       "      <th></th>\n",
       "    </tr>\n",
       "  </thead>\n",
       "  <tbody>\n",
       "    <tr>\n",
       "      <th>broker2</th>\n",
       "      <td>19743083.0</td>\n",
       "    </tr>\n",
       "    <tr>\n",
       "      <th>broker3</th>\n",
       "      <td>21398742.0</td>\n",
       "    </tr>\n",
       "    <tr>\n",
       "      <th>broker4</th>\n",
       "      <td>3586887.0</td>\n",
       "    </tr>\n",
       "    <tr>\n",
       "      <th>broker5</th>\n",
       "      <td>8986275.0</td>\n",
       "    </tr>\n",
       "    <tr>\n",
       "      <th>broker6</th>\n",
       "      <td>27237125.0</td>\n",
       "    </tr>\n",
       "  </tbody>\n",
       "</table>\n",
       "</div>"
      ],
      "text/plain": [
       "                  broker_id\n",
       "broker_id_index            \n",
       "broker2          19743083.0\n",
       "broker3          21398742.0\n",
       "broker4           3586887.0\n",
       "broker5           8986275.0\n",
       "broker6          27237125.0"
      ]
     },
     "execution_count": 15,
     "metadata": {},
     "output_type": "execute_result"
    }
   ],
   "source": [
    "tca_results.bar['trade_df_executed_notional_in_reporting_currency_by/sum/broker_id']"
   ]
  },
  {
   "cell_type": "code",
   "execution_count": 16,
   "metadata": {
    "ExecuteTime": {
     "end_time": "2020-07-27T14:17:07.696617Z",
     "start_time": "2020-07-27T14:17:03.662185Z"
    }
   },
   "outputs": [
    {
     "data": {
      "image/png": "[encoded data removed]"
     },
     "metadata": {},
     "output_type": "display_data"
    }
   ],
   "source": [
    "tca_results.bar_charts['trade_df_executed_notional_in_reporting_currency_by/sum/broker_id']"
   ]
  },
  {
   "cell_type": "markdown",
   "metadata": {},
   "source": [
    "We can also show the DataFrame with the outlier trades, which are outside the bid/ask from Dukascopy data."
   ]
  },
  {
   "cell_type": "code",
   "execution_count": 17,
   "metadata": {
    "ExecuteTime": {
     "end_time": "2020-07-27T14:17:07.711616Z",
     "start_time": "2020-07-27T14:17:07.698619Z"
    }
   },
   "outputs": [
    {
     "data": {
      "text/html": [
       "<div>\n",
       "<style scoped>\n",
       "    .dataframe tbody tr th:only-of-type {\n",
       "        vertical-align: middle;\n",
       "    }\n",
       "\n",
       "    .dataframe tbody tr th {\n",
       "        vertical-align: top;\n",
       "    }\n",
       "\n",
       "    .dataframe thead th {\n",
       "        text-align: right;\n",
       "    }\n",
       "</style>\n",
       "<table border=\"1\" class=\"dataframe\">\n",
       "  <thead>\n",
       "    <tr style=\"text-align: right;\">\n",
       "      <th></th>\n",
       "      <th>executed_notional_in_reporting_currency</th>\n",
       "      <th>side</th>\n",
       "      <th>slippage_benchmark</th>\n",
       "      <th>slippage</th>\n",
       "      <th>slippage_anomalous</th>\n",
       "    </tr>\n",
       "  </thead>\n",
       "  <tbody>\n",
       "    <tr>\n",
       "      <th>2017-05-08 10:31:33.011000+00:00</th>\n",
       "      <td>3.586887e+06</td>\n",
       "      <td>1</td>\n",
       "      <td>1.094680</td>\n",
       "      <td>-0.000021</td>\n",
       "      <td>1.0</td>\n",
       "    </tr>\n",
       "    <tr>\n",
       "      <th>2017-05-05 14:56:49.373000+00:00</th>\n",
       "      <td>6.811655e+06</td>\n",
       "      <td>1</td>\n",
       "      <td>1.098875</td>\n",
       "      <td>-0.000016</td>\n",
       "      <td>1.0</td>\n",
       "    </tr>\n",
       "    <tr>\n",
       "      <th>2017-05-08 14:37:25.382000+00:00</th>\n",
       "      <td>1.551467e+07</td>\n",
       "      <td>1</td>\n",
       "      <td>1.093750</td>\n",
       "      <td>-0.000015</td>\n",
       "      <td>1.0</td>\n",
       "    </tr>\n",
       "    <tr>\n",
       "      <th>2017-05-05 06:27:26.514000+00:00</th>\n",
       "      <td>1.976319e+07</td>\n",
       "      <td>-1</td>\n",
       "      <td>1.097445</td>\n",
       "      <td>-0.000013</td>\n",
       "      <td>1.0</td>\n",
       "    </tr>\n",
       "    <tr>\n",
       "      <th>2017-05-09 11:18:39.206000+00:00</th>\n",
       "      <td>1.293143e+07</td>\n",
       "      <td>-1</td>\n",
       "      <td>1.089700</td>\n",
       "      <td>-0.000013</td>\n",
       "      <td>1.0</td>\n",
       "    </tr>\n",
       "    <tr>\n",
       "      <th>Avg</th>\n",
       "      <td>1.463584e+07</td>\n",
       "      <td>0</td>\n",
       "      <td>1.094755</td>\n",
       "      <td>-0.000014</td>\n",
       "      <td>1.0</td>\n",
       "    </tr>\n",
       "  </tbody>\n",
       "</table>\n",
       "</div>"
      ],
      "text/plain": [
       "                                  executed_notional_in_reporting_currency  \\\n",
       "2017-05-08 10:31:33.011000+00:00                             3.586887e+06   \n",
       "2017-05-05 14:56:49.373000+00:00                             6.811655e+06   \n",
       "2017-05-08 14:37:25.382000+00:00                             1.551467e+07   \n",
       "2017-05-05 06:27:26.514000+00:00                             1.976319e+07   \n",
       "2017-05-09 11:18:39.206000+00:00                             1.293143e+07   \n",
       "Avg                                                          1.463584e+07   \n",
       "\n",
       "                                  side  slippage_benchmark  slippage  \\\n",
       "2017-05-08 10:31:33.011000+00:00     1            1.094680 -0.000021   \n",
       "2017-05-05 14:56:49.373000+00:00     1            1.098875 -0.000016   \n",
       "2017-05-08 14:37:25.382000+00:00     1            1.093750 -0.000015   \n",
       "2017-05-05 06:27:26.514000+00:00    -1            1.097445 -0.000013   \n",
       "2017-05-09 11:18:39.206000+00:00    -1            1.089700 -0.000013   \n",
       "Avg                                  0            1.094755 -0.000014   \n",
       "\n",
       "                                  slippage_anomalous  \n",
       "2017-05-08 10:31:33.011000+00:00                 1.0  \n",
       "2017-05-05 14:56:49.373000+00:00                 1.0  \n",
       "2017-05-08 14:37:25.382000+00:00                 1.0  \n",
       "2017-05-05 06:27:26.514000+00:00                 1.0  \n",
       "2017-05-09 11:18:39.206000+00:00                 1.0  \n",
       "Avg                                              1.0  "
      ]
     },
     "execution_count": 17,
     "metadata": {},
     "output_type": "execute_result"
    }
   ],
   "source": [
    "tca_results.table['trade_df_slippage_by_worst_all']"
   ]
  },
  {
   "cell_type": "markdown",
   "metadata": {},
   "source": [
    "We can view the DataFrame for the combination of total amount executed per broker and the slippage (weighted by notional)."
   ]
  },
  {
   "cell_type": "code",
   "execution_count": 18,
   "metadata": {
    "ExecuteTime": {
     "end_time": "2020-07-27T14:17:07.726616Z",
     "start_time": "2020-07-27T14:17:07.713617Z"
    }
   },
   "outputs": [
    {
     "data": {
      "text/html": [
       "<div>\n",
       "<style scoped>\n",
       "    .dataframe tbody tr th:only-of-type {\n",
       "        vertical-align: middle;\n",
       "    }\n",
       "\n",
       "    .dataframe tbody tr th {\n",
       "        vertical-align: top;\n",
       "    }\n",
       "\n",
       "    .dataframe thead th {\n",
       "        text-align: right;\n",
       "    }\n",
       "</style>\n",
       "<table border=\"1\" class=\"dataframe\">\n",
       "  <thead>\n",
       "    <tr style=\"text-align: right;\">\n",
       "      <th></th>\n",
       "      <th>broker_id notional (rep cur)</th>\n",
       "      <th>broker_id slippage (bp)</th>\n",
       "    </tr>\n",
       "  </thead>\n",
       "  <tbody>\n",
       "    <tr>\n",
       "      <th>broker2</th>\n",
       "      <td>19743083.0</td>\n",
       "      <td>-0.14</td>\n",
       "    </tr>\n",
       "    <tr>\n",
       "      <th>broker3</th>\n",
       "      <td>21398742.0</td>\n",
       "      <td>-0.11</td>\n",
       "    </tr>\n",
       "    <tr>\n",
       "      <th>broker4</th>\n",
       "      <td>3586887.0</td>\n",
       "      <td>-0.21</td>\n",
       "    </tr>\n",
       "    <tr>\n",
       "      <th>broker5</th>\n",
       "      <td>8986275.0</td>\n",
       "      <td>-0.10</td>\n",
       "    </tr>\n",
       "    <tr>\n",
       "      <th>broker6</th>\n",
       "      <td>27237125.0</td>\n",
       "      <td>-0.12</td>\n",
       "    </tr>\n",
       "  </tbody>\n",
       "</table>\n",
       "</div>"
      ],
      "text/plain": [
       "         broker_id notional (rep cur)  broker_id slippage (bp)\n",
       "broker2                    19743083.0                    -0.14\n",
       "broker3                    21398742.0                    -0.11\n",
       "broker4                     3586887.0                    -0.21\n",
       "broker5                     8986275.0                    -0.10\n",
       "broker6                    27237125.0                    -0.12"
      ]
     },
     "execution_count": 18,
     "metadata": {},
     "output_type": "execute_result"
    }
   ],
   "source": [
    "tca_results.join_tables['broker_id']"
   ]
  },
  {
   "cell_type": "markdown",
   "metadata": {},
   "source": [
    "We can see the styled table, is a string of HTML code within an HTML IFrame. We could write this to disk as an HTML file or display to a user."
   ]
  },
  {
   "cell_type": "code",
   "execution_count": 19,
   "metadata": {
    "ExecuteTime": {
     "end_time": "2020-07-27T14:17:07.741615Z",
     "start_time": "2020-07-27T14:17:07.728622Z"
    }
   },
   "outputs": [
    {
     "data": {
      "text/plain": [
       "Iframe(height='300px', sandbox='', srcDoc='<style></style>\\n<table border=\"0\">\\n  <thead>\\n    <tr style=\"text-align: right;\">\\n      <th></th>\\n      <th>broker_id notional (rep cur)</th>\\n      <th>broker_id slippage (bp)</th>\\n    </tr>\\n  </thead>\\n  <tbody>\\n    <tr>\\n      <th>broker2</th>\\n      <td>19743083.0</td>\\n      <td>-0.14</td>\\n    </tr>\\n    <tr>\\n      <th>broker3</th>\\n      <td>21398742.0</td>\\n      <td>-0.11</td>\\n    </tr>\\n    <tr>\\n      <th>broker4</th>\\n      <td>3586887.0</td>\\n      <td>-0.21</td>\\n    </tr>\\n    <tr>\\n      <th>broker5</th>\\n      <td>8986275.0</td>\\n      <td>-0.10</td>\\n    </tr>\\n    <tr>\\n      <th>broker6</th>\\n      <td>27237125.0</td>\\n      <td>-0.12</td>\\n    </tr>\\n  </tbody>\\n</table>', width='975px', style={'border': 'thin lightgrey solid', 'padding': '0', 'margin': '0'})"
      ]
     },
     "execution_count": 19,
     "metadata": {},
     "output_type": "execute_result"
    }
   ],
   "source": [
    "tca_results.styled_join_tables['broker_id']"
   ]
  },
  {
   "cell_type": "markdown",
   "metadata": {},
   "source": [
    "# Conclusion\n",
    "\n",
    "We have seen how to call tcapy programatically for more involved usage, in particular how to use it for compliance purposes.\n",
    "\n",
    "If you are interesting supporting this project, such as sponsoring new features or to get commerical support, please contact saeed@cuemacro.com."
   ]
  }
 ],
 "metadata": {
  "kernelspec": {
   "display_name": "Python 3",
   "language": "python",
   "name": "python3"
  },
  "language_info": {
   "codemirror_mode": {
    "name": "ipython",
    "version": 3
   },
   "file_extension": ".py",
   "mimetype": "text/x-python",
   "name": "python",
   "nbconvert_exporter": "python",
   "pygments_lexer": "ipython3",
   "version": "3.6.10"
  },
  "toc": {
   "base_numbering": 1,
   "nav_menu": {},
   "number_sections": true,
   "sideBar": true,
   "skip_h1_title": false,
   "title_cell": "Table of Contents",
   "title_sidebar": "Contents",
   "toc_cell": false,
   "toc_position": {},
   "toc_section_display": true,
   "toc_window_display": true
  }
 },
 "nbformat": 4,
 "nbformat_minor": 4
}
