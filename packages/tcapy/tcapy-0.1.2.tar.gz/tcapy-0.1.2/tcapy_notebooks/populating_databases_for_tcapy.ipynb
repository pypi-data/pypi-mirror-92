{
 "cells": [
  {
   "attachments": {
    "cuemacro_logo.png": {
     "image/png": "[encoded data removed]"
    }
   },
   "cell_type": "markdown",
   "metadata": {},
   "source": [
    "![cuemacro_logo.png](attachment:cuemacro_logo.png)\n",
    "\n",
    "# Populate databases for tcapy\n",
    "\n",
    "**Saeed Amen / Founder of Cuemacro**\n",
    "\n",
    "https://www.cuemacro.com / saeed@cuemacro.com / @saeedamenfx / All material is copyright Cuemacro / 2020"
   ]
  },
  {
   "cell_type": "markdown",
   "metadata": {},
   "source": [
    "## Introduction\n",
    "\n",
    "In order for tcapy to work best it needs databases to ingest trade data and high frequency market data. Here we illustrate how to download market data from external sources, and how to populate your market tick database with it. We also show how to populate your trade database with your own trade/order data from CSV files. We also show how you can dump trade/order data from your database too via tcapy.\n",
    "\n",
    "This tutorial assumes that users are using databases for MySQL to store their trade/order data and MongoDB for their market data and also using Ubuntu/WSL, on `localhost`. You can setup both MySQL and MongoDB on Windows if you prefer.\n",
    "\n",
    "Whilst our focus here is on MySQL and MongoDB, note that tcapy supports several databases, via adapters:\n",
    "\n",
    "* trade/order data - Microsoft SQL Server, MySQL, SQLite\n",
    "* market data - Arctic/MongoDB, PyStore, InfluxDB and kdb+/q\n",
    "\n",
    "You can also read trade/order and market data from flat files (CSV, Parquet or H5) or direct from external sources. However, we would strongly recommend, in particular for your market data, to download from your external source and then dump in your database. For trade/order data, it is also more convenient to use a database, rather than using CSVs.\n",
    "\n",
    "If running locally, we are assuming that users have already installed MySQL/MongoDB on their Linux box, using `install_mysql.sh` and `install_mongodb.sh`, which is also triggered by `install_all_tcapy.sh`. You also need to make sure the databases have been started locally, using `restart_db.py`.\n",
    "\n",
    "You can of course use databases which are not installed locally, in which case you won't need to install locally, but you will still need the IP, usernames and passwords to access them. To begin with, as with the other notebooks, let's set our paths. We are assuming that we are running the front end on Windows and the backend on WSL/Ubuntu."
   ]
  },
  {
   "cell_type": "code",
   "execution_count": 1,
   "metadata": {
    "ExecuteTime": {
     "end_time": "2020-04-08T18:19:57.042226Z",
     "start_time": "2020-04-08T18:19:57.033250Z"
    }
   },
   "outputs": [],
   "source": [
    "import sys\n",
    "import os\n",
    "\n",
    "windows_tcapy_path = 'e:/cuemacro/tcapy' # Windows platform\n",
    "linux_tcapy_path = '/home/tcapyuser/cuemacro/tcapy' # Linux platform\n",
    "local_test_data_path = '../test/resources/' # Windows platform\n",
    "remote_test_data_path = '../test/resources/' # WSL drive\n",
    "\n",
    "# For dumping market data files\n",
    "# Assuming Windows platform (you might have to change these paths)\n",
    "# wsl$ gives us access to the WSL/Ubuntu drive on Windows\n",
    "# Make sure whatever paths you add exist!\n",
    "csv_folder = '\\\\\\\\wsl$\\\\Ubuntu\\\\data\\\\csv_dump\\\\'\n",
    "temp_data_folder = \"\\\\\\\\wsl$\\\\Ubuntu\\\\data\\\\temp\\\\\"\n",
    "temp_large_data_folder = \"\\\\\\\\wsl$\\\\Ubuntu\\\\data\\\\csv_dump\\\\large\\\\\"\n",
    "\n",
    "# Assuming the front end is on Windows\n",
    "sys.path.insert(0, windows_tcapy_path)\n",
    "\n",
    "from tcapy.conf.constants import Constants\n",
    "\n",
    "constants = Constants()\n",
    "\n",
    "# Should we download the tick data or upload to Arctic? (this will take ages!)\n",
    "download_tick_data = False\n",
    "upload_tick_data = False"
   ]
  },
  {
   "cell_type": "markdown",
   "metadata": {},
   "source": [
    "Let's also define the data vendor we are using (by default `dukascopy`) and also which database we shall use for trade/order data `mysql`. We'll also define our market database as `arctic` but you can also select `pystore` too. In both cases, we ensure that we are reading/writing to the test harness database/tables, rather than the main tables. Obviously, for production purposes, you would not use the databases or tables with `test_harness`, however, for tutorials etc, it is better to write in separate tables. We also even advise setting up a totally different database for testing purposes, rather than using a production database."
   ]
  },
  {
   "cell_type": "code",
   "execution_count": 2,
   "metadata": {
    "ExecuteTime": {
     "end_time": "2020-04-08T18:19:59.911853Z",
     "start_time": "2020-04-08T18:19:57.043223Z"
    }
   },
   "outputs": [],
   "source": [
    "data_vendor = 'dukascopy' # 'ncfx' or 'dukascopy'\n",
    "\n",
    "# 'ms_sql_server' or 'mysql' or 'sqlite'\n",
    "sql_database = 'mysql'\n",
    "trade_data_database_name = 'trade_database_test_harness'\n",
    "\n",
    "# 'arctic' or 'pystore'\n",
    "market_database = 'arctic'\n",
    "market_data_database_name = 'market_data_table_test_harness'\n",
    "data_vendor_test_harness = 'testharness'\n",
    "\n",
    "# Change paths as appropriate\n",
    "pystore_path = '/data/pystore' # Linux\n",
    "pystore_path = '\\\\\\\\wsl$\\\\Ubuntu\\\\data\\\\pystore' # Windows\n",
    "\n",
    "from tcapy.data.databasesource import DatabaseSourceArctic, DatabaseSourcePyStore\n",
    "\n",
    "if data_vendor == 'ncfx':\n",
    "    from tcapy.data.databasepopulator import DatabasePopulatorNCFX as DatabasePopulator\n",
    "\n",
    "    tickers = constants.ncfx_tickers\n",
    "elif data_vendor == 'dukascopy':\n",
    "    from tcapy.data.databasepopulator import DatabasePopulatorDukascopy as DatabasePopulator\n",
    "    \n",
    "    tickers = constants.dukascopy_tickers\n",
    "\n",
    "if sql_database == 'ms_sql_server':\n",
    "    from tcapy.data.databasesource import DatabaseSourceMSSQLServer as DatabaseSource\n",
    "elif sql_database == 'mysql':\n",
    "    from tcapy.data.databasesource import DatabaseSourceMySQL as DatabaseSource\n",
    "elif sql_database == 'sqlite':\n",
    "    from tcapy.data.databasesource import DatabaseSourceSQLite as DatabaseSource\n",
    "    \n",
    "if market_database == 'arctic':\n",
    "    market_data_database_table = 'market_database_test_harness'\n",
    "    database_source_market = DatabaseSourceArctic(postfix=data_vendor_test_harness)\n",
    "    \n",
    "elif market_database == 'pystore':\n",
    "    market_data_database_table = 'market_database_test_harness'\n",
    "    database_source_market = DatabaseSourcePyStore(postfix=data_vendor_test_harness)"
   ]
  },
  {
   "cell_type": "markdown",
   "metadata": {},
   "source": [
    "Let's also define the trade key mappings to underlying SQL database tables too."
   ]
  },
  {
   "cell_type": "code",
   "execution_count": 3,
   "metadata": {
    "ExecuteTime": {
     "end_time": "2020-04-08T18:19:59.920827Z",
     "start_time": "2020-04-08T18:19:59.913845Z"
    }
   },
   "outputs": [],
   "source": [
    "sql_trade_order_mapping = {\n",
    "    'ms_sql_server' :   {'trade_df' : '[dbo].[trade]',      # Name of table which has broker messages to client\n",
    "                         'order_df' : '[dbo].[order]'},             # Name of table which has orders from client\n",
    "    'mysql':            {'trade_df': 'trade_database_test_harness.trade',   # Name of table which has broker messages to client\n",
    "                         'order_df': 'trade_database_test_harness.order'},  # Name of table which has orders from client\n",
    "    'sqlite':           {'trade_df': 'trade_table',  # Name of table which has broker messages to client\n",
    "                         'order_df': 'order_table'}  # Name of table which has orders from client\n",
    "}"
   ]
  },
  {
   "cell_type": "markdown",
   "metadata": {},
   "source": [
    "# Format of input data for tcapy\n",
    "\n",
    "tcapy expects data to be a certain format when input. If it isn't quite the right format, you can change it beforehand, or use `DataNorm` to change on the fly. We strongly recommend looking at sample CSV files in the `tests_harness_data` folder which have trade data (`small_test_trade_df.csv`) and order data (`small_test_order_df.csv`).\n",
    "\n",
    "Note, that the more fields we have recorded, the more scope it gives us for doing TCA. For example, the `venue` field is optional but if it is there, we can also slice and dice trade data by venue, to understand if some venues are more costly than others. \n",
    "\n",
    "If we have very limited data, we have less scope in what we do for TCA. Also the granularity and quality of the data is important. For example, having very inaccurate timestamps can make TCA, means that any benchmark we find will also be subject to an inaccurate timestamp. This can happen when trades are booked manually after a trade has taken place."
   ]
  },
  {
   "cell_type": "markdown",
   "metadata": {},
   "source": [
    "## Trade data format\n",
    "\n",
    "We assume that trade messages are points in time, which are returned by our liquidity provider. These can a range of messages, usually `trade` fills, but they can also be cancel messages (in which case we would not for example have a populated `executed_price` field etc.). We give some of the fields here, note that we can have many more than this, and use those to filter trades. \n",
    "\n",
    "Note that tcapy will add many calculated fields to this, such as converting to the notional to the reporting currency (typically USD), benchmarks (such as mid price), metrics (such as slippage) etc.\n",
    "\n",
    "* `Date` - index - date/time of the message\n",
    "* `id` - event identifier\n",
    "* `ticker` - asset\n",
    "* `side` - side of the trade (eg. +1 for buy and -1 for sell)\n",
    "* `executed_notional` - amount actually executed\n",
    "* `executed_price` - price at which trade has been dealt\n",
    "* `notional_currency` - currency in which notional is expressed\n",
    "* `event_type` - trade, cancel, cancel/replace or placement\n",
    "* optional fields\n",
    "    * `ancestor_pointer_id` - pointing to the order which this trade is part (if orders exist in the dataset)\n",
    "    * `broker_id` - name of the liquidity provider\n",
    "    * `venue` - venue where trade was executed\n",
    "    * `algo_id` - name of the algo used (eg. `manual` or `TWAP` etc.)\n",
    "    * `trader_id` - which trader executed trade\n",
    "    * `portfolio_id` - which internal portfolio is the trade for\n",
    "    * `portfolio_manager_id` - which portfolio manager is this for"
   ]
  },
  {
   "cell_type": "markdown",
   "metadata": {},
   "source": [
    "## Order data format\n",
    "\n",
    "You can also use order data in tcapy. Orders are sent by the client to their liquidity provider. They have start and end times and can include multiple trade events. Here we discuss some of the fields specific to orders. As with trades, tcapy will add additional calculated fields, such as `executed_notional` based upon the underlying trade fills in an order, and also `executed_price` calculated as the average execution price of the trade fills.\n",
    "\n",
    "* `benchmark_date_start` - start time of order\n",
    "* `benchmark_date_end` - end time of order\n",
    "* optional fields\n",
    "    * `order_notional` - total amount of notional from the order"
   ]
  },
  {
   "cell_type": "markdown",
   "metadata": {},
   "source": [
    "## Market data format\n",
    "\n",
    "High frequency market data is used as our benchmark in tcapy. Typically, this is going to be quote data. We clearly can't use our own trade data as a benchmark, as this is going to result in circular analysis. However, if we have access to a large database of trade data from many different counterparties, we could construct a benchmark out of that.\n",
    "\n",
    "Below, we give some of the fields which you can have in your market data for use in tcapy. At the very least we need to have a `mid` market quote and this is typically what we'd use as a benchmark\n",
    "\n",
    "* `Date` - date/time of the tick\n",
    "* `mid` - mid market quote, which can be our proxy for the reference price\n",
    "* `bid` - bid quote\n",
    "* `ask` - ask quote\n",
    "\n",
    "tcapy can use bid/ask quotes as benchmark for selling/buying trades respectively, although, by default it will select the `mid` field. For orders, tcapy can construct benchmarks like TWAP on the fly, or VWAP, if you also have volume data (using `BenchmarkTWAP` and `BenchmarkVWAP` classes). "
   ]
  },
  {
   "cell_type": "markdown",
   "metadata": {},
   "source": [
    "# MySQL for trade/order data\n",
    "\n",
    "Here we discuss how to add users to the MySQL database and also how to upload/dump data from your SQL database.\n",
    "\n",
    "## Adding users\n",
    "\n",
    "Once MySQL installed, you are likely to want to create a user to access it. In this case, we assume the user is `tcapyuser`. In practice, you may wish to limit the precise privilages. The first step is to run the mysql shell, that will allow us to run commands on the database"
   ]
  },
  {
   "cell_type": "markdown",
   "metadata": {},
   "source": [
    "    sudo mysql"
   ]
  },
  {
   "cell_type": "markdown",
   "metadata": {},
   "source": [
    "Let's add a user `tcapyuser` that can access the mysql database. In practice, we may wish to limit their priviliges! In this instance, we will only allow the user to login from the localhost. This [guide](https://medium.com/@harshityadav95/installing-mysql-in-ubuntu-linux-windows-subsystem-for-linux-from-scratch-d5771a4a2496) summarises how to install MySQL on Ubuntu/WSL and also the steps you can take to secure it."
   ]
  },
  {
   "cell_type": "markdown",
   "metadata": {},
   "source": [
    "    CREATE USER 'tcapyuser'@'localhost' IDENTIFIED BY 'password';\n",
    "    GRANT ALL PRIVILEGES ON * . * TO 'tcapyuser'@'localhost';\n",
    "    FLUSH PRIVILEGES;"
   ]
  },
  {
   "cell_type": "markdown",
   "metadata": {},
   "source": [
    "We can also change the passwords of a user by running the following."
   ]
  },
  {
   "cell_type": "markdown",
   "metadata": {},
   "source": [
    "    SET PASSWORD FOR 'tcapyuser'@'localhost' = 'password';"
   ]
  },
  {
   "cell_type": "markdown",
   "metadata": {},
   "source": [
    "We can also create the `trade_database` database that we'll use to store trade/order data. You should also create `trade_database_test_harness` if you want to run any tests or execute the code in this notebook. If you want to setup SQL Server or SQLite, you'll also need to create databases in those, as tcapy doesn't by default attempt to create databases (it will create the appropriate tables though automatically, if necessary)."
   ]
  },
  {
   "cell_type": "markdown",
   "metadata": {},
   "source": [
    "    CREATE DATABASE trade_database;\n",
    "    SHOW DATABASES;"
   ]
  },
  {
   "cell_type": "markdown",
   "metadata": {},
   "source": [
    "MySQL can have issues with large SQL inserts, increasing the `max_allowed_packet` parameter can help."
   ]
  },
  {
   "cell_type": "markdown",
   "metadata": {},
   "source": [
    "    Select @@global.max_allowed_packet;\n",
    "    SET GLOBAL max_allowed_packet=1073741824"
   ]
  },
  {
   "cell_type": "markdown",
   "metadata": {},
   "source": [
    "Default location for the data in MySQL is `/var/lib/mysql/` on Ubuntu. You can configure it for a different location."
   ]
  },
  {
   "cell_type": "markdown",
   "metadata": {},
   "source": [
    "## Configuring tcapy to interact with your MySQL database\n",
    "\n",
    "You will likely need to edit `constants.py` to make sure it is pointing to the right SQL database. Also make sure you add any credentials to a new file `constantscred.py`, which should not be added to version control. Below we've shown some of the parameters you may need to change. Microsoft SQL database has similar parameters"
   ]
  },
  {
   "cell_type": "markdown",
   "metadata": {},
   "source": [
    "    ## MySQL\n",
    "    mysql_host = '127.0.0.1'\n",
    "    mysql_port = '3306'\n",
    "\n",
    "    mysql_trade_data_database_name = 'trade_database'\n",
    "\n",
    "    mysql_username = 'OVERWRITE_IN_ConstantsCred'\n",
    "    mysql_password = 'OVERWRITE_IN_ConstantsCred'\n",
    "\n",
    "    mysql_dump_record_chunksize = 10000    # Making the chunk size very big for MySQL can slow down inserts significantly\n",
    "\n",
    "    mysql_trade_order_mapping = OrderedDict(\n",
    "        [('trade_df', 'trade_database.trade'),     # Name of the table which holds broker messages to clients\n",
    "         ('order_df', 'trade_database.order')])    # Name of the table which has orders from client"
   ]
  },
  {
   "cell_type": "markdown",
   "metadata": {},
   "source": [
    "# SQLite for trade/order data\n",
    "\n",
    "tcapy also supports SQLite for storing trade/order data. SQLite is basically a flat file database, which is stored in a single file on your computer. If you are the only user, it can be an easy way to setup a database. SQLite is included in Python, so we don't need to install it separately unlike for example MySQL. The first thing you need to do is to activate your `py36tca` Python environment. We can do this by running `source /home/tcapyuser/cuemacro/tcapy/batch_scripts/linux/installation/activate_python_environment.sh` on Linux or running `activate_python_environment.bat` on Windows. Then we create a folder to house our SQL database and then run `sqlite3` from the Anaconda prompt to create `trade_database.db`. If you want to run the tcapy tests or execute the code in this notebook, you can also create `trade_database_test_harness.db`."
   ]
  },
  {
   "cell_type": "markdown",
   "metadata": {
    "ExecuteTime": {
     "end_time": "2020-04-07T14:47:04.460141Z",
     "start_time": "2020-04-07T14:47:04.413260Z"
    }
   },
   "source": [
    "    mkdir -p /home/tcapyuser/db\n",
    "    sqlite3 /home/tcapyuser/db/trade_database.db\n",
    "    >.quit"
   ]
  },
  {
   "cell_type": "markdown",
   "metadata": {},
   "source": [
    "# Uploading trade/order data to SQL database\n",
    "\n",
    "In this instance we show how to upload trade/order CSV into the database tables (`trade` and `order`). Note that the database table names differ from the nicknames `trade_df` and `order_df` that we usually use. For simplicity, it is probably easier simply to name everything `trade_df` and `order_df`, but if you have an existing database, we recognise you might not be able to change table names easily. Warning this will overwrite your `trade` and `order` tables!! This code is generic so will work with all the supported SQL databases used."
   ]
  },
  {
   "cell_type": "code",
   "execution_count": 4,
   "metadata": {
    "ExecuteTime": {
     "end_time": "2020-04-08T18:20:00.419256Z",
     "start_time": "2020-04-08T18:19:59.921826Z"
    }
   },
   "outputs": [
    {
     "name": "stderr",
     "output_type": "stream",
     "text": [
      "2020-04-08 19:19:59,961; INFO:tcapy.data.databasesource: Parsing e:/Remote/tcapy/tests_harness_data/small_test_trade_df.csv before database dump for table trade (databasesource.py:1036)\n",
      "2020-04-08 19:19:59,987; DEBUG:tcapy.data.databasesource: About to write to mysql database... (databasesource.py:1101)\n",
      "2020-04-08 19:20:00,168; DEBUG:tcapy.data.databasesource: No empty strings in column broker_id (databasesource.py:500)\n",
      "2020-04-08 19:20:00,169; DEBUG:tcapy.data.databasesource: No empty strings in column venue (databasesource.py:500)\n",
      "2020-04-08 19:20:00,171; DEBUG:tcapy.data.databasesource: No empty strings in column algo_id (databasesource.py:500)\n",
      "2020-04-08 19:20:00,291; INFO:tcapy.data.databasesource: Parsing e:/Remote/tcapy/tests_harness_data/small_test_order_df.csv before database dump for table order (databasesource.py:1036)\n",
      "2020-04-08 19:20:00,300; DEBUG:tcapy.data.databasesource: About to write to mysql database... (databasesource.py:1101)\n",
      "2020-04-08 19:20:00,369; WARNING:tcapy.data.databasesource: Primary key already exists... (databasesource.py:1196)\n",
      "2020-04-08 19:20:00,371; WARNING:tcapy.data.databasesource: Index already exists... (databasesource.py:1202)\n",
      "2020-04-08 19:20:00,372; DEBUG:tcapy.data.databasesource: No empty strings in column broker_id (databasesource.py:500)\n",
      "2020-04-08 19:20:00,373; DEBUG:tcapy.data.databasesource: No empty strings in column algo_id (databasesource.py:500)\n"
     ]
    },
    {
     "name": "stdout",
     "output_type": "stream",
     "text": [
      "(mysql.connector.errors.ProgrammingError) 1064 (42000): You have an error in your SQL syntax; check the manual that corresponds to your MySQL server version for the right syntax to use near 'order ADD CONSTRAINT order_PK_trade PRIMARY KEY (`date`, id, ticker)' at line 1\n",
      "[SQL: ALTER TABLE order ADD CONSTRAINT order_PK_trade PRIMARY KEY (`date`, id, ticker)]\n",
      "(Background on this error at: http://sqlalche.me/e/f405)\n"
     ]
    }
   ],
   "source": [
    "# Where are the trade/order CSVs stored, and how are they mapped?\n",
    "# This assumes you have already generated these files!\n",
    "csv_sql_table_trade_order_mapping = {'trade': os.path.join(local_test_data_path, 'small_test_trade_df.csv'),\n",
    "                                     'order': os.path.join(local_test_data_path, 'small_test_order_df.csv'),\n",
    "                                    }\n",
    "\n",
    "# Get the actual table names in the database which may differ from \"nicknames\"\n",
    "trade_order_mapping = constants.trade_order_mapping[sql_database]\n",
    "\n",
    "# To interact with our SQL database\n",
    "database_source = DatabaseSource(trade_data_database_name=trade_data_database_name)\n",
    "\n",
    "# Upload each CSV to the associated table (replacing it!)\n",
    "for key in csv_sql_table_trade_order_mapping.keys():\n",
    "    database_source.convert_csv_to_table(\n",
    "            csv_sql_table_trade_order_mapping[key], None, key, database_name=trade_data_database_name,\n",
    "            if_exists_table='replace')"
   ]
  },
  {
   "cell_type": "markdown",
   "metadata": {},
   "source": [
    "## Dumping trade/order data to CSV and Parquet"
   ]
  },
  {
   "cell_type": "markdown",
   "metadata": {},
   "source": [
    "We can use the `DatabaseSource` objects to read back from our SQL database. Note, that the data here, won't have undergone any normalization process, which is typically done during TCA calculations by the `DataNorm` object."
   ]
  },
  {
   "cell_type": "code",
   "execution_count": 5,
   "metadata": {
    "ExecuteTime": {
     "end_time": "2020-04-08T18:20:00.512008Z",
     "start_time": "2020-04-08T18:20:00.420266Z"
    }
   },
   "outputs": [
    {
     "name": "stderr",
     "output_type": "stream",
     "text": [
      "2020-04-08 19:20:00,448; DEBUG:tcapy.data.databasesource: Excecuted mysql query: select *  from trade_database.trade , 660 returned (databasesource.py:959)\n",
      "2020-04-08 19:20:00,492; DEBUG:tcapy.data.databasesource: Excecuted mysql query: select *  from trade_database.order , 322 returned (databasesource.py:959)\n"
     ]
    }
   ],
   "source": [
    "# Map the \"nicknames\" to the CSV dumping output\n",
    "csv_trade_order_mapping_dump = {'trade_df': os.path.join(local_test_data_path, 'small_test_trade_df_dump.csv'),\n",
    "                                'order_df': os.path.join(local_test_data_path, 'small_test_order_df_dump.csv'),\n",
    "                                }\n",
    "\n",
    "# Get the actual table names in the database which may differ from \"nicknames\"\n",
    "trade_order_mapping = constants.trade_order_mapping[sql_database]\n",
    "\n",
    "database_source = DatabaseSource(trade_data_database_name=trade_data_database_name)\n",
    "\n",
    "for k in trade_order_mapping.keys():\n",
    "    trade_order_df = database_source.fetch_trade_order_data(table_name=trade_order_mapping[k])\n",
    "    trade_order_df.to_csv(csv_trade_order_mapping_dump[k])\n",
    "    trade_order_df.to_parquet(csv_trade_order_mapping_dump[k].replace('csv', 'parquet'))"
   ]
  },
  {
   "cell_type": "markdown",
   "metadata": {},
   "source": [
    "# Arctic/MongoDB for market tick data\n",
    "\n",
    "Here we discuss how to add users to the database, how to download data from Dukascopy and also how to upload tick data to Arctic/MongoDB."
   ]
  },
  {
   "cell_type": "markdown",
   "metadata": {},
   "source": [
    "## Increasing open file limit on Linux for MongoDB\n",
    "\n",
    "MongoDB ends up opening many files at the same time. However, on Linux typically the `nofile` setting is quite low by default. In order to make MongoDB stable, it is recommended to increase the number of open files allowed. By default, during tcapy's installation `increase_file_limits.sh` is run which copies a modified version of `limits.conf` to `/etc/security/limits.conf` which increases the `nofile` parameters for `root` user (which is the default one in tcapy for running MongoDB). It also overwrites `/etc/pam.d/common-session` and `/etc/pam.d/common-session-noninteractive` to ensure that the `limits.conf` is observed for the root user.\n",
    "\n",
    "Note, that you may wish to use different users such as the `mongodb` user to run your instance of MongoDB, and also to run MongoDB on Linux a service at startup, as opposed to running it via `restart_db.sh`. However, this isn't the default usage with tcapy and would require changing the configuration.\n",
    "\n",
    "To check the `nofile` parameter has been currently set for the `root` user, you can run:\n",
    "\n",
    "    sudo su\n",
    "    ulimit -n\n",
    "    \n",
    "The output should be `100000` if the above script has been run. Note, that it has only been fully tested on Ubuntu at present.\n",
    "\n",
    "If you do not increase the open file limit, you will likely experience a lot of issues, when trying to access MongoDB. This link in the [MongoDB explains more](https://docs.mongodb.com/manual/reference/ulimit/) and this article explains how to [tune MongoDB for a large number of users](https://www.mongodb.com/blog/post/tuning-mongodb--linux-to-allow-for-tens-of-thousands-connections) including a discussion of the open files point."
   ]
  },
  {
   "cell_type": "markdown",
   "metadata": {},
   "source": [
    "## Adding users\n",
    "\n",
    "Once installed, you may wish to create various users for accessing MongoDB, by typing in the following commands into the Mongo shell. We can start the Mongo shell by running."
   ]
  },
  {
   "cell_type": "markdown",
   "metadata": {},
   "source": [
    "    sudo mongo"
   ]
  },
  {
   "cell_type": "markdown",
   "metadata": {},
   "source": [
    "We can add a root user called `admin_root`. Generally, it is advisable to limit root access to the database."
   ]
  },
  {
   "cell_type": "markdown",
   "metadata": {},
   "source": [
    "    use admin\n",
    "    db.createUser(\n",
    "      {\n",
    "        user: \"admin_root\",\n",
    "        pwd: \"password\",\n",
    "        roles: [\"root\"]\n",
    "      }\n",
    "    )"
   ]
  },
  {
   "cell_type": "markdown",
   "metadata": {},
   "source": [
    "Let's create a user `tcapyuser` who will be the one mainly accessing the MongoDB database via tcapy. Again, as with mysql, we might wish to reduce the privilages of the user."
   ]
  },
  {
   "cell_type": "markdown",
   "metadata": {},
   "source": [
    "    use admin\n",
    "    db.createUser(\n",
    "          {\n",
    "            user: \"tcapyuser\",\n",
    "            pwd: \"password\",\n",
    "            roles: [ { role: \"userAdminAnyDatabase\", db: \"admin\" }, \n",
    "                 { role: \"dbAdminAnyDatabase\", db: \"admin\" }, \n",
    "                 { role: \"readWriteAnyDatabase\", db: \"admin\" } ]\n",
    "          }\n",
    "    )"
   ]
  },
  {
   "cell_type": "markdown",
   "metadata": {},
   "source": [
    "You can also change passwords of user."
   ]
  },
  {
   "cell_type": "markdown",
   "metadata": {},
   "source": [
    "    use admin\n",
    "    db.changeUserPassword(\"admin_root\", \"password\")"
   ]
  },
  {
   "cell_type": "markdown",
   "metadata": {},
   "source": [
    "## Storage engines for Arctic/MongoDB\n",
    "\n",
    "tcapy uses [Arctic](https://github.com/man-group/arctic) which is Man AHL's open source Python library to intreact with MongoDB. It essentially takes Pandas DataFrame, and then compresses them before dumping them into MongoDB. It is very fast for fetching and dumping large amounts of time series data. The speed is relatively to several points, first because of the compression, it is less impacted by IO limits. Furthermore, because of the compression there is less overhead when accessing MongoDB over a network. \n",
    "\n",
    "There are several different storage engines in Arctic:\n",
    "\n",
    "* `ChunkStore`\n",
    "* `VersionStore`\n",
    "* `TickStore`\n",
    "\n",
    "Each engine has various different use cases. tcapy supports all three, however, we have opted to make `ChunkStore` the default engine, which stores the data in user defined chunks. \n",
    "\n",
    "In our case, our default chunk size is daily, because typically, when using Celery in parallel to fetch data in daily chunks (and caching these daily chunks in Redis), and it should be very fast to get such chunks. In our experience this seems to be quicker than doing the same thing using `VersionStore`.\n",
    "\n",
    "The precise chunk size you choose, will depend on how you intend to use it. For example, if you wouldn't run tcapy in parallel, then you might consider using larger chunk sizes. In the documentation, the reasons for Arctic speed is discussed in more detail, as well as a [summary of the various storage engines](https://arctic.readthedocs.io/en/latest/).\n",
    "\n",
    "Note, that you should not try to keep switching between the various storage engines, while using the same identical collection names eg. `market_data_table`. If you intend to use them in together (eg. for benchmarking) it would be better to have different collection names for each storage engine to avoid confusion."
   ]
  },
  {
   "cell_type": "markdown",
   "metadata": {},
   "source": [
    "## Configuring tcapy to interact with your MongoDB database\n",
    "\n",
    "You will likely need to edit `constants.py` to make sure it is pointing to you MongoDB instance. Also make sure you add any credentials to a new file `constantscred.py`, which should not be added to version control. Below we've shown some of the parameters you may need to change."
   ]
  },
  {
   "cell_type": "markdown",
   "metadata": {},
   "source": [
    "    ### Arctic/MongoDB\n",
    "    arctic_host = database_host\n",
    "    arctic_port = 27017\n",
    "    arctic_username = 'OVERWRITE_IN_ConstantsCred'\n",
    "    arctic_password = 'OVERWRITE_IN_ConstantsCred'\n",
    "\n",
    "    arctic_ssl = False\n",
    "    arctic_ssl_cert_reqs = ssl.CERT_NONE\n",
    "\n",
    "    # NOTE: database name not currently used in Arctic\n",
    "    arctic_market_data_database_name = 'fx'\n",
    "    arctic_trade_data_database_name = 'fx'\n",
    "    arctic_market_data_database_table = 'market_data_table'  # Name of the table with market tick data\n",
    "\n",
    "    arctic_timeout_ms = 10 * 1000  # How many millisections should we have a timeout for in Arctic/MongoDB\n",
    "\n",
    "    # https://arctic.readthedocs.io/en/latest/ has more discussion on the differences between the\n",
    "    # various storage engines, and the various pros and cons\n",
    "    # By default we use 'CHUNK_STORE' with 'D' (daily) bucketing - corresponding to our 'daily' fetching when using\n",
    "    # with Celery\n",
    "    arctic_lib_type = 'CHUNK_STORE'  # storage engines: VERSION_STORE or TICK_STORE or CHUNK_STORE (default)\n",
    "\n",
    "    # 'D' is for daily, you can also choose 'M' and other chunk sizes (depends on how you wish to cache data)\n",
    "    arctic_chunk_store_freq = 'D'\n",
    "\n",
    "    arctic_quota_market_data_GB = 80"
   ]
  },
  {
   "cell_type": "markdown",
   "metadata": {},
   "source": [
    "# Experiementing with PyStore for market tick data\n",
    "\n",
    "Another choice for storing your market tick data, is [PyStore](https://github.com/ranaroussi/pystore). It isn't strictly speaking a database. It is modelled on Arctic, but instead of using MongoDB as the backend it is Pandas data store, which uses Parquet files on disk, which have been chunked. If you are the only user for the market tick data, PyStore can be an easy to use option (combined with SQLite for the trade/order data). In order to setup PyStore, you just need to make sure that it has access to a folder `/home/tcapyuser/pystore/`, which you can create with:\n",
    "\n",
    "    mkdir -p /home/tcapyuser/pystore\n",
    "    \n",
    "Note, that with pretty much everything else with tcapy, this is fully configurable. You can change the default PyStore dump location in `constants.py`. tcapy also has adapters to use InfluxDB and KDB for accessing market tick data.\n",
    "\n",
    "*At present we are still our working on our PyStore, and it is highly experimental, in particular, we are trying to speed up the appending of new data, so you may choose to use Arctic for the moment*"
   ]
  },
  {
   "cell_type": "markdown",
   "metadata": {},
   "source": [
    "# Downloading market tick data from Dukascopy\n",
    "\n",
    "We are going to show how to download large amounts of tick data from Dukascopy to disk as Parquet files. We are later going to upload these files to MongoDB. Note, the syntax is very similar for NCFX, we just need to instantiate `DatabasePopulatorNCFX` instead of `DatabasePopulatorDukacopy`."
   ]
  },
  {
   "cell_type": "code",
   "execution_count": 6,
   "metadata": {
    "ExecuteTime": {
     "end_time": "2020-04-08T18:20:00.522979Z",
     "start_time": "2020-04-08T18:20:00.513006Z"
    }
   },
   "outputs": [],
   "source": [
    "start_date_csv = '01 Jan 2016'; finish_date_csv = '03 Apr 2020'; split_size = 'monthly' # 'daily' or 'monthly'\n",
    "\n",
    "db_populator = DatabasePopulator(temp_data_folder=temp_data_folder, temp_large_data_folder=temp_large_data_folder,\n",
    "                                 tickers=tickers)"
   ]
  },
  {
   "cell_type": "markdown",
   "metadata": {},
   "source": [
    "Now we can kick off the download. This will take a very long time, and hence only do this once! It will dump Parquet files to disk in `monthly` chunks, and will also create smaller temporary files. Having the temporary files is beneficial, so if the download gets interrupted, tcapy will ingest these, rather than redownloading externally. In this case, we have set `write_large_csv` to `False`. Whilst CSV files are universal, they can be very large in file size and slow to parse, compared to Parquet files."
   ]
  },
  {
   "cell_type": "code",
   "execution_count": 7,
   "metadata": {
    "ExecuteTime": {
     "end_time": "2020-04-08T18:20:00.527965Z",
     "start_time": "2020-04-08T18:20:00.523976Z"
    }
   },
   "outputs": [],
   "source": [
    "# Writes a CSV/Parquet to disk from data vendor (does not attempt to write anything to the database)\n",
    "# Will also dump temporary HDF5 files to disk (to avoid reloading them)\n",
    "\n",
    "if (download_tick_data):\n",
    "    msg, df_dict = db_populator.download_to_csv(start_date_csv, finish_date_csv, tickers, split_size='monthly',\n",
    "            csv_folder=csv_folder, return_df=False, remove_duplicates=False, write_large_csv=False,\n",
    "            write_large_hdf5_parquet=True)"
   ]
  },
  {
   "cell_type": "markdown",
   "metadata": {},
   "source": [
    "In practice, we'd recommend kicking off the downloading script `dump_data_vendor_to_parquet_csv_hdf5.py` separately, rather than running it in a Jupyter notebook, given the amount of time it takes, and also the amount of log output it generates. In our `csv_dump` folder, we'll end up with a bunch of monthly Parquet files which look like this."
   ]
  },
  {
   "cell_type": "markdown",
   "metadata": {},
   "source": [
    "    AUDUSD_dukascopy_2016-01-03_22_00_01.868000+00_002016-01-31_23_59_57.193000+00_00.parquet\n",
    "    AUDUSD_dukascopy_2016-02-01_00_00_00.055000+00_002016-02-29_23_59_56.657000+00_00.parquet\n",
    "    AUDUSD_dukascopy_2016-03-01_00_00_00.712000+00_002016-03-31_23_59_50.885000+00_00.parquet"
   ]
  },
  {
   "cell_type": "markdown",
   "metadata": {
    "ExecuteTime": {
     "end_time": "2020-04-03T18:56:56.092036Z",
     "start_time": "2020-04-03T18:56:56.079820Z"
    }
   },
   "source": [
    "## Uploading market tick data to market database"
   ]
  },
  {
   "cell_type": "markdown",
   "metadata": {},
   "source": [
    "We can now upload the tick data in the above Parquet (or CSV/HDF5) files to our market database! First we need to define the data source, the tickers we want to upload, and also the format of the data. To make things quicker, I've just filtered for 2017 (mainly because that cover the period of the pregenerated trade/order CSVs in the `tests_harness_data` folder that comes with tcapy)."
   ]
  },
  {
   "cell_type": "code",
   "execution_count": 8,
   "metadata": {
    "ExecuteTime": {
     "end_time": "2020-04-08T18:20:00.536944Z",
     "start_time": "2020-04-08T18:20:00.528963Z"
    }
   },
   "outputs": [],
   "source": [
    "ticker_mkt = ['EURUSD'] # You can add more tickers, but it will take much longer!\n",
    "\n",
    "file_extension = 'parquet'  # parquet or csv or h5\n",
    "\n",
    "# Files dumped by DatabasePopulator look like this\n",
    "# 'EURUSD_dukascopy_2016-01-03_22_00_01.868000+00_002016-01-31_23_59_57.193000+00_00.parquet'\n",
    "#\n",
    "# Assume that ALL TIME IN UTC!\n",
    "csv_file = [x + '_' + data_vendor + '_*.' + file_extension for x in ticker_mkt]  \n",
    "\n",
    "# These are all the files with the market tick data\n",
    "csv_market_data = [os.path.join(csv_folder, x) for x in csv_file]"
   ]
  },
  {
   "cell_type": "markdown",
   "metadata": {},
   "source": [
    "Now read the Parquet files and upload our market databases (this will take a while!). Note it will overwrite any tickers already in the database from the same data vendor. By default we use `DatabaseSourceArctic` but note we could have changed it to `DatabaseSourcePyStore` earlier."
   ]
  },
  {
   "cell_type": "code",
   "execution_count": 9,
   "metadata": {
    "ExecuteTime": {
     "end_time": "2020-04-08T18:21:04.859112Z",
     "start_time": "2020-04-08T18:20:00.538937Z"
    }
   },
   "outputs": [
    {
     "name": "stderr",
     "output_type": "stream",
     "text": [
      "2020-04-08 19:20:00,542; INFO:tcapy.data.databasesource: Attempting to load Arctic/MongoDB library: market_database_test_harness CHUNK_STORE (databasesource.py:1881)\n",
      "2020-04-08 19:20:00,544; INFO:tcapy.data.databasesource: Got Arctic/MongoDB library: market_database_test_harness CHUNK_STORE (databasesource.py:1901)\n"
     ]
    },
    {
     "name": "stdout",
     "output_type": "stream",
     "text": [
      "Uploading EURUSD\n"
     ]
    },
    {
     "name": "stderr",
     "output_type": "stream",
     "text": [
      "2020-04-08 19:20:00,547; INFO:arctic.arctic: Dropping collection: market_database_test_harness (arctic.py:326)\n",
      "2020-04-08 19:20:00,780; INFO:arctic.arctic: Dropping collection: market_database_test_harness.snapshots (arctic.py:330)\n",
      "2020-04-08 19:20:00,793; INFO:arctic.arctic: Dropping collection: market_database_test_harness.versions (arctic.py:330)\n",
      "2020-04-08 19:20:00,810; INFO:arctic.arctic: Dropping collection: market_database_test_harness.ARCTIC (arctic.py:330)\n",
      "2020-04-08 19:20:00,819; INFO:arctic.arctic: Dropping collection: market_database_test_harness.version_nums (arctic.py:330)\n",
      "2020-04-08 19:20:01,208; INFO:arctic.chunkstore.chunkstore: Trying to enable sharding... (chunkstore.py:46)\n",
      "2020-04-08 19:20:01,211; WARNING:arctic.chunkstore.chunkstore: Library created, but couldn't enable sharding: no such command: 'enablesharding'. This is OK if you're not 'admin' (chunkstore.py:50)\n",
      "2020-04-08 19:20:01,833; INFO:tcapy.data.databasesource: Parsing \\\\wsl$\\Ubuntu\\home\\tcapyuser\\csv_dump\\EURUSD_dukascopy_2016-01-03_22_00_01.446000+00_002016-01-31_23_59_59.429000+00_00.parquet before tick database dump for ticker EURUSD-testharness (databasesource.py:1701)\n",
      "2020-04-08 19:20:02,218; INFO:arctic.arctic: Mongo Quota: arctic.market_database_test_harness 0.000 / 80 GB used (arctic.py:625)\n",
      "2020-04-08 19:20:02,990; INFO:tcapy.data.databasesource: Parsing \\\\wsl$\\Ubuntu\\home\\tcapyuser\\csv_dump\\EURUSD_dukascopy_2016-02-01_00_00_00.728000+00_002016-02-29_23_59_58.926000+00_00.parquet before tick database dump for ticker EURUSD-testharness (databasesource.py:1701)\n",
      "2020-04-08 19:20:04,481; INFO:tcapy.data.databasesource: Parsing \\\\wsl$\\Ubuntu\\home\\tcapyuser\\csv_dump\\EURUSD_dukascopy_2016-03-01_00_00_00.290000+00_002016-03-31_23_59_51.216000+00_00.parquet before tick database dump for ticker EURUSD-testharness (databasesource.py:1701)\n",
      "2020-04-08 19:20:05,874; INFO:tcapy.data.databasesource: Parsing \\\\wsl$\\Ubuntu\\home\\tcapyuser\\csv_dump\\EURUSD_dukascopy_2016-04-01_00_00_00.220000+00_002016-04-29_20_59_13.205000+00_00.parquet before tick database dump for ticker EURUSD-testharness (databasesource.py:1701)\n",
      "2020-04-08 19:20:06,869; INFO:tcapy.data.databasesource: Parsing \\\\wsl$\\Ubuntu\\home\\tcapyuser\\csv_dump\\EURUSD_dukascopy_2016-05-01_21_00_11.829000+00_002016-05-31_23_59_59.744000+00_00.parquet before tick database dump for ticker EURUSD-testharness (databasesource.py:1701)\n",
      "2020-04-08 19:20:07,815; INFO:tcapy.data.databasesource: Parsing \\\\wsl$\\Ubuntu\\home\\tcapyuser\\csv_dump\\EURUSD_dukascopy_2016-06-01_00_00_00.402000+00_002016-06-30_23_59_59.903000+00_00.parquet before tick database dump for ticker EURUSD-testharness (databasesource.py:1701)\n",
      "2020-04-08 19:20:08,984; INFO:tcapy.data.databasesource: Parsing \\\\wsl$\\Ubuntu\\home\\tcapyuser\\csv_dump\\EURUSD_dukascopy_2016-07-01_00_00_00.259000+00_002016-07-31_23_59_59.851000+00_00.parquet before tick database dump for ticker EURUSD-testharness (databasesource.py:1701)\n",
      "2020-04-08 19:20:11,147; INFO:tcapy.data.databasesource: Parsing \\\\wsl$\\Ubuntu\\home\\tcapyuser\\csv_dump\\EURUSD_dukascopy_2016-08-01_00_00_00.108000+00_002016-08-31_23_59_58.926000+00_00.parquet before tick database dump for ticker EURUSD-testharness (databasesource.py:1701)\n",
      "2020-04-08 19:20:14,639; INFO:tcapy.data.databasesource: Parsing \\\\wsl$\\Ubuntu\\home\\tcapyuser\\csv_dump\\EURUSD_dukascopy_2016-09-01_00_00_00.077000+00_002016-09-30_20_59_59.046000+00_00.parquet before tick database dump for ticker EURUSD-testharness (databasesource.py:1701)\n",
      "2020-04-08 19:20:18,837; INFO:tcapy.data.databasesource: Parsing \\\\wsl$\\Ubuntu\\home\\tcapyuser\\csv_dump\\EURUSD_dukascopy_2016-10-02_21_00_05.470000+00_002016-10-31_23_59_42.479000+00_00.parquet before tick database dump for ticker EURUSD-testharness (databasesource.py:1701)\n",
      "2020-04-08 19:20:21,752; INFO:tcapy.data.databasesource: Parsing \\\\wsl$\\Ubuntu\\home\\tcapyuser\\csv_dump\\EURUSD_dukascopy_2016-11-01_00_00_00.049000+00_002016-11-30_23_59_58.644000+00_00.parquet before tick database dump for ticker EURUSD-testharness (databasesource.py:1701)\n",
      "2020-04-08 19:20:22,924; INFO:tcapy.data.databasesource: Parsing \\\\wsl$\\Ubuntu\\home\\tcapyuser\\csv_dump\\EURUSD_dukascopy_2016-12-01_00_00_00.156000+00_002016-12-30_21_59_56.230000+00_00.parquet before tick database dump for ticker EURUSD-testharness (databasesource.py:1701)\n",
      "2020-04-08 19:20:23,936; INFO:tcapy.data.databasesource: Parsing \\\\wsl$\\Ubuntu\\home\\tcapyuser\\csv_dump\\EURUSD_dukascopy_2017-01-01_22_00_20.786000+00_002017-01-31_23_59_53.808000+00_00.parquet before tick database dump for ticker EURUSD-testharness (databasesource.py:1701)\n",
      "2020-04-08 19:20:25,123; INFO:tcapy.data.databasesource: Parsing \\\\wsl$\\Ubuntu\\home\\tcapyuser\\csv_dump\\EURUSD_dukascopy_2017-02-01_00_00_00.623000+00_002017-02-28_23_59_55.547000+00_00.parquet before tick database dump for ticker EURUSD-testharness (databasesource.py:1701)\n",
      "2020-04-08 19:20:25,996; INFO:tcapy.data.databasesource: Parsing \\\\wsl$\\Ubuntu\\home\\tcapyuser\\csv_dump\\EURUSD_dukascopy_2017-03-01_00_00_00.241000+00_002017-03-31_20_59_56.707000+00_00.parquet before tick database dump for ticker EURUSD-testharness (databasesource.py:1701)\n",
      "2020-04-08 19:20:26,989; INFO:tcapy.data.databasesource: Parsing \\\\wsl$\\Ubuntu\\home\\tcapyuser\\csv_dump\\EURUSD_dukascopy_2017-04-02_21_00_34.289000+00_002017-04-30_23_59_03.898000+00_00.parquet before tick database dump for ticker EURUSD-testharness (databasesource.py:1701)\n",
      "2020-04-08 19:20:27,709; INFO:tcapy.data.databasesource: Parsing \\\\wsl$\\Ubuntu\\home\\tcapyuser\\csv_dump\\EURUSD_dukascopy_2017-05-01_00_00_02.851000+00_002017-05-31_23_59_59.724000+00_00.parquet before tick database dump for ticker EURUSD-testharness (databasesource.py:1701)\n",
      "2020-04-08 19:20:28,581; INFO:tcapy.data.databasesource: Parsing \\\\wsl$\\Ubuntu\\home\\tcapyuser\\csv_dump\\EURUSD_dukascopy_2017-06-01_00_00_00.132000+00_002017-06-30_20_59_56.643000+00_00.parquet before tick database dump for ticker EURUSD-testharness (databasesource.py:1701)\n",
      "2020-04-08 19:20:29,462; INFO:tcapy.data.databasesource: Parsing \\\\wsl$\\Ubuntu\\home\\tcapyuser\\csv_dump\\EURUSD_dukascopy_2017-07-02_21_00_14.575000+00_002017-07-31_23_59_59.959000+00_00.parquet before tick database dump for ticker EURUSD-testharness (databasesource.py:1701)\n",
      "2020-04-08 19:20:30,509; INFO:tcapy.data.databasesource: Parsing \\\\wsl$\\Ubuntu\\home\\tcapyuser\\csv_dump\\EURUSD_dukascopy_2017-08-01_00_00_00.470000+00_002017-08-31_23_59_59.099000+00_00.parquet before tick database dump for ticker EURUSD-testharness (databasesource.py:1701)\n",
      "2020-04-08 19:20:31,597; INFO:tcapy.data.databasesource: Parsing \\\\wsl$\\Ubuntu\\home\\tcapyuser\\csv_dump\\EURUSD_dukascopy_2017-09-01_00_00_00.191000+00_002017-09-29_20_59_56.618000+00_00.parquet before tick database dump for ticker EURUSD-testharness (databasesource.py:1701)\n",
      "2020-04-08 19:20:32,741; INFO:tcapy.data.databasesource: Parsing \\\\wsl$\\Ubuntu\\home\\tcapyuser\\csv_dump\\EURUSD_dukascopy_2017-10-01_21_00_06.101000+00_002017-10-31_23_59_12.569000+00_00.parquet before tick database dump for ticker EURUSD-testharness (databasesource.py:1701)\n",
      "2020-04-08 19:20:33,714; INFO:tcapy.data.databasesource: Parsing \\\\wsl$\\Ubuntu\\home\\tcapyuser\\csv_dump\\EURUSD_dukascopy_2017-11-01_00_00_00.357000+00_002017-11-30_23_59_55.097000+00_00.parquet before tick database dump for ticker EURUSD-testharness (databasesource.py:1701)\n",
      "2020-04-08 19:20:34,612; INFO:tcapy.data.databasesource: Parsing \\\\wsl$\\Ubuntu\\home\\tcapyuser\\csv_dump\\EURUSD_dukascopy_2017-12-01_00_00_00.175000+00_002017-12-29_21_59_42.990000+00_00.parquet before tick database dump for ticker EURUSD-testharness (databasesource.py:1701)\n",
      "2020-04-08 19:20:35,452; INFO:tcapy.data.databasesource: Parsing \\\\wsl$\\Ubuntu\\home\\tcapyuser\\csv_dump\\EURUSD_dukascopy_2018-01-01_22_00_08.661000+00_002018-01-31_23_59_47.019000+00_00.parquet before tick database dump for ticker EURUSD-testharness (databasesource.py:1701)\n",
      "2020-04-08 19:20:36,633; INFO:tcapy.data.databasesource: Parsing \\\\wsl$\\Ubuntu\\home\\tcapyuser\\csv_dump\\EURUSD_dukascopy_2018-02-01_00_00_00.061000+00_002018-02-28_23_59_58.929000+00_00.parquet before tick database dump for ticker EURUSD-testharness (databasesource.py:1701)\n",
      "2020-04-08 19:20:37,825; INFO:tcapy.data.databasesource: Parsing \\\\wsl$\\Ubuntu\\home\\tcapyuser\\csv_dump\\EURUSD_dukascopy_2018-03-01_00_00_00.185000+00_002018-03-30_20_59_55.773000+00_00.parquet before tick database dump for ticker EURUSD-testharness (databasesource.py:1701)\n"
     ]
    },
    {
     "name": "stderr",
     "output_type": "stream",
     "text": [
      "2020-04-08 19:20:38,912; INFO:tcapy.data.databasesource: Parsing \\\\wsl$\\Ubuntu\\home\\tcapyuser\\csv_dump\\EURUSD_dukascopy_2018-04-01_21_00_18.456000+00_002018-04-30_23_59_59.599000+00_00.parquet before tick database dump for ticker EURUSD-testharness (databasesource.py:1701)\n",
      "2020-04-08 19:20:39,906; INFO:tcapy.data.databasesource: Parsing \\\\wsl$\\Ubuntu\\home\\tcapyuser\\csv_dump\\EURUSD_dukascopy_2018-05-01_00_00_00.129000+00_002018-05-31_23_59_59.903000+00_00.parquet before tick database dump for ticker EURUSD-testharness (databasesource.py:1701)\n",
      "2020-04-08 19:20:41,160; INFO:tcapy.data.databasesource: Parsing \\\\wsl$\\Ubuntu\\home\\tcapyuser\\csv_dump\\EURUSD_dukascopy_2018-06-01_00_00_00.434000+00_002018-06-29_20_59_56.236000+00_00.parquet before tick database dump for ticker EURUSD-testharness (databasesource.py:1701)\n",
      "2020-04-08 19:20:42,257; INFO:tcapy.data.databasesource: Parsing \\\\wsl$\\Ubuntu\\home\\tcapyuser\\csv_dump\\EURUSD_dukascopy_2018-07-01_21_00_16.014000+00_002018-07-31_23_59_57.465000+00_00.parquet before tick database dump for ticker EURUSD-testharness (databasesource.py:1701)\n",
      "2020-04-08 19:20:43,449; INFO:tcapy.data.databasesource: Parsing \\\\wsl$\\Ubuntu\\home\\tcapyuser\\csv_dump\\EURUSD_dukascopy_2018-08-01_00_00_00.042000+00_002018-08-31_20_59_57.280000+00_00.parquet before tick database dump for ticker EURUSD-testharness (databasesource.py:1701)\n",
      "2020-04-08 19:20:44,574; INFO:tcapy.data.databasesource: Parsing \\\\wsl$\\Ubuntu\\home\\tcapyuser\\csv_dump\\EURUSD_dukascopy_2018-09-02_21_00_04.803000+00_002018-09-30_23_59_59.225000+00_00.parquet before tick database dump for ticker EURUSD-testharness (databasesource.py:1701)\n",
      "2020-04-08 19:20:45,341; INFO:tcapy.data.databasesource: Parsing \\\\wsl$\\Ubuntu\\home\\tcapyuser\\csv_dump\\EURUSD_dukascopy_2018-10-01_00_00_00.205000+00_002018-10-31_23_59_59.448000+00_00.parquet before tick database dump for ticker EURUSD-testharness (databasesource.py:1701)\n",
      "2020-04-08 19:20:46,400; INFO:tcapy.data.databasesource: Parsing \\\\wsl$\\Ubuntu\\home\\tcapyuser\\csv_dump\\EURUSD_dukascopy_2018-11-01_00_00_00.222000+00_002018-11-29_23_59_59.541000+00_00.parquet before tick database dump for ticker EURUSD-testharness (databasesource.py:1701)\n",
      "2020-04-08 19:20:47,332; INFO:tcapy.data.databasesource: Parsing \\\\wsl$\\Ubuntu\\home\\tcapyuser\\csv_dump\\EURUSD_dukascopy_2018-12-02_22_00_01.940000+00_002018-12-31_22_00_03.048000+00_00.parquet before tick database dump for ticker EURUSD-testharness (databasesource.py:1701)\n",
      "2020-04-08 19:20:48,407; INFO:tcapy.data.databasesource: Parsing \\\\wsl$\\Ubuntu\\home\\tcapyuser\\csv_dump\\EURUSD_dukascopy_2019-01-01_22_02_37.254000+00_002019-01-31_23_59_58.297000+00_00.parquet before tick database dump for ticker EURUSD-testharness (databasesource.py:1701)\n",
      "2020-04-08 19:20:49,829; INFO:tcapy.data.databasesource: Parsing \\\\wsl$\\Ubuntu\\home\\tcapyuser\\csv_dump\\EURUSD_dukascopy_2019-02-03_22_00_03.618000+00_002019-02-28_23_59_59.156000+00_00.parquet before tick database dump for ticker EURUSD-testharness (databasesource.py:1701)\n",
      "2020-04-08 19:20:50,915; INFO:tcapy.data.databasesource: Parsing \\\\wsl$\\Ubuntu\\home\\tcapyuser\\csv_dump\\EURUSD_dukascopy_2019-03-03_22_00_03.788000+00_002019-03-31_23_59_55.956000+00_00.parquet before tick database dump for ticker EURUSD-testharness (databasesource.py:1701)\n",
      "2020-04-08 19:20:51,985; INFO:tcapy.data.databasesource: Parsing \\\\wsl$\\Ubuntu\\home\\tcapyuser\\csv_dump\\EURUSD_dukascopy_2019-04-01_00_00_00.064000+00_002019-04-30_23_59_51.619000+00_00.parquet before tick database dump for ticker EURUSD-testharness (databasesource.py:1701)\n",
      "2020-04-08 19:20:53,174; INFO:tcapy.data.databasesource: Parsing \\\\wsl$\\Ubuntu\\home\\tcapyuser\\csv_dump\\EURUSD_dukascopy_2019-05-01_00_00_00.053000+00_002019-05-30_23_59_59.532000+00_00.parquet before tick database dump for ticker EURUSD-testharness (databasesource.py:1701)\n",
      "2020-04-08 19:20:54,221; INFO:tcapy.data.databasesource: Parsing \\\\wsl$\\Ubuntu\\home\\tcapyuser\\csv_dump\\EURUSD_dukascopy_2019-06-02_21_01_02.358000+00_002019-06-30_23_59_59.336000+00_00.parquet before tick database dump for ticker EURUSD-testharness (databasesource.py:1701)\n",
      "2020-04-08 19:20:55,294; INFO:tcapy.data.databasesource: Parsing \\\\wsl$\\Ubuntu\\home\\tcapyuser\\csv_dump\\EURUSD_dukascopy_2019-07-01_00_00_00.173000+00_002019-07-31_23_59_59.914000+00_00.parquet before tick database dump for ticker EURUSD-testharness (databasesource.py:1701)\n",
      "2020-04-08 19:20:56,360; INFO:tcapy.data.databasesource: Parsing \\\\wsl$\\Ubuntu\\home\\tcapyuser\\csv_dump\\EURUSD_dukascopy_2019-08-01_00_00_00.134000+00_002019-08-29_23_59_57.067000+00_00.parquet before tick database dump for ticker EURUSD-testharness (databasesource.py:1701)\n",
      "2020-04-08 19:20:57,532; INFO:tcapy.data.databasesource: Parsing \\\\wsl$\\Ubuntu\\home\\tcapyuser\\csv_dump\\EURUSD_dukascopy_2019-09-01_21_04_09.364000+00_002019-09-30_23_59_59.830000+00_00.parquet before tick database dump for ticker EURUSD-testharness (databasesource.py:1701)\n",
      "2020-04-08 19:20:58,423; INFO:tcapy.data.databasesource: Parsing \\\\wsl$\\Ubuntu\\home\\tcapyuser\\csv_dump\\EURUSD_dukascopy_2019-10-01_00_00_00.002000+00_002019-10-31_23_59_53.804000+00_00.parquet before tick database dump for ticker EURUSD-testharness (databasesource.py:1701)\n",
      "2020-04-08 19:20:59,451; INFO:tcapy.data.databasesource: Parsing \\\\wsl$\\Ubuntu\\home\\tcapyuser\\csv_dump\\EURUSD_dukascopy_2019-11-03_22_00_04.956000+00_002019-11-28_23_59_46.180000+00_00.parquet before tick database dump for ticker EURUSD-testharness (databasesource.py:1701)\n",
      "2020-04-08 19:21:00,116; INFO:tcapy.data.databasesource: Parsing \\\\wsl$\\Ubuntu\\home\\tcapyuser\\csv_dump\\EURUSD_dukascopy_2019-12-01_22_00_03.296000+00_002019-12-31_21_59_57.829000+00_00.parquet before tick database dump for ticker EURUSD-testharness (databasesource.py:1701)\n",
      "2020-04-08 19:21:00,845; INFO:tcapy.data.databasesource: Parsing \\\\wsl$\\Ubuntu\\home\\tcapyuser\\csv_dump\\EURUSD_dukascopy_2020-01-01_22_01_12.821000+00_002020-01-30_23_59_57.058000+00_00.parquet before tick database dump for ticker EURUSD-testharness (databasesource.py:1701)\n",
      "2020-04-08 19:21:01,584; INFO:tcapy.data.databasesource: Parsing \\\\wsl$\\Ubuntu\\home\\tcapyuser\\csv_dump\\EURUSD_dukascopy_2020-02-02_22_00_14.503000+00_002020-02-27_23_59_58.483000+00_00.parquet before tick database dump for ticker EURUSD-testharness (databasesource.py:1701)\n",
      "2020-04-08 19:21:02,268; INFO:tcapy.data.databasesource: Parsing \\\\wsl$\\Ubuntu\\home\\tcapyuser\\csv_dump\\EURUSD_dukascopy_2020-03-01_22_00_01.729000+00_002020-03-31_23_59_57.265000+00_00.parquet before tick database dump for ticker EURUSD-testharness (databasesource.py:1701)\n"
     ]
    }
   ],
   "source": [
    "if upload_tick_data:\n",
    "    for i in range(0, len(ticker_mkt)):\n",
    "        ticker = ticker_mkt[i]\n",
    "        csv_file = csv_market_data[i]\n",
    "\n",
    "        print('Uploading ' + ticker)\n",
    "        \n",
    "        # Very first time, replace whole table, then append\n",
    "        # Otherwise will overwrite every ticker continuously!\n",
    "        if i == 0:\n",
    "            if_exists_table = 'replace'\n",
    "        else:\n",
    "            if_exists_table = 'append'\n",
    "        \n",
    "        database_source_market.convert_csv_to_table(csv_file, ticker, market_data_database_table,\n",
    "                                            if_exists_table=if_exists_table, remove_duplicates=False,\n",
    "                                            if_exists_ticker='replace', date_format=None,\n",
    "                                            read_in_reverse=False)"
   ]
  },
  {
   "cell_type": "markdown",
   "metadata": {},
   "source": [
    "There is a script `cache_data_vendor_data.py` which illustrates how to directly populate the database for market tick data from an external download.\n",
    "* `ONEOFF` - one off downloads from external data sources (either Dukascopy or NCFX) and write directly to the database\n",
    "* `DAILY_RUN_APPEND` - a regular download from external data sources (either Dukascopy or NCFX) and write directly to the database (note, that Dukascopy won't have the last few weeks of data), typically you could run this once every day, or potentionally on an even highly frequency than that."
   ]
  },
  {
   "cell_type": "code",
   "execution_count": 12,
   "metadata": {
    "ExecuteTime": {
     "end_time": "2020-04-08T22:16:19.557815Z",
     "start_time": "2020-04-08T22:16:18.998604Z"
    }
   },
   "outputs": [
    {
     "name": "stderr",
     "output_type": "stream",
     "text": [
      "2020-04-08 23:16:19,004; DEBUG:matplotlib.pyplot: Loaded backend module://ipykernel.pylab.backend_inline version unknown. (pyplot.py:225)\n",
      "2020-04-08 23:16:19,006; INFO:tcapy.data.databasesource: Attempting to load Arctic/MongoDB library: market_database_test_harness CHUNK_STORE (databasesource.py:1881)\n",
      "2020-04-08 23:16:19,007; INFO:tcapy.data.databasesource: Got Arctic/MongoDB library: market_database_test_harness CHUNK_STORE (databasesource.py:1901)\n",
      "2020-04-08 23:16:19,316; DEBUG:tcapy.data.databasesource: Extracted Arctic/MongoDB library: market_database_test_harness for ticker EURUSD-testharness between 2017-01-01 00:00:00 - 2017-02-01 00:00:00 from CHUNK_STORE (databasesource.py:1960)\n"
     ]
    },
    {
     "name": "stdout",
     "output_type": "stream",
     "text": [
      "                                mid\n",
      "Date                               \n",
      "2016-12-30 00:00:00+00:00  1.052560\n",
      "2017-01-02 00:00:00+00:00  1.045770\n",
      "2017-01-03 00:00:00+00:00  1.041765\n",
      "2017-01-04 00:00:00+00:00  1.049720\n",
      "2017-01-05 00:00:00+00:00  1.060400\n",
      "2017-01-06 00:00:00+00:00  1.052960\n",
      "2017-01-09 00:00:00+00:00  1.058605\n",
      "2017-01-10 00:00:00+00:00  1.055230\n",
      "2017-01-11 00:00:00+00:00  1.059430\n",
      "2017-01-12 00:00:00+00:00  1.061625\n",
      "2017-01-13 00:00:00+00:00  1.062750\n",
      "2017-01-16 00:00:00+00:00  1.060245\n",
      "2017-01-17 00:00:00+00:00  1.069665\n",
      "2017-01-18 00:00:00+00:00  1.062825\n",
      "2017-01-19 00:00:00+00:00  1.065935\n",
      "2017-01-20 00:00:00+00:00  1.071275\n",
      "2017-01-23 00:00:00+00:00  1.075930\n",
      "2017-01-24 00:00:00+00:00  1.072835\n",
      "2017-01-25 00:00:00+00:00  1.075270\n",
      "2017-01-26 00:00:00+00:00  1.068355\n",
      "2017-01-27 00:00:00+00:00  1.071720\n",
      "2017-01-30 00:00:00+00:00  1.070770\n",
      "2017-01-31 00:00:00+00:00  1.080100\n"
     ]
    }
   ],
   "source": [
    "%matplotlib inline\n",
    "\n",
    "import datetime\n",
    "import pandas as pd\n",
    "\n",
    "df = database_source_market.fetch_market_data(start_date='01 Jan 2017', finish_date='01 Feb 2017', ticker='EURUSD', \n",
    "                                             table_name=market_data_database_table)\n",
    "\n",
    "df = pd.DataFrame(df.resample('B').last())\n",
    "\n",
    "if 'mid' not in df.columns:\n",
    "    df['mid'] = (df['bid'] + df['ask']) / 2.0\n",
    "\n",
    "df = pd.DataFrame(df['mid'])\n",
    "\n",
    "print(df)"
   ]
  },
  {
   "cell_type": "markdown",
   "metadata": {},
   "source": [
    "# Conclusion\n",
    "\n",
    "We have examined the data formats tcapy expects for trade/order data, as well as market data.\n",
    "\n",
    "We have seen how to configure both MySQL and MongoDB to work with trade/order data respectively. We've also seen how we can populate a SQL database with trade/order data, using tcapy, and dump it back out. On the market data side, we've investigated how we can read from an external source (Dukascopy) and dump the market data to disk, as well as how to populate MongoDB with it, all via using tcapy. We also talked about how you can use SQLite and PyStore, as flat file alternatives, if you are likely to be the sole user of the tcpay.\n",
    "\n",
    "It is important you properly maintain your databases for tcapy or indeed for any purpose. If large periods of time have missing tick data for example, you wont' be able to do TCA over those periods. Also having lots of missing trade data in your SQL database, could result in biased results. Data is key to any sort of TCA!"
   ]
  }
 ],
 "metadata": {
  "kernelspec": {
   "display_name": "Python 3",
   "language": "python",
   "name": "python3"
  },
  "language_info": {
   "codemirror_mode": {
    "name": "ipython",
    "version": 3
   },
   "file_extension": ".py",
   "mimetype": "text/x-python",
   "name": "python",
   "nbconvert_exporter": "python",
   "pygments_lexer": "ipython3",
   "version": "3.6.10"
  },
  "toc": {
   "base_numbering": 1,
   "nav_menu": {},
   "number_sections": true,
   "sideBar": true,
   "skip_h1_title": false,
   "title_cell": "Table of Contents",
   "title_sidebar": "Contents",
   "toc_cell": false,
   "toc_position": {},
   "toc_section_display": true,
   "toc_window_display": false
  }
 },
 "nbformat": 4,
 "nbformat_minor": 4
}
