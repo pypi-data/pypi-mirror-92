{
 "cells": [
  {
   "cell_type": "code",
   "execution_count": null,
   "metadata": {},
   "outputs": [],
   "source": [
    "#hide\n"
   ]
  },
  {
   "cell_type": "markdown",
   "metadata": {},
   "source": [
    "# BioInformatics Tools kit\n",
    "\n",
    "> Summarized some useful tools in it."
   ]
  },
  {
   "cell_type": "markdown",
   "metadata": {},
   "source": [
    "BITK will help us manipulate data in different formats."
   ]
  },
  {
   "cell_type": "markdown",
   "metadata": {},
   "source": [
    "## Install"
   ]
  },
  {
   "cell_type": "markdown",
   "metadata": {},
   "source": [
    "`pip install bitk`"
   ]
  },
  {
   "cell_type": "markdown",
   "metadata": {},
   "source": [
    "## How to use"
   ]
  },
  {
   "cell_type": "markdown",
   "metadata": {},
   "source": [
    "### dedim.py\n",
    "\n"
   ]
  },
  {
   "cell_type": "markdown",
   "metadata": {},
   "source": [
    "```bash\n",
    "usage: dedim.py [-h] [--sep SEP] [--dedimensions-method DEDIMENSIONS_METHOD]\n",
    "                [--cluster-method CLUSTER_METHOD]\n",
    "                [--assess-method ASSESS_METHOD] [--dimensions DIMENSIONS]\n",
    "                [--cluster-number CLUSTER_NUMBER] [-r] [--no-row-feature]\n",
    "                [--annotation ANNOTATION] [--size SIZE] [--style STYLE]\n",
    "                [-t TITLE] [-f FIG] [--version]\n",
    "                matrix prefix\n",
    "\n",
    "positional arguments:\n",
    "  matrix                matrix table, if row represents feature, please note to add '--row-feature' option\n",
    "  prefix                output prefix\n",
    "\n",
    "optional arguments:\n",
    "  -h, --help            show this help message and exit\n",
    "  --sep SEP             separation\n",
    "                        (default: \t)\n",
    "  --dedimensions-method DEDIMENSIONS_METHOD\n",
    "                        de-dimensions method\n",
    "                        (default: PCA)\n",
    "  --cluster-method CLUSTER_METHOD\n",
    "                        cluster method\n",
    "                        (default: MiniBatchKMeans)\n",
    "  --assess-method ASSESS_METHOD\n",
    "                        assess methods for best cluster number\n",
    "                        (default: silhouette_score)\n",
    "  --dimensions DIMENSIONS\n",
    "                        reduce to n dimensions\n",
    "                        (default: 3)\n",
    "  --cluster-number CLUSTER_NUMBER\n",
    "                        cluster number, if not specific it, it will be the best cluster number infered\n",
    "                        (default: None)\n",
    "  -r, --row-feature     row in the matrix represents feature\n",
    "                        (default: True)\n",
    "  --no-row-feature\n",
    "  --annotation ANNOTATION\n",
    "                        annotation file, sep should be ','\n",
    "                        (default: None)\n",
    "  --size SIZE           size column in annotation file\n",
    "                        (default: None)\n",
    "  --style STYLE         style column in annotation file\n",
    "                        (default: None)\n",
    "  -t TITLE, --title TITLE\n",
    "                        figure title\n",
    "                        (default: None)\n",
    "  -f FIG, --fig FIG     png/pdf\n",
    "                        (default: png)\n",
    "  --version             show program's version number and exit\n",
    "```\n",
    "\n"
   ]
  },
  {
   "cell_type": "markdown",
   "metadata": {},
   "source": [
    "#### example\n",
    "\n",
    "```bash\n",
    "dedim.py tests/test.csv tests/test_result \\\n",
    "        --sep , --dimensions 2 \\\n",
    "        --no-row-feature --annotation tests/test_anno.csv \\\n",
    "        --style targets --title 'test PCA' \\\n",
    "        --dedimensions-method TSNE --fig png\n",
    "```\n",
    "\n",
    "![pca](tests/test_result_TSNE.png)"
   ]
  },
  {
   "cell_type": "markdown",
   "metadata": {},
   "source": [
    "### fc_rename.py"
   ]
  },
  {
   "cell_type": "markdown",
   "metadata": {},
   "source": [
    "```\n",
    "usage: fc_rename.py [-h] [-s SAMPLE_TITLE] [-b BAM_TITLE] [-c COUNT_TITLE]\n",
    "                    [--version]\n",
    "                    featurecounts clinical prefix\n",
    "\n",
    "featurecounts will use the bamfile name as the sample name. This script rename the featurecounts by the given table.\n",
    "\n",
    "positional arguments:\n",
    "  featurecounts         featurecounts table file\n",
    "  clinical              clinical table file with header\n",
    "  prefix                output prefix, there will be two outputs, one is count output (prefix_count.txt), and the other one is the rename featurecounts (prefix_fc.txt)\n",
    "\n",
    "optional arguments:\n",
    "  -h, --help            show this help message and exit\n",
    "  -s SAMPLE_TITLE, --sample-title SAMPLE_TITLE\n",
    "                        the column name of the sample name\n",
    "                        (default: sample)\n",
    "  -b BAM_TITLE, --bam-title BAM_TITLE\n",
    "                        the column name of the bamfile name\n",
    "                        (default: bam)\n",
    "  -c COUNT_TITLE, --count-title COUNT_TITLE\n",
    "                        the column name used as identity in count data\n",
    "                        (default: Geneid)\n",
    "  --version             show program's version number and exit\n",
    "```"
   ]
  },
  {
   "cell_type": "code",
   "execution_count": null,
   "metadata": {},
   "outputs": [],
   "source": []
  }
 ],
 "metadata": {
  "kernelspec": {
   "display_name": "Python 3",
   "language": "python",
   "name": "python3"
  }
 },
 "nbformat": 4,
 "nbformat_minor": 4
}
