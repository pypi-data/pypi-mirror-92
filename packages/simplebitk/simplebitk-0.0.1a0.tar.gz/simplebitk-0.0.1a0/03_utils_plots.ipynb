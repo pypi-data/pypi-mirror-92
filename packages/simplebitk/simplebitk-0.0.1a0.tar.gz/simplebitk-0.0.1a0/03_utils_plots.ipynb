{
 "cells": [
  {
   "cell_type": "code",
   "execution_count": null,
   "metadata": {},
   "outputs": [],
   "source": [
    "# default_exp utils.plots"
   ]
  },
  {
   "cell_type": "markdown",
   "metadata": {},
   "source": [
    "# plots"
   ]
  },
  {
   "cell_type": "code",
   "execution_count": null,
   "metadata": {},
   "outputs": [],
   "source": [
    "# export\n",
    "\n",
    "import matplotlib\n",
    "matplotlib.use('Agg')\n",
    "import matplotlib.pyplot as plt\n",
    "import seaborn as sns"
   ]
  },
  {
   "cell_type": "code",
   "execution_count": null,
   "metadata": {},
   "outputs": [],
   "source": [
    "# export\n",
    "\n",
    "def scatter_plots_for_reduce_dimensional(df,x,y,output=None,hue=None,size=None,style=None,xlabel=None,ylabel=None,title=None):\n",
    "    fig, ax = plt.subplots()\n",
    "    ax = sns.scatterplot(x=x, y=y, data=df,hue=hue,size=size,style=style,)\n",
    "    ax.legend(loc='best', ncol=2)\n",
    "    if xlabel is not None:\n",
    "        ax.set_xlabel(xlabel)\n",
    "    if ylabel is not None:\n",
    "        ax.set_ylabel(ylabel)\n",
    "    if title is not None:\n",
    "        ax.set_title(title)\n",
    "    if output is not None:\n",
    "        fig.savefig(output,dpi=300)"
   ]
  },
  {
   "cell_type": "code",
   "execution_count": null,
   "metadata": {},
   "outputs": [],
   "source": [
    "import numpy as np\n",
    "import pandas as pd\n",
    "\n",
    "scatter_plots_for_reduce_dimensional(pd.DataFrame(np.random.normal(2,3,(200,3)),columns=['test1','test2','expression']),\n",
    "                                    x='test1',y='test2',hue='expression')"
   ]
  },
  {
   "cell_type": "code",
   "execution_count": null,
   "metadata": {},
   "outputs": [],
   "source": [
    "scatter_plots_for_reduce_dimensional(pd.read_csv('tests/test_result_PHATE.csv'),x='TSNE1',y='TSNE2',style='targets',hue='MiniBatchKMeans')"
   ]
  },
  {
   "cell_type": "code",
   "execution_count": null,
   "metadata": {},
   "outputs": [],
   "source": [
    "scatter_plots_for_reduce_dimensional(pd.read_csv('tests/test_result_PHATE.csv'),x='TSNE1',y='TSNE2',output='tests/test.png',style='targets',hue='MiniBatchKMeans')"
   ]
  },
  {
   "cell_type": "code",
   "execution_count": null,
   "metadata": {},
   "outputs": [],
   "source": []
  }
 ],
 "metadata": {
  "kernelspec": {
   "display_name": "Python 3",
   "language": "python",
   "name": "python3"
  }
 },
 "nbformat": 4,
 "nbformat_minor": 4
}
