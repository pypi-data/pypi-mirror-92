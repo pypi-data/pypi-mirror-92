{
 "cells": [
  {
   "cell_type": "code",
   "execution_count": null,
   "metadata": {},
   "outputs": [],
   "source": [
    "# default_exp pipelines"
   ]
  },
  {
   "cell_type": "markdown",
   "metadata": {},
   "source": [
    "# pipelines"
   ]
  },
  {
   "cell_type": "code",
   "execution_count": null,
   "metadata": {},
   "outputs": [],
   "source": [
    "# export\n",
    "\n",
    "from simplebitk.utils import dedimensions\n",
    "from simplebitk.utils import clusters\n",
    "from simplebitk.utils import plots\n",
    "from simplebitk import defaults\n",
    "import pandas as pd\n",
    "from simplebitk.plots import compare_plots"
   ]
  },
  {
   "cell_type": "code",
   "execution_count": null,
   "metadata": {},
   "outputs": [],
   "source": [
    "# export\n",
    "\n",
    "def de_dimensions(matrix,prefix,*,sep='\\t',dedimensions_method='PCA',cluster_method='MiniBatchKMeans',\n",
    "                  assess_method='silhouette_score',\n",
    "                  dimensions=3,\n",
    "                  cluster_number=None,\n",
    "                  row_feature=True,annotation=None,size=None,style=None,title=None,fig='png'):\n",
    "    '''\n",
    "    \n",
    "    :param str matrix: matrix table, if row represents feature, please note to add '--row-feature' option\n",
    "    :param str prefix: output prefix\n",
    "    :param str sep: separation\n",
    "    :param str dedimensions_method: de-dimensions method\n",
    "    :param str cluster_method: cluster method\n",
    "    :param int dimensions: reduce to n dimensions\n",
    "    :param int cluster_number: cluster number, if not specific it, it will be the best cluster number infered\n",
    "    :param bool row_feature: row in the matrix represents feature\n",
    "    :param str assess_method: assess methods for best cluster number\n",
    "    :param str annotation: annotation file, sep should be ','\n",
    "    :param str size: size column in annotation file\n",
    "    :param str style: style column in annotation file\n",
    "    :param str title: figure title\n",
    "    :param str fig: png/pdf\n",
    "    '''\n",
    "    df = pd.read_csv(matrix,sep=sep,index_col=0)\n",
    "    if row_feature:\n",
    "        df = df.T\n",
    "    if annotation is not None:\n",
    "        anno = pd.read_csv(annotation,index_col=0)\n",
    "    else:\n",
    "        anno = None\n",
    "    \n",
    "    dedim_df,reducer = dedimensions.reduce_dimensional(df,\n",
    "                                                       method=dedimensions.de_dim_methods[dedimensions_method],\n",
    "                                                       n_components=dimensions)\n",
    "    if cluster_number is None:\n",
    "        best,records,peaks = clusters.find_best_cluster_number(dedim_df,\n",
    "                                                                  clusters.cluster_methods[cluster_method],\n",
    "                                                                  defaults.cluster_params,\n",
    "                                                                  ass_method=clusters.ass_methods[assess_method])\n",
    "        if len(best) == len(records):\n",
    "            cluster_number = 2\n",
    "        else:\n",
    "            cluster_number = best[0]\n",
    "    clustering = clusters.clusters_annotation(dedim_df,\n",
    "                                              clusters.cluster_methods[cluster_method],\n",
    "                                              defaults.cluster_params)\n",
    "    dedim_df[getattr(clusters.cluster_methods[cluster_method],'__name__')]= clustering\n",
    "    dedim_df=pd.concat([dedim_df,anno],axis=1)\n",
    "    dedim_df.to_csv(prefix+'_'+dedimensions_method+'.csv')\n",
    "    plots.scatter_plots_for_reduce_dimensional(dedim_df,dedimensions_method+'1',dedimensions_method+'2',\n",
    "                                               output=prefix+'_'+dedimensions_method+'.'+fig,\n",
    "                                               hue=getattr(clusters.cluster_methods[cluster_method],'__name__'),\n",
    "                                               size=size,style=style,\n",
    "                                               xlabel=dedimensions_method+'1',\n",
    "                                               ylabel=dedimensions_method+'2',\n",
    "                                               title=title)"
   ]
  },
  {
   "cell_type": "code",
   "execution_count": null,
   "metadata": {},
   "outputs": [],
   "source": [
    "# export\n",
    "\n",
    "def scatter_plot(table,output,* ,column1,column2,name1=None,name2=None,logscale=False,value_name='value',sep='\\t',\\\n",
    "                                                                                                          hue=None):\n",
    "    '''\n",
    "    scatter plot for two columns in the table\n",
    "\n",
    "    :param str table: table path\n",
    "    :param str output: output\n",
    "    :param str column1: the column 1 name\n",
    "    :param str column2: the column 2 name\n",
    "    :param str name1: name in the figure for column1\n",
    "    :param str name2: name in the figure for column2\n",
    "    :param str value_name: the value name, for example: expression, TPM?\n",
    "    :param str sep:\n",
    "    :param str hue:\n",
    "    :param bool logscale:\n",
    "    :return:\n",
    "    '''\n",
    "    df = pd.read_csv(table,sep=sep,index_col=0)\n",
    "    if None is name1:\n",
    "        name1=column1\n",
    "    if None is name2:\n",
    "        name2=column2\n",
    "    compare_plots(df,column1,column2,name1,name2,value_name,output,hue,logscale=logscale)"
   ]
  }
 ],
 "metadata": {
  "kernelspec": {
   "display_name": "Python 3",
   "language": "python",
   "name": "python3"
  }
 },
 "nbformat": 4,
 "nbformat_minor": 4
}
