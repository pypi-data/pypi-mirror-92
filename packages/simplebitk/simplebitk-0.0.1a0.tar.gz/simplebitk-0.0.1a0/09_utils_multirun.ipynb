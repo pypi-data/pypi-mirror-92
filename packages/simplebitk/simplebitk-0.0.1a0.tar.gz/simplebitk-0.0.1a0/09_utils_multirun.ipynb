{
 "cells": [
  {
   "cell_type": "code",
   "execution_count": null,
   "metadata": {},
   "outputs": [],
   "source": [
    "# default_exp utils.multirun"
   ]
  },
  {
   "cell_type": "markdown",
   "metadata": {},
   "source": [
    "# multirun"
   ]
  },
  {
   "cell_type": "code",
   "execution_count": null,
   "metadata": {},
   "outputs": [],
   "source": [
    "# export\n",
    "\n",
    "from multiprocessing import Pool"
   ]
  },
  {
   "cell_type": "code",
   "execution_count": null,
   "metadata": {},
   "outputs": [],
   "source": [
    "# export\n",
    "\n",
    "def parallel_run(func,args,thread=10):\n",
    "    pool = Pool(thread)\n",
    "    if isinstance(args[0],list):\n",
    "        results = pool.starmap(func,args)\n",
    "    else:\n",
    "        results = pool.map(func,args)\n",
    "    pool.close()\n",
    "    pool.join()\n",
    "    return results\n",
    "    "
   ]
  },
  {
   "cell_type": "code",
   "execution_count": null,
   "metadata": {},
   "outputs": [],
   "source": [
    "def self_print(a):\n",
    "    print('only one args:'+a+'\\n')\n",
    "    return f'{a}_only_one'\n",
    "\n",
    "def self_print2(a,b):\n",
    "    print('more than one args:'+a+','+b+'\\n')\n",
    "    return f'{a}_is_one_and_{b}_is_another_one'"
   ]
  },
  {
   "cell_type": "code",
   "execution_count": null,
   "metadata": {},
   "outputs": [],
   "source": [
    "args=[f'{i}_arg' for i in range(10)]\n",
    "args2=[[f'{i}_a',f'{i}_b'] for i in range(10)]"
   ]
  },
  {
   "cell_type": "code",
   "execution_count": null,
   "metadata": {},
   "outputs": [
    {
     "data": {
      "text/plain": [
       "['0_arg',\n",
       " '1_arg',\n",
       " '2_arg',\n",
       " '3_arg',\n",
       " '4_arg',\n",
       " '5_arg',\n",
       " '6_arg',\n",
       " '7_arg',\n",
       " '8_arg',\n",
       " '9_arg']"
      ]
     },
     "execution_count": null,
     "metadata": {},
     "output_type": "execute_result"
    }
   ],
   "source": [
    "args"
   ]
  },
  {
   "cell_type": "code",
   "execution_count": null,
   "metadata": {},
   "outputs": [
    {
     "data": {
      "text/plain": [
       "[['0_a', '0_b'],\n",
       " ['1_a', '1_b'],\n",
       " ['2_a', '2_b'],\n",
       " ['3_a', '3_b'],\n",
       " ['4_a', '4_b'],\n",
       " ['5_a', '5_b'],\n",
       " ['6_a', '6_b'],\n",
       " ['7_a', '7_b'],\n",
       " ['8_a', '8_b'],\n",
       " ['9_a', '9_b']]"
      ]
     },
     "execution_count": null,
     "metadata": {},
     "output_type": "execute_result"
    }
   ],
   "source": [
    "args2"
   ]
  },
  {
   "cell_type": "code",
   "execution_count": null,
   "metadata": {},
   "outputs": [
    {
     "name": "stdout",
     "output_type": "stream",
     "text": [
      "only one args:2_arg\n",
      "only one args:1_arg\n",
      "only one args:0_arg\n",
      "only one args:7_arg\n",
      "only one args:3_arg\n",
      "only one args:4_arg\n",
      "only one args:5_arg\n",
      "only one args:8_arg\n",
      "only one args:9_arg\n",
      "only one args:6_arg\n",
      "\n",
      "\n",
      "\n",
      "\n",
      "\n",
      "\n",
      "\n",
      "\n",
      "\n",
      "\n",
      "['0_arg_only_one', '1_arg_only_one', '2_arg_only_one', '3_arg_only_one', '4_arg_only_one', '5_arg_only_one', '6_arg_only_one', '7_arg_only_one', '8_arg_only_one', '9_arg_only_one']\n"
     ]
    }
   ],
   "source": [
    "results=parallel_run(self_print,args)\n",
    "print(results)"
   ]
  },
  {
   "cell_type": "code",
   "execution_count": null,
   "metadata": {},
   "outputs": [
    {
     "name": "stdout",
     "output_type": "stream",
     "text": [
      "more than one args:0_a,0_b\n",
      "more than one args:1_a,1_b\n",
      "more than one args:2_a,2_b\n",
      "more than one args:5_a,5_b\n",
      "more than one args:7_a,7_b\n",
      "more than one args:4_a,4_b\n",
      "more than one args:8_a,8_b\n",
      "more than one args:3_a,3_b\n",
      "more than one args:6_a,6_b\n",
      "more than one args:9_a,9_b\n",
      "\n",
      "\n",
      "\n",
      "\n",
      "\n",
      "\n",
      "\n",
      "\n",
      "\n",
      "\n",
      "['0_a_is_one_and_0_b_is_another_one', '1_a_is_one_and_1_b_is_another_one', '2_a_is_one_and_2_b_is_another_one', '3_a_is_one_and_3_b_is_another_one', '4_a_is_one_and_4_b_is_another_one', '5_a_is_one_and_5_b_is_another_one', '6_a_is_one_and_6_b_is_another_one', '7_a_is_one_and_7_b_is_another_one', '8_a_is_one_and_8_b_is_another_one', '9_a_is_one_and_9_b_is_another_one']\n"
     ]
    }
   ],
   "source": [
    "results=parallel_run(self_print2,args2)\n",
    "print(results)"
   ]
  }
 ],
 "metadata": {
  "kernelspec": {
   "display_name": "Python 3",
   "language": "python",
   "name": "python3"
  }
 },
 "nbformat": 4,
 "nbformat_minor": 4
}
