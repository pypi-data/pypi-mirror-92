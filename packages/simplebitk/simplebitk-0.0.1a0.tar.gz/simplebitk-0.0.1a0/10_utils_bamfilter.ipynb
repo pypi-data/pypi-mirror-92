{
 "cells": [
  {
   "cell_type": "code",
   "execution_count": null,
   "metadata": {},
   "outputs": [],
   "source": [
    "# default_exp utils.bamfilter"
   ]
  },
  {
   "cell_type": "markdown",
   "metadata": {},
   "source": [
    "# bamfilter"
   ]
  },
  {
   "cell_type": "code",
   "execution_count": null,
   "metadata": {},
   "outputs": [],
   "source": [
    "# export\n",
    "\n",
    "import pysam"
   ]
  },
  {
   "cell_type": "code",
   "execution_count": null,
   "metadata": {},
   "outputs": [],
   "source": [
    "# export\n",
    "\n",
    "def filter_bam_by_name(read_name_list,bamfile,output,*,included=True):\n",
    "    '''\n",
    "    Filter the bam by read name\n",
    "    \n",
    "    :param str read_name_list: read name list, could be names include or exclude\n",
    "    :param str bamfile: bam\n",
    "    :param str output: output bam file\n",
    "    :param bool included: whether the read names in the read name list should be included in the output bamfile or excluded in the output bamfile\n",
    "    \n",
    "    '''\n",
    "    with open(read_name_list,'r') as f:\n",
    "        name_list = f.read()\n",
    "    n=0\n",
    "    with pysam.AlignmentFile(bamfile,'rb') as inbam, pysam.AlignmentFile(output,'wb',template=inbam) as outbam:\n",
    "        for read in inbam.fetch():\n",
    "            n+=1\n",
    "            if n% 10000 ==0:\n",
    "                print(f'Working on the {n} reads')\n",
    "            if included:\n",
    "                if read.query_name in name_list:\n",
    "                    outbam.write(read)\n",
    "            else:\n",
    "                if read.query_name not in name_list:\n",
    "                    outbam.write(read)\n",
    "        "
   ]
  },
  {
   "cell_type": "code",
   "execution_count": null,
   "metadata": {},
   "outputs": [],
   "source": []
  }
 ],
 "metadata": {
  "kernelspec": {
   "display_name": "Python 3",
   "language": "python",
   "name": "python3"
  }
 },
 "nbformat": 4,
 "nbformat_minor": 4
}
