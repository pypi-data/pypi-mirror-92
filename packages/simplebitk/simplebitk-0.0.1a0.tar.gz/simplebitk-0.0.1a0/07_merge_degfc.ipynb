{
 "cells": [
  {
   "cell_type": "code",
   "execution_count": null,
   "metadata": {},
   "outputs": [],
   "source": [
    "# default_exp merge.degfc"
   ]
  },
  {
   "cell_type": "markdown",
   "metadata": {},
   "source": [
    "# degfc"
   ]
  },
  {
   "cell_type": "code",
   "execution_count": null,
   "metadata": {},
   "outputs": [],
   "source": [
    "# export\n",
    "\n",
    "import pandas as pd"
   ]
  },
  {
   "cell_type": "code",
   "execution_count": null,
   "metadata": {},
   "outputs": [],
   "source": [
    "# export\n",
    "\n",
    "def merge_fc_deseq2(featurecounts_file,deseq2_file,output,*,key_in_fc='Geneid',key_in_deseq2='Unnamed: 0'):\n",
    "    '''\n",
    "\n",
    "    :param str featurecounts_file: featurecount like file\n",
    "    :param str deseq2_file: deseq2 result file, separated by comma\n",
    "    :param str output: output\n",
    "    :param str key_in_fc: key column used to merge in featurecount\n",
    "    :param str key_in_deseq2: key column used to merge in deseq2\n",
    "    :return:\n",
    "    '''\n",
    "    fc = pd.read_csv(featurecounts_file,sep='\\t',comment='#')\n",
    "    deseq2 = pd.read_csv(deseq2_file,comment='#')\n",
    "    merged = fc.merge(deseq2,how='left',left_on=key_in_fc,right_on=key_in_deseq2)\n",
    "    merged.to_csv(output,index=False)"
   ]
  }
 ],
 "metadata": {
  "kernelspec": {
   "display_name": "Python 3",
   "language": "python",
   "name": "python3"
  }
 },
 "nbformat": 4,
 "nbformat_minor": 4
}
