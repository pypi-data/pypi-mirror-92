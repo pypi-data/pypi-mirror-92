{
 "cells": [
  {
   "cell_type": "code",
   "execution_count": null,
   "metadata": {},
   "outputs": [],
   "source": [
    "# default_exp run_all"
   ]
  },
  {
   "cell_type": "markdown",
   "metadata": {},
   "source": [
    "# run_all"
   ]
  },
  {
   "cell_type": "code",
   "execution_count": null,
   "metadata": {},
   "outputs": [],
   "source": [
    "# export\n",
    "\n",
    "import defopt\n",
    "from simplebitk.pipelines import de_dimensions,scatter_plot\n",
    "from simplebitk.preprocess import featurecount_rename\n",
    "from simplebitk.merge.degfc import merge_fc_deseq2\n",
    "from simplebitk.nanopore import polya_length_correlation\n",
    "from simplebitk.utils.bamfilter import filter_bam_by_name\n",
    "from simplebitk.bam.reads import extract_sequences"
   ]
  },
  {
   "cell_type": "code",
   "execution_count": null,
   "metadata": {},
   "outputs": [],
   "source": [
    "# export\n",
    "\n",
    "\n",
    "def run_main():\n",
    "    defopt.run([de_dimensions,\n",
    "                featurecount_rename,\n",
    "                merge_fc_deseq2,\n",
    "                polya_length_correlation,\n",
    "                scatter_plot,\n",
    "                filter_bam_by_name,\n",
    "                extract_sequences\n",
    "                ])\n",
    "    \n"
   ]
  },
  {
   "cell_type": "code",
   "execution_count": null,
   "metadata": {},
   "outputs": [],
   "source": [
    "# run_main()"
   ]
  },
  {
   "cell_type": "code",
   "execution_count": null,
   "metadata": {},
   "outputs": [
    {
     "name": "stdout",
     "output_type": "stream",
     "text": [
      "Converted 00_utils_rd.ipynb.\nConverted 01_pipelines.ipynb.\nConverted 02_mains.ipynb.\nConverted 03_utils_plots.ipynb.\nConverted 04_utils_clusters.ipynb.\nConverted 05_default.ipynb.\nConverted 06_preprocess.ipynb.\nConverted 07_merge_degfc.ipynb.\nConverted 08_polya_sites.ipynb.\nConverted 09_utils_multirun.ipynb.\nConverted 10_utils_bamfilter.ipynb.\nConverted 11_plots.ipynb.\nConverted 12_reads_head.ipynb.\nConverted index.ipynb.\n"
     ]
    }
   ],
   "source": [
    "from nbdev.export import notebook2script\n",
    "notebook2script()"
   ]
  },
  {
   "cell_type": "code",
   "execution_count": null,
   "metadata": {},
   "outputs": [],
   "source": []
  }
 ],
 "metadata": {
  "kernelspec": {
   "display_name": "Python 3",
   "language": "python",
   "name": "python3"
  }
 },
 "nbformat": 4,
 "nbformat_minor": 4
}
